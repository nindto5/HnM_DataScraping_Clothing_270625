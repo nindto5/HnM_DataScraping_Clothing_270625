{
 "cells": [
  {
   "cell_type": "code",
   "execution_count": 2,
   "id": "a868e61f-1644-4abc-add0-60f57b2cf4af",
   "metadata": {},
   "outputs": [],
   "source": [
    "import requests\n",
    "import json\n",
    "import time\n",
    "import pandas as pd\n",
    "import re \n",
    "from tqdm import tqdm\n",
    "from requests.adapters import HTTPAdapter\n",
    "from urllib3.util.retry import Retry"
   ]
  },
  {
   "cell_type": "code",
   "execution_count": 3,
   "id": "a1a3932e-32ff-4477-9d4b-a34b99862ae7",
   "metadata": {},
   "outputs": [
    {
     "name": "stdout",
     "output_type": "stream",
     "text": [
      "Scraping product listing page 1...\n",
      "\n",
      "--- FIRST PRODUCT LISTING PAGE RAW JSON RESPONSE (for debugging) ---\n",
      "{\n",
      "  \"requestDateTime\": \"2025-07-01T13:38:05.292Z\",\n",
      "  \"responseSource\": \"Elevate\",\n",
      "  \"pagination\": {\n",
      "    \"currentPage\": 1,\n",
      "    \"nextPageNum\": 2,\n",
      "    \"totalPages\": 180\n",
      "  },\n",
      "  \"plpList\": {\n",
      "    \"productList\": [\n",
      "      {\n",
      "        \"id\": \"1297396001\",\n",
      "        \"trackingId\": \"OzU7IzsxMjk3Mzk2MDAxOyM7IzsvZmFzaGlvbi9ERVNLVE9QL0xBTkRJTkdfUEFHRS9OQVZJR0FUSU9OX1JFU1VMVDsjOyM7T0JKRUNUSVZFJDsxOzc5OyM7IzsvbGFkaWVzL3Nob3AtYnktcHJvZHVjdC92aWV3LWFsbDs_e4\",\n",
      "        \"flexiLayoutType\": \"BIG_PORTRAIT\",\n",
      "        \"productName\": \"A-Line Skirt\",\n",
      "        \"external\": false,\n",
      "        \"brandName\": \"H&M\",\n",
      "        \"url\": \"/en_us/productpage.1297396001.html\",\n",
      "        \"showPriceMarker\": false,\n",
      "        \"prices\": [\n",
      "          {\n",
      "            \"priceType\": \"whitePrice\",\n",
      "            \"price\": 42.99,\n",
      "            \"minPrice\": 42.99,\n",
      "            \"maxPrice\": 42.99,\n",
      "            \"formattedPrice\": \"$ 42.99\"\n",
      "          }\n",
      "        ],\n",
      "        \"availability\": {\n",
      "          \"stockState\": \"Available\",\n",
      "          \"comingSoon\": false\n",
      "        },\n",
      "        \"swatches\": [\n",
      "          {\n",
      "            \"articleId\": \"1297396001\",\n",
      "            \"url\": \"/en_us/productpage.1297396001.html\",\n",
      "            \"colorName\": \"White/lemons\",\n",
      "            \"colorCode\": \"ECE7E1\",\n",
      "            \"trackingId\": \"OzU7IzsxMjk3Mzk2MDAxOyM7IzsvZmFzaGlvbi9ERVNLVE9QL0xBTkRJTkdfUEFHRS9OQVZJR0FUSU9OX1JFU1VMVDsjOyM7T0JKRUNUSVZFJDsxOzc5OyM7IzsvbGFkaWVzL3Nob3AtYnktcHJvZHVjdC92aWV3LWFsbDs_e4\",\n",
      "            \"productImage\": \"https://image.hm.com/assets/hm/8f/18/8f18e9085a9922ce75c8ceefd8184dca25871440.jpg\"\n",
      "          }\n",
      "        ],\n",
      "        \"productMarkers\": [],\n",
      "        \"images\": [\n",
      "          {\n",
      "            \"url\": \"https://image.hm.com/assets/hm/be/aa/beaa6856a17f684b912e3ed3ea5d96a71c888573.jpg\"\n",
      "          },\n",
      "          {\n",
      "            \"url\": \"https://image.hm.com/assets/hm/29/ed/29ed60442ab4164bbd547debe23caa1f947b68d3.jpg\"\n",
      "          },\n",
      "          {\n",
      "            \"url\": \"https://image.hm.com/assets/hm/44/5c/445c55b03ca20f7841d53f8179ab5fe451d97c39.jpg\"\n",
      "          }\n",
      "        ],\n",
      "        \"hasVideo\": fals\n",
      "--------------------------------------------------------------------\n",
      "\n",
      "Total products (extracted, potentially estimated): 6480, Total pages (extracted): 180\n",
      "Scraping product listing page 2...\n",
      "Scraping product listing page 3...\n",
      "Scraping product listing page 4...\n",
      "Scraping product listing page 5...\n",
      "Scraping product listing page 6...\n",
      "Scraping product listing page 7...\n",
      "Scraping product listing page 8...\n",
      "Scraping product listing page 9...\n",
      "Scraping product listing page 10...\n",
      "Scraping product listing page 11...\n",
      "Scraping product listing page 12...\n",
      "Scraping product listing page 13...\n",
      "Scraping product listing page 14...\n",
      "Scraping product listing page 15...\n",
      "Scraping product listing page 16...\n",
      "Scraping product listing page 17...\n",
      "Scraping product listing page 18...\n",
      "Scraping product listing page 19...\n",
      "Scraping product listing page 20...\n",
      "Scraping product listing page 21...\n",
      "Scraping product listing page 22...\n",
      "Scraping product listing page 23...\n",
      "Scraping product listing page 24...\n",
      "Scraping product listing page 25...\n",
      "Scraping product listing page 26...\n",
      "Scraping product listing page 27...\n",
      "Scraping product listing page 28...\n",
      "Scraping product listing page 29...\n",
      "Scraping product listing page 30...\n",
      "Scraping product listing page 31...\n",
      "Scraping product listing page 32...\n",
      "Scraping product listing page 33...\n",
      "Scraping product listing page 34...\n",
      "Scraping product listing page 35...\n",
      "Scraping product listing page 36...\n",
      "Scraping product listing page 37...\n",
      "Scraping product listing page 38...\n",
      "Scraping product listing page 39...\n",
      "Scraping product listing page 40...\n",
      "Scraping product listing page 41...\n",
      "Scraping product listing page 42...\n",
      "Scraping product listing page 43...\n",
      "Scraping product listing page 44...\n",
      "Scraping product listing page 45...\n",
      "Scraping product listing page 46...\n",
      "Scraping product listing page 47...\n",
      "Scraping product listing page 48...\n",
      "Scraping product listing page 49...\n",
      "Scraping product listing page 50...\n",
      "Scraping product listing page 51...\n",
      "Scraping product listing page 52...\n",
      "Scraping product listing page 53...\n",
      "Scraping product listing page 54...\n",
      "Scraping product listing page 55...\n",
      "Scraping product listing page 56...\n",
      "Scraping product listing page 57...\n",
      "Scraping product listing page 58...\n",
      "Scraping product listing page 59...\n",
      "Scraping product listing page 60...\n",
      "Scraping product listing page 61...\n",
      "Scraping product listing page 62...\n",
      "Scraping product listing page 63...\n",
      "Scraping product listing page 64...\n",
      "Scraping product listing page 65...\n",
      "Scraping product listing page 66...\n",
      "Scraping product listing page 67...\n",
      "Scraping product listing page 68...\n",
      "Scraping product listing page 69...\n",
      "Scraping product listing page 70...\n",
      "Scraping product listing page 71...\n",
      "Scraping product listing page 72...\n",
      "Scraping product listing page 73...\n",
      "Scraping product listing page 74...\n",
      "Scraping product listing page 75...\n",
      "Scraping product listing page 76...\n",
      "Scraping product listing page 77...\n",
      "Scraping product listing page 78...\n",
      "Scraping product listing page 79...\n",
      "Scraping product listing page 80...\n",
      "Scraping product listing page 81...\n",
      "Scraping product listing page 82...\n",
      "Scraping product listing page 83...\n",
      "Scraping product listing page 84...\n",
      "Scraping product listing page 85...\n",
      "Scraping product listing page 86...\n",
      "Scraping product listing page 87...\n",
      "Scraping product listing page 88...\n",
      "Scraping product listing page 89...\n",
      "Scraping product listing page 90...\n",
      "Scraping product listing page 91...\n",
      "Scraping product listing page 92...\n",
      "Scraping product listing page 93...\n",
      "Scraping product listing page 94...\n",
      "Scraping product listing page 95...\n",
      "Scraping product listing page 96...\n",
      "Scraping product listing page 97...\n",
      "Scraping product listing page 98...\n",
      "Scraping product listing page 99...\n",
      "Scraping product listing page 100...\n",
      "Scraping product listing page 101...\n",
      "Scraping product listing page 102...\n",
      "Scraping product listing page 103...\n",
      "Scraping product listing page 104...\n",
      "Scraping product listing page 105...\n",
      "Scraping product listing page 106...\n",
      "Scraping product listing page 107...\n",
      "Scraping product listing page 108...\n",
      "Scraping product listing page 109...\n",
      "Scraping product listing page 110...\n",
      "Scraping product listing page 111...\n",
      "Scraping product listing page 112...\n",
      "Scraping product listing page 113...\n",
      "Scraping product listing page 114...\n",
      "Scraping product listing page 115...\n",
      "Scraping product listing page 116...\n",
      "Scraping product listing page 117...\n",
      "Scraping product listing page 118...\n",
      "Scraping product listing page 119...\n",
      "Scraping product listing page 120...\n",
      "Scraping product listing page 121...\n",
      "Scraping product listing page 122...\n",
      "Scraping product listing page 123...\n",
      "Scraping product listing page 124...\n",
      "Scraping product listing page 125...\n",
      "Scraping product listing page 126...\n",
      "Scraping product listing page 127...\n",
      "Scraping product listing page 128...\n",
      "Scraping product listing page 129...\n",
      "Scraping product listing page 130...\n",
      "Scraping product listing page 131...\n",
      "Scraping product listing page 132...\n",
      "Scraping product listing page 133...\n",
      "Scraping product listing page 134...\n",
      "Scraping product listing page 135...\n",
      "Scraping product listing page 136...\n",
      "Scraping product listing page 137...\n",
      "Scraping product listing page 138...\n",
      "Scraping product listing page 139...\n",
      "Scraping product listing page 140...\n",
      "Scraping product listing page 141...\n",
      "Scraping product listing page 142...\n",
      "Scraping product listing page 143...\n",
      "Scraping product listing page 144...\n",
      "Scraping product listing page 145...\n",
      "Scraping product listing page 146...\n",
      "Scraping product listing page 147...\n",
      "Scraping product listing page 148...\n",
      "Scraping product listing page 149...\n",
      "Scraping product listing page 150...\n",
      "Scraping product listing page 151...\n",
      "Scraping product listing page 152...\n",
      "Scraping product listing page 153...\n",
      "Scraping product listing page 154...\n",
      "Scraping product listing page 155...\n",
      "Scraping product listing page 156...\n",
      "Scraping product listing page 157...\n",
      "Scraping product listing page 158...\n",
      "Scraping product listing page 159...\n",
      "Scraping product listing page 160...\n",
      "Scraping product listing page 161...\n",
      "Scraping product listing page 162...\n",
      "Scraping product listing page 163...\n",
      "Scraping product listing page 164...\n",
      "Scraping product listing page 165...\n",
      "Scraping product listing page 166...\n",
      "Scraping product listing page 167...\n",
      "Scraping product listing page 168...\n",
      "Scraping product listing page 169...\n",
      "Scraping product listing page 170...\n",
      "Scraping product listing page 171...\n",
      "Scraping product listing page 172...\n",
      "Scraping product listing page 173...\n",
      "Scraping product listing page 174...\n",
      "Scraping product listing page 175...\n",
      "Scraping product listing page 176...\n",
      "Scraping product listing page 177...\n",
      "Scraping product listing page 178...\n",
      "Scraping product listing page 179...\n",
      "Scraping product listing page 180...\n",
      "Finished scraping 6468 raw product entries.\n"
     ]
    },
    {
     "name": "stderr",
     "output_type": "stream",
     "text": [
      "Fetching Supplier Details:   1%|▏                                            | 35/6468 [00:39<10:54:46,  6.11s/product]"
     ]
    },
    {
     "name": "stdout",
     "output_type": "stream",
     "text": [
      "Error fetching supplier for SKU 1291546001 after 5 retries: HTTPSConnectionPool(host='www2.hm.com', port=443): Max retries exceeded with url: /en_us/supplierDetails/articles/1291546001 (Caused by ResponseError('too many 400 error responses'))\n"
     ]
    },
    {
     "name": "stderr",
     "output_type": "stream",
     "text": [
      "Fetching Supplier Details:   2%|▉                                           | 138/6468 [01:51<10:01:56,  5.71s/product]"
     ]
    },
    {
     "name": "stdout",
     "output_type": "stream",
     "text": [
      "Error fetching supplier for SKU 1259172002 after 5 retries: HTTPSConnectionPool(host='www2.hm.com', port=443): Max retries exceeded with url: /en_us/supplierDetails/articles/1259172002 (Caused by ResponseError('too many 400 error responses'))\n"
     ]
    },
    {
     "name": "stderr",
     "output_type": "stream",
     "text": [
      "Fetching Supplier Details:   2%|▉                                           | 145/6468 [02:12<10:49:47,  6.17s/product]"
     ]
    },
    {
     "name": "stdout",
     "output_type": "stream",
     "text": [
      "Error fetching supplier for SKU 1293464003 after 5 retries: HTTPSConnectionPool(host='www2.hm.com', port=443): Max retries exceeded with url: /en_us/supplierDetails/articles/1293464003 (Caused by ResponseError('too many 400 error responses'))\n"
     ]
    },
    {
     "name": "stderr",
     "output_type": "stream",
     "text": [
      "Fetching Supplier Details:   3%|█▏                                          | 177/6468 [02:54<10:49:13,  6.19s/product]"
     ]
    },
    {
     "name": "stdout",
     "output_type": "stream",
     "text": [
      "Error fetching supplier for SKU 1292674001 after 5 retries: HTTPSConnectionPool(host='www2.hm.com', port=443): Max retries exceeded with url: /en_us/supplierDetails/articles/1292674001 (Caused by ResponseError('too many 400 error responses'))\n"
     ]
    },
    {
     "name": "stderr",
     "output_type": "stream",
     "text": [
      "Fetching Supplier Details:   3%|█▏                                          | 179/6468 [03:12<14:51:07,  8.50s/product]"
     ]
    },
    {
     "name": "stdout",
     "output_type": "stream",
     "text": [
      "Error fetching supplier for SKU 1290779003 after 5 retries: HTTPSConnectionPool(host='www2.hm.com', port=443): Max retries exceeded with url: /en_us/supplierDetails/articles/1290779003 (Caused by ResponseError('too many 400 error responses'))\n"
     ]
    },
    {
     "name": "stderr",
     "output_type": "stream",
     "text": [
      "Fetching Supplier Details:   3%|█▏                                          | 181/6468 [03:31<16:51:29,  9.65s/product]"
     ]
    },
    {
     "name": "stdout",
     "output_type": "stream",
     "text": [
      "Error fetching supplier for SKU 1283190009 after 5 retries: HTTPSConnectionPool(host='www2.hm.com', port=443): Max retries exceeded with url: /en_us/supplierDetails/articles/1283190009 (Caused by ResponseError('too many 400 error responses'))\n"
     ]
    },
    {
     "name": "stderr",
     "output_type": "stream",
     "text": [
      "Fetching Supplier Details:   3%|█▎                                          | 189/6468 [03:57<12:07:37,  6.95s/product]"
     ]
    },
    {
     "name": "stdout",
     "output_type": "stream",
     "text": [
      "Error fetching supplier for SKU 1293464001 after 5 retries: HTTPSConnectionPool(host='www2.hm.com', port=443): Max retries exceeded with url: /en_us/supplierDetails/articles/1293464001 (Caused by ResponseError('too many 400 error responses'))\n"
     ]
    },
    {
     "name": "stderr",
     "output_type": "stream",
     "text": [
      "Fetching Supplier Details:   3%|█▎                                          | 190/6468 [04:14<17:38:36, 10.12s/product]"
     ]
    },
    {
     "name": "stdout",
     "output_type": "stream",
     "text": [
      "Error fetching supplier for SKU 1296523004 after 5 retries: HTTPSConnectionPool(host='www2.hm.com', port=443): Max retries exceeded with url: /en_us/supplierDetails/articles/1296523004 (Caused by ResponseError('too many 400 error responses'))\n"
     ]
    },
    {
     "name": "stderr",
     "output_type": "stream",
     "text": [
      "Fetching Supplier Details:   3%|█▎                                          | 192/6468 [04:33<18:03:23, 10.36s/product]"
     ]
    },
    {
     "name": "stdout",
     "output_type": "stream",
     "text": [
      "Error fetching supplier for SKU 0925212032 after 5 retries: HTTPSConnectionPool(host='www2.hm.com', port=443): Max retries exceeded with url: /en_us/supplierDetails/articles/0925212032 (Caused by ResponseError('too many 400 error responses'))\n"
     ]
    },
    {
     "name": "stderr",
     "output_type": "stream",
     "text": [
      "Fetching Supplier Details:   4%|█▌                                           | 229/6468 [05:15<9:47:31,  5.65s/product]"
     ]
    },
    {
     "name": "stdout",
     "output_type": "stream",
     "text": [
      "Error fetching supplier for SKU 1255393005 after 5 retries: HTTPSConnectionPool(host='www2.hm.com', port=443): Max retries exceeded with url: /en_us/supplierDetails/articles/1255393005 (Caused by ResponseError('too many 400 error responses'))\n"
     ]
    },
    {
     "name": "stderr",
     "output_type": "stream",
     "text": [
      "Fetching Supplier Details:   4%|█▊                                          | 259/6468 [05:55<10:12:11,  5.92s/product]"
     ]
    },
    {
     "name": "stdout",
     "output_type": "stream",
     "text": [
      "Error fetching supplier for SKU 1296379010 after 5 retries: HTTPSConnectionPool(host='www2.hm.com', port=443): Max retries exceeded with url: /en_us/supplierDetails/articles/1296379010 (Caused by ResponseError('too many 400 error responses'))\n"
     ]
    },
    {
     "name": "stderr",
     "output_type": "stream",
     "text": [
      "Fetching Supplier Details:   4%|█▉                                          | 289/6468 [06:31<10:00:22,  5.83s/product]"
     ]
    },
    {
     "name": "stdout",
     "output_type": "stream",
     "text": [
      "Error fetching supplier for SKU 1296379012 after 5 retries: HTTPSConnectionPool(host='www2.hm.com', port=443): Max retries exceeded with url: /en_us/supplierDetails/articles/1296379012 (Caused by ResponseError('too many 400 error responses'))\n"
     ]
    },
    {
     "name": "stderr",
     "output_type": "stream",
     "text": [
      "Fetching Supplier Details:   5%|██                                          | 294/6468 [06:51<11:32:23,  6.73s/product]"
     ]
    },
    {
     "name": "stdout",
     "output_type": "stream",
     "text": [
      "Error fetching supplier for SKU 1296054010 after 5 retries: HTTPSConnectionPool(host='www2.hm.com', port=443): Max retries exceeded with url: /en_us/supplierDetails/articles/1296054010 (Caused by ResponseError('too many 400 error responses'))\n"
     ]
    },
    {
     "name": "stderr",
     "output_type": "stream",
     "text": [
      "Fetching Supplier Details:   5%|██                                          | 301/6468 [07:12<10:38:47,  6.21s/product]"
     ]
    },
    {
     "name": "stdout",
     "output_type": "stream",
     "text": [
      "Error fetching supplier for SKU 1278148009 after 5 retries: HTTPSConnectionPool(host='www2.hm.com', port=443): Max retries exceeded with url: /en_us/supplierDetails/articles/1278148009 (Caused by ResponseError('too many 400 error responses'))\n"
     ]
    },
    {
     "name": "stderr",
     "output_type": "stream",
     "text": [
      "Fetching Supplier Details:   5%|██▏                                         | 317/6468 [07:38<10:09:10,  5.94s/product]"
     ]
    },
    {
     "name": "stdout",
     "output_type": "stream",
     "text": [
      "Error fetching supplier for SKU 1296379008 after 5 retries: HTTPSConnectionPool(host='www2.hm.com', port=443): Max retries exceeded with url: /en_us/supplierDetails/articles/1296379008 (Caused by ResponseError('too many 400 error responses'))\n"
     ]
    },
    {
     "name": "stderr",
     "output_type": "stream",
     "text": [
      "Fetching Supplier Details:   6%|██▋                                          | 392/6468 [08:35<9:30:52,  5.64s/product]"
     ]
    },
    {
     "name": "stdout",
     "output_type": "stream",
     "text": [
      "Error fetching supplier for SKU 1295690002 after 5 retries: HTTPSConnectionPool(host='www2.hm.com', port=443): Max retries exceeded with url: /en_us/supplierDetails/articles/1295690002 (Caused by ResponseError('too many 400 error responses'))\n"
     ]
    },
    {
     "name": "stderr",
     "output_type": "stream",
     "text": [
      "Fetching Supplier Details:   7%|███                                         | 456/6468 [09:24<10:02:20,  6.01s/product]"
     ]
    },
    {
     "name": "stdout",
     "output_type": "stream",
     "text": [
      "Error fetching supplier for SKU 1290248003 after 5 retries: HTTPSConnectionPool(host='www2.hm.com', port=443): Max retries exceeded with url: /en_us/supplierDetails/articles/1290248003 (Caused by ResponseError('too many 400 error responses'))\n"
     ]
    },
    {
     "name": "stderr",
     "output_type": "stream",
     "text": [
      "Fetching Supplier Details:   8%|███▌                                        | 530/6468 [10:27<10:16:50,  6.23s/product]"
     ]
    },
    {
     "name": "stdout",
     "output_type": "stream",
     "text": [
      "Error fetching supplier for SKU 1296379005 after 5 retries: HTTPSConnectionPool(host='www2.hm.com', port=443): Max retries exceeded with url: /en_us/supplierDetails/articles/1296379005 (Caused by ResponseError('too many 400 error responses'))\n"
     ]
    },
    {
     "name": "stderr",
     "output_type": "stream",
     "text": [
      "Fetching Supplier Details:   9%|███▊                                         | 552/6468 [10:58<9:33:21,  5.81s/product]"
     ]
    },
    {
     "name": "stdout",
     "output_type": "stream",
     "text": [
      "Error fetching supplier for SKU 1296379006 after 5 retries: HTTPSConnectionPool(host='www2.hm.com', port=443): Max retries exceeded with url: /en_us/supplierDetails/articles/1296379006 (Caused by ResponseError('too many 400 error responses'))\n"
     ]
    },
    {
     "name": "stderr",
     "output_type": "stream",
     "text": [
      "Fetching Supplier Details:   9%|███▉                                         | 568/6468 [11:24<9:20:19,  5.70s/product]"
     ]
    },
    {
     "name": "stdout",
     "output_type": "stream",
     "text": [
      "Error fetching supplier for SKU 1291546004 after 5 retries: HTTPSConnectionPool(host='www2.hm.com', port=443): Max retries exceeded with url: /en_us/supplierDetails/articles/1291546004 (Caused by ResponseError('too many 400 error responses'))\n"
     ]
    },
    {
     "name": "stderr",
     "output_type": "stream",
     "text": [
      "Fetching Supplier Details:   9%|███▉                                        | 572/6468 [11:44<11:51:27,  7.24s/product]"
     ]
    },
    {
     "name": "stdout",
     "output_type": "stream",
     "text": [
      "Error fetching supplier for SKU 0971104032 after 5 retries: HTTPSConnectionPool(host='www2.hm.com', port=443): Max retries exceeded with url: /en_us/supplierDetails/articles/0971104032 (Caused by ResponseError('too many 400 error responses'))\n"
     ]
    },
    {
     "name": "stderr",
     "output_type": "stream",
     "text": [
      "Fetching Supplier Details:   9%|████                                         | 583/6468 [12:07<9:36:38,  5.88s/product]"
     ]
    },
    {
     "name": "stdout",
     "output_type": "stream",
     "text": [
      "Error fetching supplier for SKU 1259065009 after 5 retries: HTTPSConnectionPool(host='www2.hm.com', port=443): Max retries exceeded with url: /en_us/supplierDetails/articles/1259065009 (Caused by ResponseError('too many 400 error responses'))\n"
     ]
    },
    {
     "name": "stderr",
     "output_type": "stream",
     "text": [
      "Fetching Supplier Details:  10%|████▍                                        | 643/6468 [13:01<9:38:26,  5.96s/product]"
     ]
    },
    {
     "name": "stdout",
     "output_type": "stream",
     "text": [
      "Error fetching supplier for SKU 1259098001 after 5 retries: HTTPSConnectionPool(host='www2.hm.com', port=443): Max retries exceeded with url: /en_us/supplierDetails/articles/1259098001 (Caused by ResponseError('too many 400 error responses'))\n"
     ]
    },
    {
     "name": "stderr",
     "output_type": "stream",
     "text": [
      "Fetching Supplier Details:  10%|████▌                                        | 661/6468 [13:28<9:07:48,  5.66s/product]"
     ]
    },
    {
     "name": "stdout",
     "output_type": "stream",
     "text": [
      "Error fetching supplier for SKU 1280532001 after 5 retries: HTTPSConnectionPool(host='www2.hm.com', port=443): Max retries exceeded with url: /en_us/supplierDetails/articles/1280532001 (Caused by ResponseError('too many 400 error responses'))\n"
     ]
    },
    {
     "name": "stderr",
     "output_type": "stream",
     "text": [
      "Fetching Supplier Details:  10%|████▌                                       | 672/6468 [13:54<10:22:21,  6.44s/product]"
     ]
    },
    {
     "name": "stdout",
     "output_type": "stream",
     "text": [
      "Error fetching supplier for SKU 1259098001 after 5 retries: HTTPSConnectionPool(host='www2.hm.com', port=443): Max retries exceeded with url: /en_us/supplierDetails/articles/1259098001 (Caused by ResponseError('too many 400 error responses'))\n"
     ]
    },
    {
     "name": "stderr",
     "output_type": "stream",
     "text": [
      "Fetching Supplier Details:  11%|████▊                                        | 683/6468 [14:19<9:53:27,  6.16s/product]"
     ]
    },
    {
     "name": "stdout",
     "output_type": "stream",
     "text": [
      "Error fetching supplier for SKU 0971104034 after 5 retries: HTTPSConnectionPool(host='www2.hm.com', port=443): Max retries exceeded with url: /en_us/supplierDetails/articles/0971104034 (Caused by ResponseError('too many 400 error responses'))\n"
     ]
    },
    {
     "name": "stderr",
     "output_type": "stream",
     "text": [
      "Fetching Supplier Details:  11%|█████                                        | 728/6468 [15:03<8:56:54,  5.61s/product]"
     ]
    },
    {
     "name": "stdout",
     "output_type": "stream",
     "text": [
      "Error fetching supplier for SKU 1291546002 after 5 retries: HTTPSConnectionPool(host='www2.hm.com', port=443): Max retries exceeded with url: /en_us/supplierDetails/articles/1291546002 (Caused by ResponseError('too many 400 error responses'))\n"
     ]
    },
    {
     "name": "stderr",
     "output_type": "stream",
     "text": [
      "Fetching Supplier Details:  12%|█████▏                                       | 745/6468 [15:27<8:48:19,  5.54s/product]"
     ]
    },
    {
     "name": "stdout",
     "output_type": "stream",
     "text": [
      "Error fetching supplier for SKU 1295690001 after 5 retries: HTTPSConnectionPool(host='www2.hm.com', port=443): Max retries exceeded with url: /en_us/supplierDetails/articles/1295690001 (Caused by ResponseError('too many 400 error responses'))\n"
     ]
    },
    {
     "name": "stderr",
     "output_type": "stream",
     "text": [
      "Fetching Supplier Details:  12%|█████                                       | 746/6468 [15:45<14:37:19,  9.20s/product]"
     ]
    },
    {
     "name": "stdout",
     "output_type": "stream",
     "text": [
      "Error fetching supplier for SKU 1239334006 after 5 retries: HTTPSConnectionPool(host='www2.hm.com', port=443): Max retries exceeded with url: /en_us/supplierDetails/articles/1239334006 (Caused by ResponseError('too many 400 error responses'))\n"
     ]
    },
    {
     "name": "stderr",
     "output_type": "stream",
     "text": [
      "Fetching Supplier Details:  12%|█████▎                                       | 765/6468 [16:11<8:55:06,  5.63s/product]"
     ]
    },
    {
     "name": "stdout",
     "output_type": "stream",
     "text": [
      "Error fetching supplier for SKU 1291546003 after 5 retries: HTTPSConnectionPool(host='www2.hm.com', port=443): Max retries exceeded with url: /en_us/supplierDetails/articles/1291546003 (Caused by ResponseError('too many 400 error responses'))\n"
     ]
    },
    {
     "name": "stderr",
     "output_type": "stream",
     "text": [
      "Fetching Supplier Details:  12%|█████▍                                       | 777/6468 [16:37<9:52:48,  6.25s/product]"
     ]
    },
    {
     "name": "stdout",
     "output_type": "stream",
     "text": [
      "Error fetching supplier for SKU 0971104039 after 5 retries: HTTPSConnectionPool(host='www2.hm.com', port=443): Max retries exceeded with url: /en_us/supplierDetails/articles/0971104039 (Caused by ResponseError('too many 400 error responses'))\n"
     ]
    },
    {
     "name": "stderr",
     "output_type": "stream",
     "text": [
      "Fetching Supplier Details:  12%|█████▌                                       | 792/6468 [17:07<9:38:32,  6.12s/product]"
     ]
    },
    {
     "name": "stdout",
     "output_type": "stream",
     "text": [
      "Error fetching supplier for SKU 1259065010 after 5 retries: HTTPSConnectionPool(host='www2.hm.com', port=443): Max retries exceeded with url: /en_us/supplierDetails/articles/1259065010 (Caused by ResponseError('too many 400 error responses'))\n"
     ]
    },
    {
     "name": "stderr",
     "output_type": "stream",
     "text": [
      "Fetching Supplier Details:  12%|█████▍                                      | 794/6468 [17:26<13:32:35,  8.59s/product]"
     ]
    },
    {
     "name": "stdout",
     "output_type": "stream",
     "text": [
      "Error fetching supplier for SKU 1259065010 after 5 retries: HTTPSConnectionPool(host='www2.hm.com', port=443): Max retries exceeded with url: /en_us/supplierDetails/articles/1259065010 (Caused by ResponseError('too many 400 error responses'))\n"
     ]
    },
    {
     "name": "stderr",
     "output_type": "stream",
     "text": [
      "Fetching Supplier Details:  13%|█████▋                                       | 821/6468 [18:02<9:11:35,  5.86s/product]"
     ]
    },
    {
     "name": "stdout",
     "output_type": "stream",
     "text": [
      "Error fetching supplier for SKU 1273520009 after 5 retries: HTTPSConnectionPool(host='www2.hm.com', port=443): Max retries exceeded with url: /en_us/supplierDetails/articles/1273520009 (Caused by ResponseError('too many 400 error responses'))\n"
     ]
    },
    {
     "name": "stderr",
     "output_type": "stream",
     "text": [
      "Fetching Supplier Details:  14%|██████▏                                      | 883/6468 [18:55<9:07:33,  5.88s/product]"
     ]
    },
    {
     "name": "stdout",
     "output_type": "stream",
     "text": [
      "Error fetching supplier for SKU 1283190010 after 5 retries: HTTPSConnectionPool(host='www2.hm.com', port=443): Max retries exceeded with url: /en_us/supplierDetails/articles/1283190010 (Caused by ResponseError('too many 400 error responses'))\n"
     ]
    },
    {
     "name": "stderr",
     "output_type": "stream",
     "text": [
      "Fetching Supplier Details:  15%|██████▋                                      | 960/6468 [19:53<8:59:44,  5.88s/product]"
     ]
    },
    {
     "name": "stdout",
     "output_type": "stream",
     "text": [
      "Error fetching supplier for SKU 1296142001 after 5 retries: HTTPSConnectionPool(host='www2.hm.com', port=443): Max retries exceeded with url: /en_us/supplierDetails/articles/1296142001 (Caused by ResponseError('too many 400 error responses'))\n"
     ]
    },
    {
     "name": "stderr",
     "output_type": "stream",
     "text": [
      "Fetching Supplier Details:  15%|██████▋                                      | 967/6468 [20:14<9:28:21,  6.20s/product]"
     ]
    },
    {
     "name": "stdout",
     "output_type": "stream",
     "text": [
      "Error fetching supplier for SKU 1210009011 after 5 retries: HTTPSConnectionPool(host='www2.hm.com', port=443): Max retries exceeded with url: /en_us/supplierDetails/articles/1210009011 (Caused by ResponseError('too many 400 error responses'))\n"
     ]
    },
    {
     "name": "stderr",
     "output_type": "stream",
     "text": [
      "Fetching Supplier Details:  15%|██████▉                                      | 992/6468 [20:46<8:58:06,  5.90s/product]"
     ]
    },
    {
     "name": "stdout",
     "output_type": "stream",
     "text": [
      "Error fetching supplier for SKU 1217677008 after 5 retries: HTTPSConnectionPool(host='www2.hm.com', port=443): Max retries exceeded with url: /en_us/supplierDetails/articles/1217677008 (Caused by ResponseError('too many 400 error responses'))\n"
     ]
    },
    {
     "name": "stderr",
     "output_type": "stream",
     "text": [
      "Fetching Supplier Details:  16%|██████▊                                     | 1003/6468 [21:14<9:06:03,  6.00s/product]"
     ]
    },
    {
     "name": "stdout",
     "output_type": "stream",
     "text": [
      "Error fetching supplier for SKU 1296448001 after 5 retries: HTTPSConnectionPool(host='www2.hm.com', port=443): Max retries exceeded with url: /en_us/supplierDetails/articles/1296448001 (Caused by ResponseError('too many 400 error responses'))\n"
     ]
    },
    {
     "name": "stderr",
     "output_type": "stream",
     "text": [
      "Fetching Supplier Details:  16%|██████▉                                     | 1018/6468 [21:40<8:58:54,  5.93s/product]"
     ]
    },
    {
     "name": "stdout",
     "output_type": "stream",
     "text": [
      "Error fetching supplier for SKU 1273725006 after 5 retries: HTTPSConnectionPool(host='www2.hm.com', port=443): Max retries exceeded with url: /en_us/supplierDetails/articles/1273725006 (Caused by ResponseError('too many 400 error responses'))\n"
     ]
    },
    {
     "name": "stderr",
     "output_type": "stream",
     "text": [
      "Fetching Supplier Details:  16%|███████                                     | 1043/6468 [22:10<8:35:03,  5.70s/product]"
     ]
    },
    {
     "name": "stdout",
     "output_type": "stream",
     "text": [
      "Error fetching supplier for SKU 1217677007 after 5 retries: HTTPSConnectionPool(host='www2.hm.com', port=443): Max retries exceeded with url: /en_us/supplierDetails/articles/1217677007 (Caused by ResponseError('too many 400 error responses'))\n"
     ]
    },
    {
     "name": "stderr",
     "output_type": "stream",
     "text": [
      "Fetching Supplier Details:  16%|███████▏                                    | 1054/6468 [22:34<9:02:08,  6.01s/product]"
     ]
    },
    {
     "name": "stdout",
     "output_type": "stream",
     "text": [
      "Error fetching supplier for SKU 1299868003 after 5 retries: HTTPSConnectionPool(host='www2.hm.com', port=443): Max retries exceeded with url: /en_us/supplierDetails/articles/1299868003 (Caused by ResponseError('too many 400 error responses'))\n"
     ]
    },
    {
     "name": "stderr",
     "output_type": "stream",
     "text": [
      "Fetching Supplier Details:  17%|███████▎                                    | 1076/6468 [23:04<8:59:47,  6.01s/product]"
     ]
    },
    {
     "name": "stdout",
     "output_type": "stream",
     "text": [
      "Error fetching supplier for SKU 1273520010 after 5 retries: HTTPSConnectionPool(host='www2.hm.com', port=443): Max retries exceeded with url: /en_us/supplierDetails/articles/1273520010 (Caused by ResponseError('too many 400 error responses'))\n"
     ]
    },
    {
     "name": "stderr",
     "output_type": "stream",
     "text": [
      "Fetching Supplier Details:  18%|███████▉                                    | 1161/6468 [23:58<8:12:02,  5.56s/product]"
     ]
    },
    {
     "name": "stdout",
     "output_type": "stream",
     "text": [
      "Error fetching supplier for SKU 1239334007 after 5 retries: HTTPSConnectionPool(host='www2.hm.com', port=443): Max retries exceeded with url: /en_us/supplierDetails/articles/1239334007 (Caused by ResponseError('too many 400 error responses'))\n"
     ]
    },
    {
     "name": "stderr",
     "output_type": "stream",
     "text": [
      "Fetching Supplier Details:  18%|████████                                    | 1181/6468 [24:25<8:21:08,  5.69s/product]"
     ]
    },
    {
     "name": "stdout",
     "output_type": "stream",
     "text": [
      "Error fetching supplier for SKU 0971104037 after 5 retries: HTTPSConnectionPool(host='www2.hm.com', port=443): Max retries exceeded with url: /en_us/supplierDetails/articles/0971104037 (Caused by ResponseError('too many 400 error responses'))\n"
     ]
    },
    {
     "name": "stderr",
     "output_type": "stream",
     "text": [
      "Fetching Supplier Details:  19%|████████▏                                   | 1209/6468 [25:03<8:41:06,  5.95s/product]"
     ]
    },
    {
     "name": "stdout",
     "output_type": "stream",
     "text": [
      "Error fetching supplier for SKU 0925212004 after 5 retries: HTTPSConnectionPool(host='www2.hm.com', port=443): Max retries exceeded with url: /en_us/supplierDetails/articles/0925212004 (Caused by ResponseError('too many 400 error responses'))\n"
     ]
    },
    {
     "name": "stderr",
     "output_type": "stream",
     "text": [
      "Fetching Supplier Details:  19%|████████▍                                   | 1239/6468 [25:39<8:32:42,  5.88s/product]"
     ]
    },
    {
     "name": "stdout",
     "output_type": "stream",
     "text": [
      "Error fetching supplier for SKU 1217677012 after 5 retries: HTTPSConnectionPool(host='www2.hm.com', port=443): Max retries exceeded with url: /en_us/supplierDetails/articles/1217677012 (Caused by ResponseError('too many 400 error responses'))\n"
     ]
    },
    {
     "name": "stderr",
     "output_type": "stream",
     "text": [
      "Fetching Supplier Details:  20%|█████████                                   | 1323/6468 [26:38<8:11:53,  5.74s/product]"
     ]
    },
    {
     "name": "stdout",
     "output_type": "stream",
     "text": [
      "Error fetching supplier for SKU 1217677013 after 5 retries: HTTPSConnectionPool(host='www2.hm.com', port=443): Max retries exceeded with url: /en_us/supplierDetails/articles/1217677013 (Caused by ResponseError('too many 400 error responses'))\n"
     ]
    },
    {
     "name": "stderr",
     "output_type": "stream",
     "text": [
      "Fetching Supplier Details:  21%|█████████▎                                  | 1377/6468 [27:21<8:00:38,  5.66s/product]"
     ]
    },
    {
     "name": "stdout",
     "output_type": "stream",
     "text": [
      "Error fetching supplier for SKU 1237315003 after 5 retries: HTTPSConnectionPool(host='www2.hm.com', port=443): Max retries exceeded with url: /en_us/supplierDetails/articles/1237315003 (Caused by ResponseError('too many 400 error responses'))\n"
     ]
    },
    {
     "name": "stderr",
     "output_type": "stream",
     "text": [
      "Fetching Supplier Details:  22%|█████████▊                                  | 1439/6468 [28:08<7:57:43,  5.70s/product]"
     ]
    },
    {
     "name": "stdout",
     "output_type": "stream",
     "text": [
      "Error fetching supplier for SKU 1296448002 after 5 retries: HTTPSConnectionPool(host='www2.hm.com', port=443): Max retries exceeded with url: /en_us/supplierDetails/articles/1296448002 (Caused by ResponseError('too many 400 error responses'))\n"
     ]
    },
    {
     "name": "stderr",
     "output_type": "stream",
     "text": [
      "Fetching Supplier Details:  22%|█████████▉                                  | 1453/6468 [28:34<7:56:27,  5.70s/product]"
     ]
    },
    {
     "name": "stdout",
     "output_type": "stream",
     "text": [
      "Error fetching supplier for SKU 1255393001 after 5 retries: HTTPSConnectionPool(host='www2.hm.com', port=443): Max retries exceeded with url: /en_us/supplierDetails/articles/1255393001 (Caused by ResponseError('too many 400 error responses'))\n"
     ]
    },
    {
     "name": "stderr",
     "output_type": "stream",
     "text": [
      "Fetching Supplier Details:  23%|█████████▋                                 | 1457/6468 [28:54<10:00:02,  7.18s/product]"
     ]
    },
    {
     "name": "stdout",
     "output_type": "stream",
     "text": [
      "Error fetching supplier for SKU 1303959002 after 5 retries: HTTPSConnectionPool(host='www2.hm.com', port=443): Max retries exceeded with url: /en_us/supplierDetails/articles/1303959002 (Caused by ResponseError('too many 400 error responses'))\n"
     ]
    },
    {
     "name": "stderr",
     "output_type": "stream",
     "text": [
      "Fetching Supplier Details:  23%|██████████▏                                 | 1499/6468 [29:32<8:00:29,  5.80s/product]"
     ]
    },
    {
     "name": "stdout",
     "output_type": "stream",
     "text": [
      "Error fetching supplier for SKU 1277745001 after 5 retries: HTTPSConnectionPool(host='www2.hm.com', port=443): Max retries exceeded with url: /en_us/supplierDetails/articles/1277745001 (Caused by ResponseError('too many 400 error responses'))\n"
     ]
    },
    {
     "name": "stderr",
     "output_type": "stream",
     "text": [
      "Fetching Supplier Details:  23%|██████████▎                                 | 1511/6468 [29:57<8:15:03,  5.99s/product]"
     ]
    },
    {
     "name": "stdout",
     "output_type": "stream",
     "text": [
      "Error fetching supplier for SKU 1290779002 after 5 retries: HTTPSConnectionPool(host='www2.hm.com', port=443): Max retries exceeded with url: /en_us/supplierDetails/articles/1290779002 (Caused by ResponseError('too many 400 error responses'))\n"
     ]
    },
    {
     "name": "stderr",
     "output_type": "stream",
     "text": [
      "Fetching Supplier Details:  23%|██████████▎                                 | 1519/6468 [30:19<8:27:44,  6.16s/product]"
     ]
    },
    {
     "name": "stdout",
     "output_type": "stream",
     "text": [
      "Error fetching supplier for SKU 1301542003 after 5 retries: HTTPSConnectionPool(host='www2.hm.com', port=443): Max retries exceeded with url: /en_us/supplierDetails/articles/1301542003 (Caused by ResponseError('too many 400 error responses'))\n"
     ]
    },
    {
     "name": "stderr",
     "output_type": "stream",
     "text": [
      "Fetching Supplier Details:  24%|██████████▍                                 | 1527/6468 [30:39<8:14:40,  6.01s/product]"
     ]
    },
    {
     "name": "stdout",
     "output_type": "stream",
     "text": [
      "Error fetching supplier for SKU 1206236016 after 5 retries: HTTPSConnectionPool(host='www2.hm.com', port=443): Max retries exceeded with url: /en_us/supplierDetails/articles/1206236016 (Caused by ResponseError('too many 400 error responses'))\n"
     ]
    },
    {
     "name": "stderr",
     "output_type": "stream",
     "text": [
      "Fetching Supplier Details:  24%|██████████▌                                 | 1554/6468 [31:10<7:53:06,  5.78s/product]"
     ]
    },
    {
     "name": "stdout",
     "output_type": "stream",
     "text": [
      "Error fetching supplier for SKU 1290615001 after 5 retries: HTTPSConnectionPool(host='www2.hm.com', port=443): Max retries exceeded with url: /en_us/supplierDetails/articles/1290615001 (Caused by ResponseError('too many 400 error responses'))\n"
     ]
    },
    {
     "name": "stderr",
     "output_type": "stream",
     "text": [
      "Fetching Supplier Details:  24%|██████████▎                                | 1556/6468 [31:28<11:17:08,  8.27s/product]"
     ]
    },
    {
     "name": "stdout",
     "output_type": "stream",
     "text": [
      "Error fetching supplier for SKU 1303959003 after 5 retries: HTTPSConnectionPool(host='www2.hm.com', port=443): Max retries exceeded with url: /en_us/supplierDetails/articles/1303959003 (Caused by ResponseError('too many 400 error responses'))\n"
     ]
    },
    {
     "name": "stderr",
     "output_type": "stream",
     "text": [
      "Fetching Supplier Details:  24%|██████████▋                                 | 1571/6468 [31:56<7:59:18,  5.87s/product]"
     ]
    },
    {
     "name": "stdout",
     "output_type": "stream",
     "text": [
      "Error fetching supplier for SKU 1282522001 after 5 retries: HTTPSConnectionPool(host='www2.hm.com', port=443): Max retries exceeded with url: /en_us/supplierDetails/articles/1282522001 (Caused by ResponseError('too many 400 error responses'))\n"
     ]
    },
    {
     "name": "stderr",
     "output_type": "stream",
     "text": [
      "Fetching Supplier Details:  24%|██████████▍                                | 1574/6468 [32:15<10:27:48,  7.70s/product]"
     ]
    },
    {
     "name": "stdout",
     "output_type": "stream",
     "text": [
      "Error fetching supplier for SKU 1295130001 after 5 retries: HTTPSConnectionPool(host='www2.hm.com', port=443): Max retries exceeded with url: /en_us/supplierDetails/articles/1295130001 (Caused by ResponseError('too many 400 error responses'))\n"
     ]
    },
    {
     "name": "stderr",
     "output_type": "stream",
     "text": [
      "Fetching Supplier Details:  25%|██████████▊                                 | 1593/6468 [32:40<7:06:57,  5.25s/product]"
     ]
    },
    {
     "name": "stdout",
     "output_type": "stream",
     "text": [
      "Error fetching supplier for SKU 1301974002 after 5 retries: HTTPSConnectionPool(host='www2.hm.com', port=443): Max retries exceeded with url: /en_us/supplierDetails/articles/1301974002 (Caused by ResponseError('too many 400 error responses'))\n"
     ]
    },
    {
     "name": "stderr",
     "output_type": "stream",
     "text": [
      "Fetching Supplier Details:  26%|███████████▍                                | 1681/6468 [33:38<7:27:47,  5.61s/product]"
     ]
    },
    {
     "name": "stdout",
     "output_type": "stream",
     "text": [
      "Error fetching supplier for SKU 1255367004 after 5 retries: HTTPSConnectionPool(host='www2.hm.com', port=443): Max retries exceeded with url: /en_us/supplierDetails/articles/1255367004 (Caused by ResponseError('too many 400 error responses'))\n"
     ]
    },
    {
     "name": "stderr",
     "output_type": "stream",
     "text": [
      "Fetching Supplier Details:  26%|███████████▏                               | 1683/6468 [33:56<10:47:07,  8.11s/product]"
     ]
    },
    {
     "name": "stdout",
     "output_type": "stream",
     "text": [
      "Error fetching supplier for SKU 1272698001 after 5 retries: HTTPSConnectionPool(host='www2.hm.com', port=443): Max retries exceeded with url: /en_us/supplierDetails/articles/1272698001 (Caused by ResponseError('too many 400 error responses'))\n"
     ]
    },
    {
     "name": "stderr",
     "output_type": "stream",
     "text": [
      "Fetching Supplier Details:  27%|███████████▉                                | 1758/6468 [34:58<7:24:25,  5.66s/product]"
     ]
    },
    {
     "name": "stdout",
     "output_type": "stream",
     "text": [
      "Error fetching supplier for SKU 1272698002 after 5 retries: HTTPSConnectionPool(host='www2.hm.com', port=443): Max retries exceeded with url: /en_us/supplierDetails/articles/1272698002 (Caused by ResponseError('too many 400 error responses'))\n"
     ]
    },
    {
     "name": "stderr",
     "output_type": "stream",
     "text": [
      "Fetching Supplier Details:  28%|████████████▏                               | 1794/6468 [35:33<7:36:02,  5.85s/product]"
     ]
    },
    {
     "name": "stdout",
     "output_type": "stream",
     "text": [
      "Error fetching supplier for SKU 1246587003 after 5 retries: HTTPSConnectionPool(host='www2.hm.com', port=443): Max retries exceeded with url: /en_us/supplierDetails/articles/1246587003 (Caused by ResponseError('too many 400 error responses'))\n"
     ]
    },
    {
     "name": "stderr",
     "output_type": "stream",
     "text": [
      "Fetching Supplier Details:  28%|████████████▎                               | 1813/6468 [36:02<8:09:49,  6.31s/product]"
     ]
    },
    {
     "name": "stdout",
     "output_type": "stream",
     "text": [
      "Error fetching supplier for SKU 1255366002 after 5 retries: HTTPSConnectionPool(host='www2.hm.com', port=443): Max retries exceeded with url: /en_us/supplierDetails/articles/1255366002 (Caused by ResponseError('too many 400 error responses'))\n"
     ]
    },
    {
     "name": "stderr",
     "output_type": "stream",
     "text": [
      "Fetching Supplier Details:  28%|████████████▍                               | 1832/6468 [36:32<7:29:57,  5.82s/product]"
     ]
    },
    {
     "name": "stdout",
     "output_type": "stream",
     "text": [
      "Error fetching supplier for SKU 1254360001 after 5 retries: HTTPSConnectionPool(host='www2.hm.com', port=443): Max retries exceeded with url: /en_us/supplierDetails/articles/1254360001 (Caused by ResponseError('too many 400 error responses'))\n"
     ]
    },
    {
     "name": "stderr",
     "output_type": "stream",
     "text": [
      "Fetching Supplier Details:  28%|████████████▌                               | 1842/6468 [36:54<7:36:24,  5.92s/product]"
     ]
    },
    {
     "name": "stdout",
     "output_type": "stream",
     "text": [
      "Error fetching supplier for SKU 1285102002 after 5 retries: HTTPSConnectionPool(host='www2.hm.com', port=443): Max retries exceeded with url: /en_us/supplierDetails/articles/1285102002 (Caused by ResponseError('too many 400 error responses'))\n"
     ]
    },
    {
     "name": "stderr",
     "output_type": "stream",
     "text": [
      "Fetching Supplier Details:  29%|████████████▌                               | 1855/6468 [37:20<8:01:41,  6.27s/product]"
     ]
    },
    {
     "name": "stdout",
     "output_type": "stream",
     "text": [
      "Error fetching supplier for SKU 1256501001 after 5 retries: HTTPSConnectionPool(host='www2.hm.com', port=443): Max retries exceeded with url: /en_us/supplierDetails/articles/1256501001 (Caused by ResponseError('too many 400 error responses'))\n"
     ]
    },
    {
     "name": "stderr",
     "output_type": "stream",
     "text": [
      "Fetching Supplier Details:  29%|████████████▋                               | 1861/6468 [37:41<8:24:15,  6.57s/product]"
     ]
    },
    {
     "name": "stdout",
     "output_type": "stream",
     "text": [
      "Error fetching supplier for SKU 1291289004 after 5 retries: HTTPSConnectionPool(host='www2.hm.com', port=443): Max retries exceeded with url: /en_us/supplierDetails/articles/1291289004 (Caused by ResponseError('too many 400 error responses'))\n"
     ]
    },
    {
     "name": "stderr",
     "output_type": "stream",
     "text": [
      "Fetching Supplier Details:  29%|████████████▊                               | 1890/6468 [38:23<7:27:06,  5.86s/product]"
     ]
    },
    {
     "name": "stdout",
     "output_type": "stream",
     "text": [
      "Error fetching supplier for SKU 1253017002 after 5 retries: HTTPSConnectionPool(host='www2.hm.com', port=443): Max retries exceeded with url: /en_us/supplierDetails/articles/1253017002 (Caused by ResponseError('too many 400 error responses'))\n"
     ]
    },
    {
     "name": "stderr",
     "output_type": "stream",
     "text": [
      "Fetching Supplier Details:  30%|█████████████▏                              | 1941/6468 [39:26<7:16:01,  5.78s/product]"
     ]
    },
    {
     "name": "stdout",
     "output_type": "stream",
     "text": [
      "Error fetching supplier for SKU 1257979003 after 5 retries: HTTPSConnectionPool(host='www2.hm.com', port=443): Max retries exceeded with url: /en_us/supplierDetails/articles/1257979003 (Caused by ResponseError('too many 400 error responses'))\n"
     ]
    },
    {
     "name": "stderr",
     "output_type": "stream",
     "text": [
      "Fetching Supplier Details:  32%|█████████████▉                              | 2041/6468 [40:49<6:59:26,  5.68s/product]"
     ]
    },
    {
     "name": "stdout",
     "output_type": "stream",
     "text": [
      "Error fetching supplier for SKU 1255369001 after 5 retries: HTTPSConnectionPool(host='www2.hm.com', port=443): Max retries exceeded with url: /en_us/supplierDetails/articles/1255369001 (Caused by ResponseError('too many 400 error responses'))\n"
     ]
    },
    {
     "name": "stderr",
     "output_type": "stream",
     "text": [
      "Fetching Supplier Details:  32%|█████████████▌                             | 2042/6468 [41:06<11:20:51,  9.23s/product]"
     ]
    },
    {
     "name": "stdout",
     "output_type": "stream",
     "text": [
      "Error fetching supplier for SKU 1263605002 after 5 retries: HTTPSConnectionPool(host='www2.hm.com', port=443): Max retries exceeded with url: /en_us/supplierDetails/articles/1263605002 (Caused by ResponseError('too many 400 error responses'))\n"
     ]
    },
    {
     "name": "stderr",
     "output_type": "stream",
     "text": [
      "Fetching Supplier Details:  32%|█████████████▉                              | 2053/6468 [41:29<7:18:38,  5.96s/product]"
     ]
    },
    {
     "name": "stdout",
     "output_type": "stream",
     "text": [
      "Error fetching supplier for SKU 1263514002 after 5 retries: HTTPSConnectionPool(host='www2.hm.com', port=443): Max retries exceeded with url: /en_us/supplierDetails/articles/1263514002 (Caused by ResponseError('too many 400 error responses'))\n"
     ]
    },
    {
     "name": "stderr",
     "output_type": "stream",
     "text": [
      "Fetching Supplier Details:  32%|██████████████▏                             | 2077/6468 [42:03<7:48:54,  6.41s/product]"
     ]
    },
    {
     "name": "stdout",
     "output_type": "stream",
     "text": [
      "Error fetching supplier for SKU 1263621006 after 5 retries: HTTPSConnectionPool(host='www2.hm.com', port=443): Max retries exceeded with url: /en_us/supplierDetails/articles/1263621006 (Caused by ResponseError('too many 400 error responses'))\n"
     ]
    },
    {
     "name": "stderr",
     "output_type": "stream",
     "text": [
      "Fetching Supplier Details:  32%|██████████████▎                             | 2098/6468 [42:34<6:54:30,  5.69s/product]"
     ]
    },
    {
     "name": "stdout",
     "output_type": "stream",
     "text": [
      "Error fetching supplier for SKU 1293464002 after 5 retries: HTTPSConnectionPool(host='www2.hm.com', port=443): Max retries exceeded with url: /en_us/supplierDetails/articles/1293464002 (Caused by ResponseError('too many 400 error responses'))\n"
     ]
    },
    {
     "name": "stderr",
     "output_type": "stream",
     "text": [
      "Fetching Supplier Details:  33%|██████████████▍                             | 2114/6468 [42:59<6:54:41,  5.71s/product]"
     ]
    },
    {
     "name": "stdout",
     "output_type": "stream",
     "text": [
      "Error fetching supplier for SKU 1238993001 after 5 retries: HTTPSConnectionPool(host='www2.hm.com', port=443): Max retries exceeded with url: /en_us/supplierDetails/articles/1238993001 (Caused by ResponseError('too many 400 error responses'))\n"
     ]
    },
    {
     "name": "stderr",
     "output_type": "stream",
     "text": [
      "Fetching Supplier Details:  33%|██████████████▍                             | 2119/6468 [43:20<8:23:07,  6.94s/product]"
     ]
    },
    {
     "name": "stdout",
     "output_type": "stream",
     "text": [
      "Error fetching supplier for SKU 1267020003 after 5 retries: HTTPSConnectionPool(host='www2.hm.com', port=443): Max retries exceeded with url: /en_us/supplierDetails/articles/1267020003 (Caused by ResponseError('too many 400 error responses'))\n"
     ]
    },
    {
     "name": "stderr",
     "output_type": "stream",
     "text": [
      "Fetching Supplier Details:  33%|██████████████▌                             | 2142/6468 [43:54<7:12:18,  6.00s/product]"
     ]
    },
    {
     "name": "stdout",
     "output_type": "stream",
     "text": [
      "Error fetching supplier for SKU 1266920002 after 5 retries: HTTPSConnectionPool(host='www2.hm.com', port=443): Max retries exceeded with url: /en_us/supplierDetails/articles/1266920002 (Caused by ResponseError('too many 400 error responses'))\n"
     ]
    },
    {
     "name": "stderr",
     "output_type": "stream",
     "text": [
      "Fetching Supplier Details:  33%|██████████████▌                             | 2145/6468 [44:13<9:22:25,  7.81s/product]"
     ]
    },
    {
     "name": "stdout",
     "output_type": "stream",
     "text": [
      "Error fetching supplier for SKU 1275169001 after 5 retries: HTTPSConnectionPool(host='www2.hm.com', port=443): Max retries exceeded with url: /en_us/supplierDetails/articles/1275169001 (Caused by ResponseError('too many 400 error responses'))\n"
     ]
    },
    {
     "name": "stderr",
     "output_type": "stream",
     "text": [
      "Fetching Supplier Details:  33%|██████████████▋                             | 2165/6468 [44:44<6:54:58,  5.79s/product]"
     ]
    },
    {
     "name": "stdout",
     "output_type": "stream",
     "text": [
      "Error fetching supplier for SKU 1236052002 after 5 retries: HTTPSConnectionPool(host='www2.hm.com', port=443): Max retries exceeded with url: /en_us/supplierDetails/articles/1236052002 (Caused by ResponseError('too many 400 error responses'))\n"
     ]
    },
    {
     "name": "stderr",
     "output_type": "stream",
     "text": [
      "Fetching Supplier Details:  34%|██████████████▊                             | 2181/6468 [45:13<7:16:04,  6.10s/product]"
     ]
    },
    {
     "name": "stdout",
     "output_type": "stream",
     "text": [
      "Error fetching supplier for SKU 1255369002 after 5 retries: HTTPSConnectionPool(host='www2.hm.com', port=443): Max retries exceeded with url: /en_us/supplierDetails/articles/1255369002 (Caused by ResponseError('too many 400 error responses'))\n"
     ]
    },
    {
     "name": "stderr",
     "output_type": "stream",
     "text": [
      "Fetching Supplier Details:  34%|██████████████▌                            | 2183/6468 [45:32<10:11:28,  8.56s/product]"
     ]
    },
    {
     "name": "stdout",
     "output_type": "stream",
     "text": [
      "Error fetching supplier for SKU 1267243003 after 5 retries: HTTPSConnectionPool(host='www2.hm.com', port=443): Max retries exceeded with url: /en_us/supplierDetails/articles/1267243003 (Caused by ResponseError('too many 400 error responses'))\n"
     ]
    },
    {
     "name": "stderr",
     "output_type": "stream",
     "text": [
      "Fetching Supplier Details:  34%|██████████████▌                            | 2185/6468 [45:51<11:37:53,  9.78s/product]"
     ]
    },
    {
     "name": "stdout",
     "output_type": "stream",
     "text": [
      "Error fetching supplier for SKU 1253820001 after 5 retries: HTTPSConnectionPool(host='www2.hm.com', port=443): Max retries exceeded with url: /en_us/supplierDetails/articles/1253820001 (Caused by ResponseError('too many 400 error responses'))\n"
     ]
    },
    {
     "name": "stderr",
     "output_type": "stream",
     "text": [
      "Fetching Supplier Details:  34%|██████████████▉                             | 2198/6468 [46:15<6:52:41,  5.80s/product]"
     ]
    },
    {
     "name": "stdout",
     "output_type": "stream",
     "text": [
      "Error fetching supplier for SKU 1264744001 after 5 retries: HTTPSConnectionPool(host='www2.hm.com', port=443): Max retries exceeded with url: /en_us/supplierDetails/articles/1264744001 (Caused by ResponseError('too many 400 error responses'))\n"
     ]
    },
    {
     "name": "stderr",
     "output_type": "stream",
     "text": [
      "Fetching Supplier Details:  34%|███████████████                             | 2212/6468 [46:39<6:45:53,  5.72s/product]"
     ]
    },
    {
     "name": "stdout",
     "output_type": "stream",
     "text": [
      "Error fetching supplier for SKU 1241222005 after 5 retries: HTTPSConnectionPool(host='www2.hm.com', port=443): Max retries exceeded with url: /en_us/supplierDetails/articles/1241222005 (Caused by ResponseError('too many 400 error responses'))\n"
     ]
    },
    {
     "name": "stderr",
     "output_type": "stream",
     "text": [
      "Fetching Supplier Details:  34%|███████████████▏                            | 2229/6468 [47:10<7:05:39,  6.02s/product]"
     ]
    },
    {
     "name": "stdout",
     "output_type": "stream",
     "text": [
      "Error fetching supplier for SKU 1277899002 after 5 retries: HTTPSConnectionPool(host='www2.hm.com', port=443): Max retries exceeded with url: /en_us/supplierDetails/articles/1277899002 (Caused by ResponseError('too many 400 error responses'))\n"
     ]
    },
    {
     "name": "stderr",
     "output_type": "stream",
     "text": [
      "Fetching Supplier Details:  35%|███████████████▏                            | 2232/6468 [47:29<8:58:49,  7.63s/product]"
     ]
    },
    {
     "name": "stdout",
     "output_type": "stream",
     "text": [
      "Error fetching supplier for SKU 1267020002 after 5 retries: HTTPSConnectionPool(host='www2.hm.com', port=443): Max retries exceeded with url: /en_us/supplierDetails/articles/1267020002 (Caused by ResponseError('too many 400 error responses'))\n"
     ]
    },
    {
     "name": "stderr",
     "output_type": "stream",
     "text": [
      "Fetching Supplier Details:  35%|██████████████▊                            | 2233/6468 [47:48<12:41:35, 10.79s/product]"
     ]
    },
    {
     "name": "stdout",
     "output_type": "stream",
     "text": [
      "Error fetching supplier for SKU 1277899002 after 5 retries: HTTPSConnectionPool(host='www2.hm.com', port=443): Max retries exceeded with url: /en_us/supplierDetails/articles/1277899002 (Caused by ResponseError('too many 400 error responses'))\n"
     ]
    },
    {
     "name": "stderr",
     "output_type": "stream",
     "text": [
      "Fetching Supplier Details:  35%|███████████████▏                            | 2237/6468 [48:07<8:32:03,  7.26s/product]"
     ]
    },
    {
     "name": "stdout",
     "output_type": "stream",
     "text": [
      "Error fetching supplier for SKU 1267020002 after 5 retries: HTTPSConnectionPool(host='www2.hm.com', port=443): Max retries exceeded with url: /en_us/supplierDetails/articles/1267020002 (Caused by ResponseError('too many 400 error responses'))\n"
     ]
    },
    {
     "name": "stderr",
     "output_type": "stream",
     "text": [
      "Fetching Supplier Details:  35%|██████████████▉                            | 2238/6468 [48:28<12:26:53, 10.59s/product]"
     ]
    },
    {
     "name": "stdout",
     "output_type": "stream",
     "text": [
      "Error fetching supplier for SKU 1232495012 after 5 retries: HTTPSConnectionPool(host='www2.hm.com', port=443): Max retries exceeded with url: /en_us/supplierDetails/articles/1232495012 (Caused by ResponseError('too many 400 error responses'))\n"
     ]
    },
    {
     "name": "stderr",
     "output_type": "stream",
     "text": [
      "Fetching Supplier Details:  35%|██████████████▉                            | 2239/6468 [48:46<14:49:53, 12.63s/product]"
     ]
    },
    {
     "name": "stdout",
     "output_type": "stream",
     "text": [
      "Error fetching supplier for SKU 1271648002 after 5 retries: HTTPSConnectionPool(host='www2.hm.com', port=443): Max retries exceeded with url: /en_us/supplierDetails/articles/1271648002 (Caused by ResponseError('too many 400 error responses'))\n"
     ]
    },
    {
     "name": "stderr",
     "output_type": "stream",
     "text": [
      "Fetching Supplier Details:  35%|███████████████▎                            | 2244/6468 [49:05<9:06:50,  7.77s/product]"
     ]
    },
    {
     "name": "stdout",
     "output_type": "stream",
     "text": [
      "Error fetching supplier for SKU 1295130002 after 5 retries: HTTPSConnectionPool(host='www2.hm.com', port=443): Max retries exceeded with url: /en_us/supplierDetails/articles/1295130002 (Caused by ResponseError('too many 400 error responses'))\n"
     ]
    },
    {
     "name": "stderr",
     "output_type": "stream",
     "text": [
      "Fetching Supplier Details:  35%|███████████████▎                            | 2258/6468 [49:33<7:27:09,  6.37s/product]"
     ]
    },
    {
     "name": "stdout",
     "output_type": "stream",
     "text": [
      "Error fetching supplier for SKU 1261941001 after 5 retries: HTTPSConnectionPool(host='www2.hm.com', port=443): Max retries exceeded with url: /en_us/supplierDetails/articles/1261941001 (Caused by ResponseError('too many 400 error responses'))\n"
     ]
    },
    {
     "name": "stderr",
     "output_type": "stream",
     "text": [
      "Fetching Supplier Details:  35%|███████████████▍                            | 2261/6468 [49:55<9:42:47,  8.31s/product]"
     ]
    },
    {
     "name": "stdout",
     "output_type": "stream",
     "text": [
      "Error fetching supplier for SKU 1248626001 after 5 retries: HTTPSConnectionPool(host='www2.hm.com', port=443): Max retries exceeded with url: /en_us/supplierDetails/articles/1248626001 (Caused by ResponseError('too many 400 error responses'))\n"
     ]
    },
    {
     "name": "stderr",
     "output_type": "stream",
     "text": [
      "Fetching Supplier Details:  35%|███████████████▌                            | 2283/6468 [50:26<6:33:21,  5.64s/product]"
     ]
    },
    {
     "name": "stdout",
     "output_type": "stream",
     "text": [
      "Error fetching supplier for SKU 1011909040 after 5 retries: HTTPSConnectionPool(host='www2.hm.com', port=443): Max retries exceeded with url: /en_us/supplierDetails/articles/1011909040 (Caused by ResponseError('too many 400 error responses'))\n"
     ]
    },
    {
     "name": "stderr",
     "output_type": "stream",
     "text": [
      "Fetching Supplier Details:  35%|███████████████▏                           | 2284/6468 [50:43<10:44:20,  9.24s/product]"
     ]
    },
    {
     "name": "stdout",
     "output_type": "stream",
     "text": [
      "Error fetching supplier for SKU 1264890002 after 5 retries: HTTPSConnectionPool(host='www2.hm.com', port=443): Max retries exceeded with url: /en_us/supplierDetails/articles/1264890002 (Caused by ResponseError('too many 400 error responses'))\n"
     ]
    },
    {
     "name": "stderr",
     "output_type": "stream",
     "text": [
      "Fetching Supplier Details:  36%|███████████████▋                            | 2305/6468 [51:28<8:25:42,  7.29s/product]"
     ]
    },
    {
     "name": "stdout",
     "output_type": "stream",
     "text": [
      "Error fetching supplier for SKU 1264890003 after 5 retries: HTTPSConnectionPool(host='www2.hm.com', port=443): Max retries exceeded with url: /en_us/supplierDetails/articles/1264890003 (Caused by ResponseError('too many 400 error responses'))\n"
     ]
    },
    {
     "name": "stderr",
     "output_type": "stream",
     "text": [
      "Fetching Supplier Details:  36%|███████████████▎                           | 2306/6468 [51:48<12:36:50, 10.91s/product]"
     ]
    },
    {
     "name": "stdout",
     "output_type": "stream",
     "text": [
      "Error fetching supplier for SKU 1264890003 after 5 retries: HTTPSConnectionPool(host='www2.hm.com', port=443): Max retries exceeded with url: /en_us/supplierDetails/articles/1264890003 (Caused by ResponseError('too many 400 error responses'))\n"
     ]
    },
    {
     "name": "stderr",
     "output_type": "stream",
     "text": [
      "Fetching Supplier Details:  36%|███████████████▎                           | 2307/6468 [52:07<15:38:11, 13.53s/product]"
     ]
    },
    {
     "name": "stdout",
     "output_type": "stream",
     "text": [
      "Error fetching supplier for SKU 1266866001 after 5 retries: HTTPSConnectionPool(host='www2.hm.com', port=443): Max retries exceeded with url: /en_us/supplierDetails/articles/1266866001 (Caused by ResponseError('too many 400 error responses'))\n"
     ]
    },
    {
     "name": "stderr",
     "output_type": "stream",
     "text": [
      "Fetching Supplier Details:  37%|████████████████                            | 2367/6468 [53:14<7:04:33,  6.21s/product]"
     ]
    },
    {
     "name": "stdout",
     "output_type": "stream",
     "text": [
      "Error fetching supplier for SKU 1235421001 after 5 retries: HTTPSConnectionPool(host='www2.hm.com', port=443): Max retries exceeded with url: /en_us/supplierDetails/articles/1235421001 (Caused by ResponseError('too many 400 error responses'))\n"
     ]
    },
    {
     "name": "stderr",
     "output_type": "stream",
     "text": [
      "Fetching Supplier Details:  37%|████████████████                            | 2370/6468 [53:34<8:50:25,  7.77s/product]"
     ]
    },
    {
     "name": "stdout",
     "output_type": "stream",
     "text": [
      "Error fetching supplier for SKU 1261598006 after 5 retries: HTTPSConnectionPool(host='www2.hm.com', port=443): Max retries exceeded with url: /en_us/supplierDetails/articles/1261598006 (Caused by ResponseError('too many 400 error responses'))\n"
     ]
    },
    {
     "name": "stderr",
     "output_type": "stream",
     "text": [
      "Fetching Supplier Details:  37%|████████████████▏                           | 2380/6468 [53:56<6:38:39,  5.85s/product]"
     ]
    },
    {
     "name": "stdout",
     "output_type": "stream",
     "text": [
      "Error fetching supplier for SKU 1240226001 after 5 retries: HTTPSConnectionPool(host='www2.hm.com', port=443): Max retries exceeded with url: /en_us/supplierDetails/articles/1240226001 (Caused by ResponseError('too many 400 error responses'))\n"
     ]
    },
    {
     "name": "stderr",
     "output_type": "stream",
     "text": [
      "Fetching Supplier Details:  37%|███████████████▊                           | 2381/6468 [54:14<10:58:00,  9.66s/product]"
     ]
    },
    {
     "name": "stdout",
     "output_type": "stream",
     "text": [
      "Error fetching supplier for SKU 1241709007 after 5 retries: HTTPSConnectionPool(host='www2.hm.com', port=443): Max retries exceeded with url: /en_us/supplierDetails/articles/1241709007 (Caused by ResponseError('too many 400 error responses'))\n"
     ]
    },
    {
     "name": "stderr",
     "output_type": "stream",
     "text": [
      "Fetching Supplier Details:  37%|████████████████▎                           | 2391/6468 [54:37<6:47:27,  6.00s/product]"
     ]
    },
    {
     "name": "stdout",
     "output_type": "stream",
     "text": [
      "Error fetching supplier for SKU 1263605001 after 5 retries: HTTPSConnectionPool(host='www2.hm.com', port=443): Max retries exceeded with url: /en_us/supplierDetails/articles/1263605001 (Caused by ResponseError('too many 400 error responses'))\n"
     ]
    },
    {
     "name": "stderr",
     "output_type": "stream",
     "text": [
      "Fetching Supplier Details:  37%|████████████████▍                           | 2410/6468 [55:04<6:22:11,  5.65s/product]"
     ]
    },
    {
     "name": "stdout",
     "output_type": "stream",
     "text": [
      "Error fetching supplier for SKU 1262196002 after 5 retries: HTTPSConnectionPool(host='www2.hm.com', port=443): Max retries exceeded with url: /en_us/supplierDetails/articles/1262196002 (Caused by ResponseError('too many 400 error responses'))\n"
     ]
    },
    {
     "name": "stderr",
     "output_type": "stream",
     "text": [
      "Fetching Supplier Details:  37%|████████████████▍                           | 2412/6468 [55:22<9:08:58,  8.12s/product]"
     ]
    },
    {
     "name": "stdout",
     "output_type": "stream",
     "text": [
      "Error fetching supplier for SKU 1247652001 after 5 retries: HTTPSConnectionPool(host='www2.hm.com', port=443): Max retries exceeded with url: /en_us/supplierDetails/articles/1247652001 (Caused by ResponseError('too many 400 error responses'))\n"
     ]
    },
    {
     "name": "stderr",
     "output_type": "stream",
     "text": [
      "Fetching Supplier Details:  38%|████████████████▌                           | 2426/6468 [55:47<6:49:26,  6.08s/product]"
     ]
    },
    {
     "name": "stdout",
     "output_type": "stream",
     "text": [
      "Error fetching supplier for SKU 1250885001 after 5 retries: HTTPSConnectionPool(host='www2.hm.com', port=443): Max retries exceeded with url: /en_us/supplierDetails/articles/1250885001 (Caused by ResponseError('too many 400 error responses'))\n"
     ]
    },
    {
     "name": "stderr",
     "output_type": "stream",
     "text": [
      "Fetching Supplier Details:  38%|████████████████▌                           | 2435/6468 [56:09<6:42:11,  5.98s/product]"
     ]
    },
    {
     "name": "stdout",
     "output_type": "stream",
     "text": [
      "Error fetching supplier for SKU 1231530001 after 5 retries: HTTPSConnectionPool(host='www2.hm.com', port=443): Max retries exceeded with url: /en_us/supplierDetails/articles/1231530001 (Caused by ResponseError('too many 400 error responses'))\n"
     ]
    },
    {
     "name": "stderr",
     "output_type": "stream",
     "text": [
      "Fetching Supplier Details:  38%|████████████████▋                           | 2450/6468 [56:33<6:20:59,  5.69s/product]"
     ]
    },
    {
     "name": "stdout",
     "output_type": "stream",
     "text": [
      "Error fetching supplier for SKU 1252058002 after 5 retries: HTTPSConnectionPool(host='www2.hm.com', port=443): Max retries exceeded with url: /en_us/supplierDetails/articles/1252058002 (Caused by ResponseError('too many 400 error responses'))\n"
     ]
    },
    {
     "name": "stderr",
     "output_type": "stream",
     "text": [
      "Fetching Supplier Details:  38%|████████████████▋                           | 2452/6468 [56:51<9:04:48,  8.14s/product]"
     ]
    },
    {
     "name": "stdout",
     "output_type": "stream",
     "text": [
      "Error fetching supplier for SKU 1263595001 after 5 retries: HTTPSConnectionPool(host='www2.hm.com', port=443): Max retries exceeded with url: /en_us/supplierDetails/articles/1263595001 (Caused by ResponseError('too many 400 error responses'))\n"
     ]
    },
    {
     "name": "stderr",
     "output_type": "stream",
     "text": [
      "Fetching Supplier Details:  38%|████████████████▎                          | 2453/6468 [57:09<12:27:14, 11.17s/product]"
     ]
    },
    {
     "name": "stdout",
     "output_type": "stream",
     "text": [
      "Error fetching supplier for SKU 1265320001 after 5 retries: HTTPSConnectionPool(host='www2.hm.com', port=443): Max retries exceeded with url: /en_us/supplierDetails/articles/1265320001 (Caused by ResponseError('too many 400 error responses'))\n"
     ]
    },
    {
     "name": "stderr",
     "output_type": "stream",
     "text": [
      "Fetching Supplier Details:  38%|████████████████▋                           | 2460/6468 [57:31<7:38:14,  6.86s/product]"
     ]
    },
    {
     "name": "stdout",
     "output_type": "stream",
     "text": [
      "Error fetching supplier for SKU 1265911002 after 5 retries: HTTPSConnectionPool(host='www2.hm.com', port=443): Max retries exceeded with url: /en_us/supplierDetails/articles/1265911002 (Caused by ResponseError('too many 400 error responses'))\n"
     ]
    },
    {
     "name": "stderr",
     "output_type": "stream",
     "text": [
      "Fetching Supplier Details:  38%|████████████████▊                           | 2467/6468 [57:53<7:20:17,  6.60s/product]"
     ]
    },
    {
     "name": "stdout",
     "output_type": "stream",
     "text": [
      "Error fetching supplier for SKU 1236305001 after 5 retries: HTTPSConnectionPool(host='www2.hm.com', port=443): Max retries exceeded with url: /en_us/supplierDetails/articles/1236305001 (Caused by ResponseError('too many 400 error responses'))\n"
     ]
    },
    {
     "name": "stderr",
     "output_type": "stream",
     "text": [
      "Fetching Supplier Details:  38%|████████████████▉                           | 2483/6468 [58:19<6:19:36,  5.72s/product]"
     ]
    },
    {
     "name": "stdout",
     "output_type": "stream",
     "text": [
      "Error fetching supplier for SKU 1117603006 after 5 retries: HTTPSConnectionPool(host='www2.hm.com', port=443): Max retries exceeded with url: /en_us/supplierDetails/articles/1117603006 (Caused by ResponseError('too many 400 error responses'))\n"
     ]
    },
    {
     "name": "stderr",
     "output_type": "stream",
     "text": [
      "Fetching Supplier Details:  39%|█████████████████                           | 2506/6468 [58:50<6:43:59,  6.12s/product]"
     ]
    },
    {
     "name": "stdout",
     "output_type": "stream",
     "text": [
      "Error fetching supplier for SKU 1269131003 after 5 retries: HTTPSConnectionPool(host='www2.hm.com', port=443): Max retries exceeded with url: /en_us/supplierDetails/articles/1269131003 (Caused by ResponseError('too many 400 error responses'))\n"
     ]
    },
    {
     "name": "stderr",
     "output_type": "stream",
     "text": [
      "Fetching Supplier Details:  39%|█████████████████                           | 2511/6468 [59:10<7:19:48,  6.67s/product]"
     ]
    },
    {
     "name": "stdout",
     "output_type": "stream",
     "text": [
      "Error fetching supplier for SKU 1296523005 after 5 retries: HTTPSConnectionPool(host='www2.hm.com', port=443): Max retries exceeded with url: /en_us/supplierDetails/articles/1296523005 (Caused by ResponseError('too many 400 error responses'))\n"
     ]
    },
    {
     "name": "stderr",
     "output_type": "stream",
     "text": [
      "Fetching Supplier Details:  39%|█████████████████                           | 2515/6468 [59:30<7:50:05,  7.14s/product]"
     ]
    },
    {
     "name": "stdout",
     "output_type": "stream",
     "text": [
      "Error fetching supplier for SKU 1268786001 after 5 retries: HTTPSConnectionPool(host='www2.hm.com', port=443): Max retries exceeded with url: /en_us/supplierDetails/articles/1268786001 (Caused by ResponseError('too many 400 error responses'))\n"
     ]
    },
    {
     "name": "stderr",
     "output_type": "stream",
     "text": [
      "Fetching Supplier Details:  39%|████████████████▍                         | 2537/6468 [1:00:03<6:47:47,  6.22s/product]"
     ]
    },
    {
     "name": "stdout",
     "output_type": "stream",
     "text": [
      "Error fetching supplier for SKU 1251946001 after 5 retries: HTTPSConnectionPool(host='www2.hm.com', port=443): Max retries exceeded with url: /en_us/supplierDetails/articles/1251946001 (Caused by ResponseError('too many 400 error responses'))\n"
     ]
    },
    {
     "name": "stderr",
     "output_type": "stream",
     "text": [
      "Fetching Supplier Details:  39%|████████████████▌                         | 2544/6468 [1:00:29<8:14:09,  7.56s/product]"
     ]
    },
    {
     "name": "stdout",
     "output_type": "stream",
     "text": [
      "Error fetching supplier for SKU 1266327001 after 5 retries: HTTPSConnectionPool(host='www2.hm.com', port=443): Max retries exceeded with url: /en_us/supplierDetails/articles/1266327001 (Caused by ProtocolError('Connection aborted.', ConnectionAbortedError(10053, 'An established connection was aborted by the software in your host machine', None, 10053, None)))\n"
     ]
    },
    {
     "name": "stderr",
     "output_type": "stream",
     "text": [
      "Fetching Supplier Details:  39%|████████████████▌                         | 2550/6468 [1:01:13<8:52:10,  8.15s/product]"
     ]
    },
    {
     "name": "stdout",
     "output_type": "stream",
     "text": [
      "Error fetching supplier for SKU 1269364001 after 5 retries: HTTPSConnectionPool(host='www2.hm.com', port=443): Max retries exceeded with url: /en_us/supplierDetails/articles/1269364001 (Caused by ResponseError('too many 400 error responses'))\n"
     ]
    },
    {
     "name": "stderr",
     "output_type": "stream",
     "text": [
      "Fetching Supplier Details:  40%|████████████████▌                         | 2555/6468 [1:01:33<7:29:16,  6.89s/product]"
     ]
    },
    {
     "name": "stdout",
     "output_type": "stream",
     "text": [
      "Error fetching supplier for SKU 1272863001 after 5 retries: HTTPSConnectionPool(host='www2.hm.com', port=443): Max retries exceeded with url: /en_us/supplierDetails/articles/1272863001 (Caused by ResponseError('too many 400 error responses'))\n"
     ]
    },
    {
     "name": "stderr",
     "output_type": "stream",
     "text": [
      "Fetching Supplier Details:  40%|████████████████▌                         | 2560/6468 [1:01:53<7:19:58,  6.76s/product]"
     ]
    },
    {
     "name": "stdout",
     "output_type": "stream",
     "text": [
      "Error fetching supplier for SKU 1250160001 after 5 retries: HTTPSConnectionPool(host='www2.hm.com', port=443): Max retries exceeded with url: /en_us/supplierDetails/articles/1250160001 (Caused by ResponseError('too many 400 error responses'))\n"
     ]
    },
    {
     "name": "stderr",
     "output_type": "stream",
     "text": [
      "Fetching Supplier Details:  40%|████████████████▋                         | 2578/6468 [1:02:28<7:06:51,  6.58s/product]"
     ]
    },
    {
     "name": "stdout",
     "output_type": "stream",
     "text": [
      "Error fetching supplier for SKU 1260947009 after 5 retries: HTTPSConnectionPool(host='www2.hm.com', port=443): Max retries exceeded with url: /en_us/supplierDetails/articles/1260947009 (Caused by ResponseError('too many 400 error responses'))\n"
     ]
    },
    {
     "name": "stderr",
     "output_type": "stream",
     "text": [
      "Fetching Supplier Details:  40%|████████████████▊                         | 2585/6468 [1:02:50<6:57:49,  6.46s/product]"
     ]
    },
    {
     "name": "stdout",
     "output_type": "stream",
     "text": [
      "Error fetching supplier for SKU 1238919002 after 5 retries: HTTPSConnectionPool(host='www2.hm.com', port=443): Max retries exceeded with url: /en_us/supplierDetails/articles/1238919002 (Caused by ResponseError('too many 400 error responses'))\n"
     ]
    },
    {
     "name": "stderr",
     "output_type": "stream",
     "text": [
      "Fetching Supplier Details:  40%|████████████████▊                         | 2588/6468 [1:03:09<8:15:57,  7.67s/product]"
     ]
    },
    {
     "name": "stdout",
     "output_type": "stream",
     "text": [
      "Error fetching supplier for SKU 1268785001 after 5 retries: HTTPSConnectionPool(host='www2.hm.com', port=443): Max retries exceeded with url: /en_us/supplierDetails/articles/1268785001 (Caused by ResponseError('too many 400 error responses'))\n"
     ]
    },
    {
     "name": "stderr",
     "output_type": "stream",
     "text": [
      "Fetching Supplier Details:  40%|████████████████▍                        | 2589/6468 [1:03:28<12:06:55, 11.24s/product]"
     ]
    },
    {
     "name": "stdout",
     "output_type": "stream",
     "text": [
      "Error fetching supplier for SKU 1117603009 after 5 retries: HTTPSConnectionPool(host='www2.hm.com', port=443): Max retries exceeded with url: /en_us/supplierDetails/articles/1117603009 (Caused by ResponseError('too many 400 error responses'))\n"
     ]
    },
    {
     "name": "stderr",
     "output_type": "stream",
     "text": [
      "Fetching Supplier Details:  40%|████████████████▊                         | 2595/6468 [1:03:47<4:47:04,  4.45s/product]"
     ]
    },
    {
     "name": "stdout",
     "output_type": "stream",
     "text": [
      "Error fetching supplier for SKU 1117603009 after 5 retries: HTTPSConnectionPool(host='www2.hm.com', port=443): Max retries exceeded with url: /en_us/supplierDetails/articles/1117603009 (Caused by ResponseError('too many 400 error responses'))\n"
     ]
    },
    {
     "name": "stderr",
     "output_type": "stream",
     "text": [
      "Fetching Supplier Details:  40%|████████████████▊                         | 2598/6468 [1:04:07<7:36:56,  7.08s/product]"
     ]
    },
    {
     "name": "stdout",
     "output_type": "stream",
     "text": [
      "Error fetching supplier for SKU 1236906001 after 5 retries: HTTPSConnectionPool(host='www2.hm.com', port=443): Max retries exceeded with url: /en_us/supplierDetails/articles/1236906001 (Caused by ResponseError('too many 400 error responses'))\n"
     ]
    },
    {
     "name": "stderr",
     "output_type": "stream",
     "text": [
      "Fetching Supplier Details:  40%|████████████████▉                         | 2615/6468 [1:04:38<6:15:41,  5.85s/product]"
     ]
    },
    {
     "name": "stdout",
     "output_type": "stream",
     "text": [
      "Error fetching supplier for SKU 1270711001 after 5 retries: HTTPSConnectionPool(host='www2.hm.com', port=443): Max retries exceeded with url: /en_us/supplierDetails/articles/1270711001 (Caused by ResponseError('too many 400 error responses'))\n"
     ]
    },
    {
     "name": "stderr",
     "output_type": "stream",
     "text": [
      "Fetching Supplier Details:  40%|█████████████████                         | 2619/6468 [1:04:59<8:00:59,  7.50s/product]"
     ]
    },
    {
     "name": "stdout",
     "output_type": "stream",
     "text": [
      "Error fetching supplier for SKU 1267128001 after 5 retries: HTTPSConnectionPool(host='www2.hm.com', port=443): Max retries exceeded with url: /en_us/supplierDetails/articles/1267128001 (Caused by ResponseError('too many 400 error responses'))\n"
     ]
    },
    {
     "name": "stderr",
     "output_type": "stream",
     "text": [
      "Fetching Supplier Details:  41%|█████████████████                         | 2629/6468 [1:05:23<6:43:04,  6.30s/product]"
     ]
    },
    {
     "name": "stdout",
     "output_type": "stream",
     "text": [
      "Error fetching supplier for SKU 1242533001 after 5 retries: HTTPSConnectionPool(host='www2.hm.com', port=443): Max retries exceeded with url: /en_us/supplierDetails/articles/1242533001 (Caused by ResponseError('too many 400 error responses'))\n"
     ]
    },
    {
     "name": "stderr",
     "output_type": "stream",
     "text": [
      "Fetching Supplier Details:  41%|█████████████████                         | 2637/6468 [1:05:47<6:28:53,  6.09s/product]"
     ]
    },
    {
     "name": "stdout",
     "output_type": "stream",
     "text": [
      "Error fetching supplier for SKU 1267632002 after 5 retries: HTTPSConnectionPool(host='www2.hm.com', port=443): Max retries exceeded with url: /en_us/supplierDetails/articles/1267632002 (Caused by ResponseError('too many 400 error responses'))\n"
     ]
    },
    {
     "name": "stderr",
     "output_type": "stream",
     "text": [
      "Fetching Supplier Details:  41%|█████████████████▏                        | 2645/6468 [1:06:19<8:29:41,  8.00s/product]"
     ]
    },
    {
     "name": "stdout",
     "output_type": "stream",
     "text": [
      "Error fetching supplier for SKU 1252140001 after 5 retries: HTTPSConnectionPool(host='www2.hm.com', port=443): Max retries exceeded with url: /en_us/supplierDetails/articles/1252140001 (Caused by ResponseError('too many 400 error responses'))\n"
     ]
    },
    {
     "name": "stderr",
     "output_type": "stream",
     "text": [
      "Fetching Supplier Details:  41%|████████████████▊                        | 2647/6468 [1:06:40<10:49:07, 10.19s/product]"
     ]
    },
    {
     "name": "stdout",
     "output_type": "stream",
     "text": [
      "Error fetching supplier for SKU 1026503008 after 5 retries: HTTPSConnectionPool(host='www2.hm.com', port=443): Max retries exceeded with url: /en_us/supplierDetails/articles/1026503008 (Caused by ResponseError('too many 400 error responses'))\n"
     ]
    },
    {
     "name": "stderr",
     "output_type": "stream",
     "text": [
      "Fetching Supplier Details:  41%|█████████████████▏                        | 2653/6468 [1:07:10<9:17:21,  8.77s/product]"
     ]
    },
    {
     "name": "stdout",
     "output_type": "stream",
     "text": [
      "Error fetching supplier for SKU 1245903001 after 5 retries: HTTPSConnectionPool(host='www2.hm.com', port=443): Max retries exceeded with url: /en_us/supplierDetails/articles/1245903001 (Caused by ResponseError('too many 400 error responses'))\n"
     ]
    },
    {
     "name": "stderr",
     "output_type": "stream",
     "text": [
      "Fetching Supplier Details:  41%|████████████████▊                        | 2654/6468 [1:07:28<12:02:28, 11.37s/product]"
     ]
    },
    {
     "name": "stdout",
     "output_type": "stream",
     "text": [
      "Error fetching supplier for SKU 1264138001 after 5 retries: HTTPSConnectionPool(host='www2.hm.com', port=443): Max retries exceeded with url: /en_us/supplierDetails/articles/1264138001 (Caused by ResponseError('too many 400 error responses'))\n"
     ]
    },
    {
     "name": "stderr",
     "output_type": "stream",
     "text": [
      "Fetching Supplier Details:  41%|█████████████████▎                        | 2663/6468 [1:07:50<6:20:58,  6.01s/product]"
     ]
    },
    {
     "name": "stdout",
     "output_type": "stream",
     "text": [
      "Error fetching supplier for SKU 1239131001 after 5 retries: HTTPSConnectionPool(host='www2.hm.com', port=443): Max retries exceeded with url: /en_us/supplierDetails/articles/1239131001 (Caused by ResponseError('too many 400 error responses'))\n"
     ]
    },
    {
     "name": "stderr",
     "output_type": "stream",
     "text": [
      "Fetching Supplier Details:  41%|█████████████████▎                        | 2669/6468 [1:08:10<6:46:27,  6.42s/product]"
     ]
    },
    {
     "name": "stdout",
     "output_type": "stream",
     "text": [
      "Error fetching supplier for SKU 1224482017 after 5 retries: HTTPSConnectionPool(host='www2.hm.com', port=443): Max retries exceeded with url: /en_us/supplierDetails/articles/1224482017 (Caused by ResponseError('too many 400 error responses'))\n"
     ]
    },
    {
     "name": "stderr",
     "output_type": "stream",
     "text": [
      "Fetching Supplier Details:  41%|█████████████████▍                        | 2681/6468 [1:08:39<6:50:51,  6.51s/product]"
     ]
    },
    {
     "name": "stdout",
     "output_type": "stream",
     "text": [
      "Error fetching supplier for SKU 1269118001 after 5 retries: HTTPSConnectionPool(host='www2.hm.com', port=443): Max retries exceeded with url: /en_us/supplierDetails/articles/1269118001 (Caused by ResponseError('too many 400 error responses'))\n"
     ]
    },
    {
     "name": "stderr",
     "output_type": "stream",
     "text": [
      "Fetching Supplier Details:  41%|█████████████████                        | 2682/6468 [1:08:57<10:33:37, 10.04s/product]"
     ]
    },
    {
     "name": "stdout",
     "output_type": "stream",
     "text": [
      "Error fetching supplier for SKU 1117399005 after 5 retries: HTTPSConnectionPool(host='www2.hm.com', port=443): Max retries exceeded with url: /en_us/supplierDetails/articles/1117399005 (Caused by ResponseError('too many 400 error responses'))\n"
     ]
    },
    {
     "name": "stderr",
     "output_type": "stream",
     "text": [
      "Fetching Supplier Details:  42%|█████████████████▍                        | 2686/6468 [1:09:17<8:38:16,  8.22s/product]"
     ]
    },
    {
     "name": "stdout",
     "output_type": "stream",
     "text": [
      "Error fetching supplier for SKU 1239445001 after 5 retries: HTTPSConnectionPool(host='www2.hm.com', port=443): Max retries exceeded with url: /en_us/supplierDetails/articles/1239445001 (Caused by ResponseError('too many 400 error responses'))\n"
     ]
    },
    {
     "name": "stderr",
     "output_type": "stream",
     "text": [
      "Fetching Supplier Details:  42%|█████████████████                        | 2687/6468 [1:09:36<11:50:44, 11.28s/product]"
     ]
    },
    {
     "name": "stdout",
     "output_type": "stream",
     "text": [
      "Error fetching supplier for SKU 1256064003 after 5 retries: HTTPSConnectionPool(host='www2.hm.com', port=443): Max retries exceeded with url: /en_us/supplierDetails/articles/1256064003 (Caused by ResponseError('too many 400 error responses'))\n"
     ]
    },
    {
     "name": "stderr",
     "output_type": "stream",
     "text": [
      "Fetching Supplier Details:  42%|█████████████████                        | 2688/6468 [1:09:54<14:01:55, 13.36s/product]"
     ]
    },
    {
     "name": "stdout",
     "output_type": "stream",
     "text": [
      "Error fetching supplier for SKU 1211038001 after 5 retries: HTTPSConnectionPool(host='www2.hm.com', port=443): Max retries exceeded with url: /en_us/supplierDetails/articles/1211038001 (Caused by ResponseError('too many 400 error responses'))\n"
     ]
    },
    {
     "name": "stderr",
     "output_type": "stream",
     "text": [
      "Fetching Supplier Details:  42%|█████████████████▌                        | 2700/6468 [1:10:21<7:19:42,  7.00s/product]"
     ]
    },
    {
     "name": "stdout",
     "output_type": "stream",
     "text": [
      "Error fetching supplier for SKU 1267847001 after 5 retries: HTTPSConnectionPool(host='www2.hm.com', port=443): Max retries exceeded with url: /en_us/supplierDetails/articles/1267847001 (Caused by ResponseError('too many 400 error responses'))\n"
     ]
    },
    {
     "name": "stderr",
     "output_type": "stream",
     "text": [
      "Fetching Supplier Details:  42%|█████████████████▏                       | 2702/6468 [1:10:43<10:27:21, 10.00s/product]"
     ]
    },
    {
     "name": "stdout",
     "output_type": "stream",
     "text": [
      "Error fetching supplier for SKU 1134581009 after 5 retries: HTTPSConnectionPool(host='www2.hm.com', port=443): Max retries exceeded with url: /en_us/supplierDetails/articles/1134581009 (Caused by ResponseError('too many 400 error responses'))\n"
     ]
    },
    {
     "name": "stderr",
     "output_type": "stream",
     "text": [
      "Fetching Supplier Details:  42%|█████████████████▌                        | 2706/6468 [1:11:02<8:14:16,  7.88s/product]"
     ]
    },
    {
     "name": "stdout",
     "output_type": "stream",
     "text": [
      "Error fetching supplier for SKU 1247790001 after 5 retries: HTTPSConnectionPool(host='www2.hm.com', port=443): Max retries exceeded with url: /en_us/supplierDetails/articles/1247790001 (Caused by ResponseError('too many 400 error responses'))\n"
     ]
    },
    {
     "name": "stderr",
     "output_type": "stream",
     "text": [
      "Fetching Supplier Details:  42%|█████████████████▌                        | 2712/6468 [1:11:23<7:03:16,  6.76s/product]"
     ]
    },
    {
     "name": "stdout",
     "output_type": "stream",
     "text": [
      "Error fetching supplier for SKU 1264625002 after 5 retries: HTTPSConnectionPool(host='www2.hm.com', port=443): Max retries exceeded with url: /en_us/supplierDetails/articles/1264625002 (Caused by ResponseError('too many 400 error responses'))\n"
     ]
    },
    {
     "name": "stderr",
     "output_type": "stream",
     "text": [
      "Fetching Supplier Details:  42%|█████████████████▏                       | 2713/6468 [1:11:40<10:22:18,  9.94s/product]"
     ]
    },
    {
     "name": "stdout",
     "output_type": "stream",
     "text": [
      "Error fetching supplier for SKU 1270558001 after 5 retries: HTTPSConnectionPool(host='www2.hm.com', port=443): Max retries exceeded with url: /en_us/supplierDetails/articles/1270558001 (Caused by ResponseError('too many 400 error responses'))\n"
     ]
    },
    {
     "name": "stderr",
     "output_type": "stream",
     "text": [
      "Fetching Supplier Details:  42%|█████████████████▏                       | 2715/6468 [1:11:59<10:56:07, 10.49s/product]"
     ]
    },
    {
     "name": "stdout",
     "output_type": "stream",
     "text": [
      "Error fetching supplier for SKU 1270558002 after 5 retries: HTTPSConnectionPool(host='www2.hm.com', port=443): Max retries exceeded with url: /en_us/supplierDetails/articles/1270558002 (Caused by ResponseError('too many 400 error responses'))\n"
     ]
    },
    {
     "name": "stderr",
     "output_type": "stream",
     "text": [
      "Fetching Supplier Details:  42%|█████████████████▋                        | 2731/6468 [1:12:23<5:46:47,  5.57s/product]"
     ]
    },
    {
     "name": "stdout",
     "output_type": "stream",
     "text": [
      "Error fetching supplier for SKU 1264627001 after 5 retries: HTTPSConnectionPool(host='www2.hm.com', port=443): Max retries exceeded with url: /en_us/supplierDetails/articles/1264627001 (Caused by ResponseError('too many 400 error responses'))\n"
     ]
    },
    {
     "name": "stderr",
     "output_type": "stream",
     "text": [
      "Fetching Supplier Details:  42%|█████████████████▋                        | 2732/6468 [1:12:41<9:31:51,  9.18s/product]"
     ]
    },
    {
     "name": "stdout",
     "output_type": "stream",
     "text": [
      "Error fetching supplier for SKU 1267620001 after 5 retries: HTTPSConnectionPool(host='www2.hm.com', port=443): Max retries exceeded with url: /en_us/supplierDetails/articles/1267620001 (Caused by ResponseError('too many 400 error responses'))\n"
     ]
    },
    {
     "name": "stderr",
     "output_type": "stream",
     "text": [
      "Fetching Supplier Details:  42%|█████████████████▎                       | 2733/6468 [1:12:58<12:08:43, 11.71s/product]"
     ]
    },
    {
     "name": "stdout",
     "output_type": "stream",
     "text": [
      "Error fetching supplier for SKU 1232575005 after 5 retries: HTTPSConnectionPool(host='www2.hm.com', port=443): Max retries exceeded with url: /en_us/supplierDetails/articles/1232575005 (Caused by ResponseError('too many 400 error responses'))\n"
     ]
    },
    {
     "name": "stderr",
     "output_type": "stream",
     "text": [
      "Fetching Supplier Details:  42%|█████████████████▊                        | 2737/6468 [1:13:17<8:35:53,  8.30s/product]"
     ]
    },
    {
     "name": "stdout",
     "output_type": "stream",
     "text": [
      "Error fetching supplier for SKU 1265323001 after 5 retries: HTTPSConnectionPool(host='www2.hm.com', port=443): Max retries exceeded with url: /en_us/supplierDetails/articles/1265323001 (Caused by ResponseError('too many 400 error responses'))\n"
     ]
    },
    {
     "name": "stderr",
     "output_type": "stream",
     "text": [
      "Fetching Supplier Details:  42%|█████████████████▎                       | 2738/6468 [1:13:35<11:36:31, 11.20s/product]"
     ]
    },
    {
     "name": "stdout",
     "output_type": "stream",
     "text": [
      "Error fetching supplier for SKU 1117399006 after 5 retries: HTTPSConnectionPool(host='www2.hm.com', port=443): Max retries exceeded with url: /en_us/supplierDetails/articles/1117399006 (Caused by ResponseError('too many 400 error responses'))\n"
     ]
    },
    {
     "name": "stderr",
     "output_type": "stream",
     "text": [
      "Fetching Supplier Details:  42%|█████████████████▊                        | 2743/6468 [1:13:56<8:05:19,  7.82s/product]"
     ]
    },
    {
     "name": "stdout",
     "output_type": "stream",
     "text": [
      "Error fetching supplier for SKU 1262871001 after 5 retries: HTTPSConnectionPool(host='www2.hm.com', port=443): Max retries exceeded with url: /en_us/supplierDetails/articles/1262871001 (Caused by ResponseError('too many 400 error responses'))\n"
     ]
    },
    {
     "name": "stderr",
     "output_type": "stream",
     "text": [
      "Fetching Supplier Details:  42%|█████████████████▊                        | 2745/6468 [1:14:14<9:28:03,  9.15s/product]"
     ]
    },
    {
     "name": "stdout",
     "output_type": "stream",
     "text": [
      "Error fetching supplier for SKU 1241316001 after 5 retries: HTTPSConnectionPool(host='www2.hm.com', port=443): Max retries exceeded with url: /en_us/supplierDetails/articles/1241316001 (Caused by ResponseError('too many 400 error responses'))\n"
     ]
    },
    {
     "name": "stderr",
     "output_type": "stream",
     "text": [
      "Fetching Supplier Details:  42%|█████████████████▊                        | 2748/6468 [1:14:32<8:55:52,  8.64s/product]"
     ]
    },
    {
     "name": "stdout",
     "output_type": "stream",
     "text": [
      "Error fetching supplier for SKU 1261293001 after 5 retries: HTTPSConnectionPool(host='www2.hm.com', port=443): Max retries exceeded with url: /en_us/supplierDetails/articles/1261293001 (Caused by ResponseError('too many 400 error responses'))\n"
     ]
    },
    {
     "name": "stderr",
     "output_type": "stream",
     "text": [
      "Fetching Supplier Details:  43%|█████████████████▉                        | 2754/6468 [1:14:52<6:44:42,  6.54s/product]"
     ]
    },
    {
     "name": "stdout",
     "output_type": "stream",
     "text": [
      "Error fetching supplier for SKU 1274194001 after 5 retries: HTTPSConnectionPool(host='www2.hm.com', port=443): Max retries exceeded with url: /en_us/supplierDetails/articles/1274194001 (Caused by ResponseError('too many 400 error responses'))\n"
     ]
    },
    {
     "name": "stderr",
     "output_type": "stream",
     "text": [
      "Fetching Supplier Details:  44%|██████████████████▎                       | 2815/6468 [1:15:48<5:56:04,  5.85s/product]"
     ]
    },
    {
     "name": "stdout",
     "output_type": "stream",
     "text": [
      "Error fetching supplier for SKU 1261226001 after 5 retries: HTTPSConnectionPool(host='www2.hm.com', port=443): Max retries exceeded with url: /en_us/supplierDetails/articles/1261226001 (Caused by ResponseError('too many 400 error responses'))\n"
     ]
    },
    {
     "name": "stderr",
     "output_type": "stream",
     "text": [
      "Fetching Supplier Details:  44%|██████████████████▎                       | 2824/6468 [1:16:11<6:13:19,  6.15s/product]"
     ]
    },
    {
     "name": "stdout",
     "output_type": "stream",
     "text": [
      "Error fetching supplier for SKU 1269317001 after 5 retries: HTTPSConnectionPool(host='www2.hm.com', port=443): Max retries exceeded with url: /en_us/supplierDetails/articles/1269317001 (Caused by ResponseError('too many 400 error responses'))\n"
     ]
    },
    {
     "name": "stderr",
     "output_type": "stream",
     "text": [
      "Fetching Supplier Details:  44%|██████████████████▍                       | 2839/6468 [1:16:35<5:42:31,  5.66s/product]"
     ]
    },
    {
     "name": "stdout",
     "output_type": "stream",
     "text": [
      "Error fetching supplier for SKU 1234697002 after 5 retries: HTTPSConnectionPool(host='www2.hm.com', port=443): Max retries exceeded with url: /en_us/supplierDetails/articles/1234697002 (Caused by ResponseError('too many 400 error responses'))\n"
     ]
    },
    {
     "name": "stderr",
     "output_type": "stream",
     "text": [
      "Fetching Supplier Details:  44%|██████████████████▌                       | 2855/6468 [1:16:59<5:36:14,  5.58s/product]"
     ]
    },
    {
     "name": "stdout",
     "output_type": "stream",
     "text": [
      "Error fetching supplier for SKU 1290615002 after 5 retries: HTTPSConnectionPool(host='www2.hm.com', port=443): Max retries exceeded with url: /en_us/supplierDetails/articles/1290615002 (Caused by ResponseError('too many 400 error responses'))\n"
     ]
    },
    {
     "name": "stderr",
     "output_type": "stream",
     "text": [
      "Fetching Supplier Details:  44%|██████████████████▋                       | 2870/6468 [1:17:39<9:48:29,  9.81s/product]"
     ]
    },
    {
     "name": "stdout",
     "output_type": "stream",
     "text": [
      "Error fetching supplier for SKU 1203076003 after 5 retries: HTTPSConnectionPool(host='www2.hm.com', port=443): Max retries exceeded with url: /en_us/supplierDetails/articles/1203076003 (Caused by ResponseError('too many 400 error responses'))\n"
     ]
    },
    {
     "name": "stderr",
     "output_type": "stream",
     "text": [
      "Fetching Supplier Details:  44%|██████████████████▏                      | 2872/6468 [1:17:58<10:23:32, 10.40s/product]"
     ]
    },
    {
     "name": "stdout",
     "output_type": "stream",
     "text": [
      "Error fetching supplier for SKU 1257582004 after 5 retries: HTTPSConnectionPool(host='www2.hm.com', port=443): Max retries exceeded with url: /en_us/supplierDetails/articles/1257582004 (Caused by ResponseError('too many 400 error responses'))\n"
     ]
    },
    {
     "name": "stderr",
     "output_type": "stream",
     "text": [
      "Fetching Supplier Details:  45%|██████████████████▊                       | 2892/6468 [1:18:36<6:31:02,  6.56s/product]"
     ]
    },
    {
     "name": "stdout",
     "output_type": "stream",
     "text": [
      "Error fetching supplier for SKU 1296438002 after 5 retries: HTTPSConnectionPool(host='www2.hm.com', port=443): Max retries exceeded with url: /en_us/supplierDetails/articles/1296438002 (Caused by ResponseError('too many 400 error responses'))\n"
     ]
    },
    {
     "name": "stderr",
     "output_type": "stream",
     "text": [
      "Fetching Supplier Details:  45%|██████████████████▉                       | 2924/6468 [1:19:15<5:49:57,  5.92s/product]"
     ]
    },
    {
     "name": "stdout",
     "output_type": "stream",
     "text": [
      "Error fetching supplier for SKU 0751471139 after 5 retries: HTTPSConnectionPool(host='www2.hm.com', port=443): Max retries exceeded with url: /en_us/supplierDetails/articles/0751471139 (Caused by ResponseError('too many 400 error responses'))\n"
     ]
    },
    {
     "name": "stderr",
     "output_type": "stream",
     "text": [
      "Fetching Supplier Details:  45%|██████████████████▉                       | 2925/6468 [1:19:33<9:18:37,  9.46s/product]"
     ]
    },
    {
     "name": "stdout",
     "output_type": "stream",
     "text": [
      "Error fetching supplier for SKU 1232584002 after 5 retries: HTTPSConnectionPool(host='www2.hm.com', port=443): Max retries exceeded with url: /en_us/supplierDetails/articles/1232584002 (Caused by ResponseError('too many 400 error responses'))\n"
     ]
    },
    {
     "name": "stderr",
     "output_type": "stream",
     "text": [
      "Fetching Supplier Details:  45%|███████████████████                       | 2939/6468 [1:19:58<5:50:23,  5.96s/product]"
     ]
    },
    {
     "name": "stdout",
     "output_type": "stream",
     "text": [
      "Error fetching supplier for SKU 1269308002 after 5 retries: HTTPSConnectionPool(host='www2.hm.com', port=443): Max retries exceeded with url: /en_us/supplierDetails/articles/1269308002 (Caused by ResponseError('too many 400 error responses'))\n"
     ]
    },
    {
     "name": "stderr",
     "output_type": "stream",
     "text": [
      "Fetching Supplier Details:  46%|███████████████████                       | 2945/6468 [1:20:20<6:27:57,  6.61s/product]"
     ]
    },
    {
     "name": "stdout",
     "output_type": "stream",
     "text": [
      "Error fetching supplier for SKU 1242063002 after 5 retries: HTTPSConnectionPool(host='www2.hm.com', port=443): Max retries exceeded with url: /en_us/supplierDetails/articles/1242063002 (Caused by ResponseError('too many 400 error responses'))\n"
     ]
    },
    {
     "name": "stderr",
     "output_type": "stream",
     "text": [
      "Fetching Supplier Details:  46%|███████████████████▏                      | 2949/6468 [1:20:42<7:40:35,  7.85s/product]"
     ]
    },
    {
     "name": "stdout",
     "output_type": "stream",
     "text": [
      "Error fetching supplier for SKU 1246949003 after 5 retries: HTTPSConnectionPool(host='www2.hm.com', port=443): Max retries exceeded with url: /en_us/supplierDetails/articles/1246949003 (Caused by ResponseError('too many 400 error responses'))\n"
     ]
    },
    {
     "name": "stderr",
     "output_type": "stream",
     "text": [
      "Fetching Supplier Details:  46%|███████████████████▏                      | 2958/6468 [1:21:05<5:55:35,  6.08s/product]"
     ]
    },
    {
     "name": "stdout",
     "output_type": "stream",
     "text": [
      "Error fetching supplier for SKU 1237829002 after 5 retries: HTTPSConnectionPool(host='www2.hm.com', port=443): Max retries exceeded with url: /en_us/supplierDetails/articles/1237829002 (Caused by ResponseError('too many 400 error responses'))\n"
     ]
    },
    {
     "name": "stderr",
     "output_type": "stream",
     "text": [
      "Fetching Supplier Details:  46%|███████████████████▎                      | 2973/6468 [1:21:35<5:53:11,  6.06s/product]"
     ]
    },
    {
     "name": "stdout",
     "output_type": "stream",
     "text": [
      "Error fetching supplier for SKU 1261881002 after 5 retries: HTTPSConnectionPool(host='www2.hm.com', port=443): Max retries exceeded with url: /en_us/supplierDetails/articles/1261881002 (Caused by ResponseError('too many 400 error responses'))\n"
     ]
    },
    {
     "name": "stderr",
     "output_type": "stream",
     "text": [
      "Fetching Supplier Details:  46%|███████████████████▍                      | 2984/6468 [1:21:59<5:36:40,  5.80s/product]"
     ]
    },
    {
     "name": "stdout",
     "output_type": "stream",
     "text": [
      "Error fetching supplier for SKU 1273715001 after 5 retries: HTTPSConnectionPool(host='www2.hm.com', port=443): Max retries exceeded with url: /en_us/supplierDetails/articles/1273715001 (Caused by ResponseError('too many 400 error responses'))\n"
     ]
    },
    {
     "name": "stderr",
     "output_type": "stream",
     "text": [
      "Fetching Supplier Details:  46%|███████████████████▍                      | 2996/6468 [1:22:24<5:27:34,  5.66s/product]"
     ]
    },
    {
     "name": "stdout",
     "output_type": "stream",
     "text": [
      "Error fetching supplier for SKU 1256276002 after 5 retries: HTTPSConnectionPool(host='www2.hm.com', port=443): Max retries exceeded with url: /en_us/supplierDetails/articles/1256276002 (Caused by ResponseError('too many 400 error responses'))\n"
     ]
    },
    {
     "name": "stderr",
     "output_type": "stream",
     "text": [
      "Fetching Supplier Details:  46%|███████████████████▍                      | 2999/6468 [1:22:44<7:28:02,  7.75s/product]"
     ]
    },
    {
     "name": "stdout",
     "output_type": "stream",
     "text": [
      "Error fetching supplier for SKU 1239446001 after 5 retries: HTTPSConnectionPool(host='www2.hm.com', port=443): Max retries exceeded with url: /en_us/supplierDetails/articles/1239446001 (Caused by ResponseError('too many 400 error responses'))\n"
     ]
    },
    {
     "name": "stderr",
     "output_type": "stream",
     "text": [
      "Fetching Supplier Details:  46%|███████████████████▌                      | 3004/6468 [1:23:05<6:42:41,  6.98s/product]"
     ]
    },
    {
     "name": "stdout",
     "output_type": "stream",
     "text": [
      "Error fetching supplier for SKU 1268037001 after 5 retries: HTTPSConnectionPool(host='www2.hm.com', port=443): Max retries exceeded with url: /en_us/supplierDetails/articles/1268037001 (Caused by ResponseError('too many 400 error responses'))\n"
     ]
    },
    {
     "name": "stderr",
     "output_type": "stream",
     "text": [
      "Fetching Supplier Details:  47%|███████████████████▌                      | 3012/6468 [1:23:26<5:42:55,  5.95s/product]"
     ]
    },
    {
     "name": "stdout",
     "output_type": "stream",
     "text": [
      "Error fetching supplier for SKU 1277899001 after 5 retries: HTTPSConnectionPool(host='www2.hm.com', port=443): Max retries exceeded with url: /en_us/supplierDetails/articles/1277899001 (Caused by ResponseError('too many 400 error responses'))\n"
     ]
    },
    {
     "name": "stderr",
     "output_type": "stream",
     "text": [
      "Fetching Supplier Details:  47%|███████████████████▊                      | 3043/6468 [1:23:59<5:24:39,  5.69s/product]"
     ]
    },
    {
     "name": "stdout",
     "output_type": "stream",
     "text": [
      "Error fetching supplier for SKU 1236276007 after 5 retries: HTTPSConnectionPool(host='www2.hm.com', port=443): Max retries exceeded with url: /en_us/supplierDetails/articles/1236276007 (Caused by ResponseError('too many 400 error responses'))\n"
     ]
    },
    {
     "name": "stderr",
     "output_type": "stream",
     "text": [
      "Fetching Supplier Details:  47%|███████████████████▊                      | 3056/6468 [1:24:24<5:34:56,  5.89s/product]"
     ]
    },
    {
     "name": "stdout",
     "output_type": "stream",
     "text": [
      "Error fetching supplier for SKU 1301401001 after 5 retries: HTTPSConnectionPool(host='www2.hm.com', port=443): Max retries exceeded with url: /en_us/supplierDetails/articles/1301401001 (Caused by ResponseError('too many 400 error responses'))\n"
     ]
    },
    {
     "name": "stderr",
     "output_type": "stream",
     "text": [
      "Fetching Supplier Details:  47%|███████████████████▉                      | 3062/6468 [1:24:44<6:07:19,  6.47s/product]"
     ]
    },
    {
     "name": "stdout",
     "output_type": "stream",
     "text": [
      "Error fetching supplier for SKU 1265903002 after 5 retries: HTTPSConnectionPool(host='www2.hm.com', port=443): Max retries exceeded with url: /en_us/supplierDetails/articles/1265903002 (Caused by ResponseError('too many 400 error responses'))\n"
     ]
    },
    {
     "name": "stderr",
     "output_type": "stream",
     "text": [
      "Fetching Supplier Details:  47%|███████████████████▉                      | 3071/6468 [1:25:06<5:32:54,  5.88s/product]"
     ]
    },
    {
     "name": "stdout",
     "output_type": "stream",
     "text": [
      "Error fetching supplier for SKU 1237069001 after 5 retries: HTTPSConnectionPool(host='www2.hm.com', port=443): Max retries exceeded with url: /en_us/supplierDetails/articles/1237069001 (Caused by ResponseError('too many 400 error responses'))\n"
     ]
    },
    {
     "name": "stderr",
     "output_type": "stream",
     "text": [
      "Fetching Supplier Details:  48%|███████████████████▉                      | 3076/6468 [1:25:30<7:27:14,  7.91s/product]"
     ]
    },
    {
     "name": "stdout",
     "output_type": "stream",
     "text": [
      "Error fetching supplier for SKU 1266449001 after 5 retries: HTTPSConnectionPool(host='www2.hm.com', port=443): Max retries exceeded with url: /en_us/supplierDetails/articles/1266449001 (Caused by ResponseError('too many 400 error responses'))\n"
     ]
    },
    {
     "name": "stderr",
     "output_type": "stream",
     "text": [
      "Fetching Supplier Details:  48%|████████████████████                      | 3086/6468 [1:25:53<5:44:02,  6.10s/product]"
     ]
    },
    {
     "name": "stdout",
     "output_type": "stream",
     "text": [
      "Error fetching supplier for SKU 1233857002 after 5 retries: HTTPSConnectionPool(host='www2.hm.com', port=443): Max retries exceeded with url: /en_us/supplierDetails/articles/1233857002 (Caused by ResponseError('too many 400 error responses'))\n"
     ]
    },
    {
     "name": "stderr",
     "output_type": "stream",
     "text": [
      "Fetching Supplier Details:  48%|████████████████████▏                     | 3102/6468 [1:26:19<5:24:10,  5.78s/product]"
     ]
    },
    {
     "name": "stdout",
     "output_type": "stream",
     "text": [
      "Error fetching supplier for SKU 1266478002 after 5 retries: HTTPSConnectionPool(host='www2.hm.com', port=443): Max retries exceeded with url: /en_us/supplierDetails/articles/1266478002 (Caused by ResponseError('too many 400 error responses'))\n"
     ]
    },
    {
     "name": "stderr",
     "output_type": "stream",
     "text": [
      "Fetching Supplier Details:  48%|████████████████████▏                     | 3111/6468 [1:26:40<5:22:27,  5.76s/product]"
     ]
    },
    {
     "name": "stdout",
     "output_type": "stream",
     "text": [
      "Error fetching supplier for SKU 1026503012 after 5 retries: HTTPSConnectionPool(host='www2.hm.com', port=443): Max retries exceeded with url: /en_us/supplierDetails/articles/1026503012 (Caused by ResponseError('too many 400 error responses'))\n"
     ]
    },
    {
     "name": "stderr",
     "output_type": "stream",
     "text": [
      "Fetching Supplier Details:  48%|████████████████████▏                     | 3114/6468 [1:26:59<6:56:57,  7.46s/product]"
     ]
    },
    {
     "name": "stdout",
     "output_type": "stream",
     "text": [
      "Error fetching supplier for SKU 1246582001 after 5 retries: HTTPSConnectionPool(host='www2.hm.com', port=443): Max retries exceeded with url: /en_us/supplierDetails/articles/1246582001 (Caused by ResponseError('too many 400 error responses'))\n"
     ]
    },
    {
     "name": "stderr",
     "output_type": "stream",
     "text": [
      "Fetching Supplier Details:  48%|████████████████████▏                     | 3115/6468 [1:27:17<9:52:53, 10.61s/product]"
     ]
    },
    {
     "name": "stdout",
     "output_type": "stream",
     "text": [
      "Error fetching supplier for SKU 1268085002 after 5 retries: HTTPSConnectionPool(host='www2.hm.com', port=443): Max retries exceeded with url: /en_us/supplierDetails/articles/1268085002 (Caused by ResponseError('too many 400 error responses'))\n"
     ]
    },
    {
     "name": "stderr",
     "output_type": "stream",
     "text": [
      "Fetching Supplier Details:  48%|███████████████████▊                     | 3117/6468 [1:27:36<10:13:58, 10.99s/product]"
     ]
    },
    {
     "name": "stdout",
     "output_type": "stream",
     "text": [
      "Error fetching supplier for SKU 1255571001 after 5 retries: HTTPSConnectionPool(host='www2.hm.com', port=443): Max retries exceeded with url: /en_us/supplierDetails/articles/1255571001 (Caused by ResponseError('too many 400 error responses'))\n"
     ]
    },
    {
     "name": "stderr",
     "output_type": "stream",
     "text": [
      "Fetching Supplier Details:  48%|████████████████████▎                     | 3121/6468 [1:27:56<7:41:34,  8.27s/product]"
     ]
    },
    {
     "name": "stdout",
     "output_type": "stream",
     "text": [
      "Error fetching supplier for SKU 1256501002 after 5 retries: HTTPSConnectionPool(host='www2.hm.com', port=443): Max retries exceeded with url: /en_us/supplierDetails/articles/1256501002 (Caused by ResponseError('too many 400 error responses'))\n"
     ]
    },
    {
     "name": "stderr",
     "output_type": "stream",
     "text": [
      "Fetching Supplier Details:  48%|████████████████████▎                     | 3127/6468 [1:28:16<6:05:47,  6.57s/product]"
     ]
    },
    {
     "name": "stdout",
     "output_type": "stream",
     "text": [
      "Error fetching supplier for SKU 1262313001 after 5 retries: HTTPSConnectionPool(host='www2.hm.com', port=443): Max retries exceeded with url: /en_us/supplierDetails/articles/1262313001 (Caused by ResponseError('too many 400 error responses'))\n"
     ]
    },
    {
     "name": "stderr",
     "output_type": "stream",
     "text": [
      "Fetching Supplier Details:  49%|████████████████████▎                     | 3137/6468 [1:28:37<4:56:06,  5.33s/product]"
     ]
    },
    {
     "name": "stdout",
     "output_type": "stream",
     "text": [
      "Error fetching supplier for SKU 1299823001 after 5 retries: HTTPSConnectionPool(host='www2.hm.com', port=443): Max retries exceeded with url: /en_us/supplierDetails/articles/1299823001 (Caused by ResponseError('too many 400 error responses'))\n"
     ]
    },
    {
     "name": "stderr",
     "output_type": "stream",
     "text": [
      "Fetching Supplier Details:  49%|████████████████████▍                     | 3156/6468 [1:29:05<5:07:52,  5.58s/product]"
     ]
    },
    {
     "name": "stdout",
     "output_type": "stream",
     "text": [
      "Error fetching supplier for SKU 1267708001 after 5 retries: HTTPSConnectionPool(host='www2.hm.com', port=443): Max retries exceeded with url: /en_us/supplierDetails/articles/1267708001 (Caused by ResponseError('too many 400 error responses'))\n"
     ]
    },
    {
     "name": "stderr",
     "output_type": "stream",
     "text": [
      "Fetching Supplier Details:  49%|████████████████████▌                     | 3158/6468 [1:29:23<7:22:53,  8.03s/product]"
     ]
    },
    {
     "name": "stdout",
     "output_type": "stream",
     "text": [
      "Error fetching supplier for SKU 1272650001 after 5 retries: HTTPSConnectionPool(host='www2.hm.com', port=443): Max retries exceeded with url: /en_us/supplierDetails/articles/1272650001 (Caused by ResponseError('too many 400 error responses'))\n"
     ]
    },
    {
     "name": "stderr",
     "output_type": "stream",
     "text": [
      "Fetching Supplier Details:  49%|████████████████████▌                     | 3162/6468 [1:29:45<7:12:40,  7.85s/product]"
     ]
    },
    {
     "name": "stdout",
     "output_type": "stream",
     "text": [
      "Error fetching supplier for SKU 1274018001 after 5 retries: HTTPSConnectionPool(host='www2.hm.com', port=443): Max retries exceeded with url: /en_us/supplierDetails/articles/1274018001 (Caused by ResponseError('too many 400 error responses'))\n"
     ]
    },
    {
     "name": "stderr",
     "output_type": "stream",
     "text": [
      "Fetching Supplier Details:  49%|████████████████████▋                     | 3182/6468 [1:30:12<5:13:31,  5.72s/product]"
     ]
    },
    {
     "name": "stdout",
     "output_type": "stream",
     "text": [
      "Error fetching supplier for SKU 1084108005 after 5 retries: HTTPSConnectionPool(host='www2.hm.com', port=443): Max retries exceeded with url: /en_us/supplierDetails/articles/1084108005 (Caused by ResponseError('too many 400 error responses'))\n"
     ]
    },
    {
     "name": "stderr",
     "output_type": "stream",
     "text": [
      "Fetching Supplier Details:  49%|████████████████████▋                     | 3192/6468 [1:30:35<5:18:17,  5.83s/product]"
     ]
    },
    {
     "name": "stdout",
     "output_type": "stream",
     "text": [
      "Error fetching supplier for SKU 1243814002 after 5 retries: HTTPSConnectionPool(host='www2.hm.com', port=443): Max retries exceeded with url: /en_us/supplierDetails/articles/1243814002 (Caused by ResponseError('too many 400 error responses'))\n"
     ]
    },
    {
     "name": "stderr",
     "output_type": "stream",
     "text": [
      "Fetching Supplier Details:  49%|████████████████████▋                     | 3194/6468 [1:30:53<7:30:29,  8.26s/product]"
     ]
    },
    {
     "name": "stdout",
     "output_type": "stream",
     "text": [
      "Error fetching supplier for SKU 1246830006 after 5 retries: HTTPSConnectionPool(host='www2.hm.com', port=443): Max retries exceeded with url: /en_us/supplierDetails/articles/1246830006 (Caused by ResponseError('too many 400 error responses'))\n"
     ]
    },
    {
     "name": "stderr",
     "output_type": "stream",
     "text": [
      "Fetching Supplier Details:  49%|████████████████████▎                    | 3195/6468 [1:31:13<10:34:05, 11.62s/product]"
     ]
    },
    {
     "name": "stdout",
     "output_type": "stream",
     "text": [
      "Error fetching supplier for SKU 1238993002 after 5 retries: HTTPSConnectionPool(host='www2.hm.com', port=443): Max retries exceeded with url: /en_us/supplierDetails/articles/1238993002 (Caused by ResponseError('too many 400 error responses'))\n"
     ]
    },
    {
     "name": "stderr",
     "output_type": "stream",
     "text": [
      "Fetching Supplier Details:  49%|████████████████████▎                    | 3196/6468 [1:31:37<13:54:26, 15.30s/product]"
     ]
    },
    {
     "name": "stdout",
     "output_type": "stream",
     "text": [
      "Error fetching supplier for SKU 1271006001 after 5 retries: HTTPSConnectionPool(host='www2.hm.com', port=443): Max retries exceeded with url: /en_us/supplierDetails/articles/1271006001 (Caused by ResponseError('too many 400 error responses'))\n"
     ]
    },
    {
     "name": "stderr",
     "output_type": "stream",
     "text": [
      "Fetching Supplier Details:  50%|████████████████████▊                     | 3207/6468 [1:32:01<5:34:11,  6.15s/product]"
     ]
    },
    {
     "name": "stdout",
     "output_type": "stream",
     "text": [
      "Error fetching supplier for SKU 1230816004 after 5 retries: HTTPSConnectionPool(host='www2.hm.com', port=443): Max retries exceeded with url: /en_us/supplierDetails/articles/1230816004 (Caused by ResponseError('too many 400 error responses'))\n"
     ]
    },
    {
     "name": "stderr",
     "output_type": "stream",
     "text": [
      "Fetching Supplier Details:  50%|█████████████████████▏                    | 3261/6468 [1:32:47<4:57:46,  5.57s/product]"
     ]
    },
    {
     "name": "stdout",
     "output_type": "stream",
     "text": [
      "Error fetching supplier for SKU 1230524002 after 5 retries: HTTPSConnectionPool(host='www2.hm.com', port=443): Max retries exceeded with url: /en_us/supplierDetails/articles/1230524002 (Caused by ResponseError('too many 400 error responses'))\n"
     ]
    },
    {
     "name": "stderr",
     "output_type": "stream",
     "text": [
      "Fetching Supplier Details:  51%|█████████████████████▏                    | 3269/6468 [1:33:07<5:09:54,  5.81s/product]"
     ]
    },
    {
     "name": "stdout",
     "output_type": "stream",
     "text": [
      "Error fetching supplier for SKU 1275802002 after 5 retries: HTTPSConnectionPool(host='www2.hm.com', port=443): Max retries exceeded with url: /en_us/supplierDetails/articles/1275802002 (Caused by ResponseError('too many 400 error responses'))\n"
     ]
    },
    {
     "name": "stderr",
     "output_type": "stream",
     "text": [
      "Fetching Supplier Details:  51%|█████████████████████▎                    | 3276/6468 [1:33:27<5:20:07,  6.02s/product]"
     ]
    },
    {
     "name": "stdout",
     "output_type": "stream",
     "text": [
      "Error fetching supplier for SKU 1280533002 after 5 retries: HTTPSConnectionPool(host='www2.hm.com', port=443): Max retries exceeded with url: /en_us/supplierDetails/articles/1280533002 (Caused by ResponseError('too many 400 error responses'))\n"
     ]
    },
    {
     "name": "stderr",
     "output_type": "stream",
     "text": [
      "Fetching Supplier Details:  51%|█████████████████████▍                    | 3309/6468 [1:34:04<4:59:39,  5.69s/product]"
     ]
    },
    {
     "name": "stdout",
     "output_type": "stream",
     "text": [
      "Error fetching supplier for SKU 1244553004 after 5 retries: HTTPSConnectionPool(host='www2.hm.com', port=443): Max retries exceeded with url: /en_us/supplierDetails/articles/1244553004 (Caused by ResponseError('too many 400 error responses'))\n"
     ]
    },
    {
     "name": "stderr",
     "output_type": "stream",
     "text": [
      "Fetching Supplier Details:  52%|█████████████████████▊                    | 3366/6468 [1:34:48<4:51:45,  5.64s/product]"
     ]
    },
    {
     "name": "stdout",
     "output_type": "stream",
     "text": [
      "Error fetching supplier for SKU 1272403002 after 5 retries: HTTPSConnectionPool(host='www2.hm.com', port=443): Max retries exceeded with url: /en_us/supplierDetails/articles/1272403002 (Caused by ResponseError('too many 400 error responses'))\n"
     ]
    },
    {
     "name": "stderr",
     "output_type": "stream",
     "text": [
      "Fetching Supplier Details:  52%|█████████████████████▉                    | 3383/6468 [1:35:12<4:45:03,  5.54s/product]"
     ]
    },
    {
     "name": "stdout",
     "output_type": "stream",
     "text": [
      "Error fetching supplier for SKU 1262196001 after 5 retries: HTTPSConnectionPool(host='www2.hm.com', port=443): Max retries exceeded with url: /en_us/supplierDetails/articles/1262196001 (Caused by ResponseError('too many 400 error responses'))\n"
     ]
    },
    {
     "name": "stderr",
     "output_type": "stream",
     "text": [
      "Fetching Supplier Details:  52%|██████████████████████                    | 3392/6468 [1:35:33<4:58:12,  5.82s/product]"
     ]
    },
    {
     "name": "stdout",
     "output_type": "stream",
     "text": [
      "Error fetching supplier for SKU 1246355001 after 5 retries: HTTPSConnectionPool(host='www2.hm.com', port=443): Max retries exceeded with url: /en_us/supplierDetails/articles/1246355001 (Caused by ResponseError('too many 400 error responses'))\n"
     ]
    },
    {
     "name": "stderr",
     "output_type": "stream",
     "text": [
      "Fetching Supplier Details:  53%|██████████████████████                    | 3399/6468 [1:35:55<5:30:08,  6.45s/product]"
     ]
    },
    {
     "name": "stdout",
     "output_type": "stream",
     "text": [
      "Error fetching supplier for SKU 1265915002 after 5 retries: HTTPSConnectionPool(host='www2.hm.com', port=443): Max retries exceeded with url: /en_us/supplierDetails/articles/1265915002 (Caused by ResponseError('too many 400 error responses'))\n"
     ]
    },
    {
     "name": "stderr",
     "output_type": "stream",
     "text": [
      "Fetching Supplier Details:  53%|██████████████████████                    | 3400/6468 [1:36:14<8:43:15, 10.23s/product]"
     ]
    },
    {
     "name": "stdout",
     "output_type": "stream",
     "text": [
      "Error fetching supplier for SKU 1253453002 after 5 retries: HTTPSConnectionPool(host='www2.hm.com', port=443): Max retries exceeded with url: /en_us/supplierDetails/articles/1253453002 (Caused by ResponseError('too many 400 error responses'))\n"
     ]
    },
    {
     "name": "stderr",
     "output_type": "stream",
     "text": [
      "Fetching Supplier Details:  53%|██████████████████████▏                   | 3412/6468 [1:36:39<5:00:43,  5.90s/product]"
     ]
    },
    {
     "name": "stdout",
     "output_type": "stream",
     "text": [
      "Error fetching supplier for SKU 1259172004 after 5 retries: HTTPSConnectionPool(host='www2.hm.com', port=443): Max retries exceeded with url: /en_us/supplierDetails/articles/1259172004 (Caused by ResponseError('too many 400 error responses'))\n"
     ]
    },
    {
     "name": "stderr",
     "output_type": "stream",
     "text": [
      "Fetching Supplier Details:  53%|██████████████████████▎                   | 3430/6468 [1:37:07<4:52:12,  5.77s/product]"
     ]
    },
    {
     "name": "stdout",
     "output_type": "stream",
     "text": [
      "Error fetching supplier for SKU 1263514001 after 5 retries: HTTPSConnectionPool(host='www2.hm.com', port=443): Max retries exceeded with url: /en_us/supplierDetails/articles/1263514001 (Caused by ResponseError('too many 400 error responses'))\n"
     ]
    },
    {
     "name": "stderr",
     "output_type": "stream",
     "text": [
      "Fetching Supplier Details:  54%|██████████████████████▌                   | 3473/6468 [1:37:44<4:36:31,  5.54s/product]"
     ]
    },
    {
     "name": "stdout",
     "output_type": "stream",
     "text": [
      "Error fetching supplier for SKU 1274446001 after 5 retries: HTTPSConnectionPool(host='www2.hm.com', port=443): Max retries exceeded with url: /en_us/supplierDetails/articles/1274446001 (Caused by ResponseError('too many 400 error responses'))\n"
     ]
    },
    {
     "name": "stderr",
     "output_type": "stream",
     "text": [
      "Fetching Supplier Details:  54%|██████████████████████▋                   | 3490/6468 [1:38:09<4:43:05,  5.70s/product]"
     ]
    },
    {
     "name": "stdout",
     "output_type": "stream",
     "text": [
      "Error fetching supplier for SKU 1255360004 after 5 retries: HTTPSConnectionPool(host='www2.hm.com', port=443): Max retries exceeded with url: /en_us/supplierDetails/articles/1255360004 (Caused by ResponseError('too many 400 error responses'))\n"
     ]
    },
    {
     "name": "stderr",
     "output_type": "stream",
     "text": [
      "Fetching Supplier Details:  54%|██████████████████████▋                   | 3491/6468 [1:38:27<7:40:07,  9.27s/product]"
     ]
    },
    {
     "name": "stdout",
     "output_type": "stream",
     "text": [
      "Error fetching supplier for SKU 1265903001 after 5 retries: HTTPSConnectionPool(host='www2.hm.com', port=443): Max retries exceeded with url: /en_us/supplierDetails/articles/1265903001 (Caused by ResponseError('too many 400 error responses'))\n"
     ]
    },
    {
     "name": "stderr",
     "output_type": "stream",
     "text": [
      "Fetching Supplier Details:  54%|██████████████████████▋                   | 3494/6468 [1:38:47<7:23:03,  8.94s/product]"
     ]
    },
    {
     "name": "stdout",
     "output_type": "stream",
     "text": [
      "Error fetching supplier for SKU 1246455004 after 5 retries: HTTPSConnectionPool(host='www2.hm.com', port=443): Max retries exceeded with url: /en_us/supplierDetails/articles/1246455004 (Caused by ResponseError('too many 400 error responses'))\n"
     ]
    },
    {
     "name": "stderr",
     "output_type": "stream",
     "text": [
      "Fetching Supplier Details:  54%|██████████████████████▋                   | 3496/6468 [1:39:05<8:02:08,  9.73s/product]"
     ]
    },
    {
     "name": "stdout",
     "output_type": "stream",
     "text": [
      "Error fetching supplier for SKU 1259454001 after 5 retries: HTTPSConnectionPool(host='www2.hm.com', port=443): Max retries exceeded with url: /en_us/supplierDetails/articles/1259454001 (Caused by ResponseError('too many 400 error responses'))\n"
     ]
    },
    {
     "name": "stderr",
     "output_type": "stream",
     "text": [
      "Fetching Supplier Details:  54%|██████████████████████▊                   | 3517/6468 [1:39:31<4:35:44,  5.61s/product]"
     ]
    },
    {
     "name": "stdout",
     "output_type": "stream",
     "text": [
      "Error fetching supplier for SKU 1249555001 after 5 retries: HTTPSConnectionPool(host='www2.hm.com', port=443): Max retries exceeded with url: /en_us/supplierDetails/articles/1249555001 (Caused by ResponseError('too many 400 error responses'))\n"
     ]
    },
    {
     "name": "stderr",
     "output_type": "stream",
     "text": [
      "Fetching Supplier Details:  55%|██████████████████████▉                   | 3526/6468 [1:39:52<4:43:39,  5.78s/product]"
     ]
    },
    {
     "name": "stdout",
     "output_type": "stream",
     "text": [
      "Error fetching supplier for SKU 1255734005 after 5 retries: HTTPSConnectionPool(host='www2.hm.com', port=443): Max retries exceeded with url: /en_us/supplierDetails/articles/1255734005 (Caused by ResponseError('too many 400 error responses'))\n"
     ]
    },
    {
     "name": "stderr",
     "output_type": "stream",
     "text": [
      "Fetching Supplier Details:  55%|██████████████████████▉                   | 3537/6468 [1:40:13<4:35:27,  5.64s/product]"
     ]
    },
    {
     "name": "stdout",
     "output_type": "stream",
     "text": [
      "Error fetching supplier for SKU 1283190003 after 5 retries: HTTPSConnectionPool(host='www2.hm.com', port=443): Max retries exceeded with url: /en_us/supplierDetails/articles/1283190003 (Caused by ResponseError('too many 400 error responses'))\n"
     ]
    },
    {
     "name": "stderr",
     "output_type": "stream",
     "text": [
      "Fetching Supplier Details:  55%|██████████████████████▉                   | 3539/6468 [1:40:31<6:36:45,  8.13s/product]"
     ]
    },
    {
     "name": "stdout",
     "output_type": "stream",
     "text": [
      "Error fetching supplier for SKU 1242063001 after 5 retries: HTTPSConnectionPool(host='www2.hm.com', port=443): Max retries exceeded with url: /en_us/supplierDetails/articles/1242063001 (Caused by ResponseError('too many 400 error responses'))\n"
     ]
    },
    {
     "name": "stderr",
     "output_type": "stream",
     "text": [
      "Fetching Supplier Details:  55%|███████████████████████                   | 3542/6468 [1:40:50<6:38:43,  8.18s/product]"
     ]
    },
    {
     "name": "stdout",
     "output_type": "stream",
     "text": [
      "Error fetching supplier for SKU 1255322003 after 5 retries: HTTPSConnectionPool(host='www2.hm.com', port=443): Max retries exceeded with url: /en_us/supplierDetails/articles/1255322003 (Caused by ResponseError('too many 400 error responses'))\n"
     ]
    },
    {
     "name": "stderr",
     "output_type": "stream",
     "text": [
      "Fetching Supplier Details:  55%|███████████████████████                   | 3548/6468 [1:41:09<5:14:42,  6.47s/product]"
     ]
    },
    {
     "name": "stdout",
     "output_type": "stream",
     "text": [
      "Error fetching supplier for SKU 0925212019 after 5 retries: HTTPSConnectionPool(host='www2.hm.com', port=443): Max retries exceeded with url: /en_us/supplierDetails/articles/0925212019 (Caused by ResponseError('too many 400 error responses'))\n"
     ]
    },
    {
     "name": "stderr",
     "output_type": "stream",
     "text": [
      "Fetching Supplier Details:  55%|███████████████████████                   | 3557/6468 [1:41:33<4:51:50,  6.02s/product]"
     ]
    },
    {
     "name": "stdout",
     "output_type": "stream",
     "text": [
      "Error fetching supplier for SKU 1249518001 after 5 retries: HTTPSConnectionPool(host='www2.hm.com', port=443): Max retries exceeded with url: /en_us/supplierDetails/articles/1249518001 (Caused by ResponseError('too many 400 error responses'))\n"
     ]
    },
    {
     "name": "stderr",
     "output_type": "stream",
     "text": [
      "Fetching Supplier Details:  55%|███████████████████████▏                  | 3576/6468 [1:41:58<4:28:31,  5.57s/product]"
     ]
    },
    {
     "name": "stdout",
     "output_type": "stream",
     "text": [
      "Error fetching supplier for SKU 1262189003 after 5 retries: HTTPSConnectionPool(host='www2.hm.com', port=443): Max retries exceeded with url: /en_us/supplierDetails/articles/1262189003 (Caused by ResponseError('too many 400 error responses'))\n"
     ]
    },
    {
     "name": "stderr",
     "output_type": "stream",
     "text": [
      "Fetching Supplier Details:  56%|███████████████████████▎                  | 3596/6468 [1:42:24<4:29:03,  5.62s/product]"
     ]
    },
    {
     "name": "stdout",
     "output_type": "stream",
     "text": [
      "Error fetching supplier for SKU 1270912001 after 5 retries: HTTPSConnectionPool(host='www2.hm.com', port=443): Max retries exceeded with url: /en_us/supplierDetails/articles/1270912001 (Caused by ResponseError('too many 400 error responses'))\n"
     ]
    },
    {
     "name": "stderr",
     "output_type": "stream",
     "text": [
      "Fetching Supplier Details:  56%|███████████████████████▌                  | 3631/6468 [1:42:57<4:22:31,  5.55s/product]"
     ]
    },
    {
     "name": "stdout",
     "output_type": "stream",
     "text": [
      "Error fetching supplier for SKU 1238919001 after 5 retries: HTTPSConnectionPool(host='www2.hm.com', port=443): Max retries exceeded with url: /en_us/supplierDetails/articles/1238919001 (Caused by ResponseError('too many 400 error responses'))\n"
     ]
    },
    {
     "name": "stderr",
     "output_type": "stream",
     "text": [
      "Fetching Supplier Details:  56%|███████████████████████▌                  | 3632/6468 [1:43:16<7:21:31,  9.34s/product]"
     ]
    },
    {
     "name": "stdout",
     "output_type": "stream",
     "text": [
      "Error fetching supplier for SKU 1251501001 after 5 retries: HTTPSConnectionPool(host='www2.hm.com', port=443): Max retries exceeded with url: /en_us/supplierDetails/articles/1251501001 (Caused by ResponseError('too many 400 error responses'))\n"
     ]
    },
    {
     "name": "stderr",
     "output_type": "stream",
     "text": [
      "Fetching Supplier Details:  56%|███████████████████████▋                  | 3639/6468 [1:43:35<4:02:44,  5.15s/product]"
     ]
    },
    {
     "name": "stdout",
     "output_type": "stream",
     "text": [
      "Error fetching supplier for SKU 1270456001 after 5 retries: HTTPSConnectionPool(host='www2.hm.com', port=443): Max retries exceeded with url: /en_us/supplierDetails/articles/1270456001 (Caused by ResponseError('too many 400 error responses'))\n"
     ]
    },
    {
     "name": "stderr",
     "output_type": "stream",
     "text": [
      "Fetching Supplier Details:  56%|███████████████████████▋                  | 3642/6468 [1:43:54<5:33:48,  7.09s/product]"
     ]
    },
    {
     "name": "stdout",
     "output_type": "stream",
     "text": [
      "Error fetching supplier for SKU 1258290001 after 5 retries: HTTPSConnectionPool(host='www2.hm.com', port=443): Max retries exceeded with url: /en_us/supplierDetails/articles/1258290001 (Caused by ResponseError('too many 400 error responses'))\n"
     ]
    },
    {
     "name": "stderr",
     "output_type": "stream",
     "text": [
      "Fetching Supplier Details:  57%|███████████████████████▋                  | 3655/6468 [1:44:20<4:54:14,  6.28s/product]"
     ]
    },
    {
     "name": "stdout",
     "output_type": "stream",
     "text": [
      "Error fetching supplier for SKU 1241147001 after 5 retries: HTTPSConnectionPool(host='www2.hm.com', port=443): Max retries exceeded with url: /en_us/supplierDetails/articles/1241147001 (Caused by ResponseError('too many 400 error responses'))\n"
     ]
    },
    {
     "name": "stderr",
     "output_type": "stream",
     "text": [
      "Fetching Supplier Details:  57%|███████████████████████▊                  | 3664/6468 [1:44:43<4:51:53,  6.25s/product]"
     ]
    },
    {
     "name": "stdout",
     "output_type": "stream",
     "text": [
      "Error fetching supplier for SKU 1242712002 after 5 retries: HTTPSConnectionPool(host='www2.hm.com', port=443): Max retries exceeded with url: /en_us/supplierDetails/articles/1242712002 (Caused by ResponseError('too many 400 error responses'))\n"
     ]
    },
    {
     "name": "stderr",
     "output_type": "stream",
     "text": [
      "Fetching Supplier Details:  57%|███████████████████████▊                  | 3676/6468 [1:45:04<4:19:26,  5.58s/product]"
     ]
    },
    {
     "name": "stdout",
     "output_type": "stream",
     "text": [
      "Error fetching supplier for SKU 1233857001 after 5 retries: HTTPSConnectionPool(host='www2.hm.com', port=443): Max retries exceeded with url: /en_us/supplierDetails/articles/1233857001 (Caused by ResponseError('too many 400 error responses'))\n"
     ]
    },
    {
     "name": "stderr",
     "output_type": "stream",
     "text": [
      "Fetching Supplier Details:  57%|████████████████████████                  | 3713/6468 [1:45:37<4:13:25,  5.52s/product]"
     ]
    },
    {
     "name": "stdout",
     "output_type": "stream",
     "text": [
      "Error fetching supplier for SKU 1261227001 after 5 retries: HTTPSConnectionPool(host='www2.hm.com', port=443): Max retries exceeded with url: /en_us/supplierDetails/articles/1261227001 (Caused by ResponseError('too many 400 error responses'))\n"
     ]
    },
    {
     "name": "stderr",
     "output_type": "stream",
     "text": [
      "Fetching Supplier Details:  58%|████████████████████████▏                 | 3733/6468 [1:46:03<4:14:08,  5.58s/product]"
     ]
    },
    {
     "name": "stdout",
     "output_type": "stream",
     "text": [
      "Error fetching supplier for SKU 1227727041 after 5 retries: HTTPSConnectionPool(host='www2.hm.com', port=443): Max retries exceeded with url: /en_us/supplierDetails/articles/1227727041 (Caused by ResponseError('too many 400 error responses'))\n"
     ]
    },
    {
     "name": "stderr",
     "output_type": "stream",
     "text": [
      "Fetching Supplier Details:  58%|████████████████████████▎                 | 3750/6468 [1:46:30<4:14:43,  5.62s/product]"
     ]
    },
    {
     "name": "stdout",
     "output_type": "stream",
     "text": [
      "Error fetching supplier for SKU 1250901006 after 5 retries: HTTPSConnectionPool(host='www2.hm.com', port=443): Max retries exceeded with url: /en_us/supplierDetails/articles/1250901006 (Caused by ResponseError('too many 400 error responses'))\n"
     ]
    },
    {
     "name": "stderr",
     "output_type": "stream",
     "text": [
      "Fetching Supplier Details:  58%|████████████████████████▎                 | 3751/6468 [1:46:48<6:54:35,  9.16s/product]"
     ]
    },
    {
     "name": "stdout",
     "output_type": "stream",
     "text": [
      "Error fetching supplier for SKU 1259065015 after 5 retries: HTTPSConnectionPool(host='www2.hm.com', port=443): Max retries exceeded with url: /en_us/supplierDetails/articles/1259065015 (Caused by ResponseError('too many 400 error responses'))\n"
     ]
    },
    {
     "name": "stderr",
     "output_type": "stream",
     "text": [
      "Fetching Supplier Details:  58%|████████████████████████▍                 | 3761/6468 [1:47:09<4:25:35,  5.89s/product]"
     ]
    },
    {
     "name": "stdout",
     "output_type": "stream",
     "text": [
      "Error fetching supplier for SKU 1080301038 after 5 retries: HTTPSConnectionPool(host='www2.hm.com', port=443): Max retries exceeded with url: /en_us/supplierDetails/articles/1080301038 (Caused by ResponseError('too many 400 error responses'))\n"
     ]
    },
    {
     "name": "stderr",
     "output_type": "stream",
     "text": [
      "Fetching Supplier Details:  58%|████████████████████████▍                 | 3769/6468 [1:47:30<4:22:34,  5.84s/product]"
     ]
    },
    {
     "name": "stdout",
     "output_type": "stream",
     "text": [
      "Error fetching supplier for SKU 1243139001 after 5 retries: HTTPSConnectionPool(host='www2.hm.com', port=443): Max retries exceeded with url: /en_us/supplierDetails/articles/1243139001 (Caused by ResponseError('too many 400 error responses'))\n"
     ]
    },
    {
     "name": "stderr",
     "output_type": "stream",
     "text": [
      "Fetching Supplier Details:  58%|████████████████████████▌                 | 3778/6468 [1:47:56<4:58:01,  6.65s/product]"
     ]
    },
    {
     "name": "stdout",
     "output_type": "stream",
     "text": [
      "Error fetching supplier for SKU 1240279002 after 5 retries: HTTPSConnectionPool(host='www2.hm.com', port=443): Max retries exceeded with url: /en_us/supplierDetails/articles/1240279002 (Caused by ResponseError('too many 400 error responses'))\n"
     ]
    },
    {
     "name": "stderr",
     "output_type": "stream",
     "text": [
      "Fetching Supplier Details:  59%|████████████████████████▋                 | 3795/6468 [1:48:21<4:16:21,  5.75s/product]"
     ]
    },
    {
     "name": "stdout",
     "output_type": "stream",
     "text": [
      "Error fetching supplier for SKU 1250876002 after 5 retries: HTTPSConnectionPool(host='www2.hm.com', port=443): Max retries exceeded with url: /en_us/supplierDetails/articles/1250876002 (Caused by ResponseError('too many 400 error responses'))\n"
     ]
    },
    {
     "name": "stderr",
     "output_type": "stream",
     "text": [
      "Fetching Supplier Details:  59%|████████████████████████▋                 | 3803/6468 [1:48:42<4:24:19,  5.95s/product]"
     ]
    },
    {
     "name": "stdout",
     "output_type": "stream",
     "text": [
      "Error fetching supplier for SKU 1259172003 after 5 retries: HTTPSConnectionPool(host='www2.hm.com', port=443): Max retries exceeded with url: /en_us/supplierDetails/articles/1259172003 (Caused by ResponseError('too many 400 error responses'))\n"
     ]
    },
    {
     "name": "stderr",
     "output_type": "stream",
     "text": [
      "Fetching Supplier Details:  59%|████████████████████████▋                 | 3804/6468 [1:49:03<7:36:14, 10.28s/product]"
     ]
    },
    {
     "name": "stdout",
     "output_type": "stream",
     "text": [
      "Error fetching supplier for SKU 1240313004 after 5 retries: HTTPSConnectionPool(host='www2.hm.com', port=443): Max retries exceeded with url: /en_us/supplierDetails/articles/1240313004 (Caused by ResponseError('too many 400 error responses'))\n"
     ]
    },
    {
     "name": "stderr",
     "output_type": "stream",
     "text": [
      "Fetching Supplier Details:  59%|████████████████████████▊                 | 3814/6468 [1:49:26<4:47:48,  6.51s/product]"
     ]
    },
    {
     "name": "stdout",
     "output_type": "stream",
     "text": [
      "Error fetching supplier for SKU 1296438001 after 5 retries: HTTPSConnectionPool(host='www2.hm.com', port=443): Max retries exceeded with url: /en_us/supplierDetails/articles/1296438001 (Caused by ResponseError('too many 400 error responses'))\n"
     ]
    },
    {
     "name": "stderr",
     "output_type": "stream",
     "text": [
      "Fetching Supplier Details:  59%|████████████████████████▊                 | 3817/6468 [1:49:51<6:57:12,  9.44s/product]"
     ]
    },
    {
     "name": "stdout",
     "output_type": "stream",
     "text": [
      "Error fetching supplier for SKU 1236906002 after 5 retries: HTTPSConnectionPool(host='www2.hm.com', port=443): Max retries exceeded with url: /en_us/supplierDetails/articles/1236906002 (Caused by ResponseError('too many 400 error responses'))\n"
     ]
    },
    {
     "name": "stderr",
     "output_type": "stream",
     "text": [
      "Fetching Supplier Details:  59%|████████████████████████▊                 | 3828/6468 [1:50:23<5:52:46,  8.02s/product]"
     ]
    },
    {
     "name": "stdout",
     "output_type": "stream",
     "text": [
      "Error fetching supplier for SKU 1255697001 after 5 retries: HTTPSConnectionPool(host='www2.hm.com', port=443): Max retries exceeded with url: /en_us/supplierDetails/articles/1255697001 (Caused by ResponseError('too many 400 error responses'))\n"
     ]
    },
    {
     "name": "stderr",
     "output_type": "stream",
     "text": [
      "Fetching Supplier Details:  59%|████████████████████████▎                | 3832/6468 [1:51:10<10:48:55, 14.77s/product]"
     ]
    },
    {
     "name": "stdout",
     "output_type": "stream",
     "text": [
      "Error fetching supplier for SKU 1255367003 after 5 retries: HTTPSConnectionPool(host='www2.hm.com', port=443): Max retries exceeded with url: /en_us/supplierDetails/articles/1255367003 (Caused by ResponseError('too many 400 error responses'))\n"
     ]
    },
    {
     "name": "stderr",
     "output_type": "stream",
     "text": [
      "Fetching Supplier Details:  59%|████████████████████████▎                | 3833/6468 [1:51:28<11:30:17, 15.72s/product]"
     ]
    },
    {
     "name": "stdout",
     "output_type": "stream",
     "text": [
      "Error fetching supplier for SKU 0875635043 after 5 retries: HTTPSConnectionPool(host='www2.hm.com', port=443): Max retries exceeded with url: /en_us/supplierDetails/articles/0875635043 (Caused by ResponseError('too many 400 error responses'))\n"
     ]
    },
    {
     "name": "stderr",
     "output_type": "stream",
     "text": [
      "Fetching Supplier Details:  60%|█████████████████████████                 | 3856/6468 [1:52:06<4:38:06,  6.39s/product]"
     ]
    },
    {
     "name": "stdout",
     "output_type": "stream",
     "text": [
      "Error fetching supplier for SKU 1246455002 after 5 retries: HTTPSConnectionPool(host='www2.hm.com', port=443): Max retries exceeded with url: /en_us/supplierDetails/articles/1246455002 (Caused by ResponseError('too many 400 error responses'))\n"
     ]
    },
    {
     "name": "stderr",
     "output_type": "stream",
     "text": [
      "Fetching Supplier Details:  60%|█████████████████████████▏                | 3887/6468 [1:53:04<5:26:14,  7.58s/product]"
     ]
    },
    {
     "name": "stdout",
     "output_type": "stream",
     "text": [
      "Error fetching supplier for SKU 1219406005 after 5 retries: HTTPSConnectionPool(host='www2.hm.com', port=443): Max retries exceeded with url: /en_us/supplierDetails/articles/1219406005 (Caused by ResponseError('too many 400 error responses'))\n"
     ]
    },
    {
     "name": "stderr",
     "output_type": "stream",
     "text": [
      "Fetching Supplier Details:  61%|████████████████████████▉                | 3930/6468 [1:54:41<12:19:25, 17.48s/product]"
     ]
    },
    {
     "name": "stdout",
     "output_type": "stream",
     "text": [
      "Error fetching supplier for SKU 1241218003 after 5 retries: HTTPSConnectionPool(host='www2.hm.com', port=443): Max retries exceeded with url: /en_us/supplierDetails/articles/1241218003 (Caused by ResponseError('too many 400 error responses'))\n"
     ]
    },
    {
     "name": "stderr",
     "output_type": "stream",
     "text": [
      "Fetching Supplier Details:  61%|█████████████████████████▌                | 3934/6468 [1:55:02<7:05:12, 10.07s/product]"
     ]
    },
    {
     "name": "stdout",
     "output_type": "stream",
     "text": [
      "Error fetching supplier for SKU 1240226003 after 5 retries: HTTPSConnectionPool(host='www2.hm.com', port=443): Max retries exceeded with url: /en_us/supplierDetails/articles/1240226003 (Caused by ResponseError('too many 400 error responses'))\n"
     ]
    },
    {
     "name": "stderr",
     "output_type": "stream",
     "text": [
      "Fetching Supplier Details:  61%|█████████████████████████▌                | 3937/6468 [1:55:21<6:29:17,  9.23s/product]"
     ]
    },
    {
     "name": "stdout",
     "output_type": "stream",
     "text": [
      "Error fetching supplier for SKU 1291970001 after 5 retries: HTTPSConnectionPool(host='www2.hm.com', port=443): Max retries exceeded with url: /en_us/supplierDetails/articles/1291970001 (Caused by ResponseError('too many 400 error responses'))\n"
     ]
    },
    {
     "name": "stderr",
     "output_type": "stream",
     "text": [
      "Fetching Supplier Details:  61%|█████████████████████████▌                | 3942/6468 [1:55:42<5:05:41,  7.26s/product]"
     ]
    },
    {
     "name": "stdout",
     "output_type": "stream",
     "text": [
      "Error fetching supplier for SKU 1265911001 after 5 retries: HTTPSConnectionPool(host='www2.hm.com', port=443): Max retries exceeded with url: /en_us/supplierDetails/articles/1265911001 (Caused by ResponseError('too many 400 error responses'))\n"
     ]
    },
    {
     "name": "stderr",
     "output_type": "stream",
     "text": [
      "Fetching Supplier Details:  61%|█████████████████████████▌                | 3944/6468 [1:56:00<6:16:08,  8.94s/product]"
     ]
    },
    {
     "name": "stdout",
     "output_type": "stream",
     "text": [
      "Error fetching supplier for SKU 1253016002 after 5 retries: HTTPSConnectionPool(host='www2.hm.com', port=443): Max retries exceeded with url: /en_us/supplierDetails/articles/1253016002 (Caused by ResponseError('too many 400 error responses'))\n"
     ]
    },
    {
     "name": "stderr",
     "output_type": "stream",
     "text": [
      "Fetching Supplier Details:  61%|█████████████████████████▌                | 3945/6468 [1:56:18<8:14:13, 11.75s/product]"
     ]
    },
    {
     "name": "stdout",
     "output_type": "stream",
     "text": [
      "Error fetching supplier for SKU 1254797002 after 5 retries: HTTPSConnectionPool(host='www2.hm.com', port=443): Max retries exceeded with url: /en_us/supplierDetails/articles/1254797002 (Caused by ResponseError('too many 400 error responses'))\n"
     ]
    },
    {
     "name": "stderr",
     "output_type": "stream",
     "text": [
      "Fetching Supplier Details:  61%|█████████████████████████▋                | 3954/6468 [1:56:40<4:25:07,  6.33s/product]"
     ]
    },
    {
     "name": "stdout",
     "output_type": "stream",
     "text": [
      "Error fetching supplier for SKU 1266541004 after 5 retries: HTTPSConnectionPool(host='www2.hm.com', port=443): Max retries exceeded with url: /en_us/supplierDetails/articles/1266541004 (Caused by ResponseError('too many 400 error responses'))\n"
     ]
    },
    {
     "name": "stderr",
     "output_type": "stream",
     "text": [
      "Fetching Supplier Details:  62%|█████████████████████████▊                | 3980/6468 [1:57:13<3:59:15,  5.77s/product]"
     ]
    },
    {
     "name": "stdout",
     "output_type": "stream",
     "text": [
      "Error fetching supplier for SKU 1242393003 after 5 retries: HTTPSConnectionPool(host='www2.hm.com', port=443): Max retries exceeded with url: /en_us/supplierDetails/articles/1242393003 (Caused by ResponseError('too many 400 error responses'))\n"
     ]
    },
    {
     "name": "stderr",
     "output_type": "stream",
     "text": [
      "Fetching Supplier Details:  62%|█████████████████████████▉                | 3986/6468 [1:57:36<4:34:48,  6.64s/product]"
     ]
    },
    {
     "name": "stdout",
     "output_type": "stream",
     "text": [
      "Error fetching supplier for SKU 1026503011 after 5 retries: HTTPSConnectionPool(host='www2.hm.com', port=443): Max retries exceeded with url: /en_us/supplierDetails/articles/1026503011 (Caused by ResponseError('too many 400 error responses'))\n"
     ]
    },
    {
     "name": "stderr",
     "output_type": "stream",
     "text": [
      "Fetching Supplier Details:  62%|█████████████████████████▉                | 3988/6468 [1:58:00<7:21:32, 10.68s/product]"
     ]
    },
    {
     "name": "stdout",
     "output_type": "stream",
     "text": [
      "Error fetching supplier for SKU 1228976005 after 5 retries: HTTPSConnectionPool(host='www2.hm.com', port=443): Max retries exceeded with url: /en_us/supplierDetails/articles/1228976005 (Caused by ResponseError('too many 400 error responses'))\n"
     ]
    },
    {
     "name": "stderr",
     "output_type": "stream",
     "text": [
      "Fetching Supplier Details:  62%|█████████████████████████▎               | 3989/6468 [1:58:25<10:10:47, 14.78s/product]"
     ]
    },
    {
     "name": "stdout",
     "output_type": "stream",
     "text": [
      "Error fetching supplier for SKU 1255191002 after 5 retries: HTTPSConnectionPool(host='www2.hm.com', port=443): Max retries exceeded with url: /en_us/supplierDetails/articles/1255191002 (Caused by ResponseError('too many 400 error responses'))\n"
     ]
    },
    {
     "name": "stderr",
     "output_type": "stream",
     "text": [
      "Fetching Supplier Details:  62%|██████████████████████████▏               | 4035/6468 [1:59:12<3:37:14,  5.36s/product]"
     ]
    },
    {
     "name": "stdout",
     "output_type": "stream",
     "text": [
      "Error fetching supplier for SKU 1169363011 after 5 retries: HTTPSConnectionPool(host='www2.hm.com', port=443): Max retries exceeded with url: /en_us/supplierDetails/articles/1169363011 (Caused by ResponseError('too many 400 error responses'))\n"
     ]
    },
    {
     "name": "stderr",
     "output_type": "stream",
     "text": [
      "Fetching Supplier Details:  62%|██████████████████████████▏               | 4036/6468 [1:59:31<6:06:54,  9.05s/product]"
     ]
    },
    {
     "name": "stdout",
     "output_type": "stream",
     "text": [
      "Error fetching supplier for SKU 1273487001 after 5 retries: HTTPSConnectionPool(host='www2.hm.com', port=443): Max retries exceeded with url: /en_us/supplierDetails/articles/1273487001 (Caused by ResponseError('too many 400 error responses'))\n"
     ]
    },
    {
     "name": "stderr",
     "output_type": "stream",
     "text": [
      "Fetching Supplier Details:  62%|██████████████████████████▏               | 4037/6468 [1:59:52<8:12:26, 12.15s/product]"
     ]
    },
    {
     "name": "stdout",
     "output_type": "stream",
     "text": [
      "Error fetching supplier for SKU 1271122004 after 5 retries: HTTPSConnectionPool(host='www2.hm.com', port=443): Max retries exceeded with url: /en_us/supplierDetails/articles/1271122004 (Caused by ResponseError('too many 400 error responses'))\n"
     ]
    },
    {
     "name": "stderr",
     "output_type": "stream",
     "text": [
      "Fetching Supplier Details:  63%|██████████████████████████▍               | 4070/6468 [2:00:28<4:00:37,  6.02s/product]"
     ]
    },
    {
     "name": "stdout",
     "output_type": "stream",
     "text": [
      "Error fetching supplier for SKU 1209694005 after 5 retries: HTTPSConnectionPool(host='www2.hm.com', port=443): Max retries exceeded with url: /en_us/supplierDetails/articles/1209694005 (Caused by ResponseError('too many 400 error responses'))\n"
     ]
    },
    {
     "name": "stderr",
     "output_type": "stream",
     "text": [
      "Fetching Supplier Details:  63%|██████████████████████████▍               | 4073/6468 [2:00:56<6:37:18,  9.95s/product]"
     ]
    },
    {
     "name": "stdout",
     "output_type": "stream",
     "text": [
      "Error fetching supplier for SKU 1255393003 after 5 retries: HTTPSConnectionPool(host='www2.hm.com', port=443): Max retries exceeded with url: /en_us/supplierDetails/articles/1255393003 (Caused by ResponseError('too many 400 error responses'))\n"
     ]
    },
    {
     "name": "stderr",
     "output_type": "stream",
     "text": [
      "Fetching Supplier Details:  63%|██████████████████████████▍               | 4074/6468 [2:01:14<8:14:09, 12.38s/product]"
     ]
    },
    {
     "name": "stdout",
     "output_type": "stream",
     "text": [
      "Error fetching supplier for SKU 1220978019 after 5 retries: HTTPSConnectionPool(host='www2.hm.com', port=443): Max retries exceeded with url: /en_us/supplierDetails/articles/1220978019 (Caused by ResponseError('too many 400 error responses'))\n"
     ]
    },
    {
     "name": "stderr",
     "output_type": "stream",
     "text": [
      "Fetching Supplier Details:  63%|██████████████████████████▍               | 4079/6468 [2:01:33<5:03:19,  7.62s/product]"
     ]
    },
    {
     "name": "stdout",
     "output_type": "stream",
     "text": [
      "Error fetching supplier for SKU 1301089001 after 5 retries: HTTPSConnectionPool(host='www2.hm.com', port=443): Max retries exceeded with url: /en_us/supplierDetails/articles/1301089001 (Caused by ResponseError('too many 400 error responses'))\n"
     ]
    },
    {
     "name": "stderr",
     "output_type": "stream",
     "text": [
      "Fetching Supplier Details:  63%|██████████████████████████▌               | 4086/6468 [2:02:04<6:07:22,  9.25s/product]"
     ]
    },
    {
     "name": "stdout",
     "output_type": "stream",
     "text": [
      "Error fetching supplier for SKU 1271122003 after 5 retries: HTTPSConnectionPool(host='www2.hm.com', port=443): Max retries exceeded with url: /en_us/supplierDetails/articles/1271122003 (Caused by ResponseError('too many 400 error responses'))\n"
     ]
    },
    {
     "name": "stderr",
     "output_type": "stream",
     "text": [
      "Fetching Supplier Details:  63%|██████████████████████████▋               | 4104/6468 [2:02:44<3:49:40,  5.83s/product]"
     ]
    },
    {
     "name": "stdout",
     "output_type": "stream",
     "text": [
      "Error fetching supplier for SKU 1011909041 after 5 retries: HTTPSConnectionPool(host='www2.hm.com', port=443): Max retries exceeded with url: /en_us/supplierDetails/articles/1011909041 (Caused by ResponseError('too many 400 error responses'))\n"
     ]
    },
    {
     "name": "stderr",
     "output_type": "stream",
     "text": [
      "Fetching Supplier Details:  64%|██████████████████████████▋               | 4116/6468 [2:03:18<5:27:03,  8.34s/product]"
     ]
    },
    {
     "name": "stdout",
     "output_type": "stream",
     "text": [
      "Error fetching supplier for SKU 1258707002 after 5 retries: HTTPSConnectionPool(host='www2.hm.com', port=443): Max retries exceeded with url: /en_us/supplierDetails/articles/1258707002 (Caused by ResponseError('too many 400 error responses'))\n"
     ]
    },
    {
     "name": "stderr",
     "output_type": "stream",
     "text": [
      "Fetching Supplier Details:  64%|██████████████████████████▊               | 4126/6468 [2:03:41<3:48:30,  5.85s/product]"
     ]
    },
    {
     "name": "stdout",
     "output_type": "stream",
     "text": [
      "Error fetching supplier for SKU 1169913008 after 5 retries: HTTPSConnectionPool(host='www2.hm.com', port=443): Max retries exceeded with url: /en_us/supplierDetails/articles/1169913008 (Caused by ResponseError('too many 400 error responses'))\n"
     ]
    },
    {
     "name": "stderr",
     "output_type": "stream",
     "text": [
      "Fetching Supplier Details:  64%|██████████████████████████▊               | 4128/6468 [2:04:02<5:59:16,  9.21s/product]"
     ]
    },
    {
     "name": "stdout",
     "output_type": "stream",
     "text": [
      "Error fetching supplier for SKU 1267650001 after 5 retries: HTTPSConnectionPool(host='www2.hm.com', port=443): Max retries exceeded with url: /en_us/supplierDetails/articles/1267650001 (Caused by ResponseError('too many 400 error responses'))\n"
     ]
    },
    {
     "name": "stderr",
     "output_type": "stream",
     "text": [
      "Fetching Supplier Details:  64%|██████████████████████████▊               | 4131/6468 [2:04:21<5:38:06,  8.68s/product]"
     ]
    },
    {
     "name": "stdout",
     "output_type": "stream",
     "text": [
      "Error fetching supplier for SKU 1233856002 after 5 retries: HTTPSConnectionPool(host='www2.hm.com', port=443): Max retries exceeded with url: /en_us/supplierDetails/articles/1233856002 (Caused by ResponseError('too many 400 error responses'))\n"
     ]
    },
    {
     "name": "stderr",
     "output_type": "stream",
     "text": [
      "Fetching Supplier Details:  64%|██████████████████████████▊               | 4132/6468 [2:04:41<7:44:18, 11.93s/product]"
     ]
    },
    {
     "name": "stdout",
     "output_type": "stream",
     "text": [
      "Error fetching supplier for SKU 1253725002 after 5 retries: HTTPSConnectionPool(host='www2.hm.com', port=443): Max retries exceeded with url: /en_us/supplierDetails/articles/1253725002 (Caused by ResponseError('too many 400 error responses'))\n"
     ]
    },
    {
     "name": "stderr",
     "output_type": "stream",
     "text": [
      "Fetching Supplier Details:  64%|██████████████████████████▊               | 4136/6468 [2:05:07<5:53:55,  9.11s/product]"
     ]
    },
    {
     "name": "stdout",
     "output_type": "stream",
     "text": [
      "Error fetching supplier for SKU 1263067003 after 5 retries: HTTPSConnectionPool(host='www2.hm.com', port=443): Max retries exceeded with url: /en_us/supplierDetails/articles/1263067003 (Caused by ResponseError('too many 400 error responses'))\n"
     ]
    },
    {
     "name": "stderr",
     "output_type": "stream",
     "text": [
      "Fetching Supplier Details:  64%|██████████████████████████▉               | 4145/6468 [2:05:29<3:58:42,  6.17s/product]"
     ]
    },
    {
     "name": "stdout",
     "output_type": "stream",
     "text": [
      "Error fetching supplier for SKU 1230701001 after 5 retries: HTTPSConnectionPool(host='www2.hm.com', port=443): Max retries exceeded with url: /en_us/supplierDetails/articles/1230701001 (Caused by ResponseError('too many 400 error responses'))\n"
     ]
    },
    {
     "name": "stderr",
     "output_type": "stream",
     "text": [
      "Fetching Supplier Details:  64%|██████████████████████████▉               | 4147/6468 [2:05:48<5:45:50,  8.94s/product]"
     ]
    },
    {
     "name": "stdout",
     "output_type": "stream",
     "text": [
      "Error fetching supplier for SKU 1246849002 after 5 retries: HTTPSConnectionPool(host='www2.hm.com', port=443): Max retries exceeded with url: /en_us/supplierDetails/articles/1246849002 (Caused by ResponseError('too many 400 error responses'))\n"
     ]
    },
    {
     "name": "stderr",
     "output_type": "stream",
     "text": [
      "Fetching Supplier Details:  64%|██████████████████████████▉               | 4156/6468 [2:06:11<3:55:36,  6.11s/product]"
     ]
    },
    {
     "name": "stdout",
     "output_type": "stream",
     "text": [
      "Error fetching supplier for SKU 1283190004 after 5 retries: HTTPSConnectionPool(host='www2.hm.com', port=443): Max retries exceeded with url: /en_us/supplierDetails/articles/1283190004 (Caused by ResponseError('too many 400 error responses'))\n"
     ]
    },
    {
     "name": "stderr",
     "output_type": "stream",
     "text": [
      "Fetching Supplier Details:  64%|███████████████████████████               | 4167/6468 [2:06:35<3:46:42,  5.91s/product]"
     ]
    },
    {
     "name": "stdout",
     "output_type": "stream",
     "text": [
      "Error fetching supplier for SKU 1266211002 after 5 retries: HTTPSConnectionPool(host='www2.hm.com', port=443): Max retries exceeded with url: /en_us/supplierDetails/articles/1266211002 (Caused by ResponseError('too many 400 error responses'))\n"
     ]
    },
    {
     "name": "stderr",
     "output_type": "stream",
     "text": [
      "Fetching Supplier Details:  65%|███████████████████████████▏              | 4178/6468 [2:06:56<2:48:39,  4.42s/product]"
     ]
    },
    {
     "name": "stdout",
     "output_type": "stream",
     "text": [
      "Error fetching supplier for SKU 1250023001 after 5 retries: HTTPSConnectionPool(host='www2.hm.com', port=443): Max retries exceeded with url: /en_us/supplierDetails/articles/1250023001 (Caused by ResponseError('too many 400 error responses'))\n"
     ]
    },
    {
     "name": "stderr",
     "output_type": "stream",
     "text": [
      "Fetching Supplier Details:  65%|███████████████████████████▏              | 4196/6468 [2:07:24<3:31:42,  5.59s/product]"
     ]
    },
    {
     "name": "stdout",
     "output_type": "stream",
     "text": [
      "Error fetching supplier for SKU 1075923024 after 5 retries: HTTPSConnectionPool(host='www2.hm.com', port=443): Max retries exceeded with url: /en_us/supplierDetails/articles/1075923024 (Caused by ResponseError('too many 400 error responses'))\n"
     ]
    },
    {
     "name": "stderr",
     "output_type": "stream",
     "text": [
      "Fetching Supplier Details:  65%|███████████████████████████▎              | 4205/6468 [2:07:46<3:51:20,  6.13s/product]"
     ]
    },
    {
     "name": "stdout",
     "output_type": "stream",
     "text": [
      "Error fetching supplier for SKU 1251598003 after 5 retries: HTTPSConnectionPool(host='www2.hm.com', port=443): Max retries exceeded with url: /en_us/supplierDetails/articles/1251598003 (Caused by ResponseError('too many 400 error responses'))\n"
     ]
    },
    {
     "name": "stderr",
     "output_type": "stream",
     "text": [
      "Fetching Supplier Details:  65%|███████████████████████████▎              | 4214/6468 [2:08:08<3:39:47,  5.85s/product]"
     ]
    },
    {
     "name": "stdout",
     "output_type": "stream",
     "text": [
      "Error fetching supplier for SKU 1240986002 after 5 retries: HTTPSConnectionPool(host='www2.hm.com', port=443): Max retries exceeded with url: /en_us/supplierDetails/articles/1240986002 (Caused by ResponseError('too many 400 error responses'))\n"
     ]
    },
    {
     "name": "stderr",
     "output_type": "stream",
     "text": [
      "Fetching Supplier Details:  65%|███████████████████████████▎              | 4215/6468 [2:08:25<5:53:49,  9.42s/product]"
     ]
    },
    {
     "name": "stdout",
     "output_type": "stream",
     "text": [
      "Error fetching supplier for SKU 1263067001 after 5 retries: HTTPSConnectionPool(host='www2.hm.com', port=443): Max retries exceeded with url: /en_us/supplierDetails/articles/1263067001 (Caused by ResponseError('too many 400 error responses'))\n"
     ]
    },
    {
     "name": "stderr",
     "output_type": "stream",
     "text": [
      "Fetching Supplier Details:  65%|███████████████████████████▍              | 4227/6468 [2:08:50<3:46:38,  6.07s/product]"
     ]
    },
    {
     "name": "stdout",
     "output_type": "stream",
     "text": [
      "Error fetching supplier for SKU 1238920002 after 5 retries: HTTPSConnectionPool(host='www2.hm.com', port=443): Max retries exceeded with url: /en_us/supplierDetails/articles/1238920002 (Caused by ResponseError('too many 400 error responses'))\n"
     ]
    },
    {
     "name": "stderr",
     "output_type": "stream",
     "text": [
      "Fetching Supplier Details:  65%|███████████████████████████▍              | 4231/6468 [2:09:09<4:20:12,  6.98s/product]"
     ]
    },
    {
     "name": "stdout",
     "output_type": "stream",
     "text": [
      "Error fetching supplier for SKU 1248215001 after 5 retries: HTTPSConnectionPool(host='www2.hm.com', port=443): Max retries exceeded with url: /en_us/supplierDetails/articles/1248215001 (Caused by ResponseError('too many 400 error responses'))\n"
     ]
    },
    {
     "name": "stderr",
     "output_type": "stream",
     "text": [
      "Fetching Supplier Details:  66%|███████████████████████████▌              | 4248/6468 [2:09:37<3:38:35,  5.91s/product]"
     ]
    },
    {
     "name": "stdout",
     "output_type": "stream",
     "text": [
      "Error fetching supplier for SKU 1200663003 after 5 retries: HTTPSConnectionPool(host='www2.hm.com', port=443): Max retries exceeded with url: /en_us/supplierDetails/articles/1200663003 (Caused by ResponseError('too many 400 error responses'))\n"
     ]
    },
    {
     "name": "stderr",
     "output_type": "stream",
     "text": [
      "Fetching Supplier Details:  66%|███████████████████████████▋              | 4269/6468 [2:10:14<3:46:11,  6.17s/product]"
     ]
    },
    {
     "name": "stdout",
     "output_type": "stream",
     "text": [
      "Error fetching supplier for SKU 1273154001 after 5 retries: HTTPSConnectionPool(host='www2.hm.com', port=443): Max retries exceeded with url: /en_us/supplierDetails/articles/1273154001 (Caused by ResponseError('too many 400 error responses'))\n"
     ]
    },
    {
     "name": "stderr",
     "output_type": "stream",
     "text": [
      "Fetching Supplier Details:  66%|███████████████████████████▋              | 4271/6468 [2:10:34<5:22:21,  8.80s/product]"
     ]
    },
    {
     "name": "stdout",
     "output_type": "stream",
     "text": [
      "Error fetching supplier for SKU 1244799001 after 5 retries: HTTPSConnectionPool(host='www2.hm.com', port=443): Max retries exceeded with url: /en_us/supplierDetails/articles/1244799001 (Caused by ResponseError('too many 400 error responses'))\n"
     ]
    },
    {
     "name": "stderr",
     "output_type": "stream",
     "text": [
      "Fetching Supplier Details:  66%|███████████████████████████▊              | 4275/6468 [2:10:55<4:59:09,  8.19s/product]"
     ]
    },
    {
     "name": "stdout",
     "output_type": "stream",
     "text": [
      "Error fetching supplier for SKU 1257865004 after 5 retries: HTTPSConnectionPool(host='www2.hm.com', port=443): Max retries exceeded with url: /en_us/supplierDetails/articles/1257865004 (Caused by ResponseError('too many 400 error responses'))\n"
     ]
    },
    {
     "name": "stderr",
     "output_type": "stream",
     "text": [
      "Fetching Supplier Details:  66%|███████████████████████████▊              | 4283/6468 [2:11:25<5:23:30,  8.88s/product]"
     ]
    },
    {
     "name": "stdout",
     "output_type": "stream",
     "text": [
      "Error fetching supplier for SKU 1246684001 after 5 retries: HTTPSConnectionPool(host='www2.hm.com', port=443): Max retries exceeded with url: /en_us/supplierDetails/articles/1246684001 (Caused by ResponseError('too many 400 error responses'))\n"
     ]
    },
    {
     "name": "stderr",
     "output_type": "stream",
     "text": [
      "Fetching Supplier Details:  66%|███████████████████████████▉              | 4294/6468 [2:11:48<3:29:39,  5.79s/product]"
     ]
    },
    {
     "name": "stdout",
     "output_type": "stream",
     "text": [
      "Error fetching supplier for SKU 1245913003 after 5 retries: HTTPSConnectionPool(host='www2.hm.com', port=443): Max retries exceeded with url: /en_us/supplierDetails/articles/1245913003 (Caused by ResponseError('too many 400 error responses'))\n"
     ]
    },
    {
     "name": "stderr",
     "output_type": "stream",
     "text": [
      "Fetching Supplier Details:  66%|███████████████████████████▉              | 4297/6468 [2:12:07<4:31:48,  7.51s/product]"
     ]
    },
    {
     "name": "stdout",
     "output_type": "stream",
     "text": [
      "Error fetching supplier for SKU 1246831001 after 5 retries: HTTPSConnectionPool(host='www2.hm.com', port=443): Max retries exceeded with url: /en_us/supplierDetails/articles/1246831001 (Caused by ResponseError('too many 400 error responses'))\n"
     ]
    },
    {
     "name": "stderr",
     "output_type": "stream",
     "text": [
      "Fetching Supplier Details:  66%|███████████████████████████▉              | 4299/6468 [2:12:25<5:25:31,  9.00s/product]"
     ]
    },
    {
     "name": "stdout",
     "output_type": "stream",
     "text": [
      "Error fetching supplier for SKU 1260202001 after 5 retries: HTTPSConnectionPool(host='www2.hm.com', port=443): Max retries exceeded with url: /en_us/supplierDetails/articles/1260202001 (Caused by ResponseError('too many 400 error responses'))\n"
     ]
    },
    {
     "name": "stderr",
     "output_type": "stream",
     "text": [
      "Fetching Supplier Details:  66%|███████████████████████████▉              | 4300/6468 [2:12:43<7:10:53, 11.93s/product]"
     ]
    },
    {
     "name": "stdout",
     "output_type": "stream",
     "text": [
      "Error fetching supplier for SKU 1245670001 after 5 retries: HTTPSConnectionPool(host='www2.hm.com', port=443): Max retries exceeded with url: /en_us/supplierDetails/articles/1245670001 (Caused by ResponseError('too many 400 error responses'))\n"
     ]
    },
    {
     "name": "stderr",
     "output_type": "stream",
     "text": [
      "Fetching Supplier Details:  67%|███████████████████████████▉              | 4302/6468 [2:13:02<6:54:03, 11.47s/product]"
     ]
    },
    {
     "name": "stdout",
     "output_type": "stream",
     "text": [
      "Error fetching supplier for SKU 1237220001 after 5 retries: HTTPSConnectionPool(host='www2.hm.com', port=443): Max retries exceeded with url: /en_us/supplierDetails/articles/1237220001 (Caused by ResponseError('too many 400 error responses'))\n"
     ]
    },
    {
     "name": "stderr",
     "output_type": "stream",
     "text": [
      "Fetching Supplier Details:  67%|███████████████████████████▉              | 4308/6468 [2:13:32<4:54:30,  8.18s/product]"
     ]
    },
    {
     "name": "stdout",
     "output_type": "stream",
     "text": [
      "Error fetching supplier for SKU 1260817001 after 5 retries: HTTPSConnectionPool(host='www2.hm.com', port=443): Max retries exceeded with url: /en_us/supplierDetails/articles/1260817001 (Caused by ResponseError('too many 400 error responses'))\n"
     ]
    },
    {
     "name": "stderr",
     "output_type": "stream",
     "text": [
      "Fetching Supplier Details:  67%|████████████████████████████              | 4312/6468 [2:13:53<4:46:36,  7.98s/product]"
     ]
    },
    {
     "name": "stdout",
     "output_type": "stream",
     "text": [
      "Error fetching supplier for SKU 1291922001 after 5 retries: HTTPSConnectionPool(host='www2.hm.com', port=443): Max retries exceeded with url: /en_us/supplierDetails/articles/1291922001 (Caused by ResponseError('too many 400 error responses'))\n"
     ]
    },
    {
     "name": "stderr",
     "output_type": "stream",
     "text": [
      "Fetching Supplier Details:  67%|████████████████████████████              | 4324/6468 [2:14:16<2:56:15,  4.93s/product]"
     ]
    },
    {
     "name": "stdout",
     "output_type": "stream",
     "text": [
      "Error fetching supplier for SKU 1273520003 after 5 retries: HTTPSConnectionPool(host='www2.hm.com', port=443): Max retries exceeded with url: /en_us/supplierDetails/articles/1273520003 (Caused by ResponseError('too many 400 error responses'))\n"
     ]
    },
    {
     "name": "stderr",
     "output_type": "stream",
     "text": [
      "Fetching Supplier Details:  67%|████████████████████████████              | 4327/6468 [2:14:35<4:11:20,  7.04s/product]"
     ]
    },
    {
     "name": "stdout",
     "output_type": "stream",
     "text": [
      "Error fetching supplier for SKU 1283190001 after 5 retries: HTTPSConnectionPool(host='www2.hm.com', port=443): Max retries exceeded with url: /en_us/supplierDetails/articles/1283190001 (Caused by ResponseError('too many 400 error responses'))\n"
     ]
    },
    {
     "name": "stderr",
     "output_type": "stream",
     "text": [
      "Fetching Supplier Details:  67%|████████████████████████████▎             | 4361/6468 [2:15:18<3:23:48,  5.80s/product]"
     ]
    },
    {
     "name": "stdout",
     "output_type": "stream",
     "text": [
      "Error fetching supplier for SKU 1176450004 after 5 retries: HTTPSConnectionPool(host='www2.hm.com', port=443): Max retries exceeded with url: /en_us/supplierDetails/articles/1176450004 (Caused by ResponseError('too many 400 error responses'))\n"
     ]
    },
    {
     "name": "stderr",
     "output_type": "stream",
     "text": [
      "Fetching Supplier Details:  68%|████████████████████████████▎             | 4366/6468 [2:15:37<3:47:50,  6.50s/product]"
     ]
    },
    {
     "name": "stdout",
     "output_type": "stream",
     "text": [
      "Error fetching supplier for SKU 1282331001 after 5 retries: HTTPSConnectionPool(host='www2.hm.com', port=443): Max retries exceeded with url: /en_us/supplierDetails/articles/1282331001 (Caused by ResponseError('too many 400 error responses'))\n"
     ]
    },
    {
     "name": "stderr",
     "output_type": "stream",
     "text": [
      "Fetching Supplier Details:  68%|████████████████████████████▎             | 4367/6468 [2:15:58<6:12:13, 10.63s/product]"
     ]
    },
    {
     "name": "stdout",
     "output_type": "stream",
     "text": [
      "Error fetching supplier for SKU 1269564001 after 5 retries: HTTPSConnectionPool(host='www2.hm.com', port=443): Max retries exceeded with url: /en_us/supplierDetails/articles/1269564001 (Caused by ResponseError('too many 400 error responses'))\n"
     ]
    },
    {
     "name": "stderr",
     "output_type": "stream",
     "text": [
      "Fetching Supplier Details:  68%|████████████████████████████▌             | 4401/6468 [2:16:37<3:09:31,  5.50s/product]"
     ]
    },
    {
     "name": "stdout",
     "output_type": "stream",
     "text": [
      "Error fetching supplier for SKU 1294474001 after 5 retries: HTTPSConnectionPool(host='www2.hm.com', port=443): Max retries exceeded with url: /en_us/supplierDetails/articles/1294474001 (Caused by ResponseError('too many 400 error responses'))\n"
     ]
    },
    {
     "name": "stderr",
     "output_type": "stream",
     "text": [
      "Fetching Supplier Details:  68%|████████████████████████████▋             | 4411/6468 [2:16:59<3:24:26,  5.96s/product]"
     ]
    },
    {
     "name": "stdout",
     "output_type": "stream",
     "text": [
      "Error fetching supplier for SKU 1272784001 after 5 retries: HTTPSConnectionPool(host='www2.hm.com', port=443): Max retries exceeded with url: /en_us/supplierDetails/articles/1272784001 (Caused by ResponseError('too many 400 error responses'))\n"
     ]
    },
    {
     "name": "stderr",
     "output_type": "stream",
     "text": [
      "Fetching Supplier Details:  68%|████████████████████████████▊             | 4428/6468 [2:17:25<3:12:07,  5.65s/product]"
     ]
    },
    {
     "name": "stdout",
     "output_type": "stream",
     "text": [
      "Error fetching supplier for SKU 1277899003 after 5 retries: HTTPSConnectionPool(host='www2.hm.com', port=443): Max retries exceeded with url: /en_us/supplierDetails/articles/1277899003 (Caused by ResponseError('too many 400 error responses'))\n"
     ]
    },
    {
     "name": "stderr",
     "output_type": "stream",
     "text": [
      "Fetching Supplier Details:  69%|████████████████████████████▉             | 4465/6468 [2:18:03<3:33:52,  6.41s/product]"
     ]
    },
    {
     "name": "stdout",
     "output_type": "stream",
     "text": [
      "Error fetching supplier for SKU 1245672005 after 5 retries: HTTPSConnectionPool(host='www2.hm.com', port=443): Max retries exceeded with url: /en_us/supplierDetails/articles/1245672005 (Caused by ResponseError('too many 400 error responses'))\n"
     ]
    },
    {
     "name": "stderr",
     "output_type": "stream",
     "text": [
      "Fetching Supplier Details:  69%|█████████████████████████████             | 4472/6468 [2:18:25<3:32:11,  6.38s/product]"
     ]
    },
    {
     "name": "stdout",
     "output_type": "stream",
     "text": [
      "Error fetching supplier for SKU 1269204003 after 5 retries: HTTPSConnectionPool(host='www2.hm.com', port=443): Max retries exceeded with url: /en_us/supplierDetails/articles/1269204003 (Caused by ResponseError('too many 400 error responses'))\n"
     ]
    },
    {
     "name": "stderr",
     "output_type": "stream",
     "text": [
      "Fetching Supplier Details:  69%|█████████████████████████████             | 4481/6468 [2:18:47<3:17:07,  5.95s/product]"
     ]
    },
    {
     "name": "stdout",
     "output_type": "stream",
     "text": [
      "Error fetching supplier for SKU 1242712001 after 5 retries: HTTPSConnectionPool(host='www2.hm.com', port=443): Max retries exceeded with url: /en_us/supplierDetails/articles/1242712001 (Caused by ResponseError('too many 400 error responses'))\n"
     ]
    },
    {
     "name": "stderr",
     "output_type": "stream",
     "text": [
      "Fetching Supplier Details:  69%|█████████████████████████████             | 4485/6468 [2:19:05<3:47:31,  6.88s/product]"
     ]
    },
    {
     "name": "stdout",
     "output_type": "stream",
     "text": [
      "Error fetching supplier for SKU 1089158027 after 5 retries: HTTPSConnectionPool(host='www2.hm.com', port=443): Max retries exceeded with url: /en_us/supplierDetails/articles/1089158027 (Caused by ResponseError('too many 400 error responses'))\n"
     ]
    },
    {
     "name": "stderr",
     "output_type": "stream",
     "text": [
      "Fetching Supplier Details:  69%|█████████████████████████████▏            | 4494/6468 [2:19:28<3:19:57,  6.08s/product]"
     ]
    },
    {
     "name": "stdout",
     "output_type": "stream",
     "text": [
      "Error fetching supplier for SKU 1232572001 after 5 retries: HTTPSConnectionPool(host='www2.hm.com', port=443): Max retries exceeded with url: /en_us/supplierDetails/articles/1232572001 (Caused by ResponseError('too many 400 error responses'))\n"
     ]
    },
    {
     "name": "stderr",
     "output_type": "stream",
     "text": [
      "Fetching Supplier Details:  69%|█████████████████████████████▏            | 4495/6468 [2:19:45<5:14:02,  9.55s/product]"
     ]
    },
    {
     "name": "stdout",
     "output_type": "stream",
     "text": [
      "Error fetching supplier for SKU 1250906003 after 5 retries: HTTPSConnectionPool(host='www2.hm.com', port=443): Max retries exceeded with url: /en_us/supplierDetails/articles/1250906003 (Caused by ResponseError('too many 400 error responses'))\n"
     ]
    },
    {
     "name": "stderr",
     "output_type": "stream",
     "text": [
      "Fetching Supplier Details:  70%|█████████████████████████████▎            | 4510/6468 [2:20:12<3:27:38,  6.36s/product]"
     ]
    },
    {
     "name": "stdout",
     "output_type": "stream",
     "text": [
      "Error fetching supplier for SKU 1229032008 after 5 retries: HTTPSConnectionPool(host='www2.hm.com', port=443): Max retries exceeded with url: /en_us/supplierDetails/articles/1229032008 (Caused by ResponseError('too many 400 error responses'))\n"
     ]
    },
    {
     "name": "stderr",
     "output_type": "stream",
     "text": [
      "Fetching Supplier Details:  70%|█████████████████████████████▎            | 4519/6468 [2:20:34<3:16:28,  6.05s/product]"
     ]
    },
    {
     "name": "stdout",
     "output_type": "stream",
     "text": [
      "Error fetching supplier for SKU 1089156011 after 5 retries: HTTPSConnectionPool(host='www2.hm.com', port=443): Max retries exceeded with url: /en_us/supplierDetails/articles/1089156011 (Caused by ResponseError('too many 400 error responses'))\n"
     ]
    },
    {
     "name": "stderr",
     "output_type": "stream",
     "text": [
      "Fetching Supplier Details:  70%|█████████████████████████████▍            | 4527/6468 [2:20:56<3:18:40,  6.14s/product]"
     ]
    },
    {
     "name": "stdout",
     "output_type": "stream",
     "text": [
      "Error fetching supplier for SKU 1237778002 after 5 retries: HTTPSConnectionPool(host='www2.hm.com', port=443): Max retries exceeded with url: /en_us/supplierDetails/articles/1237778002 (Caused by ResponseError('too many 400 error responses'))\n"
     ]
    },
    {
     "name": "stderr",
     "output_type": "stream",
     "text": [
      "Fetching Supplier Details:  70%|█████████████████████████████▍            | 4541/6468 [2:21:25<3:44:09,  6.98s/product]"
     ]
    },
    {
     "name": "stdout",
     "output_type": "stream",
     "text": [
      "Error fetching supplier for SKU 1261121001 after 5 retries: HTTPSConnectionPool(host='www2.hm.com', port=443): Max retries exceeded with url: /en_us/supplierDetails/articles/1261121001 (Caused by ResponseError('too many 400 error responses'))\n"
     ]
    },
    {
     "name": "stderr",
     "output_type": "stream",
     "text": [
      "Fetching Supplier Details:  70%|█████████████████████████████▍            | 4543/6468 [2:21:45<5:05:08,  9.51s/product]"
     ]
    },
    {
     "name": "stdout",
     "output_type": "stream",
     "text": [
      "Error fetching supplier for SKU 1237414001 after 5 retries: HTTPSConnectionPool(host='www2.hm.com', port=443): Max retries exceeded with url: /en_us/supplierDetails/articles/1237414001 (Caused by ResponseError('too many 400 error responses'))\n"
     ]
    },
    {
     "name": "stderr",
     "output_type": "stream",
     "text": [
      "Fetching Supplier Details:  70%|█████████████████████████████▌            | 4544/6468 [2:22:07<7:04:20, 13.23s/product]"
     ]
    },
    {
     "name": "stdout",
     "output_type": "stream",
     "text": [
      "Error fetching supplier for SKU 1268085001 after 5 retries: HTTPSConnectionPool(host='www2.hm.com', port=443): Max retries exceeded with url: /en_us/supplierDetails/articles/1268085001 (Caused by ResponseError('too many 400 error responses'))\n"
     ]
    },
    {
     "name": "stderr",
     "output_type": "stream",
     "text": [
      "Fetching Supplier Details:  70%|█████████████████████████████▌            | 4547/6468 [2:22:26<5:19:26,  9.98s/product]"
     ]
    },
    {
     "name": "stdout",
     "output_type": "stream",
     "text": [
      "Error fetching supplier for SKU 1254757003 after 5 retries: HTTPSConnectionPool(host='www2.hm.com', port=443): Max retries exceeded with url: /en_us/supplierDetails/articles/1254757003 (Caused by ResponseError('too many 400 error responses'))\n"
     ]
    },
    {
     "name": "stderr",
     "output_type": "stream",
     "text": [
      "Fetching Supplier Details:  70%|█████████████████████████████▌            | 4553/6468 [2:22:46<3:35:32,  6.75s/product]"
     ]
    },
    {
     "name": "stdout",
     "output_type": "stream",
     "text": [
      "Error fetching supplier for SKU 1242260002 after 5 retries: HTTPSConnectionPool(host='www2.hm.com', port=443): Max retries exceeded with url: /en_us/supplierDetails/articles/1242260002 (Caused by ResponseError('too many 400 error responses'))\n"
     ]
    },
    {
     "name": "stderr",
     "output_type": "stream",
     "text": [
      "Fetching Supplier Details:  70%|█████████████████████████████▌            | 4554/6468 [2:23:03<5:18:59, 10.00s/product]"
     ]
    },
    {
     "name": "stdout",
     "output_type": "stream",
     "text": [
      "Error fetching supplier for SKU 1188521004 after 5 retries: HTTPSConnectionPool(host='www2.hm.com', port=443): Max retries exceeded with url: /en_us/supplierDetails/articles/1188521004 (Caused by ResponseError('too many 400 error responses'))\n"
     ]
    },
    {
     "name": "stderr",
     "output_type": "stream",
     "text": [
      "Fetching Supplier Details:  70%|█████████████████████████████▌            | 4559/6468 [2:23:22<3:47:11,  7.14s/product]"
     ]
    },
    {
     "name": "stdout",
     "output_type": "stream",
     "text": [
      "Error fetching supplier for SKU 1251370003 after 5 retries: HTTPSConnectionPool(host='www2.hm.com', port=443): Max retries exceeded with url: /en_us/supplierDetails/articles/1251370003 (Caused by ResponseError('too many 400 error responses'))\n"
     ]
    },
    {
     "name": "stderr",
     "output_type": "stream",
     "text": [
      "Fetching Supplier Details:  71%|█████████████████████████████▊            | 4585/6468 [2:24:00<3:17:26,  6.29s/product]"
     ]
    },
    {
     "name": "stdout",
     "output_type": "stream",
     "text": [
      "Error fetching supplier for SKU 1240286006 after 5 retries: HTTPSConnectionPool(host='www2.hm.com', port=443): Max retries exceeded with url: /en_us/supplierDetails/articles/1240286006 (Caused by ResponseError('too many 400 error responses'))\n"
     ]
    },
    {
     "name": "stderr",
     "output_type": "stream",
     "text": [
      "Fetching Supplier Details:  71%|█████████████████████████████▉            | 4613/6468 [2:24:30<2:50:44,  5.52s/product]"
     ]
    },
    {
     "name": "stdout",
     "output_type": "stream",
     "text": [
      "Error fetching supplier for SKU 1264318002 after 5 retries: HTTPSConnectionPool(host='www2.hm.com', port=443): Max retries exceeded with url: /en_us/supplierDetails/articles/1264318002 (Caused by ResponseError('too many 400 error responses'))\n"
     ]
    },
    {
     "name": "stderr",
     "output_type": "stream",
     "text": [
      "Fetching Supplier Details:  71%|█████████████████████████████▉            | 4614/6468 [2:24:49<4:50:11,  9.39s/product]"
     ]
    },
    {
     "name": "stdout",
     "output_type": "stream",
     "text": [
      "Error fetching supplier for SKU 1237727001 after 5 retries: HTTPSConnectionPool(host='www2.hm.com', port=443): Max retries exceeded with url: /en_us/supplierDetails/articles/1237727001 (Caused by ResponseError('too many 400 error responses'))\n"
     ]
    },
    {
     "name": "stderr",
     "output_type": "stream",
     "text": [
      "Fetching Supplier Details:  72%|██████████████████████████████            | 4627/6468 [2:25:12<2:52:23,  5.62s/product]"
     ]
    },
    {
     "name": "stdout",
     "output_type": "stream",
     "text": [
      "Error fetching supplier for SKU 1288679001 after 5 retries: HTTPSConnectionPool(host='www2.hm.com', port=443): Max retries exceeded with url: /en_us/supplierDetails/articles/1288679001 (Caused by ResponseError('too many 400 error responses'))\n"
     ]
    },
    {
     "name": "stderr",
     "output_type": "stream",
     "text": [
      "Fetching Supplier Details:  72%|██████████████████████████████            | 4635/6468 [2:25:32<2:58:03,  5.83s/product]"
     ]
    },
    {
     "name": "stdout",
     "output_type": "stream",
     "text": [
      "Error fetching supplier for SKU 1268205001 after 5 retries: HTTPSConnectionPool(host='www2.hm.com', port=443): Max retries exceeded with url: /en_us/supplierDetails/articles/1268205001 (Caused by ResponseError('too many 400 error responses'))\n"
     ]
    },
    {
     "name": "stderr",
     "output_type": "stream",
     "text": [
      "Fetching Supplier Details:  72%|██████████████████████████████            | 4639/6468 [2:25:52<3:34:43,  7.04s/product]"
     ]
    },
    {
     "name": "stdout",
     "output_type": "stream",
     "text": [
      "Error fetching supplier for SKU 1219315001 after 5 retries: HTTPSConnectionPool(host='www2.hm.com', port=443): Max retries exceeded with url: /en_us/supplierDetails/articles/1219315001 (Caused by ResponseError('too many 400 error responses'))\n"
     ]
    },
    {
     "name": "stderr",
     "output_type": "stream",
     "text": [
      "Fetching Supplier Details:  72%|██████████████████████████████▏           | 4643/6468 [2:26:10<3:37:10,  7.14s/product]"
     ]
    },
    {
     "name": "stdout",
     "output_type": "stream",
     "text": [
      "Error fetching supplier for SKU 1261484002 after 5 retries: HTTPSConnectionPool(host='www2.hm.com', port=443): Max retries exceeded with url: /en_us/supplierDetails/articles/1261484002 (Caused by ResponseError('too many 400 error responses'))\n"
     ]
    },
    {
     "name": "stderr",
     "output_type": "stream",
     "text": [
      "Fetching Supplier Details:  72%|██████████████████████████████▏           | 4645/6468 [2:26:29<4:30:15,  8.89s/product]"
     ]
    },
    {
     "name": "stdout",
     "output_type": "stream",
     "text": [
      "Error fetching supplier for SKU 1260472001 after 5 retries: HTTPSConnectionPool(host='www2.hm.com', port=443): Max retries exceeded with url: /en_us/supplierDetails/articles/1260472001 (Caused by ResponseError('too many 400 error responses'))\n"
     ]
    },
    {
     "name": "stderr",
     "output_type": "stream",
     "text": [
      "Fetching Supplier Details:  72%|██████████████████████████████▏           | 4646/6468 [2:26:46<5:48:55, 11.49s/product]"
     ]
    },
    {
     "name": "stdout",
     "output_type": "stream",
     "text": [
      "Error fetching supplier for SKU 1228544002 after 5 retries: HTTPSConnectionPool(host='www2.hm.com', port=443): Max retries exceeded with url: /en_us/supplierDetails/articles/1228544002 (Caused by ResponseError('too many 400 error responses'))\n"
     ]
    },
    {
     "name": "stderr",
     "output_type": "stream",
     "text": [
      "Fetching Supplier Details:  72%|██████████████████████████████▏           | 4653/6468 [2:27:06<3:13:29,  6.40s/product]"
     ]
    },
    {
     "name": "stdout",
     "output_type": "stream",
     "text": [
      "Error fetching supplier for SKU 1295158001 after 5 retries: HTTPSConnectionPool(host='www2.hm.com', port=443): Max retries exceeded with url: /en_us/supplierDetails/articles/1295158001 (Caused by ResponseError('too many 400 error responses'))\n"
     ]
    },
    {
     "name": "stderr",
     "output_type": "stream",
     "text": [
      "Fetching Supplier Details:  72%|██████████████████████████████▎           | 4659/6468 [2:27:26<3:11:45,  6.36s/product]"
     ]
    },
    {
     "name": "stdout",
     "output_type": "stream",
     "text": [
      "Error fetching supplier for SKU 1240279005 after 5 retries: HTTPSConnectionPool(host='www2.hm.com', port=443): Max retries exceeded with url: /en_us/supplierDetails/articles/1240279005 (Caused by ResponseError('too many 400 error responses'))\n"
     ]
    },
    {
     "name": "stderr",
     "output_type": "stream",
     "text": [
      "Fetching Supplier Details:  72%|██████████████████████████████▎           | 4663/6468 [2:27:45<3:29:42,  6.97s/product]"
     ]
    },
    {
     "name": "stdout",
     "output_type": "stream",
     "text": [
      "Error fetching supplier for SKU 1239312004 after 5 retries: HTTPSConnectionPool(host='www2.hm.com', port=443): Max retries exceeded with url: /en_us/supplierDetails/articles/1239312004 (Caused by ResponseError('too many 400 error responses'))\n"
     ]
    },
    {
     "name": "stderr",
     "output_type": "stream",
     "text": [
      "Fetching Supplier Details:  72%|██████████████████████████████▎           | 4664/6468 [2:28:02<5:05:17, 10.15s/product]"
     ]
    },
    {
     "name": "stdout",
     "output_type": "stream",
     "text": [
      "Error fetching supplier for SKU 1246573001 after 5 retries: HTTPSConnectionPool(host='www2.hm.com', port=443): Max retries exceeded with url: /en_us/supplierDetails/articles/1246573001 (Caused by ResponseError('too many 400 error responses'))\n"
     ]
    },
    {
     "name": "stderr",
     "output_type": "stream",
     "text": [
      "Fetching Supplier Details:  73%|██████████████████████████████▍           | 4691/6468 [2:28:30<2:42:49,  5.50s/product]"
     ]
    },
    {
     "name": "stdout",
     "output_type": "stream",
     "text": [
      "Error fetching supplier for SKU 1282506005 after 5 retries: HTTPSConnectionPool(host='www2.hm.com', port=443): Max retries exceeded with url: /en_us/supplierDetails/articles/1282506005 (Caused by ResponseError('too many 400 error responses'))\n"
     ]
    },
    {
     "name": "stderr",
     "output_type": "stream",
     "text": [
      "Fetching Supplier Details:  73%|██████████████████████████████▌           | 4715/6468 [2:28:58<2:43:51,  5.61s/product]"
     ]
    },
    {
     "name": "stdout",
     "output_type": "stream",
     "text": [
      "Error fetching supplier for SKU 1261058004 after 5 retries: HTTPSConnectionPool(host='www2.hm.com', port=443): Max retries exceeded with url: /en_us/supplierDetails/articles/1261058004 (Caused by ResponseError('too many 400 error responses'))\n"
     ]
    },
    {
     "name": "stderr",
     "output_type": "stream",
     "text": [
      "Fetching Supplier Details:  73%|██████████████████████████████▊           | 4736/6468 [2:29:24<2:47:02,  5.79s/product]"
     ]
    },
    {
     "name": "stdout",
     "output_type": "stream",
     "text": [
      "Error fetching supplier for SKU 1257895001 after 5 retries: HTTPSConnectionPool(host='www2.hm.com', port=443): Max retries exceeded with url: /en_us/supplierDetails/articles/1257895001 (Caused by ResponseError('too many 400 error responses'))\n"
     ]
    },
    {
     "name": "stderr",
     "output_type": "stream",
     "text": [
      "Fetching Supplier Details:  74%|██████████████████████████████▉           | 4756/6468 [2:29:52<2:35:47,  5.46s/product]"
     ]
    },
    {
     "name": "stdout",
     "output_type": "stream",
     "text": [
      "Error fetching supplier for SKU 1244217004 after 5 retries: HTTPSConnectionPool(host='www2.hm.com', port=443): Max retries exceeded with url: /en_us/supplierDetails/articles/1244217004 (Caused by ResponseError('too many 400 error responses'))\n"
     ]
    },
    {
     "name": "stderr",
     "output_type": "stream",
     "text": [
      "Fetching Supplier Details:  74%|██████████████████████████████▉           | 4757/6468 [2:30:10<4:10:59,  8.80s/product]"
     ]
    },
    {
     "name": "stdout",
     "output_type": "stream",
     "text": [
      "Error fetching supplier for SKU 1245395002 after 5 retries: HTTPSConnectionPool(host='www2.hm.com', port=443): Max retries exceeded with url: /en_us/supplierDetails/articles/1245395002 (Caused by ResponseError('too many 400 error responses'))\n"
     ]
    },
    {
     "name": "stderr",
     "output_type": "stream",
     "text": [
      "Fetching Supplier Details:  74%|██████████████████████████████▉           | 4760/6468 [2:30:28<4:03:58,  8.57s/product]"
     ]
    },
    {
     "name": "stdout",
     "output_type": "stream",
     "text": [
      "Error fetching supplier for SKU 1250875002 after 5 retries: HTTPSConnectionPool(host='www2.hm.com', port=443): Max retries exceeded with url: /en_us/supplierDetails/articles/1250875002 (Caused by ResponseError('too many 400 error responses'))\n"
     ]
    },
    {
     "name": "stderr",
     "output_type": "stream",
     "text": [
      "Fetching Supplier Details:  74%|██████████████████████████████▉           | 4763/6468 [2:30:47<3:57:00,  8.34s/product]"
     ]
    },
    {
     "name": "stdout",
     "output_type": "stream",
     "text": [
      "Error fetching supplier for SKU 1224918001 after 5 retries: HTTPSConnectionPool(host='www2.hm.com', port=443): Max retries exceeded with url: /en_us/supplierDetails/articles/1224918001 (Caused by ResponseError('too many 400 error responses'))\n"
     ]
    },
    {
     "name": "stderr",
     "output_type": "stream",
     "text": [
      "Fetching Supplier Details:  74%|██████████████████████████████▉           | 4773/6468 [2:31:08<2:45:57,  5.87s/product]"
     ]
    },
    {
     "name": "stdout",
     "output_type": "stream",
     "text": [
      "Error fetching supplier for SKU 1209694007 after 5 retries: HTTPSConnectionPool(host='www2.hm.com', port=443): Max retries exceeded with url: /en_us/supplierDetails/articles/1209694007 (Caused by ResponseError('too many 400 error responses'))\n"
     ]
    },
    {
     "name": "stderr",
     "output_type": "stream",
     "text": [
      "Fetching Supplier Details:  74%|███████████████████████████████           | 4777/6468 [2:31:27<3:13:49,  6.88s/product]"
     ]
    },
    {
     "name": "stdout",
     "output_type": "stream",
     "text": [
      "Error fetching supplier for SKU 1217396001 after 5 retries: HTTPSConnectionPool(host='www2.hm.com', port=443): Max retries exceeded with url: /en_us/supplierDetails/articles/1217396001 (Caused by ResponseError('too many 400 error responses'))\n"
     ]
    },
    {
     "name": "stderr",
     "output_type": "stream",
     "text": [
      "Fetching Supplier Details:  74%|███████████████████████████████           | 4781/6468 [2:31:47<3:25:04,  7.29s/product]"
     ]
    },
    {
     "name": "stdout",
     "output_type": "stream",
     "text": [
      "Error fetching supplier for SKU 1255367002 after 5 retries: HTTPSConnectionPool(host='www2.hm.com', port=443): Max retries exceeded with url: /en_us/supplierDetails/articles/1255367002 (Caused by ResponseError('too many 400 error responses'))\n"
     ]
    },
    {
     "name": "stderr",
     "output_type": "stream",
     "text": [
      "Fetching Supplier Details:  74%|███████████████████████████████▏          | 4799/6468 [2:32:12<2:32:53,  5.50s/product]"
     ]
    },
    {
     "name": "stdout",
     "output_type": "stream",
     "text": [
      "Error fetching supplier for SKU 1240268001 after 5 retries: HTTPSConnectionPool(host='www2.hm.com', port=443): Max retries exceeded with url: /en_us/supplierDetails/articles/1240268001 (Caused by ResponseError('too many 400 error responses'))\n"
     ]
    },
    {
     "name": "stderr",
     "output_type": "stream",
     "text": [
      "Fetching Supplier Details:  74%|███████████████████████████████▏          | 4807/6468 [2:32:41<3:31:50,  7.65s/product]"
     ]
    },
    {
     "name": "stdout",
     "output_type": "stream",
     "text": [
      "Error fetching supplier for SKU 1238920001 after 5 retries: HTTPSConnectionPool(host='www2.hm.com', port=443): Max retries exceeded with url: /en_us/supplierDetails/articles/1238920001 (Caused by ResponseError('too many 400 error responses'))\n"
     ]
    },
    {
     "name": "stderr",
     "output_type": "stream",
     "text": [
      "Fetching Supplier Details:  74%|███████████████████████████████▏          | 4808/6468 [2:32:58<4:53:37, 10.61s/product]"
     ]
    },
    {
     "name": "stdout",
     "output_type": "stream",
     "text": [
      "Error fetching supplier for SKU 1262585003 after 5 retries: HTTPSConnectionPool(host='www2.hm.com', port=443): Max retries exceeded with url: /en_us/supplierDetails/articles/1262585003 (Caused by ResponseError('too many 400 error responses'))\n"
     ]
    },
    {
     "name": "stderr",
     "output_type": "stream",
     "text": [
      "Fetching Supplier Details:  74%|███████████████████████████████▎          | 4818/6468 [2:33:20<2:46:39,  6.06s/product]"
     ]
    },
    {
     "name": "stdout",
     "output_type": "stream",
     "text": [
      "Error fetching supplier for SKU 1235652006 after 5 retries: HTTPSConnectionPool(host='www2.hm.com', port=443): Max retries exceeded with url: /en_us/supplierDetails/articles/1235652006 (Caused by ResponseError('too many 400 error responses'))\n"
     ]
    },
    {
     "name": "stderr",
     "output_type": "stream",
     "text": [
      "Fetching Supplier Details:  75%|███████████████████████████████▎          | 4821/6468 [2:33:39<3:28:58,  7.61s/product]"
     ]
    },
    {
     "name": "stdout",
     "output_type": "stream",
     "text": [
      "Error fetching supplier for SKU 1231400004 after 5 retries: HTTPSConnectionPool(host='www2.hm.com', port=443): Max retries exceeded with url: /en_us/supplierDetails/articles/1231400004 (Caused by ResponseError('too many 400 error responses'))\n"
     ]
    },
    {
     "name": "stderr",
     "output_type": "stream",
     "text": [
      "Fetching Supplier Details:  75%|███████████████████████████████▎          | 4823/6468 [2:33:58<4:12:06,  9.20s/product]"
     ]
    },
    {
     "name": "stdout",
     "output_type": "stream",
     "text": [
      "Error fetching supplier for SKU 1259812001 after 5 retries: HTTPSConnectionPool(host='www2.hm.com', port=443): Max retries exceeded with url: /en_us/supplierDetails/articles/1259812001 (Caused by ResponseError('too many 400 error responses'))\n"
     ]
    },
    {
     "name": "stderr",
     "output_type": "stream",
     "text": [
      "Fetching Supplier Details:  75%|███████████████████████████████▎          | 4829/6468 [2:34:17<3:01:11,  6.63s/product]"
     ]
    },
    {
     "name": "stdout",
     "output_type": "stream",
     "text": [
      "Error fetching supplier for SKU 1236462007 after 5 retries: HTTPSConnectionPool(host='www2.hm.com', port=443): Max retries exceeded with url: /en_us/supplierDetails/articles/1236462007 (Caused by ResponseError('too many 400 error responses'))\n"
     ]
    },
    {
     "name": "stderr",
     "output_type": "stream",
     "text": [
      "Fetching Supplier Details:  75%|███████████████████████████████▍          | 4847/6468 [2:34:42<2:28:49,  5.51s/product]"
     ]
    },
    {
     "name": "stdout",
     "output_type": "stream",
     "text": [
      "Error fetching supplier for SKU 1252165003 after 5 retries: HTTPSConnectionPool(host='www2.hm.com', port=443): Max retries exceeded with url: /en_us/supplierDetails/articles/1252165003 (Caused by ResponseError('too many 400 error responses'))\n"
     ]
    },
    {
     "name": "stderr",
     "output_type": "stream",
     "text": [
      "Fetching Supplier Details:  75%|███████████████████████████████▍          | 4849/6468 [2:35:00<3:42:23,  8.24s/product]"
     ]
    },
    {
     "name": "stdout",
     "output_type": "stream",
     "text": [
      "Error fetching supplier for SKU 1219945004 after 5 retries: HTTPSConnectionPool(host='www2.hm.com', port=443): Max retries exceeded with url: /en_us/supplierDetails/articles/1219945004 (Caused by ResponseError('too many 400 error responses'))\n"
     ]
    },
    {
     "name": "stderr",
     "output_type": "stream",
     "text": [
      "Fetching Supplier Details:  75%|███████████████████████████████▌          | 4858/6468 [2:35:21<2:37:08,  5.86s/product]"
     ]
    },
    {
     "name": "stdout",
     "output_type": "stream",
     "text": [
      "Error fetching supplier for SKU 1232213002 after 5 retries: HTTPSConnectionPool(host='www2.hm.com', port=443): Max retries exceeded with url: /en_us/supplierDetails/articles/1232213002 (Caused by ResponseError('too many 400 error responses'))\n"
     ]
    },
    {
     "name": "stderr",
     "output_type": "stream",
     "text": [
      "Fetching Supplier Details:  75%|███████████████████████████████▌          | 4863/6468 [2:35:40<2:52:11,  6.44s/product]"
     ]
    },
    {
     "name": "stdout",
     "output_type": "stream",
     "text": [
      "Error fetching supplier for SKU 1245373002 after 5 retries: HTTPSConnectionPool(host='www2.hm.com', port=443): Max retries exceeded with url: /en_us/supplierDetails/articles/1245373002 (Caused by ResponseError('too many 400 error responses'))\n"
     ]
    },
    {
     "name": "stderr",
     "output_type": "stream",
     "text": [
      "Fetching Supplier Details:  75%|███████████████████████████████▋          | 4879/6468 [2:36:05<2:27:04,  5.55s/product]"
     ]
    },
    {
     "name": "stdout",
     "output_type": "stream",
     "text": [
      "Error fetching supplier for SKU 1232506004 after 5 retries: HTTPSConnectionPool(host='www2.hm.com', port=443): Max retries exceeded with url: /en_us/supplierDetails/articles/1232506004 (Caused by ResponseError('too many 400 error responses'))\n"
     ]
    },
    {
     "name": "stderr",
     "output_type": "stream",
     "text": [
      "Fetching Supplier Details:  76%|███████████████████████████████▋          | 4885/6468 [2:36:25<2:40:52,  6.10s/product]"
     ]
    },
    {
     "name": "stdout",
     "output_type": "stream",
     "text": [
      "Error fetching supplier for SKU 1241123001 after 5 retries: HTTPSConnectionPool(host='www2.hm.com', port=443): Max retries exceeded with url: /en_us/supplierDetails/articles/1241123001 (Caused by ResponseError('too many 400 error responses'))\n"
     ]
    },
    {
     "name": "stderr",
     "output_type": "stream",
     "text": [
      "Fetching Supplier Details:  76%|███████████████████████████████▋          | 4887/6468 [2:36:43<3:38:46,  8.30s/product]"
     ]
    },
    {
     "name": "stdout",
     "output_type": "stream",
     "text": [
      "Error fetching supplier for SKU 1246830004 after 5 retries: HTTPSConnectionPool(host='www2.hm.com', port=443): Max retries exceeded with url: /en_us/supplierDetails/articles/1246830004 (Caused by ResponseError('too many 400 error responses'))\n"
     ]
    },
    {
     "name": "stderr",
     "output_type": "stream",
     "text": [
      "Fetching Supplier Details:  76%|███████████████████████████████▊          | 4891/6468 [2:37:02<3:17:24,  7.51s/product]"
     ]
    },
    {
     "name": "stdout",
     "output_type": "stream",
     "text": [
      "Error fetching supplier for SKU 1215703006 after 5 retries: HTTPSConnectionPool(host='www2.hm.com', port=443): Max retries exceeded with url: /en_us/supplierDetails/articles/1215703006 (Caused by ResponseError('too many 400 error responses'))\n"
     ]
    },
    {
     "name": "stderr",
     "output_type": "stream",
     "text": [
      "Fetching Supplier Details:  76%|███████████████████████████████▊          | 4892/6468 [2:37:20<4:39:26, 10.64s/product]"
     ]
    },
    {
     "name": "stdout",
     "output_type": "stream",
     "text": [
      "Error fetching supplier for SKU 1245373001 after 5 retries: HTTPSConnectionPool(host='www2.hm.com', port=443): Max retries exceeded with url: /en_us/supplierDetails/articles/1245373001 (Caused by ResponseError('too many 400 error responses'))\n"
     ]
    },
    {
     "name": "stderr",
     "output_type": "stream",
     "text": [
      "Fetching Supplier Details:  76%|███████████████████████████████▉          | 4910/6468 [2:37:45<2:28:26,  5.72s/product]"
     ]
    },
    {
     "name": "stdout",
     "output_type": "stream",
     "text": [
      "Error fetching supplier for SKU 1253772003 after 5 retries: HTTPSConnectionPool(host='www2.hm.com', port=443): Max retries exceeded with url: /en_us/supplierDetails/articles/1253772003 (Caused by ResponseError('too many 400 error responses'))\n"
     ]
    },
    {
     "name": "stderr",
     "output_type": "stream",
     "text": [
      "Fetching Supplier Details:  76%|███████████████████████████████▉          | 4915/6468 [2:38:04<2:47:17,  6.46s/product]"
     ]
    },
    {
     "name": "stdout",
     "output_type": "stream",
     "text": [
      "Error fetching supplier for SKU 1292674002 after 5 retries: HTTPSConnectionPool(host='www2.hm.com', port=443): Max retries exceeded with url: /en_us/supplierDetails/articles/1292674002 (Caused by ResponseError('too many 400 error responses'))\n"
     ]
    },
    {
     "name": "stderr",
     "output_type": "stream",
     "text": [
      "Fetching Supplier Details:  76%|███████████████████████████████▉          | 4920/6468 [2:38:24<2:50:31,  6.61s/product]"
     ]
    },
    {
     "name": "stdout",
     "output_type": "stream",
     "text": [
      "Error fetching supplier for SKU 1240442003 after 5 retries: HTTPSConnectionPool(host='www2.hm.com', port=443): Max retries exceeded with url: /en_us/supplierDetails/articles/1240442003 (Caused by ResponseError('too many 400 error responses'))\n"
     ]
    },
    {
     "name": "stderr",
     "output_type": "stream",
     "text": [
      "Fetching Supplier Details:  76%|███████████████████████████████▉          | 4922/6468 [2:38:42<3:40:50,  8.57s/product]"
     ]
    },
    {
     "name": "stdout",
     "output_type": "stream",
     "text": [
      "Error fetching supplier for SKU 1235652004 after 5 retries: HTTPSConnectionPool(host='www2.hm.com', port=443): Max retries exceeded with url: /en_us/supplierDetails/articles/1235652004 (Caused by ResponseError('too many 400 error responses'))\n"
     ]
    },
    {
     "name": "stderr",
     "output_type": "stream",
     "text": [
      "Fetching Supplier Details:  76%|███████████████████████████████▉          | 4925/6468 [2:39:01<3:38:15,  8.49s/product]"
     ]
    },
    {
     "name": "stdout",
     "output_type": "stream",
     "text": [
      "Error fetching supplier for SKU 1197602007 after 5 retries: HTTPSConnectionPool(host='www2.hm.com', port=443): Max retries exceeded with url: /en_us/supplierDetails/articles/1197602007 (Caused by ResponseError('too many 400 error responses'))\n"
     ]
    },
    {
     "name": "stderr",
     "output_type": "stream",
     "text": [
      "Fetching Supplier Details:  76%|████████████████████████████████          | 4928/6468 [2:39:20<3:36:43,  8.44s/product]"
     ]
    },
    {
     "name": "stdout",
     "output_type": "stream",
     "text": [
      "Error fetching supplier for SKU 1239774001 after 5 retries: HTTPSConnectionPool(host='www2.hm.com', port=443): Max retries exceeded with url: /en_us/supplierDetails/articles/1239774001 (Caused by ResponseError('too many 400 error responses'))\n"
     ]
    },
    {
     "name": "stderr",
     "output_type": "stream",
     "text": [
      "Fetching Supplier Details:  76%|████████████████████████████████          | 4929/6468 [2:39:37<4:47:06, 11.19s/product]"
     ]
    },
    {
     "name": "stdout",
     "output_type": "stream",
     "text": [
      "Error fetching supplier for SKU 1247282001 after 5 retries: HTTPSConnectionPool(host='www2.hm.com', port=443): Max retries exceeded with url: /en_us/supplierDetails/articles/1247282001 (Caused by ResponseError('too many 400 error responses'))\n"
     ]
    },
    {
     "name": "stderr",
     "output_type": "stream",
     "text": [
      "Fetching Supplier Details:  76%|████████████████████████████████          | 4936/6468 [2:39:57<2:43:41,  6.41s/product]"
     ]
    },
    {
     "name": "stdout",
     "output_type": "stream",
     "text": [
      "Error fetching supplier for SKU 1261939001 after 5 retries: HTTPSConnectionPool(host='www2.hm.com', port=443): Max retries exceeded with url: /en_us/supplierDetails/articles/1261939001 (Caused by ResponseError('too many 400 error responses'))\n"
     ]
    },
    {
     "name": "stderr",
     "output_type": "stream",
     "text": [
      "Fetching Supplier Details:  76%|████████████████████████████████          | 4937/6468 [2:40:15<4:07:06,  9.68s/product]"
     ]
    },
    {
     "name": "stdout",
     "output_type": "stream",
     "text": [
      "Error fetching supplier for SKU 1232656001 after 5 retries: HTTPSConnectionPool(host='www2.hm.com', port=443): Max retries exceeded with url: /en_us/supplierDetails/articles/1232656001 (Caused by ResponseError('too many 400 error responses'))\n"
     ]
    },
    {
     "name": "stderr",
     "output_type": "stream",
     "text": [
      "Fetching Supplier Details:  77%|████████████████████████████████▏         | 4953/6468 [2:40:38<2:19:36,  5.53s/product]"
     ]
    },
    {
     "name": "stdout",
     "output_type": "stream",
     "text": [
      "Error fetching supplier for SKU 1243797006 after 5 retries: HTTPSConnectionPool(host='www2.hm.com', port=443): Max retries exceeded with url: /en_us/supplierDetails/articles/1243797006 (Caused by ResponseError('too many 400 error responses'))\n"
     ]
    },
    {
     "name": "stderr",
     "output_type": "stream",
     "text": [
      "Fetching Supplier Details:  77%|████████████████████████████████▏         | 4963/6468 [2:40:59<2:20:45,  5.61s/product]"
     ]
    },
    {
     "name": "stdout",
     "output_type": "stream",
     "text": [
      "Error fetching supplier for SKU 1256244001 after 5 retries: HTTPSConnectionPool(host='www2.hm.com', port=443): Max retries exceeded with url: /en_us/supplierDetails/articles/1256244001 (Caused by ResponseError('too many 400 error responses'))\n"
     ]
    },
    {
     "name": "stderr",
     "output_type": "stream",
     "text": [
      "Fetching Supplier Details:  77%|████████████████████████████████▏         | 4964/6468 [2:41:16<3:49:19,  9.15s/product]"
     ]
    },
    {
     "name": "stdout",
     "output_type": "stream",
     "text": [
      "Error fetching supplier for SKU 1256501003 after 5 retries: HTTPSConnectionPool(host='www2.hm.com', port=443): Max retries exceeded with url: /en_us/supplierDetails/articles/1256501003 (Caused by ResponseError('too many 400 error responses'))\n"
     ]
    },
    {
     "name": "stderr",
     "output_type": "stream",
     "text": [
      "Fetching Supplier Details:  77%|████████████████████████████████▏         | 4966/6468 [2:41:34<4:05:12,  9.80s/product]"
     ]
    },
    {
     "name": "stdout",
     "output_type": "stream",
     "text": [
      "Error fetching supplier for SKU 1217092005 after 5 retries: HTTPSConnectionPool(host='www2.hm.com', port=443): Max retries exceeded with url: /en_us/supplierDetails/articles/1217092005 (Caused by ResponseError('too many 400 error responses'))\n"
     ]
    },
    {
     "name": "stderr",
     "output_type": "stream",
     "text": [
      "Fetching Supplier Details:  77%|████████████████████████████████▎         | 4970/6468 [2:41:53<2:48:05,  6.73s/product]"
     ]
    },
    {
     "name": "stdout",
     "output_type": "stream",
     "text": [
      "Error fetching supplier for SKU 1226678002 after 5 retries: HTTPSConnectionPool(host='www2.hm.com', port=443): Max retries exceeded with url: /en_us/supplierDetails/articles/1226678002 (Caused by ResponseError('too many 400 error responses'))\n"
     ]
    },
    {
     "name": "stderr",
     "output_type": "stream",
     "text": [
      "Fetching Supplier Details:  77%|████████████████████████████████▎         | 4974/6468 [2:42:11<2:54:39,  7.01s/product]"
     ]
    },
    {
     "name": "stdout",
     "output_type": "stream",
     "text": [
      "Error fetching supplier for SKU 1233856001 after 5 retries: HTTPSConnectionPool(host='www2.hm.com', port=443): Max retries exceeded with url: /en_us/supplierDetails/articles/1233856001 (Caused by ResponseError('too many 400 error responses'))\n"
     ]
    },
    {
     "name": "stderr",
     "output_type": "stream",
     "text": [
      "Fetching Supplier Details:  77%|████████████████████████████████▎         | 4985/6468 [2:42:37<2:49:36,  6.86s/product]"
     ]
    },
    {
     "name": "stdout",
     "output_type": "stream",
     "text": [
      "Error fetching supplier for SKU 1264263001 after 5 retries: HTTPSConnectionPool(host='www2.hm.com', port=443): Max retries exceeded with url: /en_us/supplierDetails/articles/1264263001 (Caused by ResponseError('too many 400 error responses'))\n"
     ]
    },
    {
     "name": "stderr",
     "output_type": "stream",
     "text": [
      "Fetching Supplier Details:  77%|████████████████████████████████▍         | 4990/6468 [2:42:56<2:42:06,  6.58s/product]"
     ]
    },
    {
     "name": "stdout",
     "output_type": "stream",
     "text": [
      "Error fetching supplier for SKU 1239450004 after 5 retries: HTTPSConnectionPool(host='www2.hm.com', port=443): Max retries exceeded with url: /en_us/supplierDetails/articles/1239450004 (Caused by ResponseError('too many 400 error responses'))\n"
     ]
    },
    {
     "name": "stderr",
     "output_type": "stream",
     "text": [
      "Fetching Supplier Details:  77%|████████████████████████████████▍         | 4991/6468 [2:43:14<4:01:57,  9.83s/product]"
     ]
    },
    {
     "name": "stdout",
     "output_type": "stream",
     "text": [
      "Error fetching supplier for SKU 1197603004 after 5 retries: HTTPSConnectionPool(host='www2.hm.com', port=443): Max retries exceeded with url: /en_us/supplierDetails/articles/1197603004 (Caused by ResponseError('too many 400 error responses'))\n"
     ]
    },
    {
     "name": "stderr",
     "output_type": "stream",
     "text": [
      "Fetching Supplier Details:  77%|████████████████████████████████▍         | 4999/6468 [2:43:34<2:28:35,  6.07s/product]"
     ]
    },
    {
     "name": "stdout",
     "output_type": "stream",
     "text": [
      "Error fetching supplier for SKU 1241437001 after 5 retries: HTTPSConnectionPool(host='www2.hm.com', port=443): Max retries exceeded with url: /en_us/supplierDetails/articles/1241437001 (Caused by ResponseError('too many 400 error responses'))\n"
     ]
    },
    {
     "name": "stderr",
     "output_type": "stream",
     "text": [
      "Fetching Supplier Details:  77%|████████████████████████████████▍         | 5001/6468 [2:43:52<3:23:10,  8.31s/product]"
     ]
    },
    {
     "name": "stdout",
     "output_type": "stream",
     "text": [
      "Error fetching supplier for SKU 1271084002 after 5 retries: HTTPSConnectionPool(host='www2.hm.com', port=443): Max retries exceeded with url: /en_us/supplierDetails/articles/1271084002 (Caused by ResponseError('too many 400 error responses'))\n"
     ]
    },
    {
     "name": "stderr",
     "output_type": "stream",
     "text": [
      "Fetching Supplier Details:  77%|████████████████████████████████▍         | 5002/6468 [2:44:09<4:30:53, 11.09s/product]"
     ]
    },
    {
     "name": "stdout",
     "output_type": "stream",
     "text": [
      "Error fetching supplier for SKU 1247039002 after 5 retries: HTTPSConnectionPool(host='www2.hm.com', port=443): Max retries exceeded with url: /en_us/supplierDetails/articles/1247039002 (Caused by ResponseError('too many 400 error responses'))\n"
     ]
    },
    {
     "name": "stderr",
     "output_type": "stream",
     "text": [
      "Fetching Supplier Details:  77%|████████████████████████████████▌         | 5008/6468 [2:44:29<2:45:30,  6.80s/product]"
     ]
    },
    {
     "name": "stdout",
     "output_type": "stream",
     "text": [
      "Error fetching supplier for SKU 1174789003 after 5 retries: HTTPSConnectionPool(host='www2.hm.com', port=443): Max retries exceeded with url: /en_us/supplierDetails/articles/1174789003 (Caused by ResponseError('too many 400 error responses'))\n"
     ]
    },
    {
     "name": "stderr",
     "output_type": "stream",
     "text": [
      "Fetching Supplier Details:  77%|████████████████████████████████▌         | 5011/6468 [2:44:47<3:07:27,  7.72s/product]"
     ]
    },
    {
     "name": "stdout",
     "output_type": "stream",
     "text": [
      "Error fetching supplier for SKU 1243790005 after 5 retries: HTTPSConnectionPool(host='www2.hm.com', port=443): Max retries exceeded with url: /en_us/supplierDetails/articles/1243790005 (Caused by ResponseError('too many 400 error responses'))\n"
     ]
    },
    {
     "name": "stderr",
     "output_type": "stream",
     "text": [
      "Fetching Supplier Details:  77%|████████████████████████████████▌         | 5012/6468 [2:45:05<4:18:39, 10.66s/product]"
     ]
    },
    {
     "name": "stdout",
     "output_type": "stream",
     "text": [
      "Error fetching supplier for SKU 1238913001 after 5 retries: HTTPSConnectionPool(host='www2.hm.com', port=443): Max retries exceeded with url: /en_us/supplierDetails/articles/1238913001 (Caused by ResponseError('too many 400 error responses'))\n"
     ]
    },
    {
     "name": "stderr",
     "output_type": "stream",
     "text": [
      "Fetching Supplier Details:  78%|████████████████████████████████▌         | 5016/6468 [2:45:23<3:13:32,  8.00s/product]"
     ]
    },
    {
     "name": "stdout",
     "output_type": "stream",
     "text": [
      "Error fetching supplier for SKU 1223950007 after 5 retries: HTTPSConnectionPool(host='www2.hm.com', port=443): Max retries exceeded with url: /en_us/supplierDetails/articles/1223950007 (Caused by ResponseError('too many 400 error responses'))\n"
     ]
    },
    {
     "name": "stderr",
     "output_type": "stream",
     "text": [
      "Fetching Supplier Details:  78%|████████████████████████████████▌         | 5019/6468 [2:45:42<3:15:10,  8.08s/product]"
     ]
    },
    {
     "name": "stdout",
     "output_type": "stream",
     "text": [
      "Error fetching supplier for SKU 1243790003 after 5 retries: HTTPSConnectionPool(host='www2.hm.com', port=443): Max retries exceeded with url: /en_us/supplierDetails/articles/1243790003 (Caused by ResponseError('too many 400 error responses'))\n"
     ]
    },
    {
     "name": "stderr",
     "output_type": "stream",
     "text": [
      "Fetching Supplier Details:  78%|████████████████████████████████▌         | 5021/6468 [2:46:00<3:44:27,  9.31s/product]"
     ]
    },
    {
     "name": "stdout",
     "output_type": "stream",
     "text": [
      "Error fetching supplier for SKU 1247846002 after 5 retries: HTTPSConnectionPool(host='www2.hm.com', port=443): Max retries exceeded with url: /en_us/supplierDetails/articles/1247846002 (Caused by ResponseError('too many 400 error responses'))\n"
     ]
    },
    {
     "name": "stderr",
     "output_type": "stream",
     "text": [
      "Fetching Supplier Details:  78%|████████████████████████████████▌         | 5023/6468 [2:46:17<3:57:41,  9.87s/product]"
     ]
    },
    {
     "name": "stdout",
     "output_type": "stream",
     "text": [
      "Error fetching supplier for SKU 1241150001 after 5 retries: HTTPSConnectionPool(host='www2.hm.com', port=443): Max retries exceeded with url: /en_us/supplierDetails/articles/1241150001 (Caused by ResponseError('too many 400 error responses'))\n"
     ]
    },
    {
     "name": "stderr",
     "output_type": "stream",
     "text": [
      "Fetching Supplier Details:  78%|████████████████████████████████▌         | 5024/6468 [2:46:35<4:51:21, 12.11s/product]"
     ]
    },
    {
     "name": "stdout",
     "output_type": "stream",
     "text": [
      "Error fetching supplier for SKU 1271084001 after 5 retries: HTTPSConnectionPool(host='www2.hm.com', port=443): Max retries exceeded with url: /en_us/supplierDetails/articles/1271084001 (Caused by ResponseError('too many 400 error responses'))\n"
     ]
    },
    {
     "name": "stderr",
     "output_type": "stream",
     "text": [
      "Fetching Supplier Details:  78%|████████████████████████████████▊         | 5049/6468 [2:47:03<2:10:37,  5.52s/product]"
     ]
    },
    {
     "name": "stdout",
     "output_type": "stream",
     "text": [
      "Error fetching supplier for SKU 1240226002 after 5 retries: HTTPSConnectionPool(host='www2.hm.com', port=443): Max retries exceeded with url: /en_us/supplierDetails/articles/1240226002 (Caused by ResponseError('too many 400 error responses'))\n"
     ]
    },
    {
     "name": "stderr",
     "output_type": "stream",
     "text": [
      "Fetching Supplier Details:  78%|████████████████████████████████▊         | 5050/6468 [2:47:21<3:41:53,  9.39s/product]"
     ]
    },
    {
     "name": "stdout",
     "output_type": "stream",
     "text": [
      "Error fetching supplier for SKU 1271122006 after 5 retries: HTTPSConnectionPool(host='www2.hm.com', port=443): Max retries exceeded with url: /en_us/supplierDetails/articles/1271122006 (Caused by ResponseError('too many 400 error responses'))\n"
     ]
    },
    {
     "name": "stderr",
     "output_type": "stream",
     "text": [
      "Fetching Supplier Details:  79%|████████████████████████████████▉         | 5079/6468 [2:47:52<2:12:35,  5.73s/product]"
     ]
    },
    {
     "name": "stdout",
     "output_type": "stream",
     "text": [
      "Error fetching supplier for SKU 1289475002 after 5 retries: HTTPSConnectionPool(host='www2.hm.com', port=443): Max retries exceeded with url: /en_us/supplierDetails/articles/1289475002 (Caused by ResponseError('too many 400 error responses'))\n"
     ]
    },
    {
     "name": "stderr",
     "output_type": "stream",
     "text": [
      "Fetching Supplier Details:  79%|█████████████████████████████████▏        | 5102/6468 [2:48:21<2:10:11,  5.72s/product]"
     ]
    },
    {
     "name": "stdout",
     "output_type": "stream",
     "text": [
      "Error fetching supplier for SKU 1249555003 after 5 retries: HTTPSConnectionPool(host='www2.hm.com', port=443): Max retries exceeded with url: /en_us/supplierDetails/articles/1249555003 (Caused by ResponseError('too many 400 error responses'))\n"
     ]
    },
    {
     "name": "stderr",
     "output_type": "stream",
     "text": [
      "Fetching Supplier Details:  79%|█████████████████████████████████▎        | 5131/6468 [2:48:50<2:04:22,  5.58s/product]"
     ]
    },
    {
     "name": "stdout",
     "output_type": "stream",
     "text": [
      "Error fetching supplier for SKU 1261598009 after 5 retries: HTTPSConnectionPool(host='www2.hm.com', port=443): Max retries exceeded with url: /en_us/supplierDetails/articles/1261598009 (Caused by ResponseError('too many 400 error responses'))\n"
     ]
    },
    {
     "name": "stderr",
     "output_type": "stream",
     "text": [
      "Fetching Supplier Details:  79%|█████████████████████████████████▍        | 5141/6468 [2:49:12<2:06:50,  5.74s/product]"
     ]
    },
    {
     "name": "stdout",
     "output_type": "stream",
     "text": [
      "Error fetching supplier for SKU 1249454002 after 5 retries: HTTPSConnectionPool(host='www2.hm.com', port=443): Max retries exceeded with url: /en_us/supplierDetails/articles/1249454002 (Caused by ResponseError('too many 400 error responses'))\n"
     ]
    },
    {
     "name": "stderr",
     "output_type": "stream",
     "text": [
      "Fetching Supplier Details:  80%|█████████████████████████████████▍        | 5149/6468 [2:49:32<2:07:20,  5.79s/product]"
     ]
    },
    {
     "name": "stdout",
     "output_type": "stream",
     "text": [
      "Error fetching supplier for SKU 1234741008 after 5 retries: HTTPSConnectionPool(host='www2.hm.com', port=443): Max retries exceeded with url: /en_us/supplierDetails/articles/1234741008 (Caused by ResponseError('too many 400 error responses'))\n"
     ]
    },
    {
     "name": "stderr",
     "output_type": "stream",
     "text": [
      "Fetching Supplier Details:  80%|█████████████████████████████████▌        | 5159/6468 [2:49:54<2:06:40,  5.81s/product]"
     ]
    },
    {
     "name": "stdout",
     "output_type": "stream",
     "text": [
      "Error fetching supplier for SKU 1261820001 after 5 retries: HTTPSConnectionPool(host='www2.hm.com', port=443): Max retries exceeded with url: /en_us/supplierDetails/articles/1261820001 (Caused by ResponseError('too many 400 error responses'))\n"
     ]
    },
    {
     "name": "stderr",
     "output_type": "stream",
     "text": [
      "Fetching Supplier Details:  80%|█████████████████████████████████▌        | 5167/6468 [2:50:14<2:07:10,  5.87s/product]"
     ]
    },
    {
     "name": "stdout",
     "output_type": "stream",
     "text": [
      "Error fetching supplier for SKU 1247404001 after 5 retries: HTTPSConnectionPool(host='www2.hm.com', port=443): Max retries exceeded with url: /en_us/supplierDetails/articles/1247404001 (Caused by ResponseError('too many 400 error responses'))\n"
     ]
    },
    {
     "name": "stderr",
     "output_type": "stream",
     "text": [
      "Fetching Supplier Details:  80%|█████████████████████████████████▌        | 5169/6468 [2:50:32<2:56:34,  8.16s/product]"
     ]
    },
    {
     "name": "stdout",
     "output_type": "stream",
     "text": [
      "Error fetching supplier for SKU 1273985001 after 5 retries: HTTPSConnectionPool(host='www2.hm.com', port=443): Max retries exceeded with url: /en_us/supplierDetails/articles/1273985001 (Caused by ResponseError('too many 400 error responses'))\n"
     ]
    },
    {
     "name": "stderr",
     "output_type": "stream",
     "text": [
      "Fetching Supplier Details:  80%|█████████████████████████████████▊        | 5198/6468 [2:51:01<1:56:33,  5.51s/product]"
     ]
    },
    {
     "name": "stdout",
     "output_type": "stream",
     "text": [
      "Error fetching supplier for SKU 1268124001 after 5 retries: HTTPSConnectionPool(host='www2.hm.com', port=443): Max retries exceeded with url: /en_us/supplierDetails/articles/1268124001 (Caused by ResponseError('too many 400 error responses'))\n"
     ]
    },
    {
     "name": "stderr",
     "output_type": "stream",
     "text": [
      "Fetching Supplier Details:  81%|█████████████████████████████████▊        | 5214/6468 [2:51:24<1:54:58,  5.50s/product]"
     ]
    },
    {
     "name": "stdout",
     "output_type": "stream",
     "text": [
      "Error fetching supplier for SKU 1239440001 after 5 retries: HTTPSConnectionPool(host='www2.hm.com', port=443): Max retries exceeded with url: /en_us/supplierDetails/articles/1239440001 (Caused by ResponseError('too many 400 error responses'))\n"
     ]
    },
    {
     "name": "stderr",
     "output_type": "stream",
     "text": [
      "Fetching Supplier Details:  81%|█████████████████████████████████▉        | 5218/6468 [2:51:43<2:19:40,  6.70s/product]"
     ]
    },
    {
     "name": "stdout",
     "output_type": "stream",
     "text": [
      "Error fetching supplier for SKU 1250770002 after 5 retries: HTTPSConnectionPool(host='www2.hm.com', port=443): Max retries exceeded with url: /en_us/supplierDetails/articles/1250770002 (Caused by ResponseError('too many 400 error responses'))\n"
     ]
    },
    {
     "name": "stderr",
     "output_type": "stream",
     "text": [
      "Fetching Supplier Details:  81%|█████████████████████████████████▉        | 5221/6468 [2:52:01<2:41:01,  7.75s/product]"
     ]
    },
    {
     "name": "stdout",
     "output_type": "stream",
     "text": [
      "Error fetching supplier for SKU 1254797003 after 5 retries: HTTPSConnectionPool(host='www2.hm.com', port=443): Max retries exceeded with url: /en_us/supplierDetails/articles/1254797003 (Caused by ResponseError('too many 400 error responses'))\n"
     ]
    },
    {
     "name": "stderr",
     "output_type": "stream",
     "text": [
      "Fetching Supplier Details:  81%|█████████████████████████████████▉        | 5223/6468 [2:52:19<3:08:36,  9.09s/product]"
     ]
    },
    {
     "name": "stdout",
     "output_type": "stream",
     "text": [
      "Error fetching supplier for SKU 1227735009 after 5 retries: HTTPSConnectionPool(host='www2.hm.com', port=443): Max retries exceeded with url: /en_us/supplierDetails/articles/1227735009 (Caused by ResponseError('too many 400 error responses'))\n"
     ]
    },
    {
     "name": "stderr",
     "output_type": "stream",
     "text": [
      "Fetching Supplier Details:  81%|█████████████████████████████████▉        | 5227/6468 [2:52:38<2:36:31,  7.57s/product]"
     ]
    },
    {
     "name": "stdout",
     "output_type": "stream",
     "text": [
      "Error fetching supplier for SKU 1195870006 after 5 retries: HTTPSConnectionPool(host='www2.hm.com', port=443): Max retries exceeded with url: /en_us/supplierDetails/articles/1195870006 (Caused by ResponseError('too many 400 error responses'))\n"
     ]
    },
    {
     "name": "stderr",
     "output_type": "stream",
     "text": [
      "Fetching Supplier Details:  81%|█████████████████████████████████▉        | 5231/6468 [2:52:56<2:29:10,  7.24s/product]"
     ]
    },
    {
     "name": "stdout",
     "output_type": "stream",
     "text": [
      "Error fetching supplier for SKU 1297724001 after 5 retries: HTTPSConnectionPool(host='www2.hm.com', port=443): Max retries exceeded with url: /en_us/supplierDetails/articles/1297724001 (Caused by ResponseError('too many 400 error responses'))\n"
     ]
    },
    {
     "name": "stderr",
     "output_type": "stream",
     "text": [
      "Fetching Supplier Details:  81%|█████████████████████████████████▉        | 5234/6468 [2:53:15<2:42:10,  7.89s/product]"
     ]
    },
    {
     "name": "stdout",
     "output_type": "stream",
     "text": [
      "Error fetching supplier for SKU 1260120001 after 5 retries: HTTPSConnectionPool(host='www2.hm.com', port=443): Max retries exceeded with url: /en_us/supplierDetails/articles/1260120001 (Caused by ResponseError('too many 400 error responses'))\n"
     ]
    },
    {
     "name": "stderr",
     "output_type": "stream",
     "text": [
      "Fetching Supplier Details:  81%|██████████████████████████████████        | 5239/6468 [2:53:34<2:19:10,  6.79s/product]"
     ]
    },
    {
     "name": "stdout",
     "output_type": "stream",
     "text": [
      "Error fetching supplier for SKU 1264542004 after 5 retries: HTTPSConnectionPool(host='www2.hm.com', port=443): Max retries exceeded with url: /en_us/supplierDetails/articles/1264542004 (Caused by ResponseError('too many 400 error responses'))\n"
     ]
    },
    {
     "name": "stderr",
     "output_type": "stream",
     "text": [
      "Fetching Supplier Details:  81%|██████████████████████████████████        | 5243/6468 [2:53:53<2:25:37,  7.13s/product]"
     ]
    },
    {
     "name": "stdout",
     "output_type": "stream",
     "text": [
      "Error fetching supplier for SKU 1245280001 after 5 retries: HTTPSConnectionPool(host='www2.hm.com', port=443): Max retries exceeded with url: /en_us/supplierDetails/articles/1245280001 (Caused by ResponseError('too many 400 error responses'))\n"
     ]
    },
    {
     "name": "stderr",
     "output_type": "stream",
     "text": [
      "Fetching Supplier Details:  81%|██████████████████████████████████        | 5244/6468 [2:54:10<3:27:55, 10.19s/product]"
     ]
    },
    {
     "name": "stdout",
     "output_type": "stream",
     "text": [
      "Error fetching supplier for SKU 1246582003 after 5 retries: HTTPSConnectionPool(host='www2.hm.com', port=443): Max retries exceeded with url: /en_us/supplierDetails/articles/1246582003 (Caused by ResponseError('too many 400 error responses'))\n"
     ]
    },
    {
     "name": "stderr",
     "output_type": "stream",
     "text": [
      "Fetching Supplier Details:  81%|██████████████████████████████████▏       | 5260/6468 [2:54:34<1:51:14,  5.53s/product]"
     ]
    },
    {
     "name": "stdout",
     "output_type": "stream",
     "text": [
      "Error fetching supplier for SKU 1248943002 after 5 retries: HTTPSConnectionPool(host='www2.hm.com', port=443): Max retries exceeded with url: /en_us/supplierDetails/articles/1248943002 (Caused by ResponseError('too many 400 error responses'))\n"
     ]
    },
    {
     "name": "stderr",
     "output_type": "stream",
     "text": [
      "Fetching Supplier Details:  82%|██████████████████████████████████▎       | 5278/6468 [2:54:58<1:49:15,  5.51s/product]"
     ]
    },
    {
     "name": "stdout",
     "output_type": "stream",
     "text": [
      "Error fetching supplier for SKU 1212691004 after 5 retries: HTTPSConnectionPool(host='www2.hm.com', port=443): Max retries exceeded with url: /en_us/supplierDetails/articles/1212691004 (Caused by ResponseError('too many 400 error responses'))\n"
     ]
    },
    {
     "name": "stderr",
     "output_type": "stream",
     "text": [
      "Fetching Supplier Details:  82%|██████████████████████████████████▎       | 5284/6468 [2:55:18<2:01:00,  6.13s/product]"
     ]
    },
    {
     "name": "stdout",
     "output_type": "stream",
     "text": [
      "Error fetching supplier for SKU 1271065001 after 5 retries: HTTPSConnectionPool(host='www2.hm.com', port=443): Max retries exceeded with url: /en_us/supplierDetails/articles/1271065001 (Caused by ResponseError('too many 400 error responses'))\n"
     ]
    },
    {
     "name": "stderr",
     "output_type": "stream",
     "text": [
      "Fetching Supplier Details:  82%|██████████████████████████████████▎       | 5286/6468 [2:55:36<2:43:58,  8.32s/product]"
     ]
    },
    {
     "name": "stdout",
     "output_type": "stream",
     "text": [
      "Error fetching supplier for SKU 1255792002 after 5 retries: HTTPSConnectionPool(host='www2.hm.com', port=443): Max retries exceeded with url: /en_us/supplierDetails/articles/1255792002 (Caused by ResponseError('too many 400 error responses'))\n"
     ]
    },
    {
     "name": "stderr",
     "output_type": "stream",
     "text": [
      "Fetching Supplier Details:  82%|██████████████████████████████████▎       | 5290/6468 [2:55:54<2:25:26,  7.41s/product]"
     ]
    },
    {
     "name": "stdout",
     "output_type": "stream",
     "text": [
      "Error fetching supplier for SKU 1248084002 after 5 retries: HTTPSConnectionPool(host='www2.hm.com', port=443): Max retries exceeded with url: /en_us/supplierDetails/articles/1248084002 (Caused by ResponseError('too many 400 error responses'))\n"
     ]
    },
    {
     "name": "stderr",
     "output_type": "stream",
     "text": [
      "Fetching Supplier Details:  82%|██████████████████████████████████▍       | 5311/6468 [2:56:21<1:46:59,  5.55s/product]"
     ]
    },
    {
     "name": "stdout",
     "output_type": "stream",
     "text": [
      "Error fetching supplier for SKU 1232588004 after 5 retries: HTTPSConnectionPool(host='www2.hm.com', port=443): Max retries exceeded with url: /en_us/supplierDetails/articles/1232588004 (Caused by ResponseError('too many 400 error responses'))\n"
     ]
    },
    {
     "name": "stderr",
     "output_type": "stream",
     "text": [
      "Fetching Supplier Details:  82%|██████████████████████████████████▌       | 5315/6468 [2:56:40<2:10:42,  6.80s/product]"
     ]
    },
    {
     "name": "stdout",
     "output_type": "stream",
     "text": [
      "Error fetching supplier for SKU 1228544001 after 5 retries: HTTPSConnectionPool(host='www2.hm.com', port=443): Max retries exceeded with url: /en_us/supplierDetails/articles/1228544001 (Caused by ResponseError('too many 400 error responses'))\n"
     ]
    },
    {
     "name": "stderr",
     "output_type": "stream",
     "text": [
      "Fetching Supplier Details:  82%|██████████████████████████████████▋       | 5333/6468 [2:57:06<1:32:25,  4.89s/product]"
     ]
    },
    {
     "name": "stdout",
     "output_type": "stream",
     "text": [
      "Error fetching supplier for SKU 1259172001 after 5 retries: HTTPSConnectionPool(host='www2.hm.com', port=443): Max retries exceeded with url: /en_us/supplierDetails/articles/1259172001 (Caused by ResponseError('too many 400 error responses'))\n"
     ]
    },
    {
     "name": "stderr",
     "output_type": "stream",
     "text": [
      "Fetching Supplier Details:  83%|██████████████████████████████████▋       | 5344/6468 [2:57:28<1:45:13,  5.62s/product]"
     ]
    },
    {
     "name": "stdout",
     "output_type": "stream",
     "text": [
      "Error fetching supplier for SKU 1244782001 after 5 retries: HTTPSConnectionPool(host='www2.hm.com', port=443): Max retries exceeded with url: /en_us/supplierDetails/articles/1244782001 (Caused by ResponseError('too many 400 error responses'))\n"
     ]
    },
    {
     "name": "stderr",
     "output_type": "stream",
     "text": [
      "Fetching Supplier Details:  83%|██████████████████████████████████▋       | 5346/6468 [2:57:46<2:31:11,  8.08s/product]"
     ]
    },
    {
     "name": "stdout",
     "output_type": "stream",
     "text": [
      "Error fetching supplier for SKU 1240279001 after 5 retries: HTTPSConnectionPool(host='www2.hm.com', port=443): Max retries exceeded with url: /en_us/supplierDetails/articles/1240279001 (Caused by ResponseError('too many 400 error responses'))\n"
     ]
    },
    {
     "name": "stderr",
     "output_type": "stream",
     "text": [
      "Fetching Supplier Details:  83%|██████████████████████████████████▊       | 5359/6468 [2:58:08<1:46:05,  5.74s/product]"
     ]
    },
    {
     "name": "stdout",
     "output_type": "stream",
     "text": [
      "Error fetching supplier for SKU 1252624001 after 5 retries: HTTPSConnectionPool(host='www2.hm.com', port=443): Max retries exceeded with url: /en_us/supplierDetails/articles/1252624001 (Caused by ResponseError('too many 400 error responses'))\n"
     ]
    },
    {
     "name": "stderr",
     "output_type": "stream",
     "text": [
      "Fetching Supplier Details:  83%|██████████████████████████████████▉       | 5374/6468 [2:58:34<1:47:05,  5.87s/product]"
     ]
    },
    {
     "name": "stdout",
     "output_type": "stream",
     "text": [
      "Error fetching supplier for SKU 1230127001 after 5 retries: HTTPSConnectionPool(host='www2.hm.com', port=443): Max retries exceeded with url: /en_us/supplierDetails/articles/1230127001 (Caused by ResponseError('too many 400 error responses'))\n"
     ]
    },
    {
     "name": "stderr",
     "output_type": "stream",
     "text": [
      "Fetching Supplier Details:  83%|██████████████████████████████████▉       | 5379/6468 [2:58:53<1:57:35,  6.48s/product]"
     ]
    },
    {
     "name": "stdout",
     "output_type": "stream",
     "text": [
      "Error fetching supplier for SKU 1228773001 after 5 retries: HTTPSConnectionPool(host='www2.hm.com', port=443): Max retries exceeded with url: /en_us/supplierDetails/articles/1228773001 (Caused by ResponseError('too many 400 error responses'))\n"
     ]
    },
    {
     "name": "stderr",
     "output_type": "stream",
     "text": [
      "Fetching Supplier Details:  83%|██████████████████████████████████▉       | 5382/6468 [2:59:12<2:18:20,  7.64s/product]"
     ]
    },
    {
     "name": "stdout",
     "output_type": "stream",
     "text": [
      "Error fetching supplier for SKU 1272513001 after 5 retries: HTTPSConnectionPool(host='www2.hm.com', port=443): Max retries exceeded with url: /en_us/supplierDetails/articles/1272513001 (Caused by ResponseError('too many 400 error responses'))\n"
     ]
    },
    {
     "name": "stderr",
     "output_type": "stream",
     "text": [
      "Fetching Supplier Details:  83%|██████████████████████████████████▉       | 5384/6468 [2:59:29<2:43:32,  9.05s/product]"
     ]
    },
    {
     "name": "stdout",
     "output_type": "stream",
     "text": [
      "Error fetching supplier for SKU 1246351002 after 5 retries: HTTPSConnectionPool(host='www2.hm.com', port=443): Max retries exceeded with url: /en_us/supplierDetails/articles/1246351002 (Caused by ResponseError('too many 400 error responses'))\n"
     ]
    },
    {
     "name": "stderr",
     "output_type": "stream",
     "text": [
      "Fetching Supplier Details:  83%|██████████████████████████████████▉       | 5386/6468 [2:59:49<3:06:18, 10.33s/product]"
     ]
    },
    {
     "name": "stdout",
     "output_type": "stream",
     "text": [
      "Error fetching supplier for SKU 1254706002 after 5 retries: HTTPSConnectionPool(host='www2.hm.com', port=443): Max retries exceeded with url: /en_us/supplierDetails/articles/1254706002 (Caused by ResponseError('too many 400 error responses'))\n"
     ]
    },
    {
     "name": "stderr",
     "output_type": "stream",
     "text": [
      "Fetching Supplier Details:  83%|██████████████████████████████████▉       | 5387/6468 [3:00:07<3:44:06, 12.44s/product]"
     ]
    },
    {
     "name": "stdout",
     "output_type": "stream",
     "text": [
      "Error fetching supplier for SKU 1265915001 after 5 retries: HTTPSConnectionPool(host='www2.hm.com', port=443): Max retries exceeded with url: /en_us/supplierDetails/articles/1265915001 (Caused by ResponseError('too many 400 error responses'))\n"
     ]
    },
    {
     "name": "stderr",
     "output_type": "stream",
     "text": [
      "Fetching Supplier Details:  83%|███████████████████████████████████       | 5392/6468 [3:00:26<2:15:22,  7.55s/product]"
     ]
    },
    {
     "name": "stdout",
     "output_type": "stream",
     "text": [
      "Error fetching supplier for SKU 1229540002 after 5 retries: HTTPSConnectionPool(host='www2.hm.com', port=443): Max retries exceeded with url: /en_us/supplierDetails/articles/1229540002 (Caused by ResponseError('too many 400 error responses'))\n"
     ]
    },
    {
     "name": "stderr",
     "output_type": "stream",
     "text": [
      "Fetching Supplier Details:  83%|███████████████████████████████████       | 5393/6468 [3:00:44<3:11:55, 10.71s/product]"
     ]
    },
    {
     "name": "stdout",
     "output_type": "stream",
     "text": [
      "Error fetching supplier for SKU 1229989002 after 5 retries: HTTPSConnectionPool(host='www2.hm.com', port=443): Max retries exceeded with url: /en_us/supplierDetails/articles/1229989002 (Caused by ResponseError('too many 400 error responses'))\n"
     ]
    },
    {
     "name": "stderr",
     "output_type": "stream",
     "text": [
      "Fetching Supplier Details:  83%|███████████████████████████████████       | 5395/6468 [3:01:02<3:09:14, 10.58s/product]"
     ]
    },
    {
     "name": "stdout",
     "output_type": "stream",
     "text": [
      "Error fetching supplier for SKU 1242258002 after 5 retries: HTTPSConnectionPool(host='www2.hm.com', port=443): Max retries exceeded with url: /en_us/supplierDetails/articles/1242258002 (Caused by ResponseError('too many 400 error responses'))\n"
     ]
    },
    {
     "name": "stderr",
     "output_type": "stream",
     "text": [
      "Fetching Supplier Details:  83%|███████████████████████████████████       | 5396/6468 [3:01:19<3:46:52, 12.70s/product]"
     ]
    },
    {
     "name": "stdout",
     "output_type": "stream",
     "text": [
      "Error fetching supplier for SKU 1244525002 after 5 retries: HTTPSConnectionPool(host='www2.hm.com', port=443): Max retries exceeded with url: /en_us/supplierDetails/articles/1244525002 (Caused by ResponseError('too many 400 error responses'))\n"
     ]
    },
    {
     "name": "stderr",
     "output_type": "stream",
     "text": [
      "Fetching Supplier Details:  84%|███████████████████████████████████       | 5403/6468 [3:01:40<1:59:42,  6.74s/product]"
     ]
    },
    {
     "name": "stdout",
     "output_type": "stream",
     "text": [
      "Error fetching supplier for SKU 1273542005 after 5 retries: HTTPSConnectionPool(host='www2.hm.com', port=443): Max retries exceeded with url: /en_us/supplierDetails/articles/1273542005 (Caused by ResponseError('too many 400 error responses'))\n"
     ]
    },
    {
     "name": "stderr",
     "output_type": "stream",
     "text": [
      "Fetching Supplier Details:  84%|███████████████████████████████████▏      | 5414/6468 [3:02:02<1:38:51,  5.63s/product]"
     ]
    },
    {
     "name": "stdout",
     "output_type": "stream",
     "text": [
      "Error fetching supplier for SKU 1011909043 after 5 retries: HTTPSConnectionPool(host='www2.hm.com', port=443): Max retries exceeded with url: /en_us/supplierDetails/articles/1011909043 (Caused by ResponseError('too many 400 error responses'))\n"
     ]
    },
    {
     "name": "stderr",
     "output_type": "stream",
     "text": [
      "Fetching Supplier Details:  84%|███████████████████████████████████▎      | 5432/6468 [3:02:26<1:35:31,  5.53s/product]"
     ]
    },
    {
     "name": "stdout",
     "output_type": "stream",
     "text": [
      "Error fetching supplier for SKU 1257579002 after 5 retries: HTTPSConnectionPool(host='www2.hm.com', port=443): Max retries exceeded with url: /en_us/supplierDetails/articles/1257579002 (Caused by ResponseError('too many 400 error responses'))\n"
     ]
    },
    {
     "name": "stderr",
     "output_type": "stream",
     "text": [
      "Fetching Supplier Details:  84%|███████████████████████████████████▎      | 5442/6468 [3:02:48<1:37:42,  5.71s/product]"
     ]
    },
    {
     "name": "stdout",
     "output_type": "stream",
     "text": [
      "Error fetching supplier for SKU 1264870002 after 5 retries: HTTPSConnectionPool(host='www2.hm.com', port=443): Max retries exceeded with url: /en_us/supplierDetails/articles/1264870002 (Caused by ResponseError('too many 400 error responses'))\n"
     ]
    },
    {
     "name": "stderr",
     "output_type": "stream",
     "text": [
      "Fetching Supplier Details:  85%|███████████████████████████████████▌      | 5475/6468 [3:03:18<1:31:03,  5.50s/product]"
     ]
    },
    {
     "name": "stdout",
     "output_type": "stream",
     "text": [
      "Error fetching supplier for SKU 1245374002 after 5 retries: HTTPSConnectionPool(host='www2.hm.com', port=443): Max retries exceeded with url: /en_us/supplierDetails/articles/1245374002 (Caused by ResponseError('too many 400 error responses'))\n"
     ]
    },
    {
     "name": "stderr",
     "output_type": "stream",
     "text": [
      "Fetching Supplier Details:  85%|███████████████████████████████████▌      | 5485/6468 [3:03:39<1:32:37,  5.65s/product]"
     ]
    },
    {
     "name": "stdout",
     "output_type": "stream",
     "text": [
      "Error fetching supplier for SKU 1253609001 after 5 retries: HTTPSConnectionPool(host='www2.hm.com', port=443): Max retries exceeded with url: /en_us/supplierDetails/articles/1253609001 (Caused by ResponseError('too many 400 error responses'))\n"
     ]
    },
    {
     "name": "stderr",
     "output_type": "stream",
     "text": [
      "Fetching Supplier Details:  85%|███████████████████████████████████▋      | 5491/6468 [3:03:58<1:39:25,  6.11s/product]"
     ]
    },
    {
     "name": "stdout",
     "output_type": "stream",
     "text": [
      "Error fetching supplier for SKU 1209694006 after 5 retries: HTTPSConnectionPool(host='www2.hm.com', port=443): Max retries exceeded with url: /en_us/supplierDetails/articles/1209694006 (Caused by ResponseError('too many 400 error responses'))\n"
     ]
    },
    {
     "name": "stderr",
     "output_type": "stream",
     "text": [
      "Fetching Supplier Details:  85%|███████████████████████████████████▋      | 5493/6468 [3:04:16<2:14:48,  8.30s/product]"
     ]
    },
    {
     "name": "stdout",
     "output_type": "stream",
     "text": [
      "Error fetching supplier for SKU 1221999005 after 5 retries: HTTPSConnectionPool(host='www2.hm.com', port=443): Max retries exceeded with url: /en_us/supplierDetails/articles/1221999005 (Caused by ResponseError('too many 400 error responses'))\n"
     ]
    },
    {
     "name": "stderr",
     "output_type": "stream",
     "text": [
      "Fetching Supplier Details:  85%|███████████████████████████████████▋      | 5496/6468 [3:04:34<2:13:05,  8.22s/product]"
     ]
    },
    {
     "name": "stdout",
     "output_type": "stream",
     "text": [
      "Error fetching supplier for SKU 1283190007 after 5 retries: HTTPSConnectionPool(host='www2.hm.com', port=443): Max retries exceeded with url: /en_us/supplierDetails/articles/1283190007 (Caused by ResponseError('too many 400 error responses'))\n"
     ]
    },
    {
     "name": "stderr",
     "output_type": "stream",
     "text": [
      "Fetching Supplier Details:  85%|███████████████████████████████████▊      | 5506/6468 [3:04:56<1:32:00,  5.74s/product]"
     ]
    },
    {
     "name": "stdout",
     "output_type": "stream",
     "text": [
      "Error fetching supplier for SKU 1240239001 after 5 retries: HTTPSConnectionPool(host='www2.hm.com', port=443): Max retries exceeded with url: /en_us/supplierDetails/articles/1240239001 (Caused by ResponseError('too many 400 error responses'))\n"
     ]
    },
    {
     "name": "stderr",
     "output_type": "stream",
     "text": [
      "Fetching Supplier Details:  85%|███████████████████████████████████▊      | 5507/6468 [3:05:13<2:28:12,  9.25s/product]"
     ]
    },
    {
     "name": "stdout",
     "output_type": "stream",
     "text": [
      "Error fetching supplier for SKU 1240343006 after 5 retries: HTTPSConnectionPool(host='www2.hm.com', port=443): Max retries exceeded with url: /en_us/supplierDetails/articles/1240343006 (Caused by ResponseError('too many 400 error responses'))\n"
     ]
    },
    {
     "name": "stderr",
     "output_type": "stream",
     "text": [
      "Fetching Supplier Details:  85%|███████████████████████████████████▊      | 5509/6468 [3:05:31<2:36:53,  9.82s/product]"
     ]
    },
    {
     "name": "stdout",
     "output_type": "stream",
     "text": [
      "Error fetching supplier for SKU 1240341001 after 5 retries: HTTPSConnectionPool(host='www2.hm.com', port=443): Max retries exceeded with url: /en_us/supplierDetails/articles/1240341001 (Caused by ResponseError('too many 400 error responses'))\n"
     ]
    },
    {
     "name": "stderr",
     "output_type": "stream",
     "text": [
      "Fetching Supplier Details:  85%|███████████████████████████████████▊      | 5515/6468 [3:05:50<1:45:09,  6.62s/product]"
     ]
    },
    {
     "name": "stdout",
     "output_type": "stream",
     "text": [
      "Error fetching supplier for SKU 1240319011 after 5 retries: HTTPSConnectionPool(host='www2.hm.com', port=443): Max retries exceeded with url: /en_us/supplierDetails/articles/1240319011 (Caused by ResponseError('too many 400 error responses'))\n"
     ]
    },
    {
     "name": "stderr",
     "output_type": "stream",
     "text": [
      "Fetching Supplier Details:  85%|███████████████████████████████████▉      | 5530/6468 [3:06:13<1:26:18,  5.52s/product]"
     ]
    },
    {
     "name": "stdout",
     "output_type": "stream",
     "text": [
      "Error fetching supplier for SKU 1240319009 after 5 retries: HTTPSConnectionPool(host='www2.hm.com', port=443): Max retries exceeded with url: /en_us/supplierDetails/articles/1240319009 (Caused by ResponseError('too many 400 error responses'))\n"
     ]
    },
    {
     "name": "stderr",
     "output_type": "stream",
     "text": [
      "Fetching Supplier Details:  86%|███████████████████████████████████▉      | 5539/6468 [3:06:34<1:28:04,  5.69s/product]"
     ]
    },
    {
     "name": "stdout",
     "output_type": "stream",
     "text": [
      "Error fetching supplier for SKU 1240779001 after 5 retries: HTTPSConnectionPool(host='www2.hm.com', port=443): Max retries exceeded with url: /en_us/supplierDetails/articles/1240779001 (Caused by ResponseError('too many 400 error responses'))\n"
     ]
    },
    {
     "name": "stderr",
     "output_type": "stream",
     "text": [
      "Fetching Supplier Details:  86%|████████████████████████████████████      | 5546/6468 [3:06:54<1:30:58,  5.92s/product]"
     ]
    },
    {
     "name": "stdout",
     "output_type": "stream",
     "text": [
      "Error fetching supplier for SKU 0751471133 after 5 retries: HTTPSConnectionPool(host='www2.hm.com', port=443): Max retries exceeded with url: /en_us/supplierDetails/articles/0751471133 (Caused by ResponseError('too many 400 error responses'))\n"
     ]
    },
    {
     "name": "stderr",
     "output_type": "stream",
     "text": [
      "Fetching Supplier Details:  86%|████████████████████████████████████      | 5547/6468 [3:07:11<2:23:48,  9.37s/product]"
     ]
    },
    {
     "name": "stdout",
     "output_type": "stream",
     "text": [
      "Error fetching supplier for SKU 1268207002 after 5 retries: HTTPSConnectionPool(host='www2.hm.com', port=443): Max retries exceeded with url: /en_us/supplierDetails/articles/1268207002 (Caused by ResponseError('too many 400 error responses'))\n"
     ]
    },
    {
     "name": "stderr",
     "output_type": "stream",
     "text": [
      "Fetching Supplier Details:  86%|████████████████████████████████████      | 5558/6468 [3:07:33<1:26:23,  5.70s/product]"
     ]
    },
    {
     "name": "stdout",
     "output_type": "stream",
     "text": [
      "Error fetching supplier for SKU 1240289009 after 5 retries: HTTPSConnectionPool(host='www2.hm.com', port=443): Max retries exceeded with url: /en_us/supplierDetails/articles/1240289009 (Caused by ResponseError('too many 400 error responses'))\n"
     ]
    },
    {
     "name": "stderr",
     "output_type": "stream",
     "text": [
      "Fetching Supplier Details:  86%|████████████████████████████████████▎     | 5584/6468 [3:08:01<1:21:14,  5.51s/product]"
     ]
    },
    {
     "name": "stdout",
     "output_type": "stream",
     "text": [
      "Error fetching supplier for SKU 1260472003 after 5 retries: HTTPSConnectionPool(host='www2.hm.com', port=443): Max retries exceeded with url: /en_us/supplierDetails/articles/1260472003 (Caused by ResponseError('too many 400 error responses'))\n"
     ]
    },
    {
     "name": "stderr",
     "output_type": "stream",
     "text": [
      "Fetching Supplier Details:  86%|████████████████████████████████████▎     | 5585/6468 [3:08:18<2:13:54,  9.10s/product]"
     ]
    },
    {
     "name": "stdout",
     "output_type": "stream",
     "text": [
      "Error fetching supplier for SKU 1253432002 after 5 retries: HTTPSConnectionPool(host='www2.hm.com', port=443): Max retries exceeded with url: /en_us/supplierDetails/articles/1253432002 (Caused by ResponseError('too many 400 error responses'))\n"
     ]
    },
    {
     "name": "stderr",
     "output_type": "stream",
     "text": [
      "Fetching Supplier Details:  86%|████████████████████████████████████▎     | 5586/6468 [3:08:36<2:52:52, 11.76s/product]"
     ]
    },
    {
     "name": "stdout",
     "output_type": "stream",
     "text": [
      "Error fetching supplier for SKU 1263995002 after 5 retries: HTTPSConnectionPool(host='www2.hm.com', port=443): Max retries exceeded with url: /en_us/supplierDetails/articles/1263995002 (Caused by ResponseError('too many 400 error responses'))\n"
     ]
    },
    {
     "name": "stderr",
     "output_type": "stream",
     "text": [
      "Fetching Supplier Details:  86%|████████████████████████████████████▎     | 5590/6468 [3:08:55<2:00:34,  8.24s/product]"
     ]
    },
    {
     "name": "stdout",
     "output_type": "stream",
     "text": [
      "Error fetching supplier for SKU 1240446001 after 5 retries: HTTPSConnectionPool(host='www2.hm.com', port=443): Max retries exceeded with url: /en_us/supplierDetails/articles/1240446001 (Caused by ResponseError('too many 400 error responses'))\n"
     ]
    },
    {
     "name": "stderr",
     "output_type": "stream",
     "text": [
      "Fetching Supplier Details:  86%|████████████████████████████████████▎     | 5592/6468 [3:09:13<2:16:21,  9.34s/product]"
     ]
    },
    {
     "name": "stdout",
     "output_type": "stream",
     "text": [
      "Error fetching supplier for SKU 1238948001 after 5 retries: HTTPSConnectionPool(host='www2.hm.com', port=443): Max retries exceeded with url: /en_us/supplierDetails/articles/1238948001 (Caused by ResponseError('too many 400 error responses'))\n"
     ]
    },
    {
     "name": "stderr",
     "output_type": "stream",
     "text": [
      "Fetching Supplier Details:  87%|████████████████████████████████████▍     | 5606/6468 [3:09:36<1:21:27,  5.67s/product]"
     ]
    },
    {
     "name": "stdout",
     "output_type": "stream",
     "text": [
      "Error fetching supplier for SKU 1268879001 after 5 retries: HTTPSConnectionPool(host='www2.hm.com', port=443): Max retries exceeded with url: /en_us/supplierDetails/articles/1268879001 (Caused by ResponseError('too many 400 error responses'))\n"
     ]
    },
    {
     "name": "stderr",
     "output_type": "stream",
     "text": [
      "Fetching Supplier Details:  87%|████████████████████████████████████▍     | 5609/6468 [3:09:55<1:44:56,  7.33s/product]"
     ]
    },
    {
     "name": "stdout",
     "output_type": "stream",
     "text": [
      "Error fetching supplier for SKU 1239705001 after 5 retries: HTTPSConnectionPool(host='www2.hm.com', port=443): Max retries exceeded with url: /en_us/supplierDetails/articles/1239705001 (Caused by ResponseError('too many 400 error responses'))\n"
     ]
    },
    {
     "name": "stderr",
     "output_type": "stream",
     "text": [
      "Fetching Supplier Details:  87%|████████████████████████████████████▍     | 5613/6468 [3:10:13<1:42:07,  7.17s/product]"
     ]
    },
    {
     "name": "stdout",
     "output_type": "stream",
     "text": [
      "Error fetching supplier for SKU 1240332004 after 5 retries: HTTPSConnectionPool(host='www2.hm.com', port=443): Max retries exceeded with url: /en_us/supplierDetails/articles/1240332004 (Caused by ResponseError('too many 400 error responses'))\n"
     ]
    },
    {
     "name": "stderr",
     "output_type": "stream",
     "text": [
      "Fetching Supplier Details:  87%|████████████████████████████████████▍     | 5614/6468 [3:10:30<2:25:13, 10.20s/product]"
     ]
    },
    {
     "name": "stdout",
     "output_type": "stream",
     "text": [
      "Error fetching supplier for SKU 1242058003 after 5 retries: HTTPSConnectionPool(host='www2.hm.com', port=443): Max retries exceeded with url: /en_us/supplierDetails/articles/1242058003 (Caused by ResponseError('too many 400 error responses'))\n"
     ]
    },
    {
     "name": "stderr",
     "output_type": "stream",
     "text": [
      "Fetching Supplier Details:  87%|████████████████████████████████████▌     | 5633/6468 [3:10:57<1:19:31,  5.71s/product]"
     ]
    },
    {
     "name": "stdout",
     "output_type": "stream",
     "text": [
      "Error fetching supplier for SKU 1256354001 after 5 retries: HTTPSConnectionPool(host='www2.hm.com', port=443): Max retries exceeded with url: /en_us/supplierDetails/articles/1256354001 (Caused by ResponseError('too many 400 error responses'))\n"
     ]
    },
    {
     "name": "stderr",
     "output_type": "stream",
     "text": [
      "Fetching Supplier Details:  87%|████████████████████████████████████▌     | 5635/6468 [3:11:14<1:52:54,  8.13s/product]"
     ]
    },
    {
     "name": "stdout",
     "output_type": "stream",
     "text": [
      "Error fetching supplier for SKU 1245836002 after 5 retries: HTTPSConnectionPool(host='www2.hm.com', port=443): Max retries exceeded with url: /en_us/supplierDetails/articles/1245836002 (Caused by ResponseError('too many 400 error responses'))\n"
     ]
    },
    {
     "name": "stderr",
     "output_type": "stream",
     "text": [
      "Fetching Supplier Details:  87%|████████████████████████████████████▋     | 5641/6468 [3:11:34<1:28:49,  6.44s/product]"
     ]
    },
    {
     "name": "stdout",
     "output_type": "stream",
     "text": [
      "Error fetching supplier for SKU 1239312001 after 5 retries: HTTPSConnectionPool(host='www2.hm.com', port=443): Max retries exceeded with url: /en_us/supplierDetails/articles/1239312001 (Caused by ResponseError('too many 400 error responses'))\n"
     ]
    },
    {
     "name": "stderr",
     "output_type": "stream",
     "text": [
      "Fetching Supplier Details:  87%|████████████████████████████████████▋     | 5650/6468 [3:11:55<1:18:04,  5.73s/product]"
     ]
    },
    {
     "name": "stdout",
     "output_type": "stream",
     "text": [
      "Error fetching supplier for SKU 1240288015 after 5 retries: HTTPSConnectionPool(host='www2.hm.com', port=443): Max retries exceeded with url: /en_us/supplierDetails/articles/1240288015 (Caused by ResponseError('too many 400 error responses'))\n"
     ]
    },
    {
     "name": "stderr",
     "output_type": "stream",
     "text": [
      "Fetching Supplier Details:  88%|████████████████████████████████████▊     | 5672/6468 [3:12:20<1:13:16,  5.52s/product]"
     ]
    },
    {
     "name": "stdout",
     "output_type": "stream",
     "text": [
      "Error fetching supplier for SKU 1255697004 after 5 retries: HTTPSConnectionPool(host='www2.hm.com', port=443): Max retries exceeded with url: /en_us/supplierDetails/articles/1255697004 (Caused by ResponseError('too many 400 error responses'))\n"
     ]
    },
    {
     "name": "stderr",
     "output_type": "stream",
     "text": [
      "Fetching Supplier Details:  88%|████████████████████████████████████▉     | 5681/6468 [3:12:41<1:15:06,  5.73s/product]"
     ]
    },
    {
     "name": "stdout",
     "output_type": "stream",
     "text": [
      "Error fetching supplier for SKU 1232079008 after 5 retries: HTTPSConnectionPool(host='www2.hm.com', port=443): Max retries exceeded with url: /en_us/supplierDetails/articles/1232079008 (Caused by ResponseError('too many 400 error responses'))\n"
     ]
    },
    {
     "name": "stderr",
     "output_type": "stream",
     "text": [
      "Fetching Supplier Details:  88%|████████████████████████████████████▉     | 5682/6468 [3:12:58<2:00:37,  9.21s/product]"
     ]
    },
    {
     "name": "stdout",
     "output_type": "stream",
     "text": [
      "Error fetching supplier for SKU 1240286002 after 5 retries: HTTPSConnectionPool(host='www2.hm.com', port=443): Max retries exceeded with url: /en_us/supplierDetails/articles/1240286002 (Caused by ResponseError('too many 400 error responses'))\n"
     ]
    },
    {
     "name": "stderr",
     "output_type": "stream",
     "text": [
      "Fetching Supplier Details:  88%|████████████████████████████████████▉     | 5686/6468 [3:13:18<1:41:40,  7.80s/product]"
     ]
    },
    {
     "name": "stdout",
     "output_type": "stream",
     "text": [
      "Error fetching supplier for SKU 1233274006 after 5 retries: HTTPSConnectionPool(host='www2.hm.com', port=443): Max retries exceeded with url: /en_us/supplierDetails/articles/1233274006 (Caused by ResponseError('too many 400 error responses'))\n"
     ]
    },
    {
     "name": "stderr",
     "output_type": "stream",
     "text": [
      "Fetching Supplier Details:  88%|█████████████████████████████████████     | 5698/6468 [3:13:39<1:11:44,  5.59s/product]"
     ]
    },
    {
     "name": "stdout",
     "output_type": "stream",
     "text": [
      "Error fetching supplier for SKU 1224402002 after 5 retries: HTTPSConnectionPool(host='www2.hm.com', port=443): Max retries exceeded with url: /en_us/supplierDetails/articles/1224402002 (Caused by ResponseError('too many 400 error responses'))\n"
     ]
    },
    {
     "name": "stderr",
     "output_type": "stream",
     "text": [
      "Fetching Supplier Details:  88%|█████████████████████████████████████     | 5708/6468 [3:14:00<1:11:42,  5.66s/product]"
     ]
    },
    {
     "name": "stdout",
     "output_type": "stream",
     "text": [
      "Error fetching supplier for SKU 1232180001 after 5 retries: HTTPSConnectionPool(host='www2.hm.com', port=443): Max retries exceeded with url: /en_us/supplierDetails/articles/1232180001 (Caused by ResponseError('too many 400 error responses'))\n"
     ]
    },
    {
     "name": "stderr",
     "output_type": "stream",
     "text": [
      "Fetching Supplier Details:  88%|█████████████████████████████████████▏    | 5721/6468 [3:14:23<1:09:55,  5.62s/product]"
     ]
    },
    {
     "name": "stdout",
     "output_type": "stream",
     "text": [
      "Error fetching supplier for SKU 1240286003 after 5 retries: HTTPSConnectionPool(host='www2.hm.com', port=443): Max retries exceeded with url: /en_us/supplierDetails/articles/1240286003 (Caused by ResponseError('too many 400 error responses'))\n"
     ]
    },
    {
     "name": "stderr",
     "output_type": "stream",
     "text": [
      "Fetching Supplier Details:  88%|█████████████████████████████████████▏    | 5722/6468 [3:14:40<1:53:58,  9.17s/product]"
     ]
    },
    {
     "name": "stdout",
     "output_type": "stream",
     "text": [
      "Error fetching supplier for SKU 1289475001 after 5 retries: HTTPSConnectionPool(host='www2.hm.com', port=443): Max retries exceeded with url: /en_us/supplierDetails/articles/1289475001 (Caused by ResponseError('too many 400 error responses'))\n"
     ]
    },
    {
     "name": "stderr",
     "output_type": "stream",
     "text": [
      "Fetching Supplier Details:  89%|█████████████████████████████████████▏    | 5726/6468 [3:14:59<1:21:22,  6.58s/product]"
     ]
    },
    {
     "name": "stdout",
     "output_type": "stream",
     "text": [
      "Error fetching supplier for SKU 1268136001 after 5 retries: HTTPSConnectionPool(host='www2.hm.com', port=443): Max retries exceeded with url: /en_us/supplierDetails/articles/1268136001 (Caused by ResponseError('too many 400 error responses'))\n"
     ]
    },
    {
     "name": "stderr",
     "output_type": "stream",
     "text": [
      "Fetching Supplier Details:  89%|█████████████████████████████████████▏    | 5729/6468 [3:15:17<1:34:40,  7.69s/product]"
     ]
    },
    {
     "name": "stdout",
     "output_type": "stream",
     "text": [
      "Error fetching supplier for SKU 1246849001 after 5 retries: HTTPSConnectionPool(host='www2.hm.com', port=443): Max retries exceeded with url: /en_us/supplierDetails/articles/1246849001 (Caused by ResponseError('too many 400 error responses'))\n"
     ]
    },
    {
     "name": "stderr",
     "output_type": "stream",
     "text": [
      "Fetching Supplier Details:  89%|█████████████████████████████████████▍    | 5757/6468 [3:15:46<1:05:15,  5.51s/product]"
     ]
    },
    {
     "name": "stdout",
     "output_type": "stream",
     "text": [
      "Error fetching supplier for SKU 1262610001 after 5 retries: HTTPSConnectionPool(host='www2.hm.com', port=443): Max retries exceeded with url: /en_us/supplierDetails/articles/1262610001 (Caused by ResponseError('too many 400 error responses'))\n"
     ]
    },
    {
     "name": "stderr",
     "output_type": "stream",
     "text": [
      "Fetching Supplier Details:  89%|█████████████████████████████████████▍    | 5758/6468 [3:16:04<1:47:40,  9.10s/product]"
     ]
    },
    {
     "name": "stdout",
     "output_type": "stream",
     "text": [
      "Error fetching supplier for SKU 1291700001 after 5 retries: HTTPSConnectionPool(host='www2.hm.com', port=443): Max retries exceeded with url: /en_us/supplierDetails/articles/1291700001 (Caused by ResponseError('too many 400 error responses'))\n"
     ]
    },
    {
     "name": "stderr",
     "output_type": "stream",
     "text": [
      "Fetching Supplier Details:  89%|█████████████████████████████████████▍    | 5762/6468 [3:16:23<1:29:35,  7.61s/product]"
     ]
    },
    {
     "name": "stdout",
     "output_type": "stream",
     "text": [
      "Error fetching supplier for SKU 1217677009 after 5 retries: HTTPSConnectionPool(host='www2.hm.com', port=443): Max retries exceeded with url: /en_us/supplierDetails/articles/1217677009 (Caused by ResponseError('too many 400 error responses'))\n"
     ]
    },
    {
     "name": "stderr",
     "output_type": "stream",
     "text": [
      "Fetching Supplier Details:  89%|█████████████████████████████████████▍    | 5771/6468 [3:16:43<1:07:37,  5.82s/product]"
     ]
    },
    {
     "name": "stdout",
     "output_type": "stream",
     "text": [
      "Error fetching supplier for SKU 1241427001 after 5 retries: HTTPSConnectionPool(host='www2.hm.com', port=443): Max retries exceeded with url: /en_us/supplierDetails/articles/1241427001 (Caused by ResponseError('too many 400 error responses'))\n"
     ]
    },
    {
     "name": "stderr",
     "output_type": "stream",
     "text": [
      "Fetching Supplier Details:  89%|█████████████████████████████████████▍    | 5772/6468 [3:17:01<1:47:47,  9.29s/product]"
     ]
    },
    {
     "name": "stdout",
     "output_type": "stream",
     "text": [
      "Error fetching supplier for SKU 1273520002 after 5 retries: HTTPSConnectionPool(host='www2.hm.com', port=443): Max retries exceeded with url: /en_us/supplierDetails/articles/1273520002 (Caused by ResponseError('too many 400 error responses'))\n"
     ]
    },
    {
     "name": "stderr",
     "output_type": "stream",
     "text": [
      "Fetching Supplier Details:  89%|█████████████████████████████████████▌    | 5777/6468 [3:17:20<1:20:43,  7.01s/product]"
     ]
    },
    {
     "name": "stdout",
     "output_type": "stream",
     "text": [
      "Error fetching supplier for SKU 1257362002 after 5 retries: HTTPSConnectionPool(host='www2.hm.com', port=443): Max retries exceeded with url: /en_us/supplierDetails/articles/1257362002 (Caused by ResponseError('too many 400 error responses'))\n"
     ]
    },
    {
     "name": "stderr",
     "output_type": "stream",
     "text": [
      "Fetching Supplier Details:  89%|█████████████████████████████████████▌    | 5781/6468 [3:17:38<1:21:23,  7.11s/product]"
     ]
    },
    {
     "name": "stdout",
     "output_type": "stream",
     "text": [
      "Error fetching supplier for SKU 1213660011 after 5 retries: HTTPSConnectionPool(host='www2.hm.com', port=443): Max retries exceeded with url: /en_us/supplierDetails/articles/1213660011 (Caused by ResponseError('too many 400 error responses'))\n"
     ]
    },
    {
     "name": "stderr",
     "output_type": "stream",
     "text": [
      "Fetching Supplier Details:  89%|█████████████████████████████████████▌    | 5784/6468 [3:17:57<1:30:07,  7.91s/product]"
     ]
    },
    {
     "name": "stdout",
     "output_type": "stream",
     "text": [
      "Error fetching supplier for SKU 1241163001 after 5 retries: HTTPSConnectionPool(host='www2.hm.com', port=443): Max retries exceeded with url: /en_us/supplierDetails/articles/1241163001 (Caused by ResponseError('too many 400 error responses'))\n"
     ]
    },
    {
     "name": "stderr",
     "output_type": "stream",
     "text": [
      "Fetching Supplier Details:  90%|█████████████████████████████████████▋    | 5805/6468 [3:18:23<1:00:46,  5.50s/product]"
     ]
    },
    {
     "name": "stdout",
     "output_type": "stream",
     "text": [
      "Error fetching supplier for SKU 1274044002 after 5 retries: HTTPSConnectionPool(host='www2.hm.com', port=443): Max retries exceeded with url: /en_us/supplierDetails/articles/1274044002 (Caused by ResponseError('too many 400 error responses'))\n"
     ]
    },
    {
     "name": "stderr",
     "output_type": "stream",
     "text": [
      "Fetching Supplier Details:  90%|███████████████████████████████████████▌    | 5819/6468 [3:18:45<59:46,  5.53s/product]"
     ]
    },
    {
     "name": "stdout",
     "output_type": "stream",
     "text": [
      "Error fetching supplier for SKU 1263067002 after 5 retries: HTTPSConnectionPool(host='www2.hm.com', port=443): Max retries exceeded with url: /en_us/supplierDetails/articles/1263067002 (Caused by ResponseError('too many 400 error responses'))\n"
     ]
    },
    {
     "name": "stderr",
     "output_type": "stream",
     "text": [
      "Fetching Supplier Details:  90%|█████████████████████████████████████▊    | 5827/6468 [3:19:05<1:02:21,  5.84s/product]"
     ]
    },
    {
     "name": "stdout",
     "output_type": "stream",
     "text": [
      "Error fetching supplier for SKU 1249593001 after 5 retries: HTTPSConnectionPool(host='www2.hm.com', port=443): Max retries exceeded with url: /en_us/supplierDetails/articles/1249593001 (Caused by ResponseError('too many 400 error responses'))\n"
     ]
    },
    {
     "name": "stderr",
     "output_type": "stream",
     "text": [
      "Fetching Supplier Details:  90%|█████████████████████████████████████▊    | 5828/6468 [3:19:23<1:39:44,  9.35s/product]"
     ]
    },
    {
     "name": "stdout",
     "output_type": "stream",
     "text": [
      "Error fetching supplier for SKU 1249593002 after 5 retries: HTTPSConnectionPool(host='www2.hm.com', port=443): Max retries exceeded with url: /en_us/supplierDetails/articles/1249593002 (Caused by ResponseError('too many 400 error responses'))\n"
     ]
    },
    {
     "name": "stderr",
     "output_type": "stream",
     "text": [
      "Fetching Supplier Details:  90%|█████████████████████████████████████▉    | 5837/6468 [3:19:43<1:01:21,  5.83s/product]"
     ]
    },
    {
     "name": "stdout",
     "output_type": "stream",
     "text": [
      "Error fetching supplier for SKU 1247870001 after 5 retries: HTTPSConnectionPool(host='www2.hm.com', port=443): Max retries exceeded with url: /en_us/supplierDetails/articles/1247870001 (Caused by ResponseError('too many 400 error responses'))\n"
     ]
    },
    {
     "name": "stderr",
     "output_type": "stream",
     "text": [
      "Fetching Supplier Details:  90%|█████████████████████████████████████▉    | 5839/6468 [3:20:01<1:25:26,  8.15s/product]"
     ]
    },
    {
     "name": "stdout",
     "output_type": "stream",
     "text": [
      "Error fetching supplier for SKU 1058939001 after 5 retries: HTTPSConnectionPool(host='www2.hm.com', port=443): Max retries exceeded with url: /en_us/supplierDetails/articles/1058939001 (Caused by ResponseError('too many 400 error responses'))\n"
     ]
    },
    {
     "name": "stderr",
     "output_type": "stream",
     "text": [
      "Fetching Supplier Details:  90%|█████████████████████████████████████▉    | 5840/6468 [3:20:19<1:57:03, 11.18s/product]"
     ]
    },
    {
     "name": "stdout",
     "output_type": "stream",
     "text": [
      "Error fetching supplier for SKU 1260834002 after 5 retries: HTTPSConnectionPool(host='www2.hm.com', port=443): Max retries exceeded with url: /en_us/supplierDetails/articles/1260834002 (Caused by ResponseError('too many 400 error responses'))\n"
     ]
    },
    {
     "name": "stderr",
     "output_type": "stream",
     "text": [
      "Fetching Supplier Details:  90%|█████████████████████████████████████▉    | 5844/6468 [3:20:38<1:23:55,  8.07s/product]"
     ]
    },
    {
     "name": "stdout",
     "output_type": "stream",
     "text": [
      "Error fetching supplier for SKU 1197603007 after 5 retries: HTTPSConnectionPool(host='www2.hm.com', port=443): Max retries exceeded with url: /en_us/supplierDetails/articles/1197603007 (Caused by ResponseError('too many 400 error responses'))\n"
     ]
    },
    {
     "name": "stderr",
     "output_type": "stream",
     "text": [
      "Fetching Supplier Details:  91%|███████████████████████████████████████▊    | 5856/6468 [3:21:00<56:55,  5.58s/product]"
     ]
    },
    {
     "name": "stdout",
     "output_type": "stream",
     "text": [
      "Error fetching supplier for SKU 1240288001 after 5 retries: HTTPSConnectionPool(host='www2.hm.com', port=443): Max retries exceeded with url: /en_us/supplierDetails/articles/1240288001 (Caused by ResponseError('too many 400 error responses'))\n"
     ]
    },
    {
     "name": "stderr",
     "output_type": "stream",
     "text": [
      "Fetching Supplier Details:  91%|███████████████████████████████████████▉    | 5875/6468 [3:21:24<54:38,  5.53s/product]"
     ]
    },
    {
     "name": "stdout",
     "output_type": "stream",
     "text": [
      "Error fetching supplier for SKU 1255367001 after 5 retries: HTTPSConnectionPool(host='www2.hm.com', port=443): Max retries exceeded with url: /en_us/supplierDetails/articles/1255367001 (Caused by ResponseError('too many 400 error responses'))\n"
     ]
    },
    {
     "name": "stderr",
     "output_type": "stream",
     "text": [
      "Fetching Supplier Details:  91%|██████████████████████████████████████▏   | 5878/6468 [3:21:43<1:12:13,  7.35s/product]"
     ]
    },
    {
     "name": "stdout",
     "output_type": "stream",
     "text": [
      "Error fetching supplier for SKU 1256976003 after 5 retries: HTTPSConnectionPool(host='www2.hm.com', port=443): Max retries exceeded with url: /en_us/supplierDetails/articles/1256976003 (Caused by ResponseError('too many 400 error responses'))\n"
     ]
    },
    {
     "name": "stderr",
     "output_type": "stream",
     "text": [
      "Fetching Supplier Details:  91%|██████████████████████████████████████▏   | 5881/6468 [3:22:01<1:16:57,  7.87s/product]"
     ]
    },
    {
     "name": "stdout",
     "output_type": "stream",
     "text": [
      "Error fetching supplier for SKU 1193433006 after 5 retries: HTTPSConnectionPool(host='www2.hm.com', port=443): Max retries exceeded with url: /en_us/supplierDetails/articles/1193433006 (Caused by ResponseError('too many 400 error responses'))\n"
     ]
    },
    {
     "name": "stderr",
     "output_type": "stream",
     "text": [
      "Fetching Supplier Details:  91%|████████████████████████████████████████    | 5898/6468 [3:22:25<52:28,  5.52s/product]"
     ]
    },
    {
     "name": "stdout",
     "output_type": "stream",
     "text": [
      "Error fetching supplier for SKU 1276881001 after 5 retries: HTTPSConnectionPool(host='www2.hm.com', port=443): Max retries exceeded with url: /en_us/supplierDetails/articles/1276881001 (Caused by ResponseError('too many 400 error responses'))\n"
     ]
    },
    {
     "name": "stderr",
     "output_type": "stream",
     "text": [
      "Fetching Supplier Details:  91%|████████████████████████████████████████▏   | 5904/6468 [3:22:45<57:29,  6.12s/product]"
     ]
    },
    {
     "name": "stdout",
     "output_type": "stream",
     "text": [
      "Error fetching supplier for SKU 1253172001 after 5 retries: HTTPSConnectionPool(host='www2.hm.com', port=443): Max retries exceeded with url: /en_us/supplierDetails/articles/1253172001 (Caused by ResponseError('too many 400 error responses'))\n"
     ]
    },
    {
     "name": "stderr",
     "output_type": "stream",
     "text": [
      "Fetching Supplier Details:  91%|██████████████████████████████████████▎   | 5905/6468 [3:23:02<1:29:21,  9.52s/product]"
     ]
    },
    {
     "name": "stdout",
     "output_type": "stream",
     "text": [
      "Error fetching supplier for SKU 1253172001 after 5 retries: HTTPSConnectionPool(host='www2.hm.com', port=443): Max retries exceeded with url: /en_us/supplierDetails/articles/1253172001 (Caused by ResponseError('too many 400 error responses'))\n"
     ]
    },
    {
     "name": "stderr",
     "output_type": "stream",
     "text": [
      "Fetching Supplier Details:  91%|██████████████████████████████████████▎   | 5909/6468 [3:23:21<1:11:35,  7.68s/product]"
     ]
    },
    {
     "name": "stdout",
     "output_type": "stream",
     "text": [
      "Error fetching supplier for SKU 1256950001 after 5 retries: HTTPSConnectionPool(host='www2.hm.com', port=443): Max retries exceeded with url: /en_us/supplierDetails/articles/1256950001 (Caused by ResponseError('too many 400 error responses'))\n"
     ]
    },
    {
     "name": "stderr",
     "output_type": "stream",
     "text": [
      "Fetching Supplier Details:  91%|██████████████████████████████████████▍   | 5911/6468 [3:23:39<1:24:30,  9.10s/product]"
     ]
    },
    {
     "name": "stdout",
     "output_type": "stream",
     "text": [
      "Error fetching supplier for SKU 1253173001 after 5 retries: HTTPSConnectionPool(host='www2.hm.com', port=443): Max retries exceeded with url: /en_us/supplierDetails/articles/1253173001 (Caused by ResponseError('too many 400 error responses'))\n"
     ]
    },
    {
     "name": "stderr",
     "output_type": "stream",
     "text": [
      "Fetching Supplier Details:  91%|██████████████████████████████████████▍   | 5917/6468 [3:23:58<1:00:18,  6.57s/product]"
     ]
    },
    {
     "name": "stdout",
     "output_type": "stream",
     "text": [
      "Error fetching supplier for SKU 1243195001 after 5 retries: HTTPSConnectionPool(host='www2.hm.com', port=443): Max retries exceeded with url: /en_us/supplierDetails/articles/1243195001 (Caused by ResponseError('too many 400 error responses'))\n"
     ]
    },
    {
     "name": "stderr",
     "output_type": "stream",
     "text": [
      "Fetching Supplier Details:  92%|████████████████████████████████████████▎   | 5927/6468 [3:24:20<51:26,  5.70s/product]"
     ]
    },
    {
     "name": "stdout",
     "output_type": "stream",
     "text": [
      "Error fetching supplier for SKU 1255377003 after 5 retries: HTTPSConnectionPool(host='www2.hm.com', port=443): Max retries exceeded with url: /en_us/supplierDetails/articles/1255377003 (Caused by ResponseError('too many 400 error responses'))\n"
     ]
    },
    {
     "name": "stderr",
     "output_type": "stream",
     "text": [
      "Fetching Supplier Details:  92%|████████████████████████████████████████▎   | 5934/6468 [3:24:40<53:22,  6.00s/product]"
     ]
    },
    {
     "name": "stdout",
     "output_type": "stream",
     "text": [
      "Error fetching supplier for SKU 1243195004 after 5 retries: HTTPSConnectionPool(host='www2.hm.com', port=443): Max retries exceeded with url: /en_us/supplierDetails/articles/1243195004 (Caused by ResponseError('too many 400 error responses'))\n"
     ]
    },
    {
     "name": "stderr",
     "output_type": "stream",
     "text": [
      "Fetching Supplier Details:  92%|██████████████████████████████████████▌   | 5938/6468 [3:24:58<1:00:35,  6.86s/product]"
     ]
    },
    {
     "name": "stdout",
     "output_type": "stream",
     "text": [
      "Error fetching supplier for SKU 1217677003 after 5 retries: HTTPSConnectionPool(host='www2.hm.com', port=443): Max retries exceeded with url: /en_us/supplierDetails/articles/1217677003 (Caused by ResponseError('too many 400 error responses'))\n"
     ]
    },
    {
     "name": "stderr",
     "output_type": "stream",
     "text": [
      "Fetching Supplier Details:  92%|██████████████████████████████████████▌   | 5941/6468 [3:25:16<1:07:38,  7.70s/product]"
     ]
    },
    {
     "name": "stdout",
     "output_type": "stream",
     "text": [
      "Error fetching supplier for SKU 1258707001 after 5 retries: HTTPSConnectionPool(host='www2.hm.com', port=443): Max retries exceeded with url: /en_us/supplierDetails/articles/1258707001 (Caused by ResponseError('too many 400 error responses'))\n"
     ]
    },
    {
     "name": "stderr",
     "output_type": "stream",
     "text": [
      "Fetching Supplier Details:  92%|████████████████████████████████████████▍   | 5949/6468 [3:25:37<51:14,  5.92s/product]"
     ]
    },
    {
     "name": "stdout",
     "output_type": "stream",
     "text": [
      "Error fetching supplier for SKU 1240341010 after 5 retries: HTTPSConnectionPool(host='www2.hm.com', port=443): Max retries exceeded with url: /en_us/supplierDetails/articles/1240341010 (Caused by ResponseError('too many 400 error responses'))\n"
     ]
    },
    {
     "name": "stderr",
     "output_type": "stream",
     "text": [
      "Fetching Supplier Details:  92%|██████████████████████████████████████▋   | 5951/6468 [3:25:55<1:10:43,  8.21s/product]"
     ]
    },
    {
     "name": "stdout",
     "output_type": "stream",
     "text": [
      "Error fetching supplier for SKU 1241851001 after 5 retries: HTTPSConnectionPool(host='www2.hm.com', port=443): Max retries exceeded with url: /en_us/supplierDetails/articles/1241851001 (Caused by ResponseError('too many 400 error responses'))\n"
     ]
    },
    {
     "name": "stderr",
     "output_type": "stream",
     "text": [
      "Fetching Supplier Details:  92%|██████████████████████████████████████▋   | 5955/6468 [3:26:13<1:02:53,  7.36s/product]"
     ]
    },
    {
     "name": "stdout",
     "output_type": "stream",
     "text": [
      "Error fetching supplier for SKU 1247022002 after 5 retries: HTTPSConnectionPool(host='www2.hm.com', port=443): Max retries exceeded with url: /en_us/supplierDetails/articles/1247022002 (Caused by ResponseError('too many 400 error responses'))\n"
     ]
    },
    {
     "name": "stderr",
     "output_type": "stream",
     "text": [
      "Fetching Supplier Details:  92%|██████████████████████████████████████▋   | 5956/6468 [3:26:31<1:28:30, 10.37s/product]"
     ]
    },
    {
     "name": "stdout",
     "output_type": "stream",
     "text": [
      "Error fetching supplier for SKU 1256950002 after 5 retries: HTTPSConnectionPool(host='www2.hm.com', port=443): Max retries exceeded with url: /en_us/supplierDetails/articles/1256950002 (Caused by ResponseError('too many 400 error responses'))\n"
     ]
    },
    {
     "name": "stderr",
     "output_type": "stream",
     "text": [
      "Fetching Supplier Details:  92%|██████████████████████████████████████▋   | 5958/6468 [3:26:48<1:28:22, 10.40s/product]"
     ]
    },
    {
     "name": "stdout",
     "output_type": "stream",
     "text": [
      "Error fetching supplier for SKU 1241128003 after 5 retries: HTTPSConnectionPool(host='www2.hm.com', port=443): Max retries exceeded with url: /en_us/supplierDetails/articles/1241128003 (Caused by ResponseError('too many 400 error responses'))\n"
     ]
    },
    {
     "name": "stderr",
     "output_type": "stream",
     "text": [
      "Fetching Supplier Details:  92%|██████████████████████████████████████▋   | 5963/6468 [3:27:07<1:00:14,  7.16s/product]"
     ]
    },
    {
     "name": "stdout",
     "output_type": "stream",
     "text": [
      "Error fetching supplier for SKU 1239698001 after 5 retries: HTTPSConnectionPool(host='www2.hm.com', port=443): Max retries exceeded with url: /en_us/supplierDetails/articles/1239698001 (Caused by ResponseError('too many 400 error responses'))\n"
     ]
    },
    {
     "name": "stderr",
     "output_type": "stream",
     "text": [
      "Fetching Supplier Details:  92%|████████████████████████████████████████▌   | 5968/6468 [3:27:26<55:07,  6.61s/product]"
     ]
    },
    {
     "name": "stdout",
     "output_type": "stream",
     "text": [
      "Error fetching supplier for SKU 1249524001 after 5 retries: HTTPSConnectionPool(host='www2.hm.com', port=443): Max retries exceeded with url: /en_us/supplierDetails/articles/1249524001 (Caused by ResponseError('too many 400 error responses'))\n"
     ]
    },
    {
     "name": "stderr",
     "output_type": "stream",
     "text": [
      "Fetching Supplier Details:  92%|██████████████████████████████████████▊   | 5969/6468 [3:27:44<1:21:52,  9.84s/product]"
     ]
    },
    {
     "name": "stdout",
     "output_type": "stream",
     "text": [
      "Error fetching supplier for SKU 1250255001 after 5 retries: HTTPSConnectionPool(host='www2.hm.com', port=443): Max retries exceeded with url: /en_us/supplierDetails/articles/1250255001 (Caused by ResponseError('too many 400 error responses'))\n"
     ]
    },
    {
     "name": "stderr",
     "output_type": "stream",
     "text": [
      "Fetching Supplier Details:  92%|██████████████████████████████████████▊   | 5972/6468 [3:28:02<1:12:20,  8.75s/product]"
     ]
    },
    {
     "name": "stdout",
     "output_type": "stream",
     "text": [
      "Error fetching supplier for SKU 1255922002 after 5 retries: HTTPSConnectionPool(host='www2.hm.com', port=443): Max retries exceeded with url: /en_us/supplierDetails/articles/1255922002 (Caused by ResponseError('too many 400 error responses'))\n"
     ]
    },
    {
     "name": "stderr",
     "output_type": "stream",
     "text": [
      "Fetching Supplier Details:  92%|██████████████████████████████████████▊   | 5975/6468 [3:28:20<1:09:04,  8.41s/product]"
     ]
    },
    {
     "name": "stdout",
     "output_type": "stream",
     "text": [
      "Error fetching supplier for SKU 1220743001 after 5 retries: HTTPSConnectionPool(host='www2.hm.com', port=443): Max retries exceeded with url: /en_us/supplierDetails/articles/1220743001 (Caused by ResponseError('too many 400 error responses'))\n"
     ]
    },
    {
     "name": "stderr",
     "output_type": "stream",
     "text": [
      "Fetching Supplier Details:  92%|██████████████████████████████████████▊   | 5978/6468 [3:28:39<1:07:08,  8.22s/product]"
     ]
    },
    {
     "name": "stdout",
     "output_type": "stream",
     "text": [
      "Error fetching supplier for SKU 1245602002 after 5 retries: HTTPSConnectionPool(host='www2.hm.com', port=443): Max retries exceeded with url: /en_us/supplierDetails/articles/1245602002 (Caused by ResponseError('too many 400 error responses'))\n"
     ]
    },
    {
     "name": "stderr",
     "output_type": "stream",
     "text": [
      "Fetching Supplier Details:  92%|██████████████████████████████████████▊   | 5979/6468 [3:28:56<1:29:19, 10.96s/product]"
     ]
    },
    {
     "name": "stdout",
     "output_type": "stream",
     "text": [
      "Error fetching supplier for SKU 1243050002 after 5 retries: HTTPSConnectionPool(host='www2.hm.com', port=443): Max retries exceeded with url: /en_us/supplierDetails/articles/1243050002 (Caused by ResponseError('too many 400 error responses'))\n"
     ]
    },
    {
     "name": "stderr",
     "output_type": "stream",
     "text": [
      "Fetching Supplier Details:  92%|██████████████████████████████████████▊   | 5980/6468 [3:29:13<1:45:18, 12.95s/product]"
     ]
    },
    {
     "name": "stdout",
     "output_type": "stream",
     "text": [
      "Error fetching supplier for SKU 1252058001 after 5 retries: HTTPSConnectionPool(host='www2.hm.com', port=443): Max retries exceeded with url: /en_us/supplierDetails/articles/1252058001 (Caused by ResponseError('too many 400 error responses'))\n"
     ]
    },
    {
     "name": "stderr",
     "output_type": "stream",
     "text": [
      "Fetching Supplier Details:  92%|██████████████████████████████████████▊   | 5982/6468 [3:29:32<1:35:05, 11.74s/product]"
     ]
    },
    {
     "name": "stdout",
     "output_type": "stream",
     "text": [
      "Error fetching supplier for SKU 1252278001 after 5 retries: HTTPSConnectionPool(host='www2.hm.com', port=443): Max retries exceeded with url: /en_us/supplierDetails/articles/1252278001 (Caused by ResponseError('too many 400 error responses'))\n"
     ]
    },
    {
     "name": "stderr",
     "output_type": "stream",
     "text": [
      "Fetching Supplier Details:  93%|████████████████████████████████████████▊   | 5994/6468 [3:29:53<44:35,  5.64s/product]"
     ]
    },
    {
     "name": "stdout",
     "output_type": "stream",
     "text": [
      "Error fetching supplier for SKU 1241983002 after 5 retries: HTTPSConnectionPool(host='www2.hm.com', port=443): Max retries exceeded with url: /en_us/supplierDetails/articles/1241983002 (Caused by ResponseError('too many 400 error responses'))\n"
     ]
    },
    {
     "name": "stderr",
     "output_type": "stream",
     "text": [
      "Fetching Supplier Details:  93%|██████████████████████████████████████▉   | 5996/6468 [3:30:11<1:03:20,  8.05s/product]"
     ]
    },
    {
     "name": "stdout",
     "output_type": "stream",
     "text": [
      "Error fetching supplier for SKU 1247498002 after 5 retries: HTTPSConnectionPool(host='www2.hm.com', port=443): Max retries exceeded with url: /en_us/supplierDetails/articles/1247498002 (Caused by ResponseError('too many 400 error responses'))\n"
     ]
    },
    {
     "name": "stderr",
     "output_type": "stream",
     "text": [
      "Fetching Supplier Details:  93%|██████████████████████████████████████▉   | 5998/6468 [3:30:29<1:12:11,  9.22s/product]"
     ]
    },
    {
     "name": "stdout",
     "output_type": "stream",
     "text": [
      "Error fetching supplier for SKU 1241437002 after 5 retries: HTTPSConnectionPool(host='www2.hm.com', port=443): Max retries exceeded with url: /en_us/supplierDetails/articles/1241437002 (Caused by ResponseError('too many 400 error responses'))\n"
     ]
    },
    {
     "name": "stderr",
     "output_type": "stream",
     "text": [
      "Fetching Supplier Details:  93%|████████████████████████████████████████▉   | 6015/6468 [3:30:57<42:30,  5.63s/product]"
     ]
    },
    {
     "name": "stdout",
     "output_type": "stream",
     "text": [
      "Error fetching supplier for SKU 1200663001 after 5 retries: HTTPSConnectionPool(host='www2.hm.com', port=443): Max retries exceeded with url: /en_us/supplierDetails/articles/1200663001 (Caused by ResponseError('too many 400 error responses'))\n"
     ]
    },
    {
     "name": "stderr",
     "output_type": "stream",
     "text": [
      "Fetching Supplier Details:  93%|████████████████████████████████████████▉   | 6018/6468 [3:31:15<54:36,  7.28s/product]"
     ]
    },
    {
     "name": "stdout",
     "output_type": "stream",
     "text": [
      "Error fetching supplier for SKU 1230713003 after 5 retries: HTTPSConnectionPool(host='www2.hm.com', port=443): Max retries exceeded with url: /en_us/supplierDetails/articles/1230713003 (Caused by ResponseError('too many 400 error responses'))\n"
     ]
    },
    {
     "name": "stderr",
     "output_type": "stream",
     "text": [
      "Fetching Supplier Details:  93%|███████████████████████████████████████   | 6019/6468 [3:31:32<1:17:24, 10.34s/product]"
     ]
    },
    {
     "name": "stdout",
     "output_type": "stream",
     "text": [
      "Error fetching supplier for SKU 1238761001 after 5 retries: HTTPSConnectionPool(host='www2.hm.com', port=443): Max retries exceeded with url: /en_us/supplierDetails/articles/1238761001 (Caused by ResponseError('too many 400 error responses'))\n"
     ]
    },
    {
     "name": "stderr",
     "output_type": "stream",
     "text": [
      "Fetching Supplier Details:  93%|███████████████████████████████████████   | 6020/6468 [3:31:50<1:34:31, 12.66s/product]"
     ]
    },
    {
     "name": "stdout",
     "output_type": "stream",
     "text": [
      "Error fetching supplier for SKU 1238761002 after 5 retries: HTTPSConnectionPool(host='www2.hm.com', port=443): Max retries exceeded with url: /en_us/supplierDetails/articles/1238761002 (Caused by ResponseError('too many 400 error responses'))\n"
     ]
    },
    {
     "name": "stderr",
     "output_type": "stream",
     "text": [
      "Fetching Supplier Details:  93%|███████████████████████████████████████   | 6021/6468 [3:32:08<1:44:43, 14.06s/product]"
     ]
    },
    {
     "name": "stdout",
     "output_type": "stream",
     "text": [
      "Error fetching supplier for SKU 1238762002 after 5 retries: HTTPSConnectionPool(host='www2.hm.com', port=443): Max retries exceeded with url: /en_us/supplierDetails/articles/1238762002 (Caused by ResponseError('too many 400 error responses'))\n"
     ]
    },
    {
     "name": "stderr",
     "output_type": "stream",
     "text": [
      "Fetching Supplier Details:  93%|███████████████████████████████████████   | 6022/6468 [3:32:25<1:51:48, 15.04s/product]"
     ]
    },
    {
     "name": "stdout",
     "output_type": "stream",
     "text": [
      "Error fetching supplier for SKU 1239949002 after 5 retries: HTTPSConnectionPool(host='www2.hm.com', port=443): Max retries exceeded with url: /en_us/supplierDetails/articles/1239949002 (Caused by ResponseError('too many 400 error responses'))\n"
     ]
    },
    {
     "name": "stderr",
     "output_type": "stream",
     "text": [
      "Fetching Supplier Details:  93%|█████████████████████████████████████████   | 6027/6468 [3:32:44<58:22,  7.94s/product]"
     ]
    },
    {
     "name": "stdout",
     "output_type": "stream",
     "text": [
      "Error fetching supplier for SKU 1241146001 after 5 retries: HTTPSConnectionPool(host='www2.hm.com', port=443): Max retries exceeded with url: /en_us/supplierDetails/articles/1241146001 (Caused by ResponseError('too many 400 error responses'))\n"
     ]
    },
    {
     "name": "stderr",
     "output_type": "stream",
     "text": [
      "Fetching Supplier Details:  93%|███████████████████████████████████████▏  | 6028/6468 [3:33:01<1:19:09, 10.79s/product]"
     ]
    },
    {
     "name": "stdout",
     "output_type": "stream",
     "text": [
      "Error fetching supplier for SKU 1241161001 after 5 retries: HTTPSConnectionPool(host='www2.hm.com', port=443): Max retries exceeded with url: /en_us/supplierDetails/articles/1241161001 (Caused by ResponseError('too many 400 error responses'))\n"
     ]
    },
    {
     "name": "stderr",
     "output_type": "stream",
     "text": [
      "Fetching Supplier Details:  93%|███████████████████████████████████████▏  | 6029/6468 [3:33:19<1:33:25, 12.77s/product]"
     ]
    },
    {
     "name": "stdout",
     "output_type": "stream",
     "text": [
      "Error fetching supplier for SKU 1241162002 after 5 retries: HTTPSConnectionPool(host='www2.hm.com', port=443): Max retries exceeded with url: /en_us/supplierDetails/articles/1241162002 (Caused by ResponseError('too many 400 error responses'))\n"
     ]
    },
    {
     "name": "stderr",
     "output_type": "stream",
     "text": [
      "Fetching Supplier Details:  93%|███████████████████████████████████████▏  | 6030/6468 [3:33:36<1:43:53, 14.23s/product]"
     ]
    },
    {
     "name": "stdout",
     "output_type": "stream",
     "text": [
      "Error fetching supplier for SKU 1241163002 after 5 retries: HTTPSConnectionPool(host='www2.hm.com', port=443): Max retries exceeded with url: /en_us/supplierDetails/articles/1241163002 (Caused by ResponseError('too many 400 error responses'))\n"
     ]
    },
    {
     "name": "stderr",
     "output_type": "stream",
     "text": [
      "Fetching Supplier Details:  93%|███████████████████████████████████████▏  | 6031/6468 [3:33:54<1:50:41, 15.20s/product]"
     ]
    },
    {
     "name": "stdout",
     "output_type": "stream",
     "text": [
      "Error fetching supplier for SKU 1242528001 after 5 retries: HTTPSConnectionPool(host='www2.hm.com', port=443): Max retries exceeded with url: /en_us/supplierDetails/articles/1242528001 (Caused by ResponseError('too many 400 error responses'))\n"
     ]
    },
    {
     "name": "stderr",
     "output_type": "stream",
     "text": [
      "Fetching Supplier Details:  93%|███████████████████████████████████████▏  | 6035/6468 [3:34:13<1:05:21,  9.06s/product]"
     ]
    },
    {
     "name": "stdout",
     "output_type": "stream",
     "text": [
      "Error fetching supplier for SKU 1251625001 after 5 retries: HTTPSConnectionPool(host='www2.hm.com', port=443): Max retries exceeded with url: /en_us/supplierDetails/articles/1251625001 (Caused by ResponseError('too many 400 error responses'))\n"
     ]
    },
    {
     "name": "stderr",
     "output_type": "stream",
     "text": [
      "Fetching Supplier Details:  93%|█████████████████████████████████████████   | 6041/6468 [3:34:32<46:35,  6.55s/product]"
     ]
    },
    {
     "name": "stdout",
     "output_type": "stream",
     "text": [
      "Error fetching supplier for SKU 1264587001 after 5 retries: HTTPSConnectionPool(host='www2.hm.com', port=443): Max retries exceeded with url: /en_us/supplierDetails/articles/1264587001 (Caused by ResponseError('too many 400 error responses'))\n"
     ]
    },
    {
     "name": "stderr",
     "output_type": "stream",
     "text": [
      "Fetching Supplier Details:  94%|█████████████████████████████████████████▏  | 6053/6468 [3:34:54<38:44,  5.60s/product]"
     ]
    },
    {
     "name": "stdout",
     "output_type": "stream",
     "text": [
      "Error fetching supplier for SKU 1160381019 after 5 retries: HTTPSConnectionPool(host='www2.hm.com', port=443): Max retries exceeded with url: /en_us/supplierDetails/articles/1160381019 (Caused by ResponseError('too many 400 error responses'))\n"
     ]
    },
    {
     "name": "stderr",
     "output_type": "stream",
     "text": [
      "Fetching Supplier Details:  94%|█████████████████████████████████████████▏  | 6057/6468 [3:35:13<46:18,  6.76s/product]"
     ]
    },
    {
     "name": "stdout",
     "output_type": "stream",
     "text": [
      "Error fetching supplier for SKU 1246321005 after 5 retries: HTTPSConnectionPool(host='www2.hm.com', port=443): Max retries exceeded with url: /en_us/supplierDetails/articles/1246321005 (Caused by ResponseError('too many 400 error responses'))\n"
     ]
    },
    {
     "name": "stderr",
     "output_type": "stream",
     "text": [
      "Fetching Supplier Details:  94%|█████████████████████████████████████████▎  | 6075/6468 [3:35:37<36:05,  5.51s/product]"
     ]
    },
    {
     "name": "stdout",
     "output_type": "stream",
     "text": [
      "Error fetching supplier for SKU 1249950001 after 5 retries: HTTPSConnectionPool(host='www2.hm.com', port=443): Max retries exceeded with url: /en_us/supplierDetails/articles/1249950001 (Caused by ResponseError('too many 400 error responses'))\n"
     ]
    },
    {
     "name": "stderr",
     "output_type": "stream",
     "text": [
      "Fetching Supplier Details:  94%|█████████████████████████████████████████▌  | 6104/6468 [3:36:06<33:23,  5.51s/product]"
     ]
    },
    {
     "name": "stdout",
     "output_type": "stream",
     "text": [
      "Error fetching supplier for SKU 1202831001 after 5 retries: HTTPSConnectionPool(host='www2.hm.com', port=443): Max retries exceeded with url: /en_us/supplierDetails/articles/1202831001 (Caused by ResponseError('too many 400 error responses'))\n"
     ]
    },
    {
     "name": "stderr",
     "output_type": "stream",
     "text": [
      "Fetching Supplier Details:  94%|█████████████████████████████████████████▌  | 6108/6468 [3:36:25<40:24,  6.73s/product]"
     ]
    },
    {
     "name": "stdout",
     "output_type": "stream",
     "text": [
      "Error fetching supplier for SKU 1261493002 after 5 retries: HTTPSConnectionPool(host='www2.hm.com', port=443): Max retries exceeded with url: /en_us/supplierDetails/articles/1261493002 (Caused by ResponseError('too many 400 error responses'))\n"
     ]
    },
    {
     "name": "stderr",
     "output_type": "stream",
     "text": [
      "Fetching Supplier Details:  95%|█████████████████████████████████████████▊  | 6143/6468 [3:36:56<29:54,  5.52s/product]"
     ]
    },
    {
     "name": "stdout",
     "output_type": "stream",
     "text": [
      "Error fetching supplier for SKU 1278400003 after 5 retries: HTTPSConnectionPool(host='www2.hm.com', port=443): Max retries exceeded with url: /en_us/supplierDetails/articles/1278400003 (Caused by ResponseError('too many 400 error responses'))\n"
     ]
    },
    {
     "name": "stderr",
     "output_type": "stream",
     "text": [
      "Fetching Supplier Details:  95%|█████████████████████████████████████████▊  | 6152/6468 [3:37:17<30:05,  5.71s/product]"
     ]
    },
    {
     "name": "stdout",
     "output_type": "stream",
     "text": [
      "Error fetching supplier for SKU 1208965017 after 5 retries: HTTPSConnectionPool(host='www2.hm.com', port=443): Max retries exceeded with url: /en_us/supplierDetails/articles/1208965017 (Caused by ResponseError('too many 400 error responses'))\n"
     ]
    },
    {
     "name": "stderr",
     "output_type": "stream",
     "text": [
      "Fetching Supplier Details:  95%|█████████████████████████████████████████▉  | 6163/6468 [3:37:38<28:25,  5.59s/product]"
     ]
    },
    {
     "name": "stdout",
     "output_type": "stream",
     "text": [
      "Error fetching supplier for SKU 1089156016 after 5 retries: HTTPSConnectionPool(host='www2.hm.com', port=443): Max retries exceeded with url: /en_us/supplierDetails/articles/1089156016 (Caused by ResponseError('too many 400 error responses'))\n"
     ]
    },
    {
     "name": "stderr",
     "output_type": "stream",
     "text": [
      "Fetching Supplier Details:  96%|██████████████████████████████████████████  | 6184/6468 [3:38:04<26:03,  5.51s/product]"
     ]
    },
    {
     "name": "stdout",
     "output_type": "stream",
     "text": [
      "Error fetching supplier for SKU 1210630021 after 5 retries: HTTPSConnectionPool(host='www2.hm.com', port=443): Max retries exceeded with url: /en_us/supplierDetails/articles/1210630021 (Caused by ResponseError('too many 400 error responses'))\n"
     ]
    },
    {
     "name": "stderr",
     "output_type": "stream",
     "text": [
      "Fetching Supplier Details:  96%|██████████████████████████████████████████▏ | 6206/6468 [3:38:31<24:57,  5.71s/product]"
     ]
    },
    {
     "name": "stdout",
     "output_type": "stream",
     "text": [
      "Error fetching supplier for SKU 1275073002 after 5 retries: HTTPSConnectionPool(host='www2.hm.com', port=443): Max retries exceeded with url: /en_us/supplierDetails/articles/1275073002 (Caused by ResponseError('too many 400 error responses'))\n"
     ]
    },
    {
     "name": "stderr",
     "output_type": "stream",
     "text": [
      "Fetching Supplier Details:  96%|██████████████████████████████████████████▎ | 6213/6468 [3:38:51<25:13,  5.94s/product]"
     ]
    },
    {
     "name": "stdout",
     "output_type": "stream",
     "text": [
      "Error fetching supplier for SKU 1275073003 after 5 retries: HTTPSConnectionPool(host='www2.hm.com', port=443): Max retries exceeded with url: /en_us/supplierDetails/articles/1275073003 (Caused by ResponseError('too many 400 error responses'))\n"
     ]
    },
    {
     "name": "stderr",
     "output_type": "stream",
     "text": [
      "Fetching Supplier Details:  96%|██████████████████████████████████████████▎ | 6218/6468 [3:39:10<26:48,  6.43s/product]"
     ]
    },
    {
     "name": "stdout",
     "output_type": "stream",
     "text": [
      "Error fetching supplier for SKU 1234795002 after 5 retries: HTTPSConnectionPool(host='www2.hm.com', port=443): Max retries exceeded with url: /en_us/supplierDetails/articles/1234795002 (Caused by ResponseError('too many 400 error responses'))\n"
     ]
    },
    {
     "name": "stderr",
     "output_type": "stream",
     "text": [
      "Fetching Supplier Details:  96%|██████████████████████████████████████████▎ | 6220/6468 [3:39:27<34:56,  8.46s/product]"
     ]
    },
    {
     "name": "stdout",
     "output_type": "stream",
     "text": [
      "Error fetching supplier for SKU 1291975003 after 5 retries: HTTPSConnectionPool(host='www2.hm.com', port=443): Max retries exceeded with url: /en_us/supplierDetails/articles/1291975003 (Caused by ResponseError('too many 400 error responses'))\n"
     ]
    },
    {
     "name": "stderr",
     "output_type": "stream",
     "text": [
      "Fetching Supplier Details:  96%|██████████████████████████████████████████▎ | 6227/6468 [3:39:47<24:54,  6.20s/product]"
     ]
    },
    {
     "name": "stdout",
     "output_type": "stream",
     "text": [
      "Error fetching supplier for SKU 1039772002 after 5 retries: HTTPSConnectionPool(host='www2.hm.com', port=443): Max retries exceeded with url: /en_us/supplierDetails/articles/1039772002 (Caused by ResponseError('too many 400 error responses'))\n"
     ]
    },
    {
     "name": "stderr",
     "output_type": "stream",
     "text": [
      "Fetching Supplier Details:  96%|██████████████████████████████████████████▍ | 6232/6468 [3:40:06<25:25,  6.47s/product]"
     ]
    },
    {
     "name": "stdout",
     "output_type": "stream",
     "text": [
      "Error fetching supplier for SKU 1245970003 after 5 retries: HTTPSConnectionPool(host='www2.hm.com', port=443): Max retries exceeded with url: /en_us/supplierDetails/articles/1245970003 (Caused by ResponseError('too many 400 error responses'))\n"
     ]
    },
    {
     "name": "stderr",
     "output_type": "stream",
     "text": [
      "Fetching Supplier Details:  97%|██████████████████████████████████████████▍ | 6246/6468 [3:40:31<20:37,  5.57s/product]"
     ]
    },
    {
     "name": "stdout",
     "output_type": "stream",
     "text": [
      "Error fetching supplier for SKU 1228436004 after 5 retries: HTTPSConnectionPool(host='www2.hm.com', port=443): Max retries exceeded with url: /en_us/supplierDetails/articles/1228436004 (Caused by ResponseError('too many 400 error responses'))\n"
     ]
    },
    {
     "name": "stderr",
     "output_type": "stream",
     "text": [
      "Fetching Supplier Details:  97%|██████████████████████████████████████████▌ | 6249/6468 [3:40:49<26:31,  7.27s/product]"
     ]
    },
    {
     "name": "stdout",
     "output_type": "stream",
     "text": [
      "Error fetching supplier for SKU 1228919001 after 5 retries: HTTPSConnectionPool(host='www2.hm.com', port=443): Max retries exceeded with url: /en_us/supplierDetails/articles/1228919001 (Caused by ResponseError('too many 400 error responses'))\n"
     ]
    },
    {
     "name": "stderr",
     "output_type": "stream",
     "text": [
      "Fetching Supplier Details:  97%|██████████████████████████████████████████▌ | 6265/6468 [3:41:13<18:38,  5.51s/product]"
     ]
    },
    {
     "name": "stdout",
     "output_type": "stream",
     "text": [
      "Error fetching supplier for SKU 1232405001 after 5 retries: HTTPSConnectionPool(host='www2.hm.com', port=443): Max retries exceeded with url: /en_us/supplierDetails/articles/1232405001 (Caused by ResponseError('too many 400 error responses'))\n"
     ]
    },
    {
     "name": "stderr",
     "output_type": "stream",
     "text": [
      "Fetching Supplier Details:  97%|██████████████████████████████████████████▋ | 6269/6468 [3:41:31<22:13,  6.70s/product]"
     ]
    },
    {
     "name": "stdout",
     "output_type": "stream",
     "text": [
      "Error fetching supplier for SKU 1240258002 after 5 retries: HTTPSConnectionPool(host='www2.hm.com', port=443): Max retries exceeded with url: /en_us/supplierDetails/articles/1240258002 (Caused by ResponseError('too many 400 error responses'))\n"
     ]
    },
    {
     "name": "stderr",
     "output_type": "stream",
     "text": [
      "Fetching Supplier Details:  97%|██████████████████████████████████████████▋ | 6271/6468 [3:41:49<28:21,  8.64s/product]"
     ]
    },
    {
     "name": "stdout",
     "output_type": "stream",
     "text": [
      "Error fetching supplier for SKU 1247407002 after 5 retries: HTTPSConnectionPool(host='www2.hm.com', port=443): Max retries exceeded with url: /en_us/supplierDetails/articles/1247407002 (Caused by ResponseError('too many 400 error responses'))\n"
     ]
    },
    {
     "name": "stderr",
     "output_type": "stream",
     "text": [
      "Fetching Supplier Details:  97%|██████████████████████████████████████████▊ | 6294/6468 [3:42:21<19:18,  6.66s/product]"
     ]
    },
    {
     "name": "stdout",
     "output_type": "stream",
     "text": [
      "Error fetching supplier for SKU 1243139003 after 5 retries: HTTPSConnectionPool(host='www2.hm.com', port=443): Max retries exceeded with url: /en_us/supplierDetails/articles/1243139003 (Caused by ResponseError('too many 400 error responses'))\n"
     ]
    },
    {
     "name": "stderr",
     "output_type": "stream",
     "text": [
      "Fetching Supplier Details:  97%|██████████████████████████████████████████▉ | 6306/6468 [3:42:55<17:18,  6.41s/product]"
     ]
    },
    {
     "name": "stdout",
     "output_type": "stream",
     "text": [
      "Error fetching supplier for SKU 1235949002 after 5 retries: HTTPSConnectionPool(host='www2.hm.com', port=443): Max retries exceeded with url: /en_us/supplierDetails/articles/1235949002 (Caused by ResponseError('too many 400 error responses'))\n"
     ]
    },
    {
     "name": "stderr",
     "output_type": "stream",
     "text": [
      "Fetching Supplier Details:  98%|██████████████████████████████████████████▉ | 6316/6468 [3:43:21<15:01,  5.93s/product]"
     ]
    },
    {
     "name": "stdout",
     "output_type": "stream",
     "text": [
      "Error fetching supplier for SKU 1248812001 after 5 retries: HTTPSConnectionPool(host='www2.hm.com', port=443): Max retries exceeded with url: /en_us/supplierDetails/articles/1248812001 (Caused by ResponseError('too many 400 error responses'))\n"
     ]
    },
    {
     "name": "stderr",
     "output_type": "stream",
     "text": [
      "Fetching Supplier Details:  98%|██████████████████████████████████████████▉ | 6320/6468 [3:43:42<18:29,  7.50s/product]"
     ]
    },
    {
     "name": "stdout",
     "output_type": "stream",
     "text": [
      "Error fetching supplier for SKU 1263106001 after 5 retries: HTTPSConnectionPool(host='www2.hm.com', port=443): Max retries exceeded with url: /en_us/supplierDetails/articles/1263106001 (Caused by ResponseError('too many 400 error responses'))\n"
     ]
    },
    {
     "name": "stderr",
     "output_type": "stream",
     "text": [
      "Fetching Supplier Details:  98%|███████████████████████████████████████████ | 6328/6468 [3:44:02<13:51,  5.94s/product]"
     ]
    },
    {
     "name": "stdout",
     "output_type": "stream",
     "text": [
      "Error fetching supplier for SKU 1269804002 after 5 retries: HTTPSConnectionPool(host='www2.hm.com', port=443): Max retries exceeded with url: /en_us/supplierDetails/articles/1269804002 (Caused by ResponseError('too many 400 error responses'))\n"
     ]
    },
    {
     "name": "stderr",
     "output_type": "stream",
     "text": [
      "Fetching Supplier Details:  98%|███████████████████████████████████████████ | 6336/6468 [3:44:23<12:50,  5.83s/product]"
     ]
    },
    {
     "name": "stdout",
     "output_type": "stream",
     "text": [
      "Error fetching supplier for SKU 0971104027 after 5 retries: HTTPSConnectionPool(host='www2.hm.com', port=443): Max retries exceeded with url: /en_us/supplierDetails/articles/0971104027 (Caused by ResponseError('too many 400 error responses'))\n"
     ]
    },
    {
     "name": "stderr",
     "output_type": "stream",
     "text": [
      "Fetching Supplier Details:  98%|███████████████████████████████████████████▏| 6351/6468 [3:44:46<10:47,  5.53s/product]"
     ]
    },
    {
     "name": "stdout",
     "output_type": "stream",
     "text": [
      "Error fetching supplier for SKU 1236570001 after 5 retries: HTTPSConnectionPool(host='www2.hm.com', port=443): Max retries exceeded with url: /en_us/supplierDetails/articles/1236570001 (Caused by NewConnectionError('<urllib3.connection.HTTPSConnection object at 0x0000011418D41450>: Failed to establish a new connection: [WinError 10013] An attempt was made to access a socket in a way forbidden by its access permissions'))\n"
     ]
    },
    {
     "name": "stderr",
     "output_type": "stream",
     "text": [
      "Fetching Supplier Details:  99%|███████████████████████████████████████████▍| 6381/6468 [3:45:19<07:57,  5.49s/product]"
     ]
    },
    {
     "name": "stdout",
     "output_type": "stream",
     "text": [
      "Error fetching supplier for SKU 1280533003 after 5 retries: HTTPSConnectionPool(host='www2.hm.com', port=443): Max retries exceeded with url: /en_us/supplierDetails/articles/1280533003 (Caused by ResponseError('too many 400 error responses'))\n"
     ]
    },
    {
     "name": "stderr",
     "output_type": "stream",
     "text": [
      "Fetching Supplier Details:  99%|███████████████████████████████████████████▌| 6395/6468 [3:45:43<06:46,  5.57s/product]"
     ]
    },
    {
     "name": "stdout",
     "output_type": "stream",
     "text": [
      "Error fetching supplier for SKU 1248013002 after 5 retries: HTTPSConnectionPool(host='www2.hm.com', port=443): Max retries exceeded with url: /en_us/supplierDetails/articles/1248013002 (Caused by ResponseError('too many 400 error responses'))\n"
     ]
    },
    {
     "name": "stderr",
     "output_type": "stream",
     "text": [
      "Fetching Supplier Details:  99%|███████████████████████████████████████████▋| 6413/6468 [3:46:09<05:06,  5.56s/product]"
     ]
    },
    {
     "name": "stdout",
     "output_type": "stream",
     "text": [
      "Error fetching supplier for SKU 1017329001 after 5 retries: HTTPSConnectionPool(host='www2.hm.com', port=443): Max retries exceeded with url: /en_us/supplierDetails/articles/1017329001 (Caused by ResponseError('too many 400 error responses'))\n"
     ]
    },
    {
     "name": "stderr",
     "output_type": "stream",
     "text": [
      "Fetching Supplier Details:  99%|███████████████████████████████████████████▋| 6427/6468 [3:46:32<03:47,  5.55s/product]"
     ]
    },
    {
     "name": "stdout",
     "output_type": "stream",
     "text": [
      "Error fetching supplier for SKU 1247890004 after 5 retries: HTTPSConnectionPool(host='www2.hm.com', port=443): Max retries exceeded with url: /en_us/supplierDetails/articles/1247890004 (Caused by ResponseError('too many 400 error responses'))\n"
     ]
    },
    {
     "name": "stderr",
     "output_type": "stream",
     "text": [
      "Fetching Supplier Details:  99%|███████████████████████████████████████████▊| 6433/6468 [3:46:52<03:34,  6.12s/product]"
     ]
    },
    {
     "name": "stdout",
     "output_type": "stream",
     "text": [
      "Error fetching supplier for SKU 1016971001 after 5 retries: HTTPSConnectionPool(host='www2.hm.com', port=443): Max retries exceeded with url: /en_us/supplierDetails/articles/1016971001 (Caused by ResponseError('too many 400 error responses'))\n"
     ]
    },
    {
     "name": "stderr",
     "output_type": "stream",
     "text": [
      "Fetching Supplier Details: 100%|███████████████████████████████████████████▊| 6436/6468 [3:47:10<04:04,  7.65s/product]"
     ]
    },
    {
     "name": "stdout",
     "output_type": "stream",
     "text": [
      "Error fetching supplier for SKU 1236906003 after 5 retries: HTTPSConnectionPool(host='www2.hm.com', port=443): Max retries exceeded with url: /en_us/supplierDetails/articles/1236906003 (Caused by ResponseError('too many 400 error responses'))\n"
     ]
    },
    {
     "name": "stderr",
     "output_type": "stream",
     "text": [
      "Fetching Supplier Details: 100%|███████████████████████████████████████████▊| 6437/6468 [3:47:28<05:28, 10.60s/product]"
     ]
    },
    {
     "name": "stdout",
     "output_type": "stream",
     "text": [
      "Error fetching supplier for SKU 1244452005 after 5 retries: HTTPSConnectionPool(host='www2.hm.com', port=443): Max retries exceeded with url: /en_us/supplierDetails/articles/1244452005 (Caused by ResponseError('too many 400 error responses'))\n"
     ]
    },
    {
     "name": "stderr",
     "output_type": "stream",
     "text": [
      "Fetching Supplier Details: 100%|███████████████████████████████████████████▊| 6443/6468 [3:47:48<02:50,  6.81s/product]"
     ]
    },
    {
     "name": "stdout",
     "output_type": "stream",
     "text": [
      "Error fetching supplier for SKU 1252636002 after 5 retries: HTTPSConnectionPool(host='www2.hm.com', port=443): Max retries exceeded with url: /en_us/supplierDetails/articles/1252636002 (Caused by ResponseError('too many 400 error responses'))\n"
     ]
    },
    {
     "name": "stderr",
     "output_type": "stream",
     "text": [
      "Fetching Supplier Details: 100%|███████████████████████████████████████████▊| 6444/6468 [3:48:05<03:59,  9.97s/product]"
     ]
    },
    {
     "name": "stdout",
     "output_type": "stream",
     "text": [
      "Error fetching supplier for SKU 1090271038 after 5 retries: HTTPSConnectionPool(host='www2.hm.com', port=443): Max retries exceeded with url: /en_us/supplierDetails/articles/1090271038 (Caused by ResponseError('too many 400 error responses'))\n"
     ]
    },
    {
     "name": "stderr",
     "output_type": "stream",
     "text": [
      "Fetching Supplier Details: 100%|███████████████████████████████████████████▉| 6450/6468 [3:48:28<02:16,  7.57s/product]"
     ]
    },
    {
     "name": "stdout",
     "output_type": "stream",
     "text": [
      "Error fetching supplier for SKU 1268904001 after 5 retries: HTTPSConnectionPool(host='www2.hm.com', port=443): Max retries exceeded with url: /en_us/supplierDetails/articles/1268904001 (Caused by ResponseError('too many 400 error responses'))\n"
     ]
    },
    {
     "name": "stderr",
     "output_type": "stream",
     "text": [
      "Fetching Supplier Details: 100%|███████████████████████████████████████████▉| 6453/6468 [3:48:51<02:21,  9.45s/product]"
     ]
    },
    {
     "name": "stdout",
     "output_type": "stream",
     "text": [
      "Error fetching supplier for SKU 1240276001 after 5 retries: HTTPSConnectionPool(host='www2.hm.com', port=443): Max retries exceeded with url: /en_us/supplierDetails/articles/1240276001 (Caused by ResponseError('too many 400 error responses'))\n"
     ]
    },
    {
     "name": "stderr",
     "output_type": "stream",
     "text": [
      "Fetching Supplier Details: 100%|███████████████████████████████████████████▉| 6460/6468 [3:49:12<00:51,  6.41s/product]"
     ]
    },
    {
     "name": "stdout",
     "output_type": "stream",
     "text": [
      "Error fetching supplier for SKU 1229033001 after 5 retries: HTTPSConnectionPool(host='www2.hm.com', port=443): Max retries exceeded with url: /en_us/supplierDetails/articles/1229033001 (Caused by ResponseError('too many 400 error responses'))\n"
     ]
    },
    {
     "name": "stderr",
     "output_type": "stream",
     "text": [
      "Fetching Supplier Details: 100%|████████████████████████████████████████████| 6468/6468 [3:49:15<00:00,  2.13s/product]\n"
     ]
    },
    {
     "name": "stdout",
     "output_type": "stream",
     "text": [
      "\n",
      "Sample data:\n",
      "           id         sku                  name brandName  \\\n",
      "0  1297396001  1297396001          A-Line Skirt       H&M   \n",
      "1  1268173005  1268173005  Cotton Strappy Dress       H&M   \n",
      "2  1274174023  1274174023     Oversized T-Shirt       H&M   \n",
      "3  1297395001  1297395001  Tie-Back Bandeau Top       H&M   \n",
      "4  1290168003  1290168003  Denim Pull-On Shorts       H&M   \n",
      "\n",
      "                                  url  \\\n",
      "0  /en_us/productpage.1297396001.html   \n",
      "1  /en_us/productpage.1268173005.html   \n",
      "2  /en_us/productpage.1274174023.html   \n",
      "3  /en_us/productpage.1297395001.html   \n",
      "4  /en_us/productpage.1290168003.html   \n",
      "\n",
      "                                       canonical_url  final_price_value  \\\n",
      "0  https://www2.hm.com/en_us/productpage.12973960...              42.99   \n",
      "1  https://www2.hm.com/en_us/productpage.12681730...              49.99   \n",
      "2  https://www2.hm.com/en_us/productpage.12741740...              17.99   \n",
      "3  https://www2.hm.com/en_us/productpage.12973950...              24.99   \n",
      "4  https://www2.hm.com/en_us/productpage.12901680...              24.99   \n",
      "\n",
      "  final_price_currency  regular_price_value regular_price_currency  ...  \\\n",
      "0                    $                42.99                      $  ...   \n",
      "1                    $                49.99                      $  ...   \n",
      "2                    $                17.99                      $  ...   \n",
      "3                    $                24.99                      $  ...   \n",
      "4                    $                24.99                      $  ...   \n",
      "\n",
      "   sellingAttribute  newArrival isSale  \\\n",
      "0       New Arrival        True  False   \n",
      "1       New Arrival        True  False   \n",
      "2       New Arrival        True  False   \n",
      "3       New Arrival        True  False   \n",
      "4       New Arrival        True  False   \n",
      "\n",
      "                                          modelImage  colors supplier_country  \\\n",
      "0  https://image.hm.com/assets/hm/cc/b2/ccb2d6b3c...  ECE7E1            China   \n",
      "1  https://image.hm.com/assets/hm/7f/19/7f19e83a8...  ECE7E1            China   \n",
      "2  https://image.hm.com/assets/hm/03/c9/03c9deb05...  2A5697       Bangladesh   \n",
      "3  https://image.hm.com/assets/hm/a2/1a/a21abc737...  ECE7E1            China   \n",
      "4  https://image.hm.com/assets/hm/6d/e4/6de441dc8...  80AAD8            China   \n",
      "\n",
      "                        supplier_name                         factory_name  \\\n",
      "0  HANGZHOU JIAYI GARMENT COMPANY LTD   HANGZHOU JIAYI GARMENT COMPANY LTD   \n",
      "1  HANGZHOU JIAYI GARMENT COMPANY LTD  Hangzhou New Guanshi Garment Co.,Ld   \n",
      "2                  HAMS GARMENTS LTD.                    HAMS FASHIONS LTD   \n",
      "3  HANGZHOU JIAYI GARMENT COMPANY LTD    Xuancheng Jinning Fashion Co.,Ltd   \n",
      "4        Qingdao HYC Apparel Co., Ltd         Qingdao HYC Apparel Co., Ltd   \n",
      "\n",
      "                                     factory_address factory_workers_number  \n",
      "0  No 559, Yingbin Road, Yuhang District, 311100,...              1001-1500  \n",
      "1  No. 87, Lianhe Bridge, Hemu Bridge Village Ind...                101-500  \n",
      "2  South Vangahati, Boiragirchala, Sreepur,, 1740...              1001-1500  \n",
      "3  No.1 Jinqiao Avenue, Xuancheng Economy Develop...                101-500  \n",
      "4  Taiwan Agricultural Economy, Development Area,...               501-1000  \n",
      "\n",
      "[5 rows x 29 columns]\n",
      "\n",
      "DataFrame columns:\n",
      "Index(['id', 'sku', 'name', 'brandName', 'url', 'canonical_url',\n",
      "       'final_price_value', 'final_price_currency', 'regular_price_value',\n",
      "       'regular_price_currency', 'in_stock', 'coming_soon', 'all_image_data',\n",
      "       'swatch_data', 'colorName_main', 'colorCode_main', 'colourShades',\n",
      "       'available_sizes', 'mainCatCode', 'sellingAttribute', 'newArrival',\n",
      "       'isSale', 'modelImage', 'colors', 'supplier_country', 'supplier_name',\n",
      "       'factory_name', 'factory_address', 'factory_workers_number'],\n",
      "      dtype='object')\n",
      "Data saved to HnM_CLOTHING_LADIES_USA_010725.csv. Total products with data: 6468\n"
     ]
    }
   ],
   "source": [
    "\n",
    "# API calls\n",
    "headers = {\n",
    "    'Accept': 'application/json',\n",
    "    'Accept-Language': 'en-GB,en-US;q=0.9,en;q=0.8,id;q=0.7,ms;q=0.6',\n",
    "    'Cache-Control': 'no-cache',\n",
    "    'Origin': 'https://www2.hm.com',\n",
    "    'Pragma': 'no-cache',\n",
    "    'Priority': 'u=1, i',\n",
    "    'Referer': 'https://www2.hm.com/',\n",
    "    'Sec-Ch-Ua': '\"Google Chrome\";v=\"137\", \"Chromium\";v=\"137\", \"Not/A)Brand\";v=\"24\"',\n",
    "    'Sec-Ch-Ua-Mobile': '?0',\n",
    "    'Sec-Ch-Ua-Platform': '\"Windows\"',\n",
    "    'Sec-Fetch-Dest': 'empty',\n",
    "    'Sec-Fetch-Mode': 'cors',\n",
    "    'Sec-Fetch-Site': 'same-site',\n",
    "    'User-Agent': 'Mozilla/5.0 (Windows NT 10.0; Win64; x64) AppleWebKit/537.36 (KHTML, like Gecko) Chrome/137.0.0.0 Safari/537.36',\n",
    "    'X-Customer-Key': 'd150a6cc-6e04-4804-8447-3ab67460a1d9',\n",
    "    'X-Session-Key': 'd150a6cc-6e04-4804-8447-3ab67460a1d9',\n",
    "}\n",
    "\n",
    "# Base URL\n",
    "product_list_base_url = 'https://api.hm.com/search-services/v1/en_us/listing/resultpage'\n",
    "\n",
    "# Base URL supplier details GET request\n",
    "supplier_detail_base_url = 'https://www2.hm.com/en_us/supplierDetails/articles/'\n",
    "\n",
    "# Base parameters\n",
    "base_params = {\n",
    "    'pageSource': 'PLP',\n",
    "    'page': 1, \n",
    "    'sort': 'RELEVANCE',\n",
    "    'pageId': '/ladies/shop-by-product/view-all',\n",
    "    'page-size': 36,\n",
    "    'categoryId': 'ladies_all',\n",
    "    'filters': 'sale:false||oldSale:false',\n",
    "    'touchPoint': 'DESKTOP',\n",
    "    'skipStockCheck': 'false',\n",
    "}\n",
    "\n",
    "# Max retries for a request\n",
    "RETRY_MAX = 5\n",
    "# Status codes to retry on (400 Client Error, 5xx Server Errors, etc)\n",
    "RETRY_STATUS_FORCELIST = [400, 401, 403, 404, 408, 429, 500, 502, 503, 504]\n",
    "RETRY_BACKOFF_FACTOR = 0.5 # 0.5, 1, 2, 4, 8 seconds\n",
    "\n",
    "session = requests.Session()\n",
    "retries = Retry(total=RETRY_MAX,\n",
    "                backoff_factor=RETRY_BACKOFF_FACTOR,\n",
    "                status_forcelist=RETRY_STATUS_FORCELIST,\n",
    "                allowed_methods=frozenset(['GET', 'POST']))\n",
    "\n",
    "session.mount('http://', HTTPAdapter(max_retries=retries))\n",
    "session.mount('https://', HTTPAdapter(max_retries=retries))\n",
    "\n",
    "\n",
    "# --- Product Listing Scraping Loop ---\n",
    "all_products_raw = []\n",
    "current_page = 1\n",
    "total_pages = 1 \n",
    "\n",
    "while current_page <= total_pages:\n",
    "    print(f\"Scraping product listing page {current_page}...\")\n",
    "\n",
    "    request_params = base_params.copy()\n",
    "    request_params['page'] = current_page\n",
    "\n",
    "    try:\n",
    "        # Use session.get() instead of requests.get() to utilize retry logic\n",
    "        response = session.get(product_list_base_url, headers=headers, params=request_params)\n",
    "        response.raise_for_status() \n",
    "        data = response.json()\n",
    "\n",
    "        if current_page == 1:\n",
    "            print(\"\\n--- FIRST PRODUCT LISTING PAGE RAW JSON RESPONSE (for debugging) ---\")\n",
    "            print(json.dumps(data, indent=2)[:2000])\n",
    "            print(\"--------------------------------------------------------------------\\n\")\n",
    "\n",
    "        total_count_found = data.get('totalResultCount', 0)\n",
    "        pagination_info = data.get('pagination', {})\n",
    "        total_pages_found = pagination_info.get('totalPages', current_page)\n",
    "        \n",
    "        products_on_page = data.get('plpList', {}).get('productList', []) \n",
    "        \n",
    "        if current_page == 1:\n",
    "            total_count = total_count_found\n",
    "            total_pages = total_pages_found\n",
    "            if total_count == 0 and total_pages > 0 and len(products_on_page) > 0:\n",
    "                 total_count = total_pages * base_params['page-size']\n",
    "            \n",
    "            print(f\"Total products (extracted, potentially estimated): {total_count}, Total pages (extracted): {total_pages}\")\n",
    "            \n",
    "            if not products_on_page and total_count > 0:\n",
    "                print(\"Warning: API returned total products > 0 but no items found on this page via 'plpList.productList'. Exiting.\")\n",
    "                break \n",
    "\n",
    "        all_products_raw.extend(products_on_page)\n",
    "\n",
    "        current_page += 1\n",
    "        time.sleep(0.5)\n",
    "        if current_page > total_pages:\n",
    "            break\n",
    "\n",
    "    except requests.exceptions.RequestException as e:\n",
    "        print(f\"Error during product listing request on page {current_page}: {e}\")\n",
    "        break \n",
    "    except json.JSONDecodeError:\n",
    "        print(f\"Error decoding JSON response on page {current_page}. Response content: {response.text[:500]}...\")\n",
    "        break\n",
    "    except KeyError as e:\n",
    "        print(f\"Key error in product listing response on page {current_page}: {e}. Response JSON: {json.dumps(data, indent=2)[:500]}...\")\n",
    "        break\n",
    "\n",
    "print(f\"Finished scraping {len(all_products_raw)} raw product entries.\")\n",
    "\n",
    "# Data Flattening \n",
    "flattened_products = []\n",
    "for i, item in enumerate(tqdm(all_products_raw, desc=\"Fetching Supplier Details\", unit=\"product\")):\n",
    "    product_info = {}\n",
    "\n",
    "    product_info['id'] = item.get('id') \n",
    "    product_info['sku'] = item.get('articleId') \n",
    "    if not product_info['sku']:\n",
    "        product_info['sku'] = item.get('id')\n",
    "        \n",
    "    product_info['name'] = item.get('productName') \n",
    "    product_info['brandName'] = item.get('brandName') \n",
    "    product_info['url'] = item.get('url') \n",
    "    product_info['canonical_url'] = f\"https://www2.hm.com{item.get('url')}\" if item.get('url') else None\n",
    "\n",
    "    prices_list = item.get('prices', [])\n",
    "    if prices_list:\n",
    "        main_price = prices_list[0]\n",
    "        product_info['final_price_value'] = main_price.get('price')\n",
    "        formatted_price = main_price.get('formattedPrice', '')\n",
    "        if formatted_price:\n",
    "            currency_match = re.match(r'^\\W+', formatted_price)\n",
    "            product_info['final_price_currency'] = currency_match.group(0).strip() if currency_match else None\n",
    "        else:\n",
    "            product_info['final_price_currency'] = None\n",
    "\n",
    "        product_info['regular_price_value'] = main_price.get('price')\n",
    "        product_info['regular_price_currency'] = product_info['final_price_currency']\n",
    "\n",
    "    availability_info = item.get('availability', {})\n",
    "    product_info['in_stock'] = availability_info.get('stockState') == 'Available'\n",
    "    product_info['coming_soon'] = availability_info.get('comingSoon')\n",
    "\n",
    "    images_list = item.get('images', [])\n",
    "    image_urls_parsed = [{'url': img.get('url')} for img in images_list]\n",
    "    product_info['all_image_data'] = json.dumps(image_urls_parsed)\n",
    "\n",
    "    swatches_list = item.get('swatches', [])\n",
    "    swatch_data = []\n",
    "    for swatch in swatches_list:\n",
    "        swatch_data.append({\n",
    "            'articleId': swatch.get('articleId'),\n",
    "            'url': f\"https://www2.hm.com{swatch.get('url')}\" if swatch.get('url') else None,\n",
    "            'colorName': swatch.get('colorName'),\n",
    "            'colorCode': swatch.get('colorCode'),\n",
    "            'productImage': swatch.get('productImage')\n",
    "        })\n",
    "    product_info['swatch_data'] = json.dumps(swatch_data)\n",
    "    \n",
    "    product_info['colorName_main'] = item.get('colorName')\n",
    "    product_info['colorCode_main'] = item.get('colorCode')\n",
    "    product_info['colourShades'] = item.get('colourShades')\n",
    "\n",
    "    sizes_list = item.get('sizes', [])\n",
    "    size_data = [{'id': size.get('id'), 'label': size.get('label')} for size in sizes_list]\n",
    "    product_info['available_sizes'] = json.dumps(size_data)\n",
    "\n",
    "    product_info['mainCatCode'] = item.get('mainCatCode')\n",
    "    product_info['sellingAttribute'] = item.get('sellingAttribute')\n",
    "    product_info['newArrival'] = item.get('newArrival')\n",
    "    product_info['isSale'] = item.get('isSale', False)\n",
    "    product_info['modelImage'] = item.get('modelImage')\n",
    "    product_info['colors'] = item.get('colors')\n",
    "\n",
    "    # Supplier Details\n",
    "    supplier_country = None\n",
    "    supplier_name = None\n",
    "    factory_name = None\n",
    "    factory_address = None\n",
    "    workers_number = None\n",
    "\n",
    "    if product_info['sku']: \n",
    "        supplier_detail_url = f\"{supplier_detail_base_url}{product_info['sku']}\"\n",
    "        try:\n",
    "            supplier_response = session.get(supplier_detail_url, headers=headers)\n",
    "            supplier_response.raise_for_status() \n",
    "            supplier_data = supplier_response.json()\n",
    "\n",
    "            countries = supplier_data.get('countries', [])\n",
    "            if countries:\n",
    "                first_country = countries[0]\n",
    "                supplier_country = first_country.get('name')\n",
    "                \n",
    "                suppliers = first_country.get('suppliers', [])\n",
    "                if suppliers:\n",
    "                    first_supplier = suppliers[0]\n",
    "                    supplier_name = first_supplier.get('name')\n",
    "                    \n",
    "                    factories = first_supplier.get('factories', [])\n",
    "                    if factories:\n",
    "                        first_factory = factories[0]\n",
    "                        factory_name = first_factory.get('name')\n",
    "                        factory_address = first_factory.get('address')\n",
    "                        workers_number = first_factory.get('workersNumber')\n",
    "            \n",
    "        except requests.exceptions.RequestException as e:\n",
    "            tqdm.write(f\"Error fetching supplier for SKU {product_info['sku']} after {RETRY_MAX} retries: {e}\")\n",
    "        except json.JSONDecodeError:\n",
    "            tqdm.write(f\"Error decoding supplier JSON for SKU {product_info['sku']}. Response: {supplier_response.text[:100]}...\")\n",
    "        except Exception as e:\n",
    "            tqdm.write(f\"Unexpected error parsing supplier data for SKU {product_info['sku']}: {e}\")\n",
    "\n",
    "\n",
    "    product_info['supplier_country'] = supplier_country\n",
    "    product_info['supplier_name'] = supplier_name\n",
    "    product_info['factory_name'] = factory_name\n",
    "    product_info['factory_address'] = factory_address\n",
    "    product_info['factory_workers_number'] = workers_number\n",
    "\n",
    "    flattened_products.append(product_info)\n",
    "\n",
    "df = pd.DataFrame(flattened_products)\n",
    "print(\"\\nSample data:\")\n",
    "print(df.head())\n",
    "print(\"\\nDataFrame columns:\")\n",
    "print(df.columns)\n",
    "\n",
    "df.to_csv('HnM_CLOTHING_LADIES_USA_010725.csv.csv', index=False, encoding='utf-8')\n",
    "print(f\"Data saved to HnM_CLOTHING_LADIES_USA_010725.csv. Total products with data: {len(df)}\")"
   ]
  }
 ],
 "metadata": {
  "kernelspec": {
   "display_name": "Python 3 (ipykernel)",
   "language": "python",
   "name": "python3"
  },
  "language_info": {
   "codemirror_mode": {
    "name": "ipython",
    "version": 3
   },
   "file_extension": ".py",
   "mimetype": "text/x-python",
   "name": "python",
   "nbconvert_exporter": "python",
   "pygments_lexer": "ipython3",
   "version": "3.13.2"
  }
 },
 "nbformat": 4,
 "nbformat_minor": 5
}
