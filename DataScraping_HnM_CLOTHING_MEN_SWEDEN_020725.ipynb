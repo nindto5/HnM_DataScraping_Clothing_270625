{
 "cells": [
  {
   "cell_type": "code",
   "execution_count": 2,
   "id": "a868e61f-1644-4abc-add0-60f57b2cf4af",
   "metadata": {},
   "outputs": [],
   "source": [
    "import requests\n",
    "import json\n",
    "import time\n",
    "import pandas as pd\n",
    "import re \n",
    "from tqdm import tqdm\n",
    "from requests.adapters import HTTPAdapter\n",
    "from urllib3.util.retry import Retry"
   ]
  },
  {
   "cell_type": "code",
   "execution_count": 3,
   "id": "a1a3932e-32ff-4477-9d4b-a34b99862ae7",
   "metadata": {},
   "outputs": [
    {
     "name": "stdout",
     "output_type": "stream",
     "text": [
      "Scraping product listing page 1...\n",
      "\n",
      "--- FIRST PRODUCT LISTING PAGE RAW JSON RESPONSE (for debugging) ---\n",
      "{\n",
      "  \"requestDateTime\": \"2025-07-02T01:20:22.384Z\",\n",
      "  \"responseSource\": \"Elevate\",\n",
      "  \"pagination\": {\n",
      "    \"currentPage\": 1,\n",
      "    \"nextPageNum\": 2,\n",
      "    \"totalPages\": 72\n",
      "  },\n",
      "  \"plpList\": {\n",
      "    \"productList\": [\n",
      "      {\n",
      "        \"id\": \"1286182003\",\n",
      "        \"trackingId\": \"OzU7IzsxMjg2MTgyMDAzOyM7IzsvZmFzaGlvbi9ERVNLVE9QL0xBTkRJTkdfUEFHRS9OQVZJR0FUSU9OX1JFU1VMVDsjOyM7T0JKRUNUSVZFJDsxOzc5OyM7IzsvbWVuL3Nob3AtYnktcHJvZHVjdC92aWV3LWFsbDs_e4\",\n",
      "        \"productName\": \"Resortskjorta i linmix Regular Fit\",\n",
      "        \"external\": false,\n",
      "        \"brandName\": \"H&M\",\n",
      "        \"url\": \"/sv_se/productpage.1286182003.html\",\n",
      "        \"showPriceMarker\": false,\n",
      "        \"prices\": [\n",
      "          {\n",
      "            \"priceType\": \"whitePrice\",\n",
      "            \"price\": 399.0,\n",
      "            \"minPrice\": 399.0,\n",
      "            \"maxPrice\": 399.0,\n",
      "            \"formattedPrice\": \"399,00 kr.\"\n",
      "          }\n",
      "        ],\n",
      "        \"availability\": {\n",
      "          \"stockState\": \"Available\",\n",
      "          \"comingSoon\": false\n",
      "        },\n",
      "        \"swatches\": [\n",
      "          {\n",
      "            \"articleId\": \"1286182003\",\n",
      "            \"url\": \"/sv_se/productpage.1286182003.html\",\n",
      "            \"colorName\": \"M\\u00f6rkbeige\",\n",
      "            \"colorCode\": \"726A5D\",\n",
      "            \"trackingId\": \"OzU7IzsxMjg2MTgyMDAzOyM7IzsvZmFzaGlvbi9ERVNLVE9QL0xBTkRJTkdfUEFHRS9OQVZJR0FUSU9OX1JFU1VMVDsjOyM7T0JKRUNUSVZFJDsxOzc5OyM7IzsvbWVuL3Nob3AtYnktcHJvZHVjdC92aWV3LWFsbDs_e4\",\n",
      "            \"productImage\": \"https://image.hm.com/assets/hm/e6/ed/e6ed9c5530a6b9408436ccc4cd8252a4b1569522.jpg\"\n",
      "          },\n",
      "          {\n",
      "            \"articleId\": \"1286182002\",\n",
      "            \"url\": \"/sv_se/productpage.1286182002.html\",\n",
      "            \"colorName\": \"Salviagr\\u00f6n\",\n",
      "            \"colorCode\": \"8D8C81\",\n",
      "            \"trackingId\": \"OzU7IzsxMjg2MTgyMDAyOyM7IzsvZmFzaGlvbi9ERVNLVE9QL0xBTkRJTkdfUEFHRS9OQVZJR0FUSU9OX1JFU1VMVDsjOyM7T0JKRUNUSVZFJDsxOzc5OyM7IzsvbWVuL3Nob3AtYnktcHJvZHVjdC92aWV3LWFsbDs_e4\",\n",
      "            \"productImage\": \"https://image.hm.com/assets/hm/a0/69/a069abdba3c10ab13657bc2806fd2025cf4ed0da.jpg\"\n",
      "        \n",
      "--------------------------------------------------------------------\n",
      "\n",
      "Total products (extracted, potentially estimated): 2592, Total pages (extracted): 72\n",
      "Scraping product listing page 2...\n",
      "Scraping product listing page 3...\n",
      "Scraping product listing page 4...\n",
      "Scraping product listing page 5...\n",
      "Scraping product listing page 6...\n",
      "Scraping product listing page 7...\n",
      "Scraping product listing page 8...\n",
      "Scraping product listing page 9...\n",
      "Scraping product listing page 10...\n",
      "Scraping product listing page 11...\n",
      "Scraping product listing page 12...\n",
      "Scraping product listing page 13...\n",
      "Scraping product listing page 14...\n",
      "Scraping product listing page 15...\n",
      "Scraping product listing page 16...\n",
      "Scraping product listing page 17...\n",
      "Scraping product listing page 18...\n",
      "Scraping product listing page 19...\n",
      "Scraping product listing page 20...\n",
      "Scraping product listing page 21...\n",
      "Scraping product listing page 22...\n",
      "Scraping product listing page 23...\n",
      "Scraping product listing page 24...\n",
      "Scraping product listing page 25...\n",
      "Scraping product listing page 26...\n",
      "Scraping product listing page 27...\n",
      "Scraping product listing page 28...\n",
      "Scraping product listing page 29...\n",
      "Scraping product listing page 30...\n",
      "Scraping product listing page 31...\n",
      "Scraping product listing page 32...\n",
      "Scraping product listing page 33...\n",
      "Scraping product listing page 34...\n",
      "Scraping product listing page 35...\n",
      "Scraping product listing page 36...\n",
      "Scraping product listing page 37...\n",
      "Scraping product listing page 38...\n",
      "Scraping product listing page 39...\n",
      "Scraping product listing page 40...\n",
      "Scraping product listing page 41...\n",
      "Scraping product listing page 42...\n",
      "Scraping product listing page 43...\n",
      "Scraping product listing page 44...\n",
      "Scraping product listing page 45...\n",
      "Scraping product listing page 46...\n",
      "Scraping product listing page 47...\n",
      "Scraping product listing page 48...\n",
      "Scraping product listing page 49...\n",
      "Scraping product listing page 50...\n",
      "Scraping product listing page 51...\n",
      "Scraping product listing page 52...\n",
      "Scraping product listing page 53...\n",
      "Scraping product listing page 54...\n",
      "Scraping product listing page 55...\n",
      "Scraping product listing page 56...\n",
      "Scraping product listing page 57...\n",
      "Scraping product listing page 58...\n",
      "Scraping product listing page 59...\n",
      "Scraping product listing page 60...\n",
      "Scraping product listing page 61...\n",
      "Scraping product listing page 62...\n",
      "Scraping product listing page 63...\n",
      "Scraping product listing page 64...\n",
      "Scraping product listing page 65...\n",
      "Scraping product listing page 66...\n",
      "Scraping product listing page 67...\n",
      "Scraping product listing page 68...\n",
      "Scraping product listing page 69...\n",
      "Scraping product listing page 70...\n",
      "Scraping product listing page 71...\n",
      "Scraping product listing page 72...\n",
      "Finished scraping 2588 raw product entries.\n"
     ]
    },
    {
     "name": "stderr",
     "output_type": "stream",
     "text": [
      "Fetching Supplier Details:   1%|▍                                             | 24/2588 [00:29<4:02:18,  5.67s/product]"
     ]
    },
    {
     "name": "stdout",
     "output_type": "stream",
     "text": [
      "Error fetching supplier for SKU 1258318006 after 5 retries: HTTPSConnectionPool(host='www2.hm.com', port=443): Max retries exceeded with url: /sv_se/supplierDetails/articles/1258318006 (Caused by ResponseError('too many 400 error responses'))\n"
     ]
    },
    {
     "name": "stderr",
     "output_type": "stream",
     "text": [
      "Fetching Supplier Details:   4%|█▋                                            | 96/2588 [01:29<3:58:38,  5.75s/product]"
     ]
    },
    {
     "name": "stdout",
     "output_type": "stream",
     "text": [
      "Error fetching supplier for SKU 1258318001 after 5 retries: HTTPSConnectionPool(host='www2.hm.com', port=443): Max retries exceeded with url: /sv_se/supplierDetails/articles/1258318001 (Caused by ResponseError('too many 400 error responses'))\n"
     ]
    },
    {
     "name": "stderr",
     "output_type": "stream",
     "text": [
      "Fetching Supplier Details:   4%|██                                           | 116/2588 [02:11<4:56:50,  7.20s/product]"
     ]
    },
    {
     "name": "stdout",
     "output_type": "stream",
     "text": [
      "Error fetching supplier for SKU 1258318002 after 5 retries: HTTPSConnectionPool(host='www2.hm.com', port=443): Max retries exceeded with url: /sv_se/supplierDetails/articles/1258318002 (Caused by ResponseError('too many 400 error responses'))\n"
     ]
    },
    {
     "name": "stderr",
     "output_type": "stream",
     "text": [
      "Fetching Supplier Details:   5%|██▏                                          | 123/2588 [02:33<4:17:30,  6.27s/product]"
     ]
    },
    {
     "name": "stdout",
     "output_type": "stream",
     "text": [
      "Error fetching supplier for SKU 1256946001 after 5 retries: HTTPSConnectionPool(host='www2.hm.com', port=443): Max retries exceeded with url: /sv_se/supplierDetails/articles/1256946001 (Caused by ResponseError('too many 400 error responses'))\n"
     ]
    },
    {
     "name": "stderr",
     "output_type": "stream",
     "text": [
      "Fetching Supplier Details:   5%|██▏                                          | 125/2588 [02:51<5:45:27,  8.42s/product]"
     ]
    },
    {
     "name": "stdout",
     "output_type": "stream",
     "text": [
      "Error fetching supplier for SKU 1129809021 after 5 retries: HTTPSConnectionPool(host='www2.hm.com', port=443): Max retries exceeded with url: /sv_se/supplierDetails/articles/1129809021 (Caused by ResponseError('too many 400 error responses'))\n"
     ]
    },
    {
     "name": "stderr",
     "output_type": "stream",
     "text": [
      "Fetching Supplier Details:   5%|██▎                                          | 132/2588 [03:16<4:24:06,  6.45s/product]"
     ]
    },
    {
     "name": "stdout",
     "output_type": "stream",
     "text": [
      "Error fetching supplier for SKU 1256945010 after 5 retries: HTTPSConnectionPool(host='www2.hm.com', port=443): Max retries exceeded with url: /sv_se/supplierDetails/articles/1256945010 (Caused by ResponseError('too many 400 error responses'))\n"
     ]
    },
    {
     "name": "stderr",
     "output_type": "stream",
     "text": [
      "Fetching Supplier Details:   5%|██▍                                          | 138/2588 [03:36<4:21:41,  6.41s/product]"
     ]
    },
    {
     "name": "stdout",
     "output_type": "stream",
     "text": [
      "Error fetching supplier for SKU 1256945002 after 5 retries: HTTPSConnectionPool(host='www2.hm.com', port=443): Max retries exceeded with url: /sv_se/supplierDetails/articles/1256945002 (Caused by ResponseError('too many 400 error responses'))\n"
     ]
    },
    {
     "name": "stderr",
     "output_type": "stream",
     "text": [
      "Fetching Supplier Details:   5%|██▍                                          | 141/2588 [03:55<5:18:55,  7.82s/product]"
     ]
    },
    {
     "name": "stdout",
     "output_type": "stream",
     "text": [
      "Error fetching supplier for SKU 1256946008 after 5 retries: HTTPSConnectionPool(host='www2.hm.com', port=443): Max retries exceeded with url: /sv_se/supplierDetails/articles/1256946008 (Caused by ResponseError('too many 400 error responses'))\n"
     ]
    },
    {
     "name": "stderr",
     "output_type": "stream",
     "text": [
      "Fetching Supplier Details:   5%|██▍                                          | 142/2588 [04:13<7:18:42, 10.76s/product]"
     ]
    },
    {
     "name": "stdout",
     "output_type": "stream",
     "text": [
      "Error fetching supplier for SKU 1290111001 after 5 retries: HTTPSConnectionPool(host='www2.hm.com', port=443): Max retries exceeded with url: /sv_se/supplierDetails/articles/1290111001 (Caused by ResponseError('too many 400 error responses'))\n"
     ]
    },
    {
     "name": "stderr",
     "output_type": "stream",
     "text": [
      "Fetching Supplier Details:   6%|██▌                                          | 148/2588 [04:33<4:36:19,  6.79s/product]"
     ]
    },
    {
     "name": "stdout",
     "output_type": "stream",
     "text": [
      "Error fetching supplier for SKU 1256945010 after 5 retries: HTTPSConnectionPool(host='www2.hm.com', port=443): Max retries exceeded with url: /sv_se/supplierDetails/articles/1256945010 (Caused by ResponseError('too many 400 error responses'))\n"
     ]
    },
    {
     "name": "stderr",
     "output_type": "stream",
     "text": [
      "Fetching Supplier Details:   6%|██▋                                          | 151/2588 [04:51<5:14:50,  7.75s/product]"
     ]
    },
    {
     "name": "stdout",
     "output_type": "stream",
     "text": [
      "Error fetching supplier for SKU 1256946001 after 5 retries: HTTPSConnectionPool(host='www2.hm.com', port=443): Max retries exceeded with url: /sv_se/supplierDetails/articles/1256946001 (Caused by ResponseError('too many 400 error responses'))\n"
     ]
    },
    {
     "name": "stderr",
     "output_type": "stream",
     "text": [
      "Fetching Supplier Details:   6%|██▋                                          | 156/2588 [05:11<4:37:45,  6.85s/product]"
     ]
    },
    {
     "name": "stdout",
     "output_type": "stream",
     "text": [
      "Error fetching supplier for SKU 1256946008 after 5 retries: HTTPSConnectionPool(host='www2.hm.com', port=443): Max retries exceeded with url: /sv_se/supplierDetails/articles/1256946008 (Caused by ResponseError('too many 400 error responses'))\n"
     ]
    },
    {
     "name": "stderr",
     "output_type": "stream",
     "text": [
      "Fetching Supplier Details:   8%|███▋                                         | 214/2588 [05:59<2:52:58,  4.37s/product]"
     ]
    },
    {
     "name": "stdout",
     "output_type": "stream",
     "text": [
      "Error fetching supplier for SKU 1263284002 after 5 retries: HTTPSConnectionPool(host='www2.hm.com', port=443): Max retries exceeded with url: /sv_se/supplierDetails/articles/1263284002 (Caused by ResponseError('too many 400 error responses'))\n"
     ]
    },
    {
     "name": "stderr",
     "output_type": "stream",
     "text": [
      "Fetching Supplier Details:   9%|███▊                                         | 221/2588 [06:21<3:07:34,  4.75s/product]"
     ]
    },
    {
     "name": "stdout",
     "output_type": "stream",
     "text": [
      "Error fetching supplier for SKU 1070272011 after 5 retries: HTTPSConnectionPool(host='www2.hm.com', port=443): Max retries exceeded with url: /sv_se/supplierDetails/articles/1070272011 (Caused by ResponseError('too many 400 error responses'))\n"
     ]
    },
    {
     "name": "stderr",
     "output_type": "stream",
     "text": [
      "Fetching Supplier Details:   9%|████                                         | 232/2588 [06:43<3:40:16,  5.61s/product]"
     ]
    },
    {
     "name": "stdout",
     "output_type": "stream",
     "text": [
      "Error fetching supplier for SKU 1268118004 after 5 retries: HTTPSConnectionPool(host='www2.hm.com', port=443): Max retries exceeded with url: /sv_se/supplierDetails/articles/1268118004 (Caused by ResponseError('too many 400 error responses'))\n"
     ]
    },
    {
     "name": "stderr",
     "output_type": "stream",
     "text": [
      "Fetching Supplier Details:   9%|████                                         | 237/2588 [07:03<4:17:04,  6.56s/product]"
     ]
    },
    {
     "name": "stdout",
     "output_type": "stream",
     "text": [
      "Error fetching supplier for SKU 1258123002 after 5 retries: HTTPSConnectionPool(host='www2.hm.com', port=443): Max retries exceeded with url: /sv_se/supplierDetails/articles/1258123002 (Caused by ResponseError('too many 400 error responses'))\n"
     ]
    },
    {
     "name": "stderr",
     "output_type": "stream",
     "text": [
      "Fetching Supplier Details:  10%|████▎                                        | 249/2588 [07:25<3:37:58,  5.59s/product]"
     ]
    },
    {
     "name": "stdout",
     "output_type": "stream",
     "text": [
      "Error fetching supplier for SKU 1263284001 after 5 retries: HTTPSConnectionPool(host='www2.hm.com', port=443): Max retries exceeded with url: /sv_se/supplierDetails/articles/1263284001 (Caused by ResponseError('too many 400 error responses'))\n"
     ]
    },
    {
     "name": "stderr",
     "output_type": "stream",
     "text": [
      "Fetching Supplier Details:  10%|████▎                                        | 251/2588 [07:44<5:22:55,  8.29s/product]"
     ]
    },
    {
     "name": "stdout",
     "output_type": "stream",
     "text": [
      "Error fetching supplier for SKU 1070268017 after 5 retries: HTTPSConnectionPool(host='www2.hm.com', port=443): Max retries exceeded with url: /sv_se/supplierDetails/articles/1070268017 (Caused by ResponseError('too many 400 error responses'))\n"
     ]
    },
    {
     "name": "stderr",
     "output_type": "stream",
     "text": [
      "Fetching Supplier Details:  10%|████▌                                        | 261/2588 [08:05<3:41:58,  5.72s/product]"
     ]
    },
    {
     "name": "stdout",
     "output_type": "stream",
     "text": [
      "Error fetching supplier for SKU 0967955133 after 5 retries: HTTPSConnectionPool(host='www2.hm.com', port=443): Max retries exceeded with url: /sv_se/supplierDetails/articles/0967955133 (Caused by ResponseError('too many 400 error responses'))\n"
     ]
    },
    {
     "name": "stderr",
     "output_type": "stream",
     "text": [
      "Fetching Supplier Details:  11%|█████                                        | 288/2588 [08:34<3:31:14,  5.51s/product]"
     ]
    },
    {
     "name": "stdout",
     "output_type": "stream",
     "text": [
      "Error fetching supplier for SKU 1258973004 after 5 retries: HTTPSConnectionPool(host='www2.hm.com', port=443): Max retries exceeded with url: /sv_se/supplierDetails/articles/1258973004 (Caused by ResponseError('too many 400 error responses'))\n"
     ]
    },
    {
     "name": "stderr",
     "output_type": "stream",
     "text": [
      "Fetching Supplier Details:  11%|█████                                        | 291/2588 [08:52<4:38:08,  7.27s/product]"
     ]
    },
    {
     "name": "stdout",
     "output_type": "stream",
     "text": [
      "Error fetching supplier for SKU 1290111002 after 5 retries: HTTPSConnectionPool(host='www2.hm.com', port=443): Max retries exceeded with url: /sv_se/supplierDetails/articles/1290111002 (Caused by ResponseError('too many 400 error responses'))\n"
     ]
    },
    {
     "name": "stderr",
     "output_type": "stream",
     "text": [
      "Fetching Supplier Details:  12%|█████▎                                       | 302/2588 [09:15<3:38:32,  5.74s/product]"
     ]
    },
    {
     "name": "stdout",
     "output_type": "stream",
     "text": [
      "Error fetching supplier for SKU 1165059007 after 5 retries: HTTPSConnectionPool(host='www2.hm.com', port=443): Max retries exceeded with url: /sv_se/supplierDetails/articles/1165059007 (Caused by ResponseError('too many 400 error responses'))\n"
     ]
    },
    {
     "name": "stderr",
     "output_type": "stream",
     "text": [
      "Fetching Supplier Details:  13%|█████▉                                       | 345/2588 [09:51<2:39:23,  4.26s/product]"
     ]
    },
    {
     "name": "stdout",
     "output_type": "stream",
     "text": [
      "Error fetching supplier for SKU 1258973004 after 5 retries: HTTPSConnectionPool(host='www2.hm.com', port=443): Max retries exceeded with url: /sv_se/supplierDetails/articles/1258973004 (Caused by ResponseError('too many 400 error responses'))\n"
     ]
    },
    {
     "name": "stderr",
     "output_type": "stream",
     "text": [
      "Fetching Supplier Details:  17%|███████▊                                     | 446/2588 [10:52<3:31:05,  5.91s/product]"
     ]
    },
    {
     "name": "stdout",
     "output_type": "stream",
     "text": [
      "Error fetching supplier for SKU 1247126002 after 5 retries: HTTPSConnectionPool(host='www2.hm.com', port=443): Max retries exceeded with url: /sv_se/supplierDetails/articles/1247126002 (Caused by ResponseError('too many 400 error responses'))\n"
     ]
    },
    {
     "name": "stderr",
     "output_type": "stream",
     "text": [
      "Fetching Supplier Details:  18%|████████                                     | 463/2588 [11:16<3:18:29,  5.60s/product]"
     ]
    },
    {
     "name": "stdout",
     "output_type": "stream",
     "text": [
      "Error fetching supplier for SKU 1257408002 after 5 retries: HTTPSConnectionPool(host='www2.hm.com', port=443): Max retries exceeded with url: /sv_se/supplierDetails/articles/1257408002 (Caused by ResponseError('too many 400 error responses'))\n"
     ]
    },
    {
     "name": "stderr",
     "output_type": "stream",
     "text": [
      "Fetching Supplier Details:  19%|████████▌                                    | 492/2588 [11:46<1:20:08,  2.29s/product]"
     ]
    },
    {
     "name": "stdout",
     "output_type": "stream",
     "text": [
      "Error fetching supplier for SKU 1257408002 after 5 retries: HTTPSConnectionPool(host='www2.hm.com', port=443): Max retries exceeded with url: /sv_se/supplierDetails/articles/1257408002 (Caused by ResponseError('too many 400 error responses'))\n"
     ]
    },
    {
     "name": "stderr",
     "output_type": "stream",
     "text": [
      "Fetching Supplier Details:  21%|█████████▎                                   | 535/2588 [12:17<3:13:53,  5.67s/product]"
     ]
    },
    {
     "name": "stdout",
     "output_type": "stream",
     "text": [
      "Error fetching supplier for SKU 1242236002 after 5 retries: HTTPSConnectionPool(host='www2.hm.com', port=443): Max retries exceeded with url: /sv_se/supplierDetails/articles/1242236002 (Caused by ResponseError('too many 400 error responses'))\n"
     ]
    },
    {
     "name": "stderr",
     "output_type": "stream",
     "text": [
      "Fetching Supplier Details:  23%|██████████▏                                  | 583/2588 [12:57<3:03:42,  5.50s/product]"
     ]
    },
    {
     "name": "stdout",
     "output_type": "stream",
     "text": [
      "Error fetching supplier for SKU 1165059007 after 5 retries: HTTPSConnectionPool(host='www2.hm.com', port=443): Max retries exceeded with url: /sv_se/supplierDetails/articles/1165059007 (Caused by ResponseError('too many 400 error responses'))\n"
     ]
    },
    {
     "name": "stderr",
     "output_type": "stream",
     "text": [
      "Fetching Supplier Details:  25%|███████████▏                                 | 641/2588 [13:39<2:59:16,  5.52s/product]"
     ]
    },
    {
     "name": "stdout",
     "output_type": "stream",
     "text": [
      "Error fetching supplier for SKU 1276827003 after 5 retries: HTTPSConnectionPool(host='www2.hm.com', port=443): Max retries exceeded with url: /sv_se/supplierDetails/articles/1276827003 (Caused by ResponseError('too many 400 error responses'))\n"
     ]
    },
    {
     "name": "stderr",
     "output_type": "stream",
     "text": [
      "Fetching Supplier Details:  25%|███████████▎                                 | 651/2588 [14:05<3:39:59,  6.81s/product]"
     ]
    },
    {
     "name": "stdout",
     "output_type": "stream",
     "text": [
      "Error fetching supplier for SKU 1276827002 after 5 retries: HTTPSConnectionPool(host='www2.hm.com', port=443): Max retries exceeded with url: /sv_se/supplierDetails/articles/1276827002 (Caused by ResponseError('too many 400 error responses'))\n"
     ]
    },
    {
     "name": "stderr",
     "output_type": "stream",
     "text": [
      "Fetching Supplier Details:  26%|███████████▍                                 | 660/2588 [14:26<3:04:35,  5.74s/product]"
     ]
    },
    {
     "name": "stdout",
     "output_type": "stream",
     "text": [
      "Error fetching supplier for SKU 1276827001 after 5 retries: HTTPSConnectionPool(host='www2.hm.com', port=443): Max retries exceeded with url: /sv_se/supplierDetails/articles/1276827001 (Caused by ResponseError('too many 400 error responses'))\n"
     ]
    },
    {
     "name": "stderr",
     "output_type": "stream",
     "text": [
      "Fetching Supplier Details:  26%|███████████▉                                 | 683/2588 [14:53<2:57:06,  5.58s/product]"
     ]
    },
    {
     "name": "stdout",
     "output_type": "stream",
     "text": [
      "Error fetching supplier for SKU 1213473001 after 5 retries: HTTPSConnectionPool(host='www2.hm.com', port=443): Max retries exceeded with url: /sv_se/supplierDetails/articles/1213473001 (Caused by ResponseError('too many 400 error responses'))\n"
     ]
    },
    {
     "name": "stderr",
     "output_type": "stream",
     "text": [
      "Fetching Supplier Details:  27%|███████████▉                                 | 686/2588 [15:11<3:53:21,  7.36s/product]"
     ]
    },
    {
     "name": "stdout",
     "output_type": "stream",
     "text": [
      "Error fetching supplier for SKU 1276827001 after 5 retries: HTTPSConnectionPool(host='www2.hm.com', port=443): Max retries exceeded with url: /sv_se/supplierDetails/articles/1276827001 (Caused by ResponseError('too many 400 error responses'))\n"
     ]
    },
    {
     "name": "stderr",
     "output_type": "stream",
     "text": [
      "Fetching Supplier Details:  27%|████████████                                 | 693/2588 [15:30<2:32:54,  4.84s/product]"
     ]
    },
    {
     "name": "stdout",
     "output_type": "stream",
     "text": [
      "Error fetching supplier for SKU 1070271026 after 5 retries: HTTPSConnectionPool(host='www2.hm.com', port=443): Max retries exceeded with url: /sv_se/supplierDetails/articles/1070271026 (Caused by ResponseError('too many 400 error responses'))\n"
     ]
    },
    {
     "name": "stderr",
     "output_type": "stream",
     "text": [
      "Fetching Supplier Details:  28%|████████████▌                                | 725/2588 [16:02<1:40:05,  3.22s/product]"
     ]
    },
    {
     "name": "stdout",
     "output_type": "stream",
     "text": [
      "Error fetching supplier for SKU 1249840001 after 5 retries: HTTPSConnectionPool(host='www2.hm.com', port=443): Max retries exceeded with url: /sv_se/supplierDetails/articles/1249840001 (Caused by ResponseError('too many 400 error responses'))\n"
     ]
    },
    {
     "name": "stderr",
     "output_type": "stream",
     "text": [
      "Fetching Supplier Details:  29%|█████████████                                | 751/2588 [16:31<2:50:32,  5.57s/product]"
     ]
    },
    {
     "name": "stdout",
     "output_type": "stream",
     "text": [
      "Error fetching supplier for SKU 1117747045 after 5 retries: HTTPSConnectionPool(host='www2.hm.com', port=443): Max retries exceeded with url: /sv_se/supplierDetails/articles/1117747045 (Caused by ResponseError('too many 400 error responses'))\n"
     ]
    },
    {
     "name": "stderr",
     "output_type": "stream",
     "text": [
      "Fetching Supplier Details:  31%|██████████████▏                              | 815/2588 [17:15<2:43:27,  5.53s/product]"
     ]
    },
    {
     "name": "stdout",
     "output_type": "stream",
     "text": [
      "Error fetching supplier for SKU 1225636007 after 5 retries: HTTPSConnectionPool(host='www2.hm.com', port=443): Max retries exceeded with url: /sv_se/supplierDetails/articles/1225636007 (Caused by ResponseError('too many 400 error responses'))\n"
     ]
    },
    {
     "name": "stderr",
     "output_type": "stream",
     "text": [
      "Fetching Supplier Details:  32%|██████████████▎                              | 821/2588 [17:35<3:00:39,  6.13s/product]"
     ]
    },
    {
     "name": "stdout",
     "output_type": "stream",
     "text": [
      "Error fetching supplier for SKU 1249572001 after 5 retries: HTTPSConnectionPool(host='www2.hm.com', port=443): Max retries exceeded with url: /sv_se/supplierDetails/articles/1249572001 (Caused by ResponseError('too many 400 error responses'))\n"
     ]
    },
    {
     "name": "stderr",
     "output_type": "stream",
     "text": [
      "Fetching Supplier Details:  32%|██████████████▎                              | 823/2588 [17:53<4:05:13,  8.34s/product]"
     ]
    },
    {
     "name": "stdout",
     "output_type": "stream",
     "text": [
      "Error fetching supplier for SKU 1254059001 after 5 retries: HTTPSConnectionPool(host='www2.hm.com', port=443): Max retries exceeded with url: /sv_se/supplierDetails/articles/1254059001 (Caused by ResponseError('too many 400 error responses'))\n"
     ]
    },
    {
     "name": "stderr",
     "output_type": "stream",
     "text": [
      "Fetching Supplier Details:  32%|██████████████▎                              | 824/2588 [18:11<5:29:23, 11.20s/product]"
     ]
    },
    {
     "name": "stdout",
     "output_type": "stream",
     "text": [
      "Error fetching supplier for SKU 1255893001 after 5 retries: HTTPSConnectionPool(host='www2.hm.com', port=443): Max retries exceeded with url: /sv_se/supplierDetails/articles/1255893001 (Caused by ResponseError('too many 400 error responses'))\n"
     ]
    },
    {
     "name": "stderr",
     "output_type": "stream",
     "text": [
      "Fetching Supplier Details:  32%|██████████████▎                              | 825/2588 [18:28<6:24:32, 13.09s/product]"
     ]
    },
    {
     "name": "stdout",
     "output_type": "stream",
     "text": [
      "Error fetching supplier for SKU 1255893002 after 5 retries: HTTPSConnectionPool(host='www2.hm.com', port=443): Max retries exceeded with url: /sv_se/supplierDetails/articles/1255893002 (Caused by ResponseError('too many 400 error responses'))\n"
     ]
    },
    {
     "name": "stderr",
     "output_type": "stream",
     "text": [
      "Fetching Supplier Details:  32%|██████████████▎                              | 826/2588 [18:46<7:04:54, 14.47s/product]"
     ]
    },
    {
     "name": "stdout",
     "output_type": "stream",
     "text": [
      "Error fetching supplier for SKU 1255900001 after 5 retries: HTTPSConnectionPool(host='www2.hm.com', port=443): Max retries exceeded with url: /sv_se/supplierDetails/articles/1255900001 (Caused by ResponseError('too many 400 error responses'))\n"
     ]
    },
    {
     "name": "stderr",
     "output_type": "stream",
     "text": [
      "Fetching Supplier Details:  32%|██████████████▍                              | 827/2588 [19:04<7:32:20, 15.41s/product]"
     ]
    },
    {
     "name": "stdout",
     "output_type": "stream",
     "text": [
      "Error fetching supplier for SKU 1255900002 after 5 retries: HTTPSConnectionPool(host='www2.hm.com', port=443): Max retries exceeded with url: /sv_se/supplierDetails/articles/1255900002 (Caused by ResponseError('too many 400 error responses'))\n"
     ]
    },
    {
     "name": "stderr",
     "output_type": "stream",
     "text": [
      "Fetching Supplier Details:  32%|██████████████▍                              | 829/2588 [19:22<6:23:36, 13.08s/product]"
     ]
    },
    {
     "name": "stdout",
     "output_type": "stream",
     "text": [
      "Error fetching supplier for SKU 1259570001 after 5 retries: HTTPSConnectionPool(host='www2.hm.com', port=443): Max retries exceeded with url: /sv_se/supplierDetails/articles/1259570001 (Caused by ResponseError('too many 400 error responses'))\n"
     ]
    },
    {
     "name": "stderr",
     "output_type": "stream",
     "text": [
      "Fetching Supplier Details:  32%|██████████████▍                              | 830/2588 [19:40<7:01:51, 14.40s/product]"
     ]
    },
    {
     "name": "stdout",
     "output_type": "stream",
     "text": [
      "Error fetching supplier for SKU 1259570002 after 5 retries: HTTPSConnectionPool(host='www2.hm.com', port=443): Max retries exceeded with url: /sv_se/supplierDetails/articles/1259570002 (Caused by ResponseError('too many 400 error responses'))\n"
     ]
    },
    {
     "name": "stderr",
     "output_type": "stream",
     "text": [
      "Fetching Supplier Details:  32%|██████████████▌                              | 835/2588 [20:07<5:05:12, 10.45s/product]"
     ]
    },
    {
     "name": "stdout",
     "output_type": "stream",
     "text": [
      "Error fetching supplier for SKU 1262236001 after 5 retries: HTTPSConnectionPool(host='www2.hm.com', port=443): Max retries exceeded with url: /sv_se/supplierDetails/articles/1262236001 (Caused by NewConnectionError('<urllib3.connection.HTTPSConnection object at 0x000001A608A34410>: Failed to establish a new connection: [Errno 11001] getaddrinfo failed'))\n"
     ]
    },
    {
     "name": "stderr",
     "output_type": "stream",
     "text": [
      "Fetching Supplier Details:  32%|██████████████▌                              | 837/2588 [20:24<4:15:46,  8.76s/product]"
     ]
    },
    {
     "name": "stdout",
     "output_type": "stream",
     "text": [
      "Error fetching supplier for SKU 1262236002 after 5 retries: HTTPSConnectionPool(host='www2.hm.com', port=443): Max retries exceeded with url: /sv_se/supplierDetails/articles/1262236002 (Caused by ResponseError('too many 400 error responses'))\n"
     ]
    },
    {
     "name": "stderr",
     "output_type": "stream",
     "text": [
      "Fetching Supplier Details:  33%|██████████████▋                              | 844/2588 [20:48<3:03:43,  6.32s/product]"
     ]
    },
    {
     "name": "stdout",
     "output_type": "stream",
     "text": [
      "Error fetching supplier for SKU 1070271026 after 5 retries: HTTPSConnectionPool(host='www2.hm.com', port=443): Max retries exceeded with url: /sv_se/supplierDetails/articles/1070271026 (Caused by ResponseError('too many 400 error responses'))\n"
     ]
    },
    {
     "name": "stderr",
     "output_type": "stream",
     "text": [
      "Fetching Supplier Details:  33%|██████████████▋                              | 846/2588 [21:06<4:05:25,  8.45s/product]"
     ]
    },
    {
     "name": "stdout",
     "output_type": "stream",
     "text": [
      "Error fetching supplier for SKU 1117747045 after 5 retries: HTTPSConnectionPool(host='www2.hm.com', port=443): Max retries exceeded with url: /sv_se/supplierDetails/articles/1117747045 (Caused by ResponseError('too many 400 error responses'))\n"
     ]
    },
    {
     "name": "stderr",
     "output_type": "stream",
     "text": [
      "Fetching Supplier Details:  33%|██████████████▊                              | 850/2588 [21:24<2:47:31,  5.78s/product]"
     ]
    },
    {
     "name": "stdout",
     "output_type": "stream",
     "text": [
      "Error fetching supplier for SKU 1228696002 after 5 retries: HTTPSConnectionPool(host='www2.hm.com', port=443): Max retries exceeded with url: /sv_se/supplierDetails/articles/1228696002 (Caused by ResponseError('too many 400 error responses'))\n"
     ]
    },
    {
     "name": "stderr",
     "output_type": "stream",
     "text": [
      "Fetching Supplier Details:  33%|██████████████▊                              | 853/2588 [21:42<3:32:19,  7.34s/product]"
     ]
    },
    {
     "name": "stdout",
     "output_type": "stream",
     "text": [
      "Error fetching supplier for SKU 1262147001 after 5 retries: HTTPSConnectionPool(host='www2.hm.com', port=443): Max retries exceeded with url: /sv_se/supplierDetails/articles/1262147001 (Caused by ResponseError('too many 400 error responses'))\n"
     ]
    },
    {
     "name": "stderr",
     "output_type": "stream",
     "text": [
      "Fetching Supplier Details:  34%|███████████████▍                             | 890/2588 [22:16<2:37:52,  5.58s/product]"
     ]
    },
    {
     "name": "stdout",
     "output_type": "stream",
     "text": [
      "Error fetching supplier for SKU 1268120005 after 5 retries: HTTPSConnectionPool(host='www2.hm.com', port=443): Max retries exceeded with url: /sv_se/supplierDetails/articles/1268120005 (Caused by ResponseError('too many 400 error responses'))\n"
     ]
    },
    {
     "name": "stderr",
     "output_type": "stream",
     "text": [
      "Fetching Supplier Details:  35%|███████████████▋                             | 900/2588 [22:37<2:39:45,  5.68s/product]"
     ]
    },
    {
     "name": "stdout",
     "output_type": "stream",
     "text": [
      "Error fetching supplier for SKU 1127523014 after 5 retries: HTTPSConnectionPool(host='www2.hm.com', port=443): Max retries exceeded with url: /sv_se/supplierDetails/articles/1127523014 (Caused by ResponseError('too many 400 error responses'))\n"
     ]
    },
    {
     "name": "stderr",
     "output_type": "stream",
     "text": [
      "Fetching Supplier Details:  35%|███████████████▋                             | 901/2588 [22:55<4:17:26,  9.16s/product]"
     ]
    },
    {
     "name": "stdout",
     "output_type": "stream",
     "text": [
      "Error fetching supplier for SKU 1127523014 after 5 retries: HTTPSConnectionPool(host='www2.hm.com', port=443): Max retries exceeded with url: /sv_se/supplierDetails/articles/1127523014 (Caused by ResponseError('too many 400 error responses'))\n"
     ]
    },
    {
     "name": "stderr",
     "output_type": "stream",
     "text": [
      "Fetching Supplier Details:  36%|████████████████                             | 921/2588 [23:20<2:36:09,  5.62s/product]"
     ]
    },
    {
     "name": "stdout",
     "output_type": "stream",
     "text": [
      "Error fetching supplier for SKU 1188057005 after 5 retries: HTTPSConnectionPool(host='www2.hm.com', port=443): Max retries exceeded with url: /sv_se/supplierDetails/articles/1188057005 (Caused by ResponseError('too many 400 error responses'))\n"
     ]
    },
    {
     "name": "stderr",
     "output_type": "stream",
     "text": [
      "Fetching Supplier Details:  36%|████████████████▎                            | 936/2588 [23:47<2:38:19,  5.75s/product]"
     ]
    },
    {
     "name": "stdout",
     "output_type": "stream",
     "text": [
      "Error fetching supplier for SKU 1235413006 after 5 retries: HTTPSConnectionPool(host='www2.hm.com', port=443): Max retries exceeded with url: /sv_se/supplierDetails/articles/1235413006 (Caused by ResponseError('too many 400 error responses'))\n"
     ]
    },
    {
     "name": "stderr",
     "output_type": "stream",
     "text": [
      "Fetching Supplier Details:  38%|█████████████████                            | 983/2588 [24:29<1:43:19,  3.86s/product]"
     ]
    },
    {
     "name": "stdout",
     "output_type": "stream",
     "text": [
      "Error fetching supplier for SKU 1259567003 after 5 retries: HTTPSConnectionPool(host='www2.hm.com', port=443): Max retries exceeded with url: /sv_se/supplierDetails/articles/1259567003 (Caused by ResponseError('too many 400 error responses'))\n"
     ]
    },
    {
     "name": "stderr",
     "output_type": "stream",
     "text": [
      "Fetching Supplier Details:  39%|█████████████████                           | 1000/2588 [25:00<2:00:34,  4.56s/product]"
     ]
    },
    {
     "name": "stdout",
     "output_type": "stream",
     "text": [
      "Error fetching supplier for SKU 1249660001 after 5 retries: HTTPSConnectionPool(host='www2.hm.com', port=443): Max retries exceeded with url: /sv_se/supplierDetails/articles/1249660001 (Caused by ResponseError('too many 400 error responses'))\n"
     ]
    },
    {
     "name": "stderr",
     "output_type": "stream",
     "text": [
      "Fetching Supplier Details:  39%|█████████████████▎                          | 1021/2588 [25:28<2:23:24,  5.49s/product]"
     ]
    },
    {
     "name": "stdout",
     "output_type": "stream",
     "text": [
      "Error fetching supplier for SKU 1136177006 after 5 retries: HTTPSConnectionPool(host='www2.hm.com', port=443): Max retries exceeded with url: /sv_se/supplierDetails/articles/1136177006 (Caused by ResponseError('too many 400 error responses'))\n"
     ]
    },
    {
     "name": "stderr",
     "output_type": "stream",
     "text": [
      "Fetching Supplier Details:  39%|█████████████████▍                          | 1022/2588 [25:46<3:58:59,  9.16s/product]"
     ]
    },
    {
     "name": "stdout",
     "output_type": "stream",
     "text": [
      "Error fetching supplier for SKU 1258123001 after 5 retries: HTTPSConnectionPool(host='www2.hm.com', port=443): Max retries exceeded with url: /sv_se/supplierDetails/articles/1258123001 (Caused by ResponseError('too many 400 error responses'))\n"
     ]
    },
    {
     "name": "stderr",
     "output_type": "stream",
     "text": [
      "Fetching Supplier Details:  41%|█████████████████▊                          | 1049/2588 [26:25<2:36:05,  6.09s/product]"
     ]
    },
    {
     "name": "stdout",
     "output_type": "stream",
     "text": [
      "Error fetching supplier for SKU 1070268014 after 5 retries: HTTPSConnectionPool(host='www2.hm.com', port=443): Max retries exceeded with url: /sv_se/supplierDetails/articles/1070268014 (Caused by ResponseError('too many 400 error responses'))\n"
     ]
    },
    {
     "name": "stderr",
     "output_type": "stream",
     "text": [
      "Fetching Supplier Details:  44%|███████████████████▍                        | 1146/2588 [27:26<1:45:08,  4.37s/product]"
     ]
    },
    {
     "name": "stdout",
     "output_type": "stream",
     "text": [
      "Error fetching supplier for SKU 1258123003 after 5 retries: HTTPSConnectionPool(host='www2.hm.com', port=443): Max retries exceeded with url: /sv_se/supplierDetails/articles/1258123003 (Caused by ResponseError('too many 400 error responses'))\n"
     ]
    },
    {
     "name": "stderr",
     "output_type": "stream",
     "text": [
      "Fetching Supplier Details:  44%|███████████████████▌                        | 1149/2588 [27:44<2:40:48,  6.70s/product]"
     ]
    },
    {
     "name": "stdout",
     "output_type": "stream",
     "text": [
      "Error fetching supplier for SKU 1258123001 after 5 retries: HTTPSConnectionPool(host='www2.hm.com', port=443): Max retries exceeded with url: /sv_se/supplierDetails/articles/1258123001 (Caused by ResponseError('too many 400 error responses'))\n"
     ]
    },
    {
     "name": "stderr",
     "output_type": "stream",
     "text": [
      "Fetching Supplier Details:  45%|███████████████████▋                        | 1159/2588 [28:05<1:55:26,  4.85s/product]"
     ]
    },
    {
     "name": "stdout",
     "output_type": "stream",
     "text": [
      "Error fetching supplier for SKU 1240531008 after 5 retries: HTTPSConnectionPool(host='www2.hm.com', port=443): Max retries exceeded with url: /sv_se/supplierDetails/articles/1240531008 (Caused by ResponseError('too many 400 error responses'))\n"
     ]
    },
    {
     "name": "stderr",
     "output_type": "stream",
     "text": [
      "Fetching Supplier Details:  45%|███████████████████▊                        | 1166/2588 [28:27<2:33:48,  6.49s/product]"
     ]
    },
    {
     "name": "stdout",
     "output_type": "stream",
     "text": [
      "Error fetching supplier for SKU 1129809015 after 5 retries: HTTPSConnectionPool(host='www2.hm.com', port=443): Max retries exceeded with url: /sv_se/supplierDetails/articles/1129809015 (Caused by ResponseError('too many 400 error responses'))\n"
     ]
    },
    {
     "name": "stderr",
     "output_type": "stream",
     "text": [
      "Fetching Supplier Details:  45%|███████████████████▉                        | 1170/2588 [28:47<2:50:13,  7.20s/product]"
     ]
    },
    {
     "name": "stdout",
     "output_type": "stream",
     "text": [
      "Error fetching supplier for SKU 1270288002 after 5 retries: HTTPSConnectionPool(host='www2.hm.com', port=443): Max retries exceeded with url: /sv_se/supplierDetails/articles/1270288002 (Caused by ResponseError('too many 400 error responses'))\n"
     ]
    },
    {
     "name": "stderr",
     "output_type": "stream",
     "text": [
      "Fetching Supplier Details:  45%|███████████████████▉                        | 1176/2588 [29:07<2:28:00,  6.29s/product]"
     ]
    },
    {
     "name": "stdout",
     "output_type": "stream",
     "text": [
      "Error fetching supplier for SKU 1201999004 after 5 retries: HTTPSConnectionPool(host='www2.hm.com', port=443): Max retries exceeded with url: /sv_se/supplierDetails/articles/1201999004 (Caused by ResponseError('too many 400 error responses'))\n"
     ]
    },
    {
     "name": "stderr",
     "output_type": "stream",
     "text": [
      "Fetching Supplier Details:  46%|████████████████████                        | 1182/2588 [29:26<2:25:53,  6.23s/product]"
     ]
    },
    {
     "name": "stdout",
     "output_type": "stream",
     "text": [
      "Error fetching supplier for SKU 1238899001 after 5 retries: HTTPSConnectionPool(host='www2.hm.com', port=443): Max retries exceeded with url: /sv_se/supplierDetails/articles/1238899001 (Caused by ResponseError('too many 400 error responses'))\n"
     ]
    },
    {
     "name": "stderr",
     "output_type": "stream",
     "text": [
      "Fetching Supplier Details:  46%|████████████████████▏                       | 1184/2588 [29:44<3:15:57,  8.37s/product]"
     ]
    },
    {
     "name": "stdout",
     "output_type": "stream",
     "text": [
      "Error fetching supplier for SKU 1253798001 after 5 retries: HTTPSConnectionPool(host='www2.hm.com', port=443): Max retries exceeded with url: /sv_se/supplierDetails/articles/1253798001 (Caused by ResponseError('too many 400 error responses'))\n"
     ]
    },
    {
     "name": "stderr",
     "output_type": "stream",
     "text": [
      "Fetching Supplier Details:  47%|████████████████████▍                       | 1204/2588 [30:09<1:59:04,  5.16s/product]"
     ]
    },
    {
     "name": "stdout",
     "output_type": "stream",
     "text": [
      "Error fetching supplier for SKU 1258123004 after 5 retries: HTTPSConnectionPool(host='www2.hm.com', port=443): Max retries exceeded with url: /sv_se/supplierDetails/articles/1258123004 (Caused by ResponseError('too many 400 error responses'))\n"
     ]
    },
    {
     "name": "stderr",
     "output_type": "stream",
     "text": [
      "Fetching Supplier Details:  47%|████████████████████▋                       | 1214/2588 [30:33<2:12:49,  5.80s/product]"
     ]
    },
    {
     "name": "stdout",
     "output_type": "stream",
     "text": [
      "Error fetching supplier for SKU 1248183001 after 5 retries: HTTPSConnectionPool(host='www2.hm.com', port=443): Max retries exceeded with url: /sv_se/supplierDetails/articles/1248183001 (Caused by ResponseError('too many 400 error responses'))\n"
     ]
    },
    {
     "name": "stderr",
     "output_type": "stream",
     "text": [
      "Fetching Supplier Details:  47%|████████████████████▋                       | 1215/2588 [30:50<3:34:23,  9.37s/product]"
     ]
    },
    {
     "name": "stdout",
     "output_type": "stream",
     "text": [
      "Error fetching supplier for SKU 1248183002 after 5 retries: HTTPSConnectionPool(host='www2.hm.com', port=443): Max retries exceeded with url: /sv_se/supplierDetails/articles/1248183002 (Caused by ResponseError('too many 400 error responses'))\n"
     ]
    },
    {
     "name": "stderr",
     "output_type": "stream",
     "text": [
      "Fetching Supplier Details:  48%|█████████████████████                       | 1241/2588 [31:17<2:03:41,  5.51s/product]"
     ]
    },
    {
     "name": "stdout",
     "output_type": "stream",
     "text": [
      "Error fetching supplier for SKU 1249841001 after 5 retries: HTTPSConnectionPool(host='www2.hm.com', port=443): Max retries exceeded with url: /sv_se/supplierDetails/articles/1249841001 (Caused by ResponseError('too many 400 error responses'))\n"
     ]
    },
    {
     "name": "stderr",
     "output_type": "stream",
     "text": [
      "Fetching Supplier Details:  49%|█████████████████████▍                      | 1260/2588 [31:42<2:01:59,  5.51s/product]"
     ]
    },
    {
     "name": "stdout",
     "output_type": "stream",
     "text": [
      "Error fetching supplier for SKU 1228696003 after 5 retries: HTTPSConnectionPool(host='www2.hm.com', port=443): Max retries exceeded with url: /sv_se/supplierDetails/articles/1228696003 (Caused by ResponseError('too many 400 error responses'))\n"
     ]
    },
    {
     "name": "stderr",
     "output_type": "stream",
     "text": [
      "Fetching Supplier Details:  49%|█████████████████████▋                      | 1276/2588 [32:03<1:55:02,  5.26s/product]"
     ]
    },
    {
     "name": "stdout",
     "output_type": "stream",
     "text": [
      "Error fetching supplier for SKU 1257654001 after 5 retries: HTTPSConnectionPool(host='www2.hm.com', port=443): Max retries exceeded with url: /sv_se/supplierDetails/articles/1257654001 (Caused by ResponseError('too many 400 error responses'))\n"
     ]
    },
    {
     "name": "stderr",
     "output_type": "stream",
     "text": [
      "Fetching Supplier Details:  50%|█████████████████████▉                      | 1289/2588 [32:26<2:01:15,  5.60s/product]"
     ]
    },
    {
     "name": "stdout",
     "output_type": "stream",
     "text": [
      "Error fetching supplier for SKU 1234904001 after 5 retries: HTTPSConnectionPool(host='www2.hm.com', port=443): Max retries exceeded with url: /sv_se/supplierDetails/articles/1234904001 (Caused by ResponseError('too many 400 error responses'))\n"
     ]
    },
    {
     "name": "stderr",
     "output_type": "stream",
     "text": [
      "Fetching Supplier Details:  52%|██████████████████████▋                     | 1338/2588 [33:07<1:48:26,  5.20s/product]"
     ]
    },
    {
     "name": "stdout",
     "output_type": "stream",
     "text": [
      "Error fetching supplier for SKU 1268777001 after 5 retries: HTTPSConnectionPool(host='www2.hm.com', port=443): Max retries exceeded with url: /sv_se/supplierDetails/articles/1268777001 (Caused by ResponseError('too many 400 error responses'))\n"
     ]
    },
    {
     "name": "stderr",
     "output_type": "stream",
     "text": [
      "Fetching Supplier Details:  52%|██████████████████████▊                     | 1341/2588 [33:25<2:05:40,  6.05s/product]"
     ]
    },
    {
     "name": "stdout",
     "output_type": "stream",
     "text": [
      "Error fetching supplier for SKU 1257590005 after 5 retries: HTTPSConnectionPool(host='www2.hm.com', port=443): Max retries exceeded with url: /sv_se/supplierDetails/articles/1257590005 (Caused by ResponseError('too many 400 error responses'))\n"
     ]
    },
    {
     "name": "stderr",
     "output_type": "stream",
     "text": [
      "Fetching Supplier Details:  52%|███████████████████████                     | 1353/2588 [33:50<1:58:33,  5.76s/product]"
     ]
    },
    {
     "name": "stdout",
     "output_type": "stream",
     "text": [
      "Error fetching supplier for SKU 1206313001 after 5 retries: HTTPSConnectionPool(host='www2.hm.com', port=443): Max retries exceeded with url: /sv_se/supplierDetails/articles/1206313001 (Caused by ResponseError('too many 400 error responses'))\n"
     ]
    },
    {
     "name": "stderr",
     "output_type": "stream",
     "text": [
      "Fetching Supplier Details:  53%|███████████████████████▏                    | 1363/2588 [34:11<1:55:23,  5.65s/product]"
     ]
    },
    {
     "name": "stdout",
     "output_type": "stream",
     "text": [
      "Error fetching supplier for SKU 1250094001 after 5 retries: HTTPSConnectionPool(host='www2.hm.com', port=443): Max retries exceeded with url: /sv_se/supplierDetails/articles/1250094001 (Caused by ResponseError('too many 400 error responses'))\n"
     ]
    },
    {
     "name": "stderr",
     "output_type": "stream",
     "text": [
      "Fetching Supplier Details:  53%|███████████████████████▎                    | 1372/2588 [34:43<2:19:45,  6.90s/product]"
     ]
    },
    {
     "name": "stdout",
     "output_type": "stream",
     "text": [
      "Error fetching supplier for SKU 1263284003 after 5 retries: HTTPSConnectionPool(host='www2.hm.com', port=443): Max retries exceeded with url: /sv_se/supplierDetails/articles/1263284003 (Caused by ResponseError('too many 400 error responses'))\n"
     ]
    },
    {
     "name": "stderr",
     "output_type": "stream",
     "text": [
      "Fetching Supplier Details:  53%|███████████████████████▌                    | 1383/2588 [35:06<1:56:35,  5.81s/product]"
     ]
    },
    {
     "name": "stdout",
     "output_type": "stream",
     "text": [
      "Error fetching supplier for SKU 1070271019 after 5 retries: HTTPSConnectionPool(host='www2.hm.com', port=443): Max retries exceeded with url: /sv_se/supplierDetails/articles/1070271019 (Caused by ResponseError('too many 400 error responses'))\n"
     ]
    },
    {
     "name": "stderr",
     "output_type": "stream",
     "text": [
      "Fetching Supplier Details:  55%|████████████████████████▎                   | 1432/2588 [35:43<1:45:56,  5.50s/product]"
     ]
    },
    {
     "name": "stdout",
     "output_type": "stream",
     "text": [
      "Error fetching supplier for SKU 1122659024 after 5 retries: HTTPSConnectionPool(host='www2.hm.com', port=443): Max retries exceeded with url: /sv_se/supplierDetails/articles/1122659024 (Caused by ResponseError('too many 400 error responses'))\n"
     ]
    },
    {
     "name": "stderr",
     "output_type": "stream",
     "text": [
      "Fetching Supplier Details:  56%|████████████████████████▍                   | 1440/2588 [36:03<1:51:29,  5.83s/product]"
     ]
    },
    {
     "name": "stdout",
     "output_type": "stream",
     "text": [
      "Error fetching supplier for SKU 1225209003 after 5 retries: HTTPSConnectionPool(host='www2.hm.com', port=443): Max retries exceeded with url: /sv_se/supplierDetails/articles/1225209003 (Caused by ResponseError('too many 400 error responses'))\n"
     ]
    },
    {
     "name": "stderr",
     "output_type": "stream",
     "text": [
      "Fetching Supplier Details:  56%|████████████████████████▌                   | 1442/2588 [36:21<2:36:28,  8.19s/product]"
     ]
    },
    {
     "name": "stdout",
     "output_type": "stream",
     "text": [
      "Error fetching supplier for SKU 1226394001 after 5 retries: HTTPSConnectionPool(host='www2.hm.com', port=443): Max retries exceeded with url: /sv_se/supplierDetails/articles/1226394001 (Caused by ResponseError('too many 400 error responses'))\n"
     ]
    },
    {
     "name": "stderr",
     "output_type": "stream",
     "text": [
      "Fetching Supplier Details:  56%|████████████████████████▋                   | 1449/2588 [36:41<1:57:45,  6.20s/product]"
     ]
    },
    {
     "name": "stdout",
     "output_type": "stream",
     "text": [
      "Error fetching supplier for SKU 1236159003 after 5 retries: HTTPSConnectionPool(host='www2.hm.com', port=443): Max retries exceeded with url: /sv_se/supplierDetails/articles/1236159003 (Caused by ResponseError('too many 400 error responses'))\n"
     ]
    },
    {
     "name": "stderr",
     "output_type": "stream",
     "text": [
      "Fetching Supplier Details:  56%|████████████████████████▋                   | 1453/2588 [37:00<2:11:19,  6.94s/product]"
     ]
    },
    {
     "name": "stdout",
     "output_type": "stream",
     "text": [
      "Error fetching supplier for SKU 1243933003 after 5 retries: HTTPSConnectionPool(host='www2.hm.com', port=443): Max retries exceeded with url: /sv_se/supplierDetails/articles/1243933003 (Caused by ResponseError('too many 400 error responses'))\n"
     ]
    },
    {
     "name": "stderr",
     "output_type": "stream",
     "text": [
      "Fetching Supplier Details:  56%|████████████████████████▊                   | 1459/2588 [37:20<1:59:26,  6.35s/product]"
     ]
    },
    {
     "name": "stdout",
     "output_type": "stream",
     "text": [
      "Error fetching supplier for SKU 1251263001 after 5 retries: HTTPSConnectionPool(host='www2.hm.com', port=443): Max retries exceeded with url: /sv_se/supplierDetails/articles/1251263001 (Caused by ResponseError('too many 400 error responses'))\n"
     ]
    },
    {
     "name": "stderr",
     "output_type": "stream",
     "text": [
      "Fetching Supplier Details:  57%|████████████████████████▉                   | 1464/2588 [37:39<2:02:13,  6.52s/product]"
     ]
    },
    {
     "name": "stdout",
     "output_type": "stream",
     "text": [
      "Error fetching supplier for SKU 1256405004 after 5 retries: HTTPSConnectionPool(host='www2.hm.com', port=443): Max retries exceeded with url: /sv_se/supplierDetails/articles/1256405004 (Caused by ResponseError('too many 400 error responses'))\n"
     ]
    },
    {
     "name": "stderr",
     "output_type": "stream",
     "text": [
      "Fetching Supplier Details:  57%|█████████████████████████                   | 1471/2588 [37:59<1:52:21,  6.04s/product]"
     ]
    },
    {
     "name": "stdout",
     "output_type": "stream",
     "text": [
      "Error fetching supplier for SKU 1218603002 after 5 retries: HTTPSConnectionPool(host='www2.hm.com', port=443): Max retries exceeded with url: /sv_se/supplierDetails/articles/1218603002 (Caused by ResponseError('too many 400 error responses'))\n"
     ]
    },
    {
     "name": "stderr",
     "output_type": "stream",
     "text": [
      "Fetching Supplier Details:  57%|█████████████████████████                   | 1474/2588 [38:18<2:20:48,  7.58s/product]"
     ]
    },
    {
     "name": "stdout",
     "output_type": "stream",
     "text": [
      "Error fetching supplier for SKU 1242233002 after 5 retries: HTTPSConnectionPool(host='www2.hm.com', port=443): Max retries exceeded with url: /sv_se/supplierDetails/articles/1242233002 (Caused by ResponseError('too many 400 error responses'))\n"
     ]
    },
    {
     "name": "stderr",
     "output_type": "stream",
     "text": [
      "Fetching Supplier Details:  57%|█████████████████████████▏                  | 1478/2588 [38:37<2:15:03,  7.30s/product]"
     ]
    },
    {
     "name": "stdout",
     "output_type": "stream",
     "text": [
      "Error fetching supplier for SKU 0811993078 after 5 retries: HTTPSConnectionPool(host='www2.hm.com', port=443): Max retries exceeded with url: /sv_se/supplierDetails/articles/0811993078 (Caused by ResponseError('too many 400 error responses'))\n"
     ]
    },
    {
     "name": "stderr",
     "output_type": "stream",
     "text": [
      "Fetching Supplier Details:  57%|█████████████████████████▎                  | 1486/2588 [38:57<1:49:45,  5.98s/product]"
     ]
    },
    {
     "name": "stdout",
     "output_type": "stream",
     "text": [
      "Error fetching supplier for SKU 1253218003 after 5 retries: HTTPSConnectionPool(host='www2.hm.com', port=443): Max retries exceeded with url: /sv_se/supplierDetails/articles/1253218003 (Caused by ResponseError('too many 400 error responses'))\n"
     ]
    },
    {
     "name": "stderr",
     "output_type": "stream",
     "text": [
      "Fetching Supplier Details:  58%|█████████████████████████▎                  | 1491/2588 [39:16<1:58:10,  6.46s/product]"
     ]
    },
    {
     "name": "stdout",
     "output_type": "stream",
     "text": [
      "Error fetching supplier for SKU 0783707440 after 5 retries: HTTPSConnectionPool(host='www2.hm.com', port=443): Max retries exceeded with url: /sv_se/supplierDetails/articles/0783707440 (Caused by ResponseError('too many 400 error responses'))\n"
     ]
    },
    {
     "name": "stderr",
     "output_type": "stream",
     "text": [
      "Fetching Supplier Details:  58%|█████████████████████████▍                  | 1499/2588 [39:38<1:50:39,  6.10s/product]"
     ]
    },
    {
     "name": "stdout",
     "output_type": "stream",
     "text": [
      "Error fetching supplier for SKU 1272725001 after 5 retries: HTTPSConnectionPool(host='www2.hm.com', port=443): Max retries exceeded with url: /sv_se/supplierDetails/articles/1272725001 (Caused by ResponseError('too many 400 error responses'))\n"
     ]
    },
    {
     "name": "stderr",
     "output_type": "stream",
     "text": [
      "Fetching Supplier Details:  58%|█████████████████████████▌                  | 1504/2588 [39:57<1:57:37,  6.51s/product]"
     ]
    },
    {
     "name": "stdout",
     "output_type": "stream",
     "text": [
      "Error fetching supplier for SKU 0647207061 after 5 retries: HTTPSConnectionPool(host='www2.hm.com', port=443): Max retries exceeded with url: /sv_se/supplierDetails/articles/0647207061 (Caused by ResponseError('too many 400 error responses'))\n"
     ]
    },
    {
     "name": "stderr",
     "output_type": "stream",
     "text": [
      "Fetching Supplier Details:  58%|█████████████████████████▌                  | 1505/2588 [40:15<2:57:59,  9.86s/product]"
     ]
    },
    {
     "name": "stdout",
     "output_type": "stream",
     "text": [
      "Error fetching supplier for SKU 0706271168 after 5 retries: HTTPSConnectionPool(host='www2.hm.com', port=443): Max retries exceeded with url: /sv_se/supplierDetails/articles/0706271168 (Caused by ResponseError('too many 400 error responses'))\n"
     ]
    },
    {
     "name": "stderr",
     "output_type": "stream",
     "text": [
      "Fetching Supplier Details:  58%|█████████████████████████▌                  | 1506/2588 [40:32<3:39:57, 12.20s/product]"
     ]
    },
    {
     "name": "stdout",
     "output_type": "stream",
     "text": [
      "Error fetching supplier for SKU 0706271170 after 5 retries: HTTPSConnectionPool(host='www2.hm.com', port=443): Max retries exceeded with url: /sv_se/supplierDetails/articles/0706271170 (Caused by ResponseError('too many 400 error responses'))\n"
     ]
    },
    {
     "name": "stderr",
     "output_type": "stream",
     "text": [
      "Fetching Supplier Details:  59%|█████████████████████████▊                  | 1516/2588 [40:54<1:45:08,  5.88s/product]"
     ]
    },
    {
     "name": "stdout",
     "output_type": "stream",
     "text": [
      "Error fetching supplier for SKU 1123347001 after 5 retries: HTTPSConnectionPool(host='www2.hm.com', port=443): Max retries exceeded with url: /sv_se/supplierDetails/articles/1123347001 (Caused by ResponseError('too many 400 error responses'))\n"
     ]
    },
    {
     "name": "stderr",
     "output_type": "stream",
     "text": [
      "Fetching Supplier Details:  59%|█████████████████████████▉                  | 1528/2588 [41:17<1:40:05,  5.67s/product]"
     ]
    },
    {
     "name": "stdout",
     "output_type": "stream",
     "text": [
      "Error fetching supplier for SKU 1247970002 after 5 retries: HTTPSConnectionPool(host='www2.hm.com', port=443): Max retries exceeded with url: /sv_se/supplierDetails/articles/1247970002 (Caused by ResponseError('too many 400 error responses'))\n"
     ]
    },
    {
     "name": "stderr",
     "output_type": "stream",
     "text": [
      "Fetching Supplier Details:  59%|█████████████████████████▉                  | 1529/2588 [41:34<2:42:59,  9.24s/product]"
     ]
    },
    {
     "name": "stdout",
     "output_type": "stream",
     "text": [
      "Error fetching supplier for SKU 1247970003 after 5 retries: HTTPSConnectionPool(host='www2.hm.com', port=443): Max retries exceeded with url: /sv_se/supplierDetails/articles/1247970003 (Caused by ResponseError('too many 400 error responses'))\n"
     ]
    },
    {
     "name": "stderr",
     "output_type": "stream",
     "text": [
      "Fetching Supplier Details:  59%|██████████████████████████                  | 1532/2588 [41:52<2:30:20,  8.54s/product]"
     ]
    },
    {
     "name": "stdout",
     "output_type": "stream",
     "text": [
      "Error fetching supplier for SKU 1249600001 after 5 retries: HTTPSConnectionPool(host='www2.hm.com', port=443): Max retries exceeded with url: /sv_se/supplierDetails/articles/1249600001 (Caused by ResponseError('too many 400 error responses'))\n"
     ]
    },
    {
     "name": "stderr",
     "output_type": "stream",
     "text": [
      "Fetching Supplier Details:  60%|██████████████████████████▏                 | 1543/2588 [42:15<1:40:37,  5.78s/product]"
     ]
    },
    {
     "name": "stdout",
     "output_type": "stream",
     "text": [
      "Error fetching supplier for SKU 1244678001 after 5 retries: HTTPSConnectionPool(host='www2.hm.com', port=443): Max retries exceeded with url: /sv_se/supplierDetails/articles/1244678001 (Caused by ResponseError('too many 400 error responses'))\n"
     ]
    },
    {
     "name": "stderr",
     "output_type": "stream",
     "text": [
      "Fetching Supplier Details:  60%|██████████████████████████▎                 | 1547/2588 [42:33<1:57:39,  6.78s/product]"
     ]
    },
    {
     "name": "stdout",
     "output_type": "stream",
     "text": [
      "Error fetching supplier for SKU 1250738001 after 5 retries: HTTPSConnectionPool(host='www2.hm.com', port=443): Max retries exceeded with url: /sv_se/supplierDetails/articles/1250738001 (Caused by ResponseError('too many 400 error responses'))\n"
     ]
    },
    {
     "name": "stderr",
     "output_type": "stream",
     "text": [
      "Fetching Supplier Details:  60%|██████████████████████████▍                 | 1556/2588 [42:54<1:40:28,  5.84s/product]"
     ]
    },
    {
     "name": "stdout",
     "output_type": "stream",
     "text": [
      "Error fetching supplier for SKU 1161986014 after 5 retries: HTTPSConnectionPool(host='www2.hm.com', port=443): Max retries exceeded with url: /sv_se/supplierDetails/articles/1161986014 (Caused by ResponseError('too many 400 error responses'))\n"
     ]
    },
    {
     "name": "stderr",
     "output_type": "stream",
     "text": [
      "Fetching Supplier Details:  60%|██████████████████████████▍                 | 1558/2588 [43:12<2:20:35,  8.19s/product]"
     ]
    },
    {
     "name": "stdout",
     "output_type": "stream",
     "text": [
      "Error fetching supplier for SKU 1214690001 after 5 retries: HTTPSConnectionPool(host='www2.hm.com', port=443): Max retries exceeded with url: /sv_se/supplierDetails/articles/1214690001 (Caused by ResponseError('too many 400 error responses'))\n"
     ]
    },
    {
     "name": "stderr",
     "output_type": "stream",
     "text": [
      "Fetching Supplier Details:  60%|██████████████████████████▌                 | 1560/2588 [43:31<2:42:31,  9.49s/product]"
     ]
    },
    {
     "name": "stdout",
     "output_type": "stream",
     "text": [
      "Error fetching supplier for SKU 1236728004 after 5 retries: HTTPSConnectionPool(host='www2.hm.com', port=443): Max retries exceeded with url: /sv_se/supplierDetails/articles/1236728004 (Caused by ResponseError('too many 400 error responses'))\n"
     ]
    },
    {
     "name": "stderr",
     "output_type": "stream",
     "text": [
      "Fetching Supplier Details:  61%|██████████████████████████▊                 | 1580/2588 [43:57<1:35:47,  5.70s/product]"
     ]
    },
    {
     "name": "stdout",
     "output_type": "stream",
     "text": [
      "Error fetching supplier for SKU 1233421004 after 5 retries: HTTPSConnectionPool(host='www2.hm.com', port=443): Max retries exceeded with url: /sv_se/supplierDetails/articles/1233421004 (Caused by ResponseError('too many 400 error responses'))\n"
     ]
    },
    {
     "name": "stderr",
     "output_type": "stream",
     "text": [
      "Fetching Supplier Details:  62%|███████████████████████████                 | 1593/2588 [44:21<1:34:21,  5.69s/product]"
     ]
    },
    {
     "name": "stdout",
     "output_type": "stream",
     "text": [
      "Error fetching supplier for SKU 1214423001 after 5 retries: HTTPSConnectionPool(host='www2.hm.com', port=443): Max retries exceeded with url: /sv_se/supplierDetails/articles/1214423001 (Caused by ResponseError('too many 400 error responses'))\n"
     ]
    },
    {
     "name": "stderr",
     "output_type": "stream",
     "text": [
      "Fetching Supplier Details:  62%|███████████████████████████▏                | 1601/2588 [44:41<1:35:54,  5.83s/product]"
     ]
    },
    {
     "name": "stdout",
     "output_type": "stream",
     "text": [
      "Error fetching supplier for SKU 1089881001 after 5 retries: HTTPSConnectionPool(host='www2.hm.com', port=443): Max retries exceeded with url: /sv_se/supplierDetails/articles/1089881001 (Caused by ResponseError('too many 400 error responses'))\n"
     ]
    },
    {
     "name": "stderr",
     "output_type": "stream",
     "text": [
      "Fetching Supplier Details:  62%|███████████████████████████▎                | 1603/2588 [44:59<2:15:38,  8.26s/product]"
     ]
    },
    {
     "name": "stdout",
     "output_type": "stream",
     "text": [
      "Error fetching supplier for SKU 1125749010 after 5 retries: HTTPSConnectionPool(host='www2.hm.com', port=443): Max retries exceeded with url: /sv_se/supplierDetails/articles/1125749010 (Caused by ResponseError('too many 400 error responses'))\n"
     ]
    },
    {
     "name": "stderr",
     "output_type": "stream",
     "text": [
      "Fetching Supplier Details:  62%|███████████████████████████▎                | 1606/2588 [45:18<2:16:37,  8.35s/product]"
     ]
    },
    {
     "name": "stdout",
     "output_type": "stream",
     "text": [
      "Error fetching supplier for SKU 1182955001 after 5 retries: HTTPSConnectionPool(host='www2.hm.com', port=443): Max retries exceeded with url: /sv_se/supplierDetails/articles/1182955001 (Caused by ResponseError('too many 400 error responses'))\n"
     ]
    },
    {
     "name": "stderr",
     "output_type": "stream",
     "text": [
      "Fetching Supplier Details:  62%|███████████████████████████▍                | 1613/2588 [45:39<1:43:53,  6.39s/product]"
     ]
    },
    {
     "name": "stdout",
     "output_type": "stream",
     "text": [
      "Error fetching supplier for SKU 1224112001 after 5 retries: HTTPSConnectionPool(host='www2.hm.com', port=443): Max retries exceeded with url: /sv_se/supplierDetails/articles/1224112001 (Caused by ResponseError('too many 400 error responses'))\n"
     ]
    },
    {
     "name": "stderr",
     "output_type": "stream",
     "text": [
      "Fetching Supplier Details:  62%|███████████████████████████▍                | 1614/2588 [45:57<2:39:25,  9.82s/product]"
     ]
    },
    {
     "name": "stdout",
     "output_type": "stream",
     "text": [
      "Error fetching supplier for SKU 1226390002 after 5 retries: HTTPSConnectionPool(host='www2.hm.com', port=443): Max retries exceeded with url: /sv_se/supplierDetails/articles/1226390002 (Caused by ResponseError('too many 400 error responses'))\n"
     ]
    },
    {
     "name": "stderr",
     "output_type": "stream",
     "text": [
      "Fetching Supplier Details:  63%|███████████████████████████▉                | 1643/2588 [46:28<1:29:28,  5.68s/product]"
     ]
    },
    {
     "name": "stdout",
     "output_type": "stream",
     "text": [
      "Error fetching supplier for SKU 1236616004 after 5 retries: HTTPSConnectionPool(host='www2.hm.com', port=443): Max retries exceeded with url: /sv_se/supplierDetails/articles/1236616004 (Caused by ResponseError('too many 400 error responses'))\n"
     ]
    },
    {
     "name": "stderr",
     "output_type": "stream",
     "text": [
      "Fetching Supplier Details:  65%|████████████████████████████▍               | 1673/2588 [47:01<1:25:05,  5.58s/product]"
     ]
    },
    {
     "name": "stdout",
     "output_type": "stream",
     "text": [
      "Error fetching supplier for SKU 0697920147 after 5 retries: HTTPSConnectionPool(host='www2.hm.com', port=443): Max retries exceeded with url: /sv_se/supplierDetails/articles/0697920147 (Caused by ResponseError('too many 400 error responses'))\n"
     ]
    },
    {
     "name": "stderr",
     "output_type": "stream",
     "text": [
      "Fetching Supplier Details:  65%|████████████████████████████▌               | 1680/2588 [47:21<1:30:27,  5.98s/product]"
     ]
    },
    {
     "name": "stdout",
     "output_type": "stream",
     "text": [
      "Error fetching supplier for SKU 0965257021 after 5 retries: HTTPSConnectionPool(host='www2.hm.com', port=443): Max retries exceeded with url: /sv_se/supplierDetails/articles/0965257021 (Caused by ResponseError('too many 400 error responses'))\n"
     ]
    },
    {
     "name": "stderr",
     "output_type": "stream",
     "text": [
      "Fetching Supplier Details:  66%|██████████████████████████████▍               | 1715/2588 [47:52<38:49,  2.67s/product]"
     ]
    },
    {
     "name": "stdout",
     "output_type": "stream",
     "text": [
      "Error fetching supplier for SKU 0697920147 after 5 retries: HTTPSConnectionPool(host='www2.hm.com', port=443): Max retries exceeded with url: /sv_se/supplierDetails/articles/0697920147 (Caused by ResponseError('too many 400 error responses'))\n"
     ]
    },
    {
     "name": "stderr",
     "output_type": "stream",
     "text": [
      "Fetching Supplier Details:  67%|█████████████████████████████▍              | 1729/2588 [48:12<1:08:28,  4.78s/product]"
     ]
    },
    {
     "name": "stdout",
     "output_type": "stream",
     "text": [
      "Error fetching supplier for SKU 1158129014 after 5 retries: HTTPSConnectionPool(host='www2.hm.com', port=443): Max retries exceeded with url: /sv_se/supplierDetails/articles/1158129014 (Caused by ResponseError('too many 400 error responses'))\n"
     ]
    },
    {
     "name": "stderr",
     "output_type": "stream",
     "text": [
      "Fetching Supplier Details:  67%|█████████████████████████████▌              | 1739/2588 [48:34<1:22:51,  5.86s/product]"
     ]
    },
    {
     "name": "stdout",
     "output_type": "stream",
     "text": [
      "Error fetching supplier for SKU 1206915008 after 5 retries: HTTPSConnectionPool(host='www2.hm.com', port=443): Max retries exceeded with url: /sv_se/supplierDetails/articles/1206915008 (Caused by ResponseError('too many 400 error responses'))\n"
     ]
    },
    {
     "name": "stderr",
     "output_type": "stream",
     "text": [
      "Fetching Supplier Details:  67%|█████████████████████████████▌              | 1740/2588 [48:53<2:16:32,  9.66s/product]"
     ]
    },
    {
     "name": "stdout",
     "output_type": "stream",
     "text": [
      "Error fetching supplier for SKU 1212180001 after 5 retries: HTTPSConnectionPool(host='www2.hm.com', port=443): Max retries exceeded with url: /sv_se/supplierDetails/articles/1212180001 (Caused by ResponseError('too many 400 error responses'))\n"
     ]
    },
    {
     "name": "stderr",
     "output_type": "stream",
     "text": [
      "Fetching Supplier Details:  67%|█████████████████████████████▌              | 1741/2588 [49:13<3:02:32, 12.93s/product]"
     ]
    },
    {
     "name": "stdout",
     "output_type": "stream",
     "text": [
      "Error fetching supplier for SKU 1212180002 after 5 retries: HTTPSConnectionPool(host='www2.hm.com', port=443): Max retries exceeded with url: /sv_se/supplierDetails/articles/1212180002 (Caused by ResponseError('too many 400 error responses'))\n"
     ]
    },
    {
     "name": "stderr",
     "output_type": "stream",
     "text": [
      "Fetching Supplier Details:  67%|█████████████████████████████▋              | 1743/2588 [49:31<2:44:19, 11.67s/product]"
     ]
    },
    {
     "name": "stdout",
     "output_type": "stream",
     "text": [
      "Error fetching supplier for SKU 1215610001 after 5 retries: HTTPSConnectionPool(host='www2.hm.com', port=443): Max retries exceeded with url: /sv_se/supplierDetails/articles/1215610001 (Caused by ResponseError('too many 400 error responses'))\n"
     ]
    },
    {
     "name": "stderr",
     "output_type": "stream",
     "text": [
      "Fetching Supplier Details:  67%|█████████████████████████████▋              | 1744/2588 [49:49<3:08:47, 13.42s/product]"
     ]
    },
    {
     "name": "stdout",
     "output_type": "stream",
     "text": [
      "Error fetching supplier for SKU 1217052002 after 5 retries: HTTPSConnectionPool(host='www2.hm.com', port=443): Max retries exceeded with url: /sv_se/supplierDetails/articles/1217052002 (Caused by ResponseError('too many 400 error responses'))\n"
     ]
    },
    {
     "name": "stderr",
     "output_type": "stream",
     "text": [
      "Fetching Supplier Details:  68%|█████████████████████████████▊              | 1750/2588 [50:08<1:38:31,  7.05s/product]"
     ]
    },
    {
     "name": "stdout",
     "output_type": "stream",
     "text": [
      "Error fetching supplier for SKU 1224374002 after 5 retries: HTTPSConnectionPool(host='www2.hm.com', port=443): Max retries exceeded with url: /sv_se/supplierDetails/articles/1224374002 (Caused by ResponseError('too many 400 error responses'))\n"
     ]
    },
    {
     "name": "stderr",
     "output_type": "stream",
     "text": [
      "Fetching Supplier Details:  68%|█████████████████████████████▊              | 1755/2588 [50:37<2:11:51,  9.50s/product]"
     ]
    },
    {
     "name": "stdout",
     "output_type": "stream",
     "text": [
      "Error fetching supplier for SKU 1228984001 after 5 retries: HTTPSConnectionPool(host='www2.hm.com', port=443): Max retries exceeded with url: /sv_se/supplierDetails/articles/1228984001 (Caused by NewConnectionError('<urllib3.connection.HTTPSConnection object at 0x000001A608AF6490>: Failed to establish a new connection: [Errno 11001] getaddrinfo failed'))\n"
     ]
    },
    {
     "name": "stderr",
     "output_type": "stream",
     "text": [
      "Fetching Supplier Details:  68%|█████████████████████████████▉              | 1763/2588 [51:08<1:26:22,  6.28s/product]"
     ]
    },
    {
     "name": "stdout",
     "output_type": "stream",
     "text": [
      "Error fetching supplier for SKU 1231418001 after 5 retries: HTTPSConnectionPool(host='www2.hm.com', port=443): Max retries exceeded with url: /sv_se/supplierDetails/articles/1231418001 (Caused by ResponseError('too many 400 error responses'))\n"
     ]
    },
    {
     "name": "stderr",
     "output_type": "stream",
     "text": [
      "Fetching Supplier Details:  68%|██████████████████████████████              | 1765/2588 [51:26<1:55:55,  8.45s/product]"
     ]
    },
    {
     "name": "stdout",
     "output_type": "stream",
     "text": [
      "Error fetching supplier for SKU 1240530003 after 5 retries: HTTPSConnectionPool(host='www2.hm.com', port=443): Max retries exceeded with url: /sv_se/supplierDetails/articles/1240530003 (Caused by ResponseError('too many 400 error responses'))\n"
     ]
    },
    {
     "name": "stderr",
     "output_type": "stream",
     "text": [
      "Fetching Supplier Details:  68%|██████████████████████████████              | 1766/2588 [51:44<2:34:17, 11.26s/product]"
     ]
    },
    {
     "name": "stdout",
     "output_type": "stream",
     "text": [
      "Error fetching supplier for SKU 1240533004 after 5 retries: HTTPSConnectionPool(host='www2.hm.com', port=443): Max retries exceeded with url: /sv_se/supplierDetails/articles/1240533004 (Caused by ResponseError('too many 400 error responses'))\n"
     ]
    },
    {
     "name": "stderr",
     "output_type": "stream",
     "text": [
      "Fetching Supplier Details:  68%|██████████████████████████████▏             | 1772/2588 [52:04<1:32:20,  6.79s/product]"
     ]
    },
    {
     "name": "stdout",
     "output_type": "stream",
     "text": [
      "Error fetching supplier for SKU 1247432001 after 5 retries: HTTPSConnectionPool(host='www2.hm.com', port=443): Max retries exceeded with url: /sv_se/supplierDetails/articles/1247432001 (Caused by ResponseError('too many 400 error responses'))\n"
     ]
    },
    {
     "name": "stderr",
     "output_type": "stream",
     "text": [
      "Fetching Supplier Details:  69%|██████████████████████████████▏             | 1773/2588 [52:21<2:15:55, 10.01s/product]"
     ]
    },
    {
     "name": "stdout",
     "output_type": "stream",
     "text": [
      "Error fetching supplier for SKU 1247435003 after 5 retries: HTTPSConnectionPool(host='www2.hm.com', port=443): Max retries exceeded with url: /sv_se/supplierDetails/articles/1247435003 (Caused by ResponseError('too many 400 error responses'))\n"
     ]
    },
    {
     "name": "stderr",
     "output_type": "stream",
     "text": [
      "Fetching Supplier Details:  69%|██████████████████████████████▏             | 1778/2588 [52:40<1:36:25,  7.14s/product]"
     ]
    },
    {
     "name": "stdout",
     "output_type": "stream",
     "text": [
      "Error fetching supplier for SKU 1248742002 after 5 retries: HTTPSConnectionPool(host='www2.hm.com', port=443): Max retries exceeded with url: /sv_se/supplierDetails/articles/1248742002 (Caused by ResponseError('too many 400 error responses'))\n"
     ]
    },
    {
     "name": "stderr",
     "output_type": "stream",
     "text": [
      "Fetching Supplier Details:  69%|██████████████████████████████▏             | 1779/2588 [52:58<2:19:05, 10.32s/product]"
     ]
    },
    {
     "name": "stdout",
     "output_type": "stream",
     "text": [
      "Error fetching supplier for SKU 1248938001 after 5 retries: HTTPSConnectionPool(host='www2.hm.com', port=443): Max retries exceeded with url: /sv_se/supplierDetails/articles/1248938001 (Caused by ResponseError('too many 400 error responses'))\n"
     ]
    },
    {
     "name": "stderr",
     "output_type": "stream",
     "text": [
      "Fetching Supplier Details:  69%|██████████████████████████████▎             | 1783/2588 [53:23<2:10:48,  9.75s/product]"
     ]
    },
    {
     "name": "stdout",
     "output_type": "stream",
     "text": [
      "Error fetching supplier for SKU 1251263002 after 5 retries: HTTPSConnectionPool(host='www2.hm.com', port=443): Max retries exceeded with url: /sv_se/supplierDetails/articles/1251263002 (Caused by ResponseError('too many 400 error responses'))\n"
     ]
    },
    {
     "name": "stderr",
     "output_type": "stream",
     "text": [
      "Fetching Supplier Details:  69%|██████████████████████████████▍             | 1789/2588 [54:17<2:22:44, 10.72s/product]"
     ]
    },
    {
     "name": "stdout",
     "output_type": "stream",
     "text": [
      "Error fetching supplier for SKU 1251597001 after 5 retries: HTTPSConnectionPool(host='www2.hm.com', port=443): Max retries exceeded with url: /sv_se/supplierDetails/articles/1251597001 (Caused by ResponseError('too many 400 error responses'))\n"
     ]
    },
    {
     "name": "stderr",
     "output_type": "stream",
     "text": [
      "Fetching Supplier Details:  69%|██████████████████████████████▍             | 1790/2588 [54:44<3:26:42, 15.54s/product]"
     ]
    },
    {
     "name": "stdout",
     "output_type": "stream",
     "text": [
      "Error fetching supplier for SKU 1251689001 after 5 retries: HTTPSConnectionPool(host='www2.hm.com', port=443): Max retries exceeded with url: /sv_se/supplierDetails/articles/1251689001 (Caused by ResponseError('too many 400 error responses'))\n"
     ]
    },
    {
     "name": "stderr",
     "output_type": "stream",
     "text": [
      "Fetching Supplier Details:  69%|██████████████████████████████▍             | 1791/2588 [55:19<4:46:53, 21.60s/product]"
     ]
    },
    {
     "name": "stdout",
     "output_type": "stream",
     "text": [
      "Error fetching supplier for SKU 1251748001 after 5 retries: HTTPSConnectionPool(host='www2.hm.com', port=443): Max retries exceeded with url: /sv_se/supplierDetails/articles/1251748001 (Caused by ResponseError('too many 400 error responses'))\n"
     ]
    },
    {
     "name": "stderr",
     "output_type": "stream",
     "text": [
      "Fetching Supplier Details:  69%|██████████████████████████████▍             | 1792/2588 [55:54<5:37:12, 25.42s/product]"
     ]
    },
    {
     "name": "stdout",
     "output_type": "stream",
     "text": [
      "Error fetching supplier for SKU 1253526001 after 5 retries: HTTPSConnectionPool(host='www2.hm.com', port=443): Max retries exceeded with url: /sv_se/supplierDetails/articles/1253526001 (Caused by ResponseError('too many 400 error responses'))\n"
     ]
    },
    {
     "name": "stderr",
     "output_type": "stream",
     "text": [
      "Fetching Supplier Details:  69%|██████████████████████████████▌             | 1798/2588 [56:27<2:13:05, 10.11s/product]"
     ]
    },
    {
     "name": "stdout",
     "output_type": "stream",
     "text": [
      "Error fetching supplier for SKU 1254712002 after 5 retries: HTTPSConnectionPool(host='www2.hm.com', port=443): Max retries exceeded with url: /sv_se/supplierDetails/articles/1254712002 (Caused by ResponseError('too many 400 error responses'))\n"
     ]
    },
    {
     "name": "stderr",
     "output_type": "stream",
     "text": [
      "Fetching Supplier Details:  70%|██████████████████████████████▌             | 1800/2588 [56:46<2:18:04, 10.51s/product]"
     ]
    },
    {
     "name": "stdout",
     "output_type": "stream",
     "text": [
      "Error fetching supplier for SKU 1254999001 after 5 retries: HTTPSConnectionPool(host='www2.hm.com', port=443): Max retries exceeded with url: /sv_se/supplierDetails/articles/1254999001 (Caused by ResponseError('too many 400 error responses'))\n"
     ]
    },
    {
     "name": "stderr",
     "output_type": "stream",
     "text": [
      "Fetching Supplier Details:  70%|██████████████████████████████▌             | 1801/2588 [57:04<2:47:20, 12.76s/product]"
     ]
    },
    {
     "name": "stdout",
     "output_type": "stream",
     "text": [
      "Error fetching supplier for SKU 1251689001 after 5 retries: HTTPSConnectionPool(host='www2.hm.com', port=443): Max retries exceeded with url: /sv_se/supplierDetails/articles/1251689001 (Caused by ResponseError('too many 400 error responses'))\n"
     ]
    },
    {
     "name": "stderr",
     "output_type": "stream",
     "text": [
      "Fetching Supplier Details:  70%|██████████████████████████████▋             | 1802/2588 [57:22<3:08:02, 14.35s/product]"
     ]
    },
    {
     "name": "stdout",
     "output_type": "stream",
     "text": [
      "Error fetching supplier for SKU 1251748001 after 5 retries: HTTPSConnectionPool(host='www2.hm.com', port=443): Max retries exceeded with url: /sv_se/supplierDetails/articles/1251748001 (Caused by ResponseError('too many 400 error responses'))\n"
     ]
    },
    {
     "name": "stderr",
     "output_type": "stream",
     "text": [
      "Fetching Supplier Details:  70%|██████████████████████████████▋             | 1804/2588 [57:40<2:22:01, 10.87s/product]"
     ]
    },
    {
     "name": "stdout",
     "output_type": "stream",
     "text": [
      "Error fetching supplier for SKU 1253526001 after 5 retries: HTTPSConnectionPool(host='www2.hm.com', port=443): Max retries exceeded with url: /sv_se/supplierDetails/articles/1253526001 (Caused by ResponseError('too many 400 error responses'))\n"
     ]
    },
    {
     "name": "stderr",
     "output_type": "stream",
     "text": [
      "Fetching Supplier Details:  70%|██████████████████████████████▋             | 1807/2588 [57:58<1:55:15,  8.85s/product]"
     ]
    },
    {
     "name": "stdout",
     "output_type": "stream",
     "text": [
      "Error fetching supplier for SKU 1254999001 after 5 retries: HTTPSConnectionPool(host='www2.hm.com', port=443): Max retries exceeded with url: /sv_se/supplierDetails/articles/1254999001 (Caused by ResponseError('too many 400 error responses'))\n"
     ]
    },
    {
     "name": "stderr",
     "output_type": "stream",
     "text": [
      "Fetching Supplier Details:  70%|██████████████████████████████▋             | 1808/2588 [58:16<2:26:55, 11.30s/product]"
     ]
    },
    {
     "name": "stdout",
     "output_type": "stream",
     "text": [
      "Error fetching supplier for SKU 1255429001 after 5 retries: HTTPSConnectionPool(host='www2.hm.com', port=443): Max retries exceeded with url: /sv_se/supplierDetails/articles/1255429001 (Caused by ResponseError('too many 400 error responses'))\n"
     ]
    },
    {
     "name": "stderr",
     "output_type": "stream",
     "text": [
      "Fetching Supplier Details:  71%|███████████████████████████████             | 1828/2588 [58:44<1:14:58,  5.92s/product]"
     ]
    },
    {
     "name": "stdout",
     "output_type": "stream",
     "text": [
      "Error fetching supplier for SKU 1248995002 after 5 retries: HTTPSConnectionPool(host='www2.hm.com', port=443): Max retries exceeded with url: /sv_se/supplierDetails/articles/1248995002 (Caused by ResponseError('too many 400 error responses'))\n"
     ]
    },
    {
     "name": "stderr",
     "output_type": "stream",
     "text": [
      "Fetching Supplier Details:  71%|███████████████████████████████             | 1829/2588 [59:03<2:03:08,  9.73s/product]"
     ]
    },
    {
     "name": "stdout",
     "output_type": "stream",
     "text": [
      "Error fetching supplier for SKU 0494713132 after 5 retries: HTTPSConnectionPool(host='www2.hm.com', port=443): Max retries exceeded with url: /sv_se/supplierDetails/articles/0494713132 (Caused by ResponseError('too many 400 error responses'))\n"
     ]
    },
    {
     "name": "stderr",
     "output_type": "stream",
     "text": [
      "Fetching Supplier Details:  71%|███████████████████████████████▏            | 1832/2588 [59:22<1:53:42,  9.02s/product]"
     ]
    },
    {
     "name": "stdout",
     "output_type": "stream",
     "text": [
      "Error fetching supplier for SKU 1228701002 after 5 retries: HTTPSConnectionPool(host='www2.hm.com', port=443): Max retries exceeded with url: /sv_se/supplierDetails/articles/1228701002 (Caused by ResponseError('too many 400 error responses'))\n"
     ]
    },
    {
     "name": "stderr",
     "output_type": "stream",
     "text": [
      "Fetching Supplier Details:  71%|███████████████████████████████▏            | 1833/2588 [59:40<2:27:04, 11.69s/product]"
     ]
    },
    {
     "name": "stdout",
     "output_type": "stream",
     "text": [
      "Error fetching supplier for SKU 1297131017 after 5 retries: HTTPSConnectionPool(host='www2.hm.com', port=443): Max retries exceeded with url: /sv_se/supplierDetails/articles/1297131017 (Caused by ResponseError('too many 400 error responses'))\n"
     ]
    },
    {
     "name": "stderr",
     "output_type": "stream",
     "text": [
      "Fetching Supplier Details:  71%|█████████████████████████████▉            | 1841/2588 [1:00:01<1:18:42,  6.32s/product]"
     ]
    },
    {
     "name": "stdout",
     "output_type": "stream",
     "text": [
      "Error fetching supplier for SKU 1228701002 after 5 retries: HTTPSConnectionPool(host='www2.hm.com', port=443): Max retries exceeded with url: /sv_se/supplierDetails/articles/1228701002 (Caused by ResponseError('too many 400 error responses'))\n"
     ]
    },
    {
     "name": "stderr",
     "output_type": "stream",
     "text": [
      "Fetching Supplier Details:  71%|█████████████████████████████▉            | 1842/2588 [1:00:19<2:02:17,  9.84s/product]"
     ]
    },
    {
     "name": "stdout",
     "output_type": "stream",
     "text": [
      "Error fetching supplier for SKU 1034463002 after 5 retries: HTTPSConnectionPool(host='www2.hm.com', port=443): Max retries exceeded with url: /sv_se/supplierDetails/articles/1034463002 (Caused by ResponseError('too many 400 error responses'))\n"
     ]
    },
    {
     "name": "stderr",
     "output_type": "stream",
     "text": [
      "Fetching Supplier Details:  71%|█████████████████████████████▉            | 1846/2588 [1:00:39<1:40:13,  8.11s/product]"
     ]
    },
    {
     "name": "stdout",
     "output_type": "stream",
     "text": [
      "Error fetching supplier for SKU 1147848001 after 5 retries: HTTPSConnectionPool(host='www2.hm.com', port=443): Max retries exceeded with url: /sv_se/supplierDetails/articles/1147848001 (Caused by ResponseError('too many 400 error responses'))\n"
     ]
    },
    {
     "name": "stderr",
     "output_type": "stream",
     "text": [
      "Fetching Supplier Details:  71%|█████████████████████████████▉            | 1848/2588 [1:00:57<1:56:41,  9.46s/product]"
     ]
    },
    {
     "name": "stdout",
     "output_type": "stream",
     "text": [
      "Error fetching supplier for SKU 1285394002 after 5 retries: HTTPSConnectionPool(host='www2.hm.com', port=443): Max retries exceeded with url: /sv_se/supplierDetails/articles/1285394002 (Caused by ResponseError('too many 400 error responses'))\n"
     ]
    },
    {
     "name": "stderr",
     "output_type": "stream",
     "text": [
      "Fetching Supplier Details:  71%|██████████████████████████████            | 1849/2588 [1:01:15<2:27:31, 11.98s/product]"
     ]
    },
    {
     "name": "stdout",
     "output_type": "stream",
     "text": [
      "Error fetching supplier for SKU 1231293001 after 5 retries: HTTPSConnectionPool(host='www2.hm.com', port=443): Max retries exceeded with url: /sv_se/supplierDetails/articles/1231293001 (Caused by ResponseError('too many 400 error responses'))\n"
     ]
    },
    {
     "name": "stderr",
     "output_type": "stream",
     "text": [
      "Fetching Supplier Details:  71%|██████████████████████████████            | 1850/2588 [1:01:33<2:48:56, 13.74s/product]"
     ]
    },
    {
     "name": "stdout",
     "output_type": "stream",
     "text": [
      "Error fetching supplier for SKU 1268501002 after 5 retries: HTTPSConnectionPool(host='www2.hm.com', port=443): Max retries exceeded with url: /sv_se/supplierDetails/articles/1268501002 (Caused by ResponseError('too many 400 error responses'))\n"
     ]
    },
    {
     "name": "stderr",
     "output_type": "stream",
     "text": [
      "Fetching Supplier Details:  72%|██████████████████████████████            | 1853/2588 [1:01:52<2:04:46, 10.19s/product]"
     ]
    },
    {
     "name": "stdout",
     "output_type": "stream",
     "text": [
      "Error fetching supplier for SKU 1256964013 after 5 retries: HTTPSConnectionPool(host='www2.hm.com', port=443): Max retries exceeded with url: /sv_se/supplierDetails/articles/1256964013 (Caused by ResponseError('too many 400 error responses'))\n"
     ]
    },
    {
     "name": "stderr",
     "output_type": "stream",
     "text": [
      "Fetching Supplier Details:  72%|██████████████████████████████            | 1854/2588 [1:02:10<2:33:01, 12.51s/product]"
     ]
    },
    {
     "name": "stdout",
     "output_type": "stream",
     "text": [
      "Error fetching supplier for SKU 1244145001 after 5 retries: HTTPSConnectionPool(host='www2.hm.com', port=443): Max retries exceeded with url: /sv_se/supplierDetails/articles/1244145001 (Caused by ResponseError('too many 400 error responses'))\n"
     ]
    },
    {
     "name": "stderr",
     "output_type": "stream",
     "text": [
      "Fetching Supplier Details:  72%|██████████████████████████████            | 1855/2588 [1:02:28<2:53:15, 14.18s/product]"
     ]
    },
    {
     "name": "stdout",
     "output_type": "stream",
     "text": [
      "Error fetching supplier for SKU 1256964002 after 5 retries: HTTPSConnectionPool(host='www2.hm.com', port=443): Max retries exceeded with url: /sv_se/supplierDetails/articles/1256964002 (Caused by ResponseError('too many 400 error responses'))\n"
     ]
    },
    {
     "name": "stderr",
     "output_type": "stream",
     "text": [
      "Fetching Supplier Details:  72%|██████████████████████████████            | 1856/2588 [1:02:46<3:09:28, 15.53s/product]"
     ]
    },
    {
     "name": "stdout",
     "output_type": "stream",
     "text": [
      "Error fetching supplier for SKU 1291264001 after 5 retries: HTTPSConnectionPool(host='www2.hm.com', port=443): Max retries exceeded with url: /sv_se/supplierDetails/articles/1291264001 (Caused by ResponseError('too many 400 error responses'))\n"
     ]
    },
    {
     "name": "stderr",
     "output_type": "stream",
     "text": [
      "Fetching Supplier Details:  72%|██████████████████████████████▏           | 1857/2588 [1:03:04<3:18:02, 16.25s/product]"
     ]
    },
    {
     "name": "stdout",
     "output_type": "stream",
     "text": [
      "Error fetching supplier for SKU 1265783001 after 5 retries: HTTPSConnectionPool(host='www2.hm.com', port=443): Max retries exceeded with url: /sv_se/supplierDetails/articles/1265783001 (Caused by ResponseError('too many 400 error responses'))\n"
     ]
    },
    {
     "name": "stderr",
     "output_type": "stream",
     "text": [
      "Fetching Supplier Details:  72%|██████████████████████████████▏           | 1858/2588 [1:03:22<3:24:34, 16.81s/product]"
     ]
    },
    {
     "name": "stdout",
     "output_type": "stream",
     "text": [
      "Error fetching supplier for SKU 1222151007 after 5 retries: HTTPSConnectionPool(host='www2.hm.com', port=443): Max retries exceeded with url: /sv_se/supplierDetails/articles/1222151007 (Caused by ResponseError('too many 400 error responses'))\n"
     ]
    },
    {
     "name": "stderr",
     "output_type": "stream",
     "text": [
      "Fetching Supplier Details:  72%|██████████████████████████████▏           | 1859/2588 [1:03:41<3:29:05, 17.21s/product]"
     ]
    },
    {
     "name": "stdout",
     "output_type": "stream",
     "text": [
      "Error fetching supplier for SKU 1270968002 after 5 retries: HTTPSConnectionPool(host='www2.hm.com', port=443): Max retries exceeded with url: /sv_se/supplierDetails/articles/1270968002 (Caused by ResponseError('too many 400 error responses'))\n"
     ]
    },
    {
     "name": "stderr",
     "output_type": "stream",
     "text": [
      "Fetching Supplier Details:  72%|██████████████████████████████▏           | 1860/2588 [1:03:59<3:31:46, 17.45s/product]"
     ]
    },
    {
     "name": "stdout",
     "output_type": "stream",
     "text": [
      "Error fetching supplier for SKU 1271827001 after 5 retries: HTTPSConnectionPool(host='www2.hm.com', port=443): Max retries exceeded with url: /sv_se/supplierDetails/articles/1271827001 (Caused by ResponseError('too many 400 error responses'))\n"
     ]
    },
    {
     "name": "stderr",
     "output_type": "stream",
     "text": [
      "Fetching Supplier Details:  72%|██████████████████████████████▏           | 1861/2588 [1:04:17<3:33:53, 17.65s/product]"
     ]
    },
    {
     "name": "stdout",
     "output_type": "stream",
     "text": [
      "Error fetching supplier for SKU 1234767015 after 5 retries: HTTPSConnectionPool(host='www2.hm.com', port=443): Max retries exceeded with url: /sv_se/supplierDetails/articles/1234767015 (Caused by ResponseError('too many 400 error responses'))\n"
     ]
    },
    {
     "name": "stderr",
     "output_type": "stream",
     "text": [
      "Fetching Supplier Details:  72%|██████████████████████████████▏           | 1862/2588 [1:04:35<3:34:48, 17.75s/product]"
     ]
    },
    {
     "name": "stdout",
     "output_type": "stream",
     "text": [
      "Error fetching supplier for SKU 1114252031 after 5 retries: HTTPSConnectionPool(host='www2.hm.com', port=443): Max retries exceeded with url: /sv_se/supplierDetails/articles/1114252031 (Caused by ResponseError('too many 400 error responses'))\n"
     ]
    },
    {
     "name": "stderr",
     "output_type": "stream",
     "text": [
      "Fetching Supplier Details:  72%|██████████████████████████████▏           | 1863/2588 [1:04:53<3:36:40, 17.93s/product]"
     ]
    },
    {
     "name": "stdout",
     "output_type": "stream",
     "text": [
      "Error fetching supplier for SKU 1114252034 after 5 retries: HTTPSConnectionPool(host='www2.hm.com', port=443): Max retries exceeded with url: /sv_se/supplierDetails/articles/1114252034 (Caused by ResponseError('too many 400 error responses'))\n"
     ]
    },
    {
     "name": "stderr",
     "output_type": "stream",
     "text": [
      "Fetching Supplier Details:  72%|██████████████████████████████▎           | 1864/2588 [1:05:11<3:36:45, 17.96s/product]"
     ]
    },
    {
     "name": "stdout",
     "output_type": "stream",
     "text": [
      "Error fetching supplier for SKU 1224763003 after 5 retries: HTTPSConnectionPool(host='www2.hm.com', port=443): Max retries exceeded with url: /sv_se/supplierDetails/articles/1224763003 (Caused by ResponseError('too many 400 error responses'))\n"
     ]
    },
    {
     "name": "stderr",
     "output_type": "stream",
     "text": [
      "Fetching Supplier Details:  72%|██████████████████████████████▎           | 1865/2588 [1:05:29<3:37:27, 18.05s/product]"
     ]
    },
    {
     "name": "stdout",
     "output_type": "stream",
     "text": [
      "Error fetching supplier for SKU 1282874002 after 5 retries: HTTPSConnectionPool(host='www2.hm.com', port=443): Max retries exceeded with url: /sv_se/supplierDetails/articles/1282874002 (Caused by ResponseError('too many 400 error responses'))\n"
     ]
    },
    {
     "name": "stderr",
     "output_type": "stream",
     "text": [
      "Fetching Supplier Details:  72%|██████████████████████████████▎           | 1866/2588 [1:05:55<4:03:48, 20.26s/product]"
     ]
    },
    {
     "name": "stdout",
     "output_type": "stream",
     "text": [
      "Error fetching supplier for SKU 1027814008 after 5 retries: HTTPSConnectionPool(host='www2.hm.com', port=443): Max retries exceeded with url: /sv_se/supplierDetails/articles/1027814008 (Caused by ResponseError('too many 400 error responses'))\n"
     ]
    },
    {
     "name": "stderr",
     "output_type": "stream",
     "text": [
      "Fetching Supplier Details:  72%|██████████████████████████████▎           | 1867/2588 [1:06:13<3:56:49, 19.71s/product]"
     ]
    },
    {
     "name": "stdout",
     "output_type": "stream",
     "text": [
      "Error fetching supplier for SKU 0970127051 after 5 retries: HTTPSConnectionPool(host='www2.hm.com', port=443): Max retries exceeded with url: /sv_se/supplierDetails/articles/0970127051 (Caused by ResponseError('too many 400 error responses'))\n"
     ]
    },
    {
     "name": "stderr",
     "output_type": "stream",
     "text": [
      "Fetching Supplier Details:  72%|██████████████████████████████▎           | 1868/2588 [1:06:31<3:49:56, 19.16s/product]"
     ]
    },
    {
     "name": "stdout",
     "output_type": "stream",
     "text": [
      "Error fetching supplier for SKU 1285263002 after 5 retries: HTTPSConnectionPool(host='www2.hm.com', port=443): Max retries exceeded with url: /sv_se/supplierDetails/articles/1285263002 (Caused by ResponseError('too many 400 error responses'))\n"
     ]
    },
    {
     "name": "stderr",
     "output_type": "stream",
     "text": [
      "Fetching Supplier Details:  72%|██████████████████████████████▎           | 1869/2588 [1:06:49<3:45:31, 18.82s/product]"
     ]
    },
    {
     "name": "stdout",
     "output_type": "stream",
     "text": [
      "Error fetching supplier for SKU 1285263001 after 5 retries: HTTPSConnectionPool(host='www2.hm.com', port=443): Max retries exceeded with url: /sv_se/supplierDetails/articles/1285263001 (Caused by ResponseError('too many 400 error responses'))\n"
     ]
    },
    {
     "name": "stderr",
     "output_type": "stream",
     "text": [
      "Fetching Supplier Details:  72%|██████████████████████████████▎           | 1870/2588 [1:07:07<3:42:19, 18.58s/product]"
     ]
    },
    {
     "name": "stdout",
     "output_type": "stream",
     "text": [
      "Error fetching supplier for SKU 1000960028 after 5 retries: HTTPSConnectionPool(host='www2.hm.com', port=443): Max retries exceeded with url: /sv_se/supplierDetails/articles/1000960028 (Caused by ResponseError('too many 400 error responses'))\n"
     ]
    },
    {
     "name": "stderr",
     "output_type": "stream",
     "text": [
      "Fetching Supplier Details:  72%|██████████████████████████████▎           | 1871/2588 [1:07:26<3:43:36, 18.71s/product]"
     ]
    },
    {
     "name": "stdout",
     "output_type": "stream",
     "text": [
      "Error fetching supplier for SKU 1246815003 after 5 retries: HTTPSConnectionPool(host='www2.hm.com', port=443): Max retries exceeded with url: /sv_se/supplierDetails/articles/1246815003 (Caused by ResponseError('too many 400 error responses'))\n"
     ]
    },
    {
     "name": "stderr",
     "output_type": "stream",
     "text": [
      "Fetching Supplier Details:  72%|██████████████████████████████▍           | 1872/2588 [1:07:44<3:41:05, 18.53s/product]"
     ]
    },
    {
     "name": "stdout",
     "output_type": "stream",
     "text": [
      "Error fetching supplier for SKU 1277215005 after 5 retries: HTTPSConnectionPool(host='www2.hm.com', port=443): Max retries exceeded with url: /sv_se/supplierDetails/articles/1277215005 (Caused by ResponseError('too many 400 error responses'))\n"
     ]
    },
    {
     "name": "stderr",
     "output_type": "stream",
     "text": [
      "Fetching Supplier Details:  72%|██████████████████████████████▍           | 1874/2588 [1:08:03<2:34:14, 12.96s/product]"
     ]
    },
    {
     "name": "stdout",
     "output_type": "stream",
     "text": [
      "Error fetching supplier for SKU 1000960009 after 5 retries: HTTPSConnectionPool(host='www2.hm.com', port=443): Max retries exceeded with url: /sv_se/supplierDetails/articles/1000960009 (Caused by ResponseError('too many 400 error responses'))\n"
     ]
    },
    {
     "name": "stderr",
     "output_type": "stream",
     "text": [
      "Fetching Supplier Details:  72%|██████████████████████████████▍           | 1875/2588 [1:08:21<2:52:26, 14.51s/product]"
     ]
    },
    {
     "name": "stdout",
     "output_type": "stream",
     "text": [
      "Error fetching supplier for SKU 1256964002 after 5 retries: HTTPSConnectionPool(host='www2.hm.com', port=443): Max retries exceeded with url: /sv_se/supplierDetails/articles/1256964002 (Caused by ResponseError('too many 400 error responses'))\n"
     ]
    },
    {
     "name": "stderr",
     "output_type": "stream",
     "text": [
      "Fetching Supplier Details:  72%|██████████████████████████████▍           | 1876/2588 [1:08:39<3:04:28, 15.55s/product]"
     ]
    },
    {
     "name": "stdout",
     "output_type": "stream",
     "text": [
      "Error fetching supplier for SKU 1142169013 after 5 retries: HTTPSConnectionPool(host='www2.hm.com', port=443): Max retries exceeded with url: /sv_se/supplierDetails/articles/1142169013 (Caused by ResponseError('too many 400 error responses'))\n"
     ]
    },
    {
     "name": "stderr",
     "output_type": "stream",
     "text": [
      "Fetching Supplier Details:  73%|██████████████████████████████▍           | 1877/2588 [1:08:57<3:13:20, 16.32s/product]"
     ]
    },
    {
     "name": "stdout",
     "output_type": "stream",
     "text": [
      "Error fetching supplier for SKU 1271827002 after 5 retries: HTTPSConnectionPool(host='www2.hm.com', port=443): Max retries exceeded with url: /sv_se/supplierDetails/articles/1271827002 (Caused by ResponseError('too many 400 error responses'))\n"
     ]
    },
    {
     "name": "stderr",
     "output_type": "stream",
     "text": [
      "Fetching Supplier Details:  73%|██████████████████████████████▍           | 1878/2588 [1:09:15<3:20:23, 16.93s/product]"
     ]
    },
    {
     "name": "stdout",
     "output_type": "stream",
     "text": [
      "Error fetching supplier for SKU 1278167004 after 5 retries: HTTPSConnectionPool(host='www2.hm.com', port=443): Max retries exceeded with url: /sv_se/supplierDetails/articles/1278167004 (Caused by ResponseError('too many 400 error responses'))\n"
     ]
    },
    {
     "name": "stderr",
     "output_type": "stream",
     "text": [
      "Fetching Supplier Details:  73%|██████████████████████████████▍           | 1879/2588 [1:09:33<3:24:20, 17.29s/product]"
     ]
    },
    {
     "name": "stdout",
     "output_type": "stream",
     "text": [
      "Error fetching supplier for SKU 1285914001 after 5 retries: HTTPSConnectionPool(host='www2.hm.com', port=443): Max retries exceeded with url: /sv_se/supplierDetails/articles/1285914001 (Caused by ResponseError('too many 400 error responses'))\n"
     ]
    },
    {
     "name": "stderr",
     "output_type": "stream",
     "text": [
      "Fetching Supplier Details:  73%|██████████████████████████████▌           | 1880/2588 [1:09:51<3:27:03, 17.55s/product]"
     ]
    },
    {
     "name": "stdout",
     "output_type": "stream",
     "text": [
      "Error fetching supplier for SKU 1291264001 after 5 retries: HTTPSConnectionPool(host='www2.hm.com', port=443): Max retries exceeded with url: /sv_se/supplierDetails/articles/1291264001 (Caused by ResponseError('too many 400 error responses'))\n"
     ]
    },
    {
     "name": "stderr",
     "output_type": "stream",
     "text": [
      "Fetching Supplier Details:  73%|██████████████████████████████▌           | 1881/2588 [1:10:10<3:29:25, 17.77s/product]"
     ]
    },
    {
     "name": "stdout",
     "output_type": "stream",
     "text": [
      "Error fetching supplier for SKU 1265783001 after 5 retries: HTTPSConnectionPool(host='www2.hm.com', port=443): Max retries exceeded with url: /sv_se/supplierDetails/articles/1265783001 (Caused by ResponseError('too many 400 error responses'))\n"
     ]
    },
    {
     "name": "stderr",
     "output_type": "stream",
     "text": [
      "Fetching Supplier Details:  73%|██████████████████████████████▌           | 1882/2588 [1:10:28<3:29:53, 17.84s/product]"
     ]
    },
    {
     "name": "stdout",
     "output_type": "stream",
     "text": [
      "Error fetching supplier for SKU 1222151007 after 5 retries: HTTPSConnectionPool(host='www2.hm.com', port=443): Max retries exceeded with url: /sv_se/supplierDetails/articles/1222151007 (Caused by ResponseError('too many 400 error responses'))\n"
     ]
    },
    {
     "name": "stderr",
     "output_type": "stream",
     "text": [
      "Fetching Supplier Details:  73%|██████████████████████████████▌           | 1883/2588 [1:10:46<3:30:22, 17.90s/product]"
     ]
    },
    {
     "name": "stdout",
     "output_type": "stream",
     "text": [
      "Error fetching supplier for SKU 1267170001 after 5 retries: HTTPSConnectionPool(host='www2.hm.com', port=443): Max retries exceeded with url: /sv_se/supplierDetails/articles/1267170001 (Caused by ResponseError('too many 400 error responses'))\n"
     ]
    },
    {
     "name": "stderr",
     "output_type": "stream",
     "text": [
      "Fetching Supplier Details:  73%|██████████████████████████████▌           | 1884/2588 [1:11:04<3:31:14, 18.00s/product]"
     ]
    },
    {
     "name": "stdout",
     "output_type": "stream",
     "text": [
      "Error fetching supplier for SKU 1234767015 after 5 retries: HTTPSConnectionPool(host='www2.hm.com', port=443): Max retries exceeded with url: /sv_se/supplierDetails/articles/1234767015 (Caused by ResponseError('too many 400 error responses'))\n"
     ]
    },
    {
     "name": "stderr",
     "output_type": "stream",
     "text": [
      "Fetching Supplier Details:  73%|██████████████████████████████▌           | 1885/2588 [1:11:22<3:31:23, 18.04s/product]"
     ]
    },
    {
     "name": "stdout",
     "output_type": "stream",
     "text": [
      "Error fetching supplier for SKU 1114252031 after 5 retries: HTTPSConnectionPool(host='www2.hm.com', port=443): Max retries exceeded with url: /sv_se/supplierDetails/articles/1114252031 (Caused by ResponseError('too many 400 error responses'))\n"
     ]
    },
    {
     "name": "stderr",
     "output_type": "stream",
     "text": [
      "Fetching Supplier Details:  73%|██████████████████████████████▌           | 1886/2588 [1:11:52<4:13:10, 21.64s/product]"
     ]
    },
    {
     "name": "stdout",
     "output_type": "stream",
     "text": [
      "Error fetching supplier for SKU 1114252034 after 5 retries: HTTPSConnectionPool(host='www2.hm.com', port=443): Max retries exceeded with url: /sv_se/supplierDetails/articles/1114252034 (Caused by NewConnectionError('<urllib3.connection.HTTPSConnection object at 0x000001A608B30190>: Failed to establish a new connection: [Errno 11001] getaddrinfo failed'))\n"
     ]
    },
    {
     "name": "stderr",
     "output_type": "stream",
     "text": [
      "Fetching Supplier Details:  73%|██████████████████████████████▌           | 1887/2588 [1:12:27<4:59:49, 25.66s/product]"
     ]
    },
    {
     "name": "stdout",
     "output_type": "stream",
     "text": [
      "Error fetching supplier for SKU 1285263002 after 5 retries: HTTPSConnectionPool(host='www2.hm.com', port=443): Max retries exceeded with url: /sv_se/supplierDetails/articles/1285263002 (Caused by ResponseError('too many 400 error responses'))\n"
     ]
    },
    {
     "name": "stderr",
     "output_type": "stream",
     "text": [
      "Fetching Supplier Details:  73%|██████████████████████████████▋           | 1888/2588 [1:12:45<4:32:38, 23.37s/product]"
     ]
    },
    {
     "name": "stdout",
     "output_type": "stream",
     "text": [
      "Error fetching supplier for SKU 1285263001 after 5 retries: HTTPSConnectionPool(host='www2.hm.com', port=443): Max retries exceeded with url: /sv_se/supplierDetails/articles/1285263001 (Caused by ResponseError('too many 400 error responses'))\n"
     ]
    },
    {
     "name": "stderr",
     "output_type": "stream",
     "text": [
      "Fetching Supplier Details:  73%|██████████████████████████████▋           | 1889/2588 [1:13:03<4:13:15, 21.74s/product]"
     ]
    },
    {
     "name": "stdout",
     "output_type": "stream",
     "text": [
      "Error fetching supplier for SKU 1271137003 after 5 retries: HTTPSConnectionPool(host='www2.hm.com', port=443): Max retries exceeded with url: /sv_se/supplierDetails/articles/1271137003 (Caused by ResponseError('too many 400 error responses'))\n"
     ]
    },
    {
     "name": "stderr",
     "output_type": "stream",
     "text": [
      "Fetching Supplier Details:  73%|██████████████████████████████▋           | 1890/2588 [1:13:22<4:01:39, 20.77s/product]"
     ]
    },
    {
     "name": "stdout",
     "output_type": "stream",
     "text": [
      "Error fetching supplier for SKU 1000960028 after 5 retries: HTTPSConnectionPool(host='www2.hm.com', port=443): Max retries exceeded with url: /sv_se/supplierDetails/articles/1000960028 (Caused by ResponseError('too many 400 error responses'))\n"
     ]
    },
    {
     "name": "stderr",
     "output_type": "stream",
     "text": [
      "Fetching Supplier Details:  73%|██████████████████████████████▋           | 1891/2588 [1:13:40<3:52:40, 20.03s/product]"
     ]
    },
    {
     "name": "stdout",
     "output_type": "stream",
     "text": [
      "Error fetching supplier for SKU 1246815003 after 5 retries: HTTPSConnectionPool(host='www2.hm.com', port=443): Max retries exceeded with url: /sv_se/supplierDetails/articles/1246815003 (Caused by ResponseError('too many 400 error responses'))\n"
     ]
    },
    {
     "name": "stderr",
     "output_type": "stream",
     "text": [
      "Fetching Supplier Details:  73%|██████████████████████████████▋           | 1892/2588 [1:13:58<3:45:49, 19.47s/product]"
     ]
    },
    {
     "name": "stdout",
     "output_type": "stream",
     "text": [
      "Error fetching supplier for SKU 1270611002 after 5 retries: HTTPSConnectionPool(host='www2.hm.com', port=443): Max retries exceeded with url: /sv_se/supplierDetails/articles/1270611002 (Caused by ResponseError('too many 400 error responses'))\n"
     ]
    },
    {
     "name": "stderr",
     "output_type": "stream",
     "text": [
      "Fetching Supplier Details:  73%|██████████████████████████████▋           | 1893/2588 [1:14:16<3:41:15, 19.10s/product]"
     ]
    },
    {
     "name": "stdout",
     "output_type": "stream",
     "text": [
      "Error fetching supplier for SKU 0527611098 after 5 retries: HTTPSConnectionPool(host='www2.hm.com', port=443): Max retries exceeded with url: /sv_se/supplierDetails/articles/0527611098 (Caused by ResponseError('too many 400 error responses'))\n"
     ]
    },
    {
     "name": "stderr",
     "output_type": "stream",
     "text": [
      "Fetching Supplier Details:  73%|██████████████████████████████▋           | 1894/2588 [1:14:34<3:37:07, 18.77s/product]"
     ]
    },
    {
     "name": "stdout",
     "output_type": "stream",
     "text": [
      "Error fetching supplier for SKU 1277957001 after 5 retries: HTTPSConnectionPool(host='www2.hm.com', port=443): Max retries exceeded with url: /sv_se/supplierDetails/articles/1277957001 (Caused by ResponseError('too many 400 error responses'))\n"
     ]
    },
    {
     "name": "stderr",
     "output_type": "stream",
     "text": [
      "Fetching Supplier Details:  73%|██████████████████████████████▊           | 1895/2588 [1:14:53<3:34:49, 18.60s/product]"
     ]
    },
    {
     "name": "stdout",
     "output_type": "stream",
     "text": [
      "Error fetching supplier for SKU 1270611001 after 5 retries: HTTPSConnectionPool(host='www2.hm.com', port=443): Max retries exceeded with url: /sv_se/supplierDetails/articles/1270611001 (Caused by ResponseError('too many 400 error responses'))\n"
     ]
    },
    {
     "name": "stderr",
     "output_type": "stream",
     "text": [
      "Fetching Supplier Details:  73%|██████████████████████████████▊           | 1896/2588 [1:15:11<3:32:29, 18.42s/product]"
     ]
    },
    {
     "name": "stdout",
     "output_type": "stream",
     "text": [
      "Error fetching supplier for SKU 1223221006 after 5 retries: HTTPSConnectionPool(host='www2.hm.com', port=443): Max retries exceeded with url: /sv_se/supplierDetails/articles/1223221006 (Caused by ResponseError('too many 400 error responses'))\n"
     ]
    },
    {
     "name": "stderr",
     "output_type": "stream",
     "text": [
      "Fetching Supplier Details:  73%|██████████████████████████████▊           | 1897/2588 [1:15:29<3:31:07, 18.33s/product]"
     ]
    },
    {
     "name": "stdout",
     "output_type": "stream",
     "text": [
      "Error fetching supplier for SKU 1261123001 after 5 retries: HTTPSConnectionPool(host='www2.hm.com', port=443): Max retries exceeded with url: /sv_se/supplierDetails/articles/1261123001 (Caused by ResponseError('too many 400 error responses'))\n"
     ]
    },
    {
     "name": "stderr",
     "output_type": "stream",
     "text": [
      "Fetching Supplier Details:  73%|██████████████████████████████▊           | 1898/2588 [1:15:47<3:30:15, 18.28s/product]"
     ]
    },
    {
     "name": "stdout",
     "output_type": "stream",
     "text": [
      "Error fetching supplier for SKU 1276223001 after 5 retries: HTTPSConnectionPool(host='www2.hm.com', port=443): Max retries exceeded with url: /sv_se/supplierDetails/articles/1276223001 (Caused by ResponseError('too many 400 error responses'))\n"
     ]
    },
    {
     "name": "stderr",
     "output_type": "stream",
     "text": [
      "Fetching Supplier Details:  73%|██████████████████████████████▊           | 1899/2588 [1:16:05<3:29:40, 18.26s/product]"
     ]
    },
    {
     "name": "stdout",
     "output_type": "stream",
     "text": [
      "Error fetching supplier for SKU 0948274048 after 5 retries: HTTPSConnectionPool(host='www2.hm.com', port=443): Max retries exceeded with url: /sv_se/supplierDetails/articles/0948274048 (Caused by ResponseError('too many 400 error responses'))\n"
     ]
    },
    {
     "name": "stderr",
     "output_type": "stream",
     "text": [
      "Fetching Supplier Details:  73%|██████████████████████████████▊           | 1900/2588 [1:16:23<3:29:07, 18.24s/product]"
     ]
    },
    {
     "name": "stdout",
     "output_type": "stream",
     "text": [
      "Error fetching supplier for SKU 0615347191 after 5 retries: HTTPSConnectionPool(host='www2.hm.com', port=443): Max retries exceeded with url: /sv_se/supplierDetails/articles/0615347191 (Caused by ResponseError('too many 400 error responses'))\n"
     ]
    },
    {
     "name": "stderr",
     "output_type": "stream",
     "text": [
      "Fetching Supplier Details:  73%|██████████████████████████████▊           | 1901/2588 [1:16:42<3:28:38, 18.22s/product]"
     ]
    },
    {
     "name": "stdout",
     "output_type": "stream",
     "text": [
      "Error fetching supplier for SKU 1000960036 after 5 retries: HTTPSConnectionPool(host='www2.hm.com', port=443): Max retries exceeded with url: /sv_se/supplierDetails/articles/1000960036 (Caused by ResponseError('too many 400 error responses'))\n"
     ]
    },
    {
     "name": "stderr",
     "output_type": "stream",
     "text": [
      "Fetching Supplier Details:  73%|██████████████████████████████▊           | 1902/2588 [1:17:02<3:34:58, 18.80s/product]"
     ]
    },
    {
     "name": "stdout",
     "output_type": "stream",
     "text": [
      "Error fetching supplier for SKU 1224792001 after 5 retries: HTTPSConnectionPool(host='www2.hm.com', port=443): Max retries exceeded with url: /sv_se/supplierDetails/articles/1224792001 (Caused by ResponseError('too many 400 error responses'))\n"
     ]
    },
    {
     "name": "stderr",
     "output_type": "stream",
     "text": [
      "Fetching Supplier Details:  74%|██████████████████████████████▉           | 1903/2588 [1:17:21<3:36:00, 18.92s/product]"
     ]
    },
    {
     "name": "stdout",
     "output_type": "stream",
     "text": [
      "Error fetching supplier for SKU 1228701011 after 5 retries: HTTPSConnectionPool(host='www2.hm.com', port=443): Max retries exceeded with url: /sv_se/supplierDetails/articles/1228701011 (Caused by ResponseError('too many 400 error responses'))\n"
     ]
    },
    {
     "name": "stderr",
     "output_type": "stream",
     "text": [
      "Fetching Supplier Details:  74%|██████████████████████████████▉           | 1905/2588 [1:17:40<2:49:43, 14.91s/product]"
     ]
    },
    {
     "name": "stdout",
     "output_type": "stream",
     "text": [
      "Error fetching supplier for SKU 1285685001 after 5 retries: HTTPSConnectionPool(host='www2.hm.com', port=443): Max retries exceeded with url: /sv_se/supplierDetails/articles/1285685001 (Caused by ResponseError('too many 400 error responses'))\n"
     ]
    },
    {
     "name": "stderr",
     "output_type": "stream",
     "text": [
      "Fetching Supplier Details:  74%|██████████████████████████████▉           | 1906/2588 [1:17:59<3:02:47, 16.08s/product]"
     ]
    },
    {
     "name": "stdout",
     "output_type": "stream",
     "text": [
      "Error fetching supplier for SKU 1285685002 after 5 retries: HTTPSConnectionPool(host='www2.hm.com', port=443): Max retries exceeded with url: /sv_se/supplierDetails/articles/1285685002 (Caused by ResponseError('too many 400 error responses'))\n"
     ]
    },
    {
     "name": "stderr",
     "output_type": "stream",
     "text": [
      "Fetching Supplier Details:  74%|██████████████████████████████▉           | 1907/2588 [1:18:17<3:09:37, 16.71s/product]"
     ]
    },
    {
     "name": "stdout",
     "output_type": "stream",
     "text": [
      "Error fetching supplier for SKU 1224930002 after 5 retries: HTTPSConnectionPool(host='www2.hm.com', port=443): Max retries exceeded with url: /sv_se/supplierDetails/articles/1224930002 (Caused by ResponseError('too many 400 error responses'))\n"
     ]
    },
    {
     "name": "stderr",
     "output_type": "stream",
     "text": [
      "Fetching Supplier Details:  74%|██████████████████████████████▉           | 1908/2588 [1:18:35<3:14:55, 17.20s/product]"
     ]
    },
    {
     "name": "stdout",
     "output_type": "stream",
     "text": [
      "Error fetching supplier for SKU 1255889003 after 5 retries: HTTPSConnectionPool(host='www2.hm.com', port=443): Max retries exceeded with url: /sv_se/supplierDetails/articles/1255889003 (Caused by ResponseError('too many 400 error responses'))\n"
     ]
    },
    {
     "name": "stderr",
     "output_type": "stream",
     "text": [
      "Fetching Supplier Details:  74%|██████████████████████████████▉           | 1909/2588 [1:18:53<3:17:41, 17.47s/product]"
     ]
    },
    {
     "name": "stdout",
     "output_type": "stream",
     "text": [
      "Error fetching supplier for SKU 1196989017 after 5 retries: HTTPSConnectionPool(host='www2.hm.com', port=443): Max retries exceeded with url: /sv_se/supplierDetails/articles/1196989017 (Caused by ResponseError('too many 400 error responses'))\n"
     ]
    },
    {
     "name": "stderr",
     "output_type": "stream",
     "text": [
      "Fetching Supplier Details:  74%|██████████████████████████████▉           | 1910/2588 [1:19:11<3:19:05, 17.62s/product]"
     ]
    },
    {
     "name": "stdout",
     "output_type": "stream",
     "text": [
      "Error fetching supplier for SKU 1282969001 after 5 retries: HTTPSConnectionPool(host='www2.hm.com', port=443): Max retries exceeded with url: /sv_se/supplierDetails/articles/1282969001 (Caused by ResponseError('too many 400 error responses'))\n"
     ]
    },
    {
     "name": "stderr",
     "output_type": "stream",
     "text": [
      "Fetching Supplier Details:  74%|███████████████████████████████           | 1911/2588 [1:19:29<3:20:44, 17.79s/product]"
     ]
    },
    {
     "name": "stdout",
     "output_type": "stream",
     "text": [
      "Error fetching supplier for SKU 0828122076 after 5 retries: HTTPSConnectionPool(host='www2.hm.com', port=443): Max retries exceeded with url: /sv_se/supplierDetails/articles/0828122076 (Caused by ResponseError('too many 400 error responses'))\n"
     ]
    },
    {
     "name": "stderr",
     "output_type": "stream",
     "text": [
      "Fetching Supplier Details:  74%|███████████████████████████████           | 1912/2588 [1:19:50<3:28:47, 18.53s/product]"
     ]
    },
    {
     "name": "stdout",
     "output_type": "stream",
     "text": [
      "Error fetching supplier for SKU 1281654003 after 5 retries: HTTPSConnectionPool(host='www2.hm.com', port=443): Max retries exceeded with url: /sv_se/supplierDetails/articles/1281654003 (Caused by ResponseError('too many 400 error responses'))\n"
     ]
    },
    {
     "name": "stderr",
     "output_type": "stream",
     "text": [
      "Fetching Supplier Details:  74%|███████████████████████████████           | 1913/2588 [1:20:08<3:26:47, 18.38s/product]"
     ]
    },
    {
     "name": "stdout",
     "output_type": "stream",
     "text": [
      "Error fetching supplier for SKU 1298843002 after 5 retries: HTTPSConnectionPool(host='www2.hm.com', port=443): Max retries exceeded with url: /sv_se/supplierDetails/articles/1298843002 (Caused by ResponseError('too many 400 error responses'))\n"
     ]
    },
    {
     "name": "stderr",
     "output_type": "stream",
     "text": [
      "Fetching Supplier Details:  74%|███████████████████████████████           | 1915/2588 [1:20:27<2:43:48, 14.60s/product]"
     ]
    },
    {
     "name": "stdout",
     "output_type": "stream",
     "text": [
      "Error fetching supplier for SKU 1073202004 after 5 retries: HTTPSConnectionPool(host='www2.hm.com', port=443): Max retries exceeded with url: /sv_se/supplierDetails/articles/1073202004 (Caused by ResponseError('too many 400 error responses'))\n"
     ]
    },
    {
     "name": "stderr",
     "output_type": "stream",
     "text": [
      "Fetching Supplier Details:  74%|███████████████████████████████           | 1917/2588 [1:20:45<2:22:12, 12.72s/product]"
     ]
    },
    {
     "name": "stdout",
     "output_type": "stream",
     "text": [
      "Error fetching supplier for SKU 1228701020 after 5 retries: HTTPSConnectionPool(host='www2.hm.com', port=443): Max retries exceeded with url: /sv_se/supplierDetails/articles/1228701020 (Caused by ResponseError('too many 400 error responses'))\n"
     ]
    },
    {
     "name": "stderr",
     "output_type": "stream",
     "text": [
      "Fetching Supplier Details:  74%|███████████████████████████████▏          | 1918/2588 [1:21:03<2:39:52, 14.32s/product]"
     ]
    },
    {
     "name": "stdout",
     "output_type": "stream",
     "text": [
      "Error fetching supplier for SKU 1256964006 after 5 retries: HTTPSConnectionPool(host='www2.hm.com', port=443): Max retries exceeded with url: /sv_se/supplierDetails/articles/1256964006 (Caused by ResponseError('too many 400 error responses'))\n"
     ]
    },
    {
     "name": "stderr",
     "output_type": "stream",
     "text": [
      "Fetching Supplier Details:  74%|███████████████████████████████▏          | 1919/2588 [1:21:22<2:52:34, 15.48s/product]"
     ]
    },
    {
     "name": "stdout",
     "output_type": "stream",
     "text": [
      "Error fetching supplier for SKU 0828122074 after 5 retries: HTTPSConnectionPool(host='www2.hm.com', port=443): Max retries exceeded with url: /sv_se/supplierDetails/articles/0828122074 (Caused by ResponseError('too many 400 error responses'))\n"
     ]
    },
    {
     "name": "stderr",
     "output_type": "stream",
     "text": [
      "Fetching Supplier Details:  74%|███████████████████████████████▏          | 1920/2588 [1:21:40<3:01:16, 16.28s/product]"
     ]
    },
    {
     "name": "stdout",
     "output_type": "stream",
     "text": [
      "Error fetching supplier for SKU 1273324002 after 5 retries: HTTPSConnectionPool(host='www2.hm.com', port=443): Max retries exceeded with url: /sv_se/supplierDetails/articles/1273324002 (Caused by ResponseError('too many 400 error responses'))\n"
     ]
    },
    {
     "name": "stderr",
     "output_type": "stream",
     "text": [
      "Fetching Supplier Details:  74%|███████████████████████████████▏          | 1921/2588 [1:21:58<3:07:06, 16.83s/product]"
     ]
    },
    {
     "name": "stdout",
     "output_type": "stream",
     "text": [
      "Error fetching supplier for SKU 1289894002 after 5 retries: HTTPSConnectionPool(host='www2.hm.com', port=443): Max retries exceeded with url: /sv_se/supplierDetails/articles/1289894002 (Caused by ResponseError('too many 400 error responses'))\n"
     ]
    },
    {
     "name": "stderr",
     "output_type": "stream",
     "text": [
      "Fetching Supplier Details:  74%|███████████████████████████████▏          | 1922/2588 [1:22:16<3:11:48, 17.28s/product]"
     ]
    },
    {
     "name": "stdout",
     "output_type": "stream",
     "text": [
      "Error fetching supplier for SKU 1224763004 after 5 retries: HTTPSConnectionPool(host='www2.hm.com', port=443): Max retries exceeded with url: /sv_se/supplierDetails/articles/1224763004 (Caused by ResponseError('too many 400 error responses'))\n"
     ]
    },
    {
     "name": "stderr",
     "output_type": "stream",
     "text": [
      "Fetching Supplier Details:  74%|███████████████████████████████▏          | 1923/2588 [1:22:34<3:14:57, 17.59s/product]"
     ]
    },
    {
     "name": "stdout",
     "output_type": "stream",
     "text": [
      "Error fetching supplier for SKU 0970127054 after 5 retries: HTTPSConnectionPool(host='www2.hm.com', port=443): Max retries exceeded with url: /sv_se/supplierDetails/articles/0970127054 (Caused by ResponseError('too many 400 error responses'))\n"
     ]
    },
    {
     "name": "stderr",
     "output_type": "stream",
     "text": [
      "Fetching Supplier Details:  74%|███████████████████████████████▏          | 1924/2588 [1:22:52<3:16:04, 17.72s/product]"
     ]
    },
    {
     "name": "stdout",
     "output_type": "stream",
     "text": [
      "Error fetching supplier for SKU 1306092001 after 5 retries: HTTPSConnectionPool(host='www2.hm.com', port=443): Max retries exceeded with url: /sv_se/supplierDetails/articles/1306092001 (Caused by ResponseError('too many 400 error responses'))\n"
     ]
    },
    {
     "name": "stderr",
     "output_type": "stream",
     "text": [
      "Fetching Supplier Details:  74%|███████████████████████████████▏          | 1925/2588 [1:23:11<3:17:08, 17.84s/product]"
     ]
    },
    {
     "name": "stdout",
     "output_type": "stream",
     "text": [
      "Error fetching supplier for SKU 1231293002 after 5 retries: HTTPSConnectionPool(host='www2.hm.com', port=443): Max retries exceeded with url: /sv_se/supplierDetails/articles/1231293002 (Caused by ResponseError('too many 400 error responses'))\n"
     ]
    },
    {
     "name": "stderr",
     "output_type": "stream",
     "text": [
      "Fetching Supplier Details:  74%|███████████████████████████████▎          | 1926/2588 [1:23:29<3:18:07, 17.96s/product]"
     ]
    },
    {
     "name": "stdout",
     "output_type": "stream",
     "text": [
      "Error fetching supplier for SKU 1284404001 after 5 retries: HTTPSConnectionPool(host='www2.hm.com', port=443): Max retries exceeded with url: /sv_se/supplierDetails/articles/1284404001 (Caused by ResponseError('too many 400 error responses'))\n"
     ]
    },
    {
     "name": "stderr",
     "output_type": "stream",
     "text": [
      "Fetching Supplier Details:  74%|███████████████████████████████▎          | 1927/2588 [1:23:47<3:19:44, 18.13s/product]"
     ]
    },
    {
     "name": "stdout",
     "output_type": "stream",
     "text": [
      "Error fetching supplier for SKU 0710956028 after 5 retries: HTTPSConnectionPool(host='www2.hm.com', port=443): Max retries exceeded with url: /sv_se/supplierDetails/articles/0710956028 (Caused by ResponseError('too many 400 error responses'))\n"
     ]
    },
    {
     "name": "stderr",
     "output_type": "stream",
     "text": [
      "Fetching Supplier Details:  74%|███████████████████████████████▎          | 1928/2588 [1:24:06<3:19:48, 18.16s/product]"
     ]
    },
    {
     "name": "stdout",
     "output_type": "stream",
     "text": [
      "Error fetching supplier for SKU 1273084001 after 5 retries: HTTPSConnectionPool(host='www2.hm.com', port=443): Max retries exceeded with url: /sv_se/supplierDetails/articles/1273084001 (Caused by ResponseError('too many 400 error responses'))\n"
     ]
    },
    {
     "name": "stderr",
     "output_type": "stream",
     "text": [
      "Fetching Supplier Details:  75%|███████████████████████████████▎          | 1929/2588 [1:24:24<3:19:47, 18.19s/product]"
     ]
    },
    {
     "name": "stdout",
     "output_type": "stream",
     "text": [
      "Error fetching supplier for SKU 1250004003 after 5 retries: HTTPSConnectionPool(host='www2.hm.com', port=443): Max retries exceeded with url: /sv_se/supplierDetails/articles/1250004003 (Caused by ResponseError('too many 400 error responses'))\n"
     ]
    },
    {
     "name": "stderr",
     "output_type": "stream",
     "text": [
      "Fetching Supplier Details:  75%|███████████████████████████████▎          | 1930/2588 [1:24:42<3:19:38, 18.21s/product]"
     ]
    },
    {
     "name": "stdout",
     "output_type": "stream",
     "text": [
      "Error fetching supplier for SKU 1301145001 after 5 retries: HTTPSConnectionPool(host='www2.hm.com', port=443): Max retries exceeded with url: /sv_se/supplierDetails/articles/1301145001 (Caused by ResponseError('too many 400 error responses'))\n"
     ]
    },
    {
     "name": "stderr",
     "output_type": "stream",
     "text": [
      "Fetching Supplier Details:  75%|███████████████████████████████▎          | 1931/2588 [1:25:00<3:19:04, 18.18s/product]"
     ]
    },
    {
     "name": "stdout",
     "output_type": "stream",
     "text": [
      "Error fetching supplier for SKU 1271137001 after 5 retries: HTTPSConnectionPool(host='www2.hm.com', port=443): Max retries exceeded with url: /sv_se/supplierDetails/articles/1271137001 (Caused by ResponseError('too many 400 error responses'))\n"
     ]
    },
    {
     "name": "stderr",
     "output_type": "stream",
     "text": [
      "Fetching Supplier Details:  75%|███████████████████████████████▎          | 1932/2588 [1:25:18<3:18:44, 18.18s/product]"
     ]
    },
    {
     "name": "stdout",
     "output_type": "stream",
     "text": [
      "Error fetching supplier for SKU 1273084002 after 5 retries: HTTPSConnectionPool(host='www2.hm.com', port=443): Max retries exceeded with url: /sv_se/supplierDetails/articles/1273084002 (Caused by ResponseError('too many 400 error responses'))\n"
     ]
    },
    {
     "name": "stderr",
     "output_type": "stream",
     "text": [
      "Fetching Supplier Details:  75%|███████████████████████████████▎          | 1933/2588 [1:25:36<3:17:34, 18.10s/product]"
     ]
    },
    {
     "name": "stdout",
     "output_type": "stream",
     "text": [
      "Error fetching supplier for SKU 0857697001 after 5 retries: HTTPSConnectionPool(host='www2.hm.com', port=443): Max retries exceeded with url: /sv_se/supplierDetails/articles/0857697001 (Caused by ResponseError('too many 400 error responses'))\n"
     ]
    },
    {
     "name": "stderr",
     "output_type": "stream",
     "text": [
      "Fetching Supplier Details:  75%|███████████████████████████████▍          | 1934/2588 [1:25:55<3:17:52, 18.15s/product]"
     ]
    },
    {
     "name": "stdout",
     "output_type": "stream",
     "text": [
      "Error fetching supplier for SKU 1267997002 after 5 retries: HTTPSConnectionPool(host='www2.hm.com', port=443): Max retries exceeded with url: /sv_se/supplierDetails/articles/1267997002 (Caused by ResponseError('too many 400 error responses'))\n"
     ]
    },
    {
     "name": "stderr",
     "output_type": "stream",
     "text": [
      "Fetching Supplier Details:  75%|███████████████████████████████▍          | 1935/2588 [1:26:13<3:18:04, 18.20s/product]"
     ]
    },
    {
     "name": "stdout",
     "output_type": "stream",
     "text": [
      "Error fetching supplier for SKU 1268501003 after 5 retries: HTTPSConnectionPool(host='www2.hm.com', port=443): Max retries exceeded with url: /sv_se/supplierDetails/articles/1268501003 (Caused by ResponseError('too many 400 error responses'))\n"
     ]
    },
    {
     "name": "stderr",
     "output_type": "stream",
     "text": [
      "Fetching Supplier Details:  75%|███████████████████████████████▍          | 1936/2588 [1:26:31<3:17:54, 18.21s/product]"
     ]
    },
    {
     "name": "stdout",
     "output_type": "stream",
     "text": [
      "Error fetching supplier for SKU 1001870020 after 5 retries: HTTPSConnectionPool(host='www2.hm.com', port=443): Max retries exceeded with url: /sv_se/supplierDetails/articles/1001870020 (Caused by ResponseError('too many 400 error responses'))\n"
     ]
    },
    {
     "name": "stderr",
     "output_type": "stream",
     "text": [
      "Fetching Supplier Details:  75%|███████████████████████████████▍          | 1937/2588 [1:26:49<3:16:57, 18.15s/product]"
     ]
    },
    {
     "name": "stdout",
     "output_type": "stream",
     "text": [
      "Error fetching supplier for SKU 1264654001 after 5 retries: HTTPSConnectionPool(host='www2.hm.com', port=443): Max retries exceeded with url: /sv_se/supplierDetails/articles/1264654001 (Caused by ResponseError('too many 400 error responses'))\n"
     ]
    },
    {
     "name": "stderr",
     "output_type": "stream",
     "text": [
      "Fetching Supplier Details:  75%|███████████████████████████████▍          | 1938/2588 [1:27:07<3:16:29, 18.14s/product]"
     ]
    },
    {
     "name": "stdout",
     "output_type": "stream",
     "text": [
      "Error fetching supplier for SKU 1229590006 after 5 retries: HTTPSConnectionPool(host='www2.hm.com', port=443): Max retries exceeded with url: /sv_se/supplierDetails/articles/1229590006 (Caused by ResponseError('too many 400 error responses'))\n"
     ]
    },
    {
     "name": "stderr",
     "output_type": "stream",
     "text": [
      "Fetching Supplier Details:  75%|███████████████████████████████▍          | 1939/2588 [1:27:25<3:16:27, 18.16s/product]"
     ]
    },
    {
     "name": "stdout",
     "output_type": "stream",
     "text": [
      "Error fetching supplier for SKU 0899196151 after 5 retries: HTTPSConnectionPool(host='www2.hm.com', port=443): Max retries exceeded with url: /sv_se/supplierDetails/articles/0899196151 (Caused by ResponseError('too many 400 error responses'))\n"
     ]
    },
    {
     "name": "stderr",
     "output_type": "stream",
     "text": [
      "Fetching Supplier Details:  75%|███████████████████████████████▌          | 1941/2588 [1:27:44<2:35:26, 14.42s/product]"
     ]
    },
    {
     "name": "stdout",
     "output_type": "stream",
     "text": [
      "Error fetching supplier for SKU 1233176004 after 5 retries: HTTPSConnectionPool(host='www2.hm.com', port=443): Max retries exceeded with url: /sv_se/supplierDetails/articles/1233176004 (Caused by ResponseError('too many 400 error responses'))\n"
     ]
    },
    {
     "name": "stderr",
     "output_type": "stream",
     "text": [
      "Fetching Supplier Details:  75%|███████████████████████████████▌          | 1942/2588 [1:28:02<2:46:52, 15.50s/product]"
     ]
    },
    {
     "name": "stdout",
     "output_type": "stream",
     "text": [
      "Error fetching supplier for SKU 0989216004 after 5 retries: HTTPSConnectionPool(host='www2.hm.com', port=443): Max retries exceeded with url: /sv_se/supplierDetails/articles/0989216004 (Caused by ResponseError('too many 400 error responses'))\n"
     ]
    },
    {
     "name": "stderr",
     "output_type": "stream",
     "text": [
      "Fetching Supplier Details:  75%|███████████████████████████████▌          | 1943/2588 [1:28:21<2:56:23, 16.41s/product]"
     ]
    },
    {
     "name": "stdout",
     "output_type": "stream",
     "text": [
      "Error fetching supplier for SKU 0948274053 after 5 retries: HTTPSConnectionPool(host='www2.hm.com', port=443): Max retries exceeded with url: /sv_se/supplierDetails/articles/0948274053 (Caused by ResponseError('too many 400 error responses'))\n"
     ]
    },
    {
     "name": "stderr",
     "output_type": "stream",
     "text": [
      "Fetching Supplier Details:  75%|███████████████████████████████▌          | 1944/2588 [1:28:42<3:11:04, 17.80s/product]"
     ]
    },
    {
     "name": "stdout",
     "output_type": "stream",
     "text": [
      "Error fetching supplier for SKU 1285264001 after 5 retries: HTTPSConnectionPool(host='www2.hm.com', port=443): Max retries exceeded with url: /sv_se/supplierDetails/articles/1285264001 (Caused by ResponseError('too many 400 error responses'))\n"
     ]
    },
    {
     "name": "stderr",
     "output_type": "stream",
     "text": [
      "Fetching Supplier Details:  75%|███████████████████████████████▌          | 1945/2588 [1:29:12<3:51:10, 21.57s/product]"
     ]
    },
    {
     "name": "stdout",
     "output_type": "stream",
     "text": [
      "Error fetching supplier for SKU 1277655002 after 5 retries: HTTPSConnectionPool(host='www2.hm.com', port=443): Max retries exceeded with url: /sv_se/supplierDetails/articles/1277655002 (Caused by ProtocolError('Connection aborted.', ConnectionAbortedError(10053, 'An established connection was aborted by the software in your host machine', None, 10053, None)))\n"
     ]
    },
    {
     "name": "stderr",
     "output_type": "stream",
     "text": [
      "Fetching Supplier Details:  75%|███████████████████████████████▌          | 1946/2588 [1:29:57<5:07:02, 28.70s/product]"
     ]
    },
    {
     "name": "stdout",
     "output_type": "stream",
     "text": [
      "Error fetching supplier for SKU 1285684001 after 5 retries: HTTPSConnectionPool(host='www2.hm.com', port=443): Max retries exceeded with url: /sv_se/supplierDetails/articles/1285684001 (Caused by ResponseError('too many 400 error responses'))\n"
     ]
    },
    {
     "name": "stderr",
     "output_type": "stream",
     "text": [
      "Fetching Supplier Details:  75%|███████████████████████████████▌          | 1947/2588 [1:30:15<4:30:09, 25.29s/product]"
     ]
    },
    {
     "name": "stdout",
     "output_type": "stream",
     "text": [
      "Error fetching supplier for SKU 1285684002 after 5 retries: HTTPSConnectionPool(host='www2.hm.com', port=443): Max retries exceeded with url: /sv_se/supplierDetails/articles/1285684002 (Caused by ResponseError('too many 400 error responses'))\n"
     ]
    },
    {
     "name": "stderr",
     "output_type": "stream",
     "text": [
      "Fetching Supplier Details:  75%|███████████████████████████████▌          | 1948/2588 [1:30:32<4:04:18, 22.90s/product]"
     ]
    },
    {
     "name": "stdout",
     "output_type": "stream",
     "text": [
      "Error fetching supplier for SKU 1001870023 after 5 retries: HTTPSConnectionPool(host='www2.hm.com', port=443): Max retries exceeded with url: /sv_se/supplierDetails/articles/1001870023 (Caused by ResponseError('too many 400 error responses'))\n"
     ]
    },
    {
     "name": "stderr",
     "output_type": "stream",
     "text": [
      "Fetching Supplier Details:  75%|███████████████████████████████▋          | 1949/2588 [1:30:50<3:47:16, 21.34s/product]"
     ]
    },
    {
     "name": "stdout",
     "output_type": "stream",
     "text": [
      "Error fetching supplier for SKU 1278167003 after 5 retries: HTTPSConnectionPool(host='www2.hm.com', port=443): Max retries exceeded with url: /sv_se/supplierDetails/articles/1278167003 (Caused by ResponseError('too many 400 error responses'))\n"
     ]
    },
    {
     "name": "stderr",
     "output_type": "stream",
     "text": [
      "Fetching Supplier Details:  75%|███████████████████████████████▋          | 1950/2588 [1:31:07<3:34:33, 20.18s/product]"
     ]
    },
    {
     "name": "stdout",
     "output_type": "stream",
     "text": [
      "Error fetching supplier for SKU 1285565001 after 5 retries: HTTPSConnectionPool(host='www2.hm.com', port=443): Max retries exceeded with url: /sv_se/supplierDetails/articles/1285565001 (Caused by ResponseError('too many 400 error responses'))\n"
     ]
    },
    {
     "name": "stderr",
     "output_type": "stream",
     "text": [
      "Fetching Supplier Details:  75%|███████████████████████████████▋          | 1951/2588 [1:31:25<3:26:00, 19.40s/product]"
     ]
    },
    {
     "name": "stdout",
     "output_type": "stream",
     "text": [
      "Error fetching supplier for SKU 1018404009 after 5 retries: HTTPSConnectionPool(host='www2.hm.com', port=443): Max retries exceeded with url: /sv_se/supplierDetails/articles/1018404009 (Caused by ResponseError('too many 400 error responses'))\n"
     ]
    },
    {
     "name": "stderr",
     "output_type": "stream",
     "text": [
      "Fetching Supplier Details:  75%|███████████████████████████████▋          | 1952/2588 [1:31:42<3:19:27, 18.82s/product]"
     ]
    },
    {
     "name": "stdout",
     "output_type": "stream",
     "text": [
      "Error fetching supplier for SKU 1289730001 after 5 retries: HTTPSConnectionPool(host='www2.hm.com', port=443): Max retries exceeded with url: /sv_se/supplierDetails/articles/1289730001 (Caused by ResponseError('too many 400 error responses'))\n"
     ]
    },
    {
     "name": "stderr",
     "output_type": "stream",
     "text": [
      "Fetching Supplier Details:  75%|███████████████████████████████▋          | 1953/2588 [1:32:00<3:14:50, 18.41s/product]"
     ]
    },
    {
     "name": "stdout",
     "output_type": "stream",
     "text": [
      "Error fetching supplier for SKU 1027734044 after 5 retries: HTTPSConnectionPool(host='www2.hm.com', port=443): Max retries exceeded with url: /sv_se/supplierDetails/articles/1027734044 (Caused by ResponseError('too many 400 error responses'))\n"
     ]
    },
    {
     "name": "stderr",
     "output_type": "stream",
     "text": [
      "Fetching Supplier Details:  76%|███████████████████████████████▋          | 1954/2588 [1:32:17<3:11:08, 18.09s/product]"
     ]
    },
    {
     "name": "stdout",
     "output_type": "stream",
     "text": [
      "Error fetching supplier for SKU 1146543018 after 5 retries: HTTPSConnectionPool(host='www2.hm.com', port=443): Max retries exceeded with url: /sv_se/supplierDetails/articles/1146543018 (Caused by ResponseError('too many 400 error responses'))\n"
     ]
    },
    {
     "name": "stderr",
     "output_type": "stream",
     "text": [
      "Fetching Supplier Details:  76%|███████████████████████████████▋          | 1955/2588 [1:32:34<3:09:04, 17.92s/product]"
     ]
    },
    {
     "name": "stdout",
     "output_type": "stream",
     "text": [
      "Error fetching supplier for SKU 1285261002 after 5 retries: HTTPSConnectionPool(host='www2.hm.com', port=443): Max retries exceeded with url: /sv_se/supplierDetails/articles/1285261002 (Caused by ResponseError('too many 400 error responses'))\n"
     ]
    },
    {
     "name": "stderr",
     "output_type": "stream",
     "text": [
      "Fetching Supplier Details:  76%|███████████████████████████████▋          | 1956/2588 [1:32:52<3:07:09, 17.77s/product]"
     ]
    },
    {
     "name": "stdout",
     "output_type": "stream",
     "text": [
      "Error fetching supplier for SKU 1277955001 after 5 retries: HTTPSConnectionPool(host='www2.hm.com', port=443): Max retries exceeded with url: /sv_se/supplierDetails/articles/1277955001 (Caused by ResponseError('too many 400 error responses'))\n"
     ]
    },
    {
     "name": "stderr",
     "output_type": "stream",
     "text": [
      "Fetching Supplier Details:  76%|███████████████████████████████▊          | 1957/2588 [1:33:09<3:05:18, 17.62s/product]"
     ]
    },
    {
     "name": "stdout",
     "output_type": "stream",
     "text": [
      "Error fetching supplier for SKU 0990934010 after 5 retries: HTTPSConnectionPool(host='www2.hm.com', port=443): Max retries exceeded with url: /sv_se/supplierDetails/articles/0990934010 (Caused by ResponseError('too many 400 error responses'))\n"
     ]
    },
    {
     "name": "stderr",
     "output_type": "stream",
     "text": [
      "Fetching Supplier Details:  76%|███████████████████████████████▊          | 1958/2588 [1:33:27<3:06:22, 17.75s/product]"
     ]
    },
    {
     "name": "stdout",
     "output_type": "stream",
     "text": [
      "Error fetching supplier for SKU 1302582001 after 5 retries: HTTPSConnectionPool(host='www2.hm.com', port=443): Max retries exceeded with url: /sv_se/supplierDetails/articles/1302582001 (Caused by ResponseError('too many 400 error responses'))\n"
     ]
    },
    {
     "name": "stderr",
     "output_type": "stream",
     "text": [
      "Fetching Supplier Details:  76%|███████████████████████████████▊          | 1959/2588 [1:33:45<3:06:03, 17.75s/product]"
     ]
    },
    {
     "name": "stdout",
     "output_type": "stream",
     "text": [
      "Error fetching supplier for SKU 1267408003 after 5 retries: HTTPSConnectionPool(host='www2.hm.com', port=443): Max retries exceeded with url: /sv_se/supplierDetails/articles/1267408003 (Caused by ResponseError('too many 400 error responses'))\n"
     ]
    },
    {
     "name": "stderr",
     "output_type": "stream",
     "text": [
      "Fetching Supplier Details:  76%|███████████████████████████████▊          | 1960/2588 [1:34:03<3:07:05, 17.88s/product]"
     ]
    },
    {
     "name": "stdout",
     "output_type": "stream",
     "text": [
      "Error fetching supplier for SKU 1255889001 after 5 retries: HTTPSConnectionPool(host='www2.hm.com', port=443): Max retries exceeded with url: /sv_se/supplierDetails/articles/1255889001 (Caused by ResponseError('too many 400 error responses'))\n"
     ]
    },
    {
     "name": "stderr",
     "output_type": "stream",
     "text": [
      "Fetching Supplier Details:  76%|███████████████████████████████▊          | 1961/2588 [1:34:21<3:06:34, 17.85s/product]"
     ]
    },
    {
     "name": "stdout",
     "output_type": "stream",
     "text": [
      "Error fetching supplier for SKU 0615347189 after 5 retries: HTTPSConnectionPool(host='www2.hm.com', port=443): Max retries exceeded with url: /sv_se/supplierDetails/articles/0615347189 (Caused by ResponseError('too many 400 error responses'))\n"
     ]
    },
    {
     "name": "stderr",
     "output_type": "stream",
     "text": [
      "Fetching Supplier Details:  76%|███████████████████████████████▊          | 1962/2588 [1:34:38<3:05:02, 17.74s/product]"
     ]
    },
    {
     "name": "stdout",
     "output_type": "stream",
     "text": [
      "Error fetching supplier for SKU 0710956032 after 5 retries: HTTPSConnectionPool(host='www2.hm.com', port=443): Max retries exceeded with url: /sv_se/supplierDetails/articles/0710956032 (Caused by ResponseError('too many 400 error responses'))\n"
     ]
    },
    {
     "name": "stderr",
     "output_type": "stream",
     "text": [
      "Fetching Supplier Details:  76%|███████████████████████████████▊          | 1963/2588 [1:34:56<3:03:54, 17.65s/product]"
     ]
    },
    {
     "name": "stdout",
     "output_type": "stream",
     "text": [
      "Error fetching supplier for SKU 1234767011 after 5 retries: HTTPSConnectionPool(host='www2.hm.com', port=443): Max retries exceeded with url: /sv_se/supplierDetails/articles/1234767011 (Caused by ResponseError('too many 400 error responses'))\n"
     ]
    },
    {
     "name": "stderr",
     "output_type": "stream",
     "text": [
      "Fetching Supplier Details:  76%|███████████████████████████████▊          | 1964/2588 [1:35:13<3:02:32, 17.55s/product]"
     ]
    },
    {
     "name": "stdout",
     "output_type": "stream",
     "text": [
      "Error fetching supplier for SKU 1276704002 after 5 retries: HTTPSConnectionPool(host='www2.hm.com', port=443): Max retries exceeded with url: /sv_se/supplierDetails/articles/1276704002 (Caused by ResponseError('too many 400 error responses'))\n"
     ]
    },
    {
     "name": "stderr",
     "output_type": "stream",
     "text": [
      "Fetching Supplier Details:  76%|███████████████████████████████▉          | 1965/2588 [1:35:31<3:02:05, 17.54s/product]"
     ]
    },
    {
     "name": "stdout",
     "output_type": "stream",
     "text": [
      "Error fetching supplier for SKU 1285914002 after 5 retries: HTTPSConnectionPool(host='www2.hm.com', port=443): Max retries exceeded with url: /sv_se/supplierDetails/articles/1285914002 (Caused by ResponseError('too many 400 error responses'))\n"
     ]
    },
    {
     "name": "stderr",
     "output_type": "stream",
     "text": [
      "Fetching Supplier Details:  76%|███████████████████████████████▉          | 1967/2588 [1:35:49<2:24:38, 13.98s/product]"
     ]
    },
    {
     "name": "stdout",
     "output_type": "stream",
     "text": [
      "Error fetching supplier for SKU 1196989029 after 5 retries: HTTPSConnectionPool(host='www2.hm.com', port=443): Max retries exceeded with url: /sv_se/supplierDetails/articles/1196989029 (Caused by ResponseError('too many 400 error responses'))\n"
     ]
    },
    {
     "name": "stderr",
     "output_type": "stream",
     "text": [
      "Fetching Supplier Details:  76%|███████████████████████████████▉          | 1968/2588 [1:36:06<2:34:50, 14.99s/product]"
     ]
    },
    {
     "name": "stdout",
     "output_type": "stream",
     "text": [
      "Error fetching supplier for SKU 1277171001 after 5 retries: HTTPSConnectionPool(host='www2.hm.com', port=443): Max retries exceeded with url: /sv_se/supplierDetails/articles/1277171001 (Caused by ResponseError('too many 400 error responses'))\n"
     ]
    },
    {
     "name": "stderr",
     "output_type": "stream",
     "text": [
      "Fetching Supplier Details:  76%|███████████████████████████████▉          | 1969/2588 [1:36:23<2:42:06, 15.71s/product]"
     ]
    },
    {
     "name": "stdout",
     "output_type": "stream",
     "text": [
      "Error fetching supplier for SKU 1290866001 after 5 retries: HTTPSConnectionPool(host='www2.hm.com', port=443): Max retries exceeded with url: /sv_se/supplierDetails/articles/1290866001 (Caused by ResponseError('too many 400 error responses'))\n"
     ]
    },
    {
     "name": "stderr",
     "output_type": "stream",
     "text": [
      "Fetching Supplier Details:  76%|███████████████████████████████▉          | 1970/2588 [1:36:41<2:47:35, 16.27s/product]"
     ]
    },
    {
     "name": "stdout",
     "output_type": "stream",
     "text": [
      "Error fetching supplier for SKU 1268194002 after 5 retries: HTTPSConnectionPool(host='www2.hm.com', port=443): Max retries exceeded with url: /sv_se/supplierDetails/articles/1268194002 (Caused by ResponseError('too many 400 error responses'))\n"
     ]
    },
    {
     "name": "stderr",
     "output_type": "stream",
     "text": [
      "Fetching Supplier Details:  76%|████████████████████████████████          | 1972/2588 [1:36:59<2:16:34, 13.30s/product]"
     ]
    },
    {
     "name": "stdout",
     "output_type": "stream",
     "text": [
      "Error fetching supplier for SKU 1228701017 after 5 retries: HTTPSConnectionPool(host='www2.hm.com', port=443): Max retries exceeded with url: /sv_se/supplierDetails/articles/1228701017 (Caused by ResponseError('too many 400 error responses'))\n"
     ]
    },
    {
     "name": "stderr",
     "output_type": "stream",
     "text": [
      "Fetching Supplier Details:  76%|████████████████████████████████          | 1973/2588 [1:37:16<2:28:49, 14.52s/product]"
     ]
    },
    {
     "name": "stdout",
     "output_type": "stream",
     "text": [
      "Error fetching supplier for SKU 1292167001 after 5 retries: HTTPSConnectionPool(host='www2.hm.com', port=443): Max retries exceeded with url: /sv_se/supplierDetails/articles/1292167001 (Caused by ResponseError('too many 400 error responses'))\n"
     ]
    },
    {
     "name": "stderr",
     "output_type": "stream",
     "text": [
      "Fetching Supplier Details:  76%|████████████████████████████████          | 1974/2588 [1:37:34<2:37:44, 15.42s/product]"
     ]
    },
    {
     "name": "stdout",
     "output_type": "stream",
     "text": [
      "Error fetching supplier for SKU 1292167002 after 5 retries: HTTPSConnectionPool(host='www2.hm.com', port=443): Max retries exceeded with url: /sv_se/supplierDetails/articles/1292167002 (Caused by ResponseError('too many 400 error responses'))\n"
     ]
    },
    {
     "name": "stderr",
     "output_type": "stream",
     "text": [
      "Fetching Supplier Details:  76%|████████████████████████████████          | 1975/2588 [1:37:51<2:43:46, 16.03s/product]"
     ]
    },
    {
     "name": "stdout",
     "output_type": "stream",
     "text": [
      "Error fetching supplier for SKU 1285914004 after 5 retries: HTTPSConnectionPool(host='www2.hm.com', port=443): Max retries exceeded with url: /sv_se/supplierDetails/articles/1285914004 (Caused by ResponseError('too many 400 error responses'))\n"
     ]
    },
    {
     "name": "stderr",
     "output_type": "stream",
     "text": [
      "Fetching Supplier Details:  76%|████████████████████████████████          | 1976/2588 [1:38:09<2:48:27, 16.51s/product]"
     ]
    },
    {
     "name": "stdout",
     "output_type": "stream",
     "text": [
      "Error fetching supplier for SKU 0828122072 after 5 retries: HTTPSConnectionPool(host='www2.hm.com', port=443): Max retries exceeded with url: /sv_se/supplierDetails/articles/0828122072 (Caused by ResponseError('too many 400 error responses'))\n"
     ]
    },
    {
     "name": "stderr",
     "output_type": "stream",
     "text": [
      "Fetching Supplier Details:  76%|████████████████████████████████          | 1977/2588 [1:38:27<2:51:32, 16.85s/product]"
     ]
    },
    {
     "name": "stdout",
     "output_type": "stream",
     "text": [
      "Error fetching supplier for SKU 1268183003 after 5 retries: HTTPSConnectionPool(host='www2.hm.com', port=443): Max retries exceeded with url: /sv_se/supplierDetails/articles/1268183003 (Caused by ResponseError('too many 400 error responses'))\n"
     ]
    },
    {
     "name": "stderr",
     "output_type": "stream",
     "text": [
      "Fetching Supplier Details:  76%|████████████████████████████████          | 1978/2588 [1:38:44<2:53:12, 17.04s/product]"
     ]
    },
    {
     "name": "stdout",
     "output_type": "stream",
     "text": [
      "Error fetching supplier for SKU 1261873007 after 5 retries: HTTPSConnectionPool(host='www2.hm.com', port=443): Max retries exceeded with url: /sv_se/supplierDetails/articles/1261873007 (Caused by ResponseError('too many 400 error responses'))\n"
     ]
    },
    {
     "name": "stderr",
     "output_type": "stream",
     "text": [
      "Fetching Supplier Details:  76%|████████████████████████████████          | 1979/2588 [1:39:02<2:54:25, 17.18s/product]"
     ]
    },
    {
     "name": "stdout",
     "output_type": "stream",
     "text": [
      "Error fetching supplier for SKU 1274579001 after 5 retries: HTTPSConnectionPool(host='www2.hm.com', port=443): Max retries exceeded with url: /sv_se/supplierDetails/articles/1274579001 (Caused by ResponseError('too many 400 error responses'))\n"
     ]
    },
    {
     "name": "stderr",
     "output_type": "stream",
     "text": [
      "Fetching Supplier Details:  77%|████████████████████████████████▏         | 1980/2588 [1:39:19<2:54:38, 17.23s/product]"
     ]
    },
    {
     "name": "stdout",
     "output_type": "stream",
     "text": [
      "Error fetching supplier for SKU 1282122001 after 5 retries: HTTPSConnectionPool(host='www2.hm.com', port=443): Max retries exceeded with url: /sv_se/supplierDetails/articles/1282122001 (Caused by ResponseError('too many 400 error responses'))\n"
     ]
    },
    {
     "name": "stderr",
     "output_type": "stream",
     "text": [
      "Fetching Supplier Details:  77%|████████████████████████████████▏         | 1981/2588 [1:39:36<2:55:23, 17.34s/product]"
     ]
    },
    {
     "name": "stdout",
     "output_type": "stream",
     "text": [
      "Error fetching supplier for SKU 1297434003 after 5 retries: HTTPSConnectionPool(host='www2.hm.com', port=443): Max retries exceeded with url: /sv_se/supplierDetails/articles/1297434003 (Caused by ResponseError('too many 400 error responses'))\n"
     ]
    },
    {
     "name": "stderr",
     "output_type": "stream",
     "text": [
      "Fetching Supplier Details:  77%|████████████████████████████████▏         | 1982/2588 [1:39:54<2:56:37, 17.49s/product]"
     ]
    },
    {
     "name": "stdout",
     "output_type": "stream",
     "text": [
      "Error fetching supplier for SKU 1139837013 after 5 retries: HTTPSConnectionPool(host='www2.hm.com', port=443): Max retries exceeded with url: /sv_se/supplierDetails/articles/1139837013 (Caused by ResponseError('too many 400 error responses'))\n"
     ]
    },
    {
     "name": "stderr",
     "output_type": "stream",
     "text": [
      "Fetching Supplier Details:  77%|████████████████████████████████▏         | 1983/2588 [1:40:12<2:56:20, 17.49s/product]"
     ]
    },
    {
     "name": "stdout",
     "output_type": "stream",
     "text": [
      "Error fetching supplier for SKU 1265802001 after 5 retries: HTTPSConnectionPool(host='www2.hm.com', port=443): Max retries exceeded with url: /sv_se/supplierDetails/articles/1265802001 (Caused by ResponseError('too many 400 error responses'))\n"
     ]
    },
    {
     "name": "stderr",
     "output_type": "stream",
     "text": [
      "Fetching Supplier Details:  77%|████████████████████████████████▏         | 1984/2588 [1:40:30<2:56:43, 17.56s/product]"
     ]
    },
    {
     "name": "stdout",
     "output_type": "stream",
     "text": [
      "Error fetching supplier for SKU 1000960032 after 5 retries: HTTPSConnectionPool(host='www2.hm.com', port=443): Max retries exceeded with url: /sv_se/supplierDetails/articles/1000960032 (Caused by ResponseError('too many 400 error responses'))\n"
     ]
    },
    {
     "name": "stderr",
     "output_type": "stream",
     "text": [
      "Fetching Supplier Details:  77%|████████████████████████████████▏         | 1985/2588 [1:40:47<2:56:09, 17.53s/product]"
     ]
    },
    {
     "name": "stdout",
     "output_type": "stream",
     "text": [
      "Error fetching supplier for SKU 0828122077 after 5 retries: HTTPSConnectionPool(host='www2.hm.com', port=443): Max retries exceeded with url: /sv_se/supplierDetails/articles/0828122077 (Caused by ResponseError('too many 400 error responses'))\n"
     ]
    },
    {
     "name": "stderr",
     "output_type": "stream",
     "text": [
      "Fetching Supplier Details:  77%|████████████████████████████████▏         | 1986/2588 [1:41:05<2:56:11, 17.56s/product]"
     ]
    },
    {
     "name": "stdout",
     "output_type": "stream",
     "text": [
      "Error fetching supplier for SKU 1001870025 after 5 retries: HTTPSConnectionPool(host='www2.hm.com', port=443): Max retries exceeded with url: /sv_se/supplierDetails/articles/1001870025 (Caused by ResponseError('too many 400 error responses'))\n"
     ]
    },
    {
     "name": "stderr",
     "output_type": "stream",
     "text": [
      "Fetching Supplier Details:  77%|████████████████████████████████▏         | 1987/2588 [1:41:22<2:56:06, 17.58s/product]"
     ]
    },
    {
     "name": "stdout",
     "output_type": "stream",
     "text": [
      "Error fetching supplier for SKU 1213115005 after 5 retries: HTTPSConnectionPool(host='www2.hm.com', port=443): Max retries exceeded with url: /sv_se/supplierDetails/articles/1213115005 (Caused by ResponseError('too many 400 error responses'))\n"
     ]
    },
    {
     "name": "stderr",
     "output_type": "stream",
     "text": [
      "Fetching Supplier Details:  77%|████████████████████████████████▎         | 1988/2588 [1:41:40<2:54:58, 17.50s/product]"
     ]
    },
    {
     "name": "stdout",
     "output_type": "stream",
     "text": [
      "Error fetching supplier for SKU 1277655001 after 5 retries: HTTPSConnectionPool(host='www2.hm.com', port=443): Max retries exceeded with url: /sv_se/supplierDetails/articles/1277655001 (Caused by ResponseError('too many 400 error responses'))\n"
     ]
    },
    {
     "name": "stderr",
     "output_type": "stream",
     "text": [
      "Fetching Supplier Details:  77%|████████████████████████████████▎         | 1989/2588 [1:41:57<2:55:01, 17.53s/product]"
     ]
    },
    {
     "name": "stdout",
     "output_type": "stream",
     "text": [
      "Error fetching supplier for SKU 1229598005 after 5 retries: HTTPSConnectionPool(host='www2.hm.com', port=443): Max retries exceeded with url: /sv_se/supplierDetails/articles/1229598005 (Caused by ResponseError('too many 400 error responses'))\n"
     ]
    },
    {
     "name": "stderr",
     "output_type": "stream",
     "text": [
      "Fetching Supplier Details:  77%|████████████████████████████████▎         | 1991/2588 [1:42:15<2:18:36, 13.93s/product]"
     ]
    },
    {
     "name": "stdout",
     "output_type": "stream",
     "text": [
      "Error fetching supplier for SKU 1294699003 after 5 retries: HTTPSConnectionPool(host='www2.hm.com', port=443): Max retries exceeded with url: /sv_se/supplierDetails/articles/1294699003 (Caused by ResponseError('too many 400 error responses'))\n"
     ]
    },
    {
     "name": "stderr",
     "output_type": "stream",
     "text": [
      "Fetching Supplier Details:  77%|████████████████████████████████▎         | 1992/2588 [1:42:33<2:29:18, 15.03s/product]"
     ]
    },
    {
     "name": "stdout",
     "output_type": "stream",
     "text": [
      "Error fetching supplier for SKU 1281637001 after 5 retries: HTTPSConnectionPool(host='www2.hm.com', port=443): Max retries exceeded with url: /sv_se/supplierDetails/articles/1281637001 (Caused by ResponseError('too many 400 error responses'))\n"
     ]
    },
    {
     "name": "stderr",
     "output_type": "stream",
     "text": [
      "Fetching Supplier Details:  77%|████████████████████████████████▎         | 1993/2588 [1:42:50<2:36:03, 15.74s/product]"
     ]
    },
    {
     "name": "stdout",
     "output_type": "stream",
     "text": [
      "Error fetching supplier for SKU 1150895012 after 5 retries: HTTPSConnectionPool(host='www2.hm.com', port=443): Max retries exceeded with url: /sv_se/supplierDetails/articles/1150895012 (Caused by ResponseError('too many 400 error responses'))\n"
     ]
    },
    {
     "name": "stderr",
     "output_type": "stream",
     "text": [
      "Fetching Supplier Details:  77%|████████████████████████████████▎         | 1994/2588 [1:43:07<2:40:23, 16.20s/product]"
     ]
    },
    {
     "name": "stdout",
     "output_type": "stream",
     "text": [
      "Error fetching supplier for SKU 1290866005 after 5 retries: HTTPSConnectionPool(host='www2.hm.com', port=443): Max retries exceeded with url: /sv_se/supplierDetails/articles/1290866005 (Caused by ResponseError('too many 400 error responses'))\n"
     ]
    },
    {
     "name": "stderr",
     "output_type": "stream",
     "text": [
      "Fetching Supplier Details:  77%|████████████████████████████████▍         | 1995/2588 [1:43:25<2:45:05, 16.70s/product]"
     ]
    },
    {
     "name": "stdout",
     "output_type": "stream",
     "text": [
      "Error fetching supplier for SKU 1268187001 after 5 retries: HTTPSConnectionPool(host='www2.hm.com', port=443): Max retries exceeded with url: /sv_se/supplierDetails/articles/1268187001 (Caused by ResponseError('too many 400 error responses'))\n"
     ]
    },
    {
     "name": "stderr",
     "output_type": "stream",
     "text": [
      "Fetching Supplier Details:  77%|████████████████████████████████▍         | 1996/2588 [1:43:43<2:47:08, 16.94s/product]"
     ]
    },
    {
     "name": "stdout",
     "output_type": "stream",
     "text": [
      "Error fetching supplier for SKU 0710956031 after 5 retries: HTTPSConnectionPool(host='www2.hm.com', port=443): Max retries exceeded with url: /sv_se/supplierDetails/articles/0710956031 (Caused by ResponseError('too many 400 error responses'))\n"
     ]
    },
    {
     "name": "stderr",
     "output_type": "stream",
     "text": [
      "Fetching Supplier Details:  77%|████████████████████████████████▍         | 1997/2588 [1:44:00<2:48:31, 17.11s/product]"
     ]
    },
    {
     "name": "stdout",
     "output_type": "stream",
     "text": [
      "Error fetching supplier for SKU 0710956034 after 5 retries: HTTPSConnectionPool(host='www2.hm.com', port=443): Max retries exceeded with url: /sv_se/supplierDetails/articles/0710956034 (Caused by ResponseError('too many 400 error responses'))\n"
     ]
    },
    {
     "name": "stderr",
     "output_type": "stream",
     "text": [
      "Fetching Supplier Details:  77%|████████████████████████████████▍         | 1998/2588 [1:44:18<2:49:32, 17.24s/product]"
     ]
    },
    {
     "name": "stdout",
     "output_type": "stream",
     "text": [
      "Error fetching supplier for SKU 1288797002 after 5 retries: HTTPSConnectionPool(host='www2.hm.com', port=443): Max retries exceeded with url: /sv_se/supplierDetails/articles/1288797002 (Caused by ResponseError('too many 400 error responses'))\n"
     ]
    },
    {
     "name": "stderr",
     "output_type": "stream",
     "text": [
      "Fetching Supplier Details:  77%|████████████████████████████████▍         | 1999/2588 [1:44:35<2:50:33, 17.37s/product]"
     ]
    },
    {
     "name": "stdout",
     "output_type": "stream",
     "text": [
      "Error fetching supplier for SKU 1213115001 after 5 retries: HTTPSConnectionPool(host='www2.hm.com', port=443): Max retries exceeded with url: /sv_se/supplierDetails/articles/1213115001 (Caused by ResponseError('too many 400 error responses'))\n"
     ]
    },
    {
     "name": "stderr",
     "output_type": "stream",
     "text": [
      "Fetching Supplier Details:  77%|████████████████████████████████▍         | 2000/2588 [1:44:53<2:50:21, 17.38s/product]"
     ]
    },
    {
     "name": "stdout",
     "output_type": "stream",
     "text": [
      "Error fetching supplier for SKU 1276703002 after 5 retries: HTTPSConnectionPool(host='www2.hm.com', port=443): Max retries exceeded with url: /sv_se/supplierDetails/articles/1276703002 (Caused by ResponseError('too many 400 error responses'))\n"
     ]
    },
    {
     "name": "stderr",
     "output_type": "stream",
     "text": [
      "Fetching Supplier Details:  77%|████████████████████████████████▍         | 2001/2588 [1:45:10<2:50:06, 17.39s/product]"
     ]
    },
    {
     "name": "stdout",
     "output_type": "stream",
     "text": [
      "Error fetching supplier for SKU 1222604007 after 5 retries: HTTPSConnectionPool(host='www2.hm.com', port=443): Max retries exceeded with url: /sv_se/supplierDetails/articles/1222604007 (Caused by ResponseError('too many 400 error responses'))\n"
     ]
    },
    {
     "name": "stderr",
     "output_type": "stream",
     "text": [
      "Fetching Supplier Details:  77%|████████████████████████████████▍         | 2002/2588 [1:45:28<2:50:35, 17.47s/product]"
     ]
    },
    {
     "name": "stdout",
     "output_type": "stream",
     "text": [
      "Error fetching supplier for SKU 1298721001 after 5 retries: HTTPSConnectionPool(host='www2.hm.com', port=443): Max retries exceeded with url: /sv_se/supplierDetails/articles/1298721001 (Caused by ResponseError('too many 400 error responses'))\n"
     ]
    },
    {
     "name": "stderr",
     "output_type": "stream",
     "text": [
      "Fetching Supplier Details:  77%|████████████████████████████████▌         | 2003/2588 [1:45:45<2:50:33, 17.49s/product]"
     ]
    },
    {
     "name": "stdout",
     "output_type": "stream",
     "text": [
      "Error fetching supplier for SKU 1222604012 after 5 retries: HTTPSConnectionPool(host='www2.hm.com', port=443): Max retries exceeded with url: /sv_se/supplierDetails/articles/1222604012 (Caused by ResponseError('too many 400 error responses'))\n"
     ]
    },
    {
     "name": "stderr",
     "output_type": "stream",
     "text": [
      "Fetching Supplier Details:  77%|████████████████████████████████▌         | 2004/2588 [1:46:03<2:51:40, 17.64s/product]"
     ]
    },
    {
     "name": "stdout",
     "output_type": "stream",
     "text": [
      "Error fetching supplier for SKU 1268001004 after 5 retries: HTTPSConnectionPool(host='www2.hm.com', port=443): Max retries exceeded with url: /sv_se/supplierDetails/articles/1268001004 (Caused by ResponseError('too many 400 error responses'))\n"
     ]
    },
    {
     "name": "stderr",
     "output_type": "stream",
     "text": [
      "Fetching Supplier Details:  77%|████████████████████████████████▌         | 2005/2588 [1:46:24<3:00:29, 18.58s/product]"
     ]
    },
    {
     "name": "stdout",
     "output_type": "stream",
     "text": [
      "Error fetching supplier for SKU 0899196153 after 5 retries: HTTPSConnectionPool(host='www2.hm.com', port=443): Max retries exceeded with url: /sv_se/supplierDetails/articles/0899196153 (Caused by ResponseError('too many 400 error responses'))\n"
     ]
    },
    {
     "name": "stderr",
     "output_type": "stream",
     "text": [
      "Fetching Supplier Details:  78%|████████████████████████████████▌         | 2006/2588 [1:46:42<2:56:33, 18.20s/product]"
     ]
    },
    {
     "name": "stdout",
     "output_type": "stream",
     "text": [
      "Error fetching supplier for SKU 1273306004 after 5 retries: HTTPSConnectionPool(host='www2.hm.com', port=443): Max retries exceeded with url: /sv_se/supplierDetails/articles/1273306004 (Caused by ResponseError('too many 400 error responses'))\n"
     ]
    },
    {
     "name": "stderr",
     "output_type": "stream",
     "text": [
      "Fetching Supplier Details:  78%|████████████████████████████████▌         | 2007/2588 [1:47:00<2:55:33, 18.13s/product]"
     ]
    },
    {
     "name": "stdout",
     "output_type": "stream",
     "text": [
      "Error fetching supplier for SKU 1285564001 after 5 retries: HTTPSConnectionPool(host='www2.hm.com', port=443): Max retries exceeded with url: /sv_se/supplierDetails/articles/1285564001 (Caused by ResponseError('too many 400 error responses'))\n"
     ]
    },
    {
     "name": "stderr",
     "output_type": "stream",
     "text": [
      "Fetching Supplier Details:  78%|████████████████████████████████▌         | 2008/2588 [1:47:17<2:53:51, 17.99s/product]"
     ]
    },
    {
     "name": "stdout",
     "output_type": "stream",
     "text": [
      "Error fetching supplier for SKU 1281637002 after 5 retries: HTTPSConnectionPool(host='www2.hm.com', port=443): Max retries exceeded with url: /sv_se/supplierDetails/articles/1281637002 (Caused by ResponseError('too many 400 error responses'))\n"
     ]
    },
    {
     "name": "stderr",
     "output_type": "stream",
     "text": [
      "Fetching Supplier Details:  78%|████████████████████████████████▌         | 2009/2588 [1:47:35<2:52:09, 17.84s/product]"
     ]
    },
    {
     "name": "stdout",
     "output_type": "stream",
     "text": [
      "Error fetching supplier for SKU 1268187003 after 5 retries: HTTPSConnectionPool(host='www2.hm.com', port=443): Max retries exceeded with url: /sv_se/supplierDetails/articles/1268187003 (Caused by ResponseError('too many 400 error responses'))\n"
     ]
    },
    {
     "name": "stderr",
     "output_type": "stream",
     "text": [
      "Fetching Supplier Details:  78%|████████████████████████████████▌         | 2010/2588 [1:47:52<2:51:07, 17.76s/product]"
     ]
    },
    {
     "name": "stdout",
     "output_type": "stream",
     "text": [
      "Error fetching supplier for SKU 1288797004 after 5 retries: HTTPSConnectionPool(host='www2.hm.com', port=443): Max retries exceeded with url: /sv_se/supplierDetails/articles/1288797004 (Caused by ResponseError('too many 400 error responses'))\n"
     ]
    },
    {
     "name": "stderr",
     "output_type": "stream",
     "text": [
      "Fetching Supplier Details:  78%|████████████████████████████████▋         | 2011/2588 [1:48:10<2:51:07, 17.80s/product]"
     ]
    },
    {
     "name": "stdout",
     "output_type": "stream",
     "text": [
      "Error fetching supplier for SKU 1276223002 after 5 retries: HTTPSConnectionPool(host='www2.hm.com', port=443): Max retries exceeded with url: /sv_se/supplierDetails/articles/1276223002 (Caused by ResponseError('too many 400 error responses'))\n"
     ]
    },
    {
     "name": "stderr",
     "output_type": "stream",
     "text": [
      "Fetching Supplier Details:  78%|████████████████████████████████▋         | 2012/2588 [1:48:28<2:50:03, 17.71s/product]"
     ]
    },
    {
     "name": "stdout",
     "output_type": "stream",
     "text": [
      "Error fetching supplier for SKU 1288797003 after 5 retries: HTTPSConnectionPool(host='www2.hm.com', port=443): Max retries exceeded with url: /sv_se/supplierDetails/articles/1288797003 (Caused by ResponseError('too many 400 error responses'))\n"
     ]
    },
    {
     "name": "stderr",
     "output_type": "stream",
     "text": [
      "Fetching Supplier Details:  78%|████████████████████████████████▋         | 2013/2588 [1:48:45<2:49:40, 17.70s/product]"
     ]
    },
    {
     "name": "stdout",
     "output_type": "stream",
     "text": [
      "Error fetching supplier for SKU 1268133001 after 5 retries: HTTPSConnectionPool(host='www2.hm.com', port=443): Max retries exceeded with url: /sv_se/supplierDetails/articles/1268133001 (Caused by ResponseError('too many 400 error responses'))\n"
     ]
    },
    {
     "name": "stderr",
     "output_type": "stream",
     "text": [
      "Fetching Supplier Details:  78%|████████████████████████████████▋         | 2014/2588 [1:49:03<2:48:39, 17.63s/product]"
     ]
    },
    {
     "name": "stdout",
     "output_type": "stream",
     "text": [
      "Error fetching supplier for SKU 1273306003 after 5 retries: HTTPSConnectionPool(host='www2.hm.com', port=443): Max retries exceeded with url: /sv_se/supplierDetails/articles/1273306003 (Caused by ResponseError('too many 400 error responses'))\n"
     ]
    },
    {
     "name": "stderr",
     "output_type": "stream",
     "text": [
      "Fetching Supplier Details:  78%|████████████████████████████████▋         | 2015/2588 [1:49:20<2:47:28, 17.54s/product]"
     ]
    },
    {
     "name": "stdout",
     "output_type": "stream",
     "text": [
      "Error fetching supplier for SKU 1073202008 after 5 retries: HTTPSConnectionPool(host='www2.hm.com', port=443): Max retries exceeded with url: /sv_se/supplierDetails/articles/1073202008 (Caused by ResponseError('too many 400 error responses'))\n"
     ]
    },
    {
     "name": "stderr",
     "output_type": "stream",
     "text": [
      "Fetching Supplier Details:  78%|████████████████████████████████▋         | 2016/2588 [1:49:38<2:49:18, 17.76s/product]"
     ]
    },
    {
     "name": "stdout",
     "output_type": "stream",
     "text": [
      "Error fetching supplier for SKU 1277736001 after 5 retries: HTTPSConnectionPool(host='www2.hm.com', port=443): Max retries exceeded with url: /sv_se/supplierDetails/articles/1277736001 (Caused by ResponseError('too many 400 error responses'))\n"
     ]
    },
    {
     "name": "stderr",
     "output_type": "stream",
     "text": [
      "Fetching Supplier Details:  78%|████████████████████████████████▋         | 2017/2588 [1:49:56<2:47:47, 17.63s/product]"
     ]
    },
    {
     "name": "stdout",
     "output_type": "stream",
     "text": [
      "Error fetching supplier for SKU 1000960032 after 5 retries: HTTPSConnectionPool(host='www2.hm.com', port=443): Max retries exceeded with url: /sv_se/supplierDetails/articles/1000960032 (Caused by ResponseError('too many 400 error responses'))\n"
     ]
    },
    {
     "name": "stderr",
     "output_type": "stream",
     "text": [
      "Fetching Supplier Details:  78%|████████████████████████████████▋         | 2018/2588 [1:50:13<2:47:02, 17.58s/product]"
     ]
    },
    {
     "name": "stdout",
     "output_type": "stream",
     "text": [
      "Error fetching supplier for SKU 1001870025 after 5 retries: HTTPSConnectionPool(host='www2.hm.com', port=443): Max retries exceeded with url: /sv_se/supplierDetails/articles/1001870025 (Caused by ResponseError('too many 400 error responses'))\n"
     ]
    },
    {
     "name": "stderr",
     "output_type": "stream",
     "text": [
      "Fetching Supplier Details:  78%|████████████████████████████████▊         | 2019/2588 [1:50:30<2:45:56, 17.50s/product]"
     ]
    },
    {
     "name": "stdout",
     "output_type": "stream",
     "text": [
      "Error fetching supplier for SKU 1297631001 after 5 retries: HTTPSConnectionPool(host='www2.hm.com', port=443): Max retries exceeded with url: /sv_se/supplierDetails/articles/1297631001 (Caused by ResponseError('too many 400 error responses'))\n"
     ]
    },
    {
     "name": "stderr",
     "output_type": "stream",
     "text": [
      "Fetching Supplier Details:  78%|████████████████████████████████▊         | 2020/2588 [1:50:48<2:45:20, 17.47s/product]"
     ]
    },
    {
     "name": "stdout",
     "output_type": "stream",
     "text": [
      "Error fetching supplier for SKU 1297434004 after 5 retries: HTTPSConnectionPool(host='www2.hm.com', port=443): Max retries exceeded with url: /sv_se/supplierDetails/articles/1297434004 (Caused by ResponseError('too many 400 error responses'))\n"
     ]
    },
    {
     "name": "stderr",
     "output_type": "stream",
     "text": [
      "Fetching Supplier Details:  78%|████████████████████████████████▊         | 2021/2588 [1:51:06<2:45:31, 17.52s/product]"
     ]
    },
    {
     "name": "stdout",
     "output_type": "stream",
     "text": [
      "Error fetching supplier for SKU 1283191004 after 5 retries: HTTPSConnectionPool(host='www2.hm.com', port=443): Max retries exceeded with url: /sv_se/supplierDetails/articles/1283191004 (Caused by ResponseError('too many 400 error responses'))\n"
     ]
    },
    {
     "name": "stderr",
     "output_type": "stream",
     "text": [
      "Fetching Supplier Details:  78%|████████████████████████████████▊         | 2022/2588 [1:51:23<2:44:41, 17.46s/product]"
     ]
    },
    {
     "name": "stdout",
     "output_type": "stream",
     "text": [
      "Error fetching supplier for SKU 0615347192 after 5 retries: HTTPSConnectionPool(host='www2.hm.com', port=443): Max retries exceeded with url: /sv_se/supplierDetails/articles/0615347192 (Caused by ResponseError('too many 400 error responses'))\n"
     ]
    },
    {
     "name": "stderr",
     "output_type": "stream",
     "text": [
      "Fetching Supplier Details:  78%|████████████████████████████████▊         | 2023/2588 [1:51:40<2:44:30, 17.47s/product]"
     ]
    },
    {
     "name": "stdout",
     "output_type": "stream",
     "text": [
      "Error fetching supplier for SKU 0899194078 after 5 retries: HTTPSConnectionPool(host='www2.hm.com', port=443): Max retries exceeded with url: /sv_se/supplierDetails/articles/0899194078 (Caused by ResponseError('too many 400 error responses'))\n"
     ]
    },
    {
     "name": "stderr",
     "output_type": "stream",
     "text": [
      "Fetching Supplier Details:  78%|████████████████████████████████▊         | 2024/2588 [1:51:58<2:44:03, 17.45s/product]"
     ]
    },
    {
     "name": "stdout",
     "output_type": "stream",
     "text": [
      "Error fetching supplier for SKU 1221864005 after 5 retries: HTTPSConnectionPool(host='www2.hm.com', port=443): Max retries exceeded with url: /sv_se/supplierDetails/articles/1221864005 (Caused by ResponseError('too many 400 error responses'))\n"
     ]
    },
    {
     "name": "stderr",
     "output_type": "stream",
     "text": [
      "Fetching Supplier Details:  78%|████████████████████████████████▊         | 2025/2588 [1:52:15<2:43:18, 17.40s/product]"
     ]
    },
    {
     "name": "stdout",
     "output_type": "stream",
     "text": [
      "Error fetching supplier for SKU 1228701016 after 5 retries: HTTPSConnectionPool(host='www2.hm.com', port=443): Max retries exceeded with url: /sv_se/supplierDetails/articles/1228701016 (Caused by ResponseError('too many 400 error responses'))\n"
     ]
    },
    {
     "name": "stderr",
     "output_type": "stream",
     "text": [
      "Fetching Supplier Details:  78%|████████████████████████████████▉         | 2026/2588 [1:52:33<2:43:37, 17.47s/product]"
     ]
    },
    {
     "name": "stdout",
     "output_type": "stream",
     "text": [
      "Error fetching supplier for SKU 1277655003 after 5 retries: HTTPSConnectionPool(host='www2.hm.com', port=443): Max retries exceeded with url: /sv_se/supplierDetails/articles/1277655003 (Caused by ResponseError('too many 400 error responses'))\n"
     ]
    },
    {
     "name": "stderr",
     "output_type": "stream",
     "text": [
      "Fetching Supplier Details:  78%|████████████████████████████████▉         | 2027/2588 [1:52:51<2:45:13, 17.67s/product]"
     ]
    },
    {
     "name": "stdout",
     "output_type": "stream",
     "text": [
      "Error fetching supplier for SKU 1283191003 after 5 retries: HTTPSConnectionPool(host='www2.hm.com', port=443): Max retries exceeded with url: /sv_se/supplierDetails/articles/1283191003 (Caused by ResponseError('too many 400 error responses'))\n"
     ]
    },
    {
     "name": "stderr",
     "output_type": "stream",
     "text": [
      "Fetching Supplier Details:  78%|████████████████████████████████▉         | 2028/2588 [1:53:08<2:44:50, 17.66s/product]"
     ]
    },
    {
     "name": "stdout",
     "output_type": "stream",
     "text": [
      "Error fetching supplier for SKU 1285914008 after 5 retries: HTTPSConnectionPool(host='www2.hm.com', port=443): Max retries exceeded with url: /sv_se/supplierDetails/articles/1285914008 (Caused by ResponseError('too many 400 error responses'))\n"
     ]
    },
    {
     "name": "stderr",
     "output_type": "stream",
     "text": [
      "Fetching Supplier Details:  78%|████████████████████████████████▉         | 2030/2588 [1:53:26<2:06:09, 13.57s/product]"
     ]
    },
    {
     "name": "stdout",
     "output_type": "stream",
     "text": [
      "Error fetching supplier for SKU 1277655001 after 5 retries: HTTPSConnectionPool(host='www2.hm.com', port=443): Max retries exceeded with url: /sv_se/supplierDetails/articles/1277655001 (Caused by ResponseError('too many 400 error responses'))\n"
     ]
    },
    {
     "name": "stderr",
     "output_type": "stream",
     "text": [
      "Fetching Supplier Details:  78%|████████████████████████████████▉         | 2031/2588 [1:53:44<2:15:00, 14.54s/product]"
     ]
    },
    {
     "name": "stdout",
     "output_type": "stream",
     "text": [
      "Error fetching supplier for SKU 1229598005 after 5 retries: HTTPSConnectionPool(host='www2.hm.com', port=443): Max retries exceeded with url: /sv_se/supplierDetails/articles/1229598005 (Caused by ResponseError('too many 400 error responses'))\n"
     ]
    },
    {
     "name": "stderr",
     "output_type": "stream",
     "text": [
      "Fetching Supplier Details:  79%|████████████████████████████████▉         | 2032/2588 [1:54:01<2:22:34, 15.39s/product]"
     ]
    },
    {
     "name": "stdout",
     "output_type": "stream",
     "text": [
      "Error fetching supplier for SKU 1268187001 after 5 retries: HTTPSConnectionPool(host='www2.hm.com', port=443): Max retries exceeded with url: /sv_se/supplierDetails/articles/1268187001 (Caused by ResponseError('too many 400 error responses'))\n"
     ]
    },
    {
     "name": "stderr",
     "output_type": "stream",
     "text": [
      "Fetching Supplier Details:  79%|████████████████████████████████▉         | 2033/2588 [1:54:19<2:28:16, 16.03s/product]"
     ]
    },
    {
     "name": "stdout",
     "output_type": "stream",
     "text": [
      "Error fetching supplier for SKU 1290546004 after 5 retries: HTTPSConnectionPool(host='www2.hm.com', port=443): Max retries exceeded with url: /sv_se/supplierDetails/articles/1290546004 (Caused by ResponseError('too many 400 error responses'))\n"
     ]
    },
    {
     "name": "stderr",
     "output_type": "stream",
     "text": [
      "Fetching Supplier Details:  79%|█████████████████████████████████         | 2034/2588 [1:54:37<2:31:50, 16.45s/product]"
     ]
    },
    {
     "name": "stdout",
     "output_type": "stream",
     "text": [
      "Error fetching supplier for SKU 1298721001 after 5 retries: HTTPSConnectionPool(host='www2.hm.com', port=443): Max retries exceeded with url: /sv_se/supplierDetails/articles/1298721001 (Caused by ResponseError('too many 400 error responses'))\n"
     ]
    },
    {
     "name": "stderr",
     "output_type": "stream",
     "text": [
      "Fetching Supplier Details:  79%|█████████████████████████████████         | 2035/2588 [1:54:54<2:33:50, 16.69s/product]"
     ]
    },
    {
     "name": "stdout",
     "output_type": "stream",
     "text": [
      "Error fetching supplier for SKU 1286115001 after 5 retries: HTTPSConnectionPool(host='www2.hm.com', port=443): Max retries exceeded with url: /sv_se/supplierDetails/articles/1286115001 (Caused by ResponseError('too many 400 error responses'))\n"
     ]
    },
    {
     "name": "stderr",
     "output_type": "stream",
     "text": [
      "Fetching Supplier Details:  79%|█████████████████████████████████         | 2036/2588 [1:55:12<2:36:34, 17.02s/product]"
     ]
    },
    {
     "name": "stdout",
     "output_type": "stream",
     "text": [
      "Error fetching supplier for SKU 1114252035 after 5 retries: HTTPSConnectionPool(host='www2.hm.com', port=443): Max retries exceeded with url: /sv_se/supplierDetails/articles/1114252035 (Caused by ResponseError('too many 400 error responses'))\n"
     ]
    },
    {
     "name": "stderr",
     "output_type": "stream",
     "text": [
      "Fetching Supplier Details:  79%|█████████████████████████████████         | 2037/2588 [1:55:30<2:38:27, 17.26s/product]"
     ]
    },
    {
     "name": "stdout",
     "output_type": "stream",
     "text": [
      "Error fetching supplier for SKU 1027734046 after 5 retries: HTTPSConnectionPool(host='www2.hm.com', port=443): Max retries exceeded with url: /sv_se/supplierDetails/articles/1027734046 (Caused by ResponseError('too many 400 error responses'))\n"
     ]
    },
    {
     "name": "stderr",
     "output_type": "stream",
     "text": [
      "Fetching Supplier Details:  79%|█████████████████████████████████         | 2038/2588 [1:55:48<2:41:14, 17.59s/product]"
     ]
    },
    {
     "name": "stdout",
     "output_type": "stream",
     "text": [
      "Error fetching supplier for SKU 1265496003 after 5 retries: HTTPSConnectionPool(host='www2.hm.com', port=443): Max retries exceeded with url: /sv_se/supplierDetails/articles/1265496003 (Caused by ResponseError('too many 400 error responses'))\n"
     ]
    },
    {
     "name": "stderr",
     "output_type": "stream",
     "text": [
      "Fetching Supplier Details:  79%|█████████████████████████████████         | 2039/2588 [1:56:07<2:45:35, 18.10s/product]"
     ]
    },
    {
     "name": "stdout",
     "output_type": "stream",
     "text": [
      "Error fetching supplier for SKU 1289894001 after 5 retries: HTTPSConnectionPool(host='www2.hm.com', port=443): Max retries exceeded with url: /sv_se/supplierDetails/articles/1289894001 (Caused by ResponseError('too many 400 error responses'))\n"
     ]
    },
    {
     "name": "stderr",
     "output_type": "stream",
     "text": [
      "Fetching Supplier Details:  79%|█████████████████████████████████         | 2040/2588 [1:56:27<2:50:47, 18.70s/product]"
     ]
    },
    {
     "name": "stdout",
     "output_type": "stream",
     "text": [
      "Error fetching supplier for SKU 1196989025 after 5 retries: HTTPSConnectionPool(host='www2.hm.com', port=443): Max retries exceeded with url: /sv_se/supplierDetails/articles/1196989025 (Caused by ResponseError('too many 400 error responses'))\n"
     ]
    },
    {
     "name": "stderr",
     "output_type": "stream",
     "text": [
      "Fetching Supplier Details:  79%|█████████████████████████████████         | 2041/2588 [1:56:46<2:49:20, 18.58s/product]"
     ]
    },
    {
     "name": "stdout",
     "output_type": "stream",
     "text": [
      "Error fetching supplier for SKU 1291264002 after 5 retries: HTTPSConnectionPool(host='www2.hm.com', port=443): Max retries exceeded with url: /sv_se/supplierDetails/articles/1291264002 (Caused by ResponseError('too many 400 error responses'))\n"
     ]
    },
    {
     "name": "stderr",
     "output_type": "stream",
     "text": [
      "Fetching Supplier Details:  79%|█████████████████████████████████▏        | 2042/2588 [1:57:04<2:47:12, 18.37s/product]"
     ]
    },
    {
     "name": "stdout",
     "output_type": "stream",
     "text": [
      "Error fetching supplier for SKU 1298721002 after 5 retries: HTTPSConnectionPool(host='www2.hm.com', port=443): Max retries exceeded with url: /sv_se/supplierDetails/articles/1298721002 (Caused by ResponseError('too many 400 error responses'))\n"
     ]
    },
    {
     "name": "stderr",
     "output_type": "stream",
     "text": [
      "Fetching Supplier Details:  79%|█████████████████████████████████▏        | 2043/2588 [1:57:21<2:44:56, 18.16s/product]"
     ]
    },
    {
     "name": "stdout",
     "output_type": "stream",
     "text": [
      "Error fetching supplier for SKU 1271164001 after 5 retries: HTTPSConnectionPool(host='www2.hm.com', port=443): Max retries exceeded with url: /sv_se/supplierDetails/articles/1271164001 (Caused by ResponseError('too many 400 error responses'))\n"
     ]
    },
    {
     "name": "stderr",
     "output_type": "stream",
     "text": [
      "Fetching Supplier Details:  79%|█████████████████████████████████▏        | 2044/2588 [1:57:39<2:42:39, 17.94s/product]"
     ]
    },
    {
     "name": "stdout",
     "output_type": "stream",
     "text": [
      "Error fetching supplier for SKU 1273307005 after 5 retries: HTTPSConnectionPool(host='www2.hm.com', port=443): Max retries exceeded with url: /sv_se/supplierDetails/articles/1273307005 (Caused by ResponseError('too many 400 error responses'))\n"
     ]
    },
    {
     "name": "stderr",
     "output_type": "stream",
     "text": [
      "Fetching Supplier Details:  79%|█████████████████████████████████▏        | 2045/2588 [1:57:56<2:40:56, 17.78s/product]"
     ]
    },
    {
     "name": "stdout",
     "output_type": "stream",
     "text": [
      "Error fetching supplier for SKU 0710956034 after 5 retries: HTTPSConnectionPool(host='www2.hm.com', port=443): Max retries exceeded with url: /sv_se/supplierDetails/articles/0710956034 (Caused by ResponseError('too many 400 error responses'))\n"
     ]
    },
    {
     "name": "stderr",
     "output_type": "stream",
     "text": [
      "Fetching Supplier Details:  79%|█████████████████████████████████▏        | 2046/2588 [1:58:14<2:40:51, 17.81s/product]"
     ]
    },
    {
     "name": "stdout",
     "output_type": "stream",
     "text": [
      "Error fetching supplier for SKU 0710956031 after 5 retries: HTTPSConnectionPool(host='www2.hm.com', port=443): Max retries exceeded with url: /sv_se/supplierDetails/articles/0710956031 (Caused by ResponseError('too many 400 error responses'))\n"
     ]
    },
    {
     "name": "stderr",
     "output_type": "stream",
     "text": [
      "Fetching Supplier Details:  79%|█████████████████████████████████▏        | 2047/2588 [1:58:32<2:40:05, 17.75s/product]"
     ]
    },
    {
     "name": "stdout",
     "output_type": "stream",
     "text": [
      "Error fetching supplier for SKU 1288797002 after 5 retries: HTTPSConnectionPool(host='www2.hm.com', port=443): Max retries exceeded with url: /sv_se/supplierDetails/articles/1288797002 (Caused by ResponseError('too many 400 error responses'))\n"
     ]
    },
    {
     "name": "stderr",
     "output_type": "stream",
     "text": [
      "Fetching Supplier Details:  79%|█████████████████████████████████▏        | 2048/2588 [1:58:50<2:41:30, 17.95s/product]"
     ]
    },
    {
     "name": "stdout",
     "output_type": "stream",
     "text": [
      "Error fetching supplier for SKU 1213115001 after 5 retries: HTTPSConnectionPool(host='www2.hm.com', port=443): Max retries exceeded with url: /sv_se/supplierDetails/articles/1213115001 (Caused by ResponseError('too many 400 error responses'))\n"
     ]
    },
    {
     "name": "stderr",
     "output_type": "stream",
     "text": [
      "Fetching Supplier Details:  79%|█████████████████████████████████▎        | 2049/2588 [1:59:08<2:40:19, 17.85s/product]"
     ]
    },
    {
     "name": "stdout",
     "output_type": "stream",
     "text": [
      "Error fetching supplier for SKU 1276703002 after 5 retries: HTTPSConnectionPool(host='www2.hm.com', port=443): Max retries exceeded with url: /sv_se/supplierDetails/articles/1276703002 (Caused by ResponseError('too many 400 error responses'))\n"
     ]
    },
    {
     "name": "stderr",
     "output_type": "stream",
     "text": [
      "Fetching Supplier Details:  79%|█████████████████████████████████▎        | 2050/2588 [1:59:25<2:39:59, 17.84s/product]"
     ]
    },
    {
     "name": "stdout",
     "output_type": "stream",
     "text": [
      "Error fetching supplier for SKU 1290546001 after 5 retries: HTTPSConnectionPool(host='www2.hm.com', port=443): Max retries exceeded with url: /sv_se/supplierDetails/articles/1290546001 (Caused by ResponseError('too many 400 error responses'))\n"
     ]
    },
    {
     "name": "stderr",
     "output_type": "stream",
     "text": [
      "Fetching Supplier Details:  79%|█████████████████████████████████▎        | 2051/2588 [1:59:43<2:38:55, 17.76s/product]"
     ]
    },
    {
     "name": "stdout",
     "output_type": "stream",
     "text": [
      "Error fetching supplier for SKU 1290546002 after 5 retries: HTTPSConnectionPool(host='www2.hm.com', port=443): Max retries exceeded with url: /sv_se/supplierDetails/articles/1290546002 (Caused by ResponseError('too many 400 error responses'))\n"
     ]
    },
    {
     "name": "stderr",
     "output_type": "stream",
     "text": [
      "Fetching Supplier Details:  79%|█████████████████████████████████▎        | 2052/2588 [2:00:01<2:38:13, 17.71s/product]"
     ]
    },
    {
     "name": "stdout",
     "output_type": "stream",
     "text": [
      "Error fetching supplier for SKU 1290546005 after 5 retries: HTTPSConnectionPool(host='www2.hm.com', port=443): Max retries exceeded with url: /sv_se/supplierDetails/articles/1290546005 (Caused by ResponseError('too many 400 error responses'))\n"
     ]
    },
    {
     "name": "stderr",
     "output_type": "stream",
     "text": [
      "Fetching Supplier Details:  79%|█████████████████████████████████▎        | 2053/2588 [2:00:18<2:37:16, 17.64s/product]"
     ]
    },
    {
     "name": "stdout",
     "output_type": "stream",
     "text": [
      "Error fetching supplier for SKU 1277655003 after 5 retries: HTTPSConnectionPool(host='www2.hm.com', port=443): Max retries exceeded with url: /sv_se/supplierDetails/articles/1277655003 (Caused by ResponseError('too many 400 error responses'))\n"
     ]
    },
    {
     "name": "stderr",
     "output_type": "stream",
     "text": [
      "Fetching Supplier Details:  79%|█████████████████████████████████▎        | 2054/2588 [2:00:36<2:37:36, 17.71s/product]"
     ]
    },
    {
     "name": "stdout",
     "output_type": "stream",
     "text": [
      "Error fetching supplier for SKU 1285914008 after 5 retries: HTTPSConnectionPool(host='www2.hm.com', port=443): Max retries exceeded with url: /sv_se/supplierDetails/articles/1285914008 (Caused by ResponseError('too many 400 error responses'))\n"
     ]
    },
    {
     "name": "stderr",
     "output_type": "stream",
     "text": [
      "Fetching Supplier Details:  79%|█████████████████████████████████▎        | 2055/2588 [2:00:53<2:36:52, 17.66s/product]"
     ]
    },
    {
     "name": "stdout",
     "output_type": "stream",
     "text": [
      "Error fetching supplier for SKU 0615347192 after 5 retries: HTTPSConnectionPool(host='www2.hm.com', port=443): Max retries exceeded with url: /sv_se/supplierDetails/articles/0615347192 (Caused by ResponseError('too many 400 error responses'))\n"
     ]
    },
    {
     "name": "stderr",
     "output_type": "stream",
     "text": [
      "Fetching Supplier Details:  79%|█████████████████████████████████▎        | 2056/2588 [2:01:13<2:42:26, 18.32s/product]"
     ]
    },
    {
     "name": "stdout",
     "output_type": "stream",
     "text": [
      "Error fetching supplier for SKU 1221864005 after 5 retries: HTTPSConnectionPool(host='www2.hm.com', port=443): Max retries exceeded with url: /sv_se/supplierDetails/articles/1221864005 (Caused by ResponseError('too many 400 error responses'))\n"
     ]
    },
    {
     "name": "stderr",
     "output_type": "stream",
     "text": [
      "Fetching Supplier Details:  79%|█████████████████████████████████▍        | 2057/2588 [2:01:32<2:42:12, 18.33s/product]"
     ]
    },
    {
     "name": "stdout",
     "output_type": "stream",
     "text": [
      "Error fetching supplier for SKU 1228701016 after 5 retries: HTTPSConnectionPool(host='www2.hm.com', port=443): Max retries exceeded with url: /sv_se/supplierDetails/articles/1228701016 (Caused by ResponseError('too many 400 error responses'))\n"
     ]
    },
    {
     "name": "stderr",
     "output_type": "stream",
     "text": [
      "Fetching Supplier Details:  80%|█████████████████████████████████▍        | 2058/2588 [2:01:53<2:48:46, 19.11s/product]"
     ]
    },
    {
     "name": "stdout",
     "output_type": "stream",
     "text": [
      "Error fetching supplier for SKU 1283191003 after 5 retries: HTTPSConnectionPool(host='www2.hm.com', port=443): Max retries exceeded with url: /sv_se/supplierDetails/articles/1283191003 (Caused by ProtocolError('Connection aborted.', ConnectionAbortedError(10053, 'An established connection was aborted by the software in your host machine', None, 10053, None)))\n"
     ]
    },
    {
     "name": "stderr",
     "output_type": "stream",
     "text": [
      "Fetching Supplier Details:  80%|█████████████████████████████████▍        | 2059/2588 [2:02:26<3:27:30, 23.54s/product]"
     ]
    },
    {
     "name": "stdout",
     "output_type": "stream",
     "text": [
      "Error fetching supplier for SKU 1244349001 after 5 retries: HTTPSConnectionPool(host='www2.hm.com', port=443): Max retries exceeded with url: /sv_se/supplierDetails/articles/1244349001 (Caused by ResponseError('too many 400 error responses'))\n"
     ]
    },
    {
     "name": "stderr",
     "output_type": "stream",
     "text": [
      "Fetching Supplier Details:  80%|█████████████████████████████████▍        | 2060/2588 [2:03:10<4:20:17, 29.58s/product]"
     ]
    },
    {
     "name": "stdout",
     "output_type": "stream",
     "text": [
      "Error fetching supplier for SKU 1295766002 after 5 retries: HTTPSConnectionPool(host='www2.hm.com', port=443): Max retries exceeded with url: /sv_se/supplierDetails/articles/1295766002 (Caused by NewConnectionError('<urllib3.connection.HTTPSConnection object at 0x000001A608AF6850>: Failed to establish a new connection: [Errno 11001] getaddrinfo failed'))\n"
     ]
    },
    {
     "name": "stderr",
     "output_type": "stream",
     "text": [
      "Fetching Supplier Details:  80%|█████████████████████████████████▍        | 2061/2588 [2:03:39<4:17:50, 29.36s/product]"
     ]
    },
    {
     "name": "stdout",
     "output_type": "stream",
     "text": [
      "Error fetching supplier for SKU 1290546004 after 5 retries: HTTPSConnectionPool(host='www2.hm.com', port=443): Max retries exceeded with url: /sv_se/supplierDetails/articles/1290546004 (Caused by ResponseError('too many 400 error responses'))\n"
     ]
    },
    {
     "name": "stderr",
     "output_type": "stream",
     "text": [
      "Fetching Supplier Details:  80%|█████████████████████████████████▍        | 2062/2588 [2:03:58<3:50:01, 26.24s/product]"
     ]
    },
    {
     "name": "stdout",
     "output_type": "stream",
     "text": [
      "Error fetching supplier for SKU 1027734046 after 5 retries: HTTPSConnectionPool(host='www2.hm.com', port=443): Max retries exceeded with url: /sv_se/supplierDetails/articles/1027734046 (Caused by ResponseError('too many 400 error responses'))\n"
     ]
    },
    {
     "name": "stderr",
     "output_type": "stream",
     "text": [
      "Fetching Supplier Details:  80%|█████████████████████████████████▍        | 2063/2588 [2:04:16<3:27:39, 23.73s/product]"
     ]
    },
    {
     "name": "stdout",
     "output_type": "stream",
     "text": [
      "Error fetching supplier for SKU 1241105002 after 5 retries: HTTPSConnectionPool(host='www2.hm.com', port=443): Max retries exceeded with url: /sv_se/supplierDetails/articles/1241105002 (Caused by ResponseError('too many 400 error responses'))\n"
     ]
    },
    {
     "name": "stderr",
     "output_type": "stream",
     "text": [
      "Fetching Supplier Details:  80%|█████████████████████████████████▍        | 2064/2588 [2:04:34<3:11:50, 21.97s/product]"
     ]
    },
    {
     "name": "stdout",
     "output_type": "stream",
     "text": [
      "Error fetching supplier for SKU 1298721002 after 5 retries: HTTPSConnectionPool(host='www2.hm.com', port=443): Max retries exceeded with url: /sv_se/supplierDetails/articles/1298721002 (Caused by ResponseError('too many 400 error responses'))\n"
     ]
    },
    {
     "name": "stderr",
     "output_type": "stream",
     "text": [
      "Fetching Supplier Details:  80%|█████████████████████████████████▌        | 2065/2588 [2:04:51<3:00:11, 20.67s/product]"
     ]
    },
    {
     "name": "stdout",
     "output_type": "stream",
     "text": [
      "Error fetching supplier for SKU 1289894001 after 5 retries: HTTPSConnectionPool(host='www2.hm.com', port=443): Max retries exceeded with url: /sv_se/supplierDetails/articles/1289894001 (Caused by ResponseError('too many 400 error responses'))\n"
     ]
    },
    {
     "name": "stderr",
     "output_type": "stream",
     "text": [
      "Fetching Supplier Details:  80%|█████████████████████████████████▌        | 2066/2588 [2:05:09<2:51:10, 19.68s/product]"
     ]
    },
    {
     "name": "stdout",
     "output_type": "stream",
     "text": [
      "Error fetching supplier for SKU 1196989025 after 5 retries: HTTPSConnectionPool(host='www2.hm.com', port=443): Max retries exceeded with url: /sv_se/supplierDetails/articles/1196989025 (Caused by ResponseError('too many 400 error responses'))\n"
     ]
    },
    {
     "name": "stderr",
     "output_type": "stream",
     "text": [
      "Fetching Supplier Details:  80%|█████████████████████████████████▌        | 2067/2588 [2:05:26<2:45:16, 19.03s/product]"
     ]
    },
    {
     "name": "stdout",
     "output_type": "stream",
     "text": [
      "Error fetching supplier for SKU 1265496003 after 5 retries: HTTPSConnectionPool(host='www2.hm.com', port=443): Max retries exceeded with url: /sv_se/supplierDetails/articles/1265496003 (Caused by ResponseError('too many 400 error responses'))\n"
     ]
    },
    {
     "name": "stderr",
     "output_type": "stream",
     "text": [
      "Fetching Supplier Details:  80%|█████████████████████████████████▌        | 2068/2588 [2:05:44<2:42:17, 18.73s/product]"
     ]
    },
    {
     "name": "stdout",
     "output_type": "stream",
     "text": [
      "Error fetching supplier for SKU 1291264002 after 5 retries: HTTPSConnectionPool(host='www2.hm.com', port=443): Max retries exceeded with url: /sv_se/supplierDetails/articles/1291264002 (Caused by ResponseError('too many 400 error responses'))\n"
     ]
    },
    {
     "name": "stderr",
     "output_type": "stream",
     "text": [
      "Fetching Supplier Details:  80%|█████████████████████████████████▌        | 2069/2588 [2:06:02<2:39:33, 18.45s/product]"
     ]
    },
    {
     "name": "stdout",
     "output_type": "stream",
     "text": [
      "Error fetching supplier for SKU 1196989024 after 5 retries: HTTPSConnectionPool(host='www2.hm.com', port=443): Max retries exceeded with url: /sv_se/supplierDetails/articles/1196989024 (Caused by ResponseError('too many 400 error responses'))\n"
     ]
    },
    {
     "name": "stderr",
     "output_type": "stream",
     "text": [
      "Fetching Supplier Details:  80%|█████████████████████████████████▌        | 2070/2588 [2:06:20<2:37:08, 18.20s/product]"
     ]
    },
    {
     "name": "stdout",
     "output_type": "stream",
     "text": [
      "Error fetching supplier for SKU 1271164001 after 5 retries: HTTPSConnectionPool(host='www2.hm.com', port=443): Max retries exceeded with url: /sv_se/supplierDetails/articles/1271164001 (Caused by ResponseError('too many 400 error responses'))\n"
     ]
    },
    {
     "name": "stderr",
     "output_type": "stream",
     "text": [
      "Fetching Supplier Details:  80%|█████████████████████████████████▌        | 2071/2588 [2:06:37<2:35:15, 18.02s/product]"
     ]
    },
    {
     "name": "stdout",
     "output_type": "stream",
     "text": [
      "Error fetching supplier for SKU 1273307005 after 5 retries: HTTPSConnectionPool(host='www2.hm.com', port=443): Max retries exceeded with url: /sv_se/supplierDetails/articles/1273307005 (Caused by ResponseError('too many 400 error responses'))\n"
     ]
    },
    {
     "name": "stderr",
     "output_type": "stream",
     "text": [
      "Fetching Supplier Details:  80%|█████████████████████████████████▋        | 2072/2588 [2:06:55<2:34:34, 17.97s/product]"
     ]
    },
    {
     "name": "stdout",
     "output_type": "stream",
     "text": [
      "Error fetching supplier for SKU 1241105001 after 5 retries: HTTPSConnectionPool(host='www2.hm.com', port=443): Max retries exceeded with url: /sv_se/supplierDetails/articles/1241105001 (Caused by ResponseError('too many 400 error responses'))\n"
     ]
    },
    {
     "name": "stderr",
     "output_type": "stream",
     "text": [
      "Fetching Supplier Details:  80%|█████████████████████████████████▋        | 2073/2588 [2:07:13<2:35:03, 18.06s/product]"
     ]
    },
    {
     "name": "stdout",
     "output_type": "stream",
     "text": [
      "Error fetching supplier for SKU 1265798001 after 5 retries: HTTPSConnectionPool(host='www2.hm.com', port=443): Max retries exceeded with url: /sv_se/supplierDetails/articles/1265798001 (Caused by ResponseError('too many 400 error responses'))\n"
     ]
    },
    {
     "name": "stderr",
     "output_type": "stream",
     "text": [
      "Fetching Supplier Details:  80%|█████████████████████████████████▋        | 2074/2588 [2:07:31<2:33:12, 17.88s/product]"
     ]
    },
    {
     "name": "stdout",
     "output_type": "stream",
     "text": [
      "Error fetching supplier for SKU 1196149002 after 5 retries: HTTPSConnectionPool(host='www2.hm.com', port=443): Max retries exceeded with url: /sv_se/supplierDetails/articles/1196149002 (Caused by ResponseError('too many 400 error responses'))\n"
     ]
    },
    {
     "name": "stderr",
     "output_type": "stream",
     "text": [
      "Fetching Supplier Details:  80%|█████████████████████████████████▋        | 2075/2588 [2:07:49<2:32:58, 17.89s/product]"
     ]
    },
    {
     "name": "stdout",
     "output_type": "stream",
     "text": [
      "Error fetching supplier for SKU 1290546001 after 5 retries: HTTPSConnectionPool(host='www2.hm.com', port=443): Max retries exceeded with url: /sv_se/supplierDetails/articles/1290546001 (Caused by ResponseError('too many 400 error responses'))\n"
     ]
    },
    {
     "name": "stderr",
     "output_type": "stream",
     "text": [
      "Fetching Supplier Details:  80%|█████████████████████████████████▋        | 2076/2588 [2:08:07<2:33:08, 17.95s/product]"
     ]
    },
    {
     "name": "stdout",
     "output_type": "stream",
     "text": [
      "Error fetching supplier for SKU 1290546005 after 5 retries: HTTPSConnectionPool(host='www2.hm.com', port=443): Max retries exceeded with url: /sv_se/supplierDetails/articles/1290546005 (Caused by ResponseError('too many 400 error responses'))\n"
     ]
    },
    {
     "name": "stderr",
     "output_type": "stream",
     "text": [
      "Fetching Supplier Details:  80%|█████████████████████████████████▋        | 2077/2588 [2:08:24<2:32:11, 17.87s/product]"
     ]
    },
    {
     "name": "stdout",
     "output_type": "stream",
     "text": [
      "Error fetching supplier for SKU 1290546002 after 5 retries: HTTPSConnectionPool(host='www2.hm.com', port=443): Max retries exceeded with url: /sv_se/supplierDetails/articles/1290546002 (Caused by ResponseError('too many 400 error responses'))\n"
     ]
    },
    {
     "name": "stderr",
     "output_type": "stream",
     "text": [
      "Fetching Supplier Details:  80%|█████████████████████████████████▋        | 2078/2588 [2:08:42<2:31:15, 17.80s/product]"
     ]
    },
    {
     "name": "stdout",
     "output_type": "stream",
     "text": [
      "Error fetching supplier for SKU 1222151006 after 5 retries: HTTPSConnectionPool(host='www2.hm.com', port=443): Max retries exceeded with url: /sv_se/supplierDetails/articles/1222151006 (Caused by ResponseError('too many 400 error responses'))\n"
     ]
    },
    {
     "name": "stderr",
     "output_type": "stream",
     "text": [
      "Fetching Supplier Details:  80%|█████████████████████████████████▋        | 2079/2588 [2:08:59<2:29:44, 17.65s/product]"
     ]
    },
    {
     "name": "stdout",
     "output_type": "stream",
     "text": [
      "Error fetching supplier for SKU 1273348003 after 5 retries: HTTPSConnectionPool(host='www2.hm.com', port=443): Max retries exceeded with url: /sv_se/supplierDetails/articles/1273348003 (Caused by ResponseError('too many 400 error responses'))\n"
     ]
    },
    {
     "name": "stderr",
     "output_type": "stream",
     "text": [
      "Fetching Supplier Details:  80%|█████████████████████████████████▊        | 2080/2588 [2:09:17<2:29:10, 17.62s/product]"
     ]
    },
    {
     "name": "stdout",
     "output_type": "stream",
     "text": [
      "Error fetching supplier for SKU 1283697001 after 5 retries: HTTPSConnectionPool(host='www2.hm.com', port=443): Max retries exceeded with url: /sv_se/supplierDetails/articles/1283697001 (Caused by ResponseError('too many 400 error responses'))\n"
     ]
    },
    {
     "name": "stderr",
     "output_type": "stream",
     "text": [
      "Fetching Supplier Details:  80%|█████████████████████████████████▊        | 2081/2588 [2:09:34<2:28:27, 17.57s/product]"
     ]
    },
    {
     "name": "stdout",
     "output_type": "stream",
     "text": [
      "Error fetching supplier for SKU 1275498003 after 5 retries: HTTPSConnectionPool(host='www2.hm.com', port=443): Max retries exceeded with url: /sv_se/supplierDetails/articles/1275498003 (Caused by ResponseError('too many 400 error responses'))\n"
     ]
    },
    {
     "name": "stderr",
     "output_type": "stream",
     "text": [
      "Fetching Supplier Details:  80%|█████████████████████████████████▊        | 2082/2588 [2:09:52<2:27:57, 17.54s/product]"
     ]
    },
    {
     "name": "stdout",
     "output_type": "stream",
     "text": [
      "Error fetching supplier for SKU 1275498002 after 5 retries: HTTPSConnectionPool(host='www2.hm.com', port=443): Max retries exceeded with url: /sv_se/supplierDetails/articles/1275498002 (Caused by ResponseError('too many 400 error responses'))\n"
     ]
    },
    {
     "name": "stderr",
     "output_type": "stream",
     "text": [
      "Fetching Supplier Details:  80%|█████████████████████████████████▊        | 2083/2588 [2:10:09<2:27:30, 17.52s/product]"
     ]
    },
    {
     "name": "stdout",
     "output_type": "stream",
     "text": [
      "Error fetching supplier for SKU 1261873008 after 5 retries: HTTPSConnectionPool(host='www2.hm.com', port=443): Max retries exceeded with url: /sv_se/supplierDetails/articles/1261873008 (Caused by ResponseError('too many 400 error responses'))\n"
     ]
    },
    {
     "name": "stderr",
     "output_type": "stream",
     "text": [
      "Fetching Supplier Details:  81%|█████████████████████████████████▊        | 2084/2588 [2:10:27<2:28:01, 17.62s/product]"
     ]
    },
    {
     "name": "stdout",
     "output_type": "stream",
     "text": [
      "Error fetching supplier for SKU 1273307003 after 5 retries: HTTPSConnectionPool(host='www2.hm.com', port=443): Max retries exceeded with url: /sv_se/supplierDetails/articles/1273307003 (Caused by ResponseError('too many 400 error responses'))\n"
     ]
    },
    {
     "name": "stderr",
     "output_type": "stream",
     "text": [
      "Fetching Supplier Details:  81%|█████████████████████████████████▊        | 2085/2588 [2:10:45<2:28:43, 17.74s/product]"
     ]
    },
    {
     "name": "stdout",
     "output_type": "stream",
     "text": [
      "Error fetching supplier for SKU 1147848019 after 5 retries: HTTPSConnectionPool(host='www2.hm.com', port=443): Max retries exceeded with url: /sv_se/supplierDetails/articles/1147848019 (Caused by ResponseError('too many 400 error responses'))\n"
     ]
    },
    {
     "name": "stderr",
     "output_type": "stream",
     "text": [
      "Fetching Supplier Details:  81%|█████████████████████████████████▊        | 2086/2588 [2:11:03<2:28:06, 17.70s/product]"
     ]
    },
    {
     "name": "stdout",
     "output_type": "stream",
     "text": [
      "Error fetching supplier for SKU 1240219002 after 5 retries: HTTPSConnectionPool(host='www2.hm.com', port=443): Max retries exceeded with url: /sv_se/supplierDetails/articles/1240219002 (Caused by ResponseError('too many 400 error responses'))\n"
     ]
    },
    {
     "name": "stderr",
     "output_type": "stream",
     "text": [
      "Fetching Supplier Details:  81%|█████████████████████████████████▊        | 2087/2588 [2:11:25<2:39:10, 19.06s/product]"
     ]
    },
    {
     "name": "stdout",
     "output_type": "stream",
     "text": [
      "Error fetching supplier for SKU 1267172002 after 5 retries: HTTPSConnectionPool(host='www2.hm.com', port=443): Max retries exceeded with url: /sv_se/supplierDetails/articles/1267172002 (Caused by ResponseError('too many 400 error responses'))\n"
     ]
    },
    {
     "name": "stderr",
     "output_type": "stream",
     "text": [
      "Fetching Supplier Details:  81%|█████████████████████████████████▉        | 2088/2588 [2:11:43<2:35:54, 18.71s/product]"
     ]
    },
    {
     "name": "stdout",
     "output_type": "stream",
     "text": [
      "Error fetching supplier for SKU 1271235001 after 5 retries: HTTPSConnectionPool(host='www2.hm.com', port=443): Max retries exceeded with url: /sv_se/supplierDetails/articles/1271235001 (Caused by ResponseError('too many 400 error responses'))\n"
     ]
    },
    {
     "name": "stderr",
     "output_type": "stream",
     "text": [
      "Fetching Supplier Details:  81%|█████████████████████████████████▉        | 2089/2588 [2:12:01<2:33:16, 18.43s/product]"
     ]
    },
    {
     "name": "stdout",
     "output_type": "stream",
     "text": [
      "Error fetching supplier for SKU 1277439001 after 5 retries: HTTPSConnectionPool(host='www2.hm.com', port=443): Max retries exceeded with url: /sv_se/supplierDetails/articles/1277439001 (Caused by ResponseError('too many 400 error responses'))\n"
     ]
    },
    {
     "name": "stderr",
     "output_type": "stream",
     "text": [
      "Fetching Supplier Details:  81%|█████████████████████████████████▉        | 2090/2588 [2:12:18<2:31:09, 18.21s/product]"
     ]
    },
    {
     "name": "stdout",
     "output_type": "stream",
     "text": [
      "Error fetching supplier for SKU 1277510002 after 5 retries: HTTPSConnectionPool(host='www2.hm.com', port=443): Max retries exceeded with url: /sv_se/supplierDetails/articles/1277510002 (Caused by ResponseError('too many 400 error responses'))\n"
     ]
    },
    {
     "name": "stderr",
     "output_type": "stream",
     "text": [
      "Fetching Supplier Details:  81%|█████████████████████████████████▉        | 2091/2588 [2:12:46<2:55:16, 21.16s/product]"
     ]
    },
    {
     "name": "stdout",
     "output_type": "stream",
     "text": [
      "Error fetching supplier for SKU 1277510003 after 5 retries: HTTPSConnectionPool(host='www2.hm.com', port=443): Max retries exceeded with url: /sv_se/supplierDetails/articles/1277510003 (Caused by ResponseError('too many 400 error responses'))\n"
     ]
    },
    {
     "name": "stderr",
     "output_type": "stream",
     "text": [
      "Fetching Supplier Details:  81%|█████████████████████████████████▉        | 2092/2588 [2:13:05<2:47:43, 20.29s/product]"
     ]
    },
    {
     "name": "stdout",
     "output_type": "stream",
     "text": [
      "Error fetching supplier for SKU 1283446001 after 5 retries: HTTPSConnectionPool(host='www2.hm.com', port=443): Max retries exceeded with url: /sv_se/supplierDetails/articles/1283446001 (Caused by ResponseError('too many 400 error responses'))\n"
     ]
    },
    {
     "name": "stderr",
     "output_type": "stream",
     "text": [
      "Fetching Supplier Details:  81%|█████████████████████████████████▉        | 2093/2588 [2:13:22<2:40:35, 19.47s/product]"
     ]
    },
    {
     "name": "stdout",
     "output_type": "stream",
     "text": [
      "Error fetching supplier for SKU 1196989021 after 5 retries: HTTPSConnectionPool(host='www2.hm.com', port=443): Max retries exceeded with url: /sv_se/supplierDetails/articles/1196989021 (Caused by ResponseError('too many 400 error responses'))\n"
     ]
    },
    {
     "name": "stderr",
     "output_type": "stream",
     "text": [
      "Fetching Supplier Details:  81%|█████████████████████████████████▉        | 2094/2588 [2:13:40<2:35:49, 18.93s/product]"
     ]
    },
    {
     "name": "stdout",
     "output_type": "stream",
     "text": [
      "Error fetching supplier for SKU 1285736001 after 5 retries: HTTPSConnectionPool(host='www2.hm.com', port=443): Max retries exceeded with url: /sv_se/supplierDetails/articles/1285736001 (Caused by ResponseError('too many 400 error responses'))\n"
     ]
    },
    {
     "name": "stderr",
     "output_type": "stream",
     "text": [
      "Fetching Supplier Details:  81%|█████████████████████████████████▉        | 2095/2588 [2:13:58<2:32:15, 18.53s/product]"
     ]
    },
    {
     "name": "stdout",
     "output_type": "stream",
     "text": [
      "Error fetching supplier for SKU 1286115002 after 5 retries: HTTPSConnectionPool(host='www2.hm.com', port=443): Max retries exceeded with url: /sv_se/supplierDetails/articles/1286115002 (Caused by ResponseError('too many 400 error responses'))\n"
     ]
    },
    {
     "name": "stderr",
     "output_type": "stream",
     "text": [
      "Fetching Supplier Details:  81%|██████████████████████████████████        | 2096/2588 [2:14:15<2:29:14, 18.20s/product]"
     ]
    },
    {
     "name": "stdout",
     "output_type": "stream",
     "text": [
      "Error fetching supplier for SKU 1268187003 after 5 retries: HTTPSConnectionPool(host='www2.hm.com', port=443): Max retries exceeded with url: /sv_se/supplierDetails/articles/1268187003 (Caused by ResponseError('too many 400 error responses'))\n"
     ]
    },
    {
     "name": "stderr",
     "output_type": "stream",
     "text": [
      "Fetching Supplier Details:  81%|██████████████████████████████████        | 2097/2588 [2:14:33<2:27:21, 18.01s/product]"
     ]
    },
    {
     "name": "stdout",
     "output_type": "stream",
     "text": [
      "Error fetching supplier for SKU 1283191005 after 5 retries: HTTPSConnectionPool(host='www2.hm.com', port=443): Max retries exceeded with url: /sv_se/supplierDetails/articles/1283191005 (Caused by ResponseError('too many 400 error responses'))\n"
     ]
    },
    {
     "name": "stderr",
     "output_type": "stream",
     "text": [
      "Fetching Supplier Details:  81%|██████████████████████████████████        | 2098/2588 [2:14:50<2:25:37, 17.83s/product]"
     ]
    },
    {
     "name": "stdout",
     "output_type": "stream",
     "text": [
      "Error fetching supplier for SKU 1275810001 after 5 retries: HTTPSConnectionPool(host='www2.hm.com', port=443): Max retries exceeded with url: /sv_se/supplierDetails/articles/1275810001 (Caused by ResponseError('too many 400 error responses'))\n"
     ]
    },
    {
     "name": "stderr",
     "output_type": "stream",
     "text": [
      "Fetching Supplier Details:  81%|██████████████████████████████████        | 2099/2588 [2:15:08<2:25:37, 17.87s/product]"
     ]
    },
    {
     "name": "stdout",
     "output_type": "stream",
     "text": [
      "Error fetching supplier for SKU 1275810002 after 5 retries: HTTPSConnectionPool(host='www2.hm.com', port=443): Max retries exceeded with url: /sv_se/supplierDetails/articles/1275810002 (Caused by ResponseError('too many 400 error responses'))\n"
     ]
    },
    {
     "name": "stderr",
     "output_type": "stream",
     "text": [
      "Fetching Supplier Details:  81%|██████████████████████████████████        | 2100/2588 [2:15:26<2:25:37, 17.90s/product]"
     ]
    },
    {
     "name": "stdout",
     "output_type": "stream",
     "text": [
      "Error fetching supplier for SKU 1296759001 after 5 retries: HTTPSConnectionPool(host='www2.hm.com', port=443): Max retries exceeded with url: /sv_se/supplierDetails/articles/1296759001 (Caused by ResponseError('too many 400 error responses'))\n"
     ]
    },
    {
     "name": "stderr",
     "output_type": "stream",
     "text": [
      "Fetching Supplier Details:  81%|██████████████████████████████████        | 2101/2588 [2:15:44<2:24:50, 17.84s/product]"
     ]
    },
    {
     "name": "stdout",
     "output_type": "stream",
     "text": [
      "Error fetching supplier for SKU 1291414001 after 5 retries: HTTPSConnectionPool(host='www2.hm.com', port=443): Max retries exceeded with url: /sv_se/supplierDetails/articles/1291414001 (Caused by ResponseError('too many 400 error responses'))\n"
     ]
    },
    {
     "name": "stderr",
     "output_type": "stream",
     "text": [
      "Fetching Supplier Details:  81%|██████████████████████████████████        | 2102/2588 [2:16:01<2:23:41, 17.74s/product]"
     ]
    },
    {
     "name": "stdout",
     "output_type": "stream",
     "text": [
      "Error fetching supplier for SKU 1247297004 after 5 retries: HTTPSConnectionPool(host='www2.hm.com', port=443): Max retries exceeded with url: /sv_se/supplierDetails/articles/1247297004 (Caused by ResponseError('too many 400 error responses'))\n"
     ]
    },
    {
     "name": "stderr",
     "output_type": "stream",
     "text": [
      "Fetching Supplier Details:  81%|██████████████████████████████████▏       | 2103/2588 [2:16:19<2:23:01, 17.69s/product]"
     ]
    },
    {
     "name": "stdout",
     "output_type": "stream",
     "text": [
      "Error fetching supplier for SKU 1247297011 after 5 retries: HTTPSConnectionPool(host='www2.hm.com', port=443): Max retries exceeded with url: /sv_se/supplierDetails/articles/1247297011 (Caused by ResponseError('too many 400 error responses'))\n"
     ]
    },
    {
     "name": "stderr",
     "output_type": "stream",
     "text": [
      "Fetching Supplier Details:  81%|██████████████████████████████████▏       | 2104/2588 [2:16:37<2:23:23, 17.78s/product]"
     ]
    },
    {
     "name": "stdout",
     "output_type": "stream",
     "text": [
      "Error fetching supplier for SKU 1187977009 after 5 retries: HTTPSConnectionPool(host='www2.hm.com', port=443): Max retries exceeded with url: /sv_se/supplierDetails/articles/1187977009 (Caused by ResponseError('too many 400 error responses'))\n"
     ]
    },
    {
     "name": "stderr",
     "output_type": "stream",
     "text": [
      "Fetching Supplier Details:  81%|██████████████████████████████████▏       | 2105/2588 [2:16:57<2:30:20, 18.68s/product]"
     ]
    },
    {
     "name": "stdout",
     "output_type": "stream",
     "text": [
      "Error fetching supplier for SKU 1232045005 after 5 retries: HTTPSConnectionPool(host='www2.hm.com', port=443): Max retries exceeded with url: /sv_se/supplierDetails/articles/1232045005 (Caused by ResponseError('too many 400 error responses'))\n"
     ]
    },
    {
     "name": "stderr",
     "output_type": "stream",
     "text": [
      "Fetching Supplier Details:  81%|██████████████████████████████████▏       | 2106/2588 [2:17:15<2:27:35, 18.37s/product]"
     ]
    },
    {
     "name": "stdout",
     "output_type": "stream",
     "text": [
      "Error fetching supplier for SKU 1284645001 after 5 retries: HTTPSConnectionPool(host='www2.hm.com', port=443): Max retries exceeded with url: /sv_se/supplierDetails/articles/1284645001 (Caused by ResponseError('too many 400 error responses'))\n"
     ]
    },
    {
     "name": "stderr",
     "output_type": "stream",
     "text": [
      "Fetching Supplier Details:  81%|██████████████████████████████████▏       | 2107/2588 [2:17:33<2:25:34, 18.16s/product]"
     ]
    },
    {
     "name": "stdout",
     "output_type": "stream",
     "text": [
      "Error fetching supplier for SKU 1280980001 after 5 retries: HTTPSConnectionPool(host='www2.hm.com', port=443): Max retries exceeded with url: /sv_se/supplierDetails/articles/1280980001 (Caused by ResponseError('too many 400 error responses'))\n"
     ]
    },
    {
     "name": "stderr",
     "output_type": "stream",
     "text": [
      "Fetching Supplier Details:  81%|██████████████████████████████████▏       | 2108/2588 [2:17:52<2:26:58, 18.37s/product]"
     ]
    },
    {
     "name": "stdout",
     "output_type": "stream",
     "text": [
      "Error fetching supplier for SKU 1221864004 after 5 retries: HTTPSConnectionPool(host='www2.hm.com', port=443): Max retries exceeded with url: /sv_se/supplierDetails/articles/1221864004 (Caused by ResponseError('too many 400 error responses'))\n"
     ]
    },
    {
     "name": "stderr",
     "output_type": "stream",
     "text": [
      "Fetching Supplier Details:  81%|██████████████████████████████████▏       | 2109/2588 [2:18:09<2:25:16, 18.20s/product]"
     ]
    },
    {
     "name": "stdout",
     "output_type": "stream",
     "text": [
      "Error fetching supplier for SKU 1277736001 after 5 retries: HTTPSConnectionPool(host='www2.hm.com', port=443): Max retries exceeded with url: /sv_se/supplierDetails/articles/1277736001 (Caused by ResponseError('too many 400 error responses'))\n"
     ]
    },
    {
     "name": "stderr",
     "output_type": "stream",
     "text": [
      "Fetching Supplier Details:  82%|██████████████████████████████████▏       | 2110/2588 [2:18:27<2:23:50, 18.06s/product]"
     ]
    },
    {
     "name": "stdout",
     "output_type": "stream",
     "text": [
      "Error fetching supplier for SKU 0710956033 after 5 retries: HTTPSConnectionPool(host='www2.hm.com', port=443): Max retries exceeded with url: /sv_se/supplierDetails/articles/0710956033 (Caused by ResponseError('too many 400 error responses'))\n"
     ]
    },
    {
     "name": "stderr",
     "output_type": "stream",
     "text": [
      "Fetching Supplier Details:  82%|██████████████████████████████████▎       | 2111/2588 [2:18:45<2:22:04, 17.87s/product]"
     ]
    },
    {
     "name": "stdout",
     "output_type": "stream",
     "text": [
      "Error fetching supplier for SKU 1228311020 after 5 retries: HTTPSConnectionPool(host='www2.hm.com', port=443): Max retries exceeded with url: /sv_se/supplierDetails/articles/1228311020 (Caused by ResponseError('too many 400 error responses'))\n"
     ]
    },
    {
     "name": "stderr",
     "output_type": "stream",
     "text": [
      "Fetching Supplier Details:  82%|██████████████████████████████████▎       | 2112/2588 [2:19:02<2:20:38, 17.73s/product]"
     ]
    },
    {
     "name": "stdout",
     "output_type": "stream",
     "text": [
      "Error fetching supplier for SKU 1268183001 after 5 retries: HTTPSConnectionPool(host='www2.hm.com', port=443): Max retries exceeded with url: /sv_se/supplierDetails/articles/1268183001 (Caused by ResponseError('too many 400 error responses'))\n"
     ]
    },
    {
     "name": "stderr",
     "output_type": "stream",
     "text": [
      "Fetching Supplier Details:  82%|██████████████████████████████████▎       | 2113/2588 [2:19:20<2:19:59, 17.68s/product]"
     ]
    },
    {
     "name": "stdout",
     "output_type": "stream",
     "text": [
      "Error fetching supplier for SKU 1268133001 after 5 retries: HTTPSConnectionPool(host='www2.hm.com', port=443): Max retries exceeded with url: /sv_se/supplierDetails/articles/1268133001 (Caused by ResponseError('too many 400 error responses'))\n"
     ]
    },
    {
     "name": "stderr",
     "output_type": "stream",
     "text": [
      "Fetching Supplier Details:  82%|██████████████████████████████████▎       | 2114/2588 [2:19:38<2:20:24, 17.77s/product]"
     ]
    },
    {
     "name": "stdout",
     "output_type": "stream",
     "text": [
      "Error fetching supplier for SKU 1266683001 after 5 retries: HTTPSConnectionPool(host='www2.hm.com', port=443): Max retries exceeded with url: /sv_se/supplierDetails/articles/1266683001 (Caused by ResponseError('too many 400 error responses'))\n"
     ]
    },
    {
     "name": "stderr",
     "output_type": "stream",
     "text": [
      "Fetching Supplier Details:  82%|██████████████████████████████████▎       | 2115/2588 [2:19:55<2:19:10, 17.66s/product]"
     ]
    },
    {
     "name": "stdout",
     "output_type": "stream",
     "text": [
      "Error fetching supplier for SKU 1244698002 after 5 retries: HTTPSConnectionPool(host='www2.hm.com', port=443): Max retries exceeded with url: /sv_se/supplierDetails/articles/1244698002 (Caused by ResponseError('too many 400 error responses'))\n"
     ]
    },
    {
     "name": "stderr",
     "output_type": "stream",
     "text": [
      "Fetching Supplier Details:  82%|██████████████████████████████████▎       | 2116/2588 [2:20:13<2:19:29, 17.73s/product]"
     ]
    },
    {
     "name": "stdout",
     "output_type": "stream",
     "text": [
      "Error fetching supplier for SKU 1265804002 after 5 retries: HTTPSConnectionPool(host='www2.hm.com', port=443): Max retries exceeded with url: /sv_se/supplierDetails/articles/1265804002 (Caused by ResponseError('too many 400 error responses'))\n"
     ]
    },
    {
     "name": "stderr",
     "output_type": "stream",
     "text": [
      "Fetching Supplier Details:  82%|██████████████████████████████████▎       | 2117/2588 [2:20:30<2:18:41, 17.67s/product]"
     ]
    },
    {
     "name": "stdout",
     "output_type": "stream",
     "text": [
      "Error fetching supplier for SKU 1266683002 after 5 retries: HTTPSConnectionPool(host='www2.hm.com', port=443): Max retries exceeded with url: /sv_se/supplierDetails/articles/1266683002 (Caused by ResponseError('too many 400 error responses'))\n"
     ]
    },
    {
     "name": "stderr",
     "output_type": "stream",
     "text": [
      "Fetching Supplier Details:  82%|██████████████████████████████████▎       | 2118/2588 [2:20:48<2:17:50, 17.60s/product]"
     ]
    },
    {
     "name": "stdout",
     "output_type": "stream",
     "text": [
      "Error fetching supplier for SKU 1276575001 after 5 retries: HTTPSConnectionPool(host='www2.hm.com', port=443): Max retries exceeded with url: /sv_se/supplierDetails/articles/1276575001 (Caused by ResponseError('too many 400 error responses'))\n"
     ]
    },
    {
     "name": "stderr",
     "output_type": "stream",
     "text": [
      "Fetching Supplier Details:  82%|██████████████████████████████████▍       | 2119/2588 [2:21:05<2:17:49, 17.63s/product]"
     ]
    },
    {
     "name": "stdout",
     "output_type": "stream",
     "text": [
      "Error fetching supplier for SKU 1027734043 after 5 retries: HTTPSConnectionPool(host='www2.hm.com', port=443): Max retries exceeded with url: /sv_se/supplierDetails/articles/1027734043 (Caused by ResponseError('too many 400 error responses'))\n"
     ]
    },
    {
     "name": "stderr",
     "output_type": "stream",
     "text": [
      "Fetching Supplier Details:  82%|██████████████████████████████████▍       | 2120/2588 [2:21:23<2:17:47, 17.67s/product]"
     ]
    },
    {
     "name": "stdout",
     "output_type": "stream",
     "text": [
      "Error fetching supplier for SKU 1270610001 after 5 retries: HTTPSConnectionPool(host='www2.hm.com', port=443): Max retries exceeded with url: /sv_se/supplierDetails/articles/1270610001 (Caused by ResponseError('too many 400 error responses'))\n"
     ]
    },
    {
     "name": "stderr",
     "output_type": "stream",
     "text": [
      "Fetching Supplier Details:  82%|██████████████████████████████████▍       | 2121/2588 [2:21:42<2:19:00, 17.86s/product]"
     ]
    },
    {
     "name": "stdout",
     "output_type": "stream",
     "text": [
      "Error fetching supplier for SKU 1270610002 after 5 retries: HTTPSConnectionPool(host='www2.hm.com', port=443): Max retries exceeded with url: /sv_se/supplierDetails/articles/1270610002 (Caused by ResponseError('too many 400 error responses'))\n"
     ]
    },
    {
     "name": "stderr",
     "output_type": "stream",
     "text": [
      "Fetching Supplier Details:  82%|██████████████████████████████████▍       | 2122/2588 [2:22:00<2:19:11, 17.92s/product]"
     ]
    },
    {
     "name": "stdout",
     "output_type": "stream",
     "text": [
      "Error fetching supplier for SKU 1270611003 after 5 retries: HTTPSConnectionPool(host='www2.hm.com', port=443): Max retries exceeded with url: /sv_se/supplierDetails/articles/1270611003 (Caused by ResponseError('too many 400 error responses'))\n"
     ]
    },
    {
     "name": "stderr",
     "output_type": "stream",
     "text": [
      "Fetching Supplier Details:  82%|██████████████████████████████████▍       | 2123/2588 [2:22:18<2:19:05, 17.95s/product]"
     ]
    },
    {
     "name": "stdout",
     "output_type": "stream",
     "text": [
      "Error fetching supplier for SKU 1288797001 after 5 retries: HTTPSConnectionPool(host='www2.hm.com', port=443): Max retries exceeded with url: /sv_se/supplierDetails/articles/1288797001 (Caused by ResponseError('too many 400 error responses'))\n"
     ]
    },
    {
     "name": "stderr",
     "output_type": "stream",
     "text": [
      "Fetching Supplier Details:  82%|██████████████████████████████████▍       | 2124/2588 [2:22:36<2:20:20, 18.15s/product]"
     ]
    },
    {
     "name": "stdout",
     "output_type": "stream",
     "text": [
      "Error fetching supplier for SKU 1297434001 after 5 retries: HTTPSConnectionPool(host='www2.hm.com', port=443): Max retries exceeded with url: /sv_se/supplierDetails/articles/1297434001 (Caused by ResponseError('too many 400 error responses'))\n"
     ]
    },
    {
     "name": "stderr",
     "output_type": "stream",
     "text": [
      "Fetching Supplier Details:  82%|██████████████████████████████████▍       | 2125/2588 [2:22:54<2:18:57, 18.01s/product]"
     ]
    },
    {
     "name": "stdout",
     "output_type": "stream",
     "text": [
      "Error fetching supplier for SKU 1232081002 after 5 retries: HTTPSConnectionPool(host='www2.hm.com', port=443): Max retries exceeded with url: /sv_se/supplierDetails/articles/1232081002 (Caused by ResponseError('too many 400 error responses'))\n"
     ]
    },
    {
     "name": "stderr",
     "output_type": "stream",
     "text": [
      "Fetching Supplier Details:  82%|██████████████████████████████████▌       | 2126/2588 [2:23:13<2:20:40, 18.27s/product]"
     ]
    },
    {
     "name": "stdout",
     "output_type": "stream",
     "text": [
      "Error fetching supplier for SKU 0844469016 after 5 retries: HTTPSConnectionPool(host='www2.hm.com', port=443): Max retries exceeded with url: /sv_se/supplierDetails/articles/0844469016 (Caused by ResponseError('too many 400 error responses'))\n"
     ]
    },
    {
     "name": "stderr",
     "output_type": "stream",
     "text": [
      "Fetching Supplier Details:  82%|██████████████████████████████████▌       | 2127/2588 [2:23:40<2:41:53, 21.07s/product]"
     ]
    },
    {
     "name": "stdout",
     "output_type": "stream",
     "text": [
      "Error fetching supplier for SKU 1271825001 after 5 retries: HTTPSConnectionPool(host='www2.hm.com', port=443): Max retries exceeded with url: /sv_se/supplierDetails/articles/1271825001 (Caused by ResponseError('too many 400 error responses'))\n"
     ]
    },
    {
     "name": "stderr",
     "output_type": "stream",
     "text": [
      "Fetching Supplier Details:  82%|██████████████████████████████████▌       | 2128/2588 [2:23:59<2:36:53, 20.46s/product]"
     ]
    },
    {
     "name": "stdout",
     "output_type": "stream",
     "text": [
      "Error fetching supplier for SKU 1271828001 after 5 retries: HTTPSConnectionPool(host='www2.hm.com', port=443): Max retries exceeded with url: /sv_se/supplierDetails/articles/1271828001 (Caused by ResponseError('too many 400 error responses'))\n"
     ]
    },
    {
     "name": "stderr",
     "output_type": "stream",
     "text": [
      "Fetching Supplier Details:  82%|██████████████████████████████████▌       | 2129/2588 [2:24:18<2:31:11, 19.76s/product]"
     ]
    },
    {
     "name": "stdout",
     "output_type": "stream",
     "text": [
      "Error fetching supplier for SKU 1268013001 after 5 retries: HTTPSConnectionPool(host='www2.hm.com', port=443): Max retries exceeded with url: /sv_se/supplierDetails/articles/1268013001 (Caused by ResponseError('too many 400 error responses'))\n"
     ]
    },
    {
     "name": "stderr",
     "output_type": "stream",
     "text": [
      "Fetching Supplier Details:  82%|██████████████████████████████████▌       | 2130/2588 [2:24:35<2:26:29, 19.19s/product]"
     ]
    },
    {
     "name": "stdout",
     "output_type": "stream",
     "text": [
      "Error fetching supplier for SKU 1268013002 after 5 retries: HTTPSConnectionPool(host='www2.hm.com', port=443): Max retries exceeded with url: /sv_se/supplierDetails/articles/1268013002 (Caused by ResponseError('too many 400 error responses'))\n"
     ]
    },
    {
     "name": "stderr",
     "output_type": "stream",
     "text": [
      "Fetching Supplier Details:  82%|██████████████████████████████████▌       | 2131/2588 [2:24:53<2:22:45, 18.74s/product]"
     ]
    },
    {
     "name": "stdout",
     "output_type": "stream",
     "text": [
      "Error fetching supplier for SKU 1274136001 after 5 retries: HTTPSConnectionPool(host='www2.hm.com', port=443): Max retries exceeded with url: /sv_se/supplierDetails/articles/1274136001 (Caused by ResponseError('too many 400 error responses'))\n"
     ]
    },
    {
     "name": "stderr",
     "output_type": "stream",
     "text": [
      "Fetching Supplier Details:  82%|██████████████████████████████████▌       | 2132/2588 [2:25:11<2:19:55, 18.41s/product]"
     ]
    },
    {
     "name": "stdout",
     "output_type": "stream",
     "text": [
      "Error fetching supplier for SKU 1277463001 after 5 retries: HTTPSConnectionPool(host='www2.hm.com', port=443): Max retries exceeded with url: /sv_se/supplierDetails/articles/1277463001 (Caused by ResponseError('too many 400 error responses'))\n"
     ]
    },
    {
     "name": "stderr",
     "output_type": "stream",
     "text": [
      "Fetching Supplier Details:  82%|██████████████████████████████████▌       | 2133/2588 [2:25:29<2:18:45, 18.30s/product]"
     ]
    },
    {
     "name": "stdout",
     "output_type": "stream",
     "text": [
      "Error fetching supplier for SKU 0756511026 after 5 retries: HTTPSConnectionPool(host='www2.hm.com', port=443): Max retries exceeded with url: /sv_se/supplierDetails/articles/0756511026 (Caused by ResponseError('too many 400 error responses'))\n"
     ]
    },
    {
     "name": "stderr",
     "output_type": "stream",
     "text": [
      "Fetching Supplier Details:  82%|██████████████████████████████████▋       | 2134/2588 [2:25:46<2:16:34, 18.05s/product]"
     ]
    },
    {
     "name": "stdout",
     "output_type": "stream",
     "text": [
      "Error fetching supplier for SKU 1265733002 after 5 retries: HTTPSConnectionPool(host='www2.hm.com', port=443): Max retries exceeded with url: /sv_se/supplierDetails/articles/1265733002 (Caused by ResponseError('too many 400 error responses'))\n"
     ]
    },
    {
     "name": "stderr",
     "output_type": "stream",
     "text": [
      "Fetching Supplier Details:  82%|██████████████████████████████████▋       | 2135/2588 [2:26:04<2:14:51, 17.86s/product]"
     ]
    },
    {
     "name": "stdout",
     "output_type": "stream",
     "text": [
      "Error fetching supplier for SKU 1265733003 after 5 retries: HTTPSConnectionPool(host='www2.hm.com', port=443): Max retries exceeded with url: /sv_se/supplierDetails/articles/1265733003 (Caused by ResponseError('too many 400 error responses'))\n"
     ]
    },
    {
     "name": "stderr",
     "output_type": "stream",
     "text": [
      "Fetching Supplier Details:  83%|██████████████████████████████████▋       | 2136/2588 [2:26:21<2:13:43, 17.75s/product]"
     ]
    },
    {
     "name": "stdout",
     "output_type": "stream",
     "text": [
      "Error fetching supplier for SKU 1265840002 after 5 retries: HTTPSConnectionPool(host='www2.hm.com', port=443): Max retries exceeded with url: /sv_se/supplierDetails/articles/1265840002 (Caused by ResponseError('too many 400 error responses'))\n"
     ]
    },
    {
     "name": "stderr",
     "output_type": "stream",
     "text": [
      "Fetching Supplier Details:  83%|██████████████████████████████████▋       | 2137/2588 [2:26:39<2:12:50, 17.67s/product]"
     ]
    },
    {
     "name": "stdout",
     "output_type": "stream",
     "text": [
      "Error fetching supplier for SKU 1264654002 after 5 retries: HTTPSConnectionPool(host='www2.hm.com', port=443): Max retries exceeded with url: /sv_se/supplierDetails/articles/1264654002 (Caused by ResponseError('too many 400 error responses'))\n"
     ]
    },
    {
     "name": "stderr",
     "output_type": "stream",
     "text": [
      "Fetching Supplier Details:  83%|██████████████████████████████████▋       | 2138/2588 [2:26:56<2:12:01, 17.60s/product]"
     ]
    },
    {
     "name": "stdout",
     "output_type": "stream",
     "text": [
      "Error fetching supplier for SKU 1268194001 after 5 retries: HTTPSConnectionPool(host='www2.hm.com', port=443): Max retries exceeded with url: /sv_se/supplierDetails/articles/1268194001 (Caused by ResponseError('too many 400 error responses'))\n"
     ]
    },
    {
     "name": "stderr",
     "output_type": "stream",
     "text": [
      "Fetching Supplier Details:  83%|██████████████████████████████████▋       | 2139/2588 [2:27:14<2:11:17, 17.55s/product]"
     ]
    },
    {
     "name": "stdout",
     "output_type": "stream",
     "text": [
      "Error fetching supplier for SKU 1261127001 after 5 retries: HTTPSConnectionPool(host='www2.hm.com', port=443): Max retries exceeded with url: /sv_se/supplierDetails/articles/1261127001 (Caused by ResponseError('too many 400 error responses'))\n"
     ]
    },
    {
     "name": "stderr",
     "output_type": "stream",
     "text": [
      "Fetching Supplier Details:  83%|██████████████████████████████████▋       | 2140/2588 [2:27:31<2:10:59, 17.54s/product]"
     ]
    },
    {
     "name": "stdout",
     "output_type": "stream",
     "text": [
      "Error fetching supplier for SKU 1268001003 after 5 retries: HTTPSConnectionPool(host='www2.hm.com', port=443): Max retries exceeded with url: /sv_se/supplierDetails/articles/1268001003 (Caused by ResponseError('too many 400 error responses'))\n"
     ]
    },
    {
     "name": "stderr",
     "output_type": "stream",
     "text": [
      "Fetching Supplier Details:  83%|██████████████████████████████████▊       | 2142/2588 [2:27:49<1:43:17, 13.89s/product]"
     ]
    },
    {
     "name": "stdout",
     "output_type": "stream",
     "text": [
      "Error fetching supplier for SKU 1261873008 after 5 retries: HTTPSConnectionPool(host='www2.hm.com', port=443): Max retries exceeded with url: /sv_se/supplierDetails/articles/1261873008 (Caused by ResponseError('too many 400 error responses'))\n"
     ]
    },
    {
     "name": "stderr",
     "output_type": "stream",
     "text": [
      "Fetching Supplier Details:  83%|██████████████████████████████████▊       | 2143/2588 [2:28:06<1:50:47, 14.94s/product]"
     ]
    },
    {
     "name": "stdout",
     "output_type": "stream",
     "text": [
      "Error fetching supplier for SKU 1263694002 after 5 retries: HTTPSConnectionPool(host='www2.hm.com', port=443): Max retries exceeded with url: /sv_se/supplierDetails/articles/1263694002 (Caused by ResponseError('too many 400 error responses'))\n"
     ]
    },
    {
     "name": "stderr",
     "output_type": "stream",
     "text": [
      "Fetching Supplier Details:  83%|██████████████████████████████████▊       | 2144/2588 [2:28:24<1:56:38, 15.76s/product]"
     ]
    },
    {
     "name": "stdout",
     "output_type": "stream",
     "text": [
      "Error fetching supplier for SKU 0989216003 after 5 retries: HTTPSConnectionPool(host='www2.hm.com', port=443): Max retries exceeded with url: /sv_se/supplierDetails/articles/0989216003 (Caused by ResponseError('too many 400 error responses'))\n"
     ]
    },
    {
     "name": "stderr",
     "output_type": "stream",
     "text": [
      "Fetching Supplier Details:  83%|██████████████████████████████████▊       | 2145/2588 [2:28:41<2:00:00, 16.25s/product]"
     ]
    },
    {
     "name": "stdout",
     "output_type": "stream",
     "text": [
      "Error fetching supplier for SKU 1283451001 after 5 retries: HTTPSConnectionPool(host='www2.hm.com', port=443): Max retries exceeded with url: /sv_se/supplierDetails/articles/1283451001 (Caused by ResponseError('too many 400 error responses'))\n"
     ]
    },
    {
     "name": "stderr",
     "output_type": "stream",
     "text": [
      "Fetching Supplier Details:  83%|██████████████████████████████████▊       | 2146/2588 [2:28:59<2:02:09, 16.58s/product]"
     ]
    },
    {
     "name": "stdout",
     "output_type": "stream",
     "text": [
      "Error fetching supplier for SKU 1270405001 after 5 retries: HTTPSConnectionPool(host='www2.hm.com', port=443): Max retries exceeded with url: /sv_se/supplierDetails/articles/1270405001 (Caused by ResponseError('too many 400 error responses'))\n"
     ]
    },
    {
     "name": "stderr",
     "output_type": "stream",
     "text": [
      "Fetching Supplier Details:  83%|██████████████████████████████████▊       | 2147/2588 [2:29:16<2:03:40, 16.83s/product]"
     ]
    },
    {
     "name": "stdout",
     "output_type": "stream",
     "text": [
      "Error fetching supplier for SKU 1017271001 after 5 retries: HTTPSConnectionPool(host='www2.hm.com', port=443): Max retries exceeded with url: /sv_se/supplierDetails/articles/1017271001 (Caused by ResponseError('too many 400 error responses'))\n"
     ]
    },
    {
     "name": "stderr",
     "output_type": "stream",
     "text": [
      "Fetching Supplier Details:  83%|██████████████████████████████████▊       | 2148/2588 [2:29:34<2:05:19, 17.09s/product]"
     ]
    },
    {
     "name": "stdout",
     "output_type": "stream",
     "text": [
      "Error fetching supplier for SKU 1220024003 after 5 retries: HTTPSConnectionPool(host='www2.hm.com', port=443): Max retries exceeded with url: /sv_se/supplierDetails/articles/1220024003 (Caused by ResponseError('too many 400 error responses'))\n"
     ]
    },
    {
     "name": "stderr",
     "output_type": "stream",
     "text": [
      "Fetching Supplier Details:  83%|██████████████████████████████████▉       | 2149/2588 [2:29:51<2:05:47, 17.19s/product]"
     ]
    },
    {
     "name": "stdout",
     "output_type": "stream",
     "text": [
      "Error fetching supplier for SKU 1270360001 after 5 retries: HTTPSConnectionPool(host='www2.hm.com', port=443): Max retries exceeded with url: /sv_se/supplierDetails/articles/1270360001 (Caused by ResponseError('too many 400 error responses'))\n"
     ]
    },
    {
     "name": "stderr",
     "output_type": "stream",
     "text": [
      "Fetching Supplier Details:  83%|██████████████████████████████████▉       | 2151/2588 [2:30:09<1:39:51, 13.71s/product]"
     ]
    },
    {
     "name": "stdout",
     "output_type": "stream",
     "text": [
      "Error fetching supplier for SKU 0989216001 after 5 retries: HTTPSConnectionPool(host='www2.hm.com', port=443): Max retries exceeded with url: /sv_se/supplierDetails/articles/0989216001 (Caused by ResponseError('too many 400 error responses'))\n"
     ]
    },
    {
     "name": "stderr",
     "output_type": "stream",
     "text": [
      "Fetching Supplier Details:  83%|██████████████████████████████████▉       | 2152/2588 [2:30:26<1:47:33, 14.80s/product]"
     ]
    },
    {
     "name": "stdout",
     "output_type": "stream",
     "text": [
      "Error fetching supplier for SKU 0989216038 after 5 retries: HTTPSConnectionPool(host='www2.hm.com', port=443): Max retries exceeded with url: /sv_se/supplierDetails/articles/0989216038 (Caused by ResponseError('too many 400 error responses'))\n"
     ]
    },
    {
     "name": "stderr",
     "output_type": "stream",
     "text": [
      "Fetching Supplier Details:  83%|██████████████████████████████████▉       | 2153/2588 [2:30:44<1:53:14, 15.62s/product]"
     ]
    },
    {
     "name": "stdout",
     "output_type": "stream",
     "text": [
      "Error fetching supplier for SKU 0990934023 after 5 retries: HTTPSConnectionPool(host='www2.hm.com', port=443): Max retries exceeded with url: /sv_se/supplierDetails/articles/0990934023 (Caused by ResponseError('too many 400 error responses'))\n"
     ]
    },
    {
     "name": "stderr",
     "output_type": "stream",
     "text": [
      "Fetching Supplier Details:  83%|██████████████████████████████████▉       | 2154/2588 [2:31:02<1:59:03, 16.46s/product]"
     ]
    },
    {
     "name": "stdout",
     "output_type": "stream",
     "text": [
      "Error fetching supplier for SKU 1000960029 after 5 retries: HTTPSConnectionPool(host='www2.hm.com', port=443): Max retries exceeded with url: /sv_se/supplierDetails/articles/1000960029 (Caused by ResponseError('too many 400 error responses'))\n"
     ]
    },
    {
     "name": "stderr",
     "output_type": "stream",
     "text": [
      "Fetching Supplier Details:  83%|██████████████████████████████████▉       | 2155/2588 [2:31:26<2:15:22, 18.76s/product]"
     ]
    },
    {
     "name": "stdout",
     "output_type": "stream",
     "text": [
      "Error fetching supplier for SKU 1002466001 after 5 retries: HTTPSConnectionPool(host='www2.hm.com', port=443): Max retries exceeded with url: /sv_se/supplierDetails/articles/1002466001 (Caused by ResponseError('too many 400 error responses'))\n"
     ]
    },
    {
     "name": "stderr",
     "output_type": "stream",
     "text": [
      "Fetching Supplier Details:  83%|██████████████████████████████████▉       | 2156/2588 [2:31:44<2:12:09, 18.36s/product]"
     ]
    },
    {
     "name": "stdout",
     "output_type": "stream",
     "text": [
      "Error fetching supplier for SKU 1002466013 after 5 retries: HTTPSConnectionPool(host='www2.hm.com', port=443): Max retries exceeded with url: /sv_se/supplierDetails/articles/1002466013 (Caused by ResponseError('too many 400 error responses'))\n"
     ]
    },
    {
     "name": "stderr",
     "output_type": "stream",
     "text": [
      "Fetching Supplier Details:  83%|███████████████████████████████████       | 2157/2588 [2:32:01<2:09:52, 18.08s/product]"
     ]
    },
    {
     "name": "stdout",
     "output_type": "stream",
     "text": [
      "Error fetching supplier for SKU 1004114002 after 5 retries: HTTPSConnectionPool(host='www2.hm.com', port=443): Max retries exceeded with url: /sv_se/supplierDetails/articles/1004114002 (Caused by ResponseError('too many 400 error responses'))\n"
     ]
    },
    {
     "name": "stderr",
     "output_type": "stream",
     "text": [
      "Fetching Supplier Details:  83%|███████████████████████████████████       | 2158/2588 [2:32:19<2:08:19, 17.91s/product]"
     ]
    },
    {
     "name": "stdout",
     "output_type": "stream",
     "text": [
      "Error fetching supplier for SKU 1004114005 after 5 retries: HTTPSConnectionPool(host='www2.hm.com', port=443): Max retries exceeded with url: /sv_se/supplierDetails/articles/1004114005 (Caused by ResponseError('too many 400 error responses'))\n"
     ]
    },
    {
     "name": "stderr",
     "output_type": "stream",
     "text": [
      "Fetching Supplier Details:  83%|███████████████████████████████████       | 2159/2588 [2:32:36<2:06:56, 17.75s/product]"
     ]
    },
    {
     "name": "stdout",
     "output_type": "stream",
     "text": [
      "Error fetching supplier for SKU 1018404007 after 5 retries: HTTPSConnectionPool(host='www2.hm.com', port=443): Max retries exceeded with url: /sv_se/supplierDetails/articles/1018404007 (Caused by ResponseError('too many 400 error responses'))\n"
     ]
    },
    {
     "name": "stderr",
     "output_type": "stream",
     "text": [
      "Fetching Supplier Details:  83%|███████████████████████████████████       | 2160/2588 [2:32:53<2:05:47, 17.63s/product]"
     ]
    },
    {
     "name": "stdout",
     "output_type": "stream",
     "text": [
      "Error fetching supplier for SKU 1027688002 after 5 retries: HTTPSConnectionPool(host='www2.hm.com', port=443): Max retries exceeded with url: /sv_se/supplierDetails/articles/1027688002 (Caused by ResponseError('too many 400 error responses'))\n"
     ]
    },
    {
     "name": "stderr",
     "output_type": "stream",
     "text": [
      "Fetching Supplier Details:  84%|███████████████████████████████████       | 2161/2588 [2:33:11<2:04:46, 17.53s/product]"
     ]
    },
    {
     "name": "stdout",
     "output_type": "stream",
     "text": [
      "Error fetching supplier for SKU 1244466001 after 5 retries: HTTPSConnectionPool(host='www2.hm.com', port=443): Max retries exceeded with url: /sv_se/supplierDetails/articles/1244466001 (Caused by ResponseError('too many 400 error responses'))\n"
     ]
    },
    {
     "name": "stderr",
     "output_type": "stream",
     "text": [
      "Fetching Supplier Details:  84%|███████████████████████████████████       | 2162/2588 [2:33:28<2:04:16, 17.50s/product]"
     ]
    },
    {
     "name": "stdout",
     "output_type": "stream",
     "text": [
      "Error fetching supplier for SKU 1244509001 after 5 retries: HTTPSConnectionPool(host='www2.hm.com', port=443): Max retries exceeded with url: /sv_se/supplierDetails/articles/1244509001 (Caused by ResponseError('too many 400 error responses'))\n"
     ]
    },
    {
     "name": "stderr",
     "output_type": "stream",
     "text": [
      "Fetching Supplier Details:  84%|███████████████████████████████████       | 2163/2588 [2:33:46<2:05:03, 17.65s/product]"
     ]
    },
    {
     "name": "stdout",
     "output_type": "stream",
     "text": [
      "Error fetching supplier for SKU 1247365001 after 5 retries: HTTPSConnectionPool(host='www2.hm.com', port=443): Max retries exceeded with url: /sv_se/supplierDetails/articles/1247365001 (Caused by ResponseError('too many 400 error responses'))\n"
     ]
    },
    {
     "name": "stderr",
     "output_type": "stream",
     "text": [
      "Fetching Supplier Details:  84%|███████████████████████████████████       | 2164/2588 [2:34:04<2:04:17, 17.59s/product]"
     ]
    },
    {
     "name": "stdout",
     "output_type": "stream",
     "text": [
      "Error fetching supplier for SKU 1248041001 after 5 retries: HTTPSConnectionPool(host='www2.hm.com', port=443): Max retries exceeded with url: /sv_se/supplierDetails/articles/1248041001 (Caused by ResponseError('too many 400 error responses'))\n"
     ]
    },
    {
     "name": "stderr",
     "output_type": "stream",
     "text": [
      "Fetching Supplier Details:  84%|███████████████████████████████████▏      | 2165/2588 [2:34:21<2:03:38, 17.54s/product]"
     ]
    },
    {
     "name": "stdout",
     "output_type": "stream",
     "text": [
      "Error fetching supplier for SKU 1255889002 after 5 retries: HTTPSConnectionPool(host='www2.hm.com', port=443): Max retries exceeded with url: /sv_se/supplierDetails/articles/1255889002 (Caused by ResponseError('too many 400 error responses'))\n"
     ]
    },
    {
     "name": "stderr",
     "output_type": "stream",
     "text": [
      "Fetching Supplier Details:  84%|███████████████████████████████████▏      | 2166/2588 [2:34:38<2:03:07, 17.51s/product]"
     ]
    },
    {
     "name": "stdout",
     "output_type": "stream",
     "text": [
      "Error fetching supplier for SKU 1260212002 after 5 retries: HTTPSConnectionPool(host='www2.hm.com', port=443): Max retries exceeded with url: /sv_se/supplierDetails/articles/1260212002 (Caused by ResponseError('too many 400 error responses'))\n"
     ]
    },
    {
     "name": "stderr",
     "output_type": "stream",
     "text": [
      "Fetching Supplier Details:  84%|███████████████████████████████████▏      | 2167/2588 [2:34:56<2:02:59, 17.53s/product]"
     ]
    },
    {
     "name": "stdout",
     "output_type": "stream",
     "text": [
      "Error fetching supplier for SKU 1265798001 after 5 retries: HTTPSConnectionPool(host='www2.hm.com', port=443): Max retries exceeded with url: /sv_se/supplierDetails/articles/1265798001 (Caused by ResponseError('too many 400 error responses'))\n"
     ]
    },
    {
     "name": "stderr",
     "output_type": "stream",
     "text": [
      "Fetching Supplier Details:  84%|███████████████████████████████████▏      | 2168/2588 [2:35:14<2:03:09, 17.59s/product]"
     ]
    },
    {
     "name": "stdout",
     "output_type": "stream",
     "text": [
      "Error fetching supplier for SKU 1265809001 after 5 retries: HTTPSConnectionPool(host='www2.hm.com', port=443): Max retries exceeded with url: /sv_se/supplierDetails/articles/1265809001 (Caused by ResponseError('too many 400 error responses'))\n"
     ]
    },
    {
     "name": "stderr",
     "output_type": "stream",
     "text": [
      "Fetching Supplier Details:  84%|███████████████████████████████████▏      | 2169/2588 [2:35:31<2:02:31, 17.55s/product]"
     ]
    },
    {
     "name": "stdout",
     "output_type": "stream",
     "text": [
      "Error fetching supplier for SKU 1268654001 after 5 retries: HTTPSConnectionPool(host='www2.hm.com', port=443): Max retries exceeded with url: /sv_se/supplierDetails/articles/1268654001 (Caused by ResponseError('too many 400 error responses'))\n"
     ]
    },
    {
     "name": "stderr",
     "output_type": "stream",
     "text": [
      "Fetching Supplier Details:  84%|███████████████████████████████████▏      | 2170/2588 [2:35:49<2:01:58, 17.51s/product]"
     ]
    },
    {
     "name": "stdout",
     "output_type": "stream",
     "text": [
      "Error fetching supplier for SKU 1268815001 after 5 retries: HTTPSConnectionPool(host='www2.hm.com', port=443): Max retries exceeded with url: /sv_se/supplierDetails/articles/1268815001 (Caused by ResponseError('too many 400 error responses'))\n"
     ]
    },
    {
     "name": "stderr",
     "output_type": "stream",
     "text": [
      "Fetching Supplier Details:  84%|███████████████████████████████████▏      | 2171/2588 [2:36:06<2:01:31, 17.49s/product]"
     ]
    },
    {
     "name": "stdout",
     "output_type": "stream",
     "text": [
      "Error fetching supplier for SKU 1270360001 after 5 retries: HTTPSConnectionPool(host='www2.hm.com', port=443): Max retries exceeded with url: /sv_se/supplierDetails/articles/1270360001 (Caused by ResponseError('too many 400 error responses'))\n"
     ]
    },
    {
     "name": "stderr",
     "output_type": "stream",
     "text": [
      "Fetching Supplier Details:  84%|███████████████████████████████████▎      | 2173/2588 [2:36:24<1:33:12, 13.48s/product]"
     ]
    },
    {
     "name": "stdout",
     "output_type": "stream",
     "text": [
      "Error fetching supplier for SKU 1000960029 after 5 retries: HTTPSConnectionPool(host='www2.hm.com', port=443): Max retries exceeded with url: /sv_se/supplierDetails/articles/1000960029 (Caused by ResponseError('too many 400 error responses'))\n"
     ]
    },
    {
     "name": "stderr",
     "output_type": "stream",
     "text": [
      "Fetching Supplier Details:  84%|███████████████████████████████████▎      | 2174/2588 [2:36:45<1:46:53, 15.49s/product]"
     ]
    },
    {
     "name": "stdout",
     "output_type": "stream",
     "text": [
      "Error fetching supplier for SKU 1004114002 after 5 retries: HTTPSConnectionPool(host='www2.hm.com', port=443): Max retries exceeded with url: /sv_se/supplierDetails/articles/1004114002 (Caused by ResponseError('too many 400 error responses'))\n"
     ]
    },
    {
     "name": "stderr",
     "output_type": "stream",
     "text": [
      "Fetching Supplier Details:  84%|███████████████████████████████████▎      | 2175/2588 [2:37:03<1:50:35, 16.07s/product]"
     ]
    },
    {
     "name": "stdout",
     "output_type": "stream",
     "text": [
      "Error fetching supplier for SKU 1004114005 after 5 retries: HTTPSConnectionPool(host='www2.hm.com', port=443): Max retries exceeded with url: /sv_se/supplierDetails/articles/1004114005 (Caused by ResponseError('too many 400 error responses'))\n"
     ]
    },
    {
     "name": "stderr",
     "output_type": "stream",
     "text": [
      "Fetching Supplier Details:  84%|███████████████████████████████████▎      | 2176/2588 [2:37:20<1:52:54, 16.44s/product]"
     ]
    },
    {
     "name": "stdout",
     "output_type": "stream",
     "text": [
      "Error fetching supplier for SKU 1018404007 after 5 retries: HTTPSConnectionPool(host='www2.hm.com', port=443): Max retries exceeded with url: /sv_se/supplierDetails/articles/1018404007 (Caused by ResponseError('too many 400 error responses'))\n"
     ]
    },
    {
     "name": "stderr",
     "output_type": "stream",
     "text": [
      "Fetching Supplier Details:  84%|███████████████████████████████████▎      | 2177/2588 [2:37:38<1:54:25, 16.70s/product]"
     ]
    },
    {
     "name": "stdout",
     "output_type": "stream",
     "text": [
      "Error fetching supplier for SKU 1027688002 after 5 retries: HTTPSConnectionPool(host='www2.hm.com', port=443): Max retries exceeded with url: /sv_se/supplierDetails/articles/1027688002 (Caused by ResponseError('too many 400 error responses'))\n"
     ]
    },
    {
     "name": "stderr",
     "output_type": "stream",
     "text": [
      "Fetching Supplier Details:  84%|███████████████████████████████████▎      | 2178/2588 [2:37:55<1:55:18, 16.88s/product]"
     ]
    },
    {
     "name": "stdout",
     "output_type": "stream",
     "text": [
      "Error fetching supplier for SKU 1090553011 after 5 retries: HTTPSConnectionPool(host='www2.hm.com', port=443): Max retries exceeded with url: /sv_se/supplierDetails/articles/1090553011 (Caused by ResponseError('too many 400 error responses'))\n"
     ]
    },
    {
     "name": "stderr",
     "output_type": "stream",
     "text": [
      "Fetching Supplier Details:  84%|███████████████████████████████████▎      | 2179/2588 [2:38:13<1:56:08, 17.04s/product]"
     ]
    },
    {
     "name": "stdout",
     "output_type": "stream",
     "text": [
      "Error fetching supplier for SKU 1126010001 after 5 retries: HTTPSConnectionPool(host='www2.hm.com', port=443): Max retries exceeded with url: /sv_se/supplierDetails/articles/1126010001 (Caused by ResponseError('too many 400 error responses'))\n"
     ]
    },
    {
     "name": "stderr",
     "output_type": "stream",
     "text": [
      "Fetching Supplier Details:  84%|███████████████████████████████████▍      | 2180/2588 [2:38:31<1:57:39, 17.30s/product]"
     ]
    },
    {
     "name": "stdout",
     "output_type": "stream",
     "text": [
      "Error fetching supplier for SKU 1126010008 after 5 retries: HTTPSConnectionPool(host='www2.hm.com', port=443): Max retries exceeded with url: /sv_se/supplierDetails/articles/1126010008 (Caused by ResponseError('too many 400 error responses'))\n"
     ]
    },
    {
     "name": "stderr",
     "output_type": "stream",
     "text": [
      "Fetching Supplier Details:  84%|███████████████████████████████████▍      | 2181/2588 [2:38:48<1:57:58, 17.39s/product]"
     ]
    },
    {
     "name": "stdout",
     "output_type": "stream",
     "text": [
      "Error fetching supplier for SKU 1142137011 after 5 retries: HTTPSConnectionPool(host='www2.hm.com', port=443): Max retries exceeded with url: /sv_se/supplierDetails/articles/1142137011 (Caused by ResponseError('too many 400 error responses'))\n"
     ]
    },
    {
     "name": "stderr",
     "output_type": "stream",
     "text": [
      "Fetching Supplier Details:  84%|███████████████████████████████████▍      | 2182/2588 [2:39:09<2:04:38, 18.42s/product]"
     ]
    },
    {
     "name": "stdout",
     "output_type": "stream",
     "text": [
      "Error fetching supplier for SKU 1182271002 after 5 retries: HTTPSConnectionPool(host='www2.hm.com', port=443): Max retries exceeded with url: /sv_se/supplierDetails/articles/1182271002 (Caused by ResponseError('too many 400 error responses'))\n"
     ]
    },
    {
     "name": "stderr",
     "output_type": "stream",
     "text": [
      "Fetching Supplier Details:  84%|███████████████████████████████████▍      | 2183/2588 [2:39:26<2:02:12, 18.10s/product]"
     ]
    },
    {
     "name": "stdout",
     "output_type": "stream",
     "text": [
      "Error fetching supplier for SKU 1187807005 after 5 retries: HTTPSConnectionPool(host='www2.hm.com', port=443): Max retries exceeded with url: /sv_se/supplierDetails/articles/1187807005 (Caused by ResponseError('too many 400 error responses'))\n"
     ]
    },
    {
     "name": "stderr",
     "output_type": "stream",
     "text": [
      "Fetching Supplier Details:  84%|███████████████████████████████████▍      | 2184/2588 [2:39:44<2:00:30, 17.90s/product]"
     ]
    },
    {
     "name": "stdout",
     "output_type": "stream",
     "text": [
      "Error fetching supplier for SKU 1214857001 after 5 retries: HTTPSConnectionPool(host='www2.hm.com', port=443): Max retries exceeded with url: /sv_se/supplierDetails/articles/1214857001 (Caused by ResponseError('too many 400 error responses'))\n"
     ]
    },
    {
     "name": "stderr",
     "output_type": "stream",
     "text": [
      "Fetching Supplier Details:  84%|███████████████████████████████████▍      | 2185/2588 [2:40:01<1:59:10, 17.74s/product]"
     ]
    },
    {
     "name": "stdout",
     "output_type": "stream",
     "text": [
      "Error fetching supplier for SKU 1216426001 after 5 retries: HTTPSConnectionPool(host='www2.hm.com', port=443): Max retries exceeded with url: /sv_se/supplierDetails/articles/1216426001 (Caused by ResponseError('too many 400 error responses'))\n"
     ]
    },
    {
     "name": "stderr",
     "output_type": "stream",
     "text": [
      "Fetching Supplier Details:  84%|███████████████████████████████████▍      | 2186/2588 [2:40:19<1:58:14, 17.65s/product]"
     ]
    },
    {
     "name": "stdout",
     "output_type": "stream",
     "text": [
      "Error fetching supplier for SKU 1221864001 after 5 retries: HTTPSConnectionPool(host='www2.hm.com', port=443): Max retries exceeded with url: /sv_se/supplierDetails/articles/1221864001 (Caused by ResponseError('too many 400 error responses'))\n"
     ]
    },
    {
     "name": "stderr",
     "output_type": "stream",
     "text": [
      "Fetching Supplier Details:  85%|███████████████████████████████████▍      | 2187/2588 [2:40:37<1:58:40, 17.76s/product]"
     ]
    },
    {
     "name": "stdout",
     "output_type": "stream",
     "text": [
      "Error fetching supplier for SKU 1223221004 after 5 retries: HTTPSConnectionPool(host='www2.hm.com', port=443): Max retries exceeded with url: /sv_se/supplierDetails/articles/1223221004 (Caused by ResponseError('too many 400 error responses'))\n"
     ]
    },
    {
     "name": "stderr",
     "output_type": "stream",
     "text": [
      "Fetching Supplier Details:  85%|███████████████████████████████████▌      | 2188/2588 [2:40:57<2:03:43, 18.56s/product]"
     ]
    },
    {
     "name": "stdout",
     "output_type": "stream",
     "text": [
      "Error fetching supplier for SKU 1228152001 after 5 retries: HTTPSConnectionPool(host='www2.hm.com', port=443): Max retries exceeded with url: /sv_se/supplierDetails/articles/1228152001 (Caused by ResponseError('too many 400 error responses'))\n"
     ]
    },
    {
     "name": "stderr",
     "output_type": "stream",
     "text": [
      "Fetching Supplier Details:  85%|███████████████████████████████████▌      | 2189/2588 [2:41:14<2:01:13, 18.23s/product]"
     ]
    },
    {
     "name": "stdout",
     "output_type": "stream",
     "text": [
      "Error fetching supplier for SKU 1236622003 after 5 retries: HTTPSConnectionPool(host='www2.hm.com', port=443): Max retries exceeded with url: /sv_se/supplierDetails/articles/1236622003 (Caused by ResponseError('too many 400 error responses'))\n"
     ]
    },
    {
     "name": "stderr",
     "output_type": "stream",
     "text": [
      "Fetching Supplier Details:  85%|███████████████████████████████████▌      | 2190/2588 [2:41:32<2:00:04, 18.10s/product]"
     ]
    },
    {
     "name": "stdout",
     "output_type": "stream",
     "text": [
      "Error fetching supplier for SKU 1240645001 after 5 retries: HTTPSConnectionPool(host='www2.hm.com', port=443): Max retries exceeded with url: /sv_se/supplierDetails/articles/1240645001 (Caused by ResponseError('too many 400 error responses'))\n"
     ]
    },
    {
     "name": "stderr",
     "output_type": "stream",
     "text": [
      "Fetching Supplier Details:  85%|███████████████████████████████████▌      | 2191/2588 [2:41:55<2:08:39, 19.45s/product]"
     ]
    },
    {
     "name": "stdout",
     "output_type": "stream",
     "text": [
      "Error fetching supplier for SKU 1241105001 after 5 retries: HTTPSConnectionPool(host='www2.hm.com', port=443): Max retries exceeded with url: /sv_se/supplierDetails/articles/1241105001 (Caused by ResponseError('too many 400 error responses'))\n"
     ]
    },
    {
     "name": "stderr",
     "output_type": "stream",
     "text": [
      "Fetching Supplier Details:  85%|███████████████████████████████████▌      | 2192/2588 [2:42:15<2:10:21, 19.75s/product]"
     ]
    },
    {
     "name": "stdout",
     "output_type": "stream",
     "text": [
      "Error fetching supplier for SKU 1241105002 after 5 retries: HTTPSConnectionPool(host='www2.hm.com', port=443): Max retries exceeded with url: /sv_se/supplierDetails/articles/1241105002 (Caused by ResponseError('too many 400 error responses'))\n"
     ]
    },
    {
     "name": "stderr",
     "output_type": "stream",
     "text": [
      "Fetching Supplier Details:  85%|███████████████████████████████████▌      | 2193/2588 [2:42:40<2:19:28, 21.19s/product]"
     ]
    },
    {
     "name": "stdout",
     "output_type": "stream",
     "text": [
      "Error fetching supplier for SKU 1243279001 after 5 retries: HTTPSConnectionPool(host='www2.hm.com', port=443): Max retries exceeded with url: /sv_se/supplierDetails/articles/1243279001 (Caused by ResponseError('too many 400 error responses'))\n"
     ]
    },
    {
     "name": "stderr",
     "output_type": "stream",
     "text": [
      "Fetching Supplier Details:  85%|███████████████████████████████████▌      | 2194/2588 [2:43:31<3:18:57, 30.30s/product]"
     ]
    },
    {
     "name": "stdout",
     "output_type": "stream",
     "text": [
      "Error fetching supplier for SKU 1243280001 after 5 retries: HTTPSConnectionPool(host='www2.hm.com', port=443): Max retries exceeded with url: /sv_se/supplierDetails/articles/1243280001 (Caused by ResponseError('too many 400 error responses'))\n"
     ]
    },
    {
     "name": "stderr",
     "output_type": "stream",
     "text": [
      "Fetching Supplier Details:  85%|███████████████████████████████████▌      | 2195/2588 [2:44:01<3:16:09, 29.95s/product]"
     ]
    },
    {
     "name": "stdout",
     "output_type": "stream",
     "text": [
      "Error fetching supplier for SKU 1244349001 after 5 retries: HTTPSConnectionPool(host='www2.hm.com', port=443): Max retries exceeded with url: /sv_se/supplierDetails/articles/1244349001 (Caused by ResponseError('too many 400 error responses'))\n"
     ]
    },
    {
     "name": "stderr",
     "output_type": "stream",
     "text": [
      "Fetching Supplier Details:  85%|███████████████████████████████████▋      | 2196/2588 [2:44:26<3:07:05, 28.64s/product]"
     ]
    },
    {
     "name": "stdout",
     "output_type": "stream",
     "text": [
      "Error fetching supplier for SKU 1259112001 after 5 retries: HTTPSConnectionPool(host='www2.hm.com', port=443): Max retries exceeded with url: /sv_se/supplierDetails/articles/1259112001 (Caused by ResponseError('too many 400 error responses'))\n"
     ]
    },
    {
     "name": "stderr",
     "output_type": "stream",
     "text": [
      "Fetching Supplier Details:  85%|███████████████████████████████████▋      | 2198/2588 [2:44:46<2:09:04, 19.86s/product]"
     ]
    },
    {
     "name": "stdout",
     "output_type": "stream",
     "text": [
      "Error fetching supplier for SKU 1217235001 after 5 retries: HTTPSConnectionPool(host='www2.hm.com', port=443): Max retries exceeded with url: /sv_se/supplierDetails/articles/1217235001 (Caused by ResponseError('too many 400 error responses'))\n"
     ]
    },
    {
     "name": "stderr",
     "output_type": "stream",
     "text": [
      "Fetching Supplier Details:  85%|███████████████████████████████████▋      | 2199/2588 [2:45:03<2:04:00, 19.13s/product]"
     ]
    },
    {
     "name": "stdout",
     "output_type": "stream",
     "text": [
      "Error fetching supplier for SKU 1236667003 after 5 retries: HTTPSConnectionPool(host='www2.hm.com', port=443): Max retries exceeded with url: /sv_se/supplierDetails/articles/1236667003 (Caused by ResponseError('too many 400 error responses'))\n"
     ]
    },
    {
     "name": "stderr",
     "output_type": "stream",
     "text": [
      "Fetching Supplier Details:  85%|███████████████████████████████████▋      | 2200/2588 [2:45:21<2:00:54, 18.70s/product]"
     ]
    },
    {
     "name": "stdout",
     "output_type": "stream",
     "text": [
      "Error fetching supplier for SKU 1244509001 after 5 retries: HTTPSConnectionPool(host='www2.hm.com', port=443): Max retries exceeded with url: /sv_se/supplierDetails/articles/1244509001 (Caused by ResponseError('too many 400 error responses'))\n"
     ]
    },
    {
     "name": "stderr",
     "output_type": "stream",
     "text": [
      "Fetching Supplier Details:  85%|███████████████████████████████████▋      | 2201/2588 [2:45:41<2:03:53, 19.21s/product]"
     ]
    },
    {
     "name": "stdout",
     "output_type": "stream",
     "text": [
      "Error fetching supplier for SKU 1247365001 after 5 retries: HTTPSConnectionPool(host='www2.hm.com', port=443): Max retries exceeded with url: /sv_se/supplierDetails/articles/1247365001 (Caused by ResponseError('too many 400 error responses'))\n"
     ]
    },
    {
     "name": "stderr",
     "output_type": "stream",
     "text": [
      "Fetching Supplier Details:  85%|███████████████████████████████████▋      | 2202/2588 [2:45:59<2:01:41, 18.92s/product]"
     ]
    },
    {
     "name": "stdout",
     "output_type": "stream",
     "text": [
      "Error fetching supplier for SKU 1248041001 after 5 retries: HTTPSConnectionPool(host='www2.hm.com', port=443): Max retries exceeded with url: /sv_se/supplierDetails/articles/1248041001 (Caused by ResponseError('too many 400 error responses'))\n"
     ]
    },
    {
     "name": "stderr",
     "output_type": "stream",
     "text": [
      "Fetching Supplier Details:  85%|███████████████████████████████████▊      | 2203/2588 [2:46:17<1:58:50, 18.52s/product]"
     ]
    },
    {
     "name": "stdout",
     "output_type": "stream",
     "text": [
      "Error fetching supplier for SKU 1255889002 after 5 retries: HTTPSConnectionPool(host='www2.hm.com', port=443): Max retries exceeded with url: /sv_se/supplierDetails/articles/1255889002 (Caused by ResponseError('too many 400 error responses'))\n"
     ]
    },
    {
     "name": "stderr",
     "output_type": "stream",
     "text": [
      "Fetching Supplier Details:  85%|███████████████████████████████████▊      | 2204/2588 [2:46:35<1:57:08, 18.30s/product]"
     ]
    },
    {
     "name": "stdout",
     "output_type": "stream",
     "text": [
      "Error fetching supplier for SKU 1260212002 after 5 retries: HTTPSConnectionPool(host='www2.hm.com', port=443): Max retries exceeded with url: /sv_se/supplierDetails/articles/1260212002 (Caused by ResponseError('too many 400 error responses'))\n"
     ]
    },
    {
     "name": "stderr",
     "output_type": "stream",
     "text": [
      "Fetching Supplier Details:  85%|███████████████████████████████████▊      | 2205/2588 [2:46:52<1:55:12, 18.05s/product]"
     ]
    },
    {
     "name": "stdout",
     "output_type": "stream",
     "text": [
      "Error fetching supplier for SKU 1260775001 after 5 retries: HTTPSConnectionPool(host='www2.hm.com', port=443): Max retries exceeded with url: /sv_se/supplierDetails/articles/1260775001 (Caused by ResponseError('too many 400 error responses'))\n"
     ]
    },
    {
     "name": "stderr",
     "output_type": "stream",
     "text": [
      "Fetching Supplier Details:  85%|███████████████████████████████████▊      | 2206/2588 [2:47:11<1:55:24, 18.13s/product]"
     ]
    },
    {
     "name": "stdout",
     "output_type": "stream",
     "text": [
      "Error fetching supplier for SKU 1268815001 after 5 retries: HTTPSConnectionPool(host='www2.hm.com', port=443): Max retries exceeded with url: /sv_se/supplierDetails/articles/1268815001 (Caused by ResponseError('too many 400 error responses'))\n"
     ]
    },
    {
     "name": "stderr",
     "output_type": "stream",
     "text": [
      "Fetching Supplier Details:  85%|███████████████████████████████████▊      | 2207/2588 [2:47:28<1:54:37, 18.05s/product]"
     ]
    },
    {
     "name": "stdout",
     "output_type": "stream",
     "text": [
      "Error fetching supplier for SKU 1114252027 after 5 retries: HTTPSConnectionPool(host='www2.hm.com', port=443): Max retries exceeded with url: /sv_se/supplierDetails/articles/1114252027 (Caused by ResponseError('too many 400 error responses'))\n"
     ]
    },
    {
     "name": "stderr",
     "output_type": "stream",
     "text": [
      "Fetching Supplier Details:  85%|███████████████████████████████████▊      | 2208/2588 [2:47:46<1:53:46, 17.97s/product]"
     ]
    },
    {
     "name": "stdout",
     "output_type": "stream",
     "text": [
      "Error fetching supplier for SKU 0970127045 after 5 retries: HTTPSConnectionPool(host='www2.hm.com', port=443): Max retries exceeded with url: /sv_se/supplierDetails/articles/0970127045 (Caused by ResponseError('too many 400 error responses'))\n"
     ]
    },
    {
     "name": "stderr",
     "output_type": "stream",
     "text": [
      "Fetching Supplier Details:  85%|███████████████████████████████████▊      | 2209/2588 [2:48:04<1:52:52, 17.87s/product]"
     ]
    },
    {
     "name": "stdout",
     "output_type": "stream",
     "text": [
      "Error fetching supplier for SKU 0970127047 after 5 retries: HTTPSConnectionPool(host='www2.hm.com', port=443): Max retries exceeded with url: /sv_se/supplierDetails/articles/0970127047 (Caused by ResponseError('too many 400 error responses'))\n"
     ]
    },
    {
     "name": "stderr",
     "output_type": "stream",
     "text": [
      "Fetching Supplier Details:  85%|███████████████████████████████████▊      | 2210/2588 [2:48:25<1:58:15, 18.77s/product]"
     ]
    },
    {
     "name": "stdout",
     "output_type": "stream",
     "text": [
      "Error fetching supplier for SKU 0970127049 after 5 retries: HTTPSConnectionPool(host='www2.hm.com', port=443): Max retries exceeded with url: /sv_se/supplierDetails/articles/0970127049 (Caused by ResponseError('too many 400 error responses'))\n"
     ]
    },
    {
     "name": "stderr",
     "output_type": "stream",
     "text": [
      "Fetching Supplier Details:  85%|███████████████████████████████████▉      | 2212/2588 [2:48:46<1:36:19, 15.37s/product]"
     ]
    },
    {
     "name": "stdout",
     "output_type": "stream",
     "text": [
      "Error fetching supplier for SKU 0828122073 after 5 retries: HTTPSConnectionPool(host='www2.hm.com', port=443): Max retries exceeded with url: /sv_se/supplierDetails/articles/0828122073 (Caused by ResponseError('too many 400 error responses'))\n"
     ]
    },
    {
     "name": "stderr",
     "output_type": "stream",
     "text": [
      "Fetching Supplier Details:  86%|█████████████████████████████████████▋      | 2217/2588 [2:49:07<53:48,  8.70s/product]"
     ]
    },
    {
     "name": "stdout",
     "output_type": "stream",
     "text": [
      "Error fetching supplier for SKU 1069657013 after 5 retries: HTTPSConnectionPool(host='www2.hm.com', port=443): Max retries exceeded with url: /sv_se/supplierDetails/articles/1069657013 (Caused by ResponseError('too many 400 error responses'))\n"
     ]
    },
    {
     "name": "stderr",
     "output_type": "stream",
     "text": [
      "Fetching Supplier Details:  86%|█████████████████████████████████████▊      | 2221/2588 [2:49:31<51:15,  8.38s/product]"
     ]
    },
    {
     "name": "stdout",
     "output_type": "stream",
     "text": [
      "Error fetching supplier for SKU 1121112016 after 5 retries: HTTPSConnectionPool(host='www2.hm.com', port=443): Max retries exceeded with url: /sv_se/supplierDetails/articles/1121112016 (Caused by ResponseError('too many 400 error responses'))\n"
     ]
    },
    {
     "name": "stderr",
     "output_type": "stream",
     "text": [
      "Fetching Supplier Details:  86%|█████████████████████████████████████▉      | 2228/2588 [2:50:03<44:51,  7.48s/product]"
     ]
    },
    {
     "name": "stdout",
     "output_type": "stream",
     "text": [
      "Error fetching supplier for SKU 1257220001 after 5 retries: HTTPSConnectionPool(host='www2.hm.com', port=443): Max retries exceeded with url: /sv_se/supplierDetails/articles/1257220001 (Caused by ResponseError('too many 400 error responses'))\n"
     ]
    },
    {
     "name": "stderr",
     "output_type": "stream",
     "text": [
      "Fetching Supplier Details:  86%|█████████████████████████████████████▉      | 2230/2588 [2:50:25<59:28,  9.97s/product]"
     ]
    },
    {
     "name": "stdout",
     "output_type": "stream",
     "text": [
      "Error fetching supplier for SKU 1161941008 after 5 retries: HTTPSConnectionPool(host='www2.hm.com', port=443): Max retries exceeded with url: /sv_se/supplierDetails/articles/1161941008 (Caused by ResponseError('too many 400 error responses'))\n"
     ]
    },
    {
     "name": "stderr",
     "output_type": "stream",
     "text": [
      "Fetching Supplier Details:  86%|████████████████████████████████████▏     | 2231/2588 [2:51:00<1:44:01, 17.48s/product]"
     ]
    },
    {
     "name": "stdout",
     "output_type": "stream",
     "text": [
      "Error fetching supplier for SKU 1068737017 after 5 retries: HTTPSConnectionPool(host='www2.hm.com', port=443): Max retries exceeded with url: /sv_se/supplierDetails/articles/1068737017 (Caused by ResponseError('too many 400 error responses'))\n"
     ]
    },
    {
     "name": "stderr",
     "output_type": "stream",
     "text": [
      "Fetching Supplier Details:  86%|████████████████████████████████████▏     | 2233/2588 [2:51:47<2:09:33, 21.90s/product]"
     ]
    },
    {
     "name": "stdout",
     "output_type": "stream",
     "text": [
      "Error fetching supplier for SKU 1222151004 after 5 retries: HTTPSConnectionPool(host='www2.hm.com', port=443): Max retries exceeded with url: /sv_se/supplierDetails/articles/1222151004 (Caused by ResponseError('too many 400 error responses'))\n"
     ]
    },
    {
     "name": "stderr",
     "output_type": "stream",
     "text": [
      "Fetching Supplier Details:  86%|████████████████████████████████████▎     | 2234/2588 [2:52:04<2:01:35, 20.61s/product]"
     ]
    },
    {
     "name": "stdout",
     "output_type": "stream",
     "text": [
      "Error fetching supplier for SKU 1114252023 after 5 retries: HTTPSConnectionPool(host='www2.hm.com', port=443): Max retries exceeded with url: /sv_se/supplierDetails/articles/1114252023 (Caused by ResponseError('too many 400 error responses'))\n"
     ]
    },
    {
     "name": "stderr",
     "output_type": "stream",
     "text": [
      "Fetching Supplier Details:  86%|████████████████████████████████████▎     | 2235/2588 [2:52:22<1:55:36, 19.65s/product]"
     ]
    },
    {
     "name": "stdout",
     "output_type": "stream",
     "text": [
      "Error fetching supplier for SKU 1229590011 after 5 retries: HTTPSConnectionPool(host='www2.hm.com', port=443): Max retries exceeded with url: /sv_se/supplierDetails/articles/1229590011 (Caused by ResponseError('too many 400 error responses'))\n"
     ]
    },
    {
     "name": "stderr",
     "output_type": "stream",
     "text": [
      "Fetching Supplier Details:  86%|████████████████████████████████████▎     | 2236/2588 [2:52:39<1:52:11, 19.12s/product]"
     ]
    },
    {
     "name": "stdout",
     "output_type": "stream",
     "text": [
      "Error fetching supplier for SKU 1283004002 after 5 retries: HTTPSConnectionPool(host='www2.hm.com', port=443): Max retries exceeded with url: /sv_se/supplierDetails/articles/1283004002 (Caused by ResponseError('too many 400 error responses'))\n"
     ]
    },
    {
     "name": "stderr",
     "output_type": "stream",
     "text": [
      "Fetching Supplier Details:  86%|████████████████████████████████████▎     | 2237/2588 [2:52:58<1:50:26, 18.88s/product]"
     ]
    },
    {
     "name": "stdout",
     "output_type": "stream",
     "text": [
      "Error fetching supplier for SKU 1161941009 after 5 retries: HTTPSConnectionPool(host='www2.hm.com', port=443): Max retries exceeded with url: /sv_se/supplierDetails/articles/1161941009 (Caused by ResponseError('too many 400 error responses'))\n"
     ]
    },
    {
     "name": "stderr",
     "output_type": "stream",
     "text": [
      "Fetching Supplier Details:  86%|████████████████████████████████████▎     | 2238/2588 [2:53:15<1:47:31, 18.43s/product]"
     ]
    },
    {
     "name": "stdout",
     "output_type": "stream",
     "text": [
      "Error fetching supplier for SKU 1293794001 after 5 retries: HTTPSConnectionPool(host='www2.hm.com', port=443): Max retries exceeded with url: /sv_se/supplierDetails/articles/1293794001 (Caused by ResponseError('too many 400 error responses'))\n"
     ]
    },
    {
     "name": "stderr",
     "output_type": "stream",
     "text": [
      "Fetching Supplier Details:  87%|████████████████████████████████████▎     | 2240/2588 [2:53:33<1:23:09, 14.34s/product]"
     ]
    },
    {
     "name": "stdout",
     "output_type": "stream",
     "text": [
      "Error fetching supplier for SKU 0844469001 after 5 retries: HTTPSConnectionPool(host='www2.hm.com', port=443): Max retries exceeded with url: /sv_se/supplierDetails/articles/0844469001 (Caused by ResponseError('too many 400 error responses'))\n"
     ]
    },
    {
     "name": "stderr",
     "output_type": "stream",
     "text": [
      "Fetching Supplier Details:  87%|████████████████████████████████████▎     | 2241/2588 [2:53:50<1:28:16, 15.26s/product]"
     ]
    },
    {
     "name": "stdout",
     "output_type": "stream",
     "text": [
      "Error fetching supplier for SKU 1000960031 after 5 retries: HTTPSConnectionPool(host='www2.hm.com', port=443): Max retries exceeded with url: /sv_se/supplierDetails/articles/1000960031 (Caused by ResponseError('too many 400 error responses'))\n"
     ]
    },
    {
     "name": "stderr",
     "output_type": "stream",
     "text": [
      "Fetching Supplier Details:  87%|████████████████████████████████████▍     | 2242/2588 [2:54:08<1:31:54, 15.94s/product]"
     ]
    },
    {
     "name": "stdout",
     "output_type": "stream",
     "text": [
      "Error fetching supplier for SKU 1114252032 after 5 retries: HTTPSConnectionPool(host='www2.hm.com', port=443): Max retries exceeded with url: /sv_se/supplierDetails/articles/1114252032 (Caused by ResponseError('too many 400 error responses'))\n"
     ]
    },
    {
     "name": "stderr",
     "output_type": "stream",
     "text": [
      "Fetching Supplier Details:  87%|████████████████████████████████████▍     | 2245/2588 [2:54:26<1:01:56, 10.83s/product]"
     ]
    },
    {
     "name": "stdout",
     "output_type": "stream",
     "text": [
      "Error fetching supplier for SKU 1001870026 after 5 retries: HTTPSConnectionPool(host='www2.hm.com', port=443): Max retries exceeded with url: /sv_se/supplierDetails/articles/1001870026 (Caused by ResponseError('too many 400 error responses'))\n"
     ]
    },
    {
     "name": "stderr",
     "output_type": "stream",
     "text": [
      "Fetching Supplier Details:  87%|████████████████████████████████████▍     | 2246/2588 [2:54:44<1:14:09, 13.01s/product]"
     ]
    },
    {
     "name": "stdout",
     "output_type": "stream",
     "text": [
      "Error fetching supplier for SKU 1187977001 after 5 retries: HTTPSConnectionPool(host='www2.hm.com', port=443): Max retries exceeded with url: /sv_se/supplierDetails/articles/1187977001 (Caused by ResponseError('too many 400 error responses'))\n"
     ]
    },
    {
     "name": "stderr",
     "output_type": "stream",
     "text": [
      "Fetching Supplier Details:  87%|████████████████████████████████████▍     | 2247/2588 [2:55:02<1:21:27, 14.33s/product]"
     ]
    },
    {
     "name": "stdout",
     "output_type": "stream",
     "text": [
      "Error fetching supplier for SKU 1001870019 after 5 retries: HTTPSConnectionPool(host='www2.hm.com', port=443): Max retries exceeded with url: /sv_se/supplierDetails/articles/1001870019 (Caused by ResponseError('too many 400 error responses'))\n"
     ]
    },
    {
     "name": "stderr",
     "output_type": "stream",
     "text": [
      "Fetching Supplier Details:  87%|████████████████████████████████████▍     | 2248/2588 [2:55:19<1:26:35, 15.28s/product]"
     ]
    },
    {
     "name": "stdout",
     "output_type": "stream",
     "text": [
      "Error fetching supplier for SKU 1034463003 after 5 retries: HTTPSConnectionPool(host='www2.hm.com', port=443): Max retries exceeded with url: /sv_se/supplierDetails/articles/1034463003 (Caused by ResponseError('too many 400 error responses'))\n"
     ]
    },
    {
     "name": "stderr",
     "output_type": "stream",
     "text": [
      "Fetching Supplier Details:  87%|████████████████████████████████████▍     | 2249/2588 [2:55:36<1:29:50, 15.90s/product]"
     ]
    },
    {
     "name": "stdout",
     "output_type": "stream",
     "text": [
      "Error fetching supplier for SKU 1278167005 after 5 retries: HTTPSConnectionPool(host='www2.hm.com', port=443): Max retries exceeded with url: /sv_se/supplierDetails/articles/1278167005 (Caused by ResponseError('too many 400 error responses'))\n"
     ]
    },
    {
     "name": "stderr",
     "output_type": "stream",
     "text": [
      "Fetching Supplier Details:  87%|████████████████████████████████████▌     | 2250/2588 [2:55:54<1:31:52, 16.31s/product]"
     ]
    },
    {
     "name": "stdout",
     "output_type": "stream",
     "text": [
      "Error fetching supplier for SKU 0984994002 after 5 retries: HTTPSConnectionPool(host='www2.hm.com', port=443): Max retries exceeded with url: /sv_se/supplierDetails/articles/0984994002 (Caused by ResponseError('too many 400 error responses'))\n"
     ]
    },
    {
     "name": "stderr",
     "output_type": "stream",
     "text": [
      "Fetching Supplier Details:  87%|████████████████████████████████████▌     | 2251/2588 [2:56:11<1:33:19, 16.62s/product]"
     ]
    },
    {
     "name": "stdout",
     "output_type": "stream",
     "text": [
      "Error fetching supplier for SKU 1162941014 after 5 retries: HTTPSConnectionPool(host='www2.hm.com', port=443): Max retries exceeded with url: /sv_se/supplierDetails/articles/1162941014 (Caused by ResponseError('too many 400 error responses'))\n"
     ]
    },
    {
     "name": "stderr",
     "output_type": "stream",
     "text": [
      "Fetching Supplier Details:  87%|████████████████████████████████████▌     | 2252/2588 [2:56:28<1:34:19, 16.85s/product]"
     ]
    },
    {
     "name": "stdout",
     "output_type": "stream",
     "text": [
      "Error fetching supplier for SKU 1294695009 after 5 retries: HTTPSConnectionPool(host='www2.hm.com', port=443): Max retries exceeded with url: /sv_se/supplierDetails/articles/1294695009 (Caused by ResponseError('too many 400 error responses'))\n"
     ]
    },
    {
     "name": "stderr",
     "output_type": "stream",
     "text": [
      "Fetching Supplier Details:  87%|████████████████████████████████████▌     | 2253/2588 [2:56:46<1:35:11, 17.05s/product]"
     ]
    },
    {
     "name": "stdout",
     "output_type": "stream",
     "text": [
      "Error fetching supplier for SKU 1224930001 after 5 retries: HTTPSConnectionPool(host='www2.hm.com', port=443): Max retries exceeded with url: /sv_se/supplierDetails/articles/1224930001 (Caused by ResponseError('too many 400 error responses'))\n"
     ]
    },
    {
     "name": "stderr",
     "output_type": "stream",
     "text": [
      "Fetching Supplier Details:  87%|████████████████████████████████████▌     | 2254/2588 [2:57:03<1:35:38, 17.18s/product]"
     ]
    },
    {
     "name": "stdout",
     "output_type": "stream",
     "text": [
      "Error fetching supplier for SKU 1304963001 after 5 retries: HTTPSConnectionPool(host='www2.hm.com', port=443): Max retries exceeded with url: /sv_se/supplierDetails/articles/1304963001 (Caused by ResponseError('too many 400 error responses'))\n"
     ]
    },
    {
     "name": "stderr",
     "output_type": "stream",
     "text": [
      "Fetching Supplier Details:  87%|████████████████████████████████████▌     | 2255/2588 [2:57:21<1:35:40, 17.24s/product]"
     ]
    },
    {
     "name": "stdout",
     "output_type": "stream",
     "text": [
      "Error fetching supplier for SKU 1034463023 after 5 retries: HTTPSConnectionPool(host='www2.hm.com', port=443): Max retries exceeded with url: /sv_se/supplierDetails/articles/1034463023 (Caused by ResponseError('too many 400 error responses'))\n"
     ]
    },
    {
     "name": "stderr",
     "output_type": "stream",
     "text": [
      "Fetching Supplier Details:  87%|████████████████████████████████████▌     | 2256/2588 [2:57:38<1:35:42, 17.30s/product]"
     ]
    },
    {
     "name": "stdout",
     "output_type": "stream",
     "text": [
      "Error fetching supplier for SKU 1267404003 after 5 retries: HTTPSConnectionPool(host='www2.hm.com', port=443): Max retries exceeded with url: /sv_se/supplierDetails/articles/1267404003 (Caused by ResponseError('too many 400 error responses'))\n"
     ]
    },
    {
     "name": "stderr",
     "output_type": "stream",
     "text": [
      "Fetching Supplier Details:  87%|████████████████████████████████████▋     | 2257/2588 [2:57:56<1:35:30, 17.31s/product]"
     ]
    },
    {
     "name": "stdout",
     "output_type": "stream",
     "text": [
      "Error fetching supplier for SKU 1270578001 after 5 retries: HTTPSConnectionPool(host='www2.hm.com', port=443): Max retries exceeded with url: /sv_se/supplierDetails/articles/1270578001 (Caused by ResponseError('too many 400 error responses'))\n"
     ]
    },
    {
     "name": "stderr",
     "output_type": "stream",
     "text": [
      "Fetching Supplier Details:  87%|████████████████████████████████████▋     | 2258/2588 [2:58:13<1:35:17, 17.32s/product]"
     ]
    },
    {
     "name": "stdout",
     "output_type": "stream",
     "text": [
      "Error fetching supplier for SKU 1269236001 after 5 retries: HTTPSConnectionPool(host='www2.hm.com', port=443): Max retries exceeded with url: /sv_se/supplierDetails/articles/1269236001 (Caused by ResponseError('too many 400 error responses'))\n"
     ]
    },
    {
     "name": "stderr",
     "output_type": "stream",
     "text": [
      "Fetching Supplier Details:  87%|████████████████████████████████████▋     | 2261/2588 [2:58:31<1:01:35, 11.30s/product]"
     ]
    },
    {
     "name": "stdout",
     "output_type": "stream",
     "text": [
      "Error fetching supplier for SKU 0989216040 after 5 retries: HTTPSConnectionPool(host='www2.hm.com', port=443): Max retries exceeded with url: /sv_se/supplierDetails/articles/0989216040 (Caused by ResponseError('too many 400 error responses'))\n"
     ]
    },
    {
     "name": "stderr",
     "output_type": "stream",
     "text": [
      "Fetching Supplier Details:  87%|████████████████████████████████████▋     | 2262/2588 [2:58:48<1:11:16, 13.12s/product]"
     ]
    },
    {
     "name": "stdout",
     "output_type": "stream",
     "text": [
      "Error fetching supplier for SKU 1001870022 after 5 retries: HTTPSConnectionPool(host='www2.hm.com', port=443): Max retries exceeded with url: /sv_se/supplierDetails/articles/1001870022 (Caused by ResponseError('too many 400 error responses'))\n"
     ]
    },
    {
     "name": "stderr",
     "output_type": "stream",
     "text": [
      "Fetching Supplier Details:  87%|████████████████████████████████████▋     | 2263/2588 [2:59:06<1:18:27, 14.49s/product]"
     ]
    },
    {
     "name": "stdout",
     "output_type": "stream",
     "text": [
      "Error fetching supplier for SKU 1260212001 after 5 retries: HTTPSConnectionPool(host='www2.hm.com', port=443): Max retries exceeded with url: /sv_se/supplierDetails/articles/1260212001 (Caused by ResponseError('too many 400 error responses'))\n"
     ]
    },
    {
     "name": "stderr",
     "output_type": "stream",
     "text": [
      "Fetching Supplier Details:  87%|████████████████████████████████████▋     | 2264/2588 [2:59:24<1:23:20, 15.43s/product]"
     ]
    },
    {
     "name": "stdout",
     "output_type": "stream",
     "text": [
      "Error fetching supplier for SKU 1266234002 after 5 retries: HTTPSConnectionPool(host='www2.hm.com', port=443): Max retries exceeded with url: /sv_se/supplierDetails/articles/1266234002 (Caused by ResponseError('too many 400 error responses'))\n"
     ]
    },
    {
     "name": "stderr",
     "output_type": "stream",
     "text": [
      "Fetching Supplier Details:  88%|██████████████████████████████████████▌     | 2269/2588 [2:59:43<42:58,  8.08s/product]"
     ]
    },
    {
     "name": "stdout",
     "output_type": "stream",
     "text": [
      "Error fetching supplier for SKU 1281747001 after 5 retries: HTTPSConnectionPool(host='www2.hm.com', port=443): Max retries exceeded with url: /sv_se/supplierDetails/articles/1281747001 (Caused by ResponseError('too many 400 error responses'))\n"
     ]
    },
    {
     "name": "stderr",
     "output_type": "stream",
     "text": [
      "Fetching Supplier Details:  88%|██████████████████████████████████████▋     | 2276/2588 [3:00:02<29:03,  5.59s/product]"
     ]
    },
    {
     "name": "stdout",
     "output_type": "stream",
     "text": [
      "Error fetching supplier for SKU 1222725003 after 5 retries: HTTPSConnectionPool(host='www2.hm.com', port=443): Max retries exceeded with url: /sv_se/supplierDetails/articles/1222725003 (Caused by ResponseError('too many 400 error responses'))\n"
     ]
    },
    {
     "name": "stderr",
     "output_type": "stream",
     "text": [
      "Fetching Supplier Details:  88%|██████████████████████████████████████▊     | 2283/2588 [3:00:22<30:38,  6.03s/product]"
     ]
    },
    {
     "name": "stdout",
     "output_type": "stream",
     "text": [
      "Error fetching supplier for SKU 1223844033 after 5 retries: HTTPSConnectionPool(host='www2.hm.com', port=443): Max retries exceeded with url: /sv_se/supplierDetails/articles/1223844033 (Caused by ResponseError('too many 400 error responses'))\n"
     ]
    },
    {
     "name": "stderr",
     "output_type": "stream",
     "text": [
      "Fetching Supplier Details:  88%|██████████████████████████████████████▊     | 2284/2588 [3:00:40<47:35,  9.39s/product]"
     ]
    },
    {
     "name": "stdout",
     "output_type": "stream",
     "text": [
      "Error fetching supplier for SKU 1282013003 after 5 retries: HTTPSConnectionPool(host='www2.hm.com', port=443): Max retries exceeded with url: /sv_se/supplierDetails/articles/1282013003 (Caused by ResponseError('too many 400 error responses'))\n"
     ]
    },
    {
     "name": "stderr",
     "output_type": "stream",
     "text": [
      "Fetching Supplier Details:  88%|██████████████████████████████████████▊     | 2285/2588 [3:00:58<59:58, 11.88s/product]"
     ]
    },
    {
     "name": "stdout",
     "output_type": "stream",
     "text": [
      "Error fetching supplier for SKU 1241030001 after 5 retries: HTTPSConnectionPool(host='www2.hm.com', port=443): Max retries exceeded with url: /sv_se/supplierDetails/articles/1241030001 (Caused by ResponseError('too many 400 error responses'))\n"
     ]
    },
    {
     "name": "stderr",
     "output_type": "stream",
     "text": [
      "Fetching Supplier Details:  88%|█████████████████████████████████████     | 2286/2588 [3:01:15<1:08:33, 13.62s/product]"
     ]
    },
    {
     "name": "stdout",
     "output_type": "stream",
     "text": [
      "Error fetching supplier for SKU 1294699002 after 5 retries: HTTPSConnectionPool(host='www2.hm.com', port=443): Max retries exceeded with url: /sv_se/supplierDetails/articles/1294699002 (Caused by ResponseError('too many 400 error responses'))\n"
     ]
    },
    {
     "name": "stderr",
     "output_type": "stream",
     "text": [
      "Fetching Supplier Details:  88%|█████████████████████████████████████     | 2287/2588 [3:01:35<1:17:37, 15.47s/product]"
     ]
    },
    {
     "name": "stdout",
     "output_type": "stream",
     "text": [
      "Error fetching supplier for SKU 1142137010 after 5 retries: HTTPSConnectionPool(host='www2.hm.com', port=443): Max retries exceeded with url: /sv_se/supplierDetails/articles/1142137010 (Caused by ResponseError('too many 400 error responses'))\n"
     ]
    },
    {
     "name": "stderr",
     "output_type": "stream",
     "text": [
      "Fetching Supplier Details:  88%|█████████████████████████████████████▏    | 2288/2588 [3:01:55<1:24:18, 16.86s/product]"
     ]
    },
    {
     "name": "stdout",
     "output_type": "stream",
     "text": [
      "Error fetching supplier for SKU 1204016001 after 5 retries: HTTPSConnectionPool(host='www2.hm.com', port=443): Max retries exceeded with url: /sv_se/supplierDetails/articles/1204016001 (Caused by ResponseError('too many 400 error responses'))\n"
     ]
    },
    {
     "name": "stderr",
     "output_type": "stream",
     "text": [
      "Fetching Supplier Details:  88%|█████████████████████████████████████▏    | 2289/2588 [3:02:13<1:25:35, 17.18s/product]"
     ]
    },
    {
     "name": "stdout",
     "output_type": "stream",
     "text": [
      "Error fetching supplier for SKU 1018404010 after 5 retries: HTTPSConnectionPool(host='www2.hm.com', port=443): Max retries exceeded with url: /sv_se/supplierDetails/articles/1018404010 (Caused by ResponseError('too many 400 error responses'))\n"
     ]
    },
    {
     "name": "stderr",
     "output_type": "stream",
     "text": [
      "Fetching Supplier Details:  88%|█████████████████████████████████████▏    | 2290/2588 [3:02:32<1:28:11, 17.76s/product]"
     ]
    },
    {
     "name": "stdout",
     "output_type": "stream",
     "text": [
      "Error fetching supplier for SKU 1263544003 after 5 retries: HTTPSConnectionPool(host='www2.hm.com', port=443): Max retries exceeded with url: /sv_se/supplierDetails/articles/1263544003 (Caused by ResponseError('too many 400 error responses'))\n"
     ]
    },
    {
     "name": "stderr",
     "output_type": "stream",
     "text": [
      "Fetching Supplier Details:  89%|█████████████████████████████████████▏    | 2291/2588 [3:02:50<1:28:29, 17.88s/product]"
     ]
    },
    {
     "name": "stdout",
     "output_type": "stream",
     "text": [
      "Error fetching supplier for SKU 1231243003 after 5 retries: HTTPSConnectionPool(host='www2.hm.com', port=443): Max retries exceeded with url: /sv_se/supplierDetails/articles/1231243003 (Caused by ResponseError('too many 400 error responses'))\n"
     ]
    },
    {
     "name": "stderr",
     "output_type": "stream",
     "text": [
      "Fetching Supplier Details:  89%|█████████████████████████████████████▏    | 2292/2588 [3:03:08<1:28:07, 17.86s/product]"
     ]
    },
    {
     "name": "stdout",
     "output_type": "stream",
     "text": [
      "Error fetching supplier for SKU 1261122001 after 5 retries: HTTPSConnectionPool(host='www2.hm.com', port=443): Max retries exceeded with url: /sv_se/supplierDetails/articles/1261122001 (Caused by ResponseError('too many 400 error responses'))\n"
     ]
    },
    {
     "name": "stderr",
     "output_type": "stream",
     "text": [
      "Fetching Supplier Details:  89%|█████████████████████████████████████▏    | 2293/2588 [3:03:26<1:27:40, 17.83s/product]"
     ]
    },
    {
     "name": "stdout",
     "output_type": "stream",
     "text": [
      "Error fetching supplier for SKU 1231243008 after 5 retries: HTTPSConnectionPool(host='www2.hm.com', port=443): Max retries exceeded with url: /sv_se/supplierDetails/articles/1231243008 (Caused by ResponseError('too many 400 error responses'))\n"
     ]
    },
    {
     "name": "stderr",
     "output_type": "stream",
     "text": [
      "Fetching Supplier Details:  89%|█████████████████████████████████████▏    | 2294/2588 [3:03:44<1:27:07, 17.78s/product]"
     ]
    },
    {
     "name": "stdout",
     "output_type": "stream",
     "text": [
      "Error fetching supplier for SKU 1241030002 after 5 retries: HTTPSConnectionPool(host='www2.hm.com', port=443): Max retries exceeded with url: /sv_se/supplierDetails/articles/1241030002 (Caused by ResponseError('too many 400 error responses'))\n"
     ]
    },
    {
     "name": "stderr",
     "output_type": "stream",
     "text": [
      "Fetching Supplier Details:  89%|█████████████████████████████████████▎    | 2296/2588 [3:04:02<1:08:23, 14.05s/product]"
     ]
    },
    {
     "name": "stdout",
     "output_type": "stream",
     "text": [
      "Error fetching supplier for SKU 1297672001 after 5 retries: HTTPSConnectionPool(host='www2.hm.com', port=443): Max retries exceeded with url: /sv_se/supplierDetails/articles/1297672001 (Caused by ResponseError('too many 400 error responses'))\n"
     ]
    },
    {
     "name": "stderr",
     "output_type": "stream",
     "text": [
      "Fetching Supplier Details:  89%|█████████████████████████████████████▎    | 2297/2588 [3:04:19<1:13:42, 15.20s/product]"
     ]
    },
    {
     "name": "stdout",
     "output_type": "stream",
     "text": [
      "Error fetching supplier for SKU 1294695001 after 5 retries: HTTPSConnectionPool(host='www2.hm.com', port=443): Max retries exceeded with url: /sv_se/supplierDetails/articles/1294695001 (Caused by ResponseError('too many 400 error responses'))\n"
     ]
    },
    {
     "name": "stderr",
     "output_type": "stream",
     "text": [
      "Fetching Supplier Details:  89%|█████████████████████████████████████▎    | 2298/2588 [3:04:38<1:17:45, 16.09s/product]"
     ]
    },
    {
     "name": "stdout",
     "output_type": "stream",
     "text": [
      "Error fetching supplier for SKU 1283944006 after 5 retries: HTTPSConnectionPool(host='www2.hm.com', port=443): Max retries exceeded with url: /sv_se/supplierDetails/articles/1283944006 (Caused by ResponseError('too many 400 error responses'))\n"
     ]
    },
    {
     "name": "stderr",
     "output_type": "stream",
     "text": [
      "Fetching Supplier Details:  89%|█████████████████████████████████████▎    | 2299/2588 [3:04:56<1:20:50, 16.78s/product]"
     ]
    },
    {
     "name": "stdout",
     "output_type": "stream",
     "text": [
      "Error fetching supplier for SKU 1283944002 after 5 retries: HTTPSConnectionPool(host='www2.hm.com', port=443): Max retries exceeded with url: /sv_se/supplierDetails/articles/1283944002 (Caused by ResponseError('too many 400 error responses'))\n"
     ]
    },
    {
     "name": "stderr",
     "output_type": "stream",
     "text": [
      "Fetching Supplier Details:  89%|█████████████████████████████████████▎    | 2300/2588 [3:05:14<1:22:18, 17.15s/product]"
     ]
    },
    {
     "name": "stdout",
     "output_type": "stream",
     "text": [
      "Error fetching supplier for SKU 1277439002 after 5 retries: HTTPSConnectionPool(host='www2.hm.com', port=443): Max retries exceeded with url: /sv_se/supplierDetails/articles/1277439002 (Caused by ResponseError('too many 400 error responses'))\n"
     ]
    },
    {
     "name": "stderr",
     "output_type": "stream",
     "text": [
      "Fetching Supplier Details:  89%|█████████████████████████████████████▎    | 2301/2588 [3:05:31<1:22:19, 17.21s/product]"
     ]
    },
    {
     "name": "stdout",
     "output_type": "stream",
     "text": [
      "Error fetching supplier for SKU 0639115021 after 5 retries: HTTPSConnectionPool(host='www2.hm.com', port=443): Max retries exceeded with url: /sv_se/supplierDetails/articles/0639115021 (Caused by ResponseError('too many 400 error responses'))\n"
     ]
    },
    {
     "name": "stderr",
     "output_type": "stream",
     "text": [
      "Fetching Supplier Details:  89%|█████████████████████████████████████▎    | 2302/2588 [3:05:49<1:22:51, 17.38s/product]"
     ]
    },
    {
     "name": "stdout",
     "output_type": "stream",
     "text": [
      "Error fetching supplier for SKU 1275297001 after 5 retries: HTTPSConnectionPool(host='www2.hm.com', port=443): Max retries exceeded with url: /sv_se/supplierDetails/articles/1275297001 (Caused by ResponseError('too many 400 error responses'))\n"
     ]
    },
    {
     "name": "stderr",
     "output_type": "stream",
     "text": [
      "Fetching Supplier Details:  89%|█████████████████████████████████████▎    | 2303/2588 [3:06:07<1:22:38, 17.40s/product]"
     ]
    },
    {
     "name": "stdout",
     "output_type": "stream",
     "text": [
      "Error fetching supplier for SKU 1289312002 after 5 retries: HTTPSConnectionPool(host='www2.hm.com', port=443): Max retries exceeded with url: /sv_se/supplierDetails/articles/1289312002 (Caused by ResponseError('too many 400 error responses'))\n"
     ]
    },
    {
     "name": "stderr",
     "output_type": "stream",
     "text": [
      "Fetching Supplier Details:  89%|█████████████████████████████████████▍    | 2304/2588 [3:06:24<1:22:21, 17.40s/product]"
     ]
    },
    {
     "name": "stdout",
     "output_type": "stream",
     "text": [
      "Error fetching supplier for SKU 1151544004 after 5 retries: HTTPSConnectionPool(host='www2.hm.com', port=443): Max retries exceeded with url: /sv_se/supplierDetails/articles/1151544004 (Caused by ResponseError('too many 400 error responses'))\n"
     ]
    },
    {
     "name": "stderr",
     "output_type": "stream",
     "text": [
      "Fetching Supplier Details:  89%|█████████████████████████████████████▍    | 2305/2588 [3:06:42<1:23:11, 17.64s/product]"
     ]
    },
    {
     "name": "stdout",
     "output_type": "stream",
     "text": [
      "Error fetching supplier for SKU 1261122001 after 5 retries: HTTPSConnectionPool(host='www2.hm.com', port=443): Max retries exceeded with url: /sv_se/supplierDetails/articles/1261122001 (Caused by ResponseError('too many 400 error responses'))\n"
     ]
    },
    {
     "name": "stderr",
     "output_type": "stream",
     "text": [
      "Fetching Supplier Details:  89%|█████████████████████████████████████▍    | 2306/2588 [3:07:00<1:22:45, 17.61s/product]"
     ]
    },
    {
     "name": "stdout",
     "output_type": "stream",
     "text": [
      "Error fetching supplier for SKU 0490418070 after 5 retries: HTTPSConnectionPool(host='www2.hm.com', port=443): Max retries exceeded with url: /sv_se/supplierDetails/articles/0490418070 (Caused by ResponseError('too many 400 error responses'))\n"
     ]
    },
    {
     "name": "stderr",
     "output_type": "stream",
     "text": [
      "Fetching Supplier Details:  89%|█████████████████████████████████████▍    | 2307/2588 [3:07:18<1:22:58, 17.72s/product]"
     ]
    },
    {
     "name": "stdout",
     "output_type": "stream",
     "text": [
      "Error fetching supplier for SKU 0764938039 after 5 retries: HTTPSConnectionPool(host='www2.hm.com', port=443): Max retries exceeded with url: /sv_se/supplierDetails/articles/0764938039 (Caused by ResponseError('too many 400 error responses'))\n"
     ]
    },
    {
     "name": "stderr",
     "output_type": "stream",
     "text": [
      "Fetching Supplier Details:  89%|█████████████████████████████████████▍    | 2308/2588 [3:07:37<1:24:11, 18.04s/product]"
     ]
    },
    {
     "name": "stdout",
     "output_type": "stream",
     "text": [
      "Error fetching supplier for SKU 0844469032 after 5 retries: HTTPSConnectionPool(host='www2.hm.com', port=443): Max retries exceeded with url: /sv_se/supplierDetails/articles/0844469032 (Caused by ResponseError('too many 400 error responses'))\n"
     ]
    },
    {
     "name": "stderr",
     "output_type": "stream",
     "text": [
      "Fetching Supplier Details:  89%|█████████████████████████████████████▍    | 2310/2588 [3:07:56<1:05:50, 14.21s/product]"
     ]
    },
    {
     "name": "stdout",
     "output_type": "stream",
     "text": [
      "Error fetching supplier for SKU 1004114009 after 5 retries: HTTPSConnectionPool(host='www2.hm.com', port=443): Max retries exceeded with url: /sv_se/supplierDetails/articles/1004114009 (Caused by ResponseError('too many 400 error responses'))\n"
     ]
    },
    {
     "name": "stderr",
     "output_type": "stream",
     "text": [
      "Fetching Supplier Details:  89%|█████████████████████████████████████▌    | 2311/2588 [3:08:16<1:12:04, 15.61s/product]"
     ]
    },
    {
     "name": "stdout",
     "output_type": "stream",
     "text": [
      "Error fetching supplier for SKU 1213981005 after 5 retries: HTTPSConnectionPool(host='www2.hm.com', port=443): Max retries exceeded with url: /sv_se/supplierDetails/articles/1213981005 (Caused by ResponseError('too many 400 error responses'))\n"
     ]
    },
    {
     "name": "stderr",
     "output_type": "stream",
     "text": [
      "Fetching Supplier Details:  89%|█████████████████████████████████████▌    | 2312/2588 [3:08:34<1:14:33, 16.21s/product]"
     ]
    },
    {
     "name": "stdout",
     "output_type": "stream",
     "text": [
      "Error fetching supplier for SKU 1241030002 after 5 retries: HTTPSConnectionPool(host='www2.hm.com', port=443): Max retries exceeded with url: /sv_se/supplierDetails/articles/1241030002 (Caused by ResponseError('too many 400 error responses'))\n"
     ]
    },
    {
     "name": "stderr",
     "output_type": "stream",
     "text": [
      "Fetching Supplier Details:  89%|█████████████████████████████████████▌    | 2313/2588 [3:08:52<1:16:19, 16.65s/product]"
     ]
    },
    {
     "name": "stdout",
     "output_type": "stream",
     "text": [
      "Error fetching supplier for SKU 1241762001 after 5 retries: HTTPSConnectionPool(host='www2.hm.com', port=443): Max retries exceeded with url: /sv_se/supplierDetails/articles/1241762001 (Caused by ResponseError('too many 400 error responses'))\n"
     ]
    },
    {
     "name": "stderr",
     "output_type": "stream",
     "text": [
      "Fetching Supplier Details:  89%|█████████████████████████████████████▌    | 2314/2588 [3:09:09<1:17:05, 16.88s/product]"
     ]
    },
    {
     "name": "stdout",
     "output_type": "stream",
     "text": [
      "Error fetching supplier for SKU 1245885001 after 5 retries: HTTPSConnectionPool(host='www2.hm.com', port=443): Max retries exceeded with url: /sv_se/supplierDetails/articles/1245885001 (Caused by ResponseError('too many 400 error responses'))\n"
     ]
    },
    {
     "name": "stderr",
     "output_type": "stream",
     "text": [
      "Fetching Supplier Details:  89%|█████████████████████████████████████▌    | 2315/2588 [3:09:26<1:17:25, 17.02s/product]"
     ]
    },
    {
     "name": "stdout",
     "output_type": "stream",
     "text": [
      "Error fetching supplier for SKU 1247297001 after 5 retries: HTTPSConnectionPool(host='www2.hm.com', port=443): Max retries exceeded with url: /sv_se/supplierDetails/articles/1247297001 (Caused by ResponseError('too many 400 error responses'))\n"
     ]
    },
    {
     "name": "stderr",
     "output_type": "stream",
     "text": [
      "Fetching Supplier Details:  89%|█████████████████████████████████████▌    | 2316/2588 [3:09:44<1:17:42, 17.14s/product]"
     ]
    },
    {
     "name": "stdout",
     "output_type": "stream",
     "text": [
      "Error fetching supplier for SKU 1249781002 after 5 retries: HTTPSConnectionPool(host='www2.hm.com', port=443): Max retries exceeded with url: /sv_se/supplierDetails/articles/1249781002 (Caused by ResponseError('too many 400 error responses'))\n"
     ]
    },
    {
     "name": "stderr",
     "output_type": "stream",
     "text": [
      "Fetching Supplier Details:  90%|█████████████████████████████████████▌    | 2317/2588 [3:10:02<1:18:03, 17.28s/product]"
     ]
    },
    {
     "name": "stdout",
     "output_type": "stream",
     "text": [
      "Error fetching supplier for SKU 1263139001 after 5 retries: HTTPSConnectionPool(host='www2.hm.com', port=443): Max retries exceeded with url: /sv_se/supplierDetails/articles/1263139001 (Caused by ResponseError('too many 400 error responses'))\n"
     ]
    },
    {
     "name": "stderr",
     "output_type": "stream",
     "text": [
      "Fetching Supplier Details:  90%|█████████████████████████████████████▌    | 2318/2588 [3:10:20<1:19:19, 17.63s/product]"
     ]
    },
    {
     "name": "stdout",
     "output_type": "stream",
     "text": [
      "Error fetching supplier for SKU 1263870001 after 5 retries: HTTPSConnectionPool(host='www2.hm.com', port=443): Max retries exceeded with url: /sv_se/supplierDetails/articles/1263870001 (Caused by ResponseError('too many 400 error responses'))\n"
     ]
    },
    {
     "name": "stderr",
     "output_type": "stream",
     "text": [
      "Fetching Supplier Details:  90%|███████████████████████████████████████▍    | 2321/2588 [3:10:40<52:27, 11.79s/product]"
     ]
    },
    {
     "name": "stdout",
     "output_type": "stream",
     "text": [
      "Error fetching supplier for SKU 1244163005 after 5 retries: HTTPSConnectionPool(host='www2.hm.com', port=443): Max retries exceeded with url: /sv_se/supplierDetails/articles/1244163005 (Caused by ResponseError('too many 400 error responses'))\n"
     ]
    },
    {
     "name": "stderr",
     "output_type": "stream",
     "text": [
      "Fetching Supplier Details:  90%|█████████████████████████████████████▋    | 2322/2588 [3:10:58<1:00:37, 13.67s/product]"
     ]
    },
    {
     "name": "stdout",
     "output_type": "stream",
     "text": [
      "Error fetching supplier for SKU 1303189004 after 5 retries: HTTPSConnectionPool(host='www2.hm.com', port=443): Max retries exceeded with url: /sv_se/supplierDetails/articles/1303189004 (Caused by ResponseError('too many 400 error responses'))\n"
     ]
    },
    {
     "name": "stderr",
     "output_type": "stream",
     "text": [
      "Fetching Supplier Details:  90%|█████████████████████████████████████▋    | 2323/2588 [3:11:15<1:05:21, 14.80s/product]"
     ]
    },
    {
     "name": "stdout",
     "output_type": "stream",
     "text": [
      "Error fetching supplier for SKU 0989216002 after 5 retries: HTTPSConnectionPool(host='www2.hm.com', port=443): Max retries exceeded with url: /sv_se/supplierDetails/articles/0989216002 (Caused by ResponseError('too many 400 error responses'))\n"
     ]
    },
    {
     "name": "stderr",
     "output_type": "stream",
     "text": [
      "Fetching Supplier Details:  90%|███████████████████████████████████████▌    | 2325/2588 [3:11:33<55:18, 12.62s/product]"
     ]
    },
    {
     "name": "stdout",
     "output_type": "stream",
     "text": [
      "Error fetching supplier for SKU 1027734045 after 5 retries: HTTPSConnectionPool(host='www2.hm.com', port=443): Max retries exceeded with url: /sv_se/supplierDetails/articles/1027734045 (Caused by ResponseError('too many 400 error responses'))\n"
     ]
    },
    {
     "name": "stderr",
     "output_type": "stream",
     "text": [
      "Fetching Supplier Details:  90%|█████████████████████████████████████▋    | 2326/2588 [3:11:51<1:01:17, 14.04s/product]"
     ]
    },
    {
     "name": "stdout",
     "output_type": "stream",
     "text": [
      "Error fetching supplier for SKU 1121112013 after 5 retries: HTTPSConnectionPool(host='www2.hm.com', port=443): Max retries exceeded with url: /sv_se/supplierDetails/articles/1121112013 (Caused by ResponseError('too many 400 error responses'))\n"
     ]
    },
    {
     "name": "stderr",
     "output_type": "stream",
     "text": [
      "Fetching Supplier Details:  90%|█████████████████████████████████████▊    | 2327/2588 [3:12:08<1:05:20, 15.02s/product]"
     ]
    },
    {
     "name": "stdout",
     "output_type": "stream",
     "text": [
      "Error fetching supplier for SKU 1271239001 after 5 retries: HTTPSConnectionPool(host='www2.hm.com', port=443): Max retries exceeded with url: /sv_se/supplierDetails/articles/1271239001 (Caused by ResponseError('too many 400 error responses'))\n"
     ]
    },
    {
     "name": "stderr",
     "output_type": "stream",
     "text": [
      "Fetching Supplier Details:  90%|█████████████████████████████████████▊    | 2328/2588 [3:12:25<1:08:08, 15.73s/product]"
     ]
    },
    {
     "name": "stdout",
     "output_type": "stream",
     "text": [
      "Error fetching supplier for SKU 1294695004 after 5 retries: HTTPSConnectionPool(host='www2.hm.com', port=443): Max retries exceeded with url: /sv_se/supplierDetails/articles/1294695004 (Caused by ResponseError('too many 400 error responses'))\n"
     ]
    },
    {
     "name": "stderr",
     "output_type": "stream",
     "text": [
      "Fetching Supplier Details:  90%|█████████████████████████████████████▊    | 2329/2588 [3:12:43<1:10:00, 16.22s/product]"
     ]
    },
    {
     "name": "stdout",
     "output_type": "stream",
     "text": [
      "Error fetching supplier for SKU 0494713137 after 5 retries: HTTPSConnectionPool(host='www2.hm.com', port=443): Max retries exceeded with url: /sv_se/supplierDetails/articles/0494713137 (Caused by ResponseError('too many 400 error responses'))\n"
     ]
    },
    {
     "name": "stderr",
     "output_type": "stream",
     "text": [
      "Fetching Supplier Details:  90%|███████████████████████████████████████▋    | 2331/2588 [3:13:01<57:05, 13.33s/product]"
     ]
    },
    {
     "name": "stdout",
     "output_type": "stream",
     "text": [
      "Error fetching supplier for SKU 1230984001 after 5 retries: HTTPSConnectionPool(host='www2.hm.com', port=443): Max retries exceeded with url: /sv_se/supplierDetails/articles/1230984001 (Caused by ResponseError('too many 400 error responses'))\n"
     ]
    },
    {
     "name": "stderr",
     "output_type": "stream",
     "text": [
      "Fetching Supplier Details:  90%|█████████████████████████████████████▊    | 2332/2588 [3:13:19<1:02:27, 14.64s/product]"
     ]
    },
    {
     "name": "stdout",
     "output_type": "stream",
     "text": [
      "Error fetching supplier for SKU 1294698003 after 5 retries: HTTPSConnectionPool(host='www2.hm.com', port=443): Max retries exceeded with url: /sv_se/supplierDetails/articles/1294698003 (Caused by ResponseError('too many 400 error responses'))\n"
     ]
    },
    {
     "name": "stderr",
     "output_type": "stream",
     "text": [
      "Fetching Supplier Details:  90%|███████████████████████████████████████▋    | 2334/2588 [3:13:37<53:39, 12.68s/product]"
     ]
    },
    {
     "name": "stdout",
     "output_type": "stream",
     "text": [
      "Error fetching supplier for SKU 1068737015 after 5 retries: HTTPSConnectionPool(host='www2.hm.com', port=443): Max retries exceeded with url: /sv_se/supplierDetails/articles/1068737015 (Caused by ResponseError('too many 400 error responses'))\n"
     ]
    },
    {
     "name": "stderr",
     "output_type": "stream",
     "text": [
      "Fetching Supplier Details:  90%|█████████████████████████████████████▉    | 2335/2588 [3:13:55<1:00:05, 14.25s/product]"
     ]
    },
    {
     "name": "stdout",
     "output_type": "stream",
     "text": [
      "Error fetching supplier for SKU 1214036002 after 5 retries: HTTPSConnectionPool(host='www2.hm.com', port=443): Max retries exceeded with url: /sv_se/supplierDetails/articles/1214036002 (Caused by ResponseError('too many 400 error responses'))\n"
     ]
    },
    {
     "name": "stderr",
     "output_type": "stream",
     "text": [
      "Fetching Supplier Details:  90%|███████████████████████████████████████▋    | 2337/2588 [3:14:13<51:30, 12.31s/product]"
     ]
    },
    {
     "name": "stdout",
     "output_type": "stream",
     "text": [
      "Error fetching supplier for SKU 1273324003 after 5 retries: HTTPSConnectionPool(host='www2.hm.com', port=443): Max retries exceeded with url: /sv_se/supplierDetails/articles/1273324003 (Caused by ResponseError('too many 400 error responses'))\n"
     ]
    },
    {
     "name": "stderr",
     "output_type": "stream",
     "text": [
      "Fetching Supplier Details:  90%|███████████████████████████████████████▋    | 2338/2588 [3:14:30<57:42, 13.85s/product]"
     ]
    },
    {
     "name": "stdout",
     "output_type": "stream",
     "text": [
      "Error fetching supplier for SKU 1267415001 after 5 retries: HTTPSConnectionPool(host='www2.hm.com', port=443): Max retries exceeded with url: /sv_se/supplierDetails/articles/1267415001 (Caused by ResponseError('too many 400 error responses'))\n"
     ]
    },
    {
     "name": "stderr",
     "output_type": "stream",
     "text": [
      "Fetching Supplier Details:  90%|███████████████████████████████████████▊    | 2340/2588 [3:14:48<49:53, 12.07s/product]"
     ]
    },
    {
     "name": "stdout",
     "output_type": "stream",
     "text": [
      "Error fetching supplier for SKU 1267407001 after 5 retries: HTTPSConnectionPool(host='www2.hm.com', port=443): Max retries exceeded with url: /sv_se/supplierDetails/articles/1267407001 (Caused by ResponseError('too many 400 error responses'))\n"
     ]
    },
    {
     "name": "stderr",
     "output_type": "stream",
     "text": [
      "Fetching Supplier Details:  90%|███████████████████████████████████████▊    | 2342/2588 [3:15:07<47:03, 11.48s/product]"
     ]
    },
    {
     "name": "stdout",
     "output_type": "stream",
     "text": [
      "Error fetching supplier for SKU 1005762004 after 5 retries: HTTPSConnectionPool(host='www2.hm.com', port=443): Max retries exceeded with url: /sv_se/supplierDetails/articles/1005762004 (Caused by ResponseError('too many 400 error responses'))\n"
     ]
    },
    {
     "name": "stderr",
     "output_type": "stream",
     "text": [
      "Fetching Supplier Details:  91%|███████████████████████████████████████▊    | 2343/2588 [3:15:24<54:31, 13.35s/product]"
     ]
    },
    {
     "name": "stdout",
     "output_type": "stream",
     "text": [
      "Error fetching supplier for SKU 1027814005 after 5 retries: HTTPSConnectionPool(host='www2.hm.com', port=443): Max retries exceeded with url: /sv_se/supplierDetails/articles/1027814005 (Caused by ResponseError('too many 400 error responses'))\n"
     ]
    },
    {
     "name": "stderr",
     "output_type": "stream",
     "text": [
      "Fetching Supplier Details:  91%|███████████████████████████████████████▊    | 2344/2588 [3:15:42<59:16, 14.57s/product]"
     ]
    },
    {
     "name": "stdout",
     "output_type": "stream",
     "text": [
      "Error fetching supplier for SKU 1196149001 after 5 retries: HTTPSConnectionPool(host='www2.hm.com', port=443): Max retries exceeded with url: /sv_se/supplierDetails/articles/1196149001 (Caused by ResponseError('too many 400 error responses'))\n"
     ]
    },
    {
     "name": "stderr",
     "output_type": "stream",
     "text": [
      "Fetching Supplier Details:  91%|██████████████████████████████████████    | 2345/2588 [3:15:59<1:02:27, 15.42s/product]"
     ]
    },
    {
     "name": "stdout",
     "output_type": "stream",
     "text": [
      "Error fetching supplier for SKU 1215127002 after 5 retries: HTTPSConnectionPool(host='www2.hm.com', port=443): Max retries exceeded with url: /sv_se/supplierDetails/articles/1215127002 (Caused by ResponseError('too many 400 error responses'))\n"
     ]
    },
    {
     "name": "stderr",
     "output_type": "stream",
     "text": [
      "Fetching Supplier Details:  91%|███████████████████████████████████████▉    | 2347/2588 [3:16:17<51:55, 12.93s/product]"
     ]
    },
    {
     "name": "stdout",
     "output_type": "stream",
     "text": [
      "Error fetching supplier for SKU 1267408002 after 5 retries: HTTPSConnectionPool(host='www2.hm.com', port=443): Max retries exceeded with url: /sv_se/supplierDetails/articles/1267408002 (Caused by ResponseError('too many 400 error responses'))\n"
     ]
    },
    {
     "name": "stderr",
     "output_type": "stream",
     "text": [
      "Fetching Supplier Details:  91%|███████████████████████████████████████▉    | 2348/2588 [3:16:35<57:31, 14.38s/product]"
     ]
    },
    {
     "name": "stdout",
     "output_type": "stream",
     "text": [
      "Error fetching supplier for SKU 1272337001 after 5 retries: HTTPSConnectionPool(host='www2.hm.com', port=443): Max retries exceeded with url: /sv_se/supplierDetails/articles/1272337001 (Caused by ResponseError('too many 400 error responses'))\n"
     ]
    },
    {
     "name": "stderr",
     "output_type": "stream",
     "text": [
      "Fetching Supplier Details:  91%|██████████████████████████████████████    | 2349/2588 [3:16:53<1:01:04, 15.33s/product]"
     ]
    },
    {
     "name": "stdout",
     "output_type": "stream",
     "text": [
      "Error fetching supplier for SKU 1280665001 after 5 retries: HTTPSConnectionPool(host='www2.hm.com', port=443): Max retries exceeded with url: /sv_se/supplierDetails/articles/1280665001 (Caused by ResponseError('too many 400 error responses'))\n"
     ]
    },
    {
     "name": "stderr",
     "output_type": "stream",
     "text": [
      "Fetching Supplier Details:  91%|██████████████████████████████████████▏   | 2350/2588 [3:17:10<1:03:13, 15.94s/product]"
     ]
    },
    {
     "name": "stdout",
     "output_type": "stream",
     "text": [
      "Error fetching supplier for SKU 1114252033 after 5 retries: HTTPSConnectionPool(host='www2.hm.com', port=443): Max retries exceeded with url: /sv_se/supplierDetails/articles/1114252033 (Caused by ResponseError('too many 400 error responses'))\n"
     ]
    },
    {
     "name": "stderr",
     "output_type": "stream",
     "text": [
      "Fetching Supplier Details:  91%|███████████████████████████████████████▉    | 2352/2588 [3:17:28<51:34, 13.11s/product]"
     ]
    },
    {
     "name": "stdout",
     "output_type": "stream",
     "text": [
      "Error fetching supplier for SKU 1285456001 after 5 retries: HTTPSConnectionPool(host='www2.hm.com', port=443): Max retries exceeded with url: /sv_se/supplierDetails/articles/1285456001 (Caused by ResponseError('too many 400 error responses'))\n"
     ]
    },
    {
     "name": "stderr",
     "output_type": "stream",
     "text": [
      "Fetching Supplier Details:  91%|████████████████████████████████████████    | 2353/2588 [3:17:45<56:19, 14.38s/product]"
     ]
    },
    {
     "name": "stdout",
     "output_type": "stream",
     "text": [
      "Error fetching supplier for SKU 0948274026 after 5 retries: HTTPSConnectionPool(host='www2.hm.com', port=443): Max retries exceeded with url: /sv_se/supplierDetails/articles/0948274026 (Caused by ResponseError('too many 400 error responses'))\n"
     ]
    },
    {
     "name": "stderr",
     "output_type": "stream",
     "text": [
      "Fetching Supplier Details:  91%|████████████████████████████████████████    | 2354/2588 [3:18:03<59:38, 15.29s/product]"
     ]
    },
    {
     "name": "stdout",
     "output_type": "stream",
     "text": [
      "Error fetching supplier for SKU 0857697036 after 5 retries: HTTPSConnectionPool(host='www2.hm.com', port=443): Max retries exceeded with url: /sv_se/supplierDetails/articles/0857697036 (Caused by ResponseError('too many 400 error responses'))\n"
     ]
    },
    {
     "name": "stderr",
     "output_type": "stream",
     "text": [
      "Fetching Supplier Details:  91%|██████████████████████████████████████▏   | 2355/2588 [3:18:20<1:01:44, 15.90s/product]"
     ]
    },
    {
     "name": "stdout",
     "output_type": "stream",
     "text": [
      "Error fetching supplier for SKU 1269236002 after 5 retries: HTTPSConnectionPool(host='www2.hm.com', port=443): Max retries exceeded with url: /sv_se/supplierDetails/articles/1269236002 (Caused by ResponseError('too many 400 error responses'))\n"
     ]
    },
    {
     "name": "stderr",
     "output_type": "stream",
     "text": [
      "Fetching Supplier Details:  91%|██████████████████████████████████████▏   | 2356/2588 [3:18:37<1:03:06, 16.32s/product]"
     ]
    },
    {
     "name": "stdout",
     "output_type": "stream",
     "text": [
      "Error fetching supplier for SKU 1291414007 after 5 retries: HTTPSConnectionPool(host='www2.hm.com', port=443): Max retries exceeded with url: /sv_se/supplierDetails/articles/1291414007 (Caused by ResponseError('too many 400 error responses'))\n"
     ]
    },
    {
     "name": "stderr",
     "output_type": "stream",
     "text": [
      "Fetching Supplier Details:  91%|████████████████████████████████████████    | 2358/2588 [3:18:55<51:03, 13.32s/product]"
     ]
    },
    {
     "name": "stdout",
     "output_type": "stream",
     "text": [
      "Error fetching supplier for SKU 1285454001 after 5 retries: HTTPSConnectionPool(host='www2.hm.com', port=443): Max retries exceeded with url: /sv_se/supplierDetails/articles/1285454001 (Caused by ResponseError('too many 400 error responses'))\n"
     ]
    },
    {
     "name": "stderr",
     "output_type": "stream",
     "text": [
      "Fetching Supplier Details:  91%|████████████████████████████████████████    | 2359/2588 [3:19:12<55:29, 14.54s/product]"
     ]
    },
    {
     "name": "stdout",
     "output_type": "stream",
     "text": [
      "Error fetching supplier for SKU 1299168001 after 5 retries: HTTPSConnectionPool(host='www2.hm.com', port=443): Max retries exceeded with url: /sv_se/supplierDetails/articles/1299168001 (Caused by ResponseError('too many 400 error responses'))\n"
     ]
    },
    {
     "name": "stderr",
     "output_type": "stream",
     "text": [
      "Fetching Supplier Details:  91%|████████████████████████████████████████    | 2360/2588 [3:19:30<58:26, 15.38s/product]"
     ]
    },
    {
     "name": "stdout",
     "output_type": "stream",
     "text": [
      "Error fetching supplier for SKU 1294697004 after 5 retries: HTTPSConnectionPool(host='www2.hm.com', port=443): Max retries exceeded with url: /sv_se/supplierDetails/articles/1294697004 (Caused by ResponseError('too many 400 error responses'))\n"
     ]
    },
    {
     "name": "stderr",
     "output_type": "stream",
     "text": [
      "Fetching Supplier Details:  91%|██████████████████████████████████████▎   | 2361/2588 [3:19:47<1:00:47, 16.07s/product]"
     ]
    },
    {
     "name": "stdout",
     "output_type": "stream",
     "text": [
      "Error fetching supplier for SKU 1298721003 after 5 retries: HTTPSConnectionPool(host='www2.hm.com', port=443): Max retries exceeded with url: /sv_se/supplierDetails/articles/1298721003 (Caused by ResponseError('too many 400 error responses'))\n"
     ]
    },
    {
     "name": "stderr",
     "output_type": "stream",
     "text": [
      "Fetching Supplier Details:  91%|██████████████████████████████████████▎   | 2362/2588 [3:20:05<1:02:10, 16.51s/product]"
     ]
    },
    {
     "name": "stdout",
     "output_type": "stream",
     "text": [
      "Error fetching supplier for SKU 1275501001 after 5 retries: HTTPSConnectionPool(host='www2.hm.com', port=443): Max retries exceeded with url: /sv_se/supplierDetails/articles/1275501001 (Caused by ResponseError('too many 400 error responses'))\n"
     ]
    },
    {
     "name": "stderr",
     "output_type": "stream",
     "text": [
      "Fetching Supplier Details:  91%|████████████████████████████████████████▏   | 2364/2588 [3:20:23<50:42, 13.58s/product]"
     ]
    },
    {
     "name": "stdout",
     "output_type": "stream",
     "text": [
      "Error fetching supplier for SKU 1230855005 after 5 retries: HTTPSConnectionPool(host='www2.hm.com', port=443): Max retries exceeded with url: /sv_se/supplierDetails/articles/1230855005 (Caused by ResponseError('too many 400 error responses'))\n"
     ]
    },
    {
     "name": "stderr",
     "output_type": "stream",
     "text": [
      "Fetching Supplier Details:  91%|████████████████████████████████████████▏   | 2365/2588 [3:20:41<54:44, 14.73s/product]"
     ]
    },
    {
     "name": "stdout",
     "output_type": "stream",
     "text": [
      "Error fetching supplier for SKU 1277926003 after 5 retries: HTTPSConnectionPool(host='www2.hm.com', port=443): Max retries exceeded with url: /sv_se/supplierDetails/articles/1277926003 (Caused by ResponseError('too many 400 error responses'))\n"
     ]
    },
    {
     "name": "stderr",
     "output_type": "stream",
     "text": [
      "Fetching Supplier Details:  91%|████████████████████████████████████████▏   | 2367/2588 [3:20:59<46:14, 12.56s/product]"
     ]
    },
    {
     "name": "stdout",
     "output_type": "stream",
     "text": [
      "Error fetching supplier for SKU 1291417001 after 5 retries: HTTPSConnectionPool(host='www2.hm.com', port=443): Max retries exceeded with url: /sv_se/supplierDetails/articles/1291417001 (Caused by ResponseError('too many 400 error responses'))\n"
     ]
    },
    {
     "name": "stderr",
     "output_type": "stream",
     "text": [
      "Fetching Supplier Details:  91%|████████████████████████████████████████▎   | 2368/2588 [3:21:16<51:33, 14.06s/product]"
     ]
    },
    {
     "name": "stdout",
     "output_type": "stream",
     "text": [
      "Error fetching supplier for SKU 0857697037 after 5 retries: HTTPSConnectionPool(host='www2.hm.com', port=443): Max retries exceeded with url: /sv_se/supplierDetails/articles/0857697037 (Caused by ResponseError('too many 400 error responses'))\n"
     ]
    },
    {
     "name": "stderr",
     "output_type": "stream",
     "text": [
      "Fetching Supplier Details:  92%|████████████████████████████████████████▎   | 2369/2588 [3:21:34<54:57, 15.06s/product]"
     ]
    },
    {
     "name": "stdout",
     "output_type": "stream",
     "text": [
      "Error fetching supplier for SKU 1283235002 after 5 retries: HTTPSConnectionPool(host='www2.hm.com', port=443): Max retries exceeded with url: /sv_se/supplierDetails/articles/1283235002 (Caused by ResponseError('too many 400 error responses'))\n"
     ]
    },
    {
     "name": "stderr",
     "output_type": "stream",
     "text": [
      "Fetching Supplier Details:  92%|████████████████████████████████████████▎   | 2370/2588 [3:21:51<57:36, 15.85s/product]"
     ]
    },
    {
     "name": "stdout",
     "output_type": "stream",
     "text": [
      "Error fetching supplier for SKU 1240219001 after 5 retries: HTTPSConnectionPool(host='www2.hm.com', port=443): Max retries exceeded with url: /sv_se/supplierDetails/articles/1240219001 (Caused by ResponseError('too many 400 error responses'))\n"
     ]
    },
    {
     "name": "stderr",
     "output_type": "stream",
     "text": [
      "Fetching Supplier Details:  92%|████████████████████████████████████████▎   | 2371/2588 [3:22:09<59:10, 16.36s/product]"
     ]
    },
    {
     "name": "stdout",
     "output_type": "stream",
     "text": [
      "Error fetching supplier for SKU 1291414002 after 5 retries: HTTPSConnectionPool(host='www2.hm.com', port=443): Max retries exceeded with url: /sv_se/supplierDetails/articles/1291414002 (Caused by ResponseError('too many 400 error responses'))\n"
     ]
    },
    {
     "name": "stderr",
     "output_type": "stream",
     "text": [
      "Fetching Supplier Details:  92%|██████████████████████████████████████▍   | 2372/2588 [3:22:26<1:00:08, 16.71s/product]"
     ]
    },
    {
     "name": "stdout",
     "output_type": "stream",
     "text": [
      "Error fetching supplier for SKU 1275439001 after 5 retries: HTTPSConnectionPool(host='www2.hm.com', port=443): Max retries exceeded with url: /sv_se/supplierDetails/articles/1275439001 (Caused by ResponseError('too many 400 error responses'))\n"
     ]
    },
    {
     "name": "stderr",
     "output_type": "stream",
     "text": [
      "Fetching Supplier Details:  92%|██████████████████████████████████████▌   | 2373/2588 [3:22:44<1:00:30, 16.89s/product]"
     ]
    },
    {
     "name": "stdout",
     "output_type": "stream",
     "text": [
      "Error fetching supplier for SKU 1228701014 after 5 retries: HTTPSConnectionPool(host='www2.hm.com', port=443): Max retries exceeded with url: /sv_se/supplierDetails/articles/1228701014 (Caused by ResponseError('too many 400 error responses'))\n"
     ]
    },
    {
     "name": "stderr",
     "output_type": "stream",
     "text": [
      "Fetching Supplier Details:  92%|██████████████████████████████████████▌   | 2374/2588 [3:23:01<1:00:43, 17.02s/product]"
     ]
    },
    {
     "name": "stdout",
     "output_type": "stream",
     "text": [
      "Error fetching supplier for SKU 0756511028 after 5 retries: HTTPSConnectionPool(host='www2.hm.com', port=443): Max retries exceeded with url: /sv_se/supplierDetails/articles/0756511028 (Caused by ResponseError('too many 400 error responses'))\n"
     ]
    },
    {
     "name": "stderr",
     "output_type": "stream",
     "text": [
      "Fetching Supplier Details:  92%|██████████████████████████████████████▌   | 2375/2588 [3:23:18<1:00:48, 17.13s/product]"
     ]
    },
    {
     "name": "stdout",
     "output_type": "stream",
     "text": [
      "Error fetching supplier for SKU 1289312001 after 5 retries: HTTPSConnectionPool(host='www2.hm.com', port=443): Max retries exceeded with url: /sv_se/supplierDetails/articles/1289312001 (Caused by ResponseError('too many 400 error responses'))\n"
     ]
    },
    {
     "name": "stderr",
     "output_type": "stream",
     "text": [
      "Fetching Supplier Details:  92%|██████████████████████████████████████▌   | 2376/2588 [3:23:55<1:21:10, 22.97s/product]"
     ]
    },
    {
     "name": "stdout",
     "output_type": "stream",
     "text": [
      "Error fetching supplier for SKU 1273309001 after 5 retries: HTTPSConnectionPool(host='www2.hm.com', port=443): Max retries exceeded with url: /sv_se/supplierDetails/articles/1273309001 (Caused by ResponseError('too many 400 error responses'))\n"
     ]
    },
    {
     "name": "stderr",
     "output_type": "stream",
     "text": [
      "Fetching Supplier Details:  92%|██████████████████████████████████████▌   | 2377/2588 [3:24:17<1:19:16, 22.54s/product]"
     ]
    },
    {
     "name": "stdout",
     "output_type": "stream",
     "text": [
      "Error fetching supplier for SKU 1283004001 after 5 retries: HTTPSConnectionPool(host='www2.hm.com', port=443): Max retries exceeded with url: /sv_se/supplierDetails/articles/1283004001 (Caused by ResponseError('too many 400 error responses'))\n"
     ]
    },
    {
     "name": "stderr",
     "output_type": "stream",
     "text": [
      "Fetching Supplier Details:  92%|██████████████████████████████████████▌   | 2378/2588 [3:24:34<1:13:40, 21.05s/product]"
     ]
    },
    {
     "name": "stdout",
     "output_type": "stream",
     "text": [
      "Error fetching supplier for SKU 0527611097 after 5 retries: HTTPSConnectionPool(host='www2.hm.com', port=443): Max retries exceeded with url: /sv_se/supplierDetails/articles/0527611097 (Caused by ResponseError('too many 400 error responses'))\n"
     ]
    },
    {
     "name": "stderr",
     "output_type": "stream",
     "text": [
      "Fetching Supplier Details:  92%|██████████████████████████████████████▌   | 2379/2588 [3:24:52<1:09:29, 19.95s/product]"
     ]
    },
    {
     "name": "stdout",
     "output_type": "stream",
     "text": [
      "Error fetching supplier for SKU 1288665001 after 5 retries: HTTPSConnectionPool(host='www2.hm.com', port=443): Max retries exceeded with url: /sv_se/supplierDetails/articles/1288665001 (Caused by ResponseError('too many 400 error responses'))\n"
     ]
    },
    {
     "name": "stderr",
     "output_type": "stream",
     "text": [
      "Fetching Supplier Details:  92%|██████████████████████████████████████▌   | 2380/2588 [3:25:09<1:06:36, 19.21s/product]"
     ]
    },
    {
     "name": "stdout",
     "output_type": "stream",
     "text": [
      "Error fetching supplier for SKU 1222151005 after 5 retries: HTTPSConnectionPool(host='www2.hm.com', port=443): Max retries exceeded with url: /sv_se/supplierDetails/articles/1222151005 (Caused by ResponseError('too many 400 error responses'))\n"
     ]
    },
    {
     "name": "stderr",
     "output_type": "stream",
     "text": [
      "Fetching Supplier Details:  92%|██████████████████████████████████████▋   | 2381/2588 [3:25:28<1:06:01, 19.14s/product]"
     ]
    },
    {
     "name": "stdout",
     "output_type": "stream",
     "text": [
      "Error fetching supplier for SKU 1263414002 after 5 retries: HTTPSConnectionPool(host='www2.hm.com', port=443): Max retries exceeded with url: /sv_se/supplierDetails/articles/1263414002 (Caused by ResponseError('too many 400 error responses'))\n"
     ]
    },
    {
     "name": "stderr",
     "output_type": "stream",
     "text": [
      "Fetching Supplier Details:  92%|██████████████████████████████████████▋   | 2382/2588 [3:25:47<1:05:48, 19.17s/product]"
     ]
    },
    {
     "name": "stdout",
     "output_type": "stream",
     "text": [
      "Error fetching supplier for SKU 1264299001 after 5 retries: HTTPSConnectionPool(host='www2.hm.com', port=443): Max retries exceeded with url: /sv_se/supplierDetails/articles/1264299001 (Caused by ResponseError('too many 400 error responses'))\n"
     ]
    },
    {
     "name": "stderr",
     "output_type": "stream",
     "text": [
      "Fetching Supplier Details:  92%|██████████████████████████████████████▋   | 2383/2588 [3:26:09<1:07:49, 19.85s/product]"
     ]
    },
    {
     "name": "stdout",
     "output_type": "stream",
     "text": [
      "Error fetching supplier for SKU 1272059001 after 5 retries: HTTPSConnectionPool(host='www2.hm.com', port=443): Max retries exceeded with url: /sv_se/supplierDetails/articles/1272059001 (Caused by ResponseError('too many 400 error responses'))\n"
     ]
    },
    {
     "name": "stderr",
     "output_type": "stream",
     "text": [
      "Fetching Supplier Details:  92%|██████████████████████████████████████▋   | 2384/2588 [3:26:28<1:07:20, 19.81s/product]"
     ]
    },
    {
     "name": "stdout",
     "output_type": "stream",
     "text": [
      "Error fetching supplier for SKU 1261122002 after 5 retries: HTTPSConnectionPool(host='www2.hm.com', port=443): Max retries exceeded with url: /sv_se/supplierDetails/articles/1261122002 (Caused by ResponseError('too many 400 error responses'))\n"
     ]
    },
    {
     "name": "stderr",
     "output_type": "stream",
     "text": [
      "Fetching Supplier Details:  92%|██████████████████████████████████████▋   | 2385/2588 [3:26:47<1:05:59, 19.51s/product]"
     ]
    },
    {
     "name": "stdout",
     "output_type": "stream",
     "text": [
      "Error fetching supplier for SKU 1263694001 after 5 retries: HTTPSConnectionPool(host='www2.hm.com', port=443): Max retries exceeded with url: /sv_se/supplierDetails/articles/1263694001 (Caused by ResponseError('too many 400 error responses'))\n"
     ]
    },
    {
     "name": "stderr",
     "output_type": "stream",
     "text": [
      "Fetching Supplier Details:  92%|██████████████████████████████████████▋   | 2386/2588 [3:27:08<1:07:06, 19.93s/product]"
     ]
    },
    {
     "name": "stdout",
     "output_type": "stream",
     "text": [
      "Error fetching supplier for SKU 1263544002 after 5 retries: HTTPSConnectionPool(host='www2.hm.com', port=443): Max retries exceeded with url: /sv_se/supplierDetails/articles/1263544002 (Caused by ResponseError('too many 400 error responses'))\n"
     ]
    },
    {
     "name": "stderr",
     "output_type": "stream",
     "text": [
      "Fetching Supplier Details:  92%|██████████████████████████████████████▋   | 2387/2588 [3:27:48<1:26:47, 25.91s/product]"
     ]
    },
    {
     "name": "stdout",
     "output_type": "stream",
     "text": [
      "Error fetching supplier for SKU 1244349002 after 5 retries: HTTPSConnectionPool(host='www2.hm.com', port=443): Max retries exceeded with url: /sv_se/supplierDetails/articles/1244349002 (Caused by ResponseError('too many 400 error responses'))\n"
     ]
    },
    {
     "name": "stderr",
     "output_type": "stream",
     "text": [
      "Fetching Supplier Details:  92%|██████████████████████████████████████▊   | 2388/2588 [3:28:11<1:23:10, 24.95s/product]"
     ]
    },
    {
     "name": "stdout",
     "output_type": "stream",
     "text": [
      "Error fetching supplier for SKU 1271137002 after 5 retries: HTTPSConnectionPool(host='www2.hm.com', port=443): Max retries exceeded with url: /sv_se/supplierDetails/articles/1271137002 (Caused by ResponseError('too many 400 error responses'))\n"
     ]
    },
    {
     "name": "stderr",
     "output_type": "stream",
     "text": [
      "Fetching Supplier Details:  92%|██████████████████████████████████████▊   | 2389/2588 [3:28:30<1:17:24, 23.34s/product]"
     ]
    },
    {
     "name": "stdout",
     "output_type": "stream",
     "text": [
      "Error fetching supplier for SKU 0989408001 after 5 retries: HTTPSConnectionPool(host='www2.hm.com', port=443): Max retries exceeded with url: /sv_se/supplierDetails/articles/0989408001 (Caused by ResponseError('too many 400 error responses'))\n"
     ]
    },
    {
     "name": "stderr",
     "output_type": "stream",
     "text": [
      "Fetching Supplier Details:  92%|██████████████████████████████████████▊   | 2390/2588 [3:28:50<1:13:53, 22.39s/product]"
     ]
    },
    {
     "name": "stdout",
     "output_type": "stream",
     "text": [
      "Error fetching supplier for SKU 1001875010 after 5 retries: HTTPSConnectionPool(host='www2.hm.com', port=443): Max retries exceeded with url: /sv_se/supplierDetails/articles/1001875010 (Caused by ResponseError('too many 400 error responses'))\n"
     ]
    },
    {
     "name": "stderr",
     "output_type": "stream",
     "text": [
      "Fetching Supplier Details:  92%|██████████████████████████████████████▊   | 2391/2588 [3:29:10<1:10:26, 21.46s/product]"
     ]
    },
    {
     "name": "stdout",
     "output_type": "stream",
     "text": [
      "Error fetching supplier for SKU 1119186005 after 5 retries: HTTPSConnectionPool(host='www2.hm.com', port=443): Max retries exceeded with url: /sv_se/supplierDetails/articles/1119186005 (Caused by ResponseError('too many 400 error responses'))\n"
     ]
    },
    {
     "name": "stderr",
     "output_type": "stream",
     "text": [
      "Fetching Supplier Details:  92%|████████████████████████████████████████▋   | 2393/2588 [3:29:28<51:30, 15.85s/product]"
     ]
    },
    {
     "name": "stdout",
     "output_type": "stream",
     "text": [
      "Error fetching supplier for SKU 1204016002 after 5 retries: HTTPSConnectionPool(host='www2.hm.com', port=443): Max retries exceeded with url: /sv_se/supplierDetails/articles/1204016002 (Caused by ResponseError('too many 400 error responses'))\n"
     ]
    },
    {
     "name": "stderr",
     "output_type": "stream",
     "text": [
      "Fetching Supplier Details:  93%|████████████████████████████████████████▋   | 2394/2588 [3:29:45<53:04, 16.41s/product]"
     ]
    },
    {
     "name": "stdout",
     "output_type": "stream",
     "text": [
      "Error fetching supplier for SKU 1213981001 after 5 retries: HTTPSConnectionPool(host='www2.hm.com', port=443): Max retries exceeded with url: /sv_se/supplierDetails/articles/1213981001 (Caused by ResponseError('too many 400 error responses'))\n"
     ]
    },
    {
     "name": "stderr",
     "output_type": "stream",
     "text": [
      "Fetching Supplier Details:  93%|████████████████████████████████████████▋   | 2396/2588 [3:30:04<43:14, 13.51s/product]"
     ]
    },
    {
     "name": "stdout",
     "output_type": "stream",
     "text": [
      "Error fetching supplier for SKU 1229071001 after 5 retries: HTTPSConnectionPool(host='www2.hm.com', port=443): Max retries exceeded with url: /sv_se/supplierDetails/articles/1229071001 (Caused by ResponseError('too many 400 error responses'))\n"
     ]
    },
    {
     "name": "stderr",
     "output_type": "stream",
     "text": [
      "Fetching Supplier Details:  93%|████████████████████████████████████████▊   | 2397/2588 [3:30:22<47:08, 14.81s/product]"
     ]
    },
    {
     "name": "stdout",
     "output_type": "stream",
     "text": [
      "Error fetching supplier for SKU 1250004002 after 5 retries: HTTPSConnectionPool(host='www2.hm.com', port=443): Max retries exceeded with url: /sv_se/supplierDetails/articles/1250004002 (Caused by ResponseError('too many 400 error responses'))\n"
     ]
    },
    {
     "name": "stderr",
     "output_type": "stream",
     "text": [
      "Fetching Supplier Details:  93%|████████████████████████████████████████▊   | 2398/2588 [3:30:39<49:30, 15.63s/product]"
     ]
    },
    {
     "name": "stdout",
     "output_type": "stream",
     "text": [
      "Error fetching supplier for SKU 1259063001 after 5 retries: HTTPSConnectionPool(host='www2.hm.com', port=443): Max retries exceeded with url: /sv_se/supplierDetails/articles/1259063001 (Caused by ResponseError('too many 400 error responses'))\n"
     ]
    },
    {
     "name": "stderr",
     "output_type": "stream",
     "text": [
      "Fetching Supplier Details:  93%|████████████████████████████████████████▊   | 2399/2588 [3:30:57<50:59, 16.19s/product]"
     ]
    },
    {
     "name": "stdout",
     "output_type": "stream",
     "text": [
      "Error fetching supplier for SKU 1230997001 after 5 retries: HTTPSConnectionPool(host='www2.hm.com', port=443): Max retries exceeded with url: /sv_se/supplierDetails/articles/1230997001 (Caused by ResponseError('too many 400 error responses'))\n"
     ]
    },
    {
     "name": "stderr",
     "output_type": "stream",
     "text": [
      "Fetching Supplier Details:  93%|████████████████████████████████████████▊   | 2400/2588 [3:31:14<52:06, 16.63s/product]"
     ]
    },
    {
     "name": "stdout",
     "output_type": "stream",
     "text": [
      "Error fetching supplier for SKU 1199026001 after 5 retries: HTTPSConnectionPool(host='www2.hm.com', port=443): Max retries exceeded with url: /sv_se/supplierDetails/articles/1199026001 (Caused by ResponseError('too many 400 error responses'))\n"
     ]
    },
    {
     "name": "stderr",
     "output_type": "stream",
     "text": [
      "Fetching Supplier Details:  93%|████████████████████████████████████████▊   | 2401/2588 [3:31:32<52:34, 16.87s/product]"
     ]
    },
    {
     "name": "stdout",
     "output_type": "stream",
     "text": [
      "Error fetching supplier for SKU 1033252009 after 5 retries: HTTPSConnectionPool(host='www2.hm.com', port=443): Max retries exceeded with url: /sv_se/supplierDetails/articles/1033252009 (Caused by ResponseError('too many 400 error responses'))\n"
     ]
    },
    {
     "name": "stderr",
     "output_type": "stream",
     "text": [
      "Fetching Supplier Details:  93%|████████████████████████████████████████▊   | 2402/2588 [3:31:49<52:48, 17.03s/product]"
     ]
    },
    {
     "name": "stdout",
     "output_type": "stream",
     "text": [
      "Error fetching supplier for SKU 1265737003 after 5 retries: HTTPSConnectionPool(host='www2.hm.com', port=443): Max retries exceeded with url: /sv_se/supplierDetails/articles/1265737003 (Caused by ResponseError('too many 400 error responses'))\n"
     ]
    },
    {
     "name": "stderr",
     "output_type": "stream",
     "text": [
      "Fetching Supplier Details:  93%|████████████████████████████████████████▊   | 2404/2588 [3:32:07<41:56, 13.68s/product]"
     ]
    },
    {
     "name": "stdout",
     "output_type": "stream",
     "text": [
      "Error fetching supplier for SKU 1034463027 after 5 retries: HTTPSConnectionPool(host='www2.hm.com', port=443): Max retries exceeded with url: /sv_se/supplierDetails/articles/1034463027 (Caused by ResponseError('too many 400 error responses'))\n"
     ]
    },
    {
     "name": "stderr",
     "output_type": "stream",
     "text": [
      "Fetching Supplier Details:  93%|████████████████████████████████████████▉   | 2405/2588 [3:32:25<45:15, 14.84s/product]"
     ]
    },
    {
     "name": "stdout",
     "output_type": "stream",
     "text": [
      "Error fetching supplier for SKU 0990934025 after 5 retries: HTTPSConnectionPool(host='www2.hm.com', port=443): Max retries exceeded with url: /sv_se/supplierDetails/articles/0990934025 (Caused by ResponseError('too many 400 error responses'))\n"
     ]
    },
    {
     "name": "stderr",
     "output_type": "stream",
     "text": [
      "Fetching Supplier Details:  93%|████████████████████████████████████████▉   | 2406/2588 [3:32:42<47:20, 15.61s/product]"
     ]
    },
    {
     "name": "stdout",
     "output_type": "stream",
     "text": [
      "Error fetching supplier for SKU 1271123003 after 5 retries: HTTPSConnectionPool(host='www2.hm.com', port=443): Max retries exceeded with url: /sv_se/supplierDetails/articles/1271123003 (Caused by ResponseError('too many 400 error responses'))\n"
     ]
    },
    {
     "name": "stderr",
     "output_type": "stream",
     "text": [
      "Fetching Supplier Details:  93%|████████████████████████████████████████▉   | 2407/2588 [3:33:00<49:17, 16.34s/product]"
     ]
    },
    {
     "name": "stdout",
     "output_type": "stream",
     "text": [
      "Error fetching supplier for SKU 1290292002 after 5 retries: HTTPSConnectionPool(host='www2.hm.com', port=443): Max retries exceeded with url: /sv_se/supplierDetails/articles/1290292002 (Caused by ResponseError('too many 400 error responses'))\n"
     ]
    },
    {
     "name": "stderr",
     "output_type": "stream",
     "text": [
      "Fetching Supplier Details:  93%|████████████████████████████████████████▉   | 2408/2588 [3:33:18<50:13, 16.74s/product]"
     ]
    },
    {
     "name": "stdout",
     "output_type": "stream",
     "text": [
      "Error fetching supplier for SKU 1284399001 after 5 retries: HTTPSConnectionPool(host='www2.hm.com', port=443): Max retries exceeded with url: /sv_se/supplierDetails/articles/1284399001 (Caused by ResponseError('too many 400 error responses'))\n"
     ]
    },
    {
     "name": "stderr",
     "output_type": "stream",
     "text": [
      "Fetching Supplier Details:  93%|████████████████████████████████████████▉   | 2409/2588 [3:33:36<50:57, 17.08s/product]"
     ]
    },
    {
     "name": "stdout",
     "output_type": "stream",
     "text": [
      "Error fetching supplier for SKU 1301720001 after 5 retries: HTTPSConnectionPool(host='www2.hm.com', port=443): Max retries exceeded with url: /sv_se/supplierDetails/articles/1301720001 (Caused by ResponseError('too many 400 error responses'))\n"
     ]
    },
    {
     "name": "stderr",
     "output_type": "stream",
     "text": [
      "Fetching Supplier Details:  93%|████████████████████████████████████████▉   | 2410/2588 [3:33:53<51:00, 17.20s/product]"
     ]
    },
    {
     "name": "stdout",
     "output_type": "stream",
     "text": [
      "Error fetching supplier for SKU 1267413001 after 5 retries: HTTPSConnectionPool(host='www2.hm.com', port=443): Max retries exceeded with url: /sv_se/supplierDetails/articles/1267413001 (Caused by ResponseError('too many 400 error responses'))\n"
     ]
    },
    {
     "name": "stderr",
     "output_type": "stream",
     "text": [
      "Fetching Supplier Details:  93%|████████████████████████████████████████▉   | 2411/2588 [3:34:11<50:59, 17.29s/product]"
     ]
    },
    {
     "name": "stdout",
     "output_type": "stream",
     "text": [
      "Error fetching supplier for SKU 1273324001 after 5 retries: HTTPSConnectionPool(host='www2.hm.com', port=443): Max retries exceeded with url: /sv_se/supplierDetails/articles/1273324001 (Caused by ResponseError('too many 400 error responses'))\n"
     ]
    },
    {
     "name": "stderr",
     "output_type": "stream",
     "text": [
      "Fetching Supplier Details:  93%|█████████████████████████████████████████   | 2413/2588 [3:34:28<40:06, 13.75s/product]"
     ]
    },
    {
     "name": "stdout",
     "output_type": "stream",
     "text": [
      "Error fetching supplier for SKU 1000960037 after 5 retries: HTTPSConnectionPool(host='www2.hm.com', port=443): Max retries exceeded with url: /sv_se/supplierDetails/articles/1000960037 (Caused by ResponseError('too many 400 error responses'))\n"
     ]
    },
    {
     "name": "stderr",
     "output_type": "stream",
     "text": [
      "Fetching Supplier Details:  93%|█████████████████████████████████████████   | 2415/2588 [3:34:47<35:33, 12.33s/product]"
     ]
    },
    {
     "name": "stdout",
     "output_type": "stream",
     "text": [
      "Error fetching supplier for SKU 1173269001 after 5 retries: HTTPSConnectionPool(host='www2.hm.com', port=443): Max retries exceeded with url: /sv_se/supplierDetails/articles/1173269001 (Caused by ResponseError('too many 400 error responses'))\n"
     ]
    },
    {
     "name": "stderr",
     "output_type": "stream",
     "text": [
      "Fetching Supplier Details:  93%|█████████████████████████████████████████   | 2416/2588 [3:35:05<40:04, 13.98s/product]"
     ]
    },
    {
     "name": "stdout",
     "output_type": "stream",
     "text": [
      "Error fetching supplier for SKU 1173284001 after 5 retries: HTTPSConnectionPool(host='www2.hm.com', port=443): Max retries exceeded with url: /sv_se/supplierDetails/articles/1173284001 (Caused by ResponseError('too many 400 error responses'))\n"
     ]
    },
    {
     "name": "stderr",
     "output_type": "stream",
     "text": [
      "Fetching Supplier Details:  94%|█████████████████████████████████████████▏  | 2420/2588 [3:35:25<25:23,  9.07s/product]"
     ]
    },
    {
     "name": "stdout",
     "output_type": "stream",
     "text": [
      "Error fetching supplier for SKU 1235422002 after 5 retries: HTTPSConnectionPool(host='www2.hm.com', port=443): Max retries exceeded with url: /sv_se/supplierDetails/articles/1235422002 (Caused by ResponseError('too many 400 error responses'))\n"
     ]
    },
    {
     "name": "stderr",
     "output_type": "stream",
     "text": [
      "Fetching Supplier Details:  94%|█████████████████████████████████████████▏  | 2422/2588 [3:35:45<28:37, 10.34s/product]"
     ]
    },
    {
     "name": "stdout",
     "output_type": "stream",
     "text": [
      "Error fetching supplier for SKU 1283944004 after 5 retries: HTTPSConnectionPool(host='www2.hm.com', port=443): Max retries exceeded with url: /sv_se/supplierDetails/articles/1283944004 (Caused by ResponseError('too many 400 error responses'))\n"
     ]
    },
    {
     "name": "stderr",
     "output_type": "stream",
     "text": [
      "Fetching Supplier Details:  94%|█████████████████████████████████████████▏  | 2425/2588 [3:36:08<28:15, 10.40s/product]"
     ]
    },
    {
     "name": "stdout",
     "output_type": "stream",
     "text": [
      "Error fetching supplier for SKU 1268352001 after 5 retries: HTTPSConnectionPool(host='www2.hm.com', port=443): Max retries exceeded with url: /sv_se/supplierDetails/articles/1268352001 (Caused by ResponseError('too many 400 error responses'))\n"
     ]
    },
    {
     "name": "stderr",
     "output_type": "stream",
     "text": [
      "Fetching Supplier Details:  94%|█████████████████████████████████████████▏  | 2426/2588 [3:36:26<34:12, 12.67s/product]"
     ]
    },
    {
     "name": "stdout",
     "output_type": "stream",
     "text": [
      "Error fetching supplier for SKU 1034463022 after 5 retries: HTTPSConnectionPool(host='www2.hm.com', port=443): Max retries exceeded with url: /sv_se/supplierDetails/articles/1034463022 (Caused by ResponseError('too many 400 error responses'))\n"
     ]
    },
    {
     "name": "stderr",
     "output_type": "stream",
     "text": [
      "Fetching Supplier Details:  94%|█████████████████████████████████████████▎  | 2427/2588 [3:36:44<38:13, 14.24s/product]"
     ]
    },
    {
     "name": "stdout",
     "output_type": "stream",
     "text": [
      "Error fetching supplier for SKU 1066685008 after 5 retries: HTTPSConnectionPool(host='www2.hm.com', port=443): Max retries exceeded with url: /sv_se/supplierDetails/articles/1066685008 (Caused by ResponseError('too many 400 error responses'))\n"
     ]
    },
    {
     "name": "stderr",
     "output_type": "stream",
     "text": [
      "Fetching Supplier Details:  94%|█████████████████████████████████████████▎  | 2428/2588 [3:37:02<40:53, 15.34s/product]"
     ]
    },
    {
     "name": "stdout",
     "output_type": "stream",
     "text": [
      "Error fetching supplier for SKU 0494713140 after 5 retries: HTTPSConnectionPool(host='www2.hm.com', port=443): Max retries exceeded with url: /sv_se/supplierDetails/articles/0494713140 (Caused by ResponseError('too many 400 error responses'))\n"
     ]
    },
    {
     "name": "stderr",
     "output_type": "stream",
     "text": [
      "Fetching Supplier Details:  94%|█████████████████████████████████████████▎  | 2429/2588 [3:37:20<42:26, 16.02s/product]"
     ]
    },
    {
     "name": "stdout",
     "output_type": "stream",
     "text": [
      "Error fetching supplier for SKU 1294764001 after 5 retries: HTTPSConnectionPool(host='www2.hm.com', port=443): Max retries exceeded with url: /sv_se/supplierDetails/articles/1294764001 (Caused by ResponseError('too many 400 error responses'))\n"
     ]
    },
    {
     "name": "stderr",
     "output_type": "stream",
     "text": [
      "Fetching Supplier Details:  94%|█████████████████████████████████████████▎  | 2430/2588 [3:37:37<43:32, 16.53s/product]"
     ]
    },
    {
     "name": "stdout",
     "output_type": "stream",
     "text": [
      "Error fetching supplier for SKU 1256964001 after 5 retries: HTTPSConnectionPool(host='www2.hm.com', port=443): Max retries exceeded with url: /sv_se/supplierDetails/articles/1256964001 (Caused by ResponseError('too many 400 error responses'))\n"
     ]
    },
    {
     "name": "stderr",
     "output_type": "stream",
     "text": [
      "Fetching Supplier Details:  94%|█████████████████████████████████████████▎  | 2431/2588 [3:37:56<44:38, 17.06s/product]"
     ]
    },
    {
     "name": "stdout",
     "output_type": "stream",
     "text": [
      "Error fetching supplier for SKU 1298357001 after 5 retries: HTTPSConnectionPool(host='www2.hm.com', port=443): Max retries exceeded with url: /sv_se/supplierDetails/articles/1298357001 (Caused by ResponseError('too many 400 error responses'))\n"
     ]
    },
    {
     "name": "stderr",
     "output_type": "stream",
     "text": [
      "Fetching Supplier Details:  94%|█████████████████████████████████████████▎  | 2432/2588 [3:38:14<45:06, 17.35s/product]"
     ]
    },
    {
     "name": "stdout",
     "output_type": "stream",
     "text": [
      "Error fetching supplier for SKU 1283004003 after 5 retries: HTTPSConnectionPool(host='www2.hm.com', port=443): Max retries exceeded with url: /sv_se/supplierDetails/articles/1283004003 (Caused by ResponseError('too many 400 error responses'))\n"
     ]
    },
    {
     "name": "stderr",
     "output_type": "stream",
     "text": [
      "Fetching Supplier Details:  94%|█████████████████████████████████████████▎  | 2433/2588 [3:38:32<45:26, 17.59s/product]"
     ]
    },
    {
     "name": "stdout",
     "output_type": "stream",
     "text": [
      "Error fetching supplier for SKU 0989408002 after 5 retries: HTTPSConnectionPool(host='www2.hm.com', port=443): Max retries exceeded with url: /sv_se/supplierDetails/articles/0989408002 (Caused by ResponseError('too many 400 error responses'))\n"
     ]
    },
    {
     "name": "stderr",
     "output_type": "stream",
     "text": [
      "Fetching Supplier Details:  94%|█████████████████████████████████████████▍  | 2434/2588 [3:38:51<46:05, 17.96s/product]"
     ]
    },
    {
     "name": "stdout",
     "output_type": "stream",
     "text": [
      "Error fetching supplier for SKU 1231293005 after 5 retries: HTTPSConnectionPool(host='www2.hm.com', port=443): Max retries exceeded with url: /sv_se/supplierDetails/articles/1231293005 (Caused by ResponseError('too many 400 error responses'))\n"
     ]
    },
    {
     "name": "stderr",
     "output_type": "stream",
     "text": [
      "Fetching Supplier Details:  94%|█████████████████████████████████████████▍  | 2435/2588 [3:39:09<46:21, 18.18s/product]"
     ]
    },
    {
     "name": "stdout",
     "output_type": "stream",
     "text": [
      "Error fetching supplier for SKU 1276699002 after 5 retries: HTTPSConnectionPool(host='www2.hm.com', port=443): Max retries exceeded with url: /sv_se/supplierDetails/articles/1276699002 (Caused by ResponseError('too many 400 error responses'))\n"
     ]
    },
    {
     "name": "stderr",
     "output_type": "stream",
     "text": [
      "Fetching Supplier Details:  94%|█████████████████████████████████████████▍  | 2436/2588 [3:39:27<45:39, 18.03s/product]"
     ]
    },
    {
     "name": "stdout",
     "output_type": "stream",
     "text": [
      "Error fetching supplier for SKU 0756511027 after 5 retries: HTTPSConnectionPool(host='www2.hm.com', port=443): Max retries exceeded with url: /sv_se/supplierDetails/articles/0756511027 (Caused by ResponseError('too many 400 error responses'))\n"
     ]
    },
    {
     "name": "stderr",
     "output_type": "stream",
     "text": [
      "Fetching Supplier Details:  94%|█████████████████████████████████████████▍  | 2437/2588 [3:39:47<46:27, 18.46s/product]"
     ]
    },
    {
     "name": "stdout",
     "output_type": "stream",
     "text": [
      "Error fetching supplier for SKU 1139837023 after 5 retries: HTTPSConnectionPool(host='www2.hm.com', port=443): Max retries exceeded with url: /sv_se/supplierDetails/articles/1139837023 (Caused by ResponseError('too many 400 error responses'))\n"
     ]
    },
    {
     "name": "stderr",
     "output_type": "stream",
     "text": [
      "Fetching Supplier Details:  94%|█████████████████████████████████████████▍  | 2438/2588 [3:40:13<52:14, 20.90s/product]"
     ]
    },
    {
     "name": "stdout",
     "output_type": "stream",
     "text": [
      "Error fetching supplier for SKU 1271137005 after 5 retries: HTTPSConnectionPool(host='www2.hm.com', port=443): Max retries exceeded with url: /sv_se/supplierDetails/articles/1271137005 (Caused by ResponseError('too many 400 error responses'))\n"
     ]
    },
    {
     "name": "stderr",
     "output_type": "stream",
     "text": [
      "Fetching Supplier Details:  94%|█████████████████████████████████████████▍  | 2439/2588 [3:40:31<49:54, 20.10s/product]"
     ]
    },
    {
     "name": "stdout",
     "output_type": "stream",
     "text": [
      "Error fetching supplier for SKU 1142169009 after 5 retries: HTTPSConnectionPool(host='www2.hm.com', port=443): Max retries exceeded with url: /sv_se/supplierDetails/articles/1142169009 (Caused by ResponseError('too many 400 error responses'))\n"
     ]
    },
    {
     "name": "stderr",
     "output_type": "stream",
     "text": [
      "Fetching Supplier Details:  94%|█████████████████████████████████████████▍  | 2440/2588 [3:40:49<47:58, 19.45s/product]"
     ]
    },
    {
     "name": "stdout",
     "output_type": "stream",
     "text": [
      "Error fetching supplier for SKU 1227113012 after 5 retries: HTTPSConnectionPool(host='www2.hm.com', port=443): Max retries exceeded with url: /sv_se/supplierDetails/articles/1227113012 (Caused by ResponseError('too many 400 error responses'))\n"
     ]
    },
    {
     "name": "stderr",
     "output_type": "stream",
     "text": [
      "Fetching Supplier Details:  94%|█████████████████████████████████████████▌  | 2441/2588 [3:41:09<47:34, 19.42s/product]"
     ]
    },
    {
     "name": "stdout",
     "output_type": "stream",
     "text": [
      "Error fetching supplier for SKU 1263409001 after 5 retries: HTTPSConnectionPool(host='www2.hm.com', port=443): Max retries exceeded with url: /sv_se/supplierDetails/articles/1263409001 (Caused by ResponseError('too many 400 error responses'))\n"
     ]
    },
    {
     "name": "stderr",
     "output_type": "stream",
     "text": [
      "Fetching Supplier Details:  94%|█████████████████████████████████████████▌  | 2442/2588 [3:41:26<45:51, 18.85s/product]"
     ]
    },
    {
     "name": "stdout",
     "output_type": "stream",
     "text": [
      "Error fetching supplier for SKU 1263409003 after 5 retries: HTTPSConnectionPool(host='www2.hm.com', port=443): Max retries exceeded with url: /sv_se/supplierDetails/articles/1263409003 (Caused by ResponseError('too many 400 error responses'))\n"
     ]
    },
    {
     "name": "stderr",
     "output_type": "stream",
     "text": [
      "Fetching Supplier Details:  94%|█████████████████████████████████████████▌  | 2443/2588 [3:41:44<44:44, 18.51s/product]"
     ]
    },
    {
     "name": "stdout",
     "output_type": "stream",
     "text": [
      "Error fetching supplier for SKU 1271137004 after 5 retries: HTTPSConnectionPool(host='www2.hm.com', port=443): Max retries exceeded with url: /sv_se/supplierDetails/articles/1271137004 (Caused by ResponseError('too many 400 error responses'))\n"
     ]
    },
    {
     "name": "stderr",
     "output_type": "stream",
     "text": [
      "Fetching Supplier Details:  94%|█████████████████████████████████████████▌  | 2444/2588 [3:42:01<43:42, 18.21s/product]"
     ]
    },
    {
     "name": "stdout",
     "output_type": "stream",
     "text": [
      "Error fetching supplier for SKU 1229169001 after 5 retries: HTTPSConnectionPool(host='www2.hm.com', port=443): Max retries exceeded with url: /sv_se/supplierDetails/articles/1229169001 (Caused by ResponseError('too many 400 error responses'))\n"
     ]
    },
    {
     "name": "stderr",
     "output_type": "stream",
     "text": [
      "Fetching Supplier Details:  94%|█████████████████████████████████████████▌  | 2445/2588 [3:42:19<42:52, 17.99s/product]"
     ]
    },
    {
     "name": "stdout",
     "output_type": "stream",
     "text": [
      "Error fetching supplier for SKU 1092397001 after 5 retries: HTTPSConnectionPool(host='www2.hm.com', port=443): Max retries exceeded with url: /sv_se/supplierDetails/articles/1092397001 (Caused by ResponseError('too many 400 error responses'))\n"
     ]
    },
    {
     "name": "stderr",
     "output_type": "stream",
     "text": [
      "Fetching Supplier Details:  95%|█████████████████████████████████████████▌  | 2446/2588 [3:42:37<42:42, 18.05s/product]"
     ]
    },
    {
     "name": "stdout",
     "output_type": "stream",
     "text": [
      "Error fetching supplier for SKU 1276700001 after 5 retries: HTTPSConnectionPool(host='www2.hm.com', port=443): Max retries exceeded with url: /sv_se/supplierDetails/articles/1276700001 (Caused by ResponseError('too many 400 error responses'))\n"
     ]
    },
    {
     "name": "stderr",
     "output_type": "stream",
     "text": [
      "Fetching Supplier Details:  95%|█████████████████████████████████████████▌  | 2447/2588 [3:42:56<43:00, 18.30s/product]"
     ]
    },
    {
     "name": "stdout",
     "output_type": "stream",
     "text": [
      "Error fetching supplier for SKU 1216404004 after 5 retries: HTTPSConnectionPool(host='www2.hm.com', port=443): Max retries exceeded with url: /sv_se/supplierDetails/articles/1216404004 (Caused by ResponseError('too many 400 error responses'))\n"
     ]
    },
    {
     "name": "stderr",
     "output_type": "stream",
     "text": [
      "Fetching Supplier Details:  95%|█████████████████████████████████████████▌  | 2448/2588 [3:43:14<42:23, 18.17s/product]"
     ]
    },
    {
     "name": "stdout",
     "output_type": "stream",
     "text": [
      "Error fetching supplier for SKU 1216404006 after 5 retries: HTTPSConnectionPool(host='www2.hm.com', port=443): Max retries exceeded with url: /sv_se/supplierDetails/articles/1216404006 (Caused by ResponseError('too many 400 error responses'))\n"
     ]
    },
    {
     "name": "stderr",
     "output_type": "stream",
     "text": [
      "Fetching Supplier Details:  95%|█████████████████████████████████████████▋  | 2450/2588 [3:43:32<33:02, 14.37s/product]"
     ]
    },
    {
     "name": "stdout",
     "output_type": "stream",
     "text": [
      "Error fetching supplier for SKU 0490418065 after 5 retries: HTTPSConnectionPool(host='www2.hm.com', port=443): Max retries exceeded with url: /sv_se/supplierDetails/articles/0490418065 (Caused by ResponseError('too many 400 error responses'))\n"
     ]
    },
    {
     "name": "stderr",
     "output_type": "stream",
     "text": [
      "Fetching Supplier Details:  95%|█████████████████████████████████████████▋  | 2451/2588 [3:43:50<35:21, 15.49s/product]"
     ]
    },
    {
     "name": "stdout",
     "output_type": "stream",
     "text": [
      "Error fetching supplier for SKU 0490418067 after 5 retries: HTTPSConnectionPool(host='www2.hm.com', port=443): Max retries exceeded with url: /sv_se/supplierDetails/articles/0490418067 (Caused by ResponseError('too many 400 error responses'))\n"
     ]
    },
    {
     "name": "stderr",
     "output_type": "stream",
     "text": [
      "Fetching Supplier Details:  95%|█████████████████████████████████████████▋  | 2453/2588 [3:44:08<29:01, 12.90s/product]"
     ]
    },
    {
     "name": "stdout",
     "output_type": "stream",
     "text": [
      "Error fetching supplier for SKU 0880025019 after 5 retries: HTTPSConnectionPool(host='www2.hm.com', port=443): Max retries exceeded with url: /sv_se/supplierDetails/articles/0880025019 (Caused by ResponseError('too many 400 error responses'))\n"
     ]
    },
    {
     "name": "stderr",
     "output_type": "stream",
     "text": [
      "Fetching Supplier Details:  95%|█████████████████████████████████████████▋  | 2454/2588 [3:44:26<31:53, 14.28s/product]"
     ]
    },
    {
     "name": "stdout",
     "output_type": "stream",
     "text": [
      "Error fetching supplier for SKU 0989408030 after 5 retries: HTTPSConnectionPool(host='www2.hm.com', port=443): Max retries exceeded with url: /sv_se/supplierDetails/articles/0989408030 (Caused by ResponseError('too many 400 error responses'))\n"
     ]
    },
    {
     "name": "stderr",
     "output_type": "stream",
     "text": [
      "Fetching Supplier Details:  95%|█████████████████████████████████████████▋  | 2455/2588 [3:45:01<45:21, 20.47s/product]"
     ]
    },
    {
     "name": "stdout",
     "output_type": "stream",
     "text": [
      "Error fetching supplier for SKU 0989408031 after 5 retries: HTTPSConnectionPool(host='www2.hm.com', port=443): Max retries exceeded with url: /sv_se/supplierDetails/articles/0989408031 (Caused by ResponseError('too many 400 error responses'))\n"
     ]
    },
    {
     "name": "stderr",
     "output_type": "stream",
     "text": [
      "Fetching Supplier Details:  95%|█████████████████████████████████████████▊  | 2456/2588 [3:45:27<49:18, 22.41s/product]"
     ]
    },
    {
     "name": "stdout",
     "output_type": "stream",
     "text": [
      "Error fetching supplier for SKU 1084860022 after 5 retries: HTTPSConnectionPool(host='www2.hm.com', port=443): Max retries exceeded with url: /sv_se/supplierDetails/articles/1084860022 (Caused by ResponseError('too many 400 error responses'))\n"
     ]
    },
    {
     "name": "stderr",
     "output_type": "stream",
     "text": [
      "Fetching Supplier Details:  95%|█████████████████████████████████████████▊  | 2457/2588 [3:45:45<45:58, 21.06s/product]"
     ]
    },
    {
     "name": "stdout",
     "output_type": "stream",
     "text": [
      "Error fetching supplier for SKU 1121112010 after 5 retries: HTTPSConnectionPool(host='www2.hm.com', port=443): Max retries exceeded with url: /sv_se/supplierDetails/articles/1121112010 (Caused by ResponseError('too many 400 error responses'))\n"
     ]
    },
    {
     "name": "stderr",
     "output_type": "stream",
     "text": [
      "Fetching Supplier Details:  95%|█████████████████████████████████████████▊  | 2458/2588 [3:46:03<43:37, 20.14s/product]"
     ]
    },
    {
     "name": "stdout",
     "output_type": "stream",
     "text": [
      "Error fetching supplier for SKU 1147848018 after 5 retries: HTTPSConnectionPool(host='www2.hm.com', port=443): Max retries exceeded with url: /sv_se/supplierDetails/articles/1147848018 (Caused by ResponseError('too many 400 error responses'))\n"
     ]
    },
    {
     "name": "stderr",
     "output_type": "stream",
     "text": [
      "Fetching Supplier Details:  95%|█████████████████████████████████████████▊  | 2459/2588 [3:46:21<41:51, 19.47s/product]"
     ]
    },
    {
     "name": "stdout",
     "output_type": "stream",
     "text": [
      "Error fetching supplier for SKU 1223221002 after 5 retries: HTTPSConnectionPool(host='www2.hm.com', port=443): Max retries exceeded with url: /sv_se/supplierDetails/articles/1223221002 (Caused by ResponseError('too many 400 error responses'))\n"
     ]
    },
    {
     "name": "stderr",
     "output_type": "stream",
     "text": [
      "Fetching Supplier Details:  95%|█████████████████████████████████████████▊  | 2460/2588 [3:46:39<40:23, 18.94s/product]"
     ]
    },
    {
     "name": "stdout",
     "output_type": "stream",
     "text": [
      "Error fetching supplier for SKU 1247004001 after 5 retries: HTTPSConnectionPool(host='www2.hm.com', port=443): Max retries exceeded with url: /sv_se/supplierDetails/articles/1247004001 (Caused by ResponseError('too many 400 error responses'))\n"
     ]
    },
    {
     "name": "stderr",
     "output_type": "stream",
     "text": [
      "Fetching Supplier Details:  95%|█████████████████████████████████████████▊  | 2461/2588 [3:46:57<39:35, 18.70s/product]"
     ]
    },
    {
     "name": "stdout",
     "output_type": "stream",
     "text": [
      "Error fetching supplier for SKU 1247004002 after 5 retries: HTTPSConnectionPool(host='www2.hm.com', port=443): Max retries exceeded with url: /sv_se/supplierDetails/articles/1247004002 (Caused by ResponseError('too many 400 error responses'))\n"
     ]
    },
    {
     "name": "stderr",
     "output_type": "stream",
     "text": [
      "Fetching Supplier Details:  95%|█████████████████████████████████████████▊  | 2462/2588 [3:47:45<57:21, 27.31s/product]"
     ]
    },
    {
     "name": "stdout",
     "output_type": "stream",
     "text": [
      "Error fetching supplier for SKU 1248313001 after 5 retries: HTTPSConnectionPool(host='www2.hm.com', port=443): Max retries exceeded with url: /sv_se/supplierDetails/articles/1248313001 (Caused by ResponseError('too many 400 error responses'))\n"
     ]
    },
    {
     "name": "stderr",
     "output_type": "stream",
     "text": [
      "Fetching Supplier Details:  95%|█████████████████████████████████████████▊  | 2463/2588 [3:48:14<58:18, 27.99s/product]"
     ]
    },
    {
     "name": "stdout",
     "output_type": "stream",
     "text": [
      "Error fetching supplier for SKU 1248995001 after 5 retries: HTTPSConnectionPool(host='www2.hm.com', port=443): Max retries exceeded with url: /sv_se/supplierDetails/articles/1248995001 (Caused by ResponseError('too many 400 error responses'))\n"
     ]
    },
    {
     "name": "stderr",
     "output_type": "stream",
     "text": [
      "Fetching Supplier Details:  95%|█████████████████████████████████████████▉  | 2464/2588 [3:48:36<53:45, 26.02s/product]"
     ]
    },
    {
     "name": "stdout",
     "output_type": "stream",
     "text": [
      "Error fetching supplier for SKU 1248995015 after 5 retries: HTTPSConnectionPool(host='www2.hm.com', port=443): Max retries exceeded with url: /sv_se/supplierDetails/articles/1248995015 (Caused by ResponseError('too many 400 error responses'))\n"
     ]
    },
    {
     "name": "stderr",
     "output_type": "stream",
     "text": [
      "Fetching Supplier Details:  95%|█████████████████████████████████████████▉  | 2465/2588 [3:48:55<49:15, 24.02s/product]"
     ]
    },
    {
     "name": "stdout",
     "output_type": "stream",
     "text": [
      "Error fetching supplier for SKU 1251114002 after 5 retries: HTTPSConnectionPool(host='www2.hm.com', port=443): Max retries exceeded with url: /sv_se/supplierDetails/articles/1251114002 (Caused by ResponseError('too many 400 error responses'))\n"
     ]
    },
    {
     "name": "stderr",
     "output_type": "stream",
     "text": [
      "Fetching Supplier Details:  95%|█████████████████████████████████████████▉  | 2466/2588 [3:49:13<45:31, 22.39s/product]"
     ]
    },
    {
     "name": "stdout",
     "output_type": "stream",
     "text": [
      "Error fetching supplier for SKU 1261873002 after 5 retries: HTTPSConnectionPool(host='www2.hm.com', port=443): Max retries exceeded with url: /sv_se/supplierDetails/articles/1261873002 (Caused by ResponseError('too many 400 error responses'))\n"
     ]
    },
    {
     "name": "stderr",
     "output_type": "stream",
     "text": [
      "Fetching Supplier Details:  95%|█████████████████████████████████████████▉  | 2467/2588 [3:49:34<44:17, 21.97s/product]"
     ]
    },
    {
     "name": "stdout",
     "output_type": "stream",
     "text": [
      "Error fetching supplier for SKU 1263136001 after 5 retries: HTTPSConnectionPool(host='www2.hm.com', port=443): Max retries exceeded with url: /sv_se/supplierDetails/articles/1263136001 (Caused by ResponseError('too many 400 error responses'))\n"
     ]
    },
    {
     "name": "stderr",
     "output_type": "stream",
     "text": [
      "Fetching Supplier Details:  95%|█████████████████████████████████████████▉  | 2468/2588 [3:49:57<44:00, 22.00s/product]"
     ]
    },
    {
     "name": "stdout",
     "output_type": "stream",
     "text": [
      "Error fetching supplier for SKU 1263473001 after 5 retries: HTTPSConnectionPool(host='www2.hm.com', port=443): Max retries exceeded with url: /sv_se/supplierDetails/articles/1263473001 (Caused by ResponseError('too many 400 error responses'))\n"
     ]
    },
    {
     "name": "stderr",
     "output_type": "stream",
     "text": [
      "Fetching Supplier Details:  95%|█████████████████████████████████████████▉  | 2469/2588 [3:50:15<41:47, 21.07s/product]"
     ]
    },
    {
     "name": "stdout",
     "output_type": "stream",
     "text": [
      "Error fetching supplier for SKU 1267172001 after 5 retries: HTTPSConnectionPool(host='www2.hm.com', port=443): Max retries exceeded with url: /sv_se/supplierDetails/articles/1267172001 (Caused by ResponseError('too many 400 error responses'))\n"
     ]
    },
    {
     "name": "stderr",
     "output_type": "stream",
     "text": [
      "Fetching Supplier Details:  95%|█████████████████████████████████████████▉  | 2470/2588 [3:50:33<39:22, 20.02s/product]"
     ]
    },
    {
     "name": "stdout",
     "output_type": "stream",
     "text": [
      "Error fetching supplier for SKU 1034463028 after 5 retries: HTTPSConnectionPool(host='www2.hm.com', port=443): Max retries exceeded with url: /sv_se/supplierDetails/articles/1034463028 (Caused by ResponseError('too many 400 error responses'))\n"
     ]
    },
    {
     "name": "stderr",
     "output_type": "stream",
     "text": [
      "Fetching Supplier Details:  95%|██████████████████████████████████████████  | 2471/2588 [3:50:52<38:33, 19.77s/product]"
     ]
    },
    {
     "name": "stdout",
     "output_type": "stream",
     "text": [
      "Error fetching supplier for SKU 1232254012 after 5 retries: HTTPSConnectionPool(host='www2.hm.com', port=443): Max retries exceeded with url: /sv_se/supplierDetails/articles/1232254012 (Caused by ResponseError('too many 400 error responses'))\n"
     ]
    },
    {
     "name": "stderr",
     "output_type": "stream",
     "text": [
      "Fetching Supplier Details:  96%|██████████████████████████████████████████  | 2473/2588 [3:51:11<29:08, 15.20s/product]"
     ]
    },
    {
     "name": "stdout",
     "output_type": "stream",
     "text": [
      "Error fetching supplier for SKU 1268023001 after 5 retries: HTTPSConnectionPool(host='www2.hm.com', port=443): Max retries exceeded with url: /sv_se/supplierDetails/articles/1268023001 (Caused by ResponseError('too many 400 error responses'))\n"
     ]
    },
    {
     "name": "stderr",
     "output_type": "stream",
     "text": [
      "Fetching Supplier Details:  96%|██████████████████████████████████████████  | 2474/2588 [3:51:28<30:12, 15.90s/product]"
     ]
    },
    {
     "name": "stdout",
     "output_type": "stream",
     "text": [
      "Error fetching supplier for SKU 1298843001 after 5 retries: HTTPSConnectionPool(host='www2.hm.com', port=443): Max retries exceeded with url: /sv_se/supplierDetails/articles/1298843001 (Caused by ResponseError('too many 400 error responses'))\n"
     ]
    },
    {
     "name": "stderr",
     "output_type": "stream",
     "text": [
      "Fetching Supplier Details:  96%|██████████████████████████████████████████  | 2475/2588 [3:51:46<31:01, 16.47s/product]"
     ]
    },
    {
     "name": "stdout",
     "output_type": "stream",
     "text": [
      "Error fetching supplier for SKU 1230992001 after 5 retries: HTTPSConnectionPool(host='www2.hm.com', port=443): Max retries exceeded with url: /sv_se/supplierDetails/articles/1230992001 (Caused by ResponseError('too many 400 error responses'))\n"
     ]
    },
    {
     "name": "stderr",
     "output_type": "stream",
     "text": [
      "Fetching Supplier Details:  96%|██████████████████████████████████████████  | 2476/2588 [3:52:05<31:56, 17.11s/product]"
     ]
    },
    {
     "name": "stdout",
     "output_type": "stream",
     "text": [
      "Error fetching supplier for SKU 1277957002 after 5 retries: HTTPSConnectionPool(host='www2.hm.com', port=443): Max retries exceeded with url: /sv_se/supplierDetails/articles/1277957002 (Caused by ResponseError('too many 400 error responses'))\n"
     ]
    },
    {
     "name": "stderr",
     "output_type": "stream",
     "text": [
      "Fetching Supplier Details:  96%|██████████████████████████████████████████  | 2477/2588 [3:52:22<31:55, 17.26s/product]"
     ]
    },
    {
     "name": "stdout",
     "output_type": "stream",
     "text": [
      "Error fetching supplier for SKU 1288768001 after 5 retries: HTTPSConnectionPool(host='www2.hm.com', port=443): Max retries exceeded with url: /sv_se/supplierDetails/articles/1288768001 (Caused by ResponseError('too many 400 error responses'))\n"
     ]
    },
    {
     "name": "stderr",
     "output_type": "stream",
     "text": [
      "Fetching Supplier Details:  96%|██████████████████████████████████████████▏ | 2478/2588 [3:52:40<31:57, 17.43s/product]"
     ]
    },
    {
     "name": "stdout",
     "output_type": "stream",
     "text": [
      "Error fetching supplier for SKU 1294695008 after 5 retries: HTTPSConnectionPool(host='www2.hm.com', port=443): Max retries exceeded with url: /sv_se/supplierDetails/articles/1294695008 (Caused by ResponseError('too many 400 error responses'))\n"
     ]
    },
    {
     "name": "stderr",
     "output_type": "stream",
     "text": [
      "Fetching Supplier Details:  96%|██████████████████████████████████████████▏ | 2479/2588 [3:53:09<37:45, 20.78s/product]"
     ]
    },
    {
     "name": "stdout",
     "output_type": "stream",
     "text": [
      "Error fetching supplier for SKU 1073202003 after 5 retries: HTTPSConnectionPool(host='www2.hm.com', port=443): Max retries exceeded with url: /sv_se/supplierDetails/articles/1073202003 (Caused by ResponseError('too many 400 error responses'))\n"
     ]
    },
    {
     "name": "stderr",
     "output_type": "stream",
     "text": [
      "Fetching Supplier Details:  96%|██████████████████████████████████████████▏ | 2480/2588 [3:53:33<39:32, 21.97s/product]"
     ]
    },
    {
     "name": "stdout",
     "output_type": "stream",
     "text": [
      "Error fetching supplier for SKU 1273158001 after 5 retries: HTTPSConnectionPool(host='www2.hm.com', port=443): Max retries exceeded with url: /sv_se/supplierDetails/articles/1273158001 (Caused by ResponseError('too many 400 error responses'))\n"
     ]
    },
    {
     "name": "stderr",
     "output_type": "stream",
     "text": [
      "Fetching Supplier Details:  96%|██████████████████████████████████████████▏ | 2481/2588 [3:53:55<39:01, 21.89s/product]"
     ]
    },
    {
     "name": "stdout",
     "output_type": "stream",
     "text": [
      "Error fetching supplier for SKU 1161941016 after 5 retries: HTTPSConnectionPool(host='www2.hm.com', port=443): Max retries exceeded with url: /sv_se/supplierDetails/articles/1161941016 (Caused by ResponseError('too many 400 error responses'))\n"
     ]
    },
    {
     "name": "stderr",
     "output_type": "stream",
     "text": [
      "Fetching Supplier Details:  96%|██████████████████████████████████████████▏ | 2482/2588 [3:54:13<36:36, 20.72s/product]"
     ]
    },
    {
     "name": "stdout",
     "output_type": "stream",
     "text": [
      "Error fetching supplier for SKU 1273096001 after 5 retries: HTTPSConnectionPool(host='www2.hm.com', port=443): Max retries exceeded with url: /sv_se/supplierDetails/articles/1273096001 (Caused by ResponseError('too many 400 error responses'))\n"
     ]
    },
    {
     "name": "stderr",
     "output_type": "stream",
     "text": [
      "Fetching Supplier Details:  96%|██████████████████████████████████████████▏ | 2483/2588 [3:54:31<34:38, 19.80s/product]"
     ]
    },
    {
     "name": "stdout",
     "output_type": "stream",
     "text": [
      "Error fetching supplier for SKU 1255889004 after 5 retries: HTTPSConnectionPool(host='www2.hm.com', port=443): Max retries exceeded with url: /sv_se/supplierDetails/articles/1255889004 (Caused by ResponseError('too many 400 error responses'))\n"
     ]
    },
    {
     "name": "stderr",
     "output_type": "stream",
     "text": [
      "Fetching Supplier Details:  96%|██████████████████████████████████████████▏ | 2484/2588 [3:54:49<33:25, 19.28s/product]"
     ]
    },
    {
     "name": "stdout",
     "output_type": "stream",
     "text": [
      "Error fetching supplier for SKU 1005762001 after 5 retries: HTTPSConnectionPool(host='www2.hm.com', port=443): Max retries exceeded with url: /sv_se/supplierDetails/articles/1005762001 (Caused by ResponseError('too many 400 error responses'))\n"
     ]
    },
    {
     "name": "stderr",
     "output_type": "stream",
     "text": [
      "Fetching Supplier Details:  96%|██████████████████████████████████████████▎ | 2487/2588 [3:55:09<21:04, 12.52s/product]"
     ]
    },
    {
     "name": "stdout",
     "output_type": "stream",
     "text": [
      "Error fetching supplier for SKU 1173267001 after 5 retries: HTTPSConnectionPool(host='www2.hm.com', port=443): Max retries exceeded with url: /sv_se/supplierDetails/articles/1173267001 (Caused by ResponseError('too many 400 error responses'))\n"
     ]
    },
    {
     "name": "stderr",
     "output_type": "stream",
     "text": [
      "Fetching Supplier Details:  96%|██████████████████████████████████████████▎ | 2488/2588 [3:55:27<23:32, 14.13s/product]"
     ]
    },
    {
     "name": "stdout",
     "output_type": "stream",
     "text": [
      "Error fetching supplier for SKU 1187977006 after 5 retries: HTTPSConnectionPool(host='www2.hm.com', port=443): Max retries exceeded with url: /sv_se/supplierDetails/articles/1187977006 (Caused by ResponseError('too many 400 error responses'))\n"
     ]
    },
    {
     "name": "stderr",
     "output_type": "stream",
     "text": [
      "Fetching Supplier Details:  96%|██████████████████████████████████████████▎ | 2489/2588 [3:55:45<25:00, 15.15s/product]"
     ]
    },
    {
     "name": "stdout",
     "output_type": "stream",
     "text": [
      "Error fetching supplier for SKU 1215127001 after 5 retries: HTTPSConnectionPool(host='www2.hm.com', port=443): Max retries exceeded with url: /sv_se/supplierDetails/articles/1215127001 (Caused by ResponseError('too many 400 error responses'))\n"
     ]
    },
    {
     "name": "stderr",
     "output_type": "stream",
     "text": [
      "Fetching Supplier Details:  96%|██████████████████████████████████████████▎ | 2490/2588 [3:56:02<25:50, 15.82s/product]"
     ]
    },
    {
     "name": "stdout",
     "output_type": "stream",
     "text": [
      "Error fetching supplier for SKU 1217235006 after 5 retries: HTTPSConnectionPool(host='www2.hm.com', port=443): Max retries exceeded with url: /sv_se/supplierDetails/articles/1217235006 (Caused by ResponseError('too many 400 error responses'))\n"
     ]
    },
    {
     "name": "stderr",
     "output_type": "stream",
     "text": [
      "Fetching Supplier Details:  96%|██████████████████████████████████████████▎ | 2491/2588 [3:56:19<26:19, 16.29s/product]"
     ]
    },
    {
     "name": "stdout",
     "output_type": "stream",
     "text": [
      "Error fetching supplier for SKU 1230999003 after 5 retries: HTTPSConnectionPool(host='www2.hm.com', port=443): Max retries exceeded with url: /sv_se/supplierDetails/articles/1230999003 (Caused by ResponseError('too many 400 error responses'))\n"
     ]
    },
    {
     "name": "stderr",
     "output_type": "stream",
     "text": [
      "Fetching Supplier Details:  96%|██████████████████████████████████████████▎ | 2492/2588 [3:56:37<26:51, 16.79s/product]"
     ]
    },
    {
     "name": "stdout",
     "output_type": "stream",
     "text": [
      "Error fetching supplier for SKU 1066664003 after 5 retries: HTTPSConnectionPool(host='www2.hm.com', port=443): Max retries exceeded with url: /sv_se/supplierDetails/articles/1066664003 (Caused by ResponseError('too many 400 error responses'))\n"
     ]
    },
    {
     "name": "stderr",
     "output_type": "stream",
     "text": [
      "Fetching Supplier Details:  96%|██████████████████████████████████████████▍ | 2493/2588 [3:56:55<27:07, 17.13s/product]"
     ]
    },
    {
     "name": "stdout",
     "output_type": "stream",
     "text": [
      "Error fetching supplier for SKU 1255206001 after 5 retries: HTTPSConnectionPool(host='www2.hm.com', port=443): Max retries exceeded with url: /sv_se/supplierDetails/articles/1255206001 (Caused by ResponseError('too many 400 error responses'))\n"
     ]
    },
    {
     "name": "stderr",
     "output_type": "stream",
     "text": [
      "Fetching Supplier Details:  96%|██████████████████████████████████████████▍ | 2494/2588 [3:57:13<26:58, 17.22s/product]"
     ]
    },
    {
     "name": "stdout",
     "output_type": "stream",
     "text": [
      "Error fetching supplier for SKU 0756511025 after 5 retries: HTTPSConnectionPool(host='www2.hm.com', port=443): Max retries exceeded with url: /sv_se/supplierDetails/articles/0756511025 (Caused by ResponseError('too many 400 error responses'))\n"
     ]
    },
    {
     "name": "stderr",
     "output_type": "stream",
     "text": [
      "Fetching Supplier Details:  96%|██████████████████████████████████████████▍ | 2495/2588 [3:57:30<26:53, 17.35s/product]"
     ]
    },
    {
     "name": "stdout",
     "output_type": "stream",
     "text": [
      "Error fetching supplier for SKU 1228152014 after 5 retries: HTTPSConnectionPool(host='www2.hm.com', port=443): Max retries exceeded with url: /sv_se/supplierDetails/articles/1228152014 (Caused by ResponseError('too many 400 error responses'))\n"
     ]
    },
    {
     "name": "stderr",
     "output_type": "stream",
     "text": [
      "Fetching Supplier Details:  96%|██████████████████████████████████████████▍ | 2496/2588 [3:57:48<26:43, 17.43s/product]"
     ]
    },
    {
     "name": "stdout",
     "output_type": "stream",
     "text": [
      "Error fetching supplier for SKU 1277926002 after 5 retries: HTTPSConnectionPool(host='www2.hm.com', port=443): Max retries exceeded with url: /sv_se/supplierDetails/articles/1277926002 (Caused by ResponseError('too many 400 error responses'))\n"
     ]
    },
    {
     "name": "stderr",
     "output_type": "stream",
     "text": [
      "Fetching Supplier Details:  96%|██████████████████████████████████████████▍ | 2497/2588 [3:58:05<26:22, 17.39s/product]"
     ]
    },
    {
     "name": "stdout",
     "output_type": "stream",
     "text": [
      "Error fetching supplier for SKU 1066685003 after 5 retries: HTTPSConnectionPool(host='www2.hm.com', port=443): Max retries exceeded with url: /sv_se/supplierDetails/articles/1066685003 (Caused by ResponseError('too many 400 error responses'))\n"
     ]
    },
    {
     "name": "stderr",
     "output_type": "stream",
     "text": [
      "Fetching Supplier Details:  97%|██████████████████████████████████████████▍ | 2498/2588 [3:58:23<26:06, 17.41s/product]"
     ]
    },
    {
     "name": "stdout",
     "output_type": "stream",
     "text": [
      "Error fetching supplier for SKU 1282842001 after 5 retries: HTTPSConnectionPool(host='www2.hm.com', port=443): Max retries exceeded with url: /sv_se/supplierDetails/articles/1282842001 (Caused by ResponseError('too many 400 error responses'))\n"
     ]
    },
    {
     "name": "stderr",
     "output_type": "stream",
     "text": [
      "Fetching Supplier Details:  97%|██████████████████████████████████████████▍ | 2499/2588 [3:58:41<26:01, 17.55s/product]"
     ]
    },
    {
     "name": "stdout",
     "output_type": "stream",
     "text": [
      "Error fetching supplier for SKU 1282842002 after 5 retries: HTTPSConnectionPool(host='www2.hm.com', port=443): Max retries exceeded with url: /sv_se/supplierDetails/articles/1282842002 (Caused by ResponseError('too many 400 error responses'))\n"
     ]
    },
    {
     "name": "stderr",
     "output_type": "stream",
     "text": [
      "Fetching Supplier Details:  97%|██████████████████████████████████████████▌ | 2500/2588 [3:58:58<25:52, 17.64s/product]"
     ]
    },
    {
     "name": "stdout",
     "output_type": "stream",
     "text": [
      "Error fetching supplier for SKU 1280665002 after 5 retries: HTTPSConnectionPool(host='www2.hm.com', port=443): Max retries exceeded with url: /sv_se/supplierDetails/articles/1280665002 (Caused by ResponseError('too many 400 error responses'))\n"
     ]
    },
    {
     "name": "stderr",
     "output_type": "stream",
     "text": [
      "Fetching Supplier Details:  97%|██████████████████████████████████████████▌ | 2501/2588 [3:59:16<25:32, 17.61s/product]"
     ]
    },
    {
     "name": "stdout",
     "output_type": "stream",
     "text": [
      "Error fetching supplier for SKU 1228152013 after 5 retries: HTTPSConnectionPool(host='www2.hm.com', port=443): Max retries exceeded with url: /sv_se/supplierDetails/articles/1228152013 (Caused by ResponseError('too many 400 error responses'))\n"
     ]
    },
    {
     "name": "stderr",
     "output_type": "stream",
     "text": [
      "Fetching Supplier Details:  97%|██████████████████████████████████████████▌ | 2502/2588 [3:59:33<25:12, 17.59s/product]"
     ]
    },
    {
     "name": "stdout",
     "output_type": "stream",
     "text": [
      "Error fetching supplier for SKU 1283126002 after 5 retries: HTTPSConnectionPool(host='www2.hm.com', port=443): Max retries exceeded with url: /sv_se/supplierDetails/articles/1283126002 (Caused by ResponseError('too many 400 error responses'))\n"
     ]
    },
    {
     "name": "stderr",
     "output_type": "stream",
     "text": [
      "Fetching Supplier Details:  97%|██████████████████████████████████████████▌ | 2503/2588 [3:59:51<24:51, 17.55s/product]"
     ]
    },
    {
     "name": "stdout",
     "output_type": "stream",
     "text": [
      "Error fetching supplier for SKU 1301992001 after 5 retries: HTTPSConnectionPool(host='www2.hm.com', port=443): Max retries exceeded with url: /sv_se/supplierDetails/articles/1301992001 (Caused by ResponseError('too many 400 error responses'))\n"
     ]
    },
    {
     "name": "stderr",
     "output_type": "stream",
     "text": [
      "Fetching Supplier Details:  97%|██████████████████████████████████████████▌ | 2504/2588 [4:00:09<24:35, 17.56s/product]"
     ]
    },
    {
     "name": "stdout",
     "output_type": "stream",
     "text": [
      "Error fetching supplier for SKU 1221749007 after 5 retries: HTTPSConnectionPool(host='www2.hm.com', port=443): Max retries exceeded with url: /sv_se/supplierDetails/articles/1221749007 (Caused by ResponseError('too many 400 error responses'))\n"
     ]
    },
    {
     "name": "stderr",
     "output_type": "stream",
     "text": [
      "Fetching Supplier Details:  97%|██████████████████████████████████████████▌ | 2505/2588 [4:00:27<24:35, 17.77s/product]"
     ]
    },
    {
     "name": "stdout",
     "output_type": "stream",
     "text": [
      "Error fetching supplier for SKU 1293858001 after 5 retries: HTTPSConnectionPool(host='www2.hm.com', port=443): Max retries exceeded with url: /sv_se/supplierDetails/articles/1293858001 (Caused by ResponseError('too many 400 error responses'))\n"
     ]
    },
    {
     "name": "stderr",
     "output_type": "stream",
     "text": [
      "Fetching Supplier Details:  97%|██████████████████████████████████████████▌ | 2506/2588 [4:00:45<24:27, 17.90s/product]"
     ]
    },
    {
     "name": "stdout",
     "output_type": "stream",
     "text": [
      "Error fetching supplier for SKU 1273348001 after 5 retries: HTTPSConnectionPool(host='www2.hm.com', port=443): Max retries exceeded with url: /sv_se/supplierDetails/articles/1273348001 (Caused by ResponseError('too many 400 error responses'))\n"
     ]
    },
    {
     "name": "stderr",
     "output_type": "stream",
     "text": [
      "Fetching Supplier Details:  97%|██████████████████████████████████████████▌ | 2507/2588 [4:01:03<24:11, 17.92s/product]"
     ]
    },
    {
     "name": "stdout",
     "output_type": "stream",
     "text": [
      "Error fetching supplier for SKU 1267235001 after 5 retries: HTTPSConnectionPool(host='www2.hm.com', port=443): Max retries exceeded with url: /sv_se/supplierDetails/articles/1267235001 (Caused by ResponseError('too many 400 error responses'))\n"
     ]
    },
    {
     "name": "stderr",
     "output_type": "stream",
     "text": [
      "Fetching Supplier Details:  97%|██████████████████████████████████████████▋ | 2508/2588 [4:01:20<23:38, 17.73s/product]"
     ]
    },
    {
     "name": "stdout",
     "output_type": "stream",
     "text": [
      "Error fetching supplier for SKU 1267235003 after 5 retries: HTTPSConnectionPool(host='www2.hm.com', port=443): Max retries exceeded with url: /sv_se/supplierDetails/articles/1267235003 (Caused by ResponseError('too many 400 error responses'))\n"
     ]
    },
    {
     "name": "stderr",
     "output_type": "stream",
     "text": [
      "Fetching Supplier Details:  97%|██████████████████████████████████████████▋ | 2509/2588 [4:01:38<23:15, 17.66s/product]"
     ]
    },
    {
     "name": "stdout",
     "output_type": "stream",
     "text": [
      "Error fetching supplier for SKU 1283944001 after 5 retries: HTTPSConnectionPool(host='www2.hm.com', port=443): Max retries exceeded with url: /sv_se/supplierDetails/articles/1283944001 (Caused by ResponseError('too many 400 error responses'))\n"
     ]
    },
    {
     "name": "stderr",
     "output_type": "stream",
     "text": [
      "Fetching Supplier Details:  97%|██████████████████████████████████████████▋ | 2510/2588 [4:02:00<24:53, 19.14s/product]"
     ]
    },
    {
     "name": "stdout",
     "output_type": "stream",
     "text": [
      "Error fetching supplier for SKU 1126010018 after 5 retries: HTTPSConnectionPool(host='www2.hm.com', port=443): Max retries exceeded with url: /sv_se/supplierDetails/articles/1126010018 (Caused by ResponseError('too many 400 error responses'))\n"
     ]
    },
    {
     "name": "stderr",
     "output_type": "stream",
     "text": [
      "Fetching Supplier Details:  97%|██████████████████████████████████████████▋ | 2511/2588 [4:02:27<27:29, 21.42s/product]"
     ]
    },
    {
     "name": "stdout",
     "output_type": "stream",
     "text": [
      "Error fetching supplier for SKU 1280896002 after 5 retries: HTTPSConnectionPool(host='www2.hm.com', port=443): Max retries exceeded with url: /sv_se/supplierDetails/articles/1280896002 (Caused by ProtocolError('Connection aborted.', ConnectionAbortedError(10053, 'An established connection was aborted by the software in your host machine', None, 10053, None)))\n"
     ]
    },
    {
     "name": "stderr",
     "output_type": "stream",
     "text": [
      "Fetching Supplier Details:  97%|██████████████████████████████████████████▋ | 2512/2588 [4:03:10<35:10, 27.77s/product]"
     ]
    },
    {
     "name": "stdout",
     "output_type": "stream",
     "text": [
      "Error fetching supplier for SKU 1294548001 after 5 retries: HTTPSConnectionPool(host='www2.hm.com', port=443): Max retries exceeded with url: /sv_se/supplierDetails/articles/1294548001 (Caused by NewConnectionError('<urllib3.connection.HTTPSConnection object at 0x000001A608B31BD0>: Failed to establish a new connection: [WinError 10013] An attempt was made to access a socket in a way forbidden by its access permissions'))\n"
     ]
    },
    {
     "name": "stderr",
     "output_type": "stream",
     "text": [
      "Fetching Supplier Details:  97%|██████████████████████████████████████████▋ | 2513/2588 [4:03:29<31:27, 25.16s/product]"
     ]
    },
    {
     "name": "stdout",
     "output_type": "stream",
     "text": [
      "Error fetching supplier for SKU 0948274049 after 5 retries: HTTPSConnectionPool(host='www2.hm.com', port=443): Max retries exceeded with url: /sv_se/supplierDetails/articles/0948274049 (Caused by ResponseError('too many 400 error responses'))\n"
     ]
    },
    {
     "name": "stderr",
     "output_type": "stream",
     "text": [
      "Fetching Supplier Details:  97%|██████████████████████████████████████████▋ | 2514/2588 [4:03:47<28:33, 23.15s/product]"
     ]
    },
    {
     "name": "stdout",
     "output_type": "stream",
     "text": [
      "Error fetching supplier for SKU 1288913001 after 5 retries: HTTPSConnectionPool(host='www2.hm.com', port=443): Max retries exceeded with url: /sv_se/supplierDetails/articles/1288913001 (Caused by ResponseError('too many 400 error responses'))\n"
     ]
    },
    {
     "name": "stderr",
     "output_type": "stream",
     "text": [
      "Fetching Supplier Details:  97%|██████████████████████████████████████████▊ | 2515/2588 [4:04:05<26:13, 21.56s/product]"
     ]
    },
    {
     "name": "stdout",
     "output_type": "stream",
     "text": [
      "Error fetching supplier for SKU 1288913002 after 5 retries: HTTPSConnectionPool(host='www2.hm.com', port=443): Max retries exceeded with url: /sv_se/supplierDetails/articles/1288913002 (Caused by ResponseError('too many 400 error responses'))\n"
     ]
    },
    {
     "name": "stderr",
     "output_type": "stream",
     "text": [
      "Fetching Supplier Details:  97%|██████████████████████████████████████████▊ | 2516/2588 [4:04:23<24:41, 20.57s/product]"
     ]
    },
    {
     "name": "stdout",
     "output_type": "stream",
     "text": [
      "Error fetching supplier for SKU 1142169010 after 5 retries: HTTPSConnectionPool(host='www2.hm.com', port=443): Max retries exceeded with url: /sv_se/supplierDetails/articles/1142169010 (Caused by ResponseError('too many 400 error responses'))\n"
     ]
    },
    {
     "name": "stderr",
     "output_type": "stream",
     "text": [
      "Fetching Supplier Details:  97%|██████████████████████████████████████████▊ | 2517/2588 [4:04:42<23:29, 19.85s/product]"
     ]
    },
    {
     "name": "stdout",
     "output_type": "stream",
     "text": [
      "Error fetching supplier for SKU 1275439002 after 5 retries: HTTPSConnectionPool(host='www2.hm.com', port=443): Max retries exceeded with url: /sv_se/supplierDetails/articles/1275439002 (Caused by ResponseError('too many 400 error responses'))\n"
     ]
    },
    {
     "name": "stderr",
     "output_type": "stream",
     "text": [
      "Fetching Supplier Details:  97%|██████████████████████████████████████████▊ | 2518/2588 [4:05:00<22:41, 19.45s/product]"
     ]
    },
    {
     "name": "stdout",
     "output_type": "stream",
     "text": [
      "Error fetching supplier for SKU 1275440001 after 5 retries: HTTPSConnectionPool(host='www2.hm.com', port=443): Max retries exceeded with url: /sv_se/supplierDetails/articles/1275440001 (Caused by ResponseError('too many 400 error responses'))\n"
     ]
    },
    {
     "name": "stderr",
     "output_type": "stream",
     "text": [
      "Fetching Supplier Details:  97%|██████████████████████████████████████████▊ | 2519/2588 [4:05:18<21:59, 19.12s/product]"
     ]
    },
    {
     "name": "stdout",
     "output_type": "stream",
     "text": [
      "Error fetching supplier for SKU 1275440002 after 5 retries: HTTPSConnectionPool(host='www2.hm.com', port=443): Max retries exceeded with url: /sv_se/supplierDetails/articles/1275440002 (Caused by ResponseError('too many 400 error responses'))\n"
     ]
    },
    {
     "name": "stderr",
     "output_type": "stream",
     "text": [
      "Fetching Supplier Details:  97%|██████████████████████████████████████████▊ | 2520/2588 [4:05:36<21:16, 18.77s/product]"
     ]
    },
    {
     "name": "stdout",
     "output_type": "stream",
     "text": [
      "Error fetching supplier for SKU 0844469031 after 5 retries: HTTPSConnectionPool(host='www2.hm.com', port=443): Max retries exceeded with url: /sv_se/supplierDetails/articles/0844469031 (Caused by ResponseError('too many 400 error responses'))\n"
     ]
    },
    {
     "name": "stderr",
     "output_type": "stream",
     "text": [
      "Fetching Supplier Details:  97%|██████████████████████████████████████████▊ | 2521/2588 [4:05:54<20:42, 18.55s/product]"
     ]
    },
    {
     "name": "stdout",
     "output_type": "stream",
     "text": [
      "Error fetching supplier for SKU 1275440002 after 5 retries: HTTPSConnectionPool(host='www2.hm.com', port=443): Max retries exceeded with url: /sv_se/supplierDetails/articles/1275440002 (Caused by ResponseError('too many 400 error responses'))\n"
     ]
    },
    {
     "name": "stderr",
     "output_type": "stream",
     "text": [
      "Fetching Supplier Details:  97%|██████████████████████████████████████████▉ | 2522/2588 [4:06:12<20:16, 18.43s/product]"
     ]
    },
    {
     "name": "stdout",
     "output_type": "stream",
     "text": [
      "Error fetching supplier for SKU 0844469031 after 5 retries: HTTPSConnectionPool(host='www2.hm.com', port=443): Max retries exceeded with url: /sv_se/supplierDetails/articles/0844469031 (Caused by ResponseError('too many 400 error responses'))\n"
     ]
    },
    {
     "name": "stderr",
     "output_type": "stream",
     "text": [
      "Fetching Supplier Details:  97%|██████████████████████████████████████████▉ | 2523/2588 [4:06:31<19:51, 18.34s/product]"
     ]
    },
    {
     "name": "stdout",
     "output_type": "stream",
     "text": [
      "Error fetching supplier for SKU 1248995016 after 5 retries: HTTPSConnectionPool(host='www2.hm.com', port=443): Max retries exceeded with url: /sv_se/supplierDetails/articles/1248995016 (Caused by ResponseError('too many 400 error responses'))\n"
     ]
    },
    {
     "name": "stderr",
     "output_type": "stream",
     "text": [
      "Fetching Supplier Details:  98%|██████████████████████████████████████████▉ | 2524/2588 [4:06:49<19:26, 18.23s/product]"
     ]
    },
    {
     "name": "stdout",
     "output_type": "stream",
     "text": [
      "Error fetching supplier for SKU 1248995021 after 5 retries: HTTPSConnectionPool(host='www2.hm.com', port=443): Max retries exceeded with url: /sv_se/supplierDetails/articles/1248995021 (Caused by ResponseError('too many 400 error responses'))\n"
     ]
    },
    {
     "name": "stderr",
     "output_type": "stream",
     "text": [
      "Fetching Supplier Details:  98%|██████████████████████████████████████████▉ | 2525/2588 [4:07:09<19:44, 18.81s/product]"
     ]
    },
    {
     "name": "stdout",
     "output_type": "stream",
     "text": [
      "Error fetching supplier for SKU 1254357007 after 5 retries: HTTPSConnectionPool(host='www2.hm.com', port=443): Max retries exceeded with url: /sv_se/supplierDetails/articles/1254357007 (Caused by ResponseError('too many 400 error responses'))\n"
     ]
    },
    {
     "name": "stderr",
     "output_type": "stream",
     "text": [
      "Fetching Supplier Details:  98%|██████████████████████████████████████████▉ | 2526/2588 [4:07:27<19:18, 18.69s/product]"
     ]
    },
    {
     "name": "stdout",
     "output_type": "stream",
     "text": [
      "Error fetching supplier for SKU 1204016007 after 5 retries: HTTPSConnectionPool(host='www2.hm.com', port=443): Max retries exceeded with url: /sv_se/supplierDetails/articles/1204016007 (Caused by ResponseError('too many 400 error responses'))\n"
     ]
    },
    {
     "name": "stderr",
     "output_type": "stream",
     "text": [
      "Fetching Supplier Details:  98%|██████████████████████████████████████████▉ | 2527/2588 [4:07:45<18:52, 18.56s/product]"
     ]
    },
    {
     "name": "stdout",
     "output_type": "stream",
     "text": [
      "Error fetching supplier for SKU 1273309002 after 5 retries: HTTPSConnectionPool(host='www2.hm.com', port=443): Max retries exceeded with url: /sv_se/supplierDetails/articles/1273309002 (Caused by ResponseError('too many 400 error responses'))\n"
     ]
    },
    {
     "name": "stderr",
     "output_type": "stream",
     "text": [
      "Fetching Supplier Details:  98%|██████████████████████████████████████████▉ | 2528/2588 [4:08:06<19:04, 19.08s/product]"
     ]
    },
    {
     "name": "stdout",
     "output_type": "stream",
     "text": [
      "Error fetching supplier for SKU 1282874003 after 5 retries: HTTPSConnectionPool(host='www2.hm.com', port=443): Max retries exceeded with url: /sv_se/supplierDetails/articles/1282874003 (Caused by ResponseError('too many 400 error responses'))\n"
     ]
    },
    {
     "name": "stderr",
     "output_type": "stream",
     "text": [
      "Fetching Supplier Details:  98%|██████████████████████████████████████████▉ | 2529/2588 [4:08:26<19:13, 19.55s/product]"
     ]
    },
    {
     "name": "stdout",
     "output_type": "stream",
     "text": [
      "Error fetching supplier for SKU 1282874004 after 5 retries: HTTPSConnectionPool(host='www2.hm.com', port=443): Max retries exceeded with url: /sv_se/supplierDetails/articles/1282874004 (Caused by ResponseError('too many 400 error responses'))\n"
     ]
    },
    {
     "name": "stderr",
     "output_type": "stream",
     "text": [
      "Fetching Supplier Details:  98%|███████████████████████████████████████████ | 2530/2588 [4:08:44<18:25, 19.06s/product]"
     ]
    },
    {
     "name": "stdout",
     "output_type": "stream",
     "text": [
      "Error fetching supplier for SKU 1282962001 after 5 retries: HTTPSConnectionPool(host='www2.hm.com', port=443): Max retries exceeded with url: /sv_se/supplierDetails/articles/1282962001 (Caused by ResponseError('too many 400 error responses'))\n"
     ]
    },
    {
     "name": "stderr",
     "output_type": "stream",
     "text": [
      "Fetching Supplier Details:  98%|███████████████████████████████████████████ | 2531/2588 [4:09:04<18:15, 19.22s/product]"
     ]
    },
    {
     "name": "stdout",
     "output_type": "stream",
     "text": [
      "Error fetching supplier for SKU 1282962003 after 5 retries: HTTPSConnectionPool(host='www2.hm.com', port=443): Max retries exceeded with url: /sv_se/supplierDetails/articles/1282962003 (Caused by ResponseError('too many 400 error responses'))\n"
     ]
    },
    {
     "name": "stderr",
     "output_type": "stream",
     "text": [
      "Fetching Supplier Details:  98%|███████████████████████████████████████████ | 2532/2588 [4:09:24<18:08, 19.43s/product]"
     ]
    },
    {
     "name": "stdout",
     "output_type": "stream",
     "text": [
      "Error fetching supplier for SKU 0494713133 after 5 retries: HTTPSConnectionPool(host='www2.hm.com', port=443): Max retries exceeded with url: /sv_se/supplierDetails/articles/0494713133 (Caused by ResponseError('too many 400 error responses'))\n"
     ]
    },
    {
     "name": "stderr",
     "output_type": "stream",
     "text": [
      "Fetching Supplier Details:  98%|███████████████████████████████████████████ | 2533/2588 [4:09:42<17:26, 19.03s/product]"
     ]
    },
    {
     "name": "stdout",
     "output_type": "stream",
     "text": [
      "Error fetching supplier for SKU 1288665002 after 5 retries: HTTPSConnectionPool(host='www2.hm.com', port=443): Max retries exceeded with url: /sv_se/supplierDetails/articles/1288665002 (Caused by ResponseError('too many 400 error responses'))\n"
     ]
    },
    {
     "name": "stderr",
     "output_type": "stream",
     "text": [
      "Fetching Supplier Details:  98%|███████████████████████████████████████████ | 2534/2588 [4:10:00<16:49, 18.70s/product]"
     ]
    },
    {
     "name": "stdout",
     "output_type": "stream",
     "text": [
      "Error fetching supplier for SKU 1252052005 after 5 retries: HTTPSConnectionPool(host='www2.hm.com', port=443): Max retries exceeded with url: /sv_se/supplierDetails/articles/1252052005 (Caused by ResponseError('too many 400 error responses'))\n"
     ]
    },
    {
     "name": "stderr",
     "output_type": "stream",
     "text": [
      "Fetching Supplier Details:  98%|███████████████████████████████████████████ | 2535/2588 [4:10:18<16:16, 18.43s/product]"
     ]
    },
    {
     "name": "stdout",
     "output_type": "stream",
     "text": [
      "Error fetching supplier for SKU 0527611100 after 5 retries: HTTPSConnectionPool(host='www2.hm.com', port=443): Max retries exceeded with url: /sv_se/supplierDetails/articles/0527611100 (Caused by ResponseError('too many 400 error responses'))\n"
     ]
    },
    {
     "name": "stderr",
     "output_type": "stream",
     "text": [
      "Fetching Supplier Details:  98%|███████████████████████████████████████████ | 2536/2588 [4:10:35<15:49, 18.26s/product]"
     ]
    },
    {
     "name": "stdout",
     "output_type": "stream",
     "text": [
      "Error fetching supplier for SKU 1272001002 after 5 retries: HTTPSConnectionPool(host='www2.hm.com', port=443): Max retries exceeded with url: /sv_se/supplierDetails/articles/1272001002 (Caused by ResponseError('too many 400 error responses'))\n"
     ]
    },
    {
     "name": "stderr",
     "output_type": "stream",
     "text": [
      "Fetching Supplier Details:  98%|███████████████████████████████████████████▏| 2537/2588 [4:10:58<16:38, 19.58s/product]"
     ]
    },
    {
     "name": "stdout",
     "output_type": "stream",
     "text": [
      "Error fetching supplier for SKU 1248995017 after 5 retries: HTTPSConnectionPool(host='www2.hm.com', port=443): Max retries exceeded with url: /sv_se/supplierDetails/articles/1248995017 (Caused by ProtocolError('Connection aborted.', ConnectionAbortedError(10053, 'An established connection was aborted by the software in your host machine', None, 10053, None)))\n"
     ]
    },
    {
     "name": "stderr",
     "output_type": "stream",
     "text": [
      "Fetching Supplier Details:  98%|███████████████████████████████████████████▏| 2538/2588 [4:11:27<18:31, 22.23s/product]"
     ]
    },
    {
     "name": "stdout",
     "output_type": "stream",
     "text": [
      "Error fetching supplier for SKU 0494713131 after 5 retries: HTTPSConnectionPool(host='www2.hm.com', port=443): Max retries exceeded with url: /sv_se/supplierDetails/articles/0494713131 (Caused by ResponseError('too many 400 error responses'))\n"
     ]
    },
    {
     "name": "stderr",
     "output_type": "stream",
     "text": [
      "Fetching Supplier Details:  98%|███████████████████████████████████████████▏| 2539/2588 [4:11:45<17:10, 21.03s/product]"
     ]
    },
    {
     "name": "stdout",
     "output_type": "stream",
     "text": [
      "Error fetching supplier for SKU 1151544005 after 5 retries: HTTPSConnectionPool(host='www2.hm.com', port=443): Max retries exceeded with url: /sv_se/supplierDetails/articles/1151544005 (Caused by ResponseError('too many 400 error responses'))\n"
     ]
    },
    {
     "name": "stderr",
     "output_type": "stream",
     "text": [
      "Fetching Supplier Details:  98%|███████████████████████████████████████████▏| 2540/2588 [4:12:08<17:21, 21.69s/product]"
     ]
    },
    {
     "name": "stdout",
     "output_type": "stream",
     "text": [
      "Error fetching supplier for SKU 1245709003 after 5 retries: HTTPSConnectionPool(host='www2.hm.com', port=443): Max retries exceeded with url: /sv_se/supplierDetails/articles/1245709003 (Caused by ResponseError('too many 400 error responses'))\n"
     ]
    },
    {
     "name": "stderr",
     "output_type": "stream",
     "text": [
      "Fetching Supplier Details:  98%|███████████████████████████████████████████▏| 2541/2588 [4:12:29<16:46, 21.41s/product]"
     ]
    },
    {
     "name": "stdout",
     "output_type": "stream",
     "text": [
      "Error fetching supplier for SKU 1229598012 after 5 retries: HTTPSConnectionPool(host='www2.hm.com', port=443): Max retries exceeded with url: /sv_se/supplierDetails/articles/1229598012 (Caused by ResponseError('too many 400 error responses'))\n"
     ]
    },
    {
     "name": "stderr",
     "output_type": "stream",
     "text": [
      "Fetching Supplier Details:  98%|███████████████████████████████████████████▏| 2542/2588 [4:12:47<15:41, 20.47s/product]"
     ]
    },
    {
     "name": "stdout",
     "output_type": "stream",
     "text": [
      "Error fetching supplier for SKU 0490418057 after 5 retries: HTTPSConnectionPool(host='www2.hm.com', port=443): Max retries exceeded with url: /sv_se/supplierDetails/articles/0490418057 (Caused by ResponseError('too many 400 error responses'))\n"
     ]
    },
    {
     "name": "stderr",
     "output_type": "stream",
     "text": [
      "Fetching Supplier Details:  98%|███████████████████████████████████████████▏| 2543/2588 [4:13:05<14:46, 19.69s/product]"
     ]
    },
    {
     "name": "stdout",
     "output_type": "stream",
     "text": [
      "Error fetching supplier for SKU 0527611096 after 5 retries: HTTPSConnectionPool(host='www2.hm.com', port=443): Max retries exceeded with url: /sv_se/supplierDetails/articles/0527611096 (Caused by ResponseError('too many 400 error responses'))\n"
     ]
    },
    {
     "name": "stderr",
     "output_type": "stream",
     "text": [
      "Fetching Supplier Details:  98%|███████████████████████████████████████████▎| 2544/2588 [4:13:23<14:01, 19.12s/product]"
     ]
    },
    {
     "name": "stdout",
     "output_type": "stream",
     "text": [
      "Error fetching supplier for SKU 0764938022 after 5 retries: HTTPSConnectionPool(host='www2.hm.com', port=443): Max retries exceeded with url: /sv_se/supplierDetails/articles/0764938022 (Caused by ResponseError('too many 400 error responses'))\n"
     ]
    },
    {
     "name": "stderr",
     "output_type": "stream",
     "text": [
      "Fetching Supplier Details:  98%|███████████████████████████████████████████▎| 2545/2588 [4:13:41<13:26, 18.76s/product]"
     ]
    },
    {
     "name": "stdout",
     "output_type": "stream",
     "text": [
      "Error fetching supplier for SKU 0764938028 after 5 retries: HTTPSConnectionPool(host='www2.hm.com', port=443): Max retries exceeded with url: /sv_se/supplierDetails/articles/0764938028 (Caused by ResponseError('too many 400 error responses'))\n"
     ]
    },
    {
     "name": "stderr",
     "output_type": "stream",
     "text": [
      "Fetching Supplier Details:  98%|███████████████████████████████████████████▎| 2546/2588 [4:13:59<12:57, 18.51s/product]"
     ]
    },
    {
     "name": "stdout",
     "output_type": "stream",
     "text": [
      "Error fetching supplier for SKU 0764938038 after 5 retries: HTTPSConnectionPool(host='www2.hm.com', port=443): Max retries exceeded with url: /sv_se/supplierDetails/articles/0764938038 (Caused by ResponseError('too many 400 error responses'))\n"
     ]
    },
    {
     "name": "stderr",
     "output_type": "stream",
     "text": [
      "Fetching Supplier Details:  98%|███████████████████████████████████████████▎| 2548/2588 [4:14:17<09:47, 14.68s/product]"
     ]
    },
    {
     "name": "stdout",
     "output_type": "stream",
     "text": [
      "Error fetching supplier for SKU 1182271005 after 5 retries: HTTPSConnectionPool(host='www2.hm.com', port=443): Max retries exceeded with url: /sv_se/supplierDetails/articles/1182271005 (Caused by ResponseError('too many 400 error responses'))\n"
     ]
    },
    {
     "name": "stderr",
     "output_type": "stream",
     "text": [
      "Fetching Supplier Details:  98%|███████████████████████████████████████████▎| 2549/2588 [4:14:37<10:29, 16.14s/product]"
     ]
    },
    {
     "name": "stdout",
     "output_type": "stream",
     "text": [
      "Error fetching supplier for SKU 1212317002 after 5 retries: HTTPSConnectionPool(host='www2.hm.com', port=443): Max retries exceeded with url: /sv_se/supplierDetails/articles/1212317002 (Caused by ProtocolError('Connection aborted.', ConnectionAbortedError(10053, 'An established connection was aborted by the software in your host machine', None, 10053, None)))\n"
     ]
    },
    {
     "name": "stderr",
     "output_type": "stream",
     "text": [
      "Fetching Supplier Details:  99%|███████████████████████████████████████████▎| 2550/2588 [4:14:55<10:36, 16.76s/product]"
     ]
    },
    {
     "name": "stdout",
     "output_type": "stream",
     "text": [
      "Error fetching supplier for SKU 1222658003 after 5 retries: HTTPSConnectionPool(host='www2.hm.com', port=443): Max retries exceeded with url: /sv_se/supplierDetails/articles/1222658003 (Caused by ResponseError('too many 400 error responses'))\n"
     ]
    },
    {
     "name": "stderr",
     "output_type": "stream",
     "text": [
      "Fetching Supplier Details:  99%|███████████████████████████████████████████▎| 2551/2588 [4:15:13<10:33, 17.11s/product]"
     ]
    },
    {
     "name": "stdout",
     "output_type": "stream",
     "text": [
      "Error fetching supplier for SKU 1227113001 after 5 retries: HTTPSConnectionPool(host='www2.hm.com', port=443): Max retries exceeded with url: /sv_se/supplierDetails/articles/1227113001 (Caused by ResponseError('too many 400 error responses'))\n"
     ]
    },
    {
     "name": "stderr",
     "output_type": "stream",
     "text": [
      "Fetching Supplier Details:  99%|███████████████████████████████████████████▍| 2552/2588 [4:15:31<10:23, 17.32s/product]"
     ]
    },
    {
     "name": "stdout",
     "output_type": "stream",
     "text": [
      "Error fetching supplier for SKU 1229297001 after 5 retries: HTTPSConnectionPool(host='www2.hm.com', port=443): Max retries exceeded with url: /sv_se/supplierDetails/articles/1229297001 (Caused by ResponseError('too many 400 error responses'))\n"
     ]
    },
    {
     "name": "stderr",
     "output_type": "stream",
     "text": [
      "Fetching Supplier Details:  99%|███████████████████████████████████████████▍| 2553/2588 [4:15:49<10:18, 17.67s/product]"
     ]
    },
    {
     "name": "stdout",
     "output_type": "stream",
     "text": [
      "Error fetching supplier for SKU 1229598002 after 5 retries: HTTPSConnectionPool(host='www2.hm.com', port=443): Max retries exceeded with url: /sv_se/supplierDetails/articles/1229598002 (Caused by ResponseError('too many 400 error responses'))\n"
     ]
    },
    {
     "name": "stderr",
     "output_type": "stream",
     "text": [
      "Fetching Supplier Details:  99%|███████████████████████████████████████████▍| 2554/2588 [4:16:07<10:02, 17.73s/product]"
     ]
    },
    {
     "name": "stdout",
     "output_type": "stream",
     "text": [
      "Error fetching supplier for SKU 1229598015 after 5 retries: HTTPSConnectionPool(host='www2.hm.com', port=443): Max retries exceeded with url: /sv_se/supplierDetails/articles/1229598015 (Caused by ResponseError('too many 400 error responses'))\n"
     ]
    },
    {
     "name": "stderr",
     "output_type": "stream",
     "text": [
      "Fetching Supplier Details:  99%|███████████████████████████████████████████▍| 2555/2588 [4:16:25<09:46, 17.77s/product]"
     ]
    },
    {
     "name": "stdout",
     "output_type": "stream",
     "text": [
      "Error fetching supplier for SKU 1246815001 after 5 retries: HTTPSConnectionPool(host='www2.hm.com', port=443): Max retries exceeded with url: /sv_se/supplierDetails/articles/1246815001 (Caused by ResponseError('too many 400 error responses'))\n"
     ]
    },
    {
     "name": "stderr",
     "output_type": "stream",
     "text": [
      "Fetching Supplier Details:  99%|███████████████████████████████████████████▍| 2556/2588 [4:16:43<09:29, 17.81s/product]"
     ]
    },
    {
     "name": "stdout",
     "output_type": "stream",
     "text": [
      "Error fetching supplier for SKU 1256964005 after 5 retries: HTTPSConnectionPool(host='www2.hm.com', port=443): Max retries exceeded with url: /sv_se/supplierDetails/articles/1256964005 (Caused by ResponseError('too many 400 error responses'))\n"
     ]
    },
    {
     "name": "stderr",
     "output_type": "stream",
     "text": [
      "Fetching Supplier Details:  99%|███████████████████████████████████████████▍| 2557/2588 [4:17:01<09:14, 17.89s/product]"
     ]
    },
    {
     "name": "stdout",
     "output_type": "stream",
     "text": [
      "Error fetching supplier for SKU 1260774001 after 5 retries: HTTPSConnectionPool(host='www2.hm.com', port=443): Max retries exceeded with url: /sv_se/supplierDetails/articles/1260774001 (Caused by ResponseError('too many 400 error responses'))\n"
     ]
    },
    {
     "name": "stderr",
     "output_type": "stream",
     "text": [
      "Fetching Supplier Details:  99%|███████████████████████████████████████████▍| 2558/2588 [4:17:19<08:57, 17.92s/product]"
     ]
    },
    {
     "name": "stdout",
     "output_type": "stream",
     "text": [
      "Error fetching supplier for SKU 1261873001 after 5 retries: HTTPSConnectionPool(host='www2.hm.com', port=443): Max retries exceeded with url: /sv_se/supplierDetails/articles/1261873001 (Caused by ResponseError('too many 400 error responses'))\n"
     ]
    },
    {
     "name": "stderr",
     "output_type": "stream",
     "text": [
      "Fetching Supplier Details:  99%|███████████████████████████████████████████▌| 2559/2588 [4:17:37<08:39, 17.90s/product]"
     ]
    },
    {
     "name": "stdout",
     "output_type": "stream",
     "text": [
      "Error fetching supplier for SKU 1267174001 after 5 retries: HTTPSConnectionPool(host='www2.hm.com', port=443): Max retries exceeded with url: /sv_se/supplierDetails/articles/1267174001 (Caused by ResponseError('too many 400 error responses'))\n"
     ]
    },
    {
     "name": "stderr",
     "output_type": "stream",
     "text": [
      "Fetching Supplier Details:  99%|███████████████████████████████████████████▌| 2560/2588 [4:17:55<08:24, 18.03s/product]"
     ]
    },
    {
     "name": "stdout",
     "output_type": "stream",
     "text": [
      "Error fetching supplier for SKU 1267177001 after 5 retries: HTTPSConnectionPool(host='www2.hm.com', port=443): Max retries exceeded with url: /sv_se/supplierDetails/articles/1267177001 (Caused by ResponseError('too many 400 error responses'))\n"
     ]
    },
    {
     "name": "stderr",
     "output_type": "stream",
     "text": [
      "Fetching Supplier Details:  99%|███████████████████████████████████████████▌| 2561/2588 [4:18:13<08:06, 18.03s/product]"
     ]
    },
    {
     "name": "stdout",
     "output_type": "stream",
     "text": [
      "Error fetching supplier for SKU 1276796001 after 5 retries: HTTPSConnectionPool(host='www2.hm.com', port=443): Max retries exceeded with url: /sv_se/supplierDetails/articles/1276796001 (Caused by ResponseError('too many 400 error responses'))\n"
     ]
    },
    {
     "name": "stderr",
     "output_type": "stream",
     "text": [
      "Fetching Supplier Details:  99%|███████████████████████████████████████████▌| 2562/2588 [4:18:32<07:50, 18.08s/product]"
     ]
    },
    {
     "name": "stdout",
     "output_type": "stream",
     "text": [
      "Error fetching supplier for SKU 1196158001 after 5 retries: HTTPSConnectionPool(host='www2.hm.com', port=443): Max retries exceeded with url: /sv_se/supplierDetails/articles/1196158001 (Caused by ResponseError('too many 400 error responses'))\n"
     ]
    },
    {
     "name": "stderr",
     "output_type": "stream",
     "text": [
      "Fetching Supplier Details:  99%|███████████████████████████████████████████▌| 2563/2588 [4:18:49<07:31, 18.04s/product]"
     ]
    },
    {
     "name": "stdout",
     "output_type": "stream",
     "text": [
      "Error fetching supplier for SKU 1276421001 after 5 retries: HTTPSConnectionPool(host='www2.hm.com', port=443): Max retries exceeded with url: /sv_se/supplierDetails/articles/1276421001 (Caused by ResponseError('too many 400 error responses'))\n"
     ]
    },
    {
     "name": "stderr",
     "output_type": "stream",
     "text": [
      "Fetching Supplier Details:  99%|███████████████████████████████████████████▌| 2564/2588 [4:19:08<07:14, 18.09s/product]"
     ]
    },
    {
     "name": "stdout",
     "output_type": "stream",
     "text": [
      "Error fetching supplier for SKU 1173274001 after 5 retries: HTTPSConnectionPool(host='www2.hm.com', port=443): Max retries exceeded with url: /sv_se/supplierDetails/articles/1173274001 (Caused by ResponseError('too many 400 error responses'))\n"
     ]
    },
    {
     "name": "stderr",
     "output_type": "stream",
     "text": [
      "Fetching Supplier Details:  99%|███████████████████████████████████████████▌| 2565/2588 [4:19:26<06:55, 18.06s/product]"
     ]
    },
    {
     "name": "stdout",
     "output_type": "stream",
     "text": [
      "Error fetching supplier for SKU 1173283001 after 5 retries: HTTPSConnectionPool(host='www2.hm.com', port=443): Max retries exceeded with url: /sv_se/supplierDetails/articles/1173283001 (Caused by ResponseError('too many 400 error responses'))\n"
     ]
    },
    {
     "name": "stderr",
     "output_type": "stream",
     "text": [
      "Fetching Supplier Details:  99%|███████████████████████████████████████████▋| 2566/2588 [4:19:44<06:36, 18.01s/product]"
     ]
    },
    {
     "name": "stdout",
     "output_type": "stream",
     "text": [
      "Error fetching supplier for SKU 1250968001 after 5 retries: HTTPSConnectionPool(host='www2.hm.com', port=443): Max retries exceeded with url: /sv_se/supplierDetails/articles/1250968001 (Caused by ResponseError('too many 400 error responses'))\n"
     ]
    },
    {
     "name": "stderr",
     "output_type": "stream",
     "text": [
      "Fetching Supplier Details:  99%|███████████████████████████████████████████▋| 2567/2588 [4:20:02<06:18, 18.01s/product]"
     ]
    },
    {
     "name": "stdout",
     "output_type": "stream",
     "text": [
      "Error fetching supplier for SKU 0986471010 after 5 retries: HTTPSConnectionPool(host='www2.hm.com', port=443): Max retries exceeded with url: /sv_se/supplierDetails/articles/0986471010 (Caused by ResponseError('too many 400 error responses'))\n"
     ]
    },
    {
     "name": "stderr",
     "output_type": "stream",
     "text": [
      "Fetching Supplier Details:  99%|███████████████████████████████████████████▋| 2568/2588 [4:20:19<05:59, 17.99s/product]"
     ]
    },
    {
     "name": "stdout",
     "output_type": "stream",
     "text": [
      "Error fetching supplier for SKU 1294695006 after 5 retries: HTTPSConnectionPool(host='www2.hm.com', port=443): Max retries exceeded with url: /sv_se/supplierDetails/articles/1294695006 (Caused by ResponseError('too many 400 error responses'))\n"
     ]
    },
    {
     "name": "stderr",
     "output_type": "stream",
     "text": [
      "Fetching Supplier Details:  99%|███████████████████████████████████████████▋| 2569/2588 [4:20:37<05:40, 17.94s/product]"
     ]
    },
    {
     "name": "stdout",
     "output_type": "stream",
     "text": [
      "Error fetching supplier for SKU 1270617001 after 5 retries: HTTPSConnectionPool(host='www2.hm.com', port=443): Max retries exceeded with url: /sv_se/supplierDetails/articles/1270617001 (Caused by ResponseError('too many 400 error responses'))\n"
     ]
    },
    {
     "name": "stderr",
     "output_type": "stream",
     "text": [
      "Fetching Supplier Details:  99%|███████████████████████████████████████████▋| 2570/2588 [4:20:55<05:22, 17.91s/product]"
     ]
    },
    {
     "name": "stdout",
     "output_type": "stream",
     "text": [
      "Error fetching supplier for SKU 1270617002 after 5 retries: HTTPSConnectionPool(host='www2.hm.com', port=443): Max retries exceeded with url: /sv_se/supplierDetails/articles/1270617002 (Caused by ResponseError('too many 400 error responses'))\n"
     ]
    },
    {
     "name": "stderr",
     "output_type": "stream",
     "text": [
      "Fetching Supplier Details:  99%|███████████████████████████████████████████▋| 2571/2588 [4:21:13<05:06, 18.02s/product]"
     ]
    },
    {
     "name": "stdout",
     "output_type": "stream",
     "text": [
      "Error fetching supplier for SKU 1270613003 after 5 retries: HTTPSConnectionPool(host='www2.hm.com', port=443): Max retries exceeded with url: /sv_se/supplierDetails/articles/1270613003 (Caused by ResponseError('too many 400 error responses'))\n"
     ]
    },
    {
     "name": "stderr",
     "output_type": "stream",
     "text": [
      "Fetching Supplier Details:  99%|███████████████████████████████████████████▋| 2572/2588 [4:21:31<04:48, 18.03s/product]"
     ]
    },
    {
     "name": "stdout",
     "output_type": "stream",
     "text": [
      "Error fetching supplier for SKU 1273324005 after 5 retries: HTTPSConnectionPool(host='www2.hm.com', port=443): Max retries exceeded with url: /sv_se/supplierDetails/articles/1273324005 (Caused by ResponseError('too many 400 error responses'))\n"
     ]
    },
    {
     "name": "stderr",
     "output_type": "stream",
     "text": [
      "Fetching Supplier Details:  99%|███████████████████████████████████████████▋| 2573/2588 [4:21:50<04:31, 18.09s/product]"
     ]
    },
    {
     "name": "stdout",
     "output_type": "stream",
     "text": [
      "Error fetching supplier for SKU 1268001002 after 5 retries: HTTPSConnectionPool(host='www2.hm.com', port=443): Max retries exceeded with url: /sv_se/supplierDetails/articles/1268001002 (Caused by ResponseError('too many 400 error responses'))\n"
     ]
    },
    {
     "name": "stderr",
     "output_type": "stream",
     "text": [
      "Fetching Supplier Details:  99%|███████████████████████████████████████████▊| 2574/2588 [4:22:08<04:13, 18.10s/product]"
     ]
    },
    {
     "name": "stdout",
     "output_type": "stream",
     "text": [
      "Error fetching supplier for SKU 0989216030 after 5 retries: HTTPSConnectionPool(host='www2.hm.com', port=443): Max retries exceeded with url: /sv_se/supplierDetails/articles/0989216030 (Caused by ResponseError('too many 400 error responses'))\n"
     ]
    },
    {
     "name": "stderr",
     "output_type": "stream",
     "text": [
      "Fetching Supplier Details:  99%|███████████████████████████████████████████▊| 2575/2588 [4:22:26<03:54, 18.06s/product]"
     ]
    },
    {
     "name": "stdout",
     "output_type": "stream",
     "text": [
      "Error fetching supplier for SKU 1215076002 after 5 retries: HTTPSConnectionPool(host='www2.hm.com', port=443): Max retries exceeded with url: /sv_se/supplierDetails/articles/1215076002 (Caused by ResponseError('too many 400 error responses'))\n"
     ]
    },
    {
     "name": "stderr",
     "output_type": "stream",
     "text": [
      "Fetching Supplier Details: 100%|███████████████████████████████████████████▊| 2576/2588 [4:22:44<03:36, 18.01s/product]"
     ]
    },
    {
     "name": "stdout",
     "output_type": "stream",
     "text": [
      "Error fetching supplier for SKU 1240487001 after 5 retries: HTTPSConnectionPool(host='www2.hm.com', port=443): Max retries exceeded with url: /sv_se/supplierDetails/articles/1240487001 (Caused by ResponseError('too many 400 error responses'))\n"
     ]
    },
    {
     "name": "stderr",
     "output_type": "stream",
     "text": [
      "Fetching Supplier Details: 100%|███████████████████████████████████████████▊| 2577/2588 [4:23:02<03:17, 17.98s/product]"
     ]
    },
    {
     "name": "stdout",
     "output_type": "stream",
     "text": [
      "Error fetching supplier for SKU 1244163001 after 5 retries: HTTPSConnectionPool(host='www2.hm.com', port=443): Max retries exceeded with url: /sv_se/supplierDetails/articles/1244163001 (Caused by ResponseError('too many 400 error responses'))\n"
     ]
    },
    {
     "name": "stderr",
     "output_type": "stream",
     "text": [
      "Fetching Supplier Details: 100%|███████████████████████████████████████████▊| 2578/2588 [4:23:20<02:59, 17.97s/product]"
     ]
    },
    {
     "name": "stdout",
     "output_type": "stream",
     "text": [
      "Error fetching supplier for SKU 1267408001 after 5 retries: HTTPSConnectionPool(host='www2.hm.com', port=443): Max retries exceeded with url: /sv_se/supplierDetails/articles/1267408001 (Caused by ResponseError('too many 400 error responses'))\n"
     ]
    },
    {
     "name": "stderr",
     "output_type": "stream",
     "text": [
      "Fetching Supplier Details: 100%|███████████████████████████████████████████▊| 2579/2588 [4:23:38<02:42, 18.01s/product]"
     ]
    },
    {
     "name": "stdout",
     "output_type": "stream",
     "text": [
      "Error fetching supplier for SKU 1271171001 after 5 retries: HTTPSConnectionPool(host='www2.hm.com', port=443): Max retries exceeded with url: /sv_se/supplierDetails/articles/1271171001 (Caused by ResponseError('too many 400 error responses'))\n"
     ]
    },
    {
     "name": "stderr",
     "output_type": "stream",
     "text": [
      "Fetching Supplier Details: 100%|███████████████████████████████████████████▊| 2580/2588 [4:23:56<02:24, 18.02s/product]"
     ]
    },
    {
     "name": "stdout",
     "output_type": "stream",
     "text": [
      "Error fetching supplier for SKU 1285394001 after 5 retries: HTTPSConnectionPool(host='www2.hm.com', port=443): Max retries exceeded with url: /sv_se/supplierDetails/articles/1285394001 (Caused by ResponseError('too many 400 error responses'))\n"
     ]
    },
    {
     "name": "stderr",
     "output_type": "stream",
     "text": [
      "Fetching Supplier Details: 100%|███████████████████████████████████████████▉| 2581/2588 [4:24:25<02:28, 21.26s/product]"
     ]
    },
    {
     "name": "stdout",
     "output_type": "stream",
     "text": [
      "Error fetching supplier for SKU 1069657015 after 5 retries: HTTPSConnectionPool(host='www2.hm.com', port=443): Max retries exceeded with url: /sv_se/supplierDetails/articles/1069657015 (Caused by ResponseError('too many 400 error responses'))\n"
     ]
    },
    {
     "name": "stderr",
     "output_type": "stream",
     "text": [
      "Fetching Supplier Details: 100%|███████████████████████████████████████████▉| 2582/2588 [4:24:45<02:05, 20.89s/product]"
     ]
    },
    {
     "name": "stdout",
     "output_type": "stream",
     "text": [
      "Error fetching supplier for SKU 0710956011 after 5 retries: HTTPSConnectionPool(host='www2.hm.com', port=443): Max retries exceeded with url: /sv_se/supplierDetails/articles/0710956011 (Caused by ResponseError('too many 400 error responses'))\n"
     ]
    },
    {
     "name": "stderr",
     "output_type": "stream",
     "text": [
      "Fetching Supplier Details: 100%|███████████████████████████████████████████▉| 2583/2588 [4:25:04<01:41, 20.40s/product]"
     ]
    },
    {
     "name": "stdout",
     "output_type": "stream",
     "text": [
      "Error fetching supplier for SKU 1000960034 after 5 retries: HTTPSConnectionPool(host='www2.hm.com', port=443): Max retries exceeded with url: /sv_se/supplierDetails/articles/1000960034 (Caused by ResponseError('too many 400 error responses'))\n"
     ]
    },
    {
     "name": "stderr",
     "output_type": "stream",
     "text": [
      "Fetching Supplier Details: 100%|███████████████████████████████████████████▉| 2584/2588 [4:25:24<01:20, 20.21s/product]"
     ]
    },
    {
     "name": "stdout",
     "output_type": "stream",
     "text": [
      "Error fetching supplier for SKU 1121112008 after 5 retries: HTTPSConnectionPool(host='www2.hm.com', port=443): Max retries exceeded with url: /sv_se/supplierDetails/articles/1121112008 (Caused by ResponseError('too many 400 error responses'))\n"
     ]
    },
    {
     "name": "stderr",
     "output_type": "stream",
     "text": [
      "Fetching Supplier Details: 100%|███████████████████████████████████████████▉| 2585/2588 [4:25:50<01:05, 21.95s/product]"
     ]
    },
    {
     "name": "stdout",
     "output_type": "stream",
     "text": [
      "Error fetching supplier for SKU 0987688002 after 5 retries: HTTPSConnectionPool(host='www2.hm.com', port=443): Max retries exceeded with url: /sv_se/supplierDetails/articles/0987688002 (Caused by ResponseError('too many 400 error responses'))\n"
     ]
    },
    {
     "name": "stderr",
     "output_type": "stream",
     "text": [
      "Fetching Supplier Details: 100%|███████████████████████████████████████████▉| 2587/2588 [4:26:08<00:16, 16.28s/product]"
     ]
    },
    {
     "name": "stdout",
     "output_type": "stream",
     "text": [
      "Error fetching supplier for SKU 0687336001 after 5 retries: HTTPSConnectionPool(host='www2.hm.com', port=443): Max retries exceeded with url: /sv_se/supplierDetails/articles/0687336001 (Caused by ResponseError('too many 400 error responses'))\n"
     ]
    },
    {
     "name": "stderr",
     "output_type": "stream",
     "text": [
      "Fetching Supplier Details: 100%|████████████████████████████████████████████| 2588/2588 [4:26:27<00:00,  6.18s/product]"
     ]
    },
    {
     "name": "stdout",
     "output_type": "stream",
     "text": [
      "Error fetching supplier for SKU 0490418001 after 5 retries: HTTPSConnectionPool(host='www2.hm.com', port=443): Max retries exceeded with url: /sv_se/supplierDetails/articles/0490418001 (Caused by ResponseError('too many 400 error responses'))\n",
      "\n",
      "Sample data:\n",
      "           id         sku                                name brandName  \\\n",
      "0  1286182003  1286182003  Resortskjorta i linmix Regular Fit       H&M   \n",
      "1  1286183003  1286183003         Stickad T-shirt Regular Fit       H&M   \n",
      "2  1286182002  1286182002  Resortskjorta i linmix Regular Fit       H&M   \n",
      "3  1286182001  1286182001  Resortskjorta i linmix Regular Fit       H&M   \n",
      "4  1253401001  1253401001           Byxa i linmix Regular Fit       H&M   \n",
      "\n",
      "                                  url  \\\n",
      "0  /sv_se/productpage.1286182003.html   \n",
      "1  /sv_se/productpage.1286183003.html   \n",
      "2  /sv_se/productpage.1286182002.html   \n",
      "3  /sv_se/productpage.1286182001.html   \n",
      "4  /sv_se/productpage.1253401001.html   \n",
      "\n",
      "                                       canonical_url  final_price_value  \\\n",
      "0  https://www2.hm.com/sv_se/productpage.12861820...              399.0   \n",
      "1  https://www2.hm.com/sv_se/productpage.12861830...              349.0   \n",
      "2  https://www2.hm.com/sv_se/productpage.12861820...              399.0   \n",
      "3  https://www2.hm.com/sv_se/productpage.12861820...              399.0   \n",
      "4  https://www2.hm.com/sv_se/productpage.12534010...              399.0   \n",
      "\n",
      "  final_price_currency  regular_price_value regular_price_currency  ...  \\\n",
      "0                 None                399.0                   None  ...   \n",
      "1                 None                349.0                   None  ...   \n",
      "2                 None                399.0                   None  ...   \n",
      "3                 None                399.0                   None  ...   \n",
      "4                 None                399.0                   None  ...   \n",
      "\n",
      "   sellingAttribute  newArrival isSale  \\\n",
      "0       New Arrival        True  False   \n",
      "1       New Arrival        True  False   \n",
      "2       New Arrival        True  False   \n",
      "3       New Arrival        True  False   \n",
      "4              None       False  False   \n",
      "\n",
      "                                          modelImage  colors supplier_country  \\\n",
      "0  https://image.hm.com/assets/hm/86/3d/863d5017d...  726A5D             Kina   \n",
      "1  https://image.hm.com/assets/hm/c3/a5/c3a51417e...  726A5D             Kina   \n",
      "2  https://image.hm.com/assets/hm/50/a3/50a31a1f8...  8D8C81             Kina   \n",
      "3  https://image.hm.com/assets/hm/fa/d6/fad6eddcf...  F1EEE6             Kina   \n",
      "4  https://image.hm.com/assets/hm/de/bd/debde7ca6...  EFEFDF       Bangladesh   \n",
      "\n",
      "                                     supplier_name  \\\n",
      "0  Jiangsu Century Liaoyuan Knitted Wear Co., Ltd.   \n",
      "1  Jiangsu Century Liaoyuan Knitted Wear Co., Ltd.   \n",
      "2                    SUZHOU WANLI KNITTING CO.,LTD   \n",
      "3  Jiangsu Century Liaoyuan Knitted Wear Co., Ltd.   \n",
      "4                             ANANTA GARMENTS LTD.   \n",
      "\n",
      "                                    factory_name  \\\n",
      "0  Jiangsu Century Liaoyuan Knitted Wear Co.Ltd.   \n",
      "1  Jiangsu Century Liaoyuan Knitted Wear Co.Ltd.   \n",
      "2                   JUYE WANLI GARMENT CO., LTD.   \n",
      "3  Jiangsu Century Liaoyuan Knitted Wear Co.Ltd.   \n",
      "4                               ABM Fashions Ltd   \n",
      "\n",
      "                                     factory_address factory_workers_number  \n",
      "0  No.168 Fangquan Road,, Juegang Town,, Rudong C...                101-500  \n",
      "1  No.168 Fangquan Road,, Juegang Town,, Rudong C...                101-500  \n",
      "2  North of Wanliu Road, 3 kilometers from West W...              1001-1500  \n",
      "3  No.168 Fangquan Road,, Juegang Town,, Rudong C...                101-500  \n",
      "4  Holding No - 1143 & 1145, Konabari, Kashimpur ...              2001-2500  \n",
      "\n",
      "[5 rows x 29 columns]\n",
      "\n",
      "DataFrame columns:\n",
      "Index(['id', 'sku', 'name', 'brandName', 'url', 'canonical_url',\n",
      "       'final_price_value', 'final_price_currency', 'regular_price_value',\n",
      "       'regular_price_currency', 'in_stock', 'coming_soon', 'all_image_data',\n",
      "       'swatch_data', 'colorName_main', 'colorCode_main', 'colourShades',\n",
      "       'available_sizes', 'mainCatCode', 'sellingAttribute', 'newArrival',\n",
      "       'isSale', 'modelImage', 'colors', 'supplier_country', 'supplier_name',\n",
      "       'factory_name', 'factory_address', 'factory_workers_number'],\n",
      "      dtype='object')\n",
      "HnM_CLOTHING_MEN_SWEDEN_020725.csv. Total products with data: 2588\n"
     ]
    },
    {
     "name": "stderr",
     "output_type": "stream",
     "text": [
      "\n"
     ]
    }
   ],
   "source": [
    "\n",
    "# API calls\n",
    "headers = {\n",
    "    'accept': 'application/json',\n",
    "    'accept-language': 'en-GB,en-US;q=0.9,en;q=0.8,id;q=0.7,ms;q=0.6',\n",
    "    'cache-control': 'no-cache',\n",
    "    'origin': 'https://www2.hm.com',\n",
    "    'pragma': 'no-cache',\n",
    "    'priority': 'u=1, i',\n",
    "    'referer': 'https://www2.hm.com/',\n",
    "    'sec-ch-ua': '\"Google Chrome\";v=\"137\", \"Chromium\";v=\"137\", \"Not/A)Brand\";v=\"24\"',\n",
    "    'sec-ch-ua-mobile': '?0',\n",
    "    'sec-ch-ua-platform': '\"Windows\"',\n",
    "    'sec-fetch-dest': 'empty',\n",
    "    'sec-fetch-mode': 'cors',\n",
    "    'sec-fetch-site': 'same-site',\n",
    "    'user-agent': 'Mozilla/5.0 (Windows NT 10.0; Win64; x64) AppleWebKit/537.36 (KHTML, like Gecko) Chrome/137.0.0.0 Safari/537.36',\n",
    "    'x-customer-key': 'd150a6cc-6e04-4804-8447-3ab67460a1d9',\n",
    "    'x-session-key': 'd150a6cc-6e04-4804-8447-3ab67460a1d9',\n",
    "}\n",
    "\n",
    "# Base URL\n",
    "product_list_base_url = 'https://api.hm.com/search-services/v1/sv_se/listing/resultpage'\n",
    "\n",
    "# Base URL supplier details GET request\n",
    "supplier_detail_base_url = 'https://www2.hm.com/sv_se/supplierDetails/articles/'\n",
    "\n",
    "# Base parameters\n",
    "base_params = {\n",
    "    'pageSource': 'PLP',\n",
    "    'page': 1, \n",
    "    'sort': 'RELEVANCE',\n",
    "    'pageId': '/men/shop-by-product/view-all',\n",
    "    'page-size': 36,\n",
    "    'categoryId': 'men_viewall',\n",
    "    'filters': 'sale:false||oldSale:false',\n",
    "    'touchPoint': 'DESKTOP',\n",
    "    'skipStockCheck': 'false',\n",
    "}\n",
    "\n",
    "# Max retries for a request\n",
    "RETRY_MAX = 5\n",
    "# Status codes to retry on (400 Client Error, 5xx Server Errors, etc)\n",
    "RETRY_STATUS_FORCELIST = [400, 401, 403, 404, 408, 429, 500, 502, 503, 504]\n",
    "RETRY_BACKOFF_FACTOR = 0.5 # 0.5, 1, 2, 4, 8 seconds\n",
    "\n",
    "session = requests.Session()\n",
    "retries = Retry(total=RETRY_MAX,\n",
    "                backoff_factor=RETRY_BACKOFF_FACTOR,\n",
    "                status_forcelist=RETRY_STATUS_FORCELIST,\n",
    "                allowed_methods=frozenset(['GET', 'POST']))\n",
    "\n",
    "session.mount('http://', HTTPAdapter(max_retries=retries))\n",
    "session.mount('https://', HTTPAdapter(max_retries=retries))\n",
    "\n",
    "\n",
    "# --- Product Listing Scraping Loop ---\n",
    "all_products_raw = []\n",
    "current_page = 1\n",
    "total_pages = 1 \n",
    "\n",
    "while current_page <= total_pages:\n",
    "    print(f\"Scraping product listing page {current_page}...\")\n",
    "\n",
    "    request_params = base_params.copy()\n",
    "    request_params['page'] = current_page\n",
    "\n",
    "    try:\n",
    "        # Use session.get() instead of requests.get() to utilize retry logic\n",
    "        response = session.get(product_list_base_url, headers=headers, params=request_params)\n",
    "        response.raise_for_status() \n",
    "        data = response.json()\n",
    "\n",
    "        if current_page == 1:\n",
    "            print(\"\\n--- FIRST PRODUCT LISTING PAGE RAW JSON RESPONSE (for debugging) ---\")\n",
    "            print(json.dumps(data, indent=2)[:2000])\n",
    "            print(\"--------------------------------------------------------------------\\n\")\n",
    "\n",
    "        total_count_found = data.get('totalResultCount', 0)\n",
    "        pagination_info = data.get('pagination', {})\n",
    "        total_pages_found = pagination_info.get('totalPages', current_page)\n",
    "        \n",
    "        products_on_page = data.get('plpList', {}).get('productList', []) \n",
    "        \n",
    "        if current_page == 1:\n",
    "            total_count = total_count_found\n",
    "            total_pages = total_pages_found\n",
    "            if total_count == 0 and total_pages > 0 and len(products_on_page) > 0:\n",
    "                 total_count = total_pages * base_params['page-size']\n",
    "            \n",
    "            print(f\"Total products (extracted, potentially estimated): {total_count}, Total pages (extracted): {total_pages}\")\n",
    "            \n",
    "            if not products_on_page and total_count > 0:\n",
    "                print(\"Warning: API returned total products > 0 but no items found on this page via 'plpList.productList'. Exiting.\")\n",
    "                break \n",
    "\n",
    "        all_products_raw.extend(products_on_page)\n",
    "\n",
    "        current_page += 1\n",
    "        time.sleep(0.5)\n",
    "        if current_page > total_pages:\n",
    "            break\n",
    "\n",
    "    except requests.exceptions.RequestException as e:\n",
    "        print(f\"Error during product listing request on page {current_page}: {e}\")\n",
    "        break \n",
    "    except json.JSONDecodeError:\n",
    "        print(f\"Error decoding JSON response on page {current_page}. Response content: {response.text[:500]}...\")\n",
    "        break\n",
    "    except KeyError as e:\n",
    "        print(f\"Key error in product listing response on page {current_page}: {e}. Response JSON: {json.dumps(data, indent=2)[:500]}...\")\n",
    "        break\n",
    "\n",
    "print(f\"Finished scraping {len(all_products_raw)} raw product entries.\")\n",
    "\n",
    "# Data Flattening \n",
    "flattened_products = []\n",
    "for i, item in enumerate(tqdm(all_products_raw, desc=\"Fetching Supplier Details\", unit=\"product\")):\n",
    "    product_info = {}\n",
    "\n",
    "    product_info['id'] = item.get('id') \n",
    "    product_info['sku'] = item.get('articleId') \n",
    "    if not product_info['sku']:\n",
    "        product_info['sku'] = item.get('id')\n",
    "        \n",
    "    product_info['name'] = item.get('productName') \n",
    "    product_info['brandName'] = item.get('brandName') \n",
    "    product_info['url'] = item.get('url') \n",
    "    product_info['canonical_url'] = f\"https://www2.hm.com{item.get('url')}\" if item.get('url') else None\n",
    "\n",
    "    prices_list = item.get('prices', [])\n",
    "    if prices_list:\n",
    "        main_price = prices_list[0]\n",
    "        product_info['final_price_value'] = main_price.get('price')\n",
    "        formatted_price = main_price.get('formattedPrice', '')\n",
    "        if formatted_price:\n",
    "            currency_match = re.match(r'^\\W+', formatted_price)\n",
    "            product_info['final_price_currency'] = currency_match.group(0).strip() if currency_match else None\n",
    "        else:\n",
    "            product_info['final_price_currency'] = None\n",
    "\n",
    "        product_info['regular_price_value'] = main_price.get('price')\n",
    "        product_info['regular_price_currency'] = product_info['final_price_currency']\n",
    "\n",
    "    availability_info = item.get('availability', {})\n",
    "    product_info['in_stock'] = availability_info.get('stockState') == 'Available'\n",
    "    product_info['coming_soon'] = availability_info.get('comingSoon')\n",
    "\n",
    "    images_list = item.get('images', [])\n",
    "    image_urls_parsed = [{'url': img.get('url')} for img in images_list]\n",
    "    product_info['all_image_data'] = json.dumps(image_urls_parsed)\n",
    "\n",
    "    swatches_list = item.get('swatches', [])\n",
    "    swatch_data = []\n",
    "    for swatch in swatches_list:\n",
    "        swatch_data.append({\n",
    "            'articleId': swatch.get('articleId'),\n",
    "            'url': f\"https://www2.hm.com{swatch.get('url')}\" if swatch.get('url') else None,\n",
    "            'colorName': swatch.get('colorName'),\n",
    "            'colorCode': swatch.get('colorCode'),\n",
    "            'productImage': swatch.get('productImage')\n",
    "        })\n",
    "    product_info['swatch_data'] = json.dumps(swatch_data)\n",
    "    \n",
    "    product_info['colorName_main'] = item.get('colorName')\n",
    "    product_info['colorCode_main'] = item.get('colorCode')\n",
    "    product_info['colourShades'] = item.get('colourShades')\n",
    "\n",
    "    sizes_list = item.get('sizes', [])\n",
    "    size_data = [{'id': size.get('id'), 'label': size.get('label')} for size in sizes_list]\n",
    "    product_info['available_sizes'] = json.dumps(size_data)\n",
    "\n",
    "    product_info['mainCatCode'] = item.get('mainCatCode')\n",
    "    product_info['sellingAttribute'] = item.get('sellingAttribute')\n",
    "    product_info['newArrival'] = item.get('newArrival')\n",
    "    product_info['isSale'] = item.get('isSale', False)\n",
    "    product_info['modelImage'] = item.get('modelImage')\n",
    "    product_info['colors'] = item.get('colors')\n",
    "\n",
    "    # Supplier Details\n",
    "    supplier_country = None\n",
    "    supplier_name = None\n",
    "    factory_name = None\n",
    "    factory_address = None\n",
    "    workers_number = None\n",
    "\n",
    "    if product_info['sku']: \n",
    "        supplier_detail_url = f\"{supplier_detail_base_url}{product_info['sku']}\"\n",
    "        try:\n",
    "            supplier_response = session.get(supplier_detail_url, headers=headers)\n",
    "            supplier_response.raise_for_status() \n",
    "            supplier_data = supplier_response.json()\n",
    "\n",
    "            countries = supplier_data.get('countries', [])\n",
    "            if countries:\n",
    "                first_country = countries[0]\n",
    "                supplier_country = first_country.get('name')\n",
    "                \n",
    "                suppliers = first_country.get('suppliers', [])\n",
    "                if suppliers:\n",
    "                    first_supplier = suppliers[0]\n",
    "                    supplier_name = first_supplier.get('name')\n",
    "                    \n",
    "                    factories = first_supplier.get('factories', [])\n",
    "                    if factories:\n",
    "                        first_factory = factories[0]\n",
    "                        factory_name = first_factory.get('name')\n",
    "                        factory_address = first_factory.get('address')\n",
    "                        workers_number = first_factory.get('workersNumber')\n",
    "            \n",
    "        except requests.exceptions.RequestException as e:\n",
    "            tqdm.write(f\"Error fetching supplier for SKU {product_info['sku']} after {RETRY_MAX} retries: {e}\")\n",
    "        except json.JSONDecodeError:\n",
    "            tqdm.write(f\"Error decoding supplier JSON for SKU {product_info['sku']}. Response: {supplier_response.text[:100]}...\")\n",
    "        except Exception as e:\n",
    "            tqdm.write(f\"Unexpected error parsing supplier data for SKU {product_info['sku']}: {e}\")\n",
    "\n",
    "\n",
    "    product_info['supplier_country'] = supplier_country\n",
    "    product_info['supplier_name'] = supplier_name\n",
    "    product_info['factory_name'] = factory_name\n",
    "    product_info['factory_address'] = factory_address\n",
    "    product_info['factory_workers_number'] = workers_number\n",
    "\n",
    "    flattened_products.append(product_info)\n",
    "\n",
    "df = pd.DataFrame(flattened_products)\n",
    "print(\"\\nSample data:\")\n",
    "print(df.head())\n",
    "print(\"\\nDataFrame columns:\")\n",
    "print(df.columns)\n",
    "\n",
    "df.to_csv('HnM_CLOTHING_MEN_SWEDEN_020725.csv', index=False, encoding='utf-8')\n",
    "print(f\"HnM_CLOTHING_MEN_SWEDEN_020725.csv. Total products with data: {len(df)}\")"
   ]
  }
 ],
 "metadata": {
  "kernelspec": {
   "display_name": "Python 3 (ipykernel)",
   "language": "python",
   "name": "python3"
  },
  "language_info": {
   "codemirror_mode": {
    "name": "ipython",
    "version": 3
   },
   "file_extension": ".py",
   "mimetype": "text/x-python",
   "name": "python",
   "nbconvert_exporter": "python",
   "pygments_lexer": "ipython3",
   "version": "3.13.2"
  }
 },
 "nbformat": 4,
 "nbformat_minor": 5
}
