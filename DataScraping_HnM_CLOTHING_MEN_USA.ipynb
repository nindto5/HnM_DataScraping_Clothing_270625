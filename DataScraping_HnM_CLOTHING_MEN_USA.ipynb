{
 "cells": [
  {
   "cell_type": "code",
   "execution_count": 4,
   "id": "a868e61f-1644-4abc-add0-60f57b2cf4af",
   "metadata": {},
   "outputs": [],
   "source": [
    "import requests\n",
    "import json\n",
    "import time\n",
    "import pandas as pd\n",
    "import re\n",
    "from tqdm import tqdm\n",
    "from requests.adapters import HTTPAdapter\n",
    "from urllib3.util.retry import Retry"
   ]
  },
  {
   "cell_type": "code",
   "execution_count": 8,
   "id": "a1a3932e-32ff-4477-9d4b-a34b99862ae7",
   "metadata": {},
   "outputs": [
    {
     "name": "stdout",
     "output_type": "stream",
     "text": [
      "Scraping product listing page 1...\n",
      "\n",
      "--- FIRST PRODUCT LISTING PAGE RAW JSON RESPONSE (for debugging) ---\n",
      "{\n",
      "  \"requestDateTime\": \"2025-07-01T13:37:39.281Z\",\n",
      "  \"responseSource\": \"Elevate\",\n",
      "  \"pagination\": {\n",
      "    \"currentPage\": 1,\n",
      "    \"nextPageNum\": 2,\n",
      "    \"totalPages\": 53\n",
      "  },\n",
      "  \"plpList\": {\n",
      "    \"productList\": [\n",
      "      {\n",
      "        \"id\": \"1292861001\",\n",
      "        \"trackingId\": \"OzU7IzsxMjkyODYxMDAxOyM7IzsvZmFzaGlvbi9ERVNLVE9QL0xBTkRJTkdfUEFHRS9OQVZJR0FUSU9OX1JFU1VMVDsjOyM7T0JKRUNUSVZFJDsxOzc5OyM7IzsvbWVuL3Nob3AtYnktcHJvZHVjdC92aWV3LWFsbDs_e4\",\n",
      "        \"productName\": \"Slim-Fit Cable-Knit Polo Shirt\",\n",
      "        \"external\": false,\n",
      "        \"brandName\": \"H&M\",\n",
      "        \"url\": \"/en_us/productpage.1292861001.html\",\n",
      "        \"showPriceMarker\": false,\n",
      "        \"prices\": [\n",
      "          {\n",
      "            \"priceType\": \"whitePrice\",\n",
      "            \"price\": 44.99,\n",
      "            \"minPrice\": 44.99,\n",
      "            \"maxPrice\": 44.99,\n",
      "            \"formattedPrice\": \"$ 44.99\"\n",
      "          }\n",
      "        ],\n",
      "        \"availability\": {\n",
      "          \"stockState\": \"Available\",\n",
      "          \"comingSoon\": false\n",
      "        },\n",
      "        \"swatches\": [\n",
      "          {\n",
      "            \"articleId\": \"1292861001\",\n",
      "            \"url\": \"/en_us/productpage.1292861001.html\",\n",
      "            \"colorName\": \"White\",\n",
      "            \"colorCode\": \"F1EEE6\",\n",
      "            \"trackingId\": \"OzU7IzsxMjkyODYxMDAxOyM7IzsvZmFzaGlvbi9ERVNLVE9QL0xBTkRJTkdfUEFHRS9OQVZJR0FUSU9OX1JFU1VMVDsjOyM7T0JKRUNUSVZFJDsxOzc5OyM7IzsvbWVuL3Nob3AtYnktcHJvZHVjdC92aWV3LWFsbDs_e4\",\n",
      "            \"productImage\": \"https://image.hm.com/assets/hm/02/09/02091a8c429d54cf44dded731749b9c3f8752270.jpg\"\n",
      "          },\n",
      "          {\n",
      "            \"articleId\": \"1292861003\",\n",
      "            \"url\": \"/en_us/productpage.1292861003.html\",\n",
      "            \"colorName\": \"Dark beige\",\n",
      "            \"colorCode\": \"726A5D\",\n",
      "            \"trackingId\": \"OzU7IzsxMjkyODYxMDAzOyM7IzsvZmFzaGlvbi9ERVNLVE9QL0xBTkRJTkdfUEFHRS9OQVZJR0FUSU9OX1JFU1VMVDsjOyM7T0JKRUNUSVZFJDsxOzc5OyM7IzsvbWVuL3Nob3AtYnktcHJvZHVjdC92aWV3LWFsbDs_e4\",\n",
      "            \"productImage\": \"https://image.hm.com/assets/hm/36/c3/36c3c4e8477ede3f655e5f34faa6617d9fab1b1b.jpg\"\n",
      "          },\n",
      "          {\n",
      "    \n",
      "--------------------------------------------------------------------\n",
      "\n",
      "Total products (extracted, potentially estimated): 1908, Total pages (extracted): 53\n",
      "Scraping product listing page 2...\n",
      "Scraping product listing page 3...\n",
      "Scraping product listing page 4...\n",
      "Scraping product listing page 5...\n",
      "Scraping product listing page 6...\n",
      "Scraping product listing page 7...\n",
      "Scraping product listing page 8...\n",
      "Scraping product listing page 9...\n",
      "Scraping product listing page 10...\n",
      "Scraping product listing page 11...\n",
      "Scraping product listing page 12...\n",
      "Scraping product listing page 13...\n",
      "Scraping product listing page 14...\n",
      "Scraping product listing page 15...\n",
      "Scraping product listing page 16...\n",
      "Scraping product listing page 17...\n",
      "Scraping product listing page 18...\n",
      "Scraping product listing page 19...\n",
      "Scraping product listing page 20...\n",
      "Scraping product listing page 21...\n",
      "Scraping product listing page 22...\n",
      "Scraping product listing page 23...\n",
      "Scraping product listing page 24...\n",
      "Scraping product listing page 25...\n",
      "Scraping product listing page 26...\n",
      "Scraping product listing page 27...\n",
      "Scraping product listing page 28...\n",
      "Scraping product listing page 29...\n",
      "Scraping product listing page 30...\n",
      "Scraping product listing page 31...\n",
      "Scraping product listing page 32...\n",
      "Scraping product listing page 33...\n",
      "Scraping product listing page 34...\n",
      "Scraping product listing page 35...\n",
      "Scraping product listing page 36...\n",
      "Scraping product listing page 37...\n",
      "Scraping product listing page 38...\n",
      "Scraping product listing page 39...\n",
      "Scraping product listing page 40...\n",
      "Scraping product listing page 41...\n",
      "Scraping product listing page 42...\n",
      "Scraping product listing page 43...\n",
      "Scraping product listing page 44...\n",
      "Scraping product listing page 45...\n",
      "Scraping product listing page 46...\n",
      "Scraping product listing page 47...\n"
     ]
    },
    {
     "name": "stderr",
     "output_type": "stream",
     "text": [
      "2025-07-01 20:38:34,739 - WARNING - Retrying (Retry(total=4, connect=None, read=None, redirect=None, status=None)) after connection broken by 'ProtocolError('Connection aborted.', ConnectionAbortedError(10053, 'An established connection was aborted by the software in your host machine', None, 10053, None))': /search-services/v1/en_us/listing/resultpage?pageSource=PLP&page=47&sort=RELEVANCE&pageId=%2Fmen%2Fshop-by-product%2Fview-all&page-size=36&categoryId=men_viewall&filters=sale%3Afalse%7C%7ColdSale%3Afalse&touchPoint=DESKTOP&skipStockCheck=false\n",
      "2025-07-01 20:38:35,787 - WARNING - Retrying (Retry(total=3, connect=None, read=None, redirect=None, status=None)) after connection broken by 'NewConnectionError('<urllib3.connection.HTTPSConnection object at 0x00000210EDD04A50>: Failed to establish a new connection: [Errno 11001] getaddrinfo failed')': /search-services/v1/en_us/listing/resultpage?pageSource=PLP&page=47&sort=RELEVANCE&pageId=%2Fmen%2Fshop-by-product%2Fview-all&page-size=36&categoryId=men_viewall&filters=sale%3Afalse%7C%7ColdSale%3Afalse&touchPoint=DESKTOP&skipStockCheck=false\n",
      "2025-07-01 20:38:38,041 - WARNING - Retrying (Retry(total=2, connect=None, read=None, redirect=None, status=None)) after connection broken by 'NewConnectionError('<urllib3.connection.HTTPSConnection object at 0x00000210EDD042D0>: Failed to establish a new connection: [WinError 10013] An attempt was made to access a socket in a way forbidden by its access permissions')': /search-services/v1/en_us/listing/resultpage?pageSource=PLP&page=47&sort=RELEVANCE&pageId=%2Fmen%2Fshop-by-product%2Fview-all&page-size=36&categoryId=men_viewall&filters=sale%3Afalse%7C%7ColdSale%3Afalse&touchPoint=DESKTOP&skipStockCheck=false\n",
      "2025-07-01 20:38:42,043 - WARNING - Retrying (Retry(total=1, connect=None, read=None, redirect=None, status=None)) after connection broken by 'NewConnectionError('<urllib3.connection.HTTPSConnection object at 0x00000210EDD04E10>: Failed to establish a new connection: [WinError 10013] An attempt was made to access a socket in a way forbidden by its access permissions')': /search-services/v1/en_us/listing/resultpage?pageSource=PLP&page=47&sort=RELEVANCE&pageId=%2Fmen%2Fshop-by-product%2Fview-all&page-size=36&categoryId=men_viewall&filters=sale%3Afalse%7C%7ColdSale%3Afalse&touchPoint=DESKTOP&skipStockCheck=false\n"
     ]
    },
    {
     "name": "stdout",
     "output_type": "stream",
     "text": [
      "Scraping product listing page 48...\n",
      "Scraping product listing page 49...\n",
      "Scraping product listing page 50...\n",
      "Scraping product listing page 51...\n",
      "Scraping product listing page 52...\n",
      "Scraping product listing page 53...\n",
      "Finished scraping 1892 raw product entries.\n"
     ]
    },
    {
     "name": "stderr",
     "output_type": "stream",
     "text": [
      "Fetching Supplier Details:   0%|                                               | 4/1892 [00:20<2:22:08,  4.52s/product]"
     ]
    },
    {
     "name": "stdout",
     "output_type": "stream",
     "text": [
      "Error fetching supplier for SKU 1290111001 after 5 retries: HTTPSConnectionPool(host='www2.hm.com', port=443): Max retries exceeded with url: /en_us/supplierDetails/articles/1290111001 (Caused by ResponseError('too many 400 error responses'))\n"
     ]
    },
    {
     "name": "stderr",
     "output_type": "stream",
     "text": [
      "Fetching Supplier Details:   0%|▏                                              | 6/1892 [00:38<3:29:12,  6.66s/product]"
     ]
    },
    {
     "name": "stdout",
     "output_type": "stream",
     "text": [
      "Error fetching supplier for SKU 1290111002 after 5 retries: HTTPSConnectionPool(host='www2.hm.com', port=443): Max retries exceeded with url: /en_us/supplierDetails/articles/1290111002 (Caused by ResponseError('too many 400 error responses'))\n"
     ]
    },
    {
     "name": "stderr",
     "output_type": "stream",
     "text": [
      "Fetching Supplier Details:   1%|▍                                             | 16/1892 [00:58<3:03:28,  5.87s/product]"
     ]
    },
    {
     "name": "stdout",
     "output_type": "stream",
     "text": [
      "Error fetching supplier for SKU 0967955133 after 5 retries: HTTPSConnectionPool(host='www2.hm.com', port=443): Max retries exceeded with url: /en_us/supplierDetails/articles/0967955133 (Caused by ResponseError('too many 400 error responses'))\n"
     ]
    },
    {
     "name": "stderr",
     "output_type": "stream",
     "text": [
      "Fetching Supplier Details:   3%|█▍                                            | 59/1892 [01:43<2:57:06,  5.80s/product]"
     ]
    },
    {
     "name": "stdout",
     "output_type": "stream",
     "text": [
      "Error fetching supplier for SKU 1256946001 after 5 retries: HTTPSConnectionPool(host='www2.hm.com', port=443): Max retries exceeded with url: /en_us/supplierDetails/articles/1256946001 (Caused by ResponseError('too many 400 error responses'))\n"
     ]
    },
    {
     "name": "stderr",
     "output_type": "stream",
     "text": [
      "Fetching Supplier Details:   3%|█▌                                            | 65/1892 [02:04<3:11:55,  6.30s/product]"
     ]
    },
    {
     "name": "stdout",
     "output_type": "stream",
     "text": [
      "Error fetching supplier for SKU 1273693001 after 5 retries: HTTPSConnectionPool(host='www2.hm.com', port=443): Max retries exceeded with url: /en_us/supplierDetails/articles/1273693001 (Caused by ResponseError('too many 400 error responses'))\n"
     ]
    },
    {
     "name": "stderr",
     "output_type": "stream",
     "text": [
      "Fetching Supplier Details:  22%|██████████                                   | 424/1892 [06:41<2:21:24,  5.78s/product]"
     ]
    },
    {
     "name": "stdout",
     "output_type": "stream",
     "text": [
      "Error fetching supplier for SKU 1263284002 after 5 retries: HTTPSConnectionPool(host='www2.hm.com', port=443): Max retries exceeded with url: /en_us/supplierDetails/articles/1263284002 (Caused by ResponseError('too many 400 error responses'))\n"
     ]
    },
    {
     "name": "stderr",
     "output_type": "stream",
     "text": [
      "Fetching Supplier Details:  22%|██████████                                   | 425/1892 [07:00<3:56:45,  9.68s/product]"
     ]
    },
    {
     "name": "stdout",
     "output_type": "stream",
     "text": [
      "Error fetching supplier for SKU 1256945005 after 5 retries: HTTPSConnectionPool(host='www2.hm.com', port=443): Max retries exceeded with url: /en_us/supplierDetails/articles/1256945005 (Caused by ResponseError('too many 400 error responses'))\n"
     ]
    },
    {
     "name": "stderr",
     "output_type": "stream",
     "text": [
      "Fetching Supplier Details:  23%|██████████▎                                  | 435/1892 [07:23<2:25:36,  6.00s/product]"
     ]
    },
    {
     "name": "stdout",
     "output_type": "stream",
     "text": [
      "Error fetching supplier for SKU 1263284003 after 5 retries: HTTPSConnectionPool(host='www2.hm.com', port=443): Max retries exceeded with url: /en_us/supplierDetails/articles/1263284003 (Caused by ResponseError('too many 400 error responses'))\n"
     ]
    },
    {
     "name": "stderr",
     "output_type": "stream",
     "text": [
      "Fetching Supplier Details:  23%|██████████▍                                  | 440/1892 [07:44<2:43:33,  6.76s/product]"
     ]
    },
    {
     "name": "stdout",
     "output_type": "stream",
     "text": [
      "Error fetching supplier for SKU 1273693002 after 5 retries: HTTPSConnectionPool(host='www2.hm.com', port=443): Max retries exceeded with url: /en_us/supplierDetails/articles/1273693002 (Caused by ResponseError('too many 400 error responses'))\n"
     ]
    },
    {
     "name": "stderr",
     "output_type": "stream",
     "text": [
      "Fetching Supplier Details:  25%|███████████                                  | 467/1892 [08:19<2:22:05,  5.98s/product]"
     ]
    },
    {
     "name": "stdout",
     "output_type": "stream",
     "text": [
      "Error fetching supplier for SKU 1034065145 after 5 retries: HTTPSConnectionPool(host='www2.hm.com', port=443): Max retries exceeded with url: /en_us/supplierDetails/articles/1034065145 (Caused by ResponseError('too many 400 error responses'))\n"
     ]
    },
    {
     "name": "stderr",
     "output_type": "stream",
     "text": [
      "Fetching Supplier Details:  26%|███████████▋                                 | 489/1892 [08:47<2:18:01,  5.90s/product]"
     ]
    },
    {
     "name": "stdout",
     "output_type": "stream",
     "text": [
      "Error fetching supplier for SKU 1258318002 after 5 retries: HTTPSConnectionPool(host='www2.hm.com', port=443): Max retries exceeded with url: /en_us/supplierDetails/articles/1258318002 (Caused by ResponseError('too many 400 error responses'))\n"
     ]
    },
    {
     "name": "stderr",
     "output_type": "stream",
     "text": [
      "Fetching Supplier Details:  26%|███████████▋                                 | 493/1892 [09:08<2:50:33,  7.32s/product]"
     ]
    },
    {
     "name": "stdout",
     "output_type": "stream",
     "text": [
      "Error fetching supplier for SKU 1273693003 after 5 retries: HTTPSConnectionPool(host='www2.hm.com', port=443): Max retries exceeded with url: /en_us/supplierDetails/articles/1273693003 (Caused by ResponseError('too many 400 error responses'))\n"
     ]
    },
    {
     "name": "stderr",
     "output_type": "stream",
     "text": [
      "Fetching Supplier Details:  31%|█████████████▉                               | 587/1892 [10:27<2:05:05,  5.75s/product]"
     ]
    },
    {
     "name": "stdout",
     "output_type": "stream",
     "text": [
      "Error fetching supplier for SKU 1257566003 after 5 retries: HTTPSConnectionPool(host='www2.hm.com', port=443): Max retries exceeded with url: /en_us/supplierDetails/articles/1257566003 (Caused by ResponseError('too many 400 error responses'))\n"
     ]
    },
    {
     "name": "stderr",
     "output_type": "stream",
     "text": [
      "Fetching Supplier Details:  31%|██████████████▏                              | 595/1892 [10:50<2:16:43,  6.33s/product]"
     ]
    },
    {
     "name": "stdout",
     "output_type": "stream",
     "text": [
      "Error fetching supplier for SKU 1070271026 after 5 retries: HTTPSConnectionPool(host='www2.hm.com', port=443): Max retries exceeded with url: /en_us/supplierDetails/articles/1070271026 (Caused by ResponseError('too many 400 error responses'))\n"
     ]
    },
    {
     "name": "stderr",
     "output_type": "stream",
     "text": [
      "Fetching Supplier Details:  32%|██████████████▏                              | 597/1892 [11:09<3:08:18,  8.72s/product]"
     ]
    },
    {
     "name": "stdout",
     "output_type": "stream",
     "text": [
      "Error fetching supplier for SKU 1257566001 after 5 retries: HTTPSConnectionPool(host='www2.hm.com', port=443): Max retries exceeded with url: /en_us/supplierDetails/articles/1257566001 (Caused by ResponseError('too many 400 error responses'))\n"
     ]
    },
    {
     "name": "stderr",
     "output_type": "stream",
     "text": [
      "Fetching Supplier Details:  32%|██████████████▎                              | 600/1892 [11:30<3:16:33,  9.13s/product]"
     ]
    },
    {
     "name": "stdout",
     "output_type": "stream",
     "text": [
      "Error fetching supplier for SKU 1265540001 after 5 retries: HTTPSConnectionPool(host='www2.hm.com', port=443): Max retries exceeded with url: /en_us/supplierDetails/articles/1265540001 (Caused by ResponseError('too many 400 error responses'))\n"
     ]
    },
    {
     "name": "stderr",
     "output_type": "stream",
     "text": [
      "Fetching Supplier Details:  32%|██████████████▍                              | 606/1892 [11:51<2:31:24,  7.06s/product]"
     ]
    },
    {
     "name": "stdout",
     "output_type": "stream",
     "text": [
      "Error fetching supplier for SKU 0890930020 after 5 retries: HTTPSConnectionPool(host='www2.hm.com', port=443): Max retries exceeded with url: /en_us/supplierDetails/articles/0890930020 (Caused by ResponseError('too many 400 error responses'))\n"
     ]
    },
    {
     "name": "stderr",
     "output_type": "stream",
     "text": [
      "Fetching Supplier Details:  34%|███████████████                              | 635/1892 [12:23<2:05:21,  5.98s/product]"
     ]
    },
    {
     "name": "stdout",
     "output_type": "stream",
     "text": [
      "Error fetching supplier for SKU 1251263001 after 5 retries: HTTPSConnectionPool(host='www2.hm.com', port=443): Max retries exceeded with url: /en_us/supplierDetails/articles/1251263001 (Caused by ResponseError('too many 400 error responses'))\n"
     ]
    },
    {
     "name": "stderr",
     "output_type": "stream",
     "text": [
      "Fetching Supplier Details:  34%|███████████████▎                             | 644/1892 [12:49<2:12:10,  6.35s/product]"
     ]
    },
    {
     "name": "stdout",
     "output_type": "stream",
     "text": [
      "Error fetching supplier for SKU 1258013001 after 5 retries: HTTPSConnectionPool(host='www2.hm.com', port=443): Max retries exceeded with url: /en_us/supplierDetails/articles/1258013001 (Caused by ResponseError('too many 400 error responses'))\n"
     ]
    },
    {
     "name": "stderr",
     "output_type": "stream",
     "text": [
      "Fetching Supplier Details:  35%|███████████████▌                             | 654/1892 [13:12<2:02:00,  5.91s/product]"
     ]
    },
    {
     "name": "stdout",
     "output_type": "stream",
     "text": [
      "Error fetching supplier for SKU 1253820001 after 5 retries: HTTPSConnectionPool(host='www2.hm.com', port=443): Max retries exceeded with url: /en_us/supplierDetails/articles/1253820001 (Caused by ResponseError('too many 400 error responses'))\n"
     ]
    },
    {
     "name": "stderr",
     "output_type": "stream",
     "text": [
      "Fetching Supplier Details:  35%|███████████████▋                             | 662/1892 [13:35<2:13:22,  6.51s/product]"
     ]
    },
    {
     "name": "stdout",
     "output_type": "stream",
     "text": [
      "Error fetching supplier for SKU 1122659062 after 5 retries: HTTPSConnectionPool(host='www2.hm.com', port=443): Max retries exceeded with url: /en_us/supplierDetails/articles/1122659062 (Caused by ResponseError('too many 400 error responses'))\n"
     ]
    },
    {
     "name": "stderr",
     "output_type": "stream",
     "text": [
      "Fetching Supplier Details:  35%|███████████████▊                             | 664/1892 [13:54<3:02:38,  8.92s/product]"
     ]
    },
    {
     "name": "stdout",
     "output_type": "stream",
     "text": [
      "Error fetching supplier for SKU 1010387034 after 5 retries: HTTPSConnectionPool(host='www2.hm.com', port=443): Max retries exceeded with url: /en_us/supplierDetails/articles/1010387034 (Caused by ResponseError('too many 400 error responses'))\n"
     ]
    },
    {
     "name": "stderr",
     "output_type": "stream",
     "text": [
      "Fetching Supplier Details:  36%|████████████████                             | 676/1892 [14:19<2:07:54,  6.31s/product]"
     ]
    },
    {
     "name": "stdout",
     "output_type": "stream",
     "text": [
      "Error fetching supplier for SKU 1255900001 after 5 retries: HTTPSConnectionPool(host='www2.hm.com', port=443): Max retries exceeded with url: /en_us/supplierDetails/articles/1255900001 (Caused by ResponseError('too many 400 error responses'))\n"
     ]
    },
    {
     "name": "stderr",
     "output_type": "stream",
     "text": [
      "Fetching Supplier Details:  36%|████████████████▎                            | 684/1892 [14:41<2:02:22,  6.08s/product]"
     ]
    },
    {
     "name": "stdout",
     "output_type": "stream",
     "text": [
      "Error fetching supplier for SKU 1265540002 after 5 retries: HTTPSConnectionPool(host='www2.hm.com', port=443): Max retries exceeded with url: /en_us/supplierDetails/articles/1265540002 (Caused by ResponseError('too many 400 error responses'))\n"
     ]
    },
    {
     "name": "stderr",
     "output_type": "stream",
     "text": [
      "Fetching Supplier Details:  36%|████████████████▎                            | 687/1892 [15:00<2:34:54,  7.71s/product]"
     ]
    },
    {
     "name": "stdout",
     "output_type": "stream",
     "text": [
      "Error fetching supplier for SKU 1257566002 after 5 retries: HTTPSConnectionPool(host='www2.hm.com', port=443): Max retries exceeded with url: /en_us/supplierDetails/articles/1257566002 (Caused by ResponseError('too many 400 error responses'))\n"
     ]
    },
    {
     "name": "stderr",
     "output_type": "stream",
     "text": [
      "Fetching Supplier Details:  37%|████████████████▊                            | 707/1892 [15:27<1:52:49,  5.71s/product]"
     ]
    },
    {
     "name": "stdout",
     "output_type": "stream",
     "text": [
      "Error fetching supplier for SKU 1225636007 after 5 retries: HTTPSConnectionPool(host='www2.hm.com', port=443): Max retries exceeded with url: /en_us/supplierDetails/articles/1225636007 (Caused by ResponseError('too many 400 error responses'))\n"
     ]
    },
    {
     "name": "stderr",
     "output_type": "stream",
     "text": [
      "Fetching Supplier Details:  38%|█████████████████                            | 719/1892 [15:53<2:00:59,  6.19s/product]"
     ]
    },
    {
     "name": "stdout",
     "output_type": "stream",
     "text": [
      "Error fetching supplier for SKU 1251263002 after 5 retries: HTTPSConnectionPool(host='www2.hm.com', port=443): Max retries exceeded with url: /en_us/supplierDetails/articles/1251263002 (Caused by ResponseError('too many 400 error responses'))\n"
     ]
    },
    {
     "name": "stderr",
     "output_type": "stream",
     "text": [
      "Fetching Supplier Details:  38%|█████████████████▎                           | 726/1892 [16:14<2:04:52,  6.43s/product]"
     ]
    },
    {
     "name": "stdout",
     "output_type": "stream",
     "text": [
      "Error fetching supplier for SKU 1117747045 after 5 retries: HTTPSConnectionPool(host='www2.hm.com', port=443): Max retries exceeded with url: /en_us/supplierDetails/articles/1117747045 (Caused by ResponseError('too many 400 error responses'))\n"
     ]
    },
    {
     "name": "stderr",
     "output_type": "stream",
     "text": [
      "Fetching Supplier Details:  39%|█████████████████▋                           | 745/1892 [16:43<1:48:16,  5.66s/product]"
     ]
    },
    {
     "name": "stdout",
     "output_type": "stream",
     "text": [
      "Error fetching supplier for SKU 1258013002 after 5 retries: HTTPSConnectionPool(host='www2.hm.com', port=443): Max retries exceeded with url: /en_us/supplierDetails/articles/1258013002 (Caused by ResponseError('too many 400 error responses'))\n"
     ]
    },
    {
     "name": "stderr",
     "output_type": "stream",
     "text": [
      "Fetching Supplier Details:  39%|█████████████████▊                           | 747/1892 [17:02<2:37:35,  8.26s/product]"
     ]
    },
    {
     "name": "stdout",
     "output_type": "stream",
     "text": [
      "Error fetching supplier for SKU 1257566004 after 5 retries: HTTPSConnectionPool(host='www2.hm.com', port=443): Max retries exceeded with url: /en_us/supplierDetails/articles/1257566004 (Caused by ResponseError('too many 400 error responses'))\n"
     ]
    },
    {
     "name": "stderr",
     "output_type": "stream",
     "text": [
      "Fetching Supplier Details:  40%|█████████████████▊                           | 750/1892 [17:21<2:44:26,  8.64s/product]"
     ]
    },
    {
     "name": "stdout",
     "output_type": "stream",
     "text": [
      "Error fetching supplier for SKU 1072353115 after 5 retries: HTTPSConnectionPool(host='www2.hm.com', port=443): Max retries exceeded with url: /en_us/supplierDetails/articles/1072353115 (Caused by ResponseError('too many 400 error responses'))\n"
     ]
    },
    {
     "name": "stderr",
     "output_type": "stream",
     "text": [
      "Fetching Supplier Details:  40%|██████████████████▏                          | 766/1892 [17:46<1:46:52,  5.69s/product]"
     ]
    },
    {
     "name": "stdout",
     "output_type": "stream",
     "text": [
      "Error fetching supplier for SKU 1257398005 after 5 retries: HTTPSConnectionPool(host='www2.hm.com', port=443): Max retries exceeded with url: /en_us/supplierDetails/articles/1257398005 (Caused by ResponseError('too many 400 error responses'))\n"
     ]
    },
    {
     "name": "stderr",
     "output_type": "stream",
     "text": [
      "Fetching Supplier Details:  41%|██████████████████▍                          | 773/1892 [18:07<1:55:12,  6.18s/product]"
     ]
    },
    {
     "name": "stdout",
     "output_type": "stream",
     "text": [
      "Error fetching supplier for SKU 1256405004 after 5 retries: HTTPSConnectionPool(host='www2.hm.com', port=443): Max retries exceeded with url: /en_us/supplierDetails/articles/1256405004 (Caused by ResponseError('too many 400 error responses'))\n"
     ]
    },
    {
     "name": "stderr",
     "output_type": "stream",
     "text": [
      "Fetching Supplier Details:  41%|██████████████████▋                          | 784/1892 [18:30<1:45:37,  5.72s/product]"
     ]
    },
    {
     "name": "stdout",
     "output_type": "stream",
     "text": [
      "Error fetching supplier for SKU 1225191002 after 5 retries: HTTPSConnectionPool(host='www2.hm.com', port=443): Max retries exceeded with url: /en_us/supplierDetails/articles/1225191002 (Caused by ResponseError('too many 400 error responses'))\n"
     ]
    },
    {
     "name": "stderr",
     "output_type": "stream",
     "text": [
      "Fetching Supplier Details:  42%|██████████████████▊                          | 792/1892 [18:51<1:48:13,  5.90s/product]"
     ]
    },
    {
     "name": "stdout",
     "output_type": "stream",
     "text": [
      "Error fetching supplier for SKU 1255900002 after 5 retries: HTTPSConnectionPool(host='www2.hm.com', port=443): Max retries exceeded with url: /en_us/supplierDetails/articles/1255900002 (Caused by ResponseError('too many 400 error responses'))\n"
     ]
    },
    {
     "name": "stderr",
     "output_type": "stream",
     "text": [
      "Fetching Supplier Details:  42%|██████████████████▉                          | 795/1892 [19:10<2:17:35,  7.53s/product]"
     ]
    },
    {
     "name": "stdout",
     "output_type": "stream",
     "text": [
      "Error fetching supplier for SKU 1065654055 after 5 retries: HTTPSConnectionPool(host='www2.hm.com', port=443): Max retries exceeded with url: /en_us/supplierDetails/articles/1065654055 (Caused by ResponseError('too many 400 error responses'))\n"
     ]
    },
    {
     "name": "stderr",
     "output_type": "stream",
     "text": [
      "Fetching Supplier Details:  43%|███████████████████▎                         | 811/1892 [19:34<1:44:13,  5.79s/product]"
     ]
    },
    {
     "name": "stdout",
     "output_type": "stream",
     "text": [
      "Error fetching supplier for SKU 0999882019 after 5 retries: HTTPSConnectionPool(host='www2.hm.com', port=443): Max retries exceeded with url: /en_us/supplierDetails/articles/0999882019 (Caused by ResponseError('too many 400 error responses'))\n"
     ]
    },
    {
     "name": "stderr",
     "output_type": "stream",
     "text": [
      "Fetching Supplier Details:  43%|███████████████████▌                         | 821/1892 [19:59<1:49:20,  6.13s/product]"
     ]
    },
    {
     "name": "stdout",
     "output_type": "stream",
     "text": [
      "Error fetching supplier for SKU 1262043002 after 5 retries: HTTPSConnectionPool(host='www2.hm.com', port=443): Max retries exceeded with url: /en_us/supplierDetails/articles/1262043002 (Caused by ResponseError('too many 400 error responses'))\n"
     ]
    },
    {
     "name": "stderr",
     "output_type": "stream",
     "text": [
      "Fetching Supplier Details:  44%|███████████████████▌                         | 824/1892 [20:19<2:22:56,  8.03s/product]"
     ]
    },
    {
     "name": "stdout",
     "output_type": "stream",
     "text": [
      "Error fetching supplier for SKU 1275571001 after 5 retries: HTTPSConnectionPool(host='www2.hm.com', port=443): Max retries exceeded with url: /en_us/supplierDetails/articles/1275571001 (Caused by ResponseError('too many 400 error responses'))\n"
     ]
    },
    {
     "name": "stderr",
     "output_type": "stream",
     "text": [
      "Fetching Supplier Details:  44%|███████████████████▋                         | 826/1892 [20:48<3:40:53, 12.43s/product]"
     ]
    },
    {
     "name": "stdout",
     "output_type": "stream",
     "text": [
      "Error fetching supplier for SKU 1259567003 after 5 retries: HTTPSConnectionPool(host='www2.hm.com', port=443): Max retries exceeded with url: /en_us/supplierDetails/articles/1259567003 (Caused by ResponseError('too many 400 error responses'))\n"
     ]
    },
    {
     "name": "stderr",
     "output_type": "stream",
     "text": [
      "Fetching Supplier Details:  45%|████████████████████                         | 844/1892 [21:17<1:43:53,  5.95s/product]"
     ]
    },
    {
     "name": "stdout",
     "output_type": "stream",
     "text": [
      "Error fetching supplier for SKU 1225209003 after 5 retries: HTTPSConnectionPool(host='www2.hm.com', port=443): Max retries exceeded with url: /en_us/supplierDetails/articles/1225209003 (Caused by ResponseError('too many 400 error responses'))\n"
     ]
    },
    {
     "name": "stderr",
     "output_type": "stream",
     "text": [
      "Fetching Supplier Details:  45%|████████████████████                         | 846/1892 [21:36<2:28:04,  8.49s/product]"
     ]
    },
    {
     "name": "stdout",
     "output_type": "stream",
     "text": [
      "Error fetching supplier for SKU 1257441001 after 5 retries: HTTPSConnectionPool(host='www2.hm.com', port=443): Max retries exceeded with url: /en_us/supplierDetails/articles/1257441001 (Caused by ResponseError('too many 400 error responses'))\n"
     ]
    },
    {
     "name": "stderr",
     "output_type": "stream",
     "text": [
      "Fetching Supplier Details:  45%|████████████████████▏                        | 849/1892 [21:55<2:27:40,  8.49s/product]"
     ]
    },
    {
     "name": "stdout",
     "output_type": "stream",
     "text": [
      "Error fetching supplier for SKU 1257408001 after 5 retries: HTTPSConnectionPool(host='www2.hm.com', port=443): Max retries exceeded with url: /en_us/supplierDetails/articles/1257408001 (Caused by ResponseError('too many 400 error responses'))\n"
     ]
    },
    {
     "name": "stderr",
     "output_type": "stream",
     "text": [
      "Fetching Supplier Details:  45%|████████████████████▏                        | 851/1892 [22:13<2:45:55,  9.56s/product]"
     ]
    },
    {
     "name": "stdout",
     "output_type": "stream",
     "text": [
      "Error fetching supplier for SKU 0846933166 after 5 retries: HTTPSConnectionPool(host='www2.hm.com', port=443): Max retries exceeded with url: /en_us/supplierDetails/articles/0846933166 (Caused by ResponseError('too many 400 error responses'))\n"
     ]
    },
    {
     "name": "stderr",
     "output_type": "stream",
     "text": [
      "Fetching Supplier Details:  46%|████████████████████▋                        | 872/1892 [22:44<1:40:55,  5.94s/product]"
     ]
    },
    {
     "name": "stdout",
     "output_type": "stream",
     "text": [
      "Error fetching supplier for SKU 1247432001 after 5 retries: HTTPSConnectionPool(host='www2.hm.com', port=443): Max retries exceeded with url: /en_us/supplierDetails/articles/1247432001 (Caused by ResponseError('too many 400 error responses'))\n"
     ]
    },
    {
     "name": "stderr",
     "output_type": "stream",
     "text": [
      "Fetching Supplier Details:  46%|████████████████████▊                        | 874/1892 [23:02<2:20:52,  8.30s/product]"
     ]
    },
    {
     "name": "stdout",
     "output_type": "stream",
     "text": [
      "Error fetching supplier for SKU 1275102001 after 5 retries: HTTPSConnectionPool(host='www2.hm.com', port=443): Max retries exceeded with url: /en_us/supplierDetails/articles/1275102001 (Caused by ResponseError('too many 400 error responses'))\n"
     ]
    },
    {
     "name": "stderr",
     "output_type": "stream",
     "text": [
      "Fetching Supplier Details:  46%|████████████████████▊                        | 877/1892 [23:21<2:23:19,  8.47s/product]"
     ]
    },
    {
     "name": "stdout",
     "output_type": "stream",
     "text": [
      "Error fetching supplier for SKU 1275571002 after 5 retries: HTTPSConnectionPool(host='www2.hm.com', port=443): Max retries exceeded with url: /en_us/supplierDetails/articles/1275571002 (Caused by ResponseError('too many 400 error responses'))\n"
     ]
    },
    {
     "name": "stderr",
     "output_type": "stream",
     "text": [
      "Fetching Supplier Details:  46%|████████████████████▉                        | 879/1892 [23:42<2:57:48, 10.53s/product]"
     ]
    },
    {
     "name": "stdout",
     "output_type": "stream",
     "text": [
      "Error fetching supplier for SKU 1259570002 after 5 retries: HTTPSConnectionPool(host='www2.hm.com', port=443): Max retries exceeded with url: /en_us/supplierDetails/articles/1259570002 (Caused by ResponseError('too many 400 error responses'))\n"
     ]
    },
    {
     "name": "stderr",
     "output_type": "stream",
     "text": [
      "Fetching Supplier Details:  47%|████████████████████▉                        | 882/1892 [24:02<2:39:12,  9.46s/product]"
     ]
    },
    {
     "name": "stdout",
     "output_type": "stream",
     "text": [
      "Error fetching supplier for SKU 1262236002 after 5 retries: HTTPSConnectionPool(host='www2.hm.com', port=443): Max retries exceeded with url: /en_us/supplierDetails/articles/1262236002 (Caused by ResponseError('too many 400 error responses'))\n"
     ]
    },
    {
     "name": "stderr",
     "output_type": "stream",
     "text": [
      "Fetching Supplier Details:  47%|█████████████████████                        | 884/1892 [24:21<2:50:47, 10.17s/product]"
     ]
    },
    {
     "name": "stdout",
     "output_type": "stream",
     "text": [
      "Error fetching supplier for SKU 1275103001 after 5 retries: HTTPSConnectionPool(host='www2.hm.com', port=443): Max retries exceeded with url: /en_us/supplierDetails/articles/1275103001 (Caused by ResponseError('too many 400 error responses'))\n"
     ]
    },
    {
     "name": "stderr",
     "output_type": "stream",
     "text": [
      "Fetching Supplier Details:  47%|█████████████████████▏                       | 893/1892 [24:43<1:44:16,  6.26s/product]"
     ]
    },
    {
     "name": "stdout",
     "output_type": "stream",
     "text": [
      "Error fetching supplier for SKU 1070268017 after 5 retries: HTTPSConnectionPool(host='www2.hm.com', port=443): Max retries exceeded with url: /en_us/supplierDetails/articles/1070268017 (Caused by ResponseError('too many 400 error responses'))\n"
     ]
    },
    {
     "name": "stderr",
     "output_type": "stream",
     "text": [
      "Fetching Supplier Details:  48%|█████████████████████▍                       | 900/1892 [25:04<1:45:09,  6.36s/product]"
     ]
    },
    {
     "name": "stdout",
     "output_type": "stream",
     "text": [
      "Error fetching supplier for SKU 1070272011 after 5 retries: HTTPSConnectionPool(host='www2.hm.com', port=443): Max retries exceeded with url: /en_us/supplierDetails/articles/1070272011 (Caused by ResponseError('too many 400 error responses'))\n"
     ]
    },
    {
     "name": "stderr",
     "output_type": "stream",
     "text": [
      "Fetching Supplier Details:  50%|██████████████████████▌                      | 948/1892 [25:56<1:29:29,  5.69s/product]"
     ]
    },
    {
     "name": "stdout",
     "output_type": "stream",
     "text": [
      "Error fetching supplier for SKU 1117750018 after 5 retries: HTTPSConnectionPool(host='www2.hm.com', port=443): Max retries exceeded with url: /en_us/supplierDetails/articles/1117750018 (Caused by ResponseError('too many 400 error responses'))\n"
     ]
    },
    {
     "name": "stderr",
     "output_type": "stream",
     "text": [
      "Fetching Supplier Details:  50%|██████████████████████▋                      | 954/1892 [26:18<1:48:56,  6.97s/product]"
     ]
    },
    {
     "name": "stdout",
     "output_type": "stream",
     "text": [
      "Error fetching supplier for SKU 1228016001 after 5 retries: HTTPSConnectionPool(host='www2.hm.com', port=443): Max retries exceeded with url: /en_us/supplierDetails/articles/1228016001 (Caused by ResponseError('too many 400 error responses'))\n"
     ]
    },
    {
     "name": "stderr",
     "output_type": "stream",
     "text": [
      "Fetching Supplier Details:  51%|███████████████████████                      | 971/1892 [26:43<1:24:43,  5.52s/product]"
     ]
    },
    {
     "name": "stdout",
     "output_type": "stream",
     "text": [
      "Error fetching supplier for SKU 1261215001 after 5 retries: HTTPSConnectionPool(host='www2.hm.com', port=443): Max retries exceeded with url: /en_us/supplierDetails/articles/1261215001 (Caused by ResponseError('too many 400 error responses'))\n"
     ]
    },
    {
     "name": "stderr",
     "output_type": "stream",
     "text": [
      "Fetching Supplier Details:  52%|███████████████████████▎                     | 979/1892 [27:03<1:27:01,  5.72s/product]"
     ]
    },
    {
     "name": "stdout",
     "output_type": "stream",
     "text": [
      "Error fetching supplier for SKU 1270288002 after 5 retries: HTTPSConnectionPool(host='www2.hm.com', port=443): Max retries exceeded with url: /en_us/supplierDetails/articles/1270288002 (Caused by ResponseError('too many 400 error responses'))\n"
     ]
    },
    {
     "name": "stderr",
     "output_type": "stream",
     "text": [
      "Fetching Supplier Details:  52%|███████████████████████▎                     | 980/1892 [27:21<2:22:12,  9.36s/product]"
     ]
    },
    {
     "name": "stdout",
     "output_type": "stream",
     "text": [
      "Error fetching supplier for SKU 1258013003 after 5 retries: HTTPSConnectionPool(host='www2.hm.com', port=443): Max retries exceeded with url: /en_us/supplierDetails/articles/1258013003 (Caused by ResponseError('too many 400 error responses'))\n"
     ]
    },
    {
     "name": "stderr",
     "output_type": "stream",
     "text": [
      "Fetching Supplier Details:  52%|███████████████████████▍                     | 987/1892 [27:42<1:34:14,  6.25s/product]"
     ]
    },
    {
     "name": "stdout",
     "output_type": "stream",
     "text": [
      "Error fetching supplier for SKU 1258123001 after 5 retries: HTTPSConnectionPool(host='www2.hm.com', port=443): Max retries exceeded with url: /en_us/supplierDetails/articles/1258123001 (Caused by ResponseError('too many 400 error responses'))\n"
     ]
    },
    {
     "name": "stderr",
     "output_type": "stream",
     "text": [
      "Fetching Supplier Details:  52%|███████████████████████▍                     | 988/1892 [28:00<2:25:22,  9.65s/product]"
     ]
    },
    {
     "name": "stdout",
     "output_type": "stream",
     "text": [
      "Error fetching supplier for SKU 1217052002 after 5 retries: HTTPSConnectionPool(host='www2.hm.com', port=443): Max retries exceeded with url: /en_us/supplierDetails/articles/1217052002 (Caused by ResponseError('too many 400 error responses'))\n"
     ]
    },
    {
     "name": "stderr",
     "output_type": "stream",
     "text": [
      "Fetching Supplier Details:  52%|███████████████████████▌                     | 990/1892 [28:19<2:33:30, 10.21s/product]"
     ]
    },
    {
     "name": "stdout",
     "output_type": "stream",
     "text": [
      "Error fetching supplier for SKU 1259570001 after 5 retries: HTTPSConnectionPool(host='www2.hm.com', port=443): Max retries exceeded with url: /en_us/supplierDetails/articles/1259570001 (Caused by ResponseError('too many 400 error responses'))\n"
     ]
    },
    {
     "name": "stderr",
     "output_type": "stream",
     "text": [
      "Fetching Supplier Details:  53%|███████████████████████▍                    | 1008/1892 [28:47<1:28:33,  6.01s/product]"
     ]
    },
    {
     "name": "stdout",
     "output_type": "stream",
     "text": [
      "Error fetching supplier for SKU 1255893001 after 5 retries: HTTPSConnectionPool(host='www2.hm.com', port=443): Max retries exceeded with url: /en_us/supplierDetails/articles/1255893001 (Caused by ResponseError('too many 400 error responses'))\n"
     ]
    },
    {
     "name": "stderr",
     "output_type": "stream",
     "text": [
      "Fetching Supplier Details:  56%|████████████████████████▍                   | 1052/1892 [29:31<1:19:55,  5.71s/product]"
     ]
    },
    {
     "name": "stdout",
     "output_type": "stream",
     "text": [
      "Error fetching supplier for SKU 1257398006 after 5 retries: HTTPSConnectionPool(host='www2.hm.com', port=443): Max retries exceeded with url: /en_us/supplierDetails/articles/1257398006 (Caused by ResponseError('too many 400 error responses'))\n"
     ]
    },
    {
     "name": "stderr",
     "output_type": "stream",
     "text": [
      "Fetching Supplier Details:  56%|████████████████████████▋                   | 1060/1892 [29:56<1:28:16,  6.37s/product]"
     ]
    },
    {
     "name": "stdout",
     "output_type": "stream",
     "text": [
      "Error fetching supplier for SKU 0647207061 after 5 retries: HTTPSConnectionPool(host='www2.hm.com', port=443): Max retries exceeded with url: /en_us/supplierDetails/articles/0647207061 (Caused by ResponseError('too many 400 error responses'))\n"
     ]
    },
    {
     "name": "stderr",
     "output_type": "stream",
     "text": [
      "Fetching Supplier Details:  57%|████████████████████████▊                   | 1069/1892 [30:18<1:22:38,  6.03s/product]"
     ]
    },
    {
     "name": "stdout",
     "output_type": "stream",
     "text": [
      "Error fetching supplier for SKU 1257408003 after 5 retries: HTTPSConnectionPool(host='www2.hm.com', port=443): Max retries exceeded with url: /en_us/supplierDetails/articles/1257408003 (Caused by ResponseError('too many 400 error responses'))\n"
     ]
    },
    {
     "name": "stderr",
     "output_type": "stream",
     "text": [
      "Fetching Supplier Details:  57%|████████████████████████▉                   | 1074/1892 [30:38<1:30:04,  6.61s/product]"
     ]
    },
    {
     "name": "stdout",
     "output_type": "stream",
     "text": [
      "Error fetching supplier for SKU 1257408005 after 5 retries: HTTPSConnectionPool(host='www2.hm.com', port=443): Max retries exceeded with url: /en_us/supplierDetails/articles/1257408005 (Caused by ResponseError('too many 400 error responses'))\n"
     ]
    },
    {
     "name": "stderr",
     "output_type": "stream",
     "text": [
      "Fetching Supplier Details:  57%|█████████████████████████                   | 1077/1892 [30:57<1:46:32,  7.84s/product]"
     ]
    },
    {
     "name": "stdout",
     "output_type": "stream",
     "text": [
      "Error fetching supplier for SKU 1253218003 after 5 retries: HTTPSConnectionPool(host='www2.hm.com', port=443): Max retries exceeded with url: /en_us/supplierDetails/articles/1253218003 (Caused by ResponseError('too many 400 error responses'))\n"
     ]
    },
    {
     "name": "stderr",
     "output_type": "stream",
     "text": [
      "Fetching Supplier Details:  59%|█████████████████████████▉                  | 1114/1892 [31:32<1:14:27,  5.74s/product]"
     ]
    },
    {
     "name": "stdout",
     "output_type": "stream",
     "text": [
      "Error fetching supplier for SKU 1262236001 after 5 retries: HTTPSConnectionPool(host='www2.hm.com', port=443): Max retries exceeded with url: /en_us/supplierDetails/articles/1262236001 (Caused by ResponseError('too many 400 error responses'))\n"
     ]
    },
    {
     "name": "stderr",
     "output_type": "stream",
     "text": [
      "Fetching Supplier Details:  59%|█████████████████████████▉                  | 1116/1892 [31:50<1:45:48,  8.18s/product]"
     ]
    },
    {
     "name": "stdout",
     "output_type": "stream",
     "text": [
      "Error fetching supplier for SKU 1257121003 after 5 retries: HTTPSConnectionPool(host='www2.hm.com', port=443): Max retries exceeded with url: /en_us/supplierDetails/articles/1257121003 (Caused by ResponseError('too many 400 error responses'))\n"
     ]
    },
    {
     "name": "stderr",
     "output_type": "stream",
     "text": [
      "Fetching Supplier Details:  59%|██████████████████████████                  | 1120/1892 [32:09<1:36:15,  7.48s/product]"
     ]
    },
    {
     "name": "stdout",
     "output_type": "stream",
     "text": [
      "Error fetching supplier for SKU 1241758003 after 5 retries: HTTPSConnectionPool(host='www2.hm.com', port=443): Max retries exceeded with url: /en_us/supplierDetails/articles/1241758003 (Caused by ResponseError('too many 400 error responses'))\n"
     ]
    },
    {
     "name": "stderr",
     "output_type": "stream",
     "text": [
      "Fetching Supplier Details:  60%|██████████████████████████▏                 | 1128/1892 [32:31<1:17:33,  6.09s/product]"
     ]
    },
    {
     "name": "stdout",
     "output_type": "stream",
     "text": [
      "Error fetching supplier for SKU 1231419001 after 5 retries: HTTPSConnectionPool(host='www2.hm.com', port=443): Max retries exceeded with url: /en_us/supplierDetails/articles/1231419001 (Caused by ResponseError('too many 400 error responses'))\n"
     ]
    },
    {
     "name": "stderr",
     "output_type": "stream",
     "text": [
      "Fetching Supplier Details:  61%|██████████████████████████▋                 | 1145/1892 [32:59<1:17:40,  6.24s/product]"
     ]
    },
    {
     "name": "stdout",
     "output_type": "stream",
     "text": [
      "Error fetching supplier for SKU 1275097002 after 5 retries: HTTPSConnectionPool(host='www2.hm.com', port=443): Max retries exceeded with url: /en_us/supplierDetails/articles/1275097002 (Caused by ResponseError('too many 400 error responses'))\n"
     ]
    },
    {
     "name": "stderr",
     "output_type": "stream",
     "text": [
      "Fetching Supplier Details:  61%|██████████████████████████▋                 | 1149/1892 [33:19<1:28:27,  7.14s/product]"
     ]
    },
    {
     "name": "stdout",
     "output_type": "stream",
     "text": [
      "Error fetching supplier for SKU 1275098001 after 5 retries: HTTPSConnectionPool(host='www2.hm.com', port=443): Max retries exceeded with url: /en_us/supplierDetails/articles/1275098001 (Caused by ResponseError('too many 400 error responses'))\n"
     ]
    },
    {
     "name": "stderr",
     "output_type": "stream",
     "text": [
      "Fetching Supplier Details:  63%|███████████████████████████▊                | 1195/1892 [33:58<1:05:29,  5.64s/product]"
     ]
    },
    {
     "name": "stdout",
     "output_type": "stream",
     "text": [
      "Error fetching supplier for SKU 1231419002 after 5 retries: HTTPSConnectionPool(host='www2.hm.com', port=443): Max retries exceeded with url: /en_us/supplierDetails/articles/1231419002 (Caused by ResponseError('too many 400 error responses'))\n"
     ]
    },
    {
     "name": "stderr",
     "output_type": "stream",
     "text": [
      "Fetching Supplier Details:  63%|███████████████████████████▉                | 1201/1892 [34:18<1:12:07,  6.26s/product]"
     ]
    },
    {
     "name": "stdout",
     "output_type": "stream",
     "text": [
      "Error fetching supplier for SKU 1253526001 after 5 retries: HTTPSConnectionPool(host='www2.hm.com', port=443): Max retries exceeded with url: /en_us/supplierDetails/articles/1253526001 (Caused by ResponseError('too many 400 error responses'))\n"
     ]
    },
    {
     "name": "stderr",
     "output_type": "stream",
     "text": [
      "Fetching Supplier Details:  64%|████████████████████████████▏               | 1213/1892 [34:42<1:05:27,  5.78s/product]"
     ]
    },
    {
     "name": "stdout",
     "output_type": "stream",
     "text": [
      "Error fetching supplier for SKU 1228984008 after 5 retries: HTTPSConnectionPool(host='www2.hm.com', port=443): Max retries exceeded with url: /en_us/supplierDetails/articles/1228984008 (Caused by ResponseError('too many 400 error responses'))\n"
     ]
    },
    {
     "name": "stderr",
     "output_type": "stream",
     "text": [
      "Fetching Supplier Details:  65%|████████████████████████████▌               | 1226/1892 [35:07<1:05:08,  5.87s/product]"
     ]
    },
    {
     "name": "stdout",
     "output_type": "stream",
     "text": [
      "Error fetching supplier for SKU 1265608003 after 5 retries: HTTPSConnectionPool(host='www2.hm.com', port=443): Max retries exceeded with url: /en_us/supplierDetails/articles/1265608003 (Caused by ResponseError('too many 400 error responses'))\n"
     ]
    },
    {
     "name": "stderr",
     "output_type": "stream",
     "text": [
      "Fetching Supplier Details:  65%|████████████████████████████▌               | 1230/1892 [35:28<1:20:28,  7.29s/product]"
     ]
    },
    {
     "name": "stdout",
     "output_type": "stream",
     "text": [
      "Error fetching supplier for SKU 1257654001 after 5 retries: HTTPSConnectionPool(host='www2.hm.com', port=443): Max retries exceeded with url: /en_us/supplierDetails/articles/1257654001 (Caused by ResponseError('too many 400 error responses'))\n"
     ]
    },
    {
     "name": "stderr",
     "output_type": "stream",
     "text": [
      "Fetching Supplier Details:  66%|████████████████████████████▊               | 1240/1892 [35:50<1:04:10,  5.91s/product]"
     ]
    },
    {
     "name": "stdout",
     "output_type": "stream",
     "text": [
      "Error fetching supplier for SKU 1261215002 after 5 retries: HTTPSConnectionPool(host='www2.hm.com', port=443): Max retries exceeded with url: /en_us/supplierDetails/articles/1261215002 (Caused by ResponseError('too many 400 error responses'))\n"
     ]
    },
    {
     "name": "stderr",
     "output_type": "stream",
     "text": [
      "Fetching Supplier Details:  66%|█████████████████████████████               | 1250/1892 [36:11<1:01:23,  5.74s/product]"
     ]
    },
    {
     "name": "stdout",
     "output_type": "stream",
     "text": [
      "Error fetching supplier for SKU 1250021003 after 5 retries: HTTPSConnectionPool(host='www2.hm.com', port=443): Max retries exceeded with url: /en_us/supplierDetails/articles/1250021003 (Caused by ResponseError('too many 400 error responses'))\n"
     ]
    },
    {
     "name": "stderr",
     "output_type": "stream",
     "text": [
      "Fetching Supplier Details:  68%|███████████████████████████████▎              | 1286/1892 [36:46<57:05,  5.65s/product]"
     ]
    },
    {
     "name": "stdout",
     "output_type": "stream",
     "text": [
      "Error fetching supplier for SKU 1257496001 after 5 retries: HTTPSConnectionPool(host='www2.hm.com', port=443): Max retries exceeded with url: /en_us/supplierDetails/articles/1257496001 (Caused by ResponseError('too many 400 error responses'))\n"
     ]
    },
    {
     "name": "stderr",
     "output_type": "stream",
     "text": [
      "Fetching Supplier Details:  68%|█████████████████████████████▉              | 1289/1892 [37:05<1:16:47,  7.64s/product]"
     ]
    },
    {
     "name": "stdout",
     "output_type": "stream",
     "text": [
      "Error fetching supplier for SKU 1257408002 after 5 retries: HTTPSConnectionPool(host='www2.hm.com', port=443): Max retries exceeded with url: /en_us/supplierDetails/articles/1257408002 (Caused by ResponseError('too many 400 error responses'))\n"
     ]
    },
    {
     "name": "stderr",
     "output_type": "stream",
     "text": [
      "Fetching Supplier Details:  69%|███████████████████████████████▉              | 1312/1892 [37:37<58:08,  6.01s/product]"
     ]
    },
    {
     "name": "stdout",
     "output_type": "stream",
     "text": [
      "Error fetching supplier for SKU 1117750015 after 5 retries: HTTPSConnectionPool(host='www2.hm.com', port=443): Max retries exceeded with url: /en_us/supplierDetails/articles/1117750015 (Caused by ResponseError('too many 400 error responses'))\n"
     ]
    },
    {
     "name": "stderr",
     "output_type": "stream",
     "text": [
      "Fetching Supplier Details:  71%|████████████████████████████████▊             | 1348/1892 [38:14<50:17,  5.55s/product]"
     ]
    },
    {
     "name": "stdout",
     "output_type": "stream",
     "text": [
      "Error fetching supplier for SKU 1204180016 after 5 retries: HTTPSConnectionPool(host='www2.hm.com', port=443): Max retries exceeded with url: /en_us/supplierDetails/articles/1204180016 (Caused by ResponseError('too many 400 error responses'))\n"
     ]
    },
    {
     "name": "stderr",
     "output_type": "stream",
     "text": [
      "Fetching Supplier Details:  73%|█████████████████████████████████▌            | 1380/1892 [38:46<48:14,  5.65s/product]"
     ]
    },
    {
     "name": "stdout",
     "output_type": "stream",
     "text": [
      "Error fetching supplier for SKU 1249530004 after 5 retries: HTTPSConnectionPool(host='www2.hm.com', port=443): Max retries exceeded with url: /en_us/supplierDetails/articles/1249530004 (Caused by ResponseError('too many 400 error responses'))\n"
     ]
    },
    {
     "name": "stderr",
     "output_type": "stream",
     "text": [
      "Fetching Supplier Details:  74%|█████████████████████████████████▉            | 1398/1892 [39:14<49:31,  6.01s/product]"
     ]
    },
    {
     "name": "stdout",
     "output_type": "stream",
     "text": [
      "Error fetching supplier for SKU 1236607001 after 5 retries: HTTPSConnectionPool(host='www2.hm.com', port=443): Max retries exceeded with url: /en_us/supplierDetails/articles/1236607001 (Caused by ResponseError('too many 400 error responses'))\n"
     ]
    },
    {
     "name": "stderr",
     "output_type": "stream",
     "text": [
      "Fetching Supplier Details:  74%|████████████████████████████████▌           | 1401/1892 [39:33<1:02:49,  7.68s/product]"
     ]
    },
    {
     "name": "stdout",
     "output_type": "stream",
     "text": [
      "Error fetching supplier for SKU 0578626037 after 5 retries: HTTPSConnectionPool(host='www2.hm.com', port=443): Max retries exceeded with url: /en_us/supplierDetails/articles/0578626037 (Caused by ResponseError('too many 400 error responses'))\n"
     ]
    },
    {
     "name": "stderr",
     "output_type": "stream",
     "text": [
      "Fetching Supplier Details:  75%|██████████████████████████████████▎           | 1412/1892 [39:56<47:05,  5.89s/product]"
     ]
    },
    {
     "name": "stdout",
     "output_type": "stream",
     "text": [
      "Error fetching supplier for SKU 1248149002 after 5 retries: HTTPSConnectionPool(host='www2.hm.com', port=443): Max retries exceeded with url: /en_us/supplierDetails/articles/1248149002 (Caused by ResponseError('too many 400 error responses'))\n"
     ]
    },
    {
     "name": "stderr",
     "output_type": "stream",
     "text": [
      "Fetching Supplier Details:  75%|████████████████████████████████▉           | 1414/1892 [40:15<1:08:27,  8.59s/product]"
     ]
    },
    {
     "name": "stdout",
     "output_type": "stream",
     "text": [
      "Error fetching supplier for SKU 1263503003 after 5 retries: HTTPSConnectionPool(host='www2.hm.com', port=443): Max retries exceeded with url: /en_us/supplierDetails/articles/1263503003 (Caused by ResponseError('too many 400 error responses'))\n"
     ]
    },
    {
     "name": "stderr",
     "output_type": "stream",
     "text": [
      "Fetching Supplier Details:  75%|████████████████████████████████▉           | 1418/1892 [40:37<1:05:57,  8.35s/product]"
     ]
    },
    {
     "name": "stdout",
     "output_type": "stream",
     "text": [
      "Error fetching supplier for SKU 1243045001 after 5 retries: HTTPSConnectionPool(host='www2.hm.com', port=443): Max retries exceeded with url: /en_us/supplierDetails/articles/1243045001 (Caused by ResponseError('too many 400 error responses'))\n"
     ]
    },
    {
     "name": "stderr",
     "output_type": "stream",
     "text": [
      "Fetching Supplier Details:  75%|█████████████████████████████████           | 1419/1892 [40:56<1:30:01, 11.42s/product]"
     ]
    },
    {
     "name": "stdout",
     "output_type": "stream",
     "text": [
      "Error fetching supplier for SKU 1228015003 after 5 retries: HTTPSConnectionPool(host='www2.hm.com', port=443): Max retries exceeded with url: /en_us/supplierDetails/articles/1228015003 (Caused by ResponseError('too many 400 error responses'))\n"
     ]
    },
    {
     "name": "stderr",
     "output_type": "stream",
     "text": [
      "Fetching Supplier Details:  75%|█████████████████████████████████           | 1420/1892 [41:23<2:05:30, 15.95s/product]"
     ]
    },
    {
     "name": "stdout",
     "output_type": "stream",
     "text": [
      "Error fetching supplier for SKU 1240533004 after 5 retries: HTTPSConnectionPool(host='www2.hm.com', port=443): Max retries exceeded with url: /en_us/supplierDetails/articles/1240533004 (Caused by ResponseError('too many 400 error responses'))\n"
     ]
    },
    {
     "name": "stderr",
     "output_type": "stream",
     "text": [
      "2025-07-01 21:20:37,856 - WARNING - Retrying (Retry(total=4, connect=None, read=None, redirect=None, status=None)) after connection broken by 'ReadTimeoutError(\"HTTPSConnectionPool(host='www2.hm.com', port=443): Read timed out. (read timeout=None)\")': /en_us/supplierDetails/articles/1246011003\n",
      "Fetching Supplier Details:  76%|█████████████████████████████████▎          | 1430/1892 [42:12<1:05:56,  8.56s/product]"
     ]
    },
    {
     "name": "stdout",
     "output_type": "stream",
     "text": [
      "Error fetching supplier for SKU 1032522116 after 5 retries: HTTPSConnectionPool(host='www2.hm.com', port=443): Max retries exceeded with url: /en_us/supplierDetails/articles/1032522116 (Caused by ResponseError('too many 400 error responses'))\n"
     ]
    },
    {
     "name": "stderr",
     "output_type": "stream",
     "text": [
      "Fetching Supplier Details:  76%|███████████████████████████████████▏          | 1446/1892 [42:39<43:50,  5.90s/product]"
     ]
    },
    {
     "name": "stdout",
     "output_type": "stream",
     "text": [
      "Error fetching supplier for SKU 1249662001 after 5 retries: HTTPSConnectionPool(host='www2.hm.com', port=443): Max retries exceeded with url: /en_us/supplierDetails/articles/1249662001 (Caused by ResponseError('too many 400 error responses'))\n"
     ]
    },
    {
     "name": "stderr",
     "output_type": "stream",
     "text": [
      "Fetching Supplier Details:  77%|███████████████████████████████████▎          | 1452/1892 [43:02<50:18,  6.86s/product]"
     ]
    },
    {
     "name": "stdout",
     "output_type": "stream",
     "text": [
      "Error fetching supplier for SKU 1227428006 after 5 retries: HTTPSConnectionPool(host='www2.hm.com', port=443): Max retries exceeded with url: /en_us/supplierDetails/articles/1227428006 (Caused by ResponseError('too many 400 error responses'))\n"
     ]
    },
    {
     "name": "stderr",
     "output_type": "stream",
     "text": [
      "Fetching Supplier Details:  79%|████████████████████████████████████▏         | 1487/1892 [43:44<38:17,  5.67s/product]"
     ]
    },
    {
     "name": "stdout",
     "output_type": "stream",
     "text": [
      "Error fetching supplier for SKU 1247834003 after 5 retries: HTTPSConnectionPool(host='www2.hm.com', port=443): Max retries exceeded with url: /en_us/supplierDetails/articles/1247834003 (Caused by ResponseError('too many 400 error responses'))\n"
     ]
    },
    {
     "name": "stderr",
     "output_type": "stream",
     "text": [
      "Fetching Supplier Details:  79%|████████████████████████████████████▍         | 1497/1892 [44:06<38:07,  5.79s/product]"
     ]
    },
    {
     "name": "stdout",
     "output_type": "stream",
     "text": [
      "Error fetching supplier for SKU 1234958001 after 5 retries: HTTPSConnectionPool(host='www2.hm.com', port=443): Max retries exceeded with url: /en_us/supplierDetails/articles/1234958001 (Caused by ResponseError('too many 400 error responses'))\n"
     ]
    },
    {
     "name": "stderr",
     "output_type": "stream",
     "text": [
      "Fetching Supplier Details:  79%|████████████████████████████████████▌         | 1504/1892 [44:26<39:46,  6.15s/product]"
     ]
    },
    {
     "name": "stdout",
     "output_type": "stream",
     "text": [
      "Error fetching supplier for SKU 1224374002 after 5 retries: HTTPSConnectionPool(host='www2.hm.com', port=443): Max retries exceeded with url: /en_us/supplierDetails/articles/1224374002 (Caused by ResponseError('too many 400 error responses'))\n"
     ]
    },
    {
     "name": "stderr",
     "output_type": "stream",
     "text": [
      "Fetching Supplier Details:  80%|████████████████████████████████████▋         | 1507/1892 [44:45<48:31,  7.56s/product]"
     ]
    },
    {
     "name": "stdout",
     "output_type": "stream",
     "text": [
      "Error fetching supplier for SKU 1240530003 after 5 retries: HTTPSConnectionPool(host='www2.hm.com', port=443): Max retries exceeded with url: /en_us/supplierDetails/articles/1240530003 (Caused by ResponseError('too many 400 error responses'))\n"
     ]
    },
    {
     "name": "stderr",
     "output_type": "stream",
     "text": [
      "Fetching Supplier Details:  80%|█████████████████████████████████████         | 1523/1892 [45:16<37:52,  6.16s/product]"
     ]
    },
    {
     "name": "stdout",
     "output_type": "stream",
     "text": [
      "Error fetching supplier for SKU 1247919001 after 5 retries: HTTPSConnectionPool(host='www2.hm.com', port=443): Max retries exceeded with url: /en_us/supplierDetails/articles/1247919001 (Caused by ResponseError('too many 400 error responses'))\n"
     ]
    },
    {
     "name": "stderr",
     "output_type": "stream",
     "text": [
      "Fetching Supplier Details:  81%|█████████████████████████████████████▏        | 1529/1892 [45:37<39:58,  6.61s/product]"
     ]
    },
    {
     "name": "stdout",
     "output_type": "stream",
     "text": [
      "Error fetching supplier for SKU 1254614001 after 5 retries: HTTPSConnectionPool(host='www2.hm.com', port=443): Max retries exceeded with url: /en_us/supplierDetails/articles/1254614001 (Caused by ResponseError('too many 400 error responses'))\n"
     ]
    },
    {
     "name": "stderr",
     "output_type": "stream",
     "text": [
      "Fetching Supplier Details:  81%|█████████████████████████████████████▎        | 1533/1892 [45:57<42:54,  7.17s/product]"
     ]
    },
    {
     "name": "stdout",
     "output_type": "stream",
     "text": [
      "Error fetching supplier for SKU 1245365002 after 5 retries: HTTPSConnectionPool(host='www2.hm.com', port=443): Max retries exceeded with url: /en_us/supplierDetails/articles/1245365002 (Caused by ResponseError('too many 400 error responses'))\n"
     ]
    },
    {
     "name": "stderr",
     "output_type": "stream",
     "text": [
      "Fetching Supplier Details:  82%|█████████████████████████████████████▌        | 1543/1892 [46:20<36:07,  6.21s/product]"
     ]
    },
    {
     "name": "stdout",
     "output_type": "stream",
     "text": [
      "Error fetching supplier for SKU 1230514004 after 5 retries: HTTPSConnectionPool(host='www2.hm.com', port=443): Max retries exceeded with url: /en_us/supplierDetails/articles/1230514004 (Caused by ResponseError('too many 400 error responses'))\n"
     ]
    },
    {
     "name": "stderr",
     "output_type": "stream",
     "text": [
      "Fetching Supplier Details:  82%|█████████████████████████████████████▌        | 1545/1892 [46:39<49:45,  8.60s/product]"
     ]
    },
    {
     "name": "stdout",
     "output_type": "stream",
     "text": [
      "Error fetching supplier for SKU 1250076002 after 5 retries: HTTPSConnectionPool(host='www2.hm.com', port=443): Max retries exceeded with url: /en_us/supplierDetails/articles/1250076002 (Caused by ResponseError('too many 400 error responses'))\n"
     ]
    },
    {
     "name": "stderr",
     "output_type": "stream",
     "text": [
      "Fetching Supplier Details:  82%|█████████████████████████████████████▊        | 1554/1892 [47:01<34:32,  6.13s/product]"
     ]
    },
    {
     "name": "stdout",
     "output_type": "stream",
     "text": [
      "Error fetching supplier for SKU 1247746002 after 5 retries: HTTPSConnectionPool(host='www2.hm.com', port=443): Max retries exceeded with url: /en_us/supplierDetails/articles/1247746002 (Caused by ResponseError('too many 400 error responses'))\n"
     ]
    },
    {
     "name": "stderr",
     "output_type": "stream",
     "text": [
      "Fetching Supplier Details:  82%|█████████████████████████████████████▊        | 1555/1892 [47:20<55:21,  9.85s/product]"
     ]
    },
    {
     "name": "stdout",
     "output_type": "stream",
     "text": [
      "Error fetching supplier for SKU 1238294004 after 5 retries: HTTPSConnectionPool(host='www2.hm.com', port=443): Max retries exceeded with url: /en_us/supplierDetails/articles/1238294004 (Caused by ResponseError('too many 400 error responses'))\n"
     ]
    },
    {
     "name": "stderr",
     "output_type": "stream",
     "text": [
      "Fetching Supplier Details:  82%|█████████████████████████████████████▊        | 1557/1892 [47:38<57:46, 10.35s/product]"
     ]
    },
    {
     "name": "stdout",
     "output_type": "stream",
     "text": [
      "Error fetching supplier for SKU 1234392006 after 5 retries: HTTPSConnectionPool(host='www2.hm.com', port=443): Max retries exceeded with url: /en_us/supplierDetails/articles/1234392006 (Caused by ResponseError('too many 400 error responses'))\n"
     ]
    },
    {
     "name": "stderr",
     "output_type": "stream",
     "text": [
      "Fetching Supplier Details:  83%|█████████████████████████████████████▉        | 1562/1892 [47:58<40:41,  7.40s/product]"
     ]
    },
    {
     "name": "stdout",
     "output_type": "stream",
     "text": [
      "Error fetching supplier for SKU 1158129014 after 5 retries: HTTPSConnectionPool(host='www2.hm.com', port=443): Max retries exceeded with url: /en_us/supplierDetails/articles/1158129014 (Caused by ResponseError('too many 400 error responses'))\n"
     ]
    },
    {
     "name": "stderr",
     "output_type": "stream",
     "text": [
      "Fetching Supplier Details:  83%|██████████████████████████████████████        | 1567/1892 [48:19<38:15,  7.06s/product]"
     ]
    },
    {
     "name": "stdout",
     "output_type": "stream",
     "text": [
      "Error fetching supplier for SKU 1249840001 after 5 retries: HTTPSConnectionPool(host='www2.hm.com', port=443): Max retries exceeded with url: /en_us/supplierDetails/articles/1249840001 (Caused by ResponseError('too many 400 error responses'))\n"
     ]
    },
    {
     "name": "stderr",
     "output_type": "stream",
     "text": [
      "Fetching Supplier Details:  83%|██████████████████████████████████████▏       | 1572/1892 [48:40<37:31,  7.04s/product]"
     ]
    },
    {
     "name": "stdout",
     "output_type": "stream",
     "text": [
      "Error fetching supplier for SKU 0578626036 after 5 retries: HTTPSConnectionPool(host='www2.hm.com', port=443): Max retries exceeded with url: /en_us/supplierDetails/articles/0578626036 (Caused by ResponseError('too many 400 error responses'))\n"
     ]
    },
    {
     "name": "stderr",
     "output_type": "stream",
     "text": [
      "Fetching Supplier Details:  83%|██████████████████████████████████████▎       | 1576/1892 [49:02<42:37,  8.09s/product]"
     ]
    },
    {
     "name": "stdout",
     "output_type": "stream",
     "text": [
      "Error fetching supplier for SKU 1241257002 after 5 retries: HTTPSConnectionPool(host='www2.hm.com', port=443): Max retries exceeded with url: /en_us/supplierDetails/articles/1241257002 (Caused by ResponseError('too many 400 error responses'))\n"
     ]
    },
    {
     "name": "stderr",
     "output_type": "stream",
     "text": [
      "Fetching Supplier Details:  83%|██████████████████████████████████████▎       | 1578/1892 [49:21<50:09,  9.58s/product]"
     ]
    },
    {
     "name": "stdout",
     "output_type": "stream",
     "text": [
      "Error fetching supplier for SKU 1240962001 after 5 retries: HTTPSConnectionPool(host='www2.hm.com', port=443): Max retries exceeded with url: /en_us/supplierDetails/articles/1240962001 (Caused by ResponseError('too many 400 error responses'))\n"
     ]
    },
    {
     "name": "stderr",
     "output_type": "stream",
     "text": [
      "Fetching Supplier Details:  84%|██████████████████████████████████████▌       | 1584/1892 [49:41<34:49,  6.78s/product]"
     ]
    },
    {
     "name": "stdout",
     "output_type": "stream",
     "text": [
      "Error fetching supplier for SKU 1027870003 after 5 retries: HTTPSConnectionPool(host='www2.hm.com', port=443): Max retries exceeded with url: /en_us/supplierDetails/articles/1027870003 (Caused by ResponseError('too many 400 error responses'))\n"
     ]
    },
    {
     "name": "stderr",
     "output_type": "stream",
     "text": [
      "Fetching Supplier Details:  84%|██████████████████████████████████████▌       | 1587/1892 [50:00<40:10,  7.90s/product]"
     ]
    },
    {
     "name": "stdout",
     "output_type": "stream",
     "text": [
      "Error fetching supplier for SKU 1206915009 after 5 retries: HTTPSConnectionPool(host='www2.hm.com', port=443): Max retries exceeded with url: /en_us/supplierDetails/articles/1206915009 (Caused by ResponseError('too many 400 error responses'))\n"
     ]
    },
    {
     "name": "stderr",
     "output_type": "stream",
     "text": [
      "Fetching Supplier Details:  84%|██████████████████████████████████████▋       | 1590/1892 [50:21<43:37,  8.67s/product]"
     ]
    },
    {
     "name": "stdout",
     "output_type": "stream",
     "text": [
      "Error fetching supplier for SKU 1240962002 after 5 retries: HTTPSConnectionPool(host='www2.hm.com', port=443): Max retries exceeded with url: /en_us/supplierDetails/articles/1240962002 (Caused by ResponseError('too many 400 error responses'))\n"
     ]
    },
    {
     "name": "stderr",
     "output_type": "stream",
     "text": [
      "Fetching Supplier Details:  85%|███████████████████████████████████████▏      | 1610/1892 [50:50<27:01,  5.75s/product]"
     ]
    },
    {
     "name": "stdout",
     "output_type": "stream",
     "text": [
      "Error fetching supplier for SKU 1258779002 after 5 retries: HTTPSConnectionPool(host='www2.hm.com', port=443): Max retries exceeded with url: /en_us/supplierDetails/articles/1258779002 (Caused by ResponseError('too many 400 error responses'))\n"
     ]
    },
    {
     "name": "stderr",
     "output_type": "stream",
     "text": [
      "Fetching Supplier Details:  85%|███████████████████████████████████████▏      | 1613/1892 [51:09<36:10,  7.78s/product]"
     ]
    },
    {
     "name": "stdout",
     "output_type": "stream",
     "text": [
      "Error fetching supplier for SKU 1259383004 after 5 retries: HTTPSConnectionPool(host='www2.hm.com', port=443): Max retries exceeded with url: /en_us/supplierDetails/articles/1259383004 (Caused by ResponseError('too many 400 error responses'))\n"
     ]
    },
    {
     "name": "stderr",
     "output_type": "stream",
     "text": [
      "Fetching Supplier Details:  86%|███████████████████████████████████████▎      | 1618/1892 [51:30<32:27,  7.11s/product]"
     ]
    },
    {
     "name": "stdout",
     "output_type": "stream",
     "text": [
      "Error fetching supplier for SKU 0742400163 after 5 retries: HTTPSConnectionPool(host='www2.hm.com', port=443): Max retries exceeded with url: /en_us/supplierDetails/articles/0742400163 (Caused by ResponseError('too many 400 error responses'))\n"
     ]
    },
    {
     "name": "stderr",
     "output_type": "stream",
     "text": [
      "Fetching Supplier Details:  86%|███████████████████████████████████████▎      | 1619/1892 [51:52<52:34, 11.56s/product]"
     ]
    },
    {
     "name": "stdout",
     "output_type": "stream",
     "text": [
      "Error fetching supplier for SKU 1228773001 after 5 retries: HTTPSConnectionPool(host='www2.hm.com', port=443): Max retries exceeded with url: /en_us/supplierDetails/articles/1228773001 (Caused by ResponseError('too many 400 error responses'))\n"
     ]
    },
    {
     "name": "stderr",
     "output_type": "stream",
     "text": [
      "Fetching Supplier Details:  86%|███████████████████████████████████████▊      | 1636/1892 [52:18<24:52,  5.83s/product]"
     ]
    },
    {
     "name": "stdout",
     "output_type": "stream",
     "text": [
      "Error fetching supplier for SKU 1246740001 after 5 retries: HTTPSConnectionPool(host='www2.hm.com', port=443): Max retries exceeded with url: /en_us/supplierDetails/articles/1246740001 (Caused by ResponseError('too many 400 error responses'))\n"
     ]
    },
    {
     "name": "stderr",
     "output_type": "stream",
     "text": [
      "Fetching Supplier Details:  88%|████████████████████████████████████████▎     | 1657/1892 [52:53<25:50,  6.60s/product]"
     ]
    },
    {
     "name": "stdout",
     "output_type": "stream",
     "text": [
      "Error fetching supplier for SKU 1207938001 after 5 retries: HTTPSConnectionPool(host='www2.hm.com', port=443): Max retries exceeded with url: /en_us/supplierDetails/articles/1207938001 (Caused by ResponseError('too many 400 error responses'))\n"
     ]
    },
    {
     "name": "stderr",
     "output_type": "stream",
     "text": [
      "Fetching Supplier Details:  88%|████████████████████████████████████████▌     | 1666/1892 [53:18<24:04,  6.39s/product]"
     ]
    },
    {
     "name": "stdout",
     "output_type": "stream",
     "text": [
      "Error fetching supplier for SKU 1230653003 after 5 retries: HTTPSConnectionPool(host='www2.hm.com', port=443): Max retries exceeded with url: /en_us/supplierDetails/articles/1230653003 (Caused by ResponseError('too many 400 error responses'))\n"
     ]
    },
    {
     "name": "stderr",
     "output_type": "stream",
     "text": [
      "Fetching Supplier Details:  89%|████████████████████████████████████████▋     | 1675/1892 [53:39<21:15,  5.88s/product]"
     ]
    },
    {
     "name": "stdout",
     "output_type": "stream",
     "text": [
      "Error fetching supplier for SKU 1234387002 after 5 retries: HTTPSConnectionPool(host='www2.hm.com', port=443): Max retries exceeded with url: /en_us/supplierDetails/articles/1234387002 (Caused by ResponseError('too many 400 error responses'))\n"
     ]
    },
    {
     "name": "stderr",
     "output_type": "stream",
     "text": [
      "Fetching Supplier Details:  89%|████████████████████████████████████████▉     | 1682/1892 [54:00<21:32,  6.15s/product]"
     ]
    },
    {
     "name": "stdout",
     "output_type": "stream",
     "text": [
      "Error fetching supplier for SKU 1247919002 after 5 retries: HTTPSConnectionPool(host='www2.hm.com', port=443): Max retries exceeded with url: /en_us/supplierDetails/articles/1247919002 (Caused by ResponseError('too many 400 error responses'))\n"
     ]
    },
    {
     "name": "stderr",
     "output_type": "stream",
     "text": [
      "Fetching Supplier Details:  89%|█████████████████████████████████████████     | 1689/1892 [54:22<21:55,  6.48s/product]"
     ]
    },
    {
     "name": "stdout",
     "output_type": "stream",
     "text": [
      "Error fetching supplier for SKU 1238203014 after 5 retries: HTTPSConnectionPool(host='www2.hm.com', port=443): Max retries exceeded with url: /en_us/supplierDetails/articles/1238203014 (Caused by ResponseError('too many 400 error responses'))\n"
     ]
    },
    {
     "name": "stderr",
     "output_type": "stream",
     "text": [
      "2025-07-01 21:33:23,519 - WARNING - Retrying (Retry(total=4, connect=None, read=None, redirect=None, status=None)) after connection broken by 'ProtocolError('Connection aborted.', ConnectionAbortedError(10053, 'An established connection was aborted by the software in your host machine', None, 10053, None))': /en_us/supplierDetails/articles/1284206001\n",
      "2025-07-01 21:33:24,955 - WARNING - Retrying (Retry(total=3, connect=None, read=None, redirect=None, status=None)) after connection broken by 'NewConnectionError('<urllib3.connection.HTTPSConnection object at 0x00000210EDF62E90>: Failed to establish a new connection: [WinError 10013] An attempt was made to access a socket in a way forbidden by its access permissions')': /en_us/supplierDetails/articles/1284206001\n",
      "2025-07-01 21:33:27,017 - WARNING - Retrying (Retry(total=2, connect=None, read=None, redirect=None, status=None)) after connection broken by 'NewConnectionError('<urllib3.connection.HTTPSConnection object at 0x00000210EDF62D50>: Failed to establish a new connection: [WinError 10013] An attempt was made to access a socket in a way forbidden by its access permissions')': /en_us/supplierDetails/articles/1284206001\n",
      "2025-07-01 21:33:31,022 - WARNING - Retrying (Retry(total=1, connect=None, read=None, redirect=None, status=None)) after connection broken by 'NewConnectionError('<urllib3.connection.HTTPSConnection object at 0x00000210EDF62FD0>: Failed to establish a new connection: [WinError 10013] An attempt was made to access a socket in a way forbidden by its access permissions')': /en_us/supplierDetails/articles/1284206001\n",
      "Fetching Supplier Details:  89%|█████████████████████████████████████████     | 1691/1892 [55:00<42:50, 12.79s/product]"
     ]
    },
    {
     "name": "stdout",
     "output_type": "stream",
     "text": [
      "Error fetching supplier for SKU 1013956057 after 5 retries: HTTPSConnectionPool(host='www2.hm.com', port=443): Max retries exceeded with url: /en_us/supplierDetails/articles/1013956057 (Caused by ResponseError('too many 400 error responses'))\n"
     ]
    },
    {
     "name": "stderr",
     "output_type": "stream",
     "text": [
      "Fetching Supplier Details:  91%|██████████████████████████████████████████    | 1728/1892 [55:36<16:01,  5.87s/product]"
     ]
    },
    {
     "name": "stdout",
     "output_type": "stream",
     "text": [
      "Error fetching supplier for SKU 1229069011 after 5 retries: HTTPSConnectionPool(host='www2.hm.com', port=443): Max retries exceeded with url: /en_us/supplierDetails/articles/1229069011 (Caused by ResponseError('too many 400 error responses'))\n"
     ]
    },
    {
     "name": "stderr",
     "output_type": "stream",
     "text": [
      "Fetching Supplier Details:  92%|██████████████████████████████████████████▏   | 1737/1892 [56:04<16:58,  6.57s/product]"
     ]
    },
    {
     "name": "stdout",
     "output_type": "stream",
     "text": [
      "Error fetching supplier for SKU 1235194001 after 5 retries: HTTPSConnectionPool(host='www2.hm.com', port=443): Max retries exceeded with url: /en_us/supplierDetails/articles/1235194001 (Caused by ResponseError('too many 400 error responses'))\n"
     ]
    },
    {
     "name": "stderr",
     "output_type": "stream",
     "text": [
      "Fetching Supplier Details:  92%|██████████████████████████████████████████▎   | 1739/1892 [56:24<23:00,  9.02s/product]"
     ]
    },
    {
     "name": "stdout",
     "output_type": "stream",
     "text": [
      "Error fetching supplier for SKU 1232515003 after 5 retries: HTTPSConnectionPool(host='www2.hm.com', port=443): Max retries exceeded with url: /en_us/supplierDetails/articles/1232515003 (Caused by ResponseError('too many 400 error responses'))\n"
     ]
    },
    {
     "name": "stderr",
     "output_type": "stream",
     "text": [
      "Fetching Supplier Details:  92%|██████████████████████████████████████████▎   | 1740/1892 [56:42<29:43, 11.73s/product]"
     ]
    },
    {
     "name": "stdout",
     "output_type": "stream",
     "text": [
      "Error fetching supplier for SKU 1232055004 after 5 retries: HTTPSConnectionPool(host='www2.hm.com', port=443): Max retries exceeded with url: /en_us/supplierDetails/articles/1232055004 (Caused by ResponseError('too many 400 error responses'))\n"
     ]
    },
    {
     "name": "stderr",
     "output_type": "stream",
     "text": [
      "Fetching Supplier Details:  92%|██████████████████████████████████████████▍   | 1746/1892 [57:04<18:21,  7.54s/product]"
     ]
    },
    {
     "name": "stdout",
     "output_type": "stream",
     "text": [
      "Error fetching supplier for SKU 1265552001 after 5 retries: HTTPSConnectionPool(host='www2.hm.com', port=443): Max retries exceeded with url: /en_us/supplierDetails/articles/1265552001 (Caused by ResponseError('too many 400 error responses'))\n"
     ]
    },
    {
     "name": "stderr",
     "output_type": "stream",
     "text": [
      "Fetching Supplier Details:  93%|██████████████████████████████████████████▌   | 1752/1892 [57:25<15:42,  6.73s/product]"
     ]
    },
    {
     "name": "stdout",
     "output_type": "stream",
     "text": [
      "Error fetching supplier for SKU 1249841001 after 5 retries: HTTPSConnectionPool(host='www2.hm.com', port=443): Max retries exceeded with url: /en_us/supplierDetails/articles/1249841001 (Caused by ResponseError('too many 400 error responses'))\n"
     ]
    },
    {
     "name": "stderr",
     "output_type": "stream",
     "text": [
      "Fetching Supplier Details:  93%|██████████████████████████████████████████▊   | 1761/1892 [57:46<12:46,  5.85s/product]"
     ]
    },
    {
     "name": "stdout",
     "output_type": "stream",
     "text": [
      "Error fetching supplier for SKU 1235193002 after 5 retries: HTTPSConnectionPool(host='www2.hm.com', port=443): Max retries exceeded with url: /en_us/supplierDetails/articles/1235193002 (Caused by ResponseError('too many 400 error responses'))\n"
     ]
    },
    {
     "name": "stderr",
     "output_type": "stream",
     "text": [
      "Fetching Supplier Details:  93%|██████████████████████████████████████████▉   | 1766/1892 [58:06<13:39,  6.51s/product]"
     ]
    },
    {
     "name": "stdout",
     "output_type": "stream",
     "text": [
      "Error fetching supplier for SKU 1248149001 after 5 retries: HTTPSConnectionPool(host='www2.hm.com', port=443): Max retries exceeded with url: /en_us/supplierDetails/articles/1248149001 (Caused by ResponseError('too many 400 error responses'))\n"
     ]
    },
    {
     "name": "stderr",
     "output_type": "stream",
     "text": [
      "Fetching Supplier Details:  93%|███████████████████████████████████████████   | 1769/1892 [58:25<16:04,  7.84s/product]"
     ]
    },
    {
     "name": "stdout",
     "output_type": "stream",
     "text": [
      "Error fetching supplier for SKU 1257590005 after 5 retries: HTTPSConnectionPool(host='www2.hm.com', port=443): Max retries exceeded with url: /en_us/supplierDetails/articles/1257590005 (Caused by ResponseError('too many 400 error responses'))\n"
     ]
    },
    {
     "name": "stderr",
     "output_type": "stream",
     "text": [
      "Fetching Supplier Details:  94%|███████████████████████████████████████████   | 1772/1892 [58:44<16:56,  8.47s/product]"
     ]
    },
    {
     "name": "stdout",
     "output_type": "stream",
     "text": [
      "Error fetching supplier for SKU 1254107002 after 5 retries: HTTPSConnectionPool(host='www2.hm.com', port=443): Max retries exceeded with url: /en_us/supplierDetails/articles/1254107002 (Caused by ResponseError('too many 400 error responses'))\n"
     ]
    },
    {
     "name": "stderr",
     "output_type": "stream",
     "text": [
      "Fetching Supplier Details:  94%|███████████████████████████████████████████▏  | 1777/1892 [59:04<13:31,  7.06s/product]"
     ]
    },
    {
     "name": "stdout",
     "output_type": "stream",
     "text": [
      "Error fetching supplier for SKU 1065654054 after 5 retries: HTTPSConnectionPool(host='www2.hm.com', port=443): Max retries exceeded with url: /en_us/supplierDetails/articles/1065654054 (Caused by ResponseError('too many 400 error responses'))\n"
     ]
    },
    {
     "name": "stderr",
     "output_type": "stream",
     "text": [
      "Fetching Supplier Details:  94%|███████████████████████████████████████████▍  | 1786/1892 [59:27<10:33,  5.98s/product]"
     ]
    },
    {
     "name": "stdout",
     "output_type": "stream",
     "text": [
      "Error fetching supplier for SKU 1225509002 after 5 retries: HTTPSConnectionPool(host='www2.hm.com', port=443): Max retries exceeded with url: /en_us/supplierDetails/articles/1225509002 (Caused by ResponseError('too many 400 error responses'))\n"
     ]
    },
    {
     "name": "stderr",
     "output_type": "stream",
     "text": [
      "Fetching Supplier Details:  94%|███████████████████████████████████████████▍  | 1787/1892 [59:45<16:32,  9.45s/product]"
     ]
    },
    {
     "name": "stdout",
     "output_type": "stream",
     "text": [
      "Error fetching supplier for SKU 1238203007 after 5 retries: HTTPSConnectionPool(host='www2.hm.com', port=443): Max retries exceeded with url: /en_us/supplierDetails/articles/1238203007 (Caused by ResponseError('too many 400 error responses'))\n"
     ]
    },
    {
     "name": "stderr",
     "output_type": "stream",
     "text": [
      "Fetching Supplier Details:  95%|█████████████████████████████████████████▋  | 1791/1892 [1:00:03<13:00,  7.73s/product]"
     ]
    },
    {
     "name": "stdout",
     "output_type": "stream",
     "text": [
      "Error fetching supplier for SKU 1236159005 after 5 retries: HTTPSConnectionPool(host='www2.hm.com', port=443): Max retries exceeded with url: /en_us/supplierDetails/articles/1236159005 (Caused by ResponseError('too many 400 error responses'))\n"
     ]
    },
    {
     "name": "stderr",
     "output_type": "stream",
     "text": [
      "Fetching Supplier Details:  95%|█████████████████████████████████████████▊  | 1800/1892 [1:00:25<09:11,  5.99s/product]"
     ]
    },
    {
     "name": "stdout",
     "output_type": "stream",
     "text": [
      "Error fetching supplier for SKU 1232232001 after 5 retries: HTTPSConnectionPool(host='www2.hm.com', port=443): Max retries exceeded with url: /en_us/supplierDetails/articles/1232232001 (Caused by ResponseError('too many 400 error responses'))\n"
     ]
    },
    {
     "name": "stderr",
     "output_type": "stream",
     "text": [
      "Fetching Supplier Details:  95%|█████████████████████████████████████████▉  | 1805/1892 [1:00:46<09:55,  6.85s/product]"
     ]
    },
    {
     "name": "stdout",
     "output_type": "stream",
     "text": [
      "Error fetching supplier for SKU 1238273001 after 5 retries: HTTPSConnectionPool(host='www2.hm.com', port=443): Max retries exceeded with url: /en_us/supplierDetails/articles/1238273001 (Caused by ResponseError('too many 400 error responses'))\n"
     ]
    },
    {
     "name": "stderr",
     "output_type": "stream",
     "text": [
      "Fetching Supplier Details:  95%|██████████████████████████████████████████  | 1806/1892 [1:01:03<14:34, 10.17s/product]"
     ]
    },
    {
     "name": "stdout",
     "output_type": "stream",
     "text": [
      "Error fetching supplier for SKU 1212180004 after 5 retries: HTTPSConnectionPool(host='www2.hm.com', port=443): Max retries exceeded with url: /en_us/supplierDetails/articles/1212180004 (Caused by ResponseError('too many 400 error responses'))\n"
     ]
    },
    {
     "name": "stderr",
     "output_type": "stream",
     "text": [
      "Fetching Supplier Details:  96%|██████████████████████████████████████████▏ | 1813/1892 [1:01:24<08:27,  6.42s/product]"
     ]
    },
    {
     "name": "stdout",
     "output_type": "stream",
     "text": [
      "Error fetching supplier for SKU 1026138001 after 5 retries: HTTPSConnectionPool(host='www2.hm.com', port=443): Max retries exceeded with url: /en_us/supplierDetails/articles/1026138001 (Caused by ResponseError('too many 400 error responses'))\n"
     ]
    },
    {
     "name": "stderr",
     "output_type": "stream",
     "text": [
      "Fetching Supplier Details:  96%|██████████████████████████████████████████▏ | 1815/1892 [1:01:43<11:00,  8.58s/product]"
     ]
    },
    {
     "name": "stdout",
     "output_type": "stream",
     "text": [
      "Error fetching supplier for SKU 1065654060 after 5 retries: HTTPSConnectionPool(host='www2.hm.com', port=443): Max retries exceeded with url: /en_us/supplierDetails/articles/1065654060 (Caused by ResponseError('too many 400 error responses'))\n"
     ]
    },
    {
     "name": "stderr",
     "output_type": "stream",
     "text": [
      "Fetching Supplier Details:  96%|██████████████████████████████████████████▏ | 1816/1892 [1:02:01<14:25, 11.39s/product]"
     ]
    },
    {
     "name": "stdout",
     "output_type": "stream",
     "text": [
      "Error fetching supplier for SKU 1070268014 after 5 retries: HTTPSConnectionPool(host='www2.hm.com', port=443): Max retries exceeded with url: /en_us/supplierDetails/articles/1070268014 (Caused by ResponseError('too many 400 error responses'))\n"
     ]
    },
    {
     "name": "stderr",
     "output_type": "stream",
     "text": [
      "Fetching Supplier Details:  96%|██████████████████████████████████████████▍ | 1823/1892 [1:02:22<07:54,  6.87s/product]"
     ]
    },
    {
     "name": "stdout",
     "output_type": "stream",
     "text": [
      "Error fetching supplier for SKU 1207938002 after 5 retries: HTTPSConnectionPool(host='www2.hm.com', port=443): Max retries exceeded with url: /en_us/supplierDetails/articles/1207938002 (Caused by ResponseError('too many 400 error responses'))\n"
     ]
    },
    {
     "name": "stderr",
     "output_type": "stream",
     "text": [
      "Fetching Supplier Details:  96%|██████████████████████████████████████████▍ | 1825/1892 [1:02:40<09:45,  8.74s/product]"
     ]
    },
    {
     "name": "stdout",
     "output_type": "stream",
     "text": [
      "Error fetching supplier for SKU 1228015002 after 5 retries: HTTPSConnectionPool(host='www2.hm.com', port=443): Max retries exceeded with url: /en_us/supplierDetails/articles/1228015002 (Caused by ResponseError('too many 400 error responses'))\n"
     ]
    },
    {
     "name": "stderr",
     "output_type": "stream",
     "text": [
      "Fetching Supplier Details:  97%|██████████████████████████████████████████▍ | 1827/1892 [1:03:03<11:59, 11.06s/product]"
     ]
    },
    {
     "name": "stdout",
     "output_type": "stream",
     "text": [
      "Error fetching supplier for SKU 1231419006 after 5 retries: HTTPSConnectionPool(host='www2.hm.com', port=443): Max retries exceeded with url: /en_us/supplierDetails/articles/1231419006 (Caused by ResponseError('too many 400 error responses'))\n"
     ]
    },
    {
     "name": "stderr",
     "output_type": "stream",
     "text": [
      "Fetching Supplier Details:  97%|██████████████████████████████████████████▌ | 1830/1892 [1:03:22<09:45,  9.45s/product]"
     ]
    },
    {
     "name": "stdout",
     "output_type": "stream",
     "text": [
      "Error fetching supplier for SKU 1232044001 after 5 retries: HTTPSConnectionPool(host='www2.hm.com', port=443): Max retries exceeded with url: /en_us/supplierDetails/articles/1232044001 (Caused by ResponseError('too many 400 error responses'))\n"
     ]
    },
    {
     "name": "stderr",
     "output_type": "stream",
     "text": [
      "Fetching Supplier Details:  97%|██████████████████████████████████████████▌ | 1832/1892 [1:03:44<11:03, 11.06s/product]"
     ]
    },
    {
     "name": "stdout",
     "output_type": "stream",
     "text": [
      "Error fetching supplier for SKU 1232061004 after 5 retries: HTTPSConnectionPool(host='www2.hm.com', port=443): Max retries exceeded with url: /en_us/supplierDetails/articles/1232061004 (Caused by ProtocolError('Connection aborted.', ConnectionAbortedError(10053, 'An established connection was aborted by the software in your host machine', None, 10053, None)))\n"
     ]
    },
    {
     "name": "stderr",
     "output_type": "stream",
     "text": [
      "2025-07-01 21:42:35,712 - WARNING - Retrying (Retry(total=4, connect=None, read=None, redirect=None, status=None)) after connection broken by 'NewConnectionError('<urllib3.connection.HTTPSConnection object at 0x00000210EDF8E710>: Failed to establish a new connection: [WinError 10013] An attempt was made to access a socket in a way forbidden by its access permissions')': /en_us/supplierDetails/articles/1232217003\n",
      "2025-07-01 21:42:36,714 - WARNING - Retrying (Retry(total=3, connect=None, read=None, redirect=None, status=None)) after connection broken by 'NewConnectionError('<urllib3.connection.HTTPSConnection object at 0x00000210EDF8E990>: Failed to establish a new connection: [WinError 10013] An attempt was made to access a socket in a way forbidden by its access permissions')': /en_us/supplierDetails/articles/1232217003\n",
      "2025-07-01 21:42:38,719 - WARNING - Retrying (Retry(total=2, connect=None, read=None, redirect=None, status=None)) after connection broken by 'NewConnectionError('<urllib3.connection.HTTPSConnection object at 0x00000210EDF8EC10>: Failed to establish a new connection: [WinError 10013] An attempt was made to access a socket in a way forbidden by its access permissions')': /en_us/supplierDetails/articles/1232217003\n",
      "Fetching Supplier Details:  97%|██████████████████████████████████████████▋ | 1837/1892 [1:04:10<07:28,  8.16s/product]"
     ]
    },
    {
     "name": "stdout",
     "output_type": "stream",
     "text": [
      "Error fetching supplier for SKU 1240530005 after 5 retries: HTTPSConnectionPool(host='www2.hm.com', port=443): Max retries exceeded with url: /en_us/supplierDetails/articles/1240530005 (Caused by ResponseError('too many 400 error responses'))\n"
     ]
    },
    {
     "name": "stderr",
     "output_type": "stream",
     "text": [
      "Fetching Supplier Details:  97%|██████████████████████████████████████████▋ | 1838/1892 [1:04:29<10:21, 11.50s/product]"
     ]
    },
    {
     "name": "stdout",
     "output_type": "stream",
     "text": [
      "Error fetching supplier for SKU 1240533003 after 5 retries: HTTPSConnectionPool(host='www2.hm.com', port=443): Max retries exceeded with url: /en_us/supplierDetails/articles/1240533003 (Caused by ResponseError('too many 400 error responses'))\n"
     ]
    },
    {
     "name": "stderr",
     "output_type": "stream",
     "text": [
      "Fetching Supplier Details:  97%|██████████████████████████████████████████▊ | 1843/1892 [1:04:49<06:11,  7.59s/product]"
     ]
    },
    {
     "name": "stdout",
     "output_type": "stream",
     "text": [
      "Error fetching supplier for SKU 1247032004 after 5 retries: HTTPSConnectionPool(host='www2.hm.com', port=443): Max retries exceeded with url: /en_us/supplierDetails/articles/1247032004 (Caused by ResponseError('too many 400 error responses'))\n"
     ]
    },
    {
     "name": "stderr",
     "output_type": "stream",
     "text": [
      "Fetching Supplier Details:  98%|███████████████████████████████████████████ | 1853/1892 [1:05:13<04:00,  6.16s/product]"
     ]
    },
    {
     "name": "stdout",
     "output_type": "stream",
     "text": [
      "Error fetching supplier for SKU 1254616003 after 5 retries: HTTPSConnectionPool(host='www2.hm.com', port=443): Max retries exceeded with url: /en_us/supplierDetails/articles/1254616003 (Caused by ResponseError('too many 400 error responses'))\n"
     ]
    },
    {
     "name": "stderr",
     "output_type": "stream",
     "text": [
      "Fetching Supplier Details:  98%|███████████████████████████████████████████ | 1854/1892 [1:05:33<06:26, 10.16s/product]"
     ]
    },
    {
     "name": "stdout",
     "output_type": "stream",
     "text": [
      "Error fetching supplier for SKU 1254663002 after 5 retries: HTTPSConnectionPool(host='www2.hm.com', port=443): Max retries exceeded with url: /en_us/supplierDetails/articles/1254663002 (Caused by ResponseError('too many 400 error responses'))\n"
     ]
    },
    {
     "name": "stderr",
     "output_type": "stream",
     "text": [
      "Fetching Supplier Details:  98%|███████████████████████████████████████████▏| 1857/1892 [1:05:52<05:18,  9.09s/product]"
     ]
    },
    {
     "name": "stdout",
     "output_type": "stream",
     "text": [
      "Error fetching supplier for SKU 1257118003 after 5 retries: HTTPSConnectionPool(host='www2.hm.com', port=443): Max retries exceeded with url: /en_us/supplierDetails/articles/1257118003 (Caused by ResponseError('too many 400 error responses'))\n"
     ]
    },
    {
     "name": "stderr",
     "output_type": "stream",
     "text": [
      "Fetching Supplier Details:  99%|███████████████████████████████████████████▌| 1873/1892 [1:06:19<01:50,  5.82s/product]"
     ]
    },
    {
     "name": "stdout",
     "output_type": "stream",
     "text": [
      "Error fetching supplier for SKU 1235422002 after 5 retries: HTTPSConnectionPool(host='www2.hm.com', port=443): Max retries exceeded with url: /en_us/supplierDetails/articles/1235422002 (Caused by ResponseError('too many 400 error responses'))\n"
     ]
    },
    {
     "name": "stderr",
     "output_type": "stream",
     "text": [
      "Fetching Supplier Details:  99%|███████████████████████████████████████████▋| 1877/1892 [1:06:40<01:51,  7.41s/product]"
     ]
    },
    {
     "name": "stdout",
     "output_type": "stream",
     "text": [
      "Error fetching supplier for SKU 1232212003 after 5 retries: HTTPSConnectionPool(host='www2.hm.com', port=443): Max retries exceeded with url: /en_us/supplierDetails/articles/1232212003 (Caused by ResponseError('too many 400 error responses'))\n"
     ]
    },
    {
     "name": "stderr",
     "output_type": "stream",
     "text": [
      "Fetching Supplier Details: 100%|████████████████████████████████████████████| 1892/1892 [1:06:49<00:00,  2.12s/product]"
     ]
    },
    {
     "name": "stdout",
     "output_type": "stream",
     "text": [
      "\n",
      "Sample data:\n",
      "           id         sku                            name brandName  \\\n",
      "0  1292861001  1292861001  Slim-Fit Cable-Knit Polo Shirt       H&M   \n",
      "1  1290111001  1290111001   Regular-Fit Boxy Poplin Shirt       H&M   \n",
      "2  1292861003  1292861003  Slim-Fit Cable-Knit Polo Shirt       H&M   \n",
      "3  1275594004  1275594004             Slim-Fit Crop Pants       H&M   \n",
      "4  1292861002  1292861002  Slim-Fit Cable-Knit Polo Shirt       H&M   \n",
      "\n",
      "                                  url  \\\n",
      "0  /en_us/productpage.1292861001.html   \n",
      "1  /en_us/productpage.1290111001.html   \n",
      "2  /en_us/productpage.1292861003.html   \n",
      "3  /en_us/productpage.1275594004.html   \n",
      "4  /en_us/productpage.1292861002.html   \n",
      "\n",
      "                                       canonical_url  final_price_value  \\\n",
      "0  https://www2.hm.com/en_us/productpage.12928610...              44.99   \n",
      "1  https://www2.hm.com/en_us/productpage.12901110...              24.99   \n",
      "2  https://www2.hm.com/en_us/productpage.12928610...              44.99   \n",
      "3  https://www2.hm.com/en_us/productpage.12755940...              42.99   \n",
      "4  https://www2.hm.com/en_us/productpage.12928610...              44.99   \n",
      "\n",
      "  final_price_currency  regular_price_value regular_price_currency  ...  \\\n",
      "0                    $                44.99                      $  ...   \n",
      "1                    $                24.99                      $  ...   \n",
      "2                    $                44.99                      $  ...   \n",
      "3                    $                42.99                      $  ...   \n",
      "4                    $                44.99                      $  ...   \n",
      "\n",
      "   sellingAttribute  newArrival isSale  \\\n",
      "0       New Arrival        True  False   \n",
      "1       New Arrival        True  False   \n",
      "2       New Arrival        True  False   \n",
      "3       New Arrival        True  False   \n",
      "4       New Arrival        True  False   \n",
      "\n",
      "                                          modelImage  colors supplier_country  \\\n",
      "0  https://image.hm.com/assets/hm/f8/0f/f80f8c8fd...  F1EEE6            China   \n",
      "1  https://image.hm.com/assets/hm/6f/6a/6f6a2c419...  B2BED9             None   \n",
      "2  https://image.hm.com/assets/hm/d5/18/d518a3068...  726A5D            China   \n",
      "3  https://image.hm.com/assets/hm/d6/6e/d66eada8a...  F0EFEC            India   \n",
      "4  https://image.hm.com/assets/hm/9d/66/9d66ed64d...  FAD1D4            China   \n",
      "\n",
      "                   supplier_name                     factory_name  \\\n",
      "0  SUZHOU WANLI KNITTING CO.,LTD     JUYE WANLI GARMENT CO., LTD.   \n",
      "1                           None                             None   \n",
      "2  SUZHOU WANLI KNITTING CO.,LTD     JUYE WANLI GARMENT CO., LTD.   \n",
      "3  SHAHI EXPORTS PRIVATE LIMITED  AHP Garments Pvt. Ltd., Unit-54   \n",
      "4  SUZHOU WANLI KNITTING CO.,LTD     JUYE WANLI GARMENT CO., LTD.   \n",
      "\n",
      "                                     factory_address factory_workers_number  \n",
      "0  North of Wanliu Road, 3 kilometers from West W...              1001-1500  \n",
      "1                                               None                   None  \n",
      "2  North of Wanliu Road, 3 kilometers from West W...              1001-1500  \n",
      "3  Plot No.1D, Rayapur Industrial Area, Rayapur, ...              3001-3500  \n",
      "4  North of Wanliu Road, 3 kilometers from West W...              1001-1500  \n",
      "\n",
      "[5 rows x 29 columns]\n",
      "\n",
      "DataFrame columns:\n",
      "Index(['id', 'sku', 'name', 'brandName', 'url', 'canonical_url',\n",
      "       'final_price_value', 'final_price_currency', 'regular_price_value',\n",
      "       'regular_price_currency', 'in_stock', 'coming_soon', 'all_image_data',\n",
      "       'swatch_data', 'colorName_main', 'colorCode_main', 'colourShades',\n",
      "       'available_sizes', 'mainCatCode', 'sellingAttribute', 'newArrival',\n",
      "       'isSale', 'modelImage', 'colors', 'supplier_country', 'supplier_name',\n",
      "       'factory_name', 'factory_address', 'factory_workers_number'],\n",
      "      dtype='object')\n",
      "Data saved to HnM_CLOTHING_MEN_USA_010725.csv. Total products with data: 1892\n"
     ]
    },
    {
     "name": "stderr",
     "output_type": "stream",
     "text": [
      "\n"
     ]
    }
   ],
   "source": [
    "# API calls\n",
    "headers = {\n",
    "    'Accept': 'application/json',\n",
    "    'Accept-Language': 'en-GB,en-US;q=0.9,en;q=0.8,id;q=0.7,ms;q=0.6',\n",
    "    'Cache-Control': 'no-cache',\n",
    "    'Origin': 'https://www2.hm.com',\n",
    "    'Pragma': 'no-cache',\n",
    "    'Priority': 'u=1, i',\n",
    "    'Referer': 'https://www2.hm.com/',\n",
    "    'Sec-Ch-Ua': '\"Google Chrome\";v=\"137\", \"Chromium\";v=\"137\", \"Not/A)Brand\";v=\"24\"',\n",
    "    'Sec-Ch-Ua-Mobile': '?0',\n",
    "    'Sec-Ch-Ua-Platform': '\"Windows\"',\n",
    "    'Sec-Fetch-Dest': 'empty',\n",
    "    'Sec-Fetch-Mode': 'cors',\n",
    "    'Sec-Fetch-Site': 'same-site',\n",
    "    'User-Agent': 'Mozilla/5.0 (Windows NT 10.0; Win64; x64) AppleWebKit/537.36 (KHTML, like Gecko) Chrome/137.0.0.0 Safari/537.36',\n",
    "    'X-Customer-Key': 'd150a6cc-6e04-4804-8447-3ab67460a1d9',\n",
    "    'X-Session-Key': 'd150a6cc-6e04-4804-8447-3ab67460a1d9',\n",
    "}\n",
    "\n",
    "# Base URL\n",
    "product_list_base_url = 'https://api.hm.com/search-services/v1/en_us/listing/resultpage'\n",
    "\n",
    "# Base URL supplier details GET request\n",
    "supplier_detail_base_url = 'https://www2.hm.com/en_us/supplierDetails/articles/'\n",
    "\n",
    "# Base parameters\n",
    "base_params = {\n",
    "    'pageSource': 'PLP',\n",
    "    'page': 1, \n",
    "    'sort': 'RELEVANCE',\n",
    "    'pageId': '/men/shop-by-product/view-all',\n",
    "    'page-size': 36,\n",
    "    'categoryId': 'men_viewall',\n",
    "    'filters': 'sale:false||oldSale:false',\n",
    "    'touchPoint': 'DESKTOP',\n",
    "    'skipStockCheck': 'false',\n",
    "}\n",
    "\n",
    "# Max retries for a request\n",
    "RETRY_MAX = 5\n",
    "# Status codes to retry on (400 Client Error, 5xx Server Errors, etc)\n",
    "RETRY_STATUS_FORCELIST = [400, 401, 403, 404, 408, 429, 500, 502, 503, 504]\n",
    "RETRY_BACKOFF_FACTOR = 0.5 # 0.5, 1, 2, 4, 8 seconds\n",
    "\n",
    "session = requests.Session()\n",
    "retries = Retry(total=RETRY_MAX,\n",
    "                backoff_factor=RETRY_BACKOFF_FACTOR,\n",
    "                status_forcelist=RETRY_STATUS_FORCELIST,\n",
    "                allowed_methods=frozenset(['GET', 'POST']))\n",
    "\n",
    "session.mount('http://', HTTPAdapter(max_retries=retries))\n",
    "session.mount('https://', HTTPAdapter(max_retries=retries))\n",
    "\n",
    "\n",
    "# --- Product Listing Scraping Loop ---\n",
    "all_products_raw = []\n",
    "current_page = 1\n",
    "total_pages = 1 \n",
    "\n",
    "while current_page <= total_pages:\n",
    "    print(f\"Scraping product listing page {current_page}...\")\n",
    "\n",
    "    request_params = base_params.copy()\n",
    "    request_params['page'] = current_page\n",
    "\n",
    "    try:\n",
    "        # Use session.get() instead of requests.get() to utilize retry logic\n",
    "        response = session.get(product_list_base_url, headers=headers, params=request_params)\n",
    "        response.raise_for_status() \n",
    "        data = response.json()\n",
    "\n",
    "        if current_page == 1:\n",
    "            print(\"\\n--- FIRST PRODUCT LISTING PAGE RAW JSON RESPONSE (for debugging) ---\")\n",
    "            print(json.dumps(data, indent=2)[:2000])\n",
    "            print(\"--------------------------------------------------------------------\\n\")\n",
    "\n",
    "        total_count_found = data.get('totalResultCount', 0)\n",
    "        pagination_info = data.get('pagination', {})\n",
    "        total_pages_found = pagination_info.get('totalPages', current_page)\n",
    "        \n",
    "        products_on_page = data.get('plpList', {}).get('productList', []) \n",
    "        \n",
    "        if current_page == 1:\n",
    "            total_count = total_count_found\n",
    "            total_pages = total_pages_found\n",
    "            if total_count == 0 and total_pages > 0 and len(products_on_page) > 0:\n",
    "                 total_count = total_pages * base_params['page-size']\n",
    "            \n",
    "            print(f\"Total products (extracted, potentially estimated): {total_count}, Total pages (extracted): {total_pages}\")\n",
    "            \n",
    "            if not products_on_page and total_count > 0:\n",
    "                print(\"Warning: API returned total products > 0 but no items found on this page via 'plpList.productList'. Exiting.\")\n",
    "                break \n",
    "\n",
    "        all_products_raw.extend(products_on_page)\n",
    "\n",
    "        current_page += 1\n",
    "        time.sleep(0.5)\n",
    "        if current_page > total_pages:\n",
    "            break\n",
    "\n",
    "    except requests.exceptions.RequestException as e:\n",
    "        print(f\"Error during product listing request on page {current_page}: {e}\")\n",
    "        break \n",
    "    except json.JSONDecodeError:\n",
    "        print(f\"Error decoding JSON response on page {current_page}. Response content: {response.text[:500]}...\")\n",
    "        break\n",
    "    except KeyError as e:\n",
    "        print(f\"Key error in product listing response on page {current_page}: {e}. Response JSON: {json.dumps(data, indent=2)[:500]}...\")\n",
    "        break\n",
    "\n",
    "print(f\"Finished scraping {len(all_products_raw)} raw product entries.\")\n",
    "\n",
    "# Data Flattening \n",
    "flattened_products = []\n",
    "for i, item in enumerate(tqdm(all_products_raw, desc=\"Fetching Supplier Details\", unit=\"product\")):\n",
    "    product_info = {}\n",
    "\n",
    "    product_info['id'] = item.get('id') \n",
    "    product_info['sku'] = item.get('articleId') \n",
    "    if not product_info['sku']:\n",
    "        product_info['sku'] = item.get('id')\n",
    "        \n",
    "    product_info['name'] = item.get('productName') \n",
    "    product_info['brandName'] = item.get('brandName') \n",
    "    product_info['url'] = item.get('url') \n",
    "    product_info['canonical_url'] = f\"https://www2.hm.com{item.get('url')}\" if item.get('url') else None\n",
    "\n",
    "    prices_list = item.get('prices', [])\n",
    "    if prices_list:\n",
    "        main_price = prices_list[0]\n",
    "        product_info['final_price_value'] = main_price.get('price')\n",
    "        formatted_price = main_price.get('formattedPrice', '')\n",
    "        if formatted_price:\n",
    "            currency_match = re.match(r'^\\W+', formatted_price)\n",
    "            product_info['final_price_currency'] = currency_match.group(0).strip() if currency_match else None\n",
    "        else:\n",
    "            product_info['final_price_currency'] = None\n",
    "\n",
    "        product_info['regular_price_value'] = main_price.get('price')\n",
    "        product_info['regular_price_currency'] = product_info['final_price_currency']\n",
    "\n",
    "    availability_info = item.get('availability', {})\n",
    "    product_info['in_stock'] = availability_info.get('stockState') == 'Available'\n",
    "    product_info['coming_soon'] = availability_info.get('comingSoon')\n",
    "\n",
    "    images_list = item.get('images', [])\n",
    "    image_urls_parsed = [{'url': img.get('url')} for img in images_list]\n",
    "    product_info['all_image_data'] = json.dumps(image_urls_parsed)\n",
    "\n",
    "    swatches_list = item.get('swatches', [])\n",
    "    swatch_data = []\n",
    "    for swatch in swatches_list:\n",
    "        swatch_data.append({\n",
    "            'articleId': swatch.get('articleId'),\n",
    "            'url': f\"https://www2.hm.com{swatch.get('url')}\" if swatch.get('url') else None,\n",
    "            'colorName': swatch.get('colorName'),\n",
    "            'colorCode': swatch.get('colorCode'),\n",
    "            'productImage': swatch.get('productImage')\n",
    "        })\n",
    "    product_info['swatch_data'] = json.dumps(swatch_data)\n",
    "    \n",
    "    product_info['colorName_main'] = item.get('colorName')\n",
    "    product_info['colorCode_main'] = item.get('colorCode')\n",
    "    product_info['colourShades'] = item.get('colourShades')\n",
    "\n",
    "    sizes_list = item.get('sizes', [])\n",
    "    size_data = [{'id': size.get('id'), 'label': size.get('label')} for size in sizes_list]\n",
    "    product_info['available_sizes'] = json.dumps(size_data)\n",
    "\n",
    "    product_info['mainCatCode'] = item.get('mainCatCode')\n",
    "    product_info['sellingAttribute'] = item.get('sellingAttribute')\n",
    "    product_info['newArrival'] = item.get('newArrival')\n",
    "    product_info['isSale'] = item.get('isSale', False)\n",
    "    product_info['modelImage'] = item.get('modelImage')\n",
    "    product_info['colors'] = item.get('colors')\n",
    "\n",
    "    # Supplier Details\n",
    "    supplier_country = None\n",
    "    supplier_name = None\n",
    "    factory_name = None\n",
    "    factory_address = None\n",
    "    workers_number = None\n",
    "\n",
    "    if product_info['sku']: \n",
    "        supplier_detail_url = f\"{supplier_detail_base_url}{product_info['sku']}\"\n",
    "        try:\n",
    "            supplier_response = session.get(supplier_detail_url, headers=headers)\n",
    "            supplier_response.raise_for_status() \n",
    "            supplier_data = supplier_response.json()\n",
    "\n",
    "            countries = supplier_data.get('countries', [])\n",
    "            if countries:\n",
    "                first_country = countries[0]\n",
    "                supplier_country = first_country.get('name')\n",
    "                \n",
    "                suppliers = first_country.get('suppliers', [])\n",
    "                if suppliers:\n",
    "                    first_supplier = suppliers[0]\n",
    "                    supplier_name = first_supplier.get('name')\n",
    "                    \n",
    "                    factories = first_supplier.get('factories', [])\n",
    "                    if factories:\n",
    "                        first_factory = factories[0]\n",
    "                        factory_name = first_factory.get('name')\n",
    "                        factory_address = first_factory.get('address')\n",
    "                        workers_number = first_factory.get('workersNumber')\n",
    "            \n",
    "        except requests.exceptions.RequestException as e:\n",
    "            tqdm.write(f\"Error fetching supplier for SKU {product_info['sku']} after {RETRY_MAX} retries: {e}\")\n",
    "        except json.JSONDecodeError:\n",
    "            tqdm.write(f\"Error decoding supplier JSON for SKU {product_info['sku']}. Response: {supplier_response.text[:100]}...\")\n",
    "        except Exception as e:\n",
    "            tqdm.write(f\"Unexpected error parsing supplier data for SKU {product_info['sku']}: {e}\")\n",
    "\n",
    "\n",
    "    product_info['supplier_country'] = supplier_country\n",
    "    product_info['supplier_name'] = supplier_name\n",
    "    product_info['factory_name'] = factory_name\n",
    "    product_info['factory_address'] = factory_address\n",
    "    product_info['factory_workers_number'] = workers_number\n",
    "\n",
    "    flattened_products.append(product_info)\n",
    "\n",
    "df = pd.DataFrame(flattened_products)\n",
    "print(\"\\nSample data:\")\n",
    "print(df.head())\n",
    "print(\"\\nDataFrame columns:\")\n",
    "print(df.columns)\n",
    "\n",
    "df.to_csv('HnM_CLOTHING_MEN_USA_010725.csv', index=False, encoding='utf-8')\n",
    "print(f\"Data saved to HnM_CLOTHING_MEN_USA_010725.csv. Total products with data: {len(df)}\")"
   ]
  }
 ],
 "metadata": {
  "kernelspec": {
   "display_name": "Python 3 (ipykernel)",
   "language": "python",
   "name": "python3"
  },
  "language_info": {
   "codemirror_mode": {
    "name": "ipython",
    "version": 3
   },
   "file_extension": ".py",
   "mimetype": "text/x-python",
   "name": "python",
   "nbconvert_exporter": "python",
   "pygments_lexer": "ipython3",
   "version": "3.13.2"
  }
 },
 "nbformat": 4,
 "nbformat_minor": 5
}
